{
 "cells": [
  {
   "cell_type": "markdown",
   "metadata": {},
   "source": [
    "# Описание проекта\n",
    "Я — аналитик крупного интернет-магазина. Вместе с отделом маркетинга вы подготовили список гипотез для увеличения выручки.\n",
    "Приоритизируйте гипотезы, запустите A/B-тест и проанализируйте результаты.\n",
    "\n",
    "**Цель исследования:**\n",
    "\n",
    "Приоритизировать гипотезы, запустить A/B-тест и проанализировать результаты.\n",
    "\n",
    "**Ход исследования:**\n",
    "1. Приоритизация гипотез\n",
    "    * Примените фреймворк ICE для приоритизации гипотез. Отсортируйте их по убыванию приоритета.\n",
    "    * Примените фреймворк RICE для приоритизации гипотез. Отсортируйте их по убыванию приоритета.\n",
    "    * Укажите, как изменилась приоритизация гипотез при применении RICE вместо ICE. Объясните, почему так произошло.\n",
    "2. Анализ А/В теста\n",
    "\n",
    "**Описание данных:**\n",
    "\n",
    "Данные для приоритизации гипотез: \n",
    "\n",
    "Файл `/datasets/hypothesis.csv`\n",
    "* `Hypothesis` — краткое описание гипотезы;\n",
    "* `Reach` — охват пользователей по 10-балльной шкале;\n",
    "* `Impact` — влияние на пользователей по 10-балльной шкале;\n",
    "* `Confidence` — уверенность в гипотезе по 10-балльной шкале;\n",
    "* `Efforts` — затраты ресурсов на проверку гипотезы по 10-балльной шкале. Чем больше значение Efforts, тем дороже проверка гипотезы.\n",
    "\n",
    "Данные для анализа:\n",
    "\n",
    "Файл `/datasets/orders.csv`\n",
    "* `transactionId` — идентификатор заказа;\n",
    "* `visitorId` — идентификатор пользователя, совершившего заказ;\n",
    "* `date` — дата, когда был совершён заказ;\n",
    "* `revenue` — выручка заказа;\n",
    "* `group` — группа A/B-теста, в которую попал заказ.\n",
    "\n",
    "Файл `/datasets/visitors.csv`\n",
    "* `date` — дата;\n",
    "* `group` — группа A/B-теста;\n",
    "* `visitors` — количество пользователей в указанную дату в указанной группе A/B-теста\n",
    "\n",
    "**Импорт необходимых библиотек**"
   ]
  },
  {
   "cell_type": "code",
   "execution_count": 1,
   "metadata": {},
   "outputs": [],
   "source": [
    "import pandas as pd\n",
    "import numpy as np\n",
    "import scipy.stats as stats\n",
    "import seaborn as sns\n",
    "import matplotlib.pyplot as plt\n",
    "pd.set_option(\"max_colwidth\", 1000)"
   ]
  },
  {
   "cell_type": "markdown",
   "metadata": {},
   "source": [
    "## Приоритизация гипотез"
   ]
  },
  {
   "cell_type": "markdown",
   "metadata": {},
   "source": [
    "### Применим фреймворк ICE для приоритизации гипотез. Отсортируем их по убыванию приоритета."
   ]
  },
  {
   "cell_type": "code",
   "execution_count": 2,
   "metadata": {},
   "outputs": [
    {
     "data": {
      "text/html": [
       "<div>\n",
       "<style scoped>\n",
       "    .dataframe tbody tr th:only-of-type {\n",
       "        vertical-align: middle;\n",
       "    }\n",
       "\n",
       "    .dataframe tbody tr th {\n",
       "        vertical-align: top;\n",
       "    }\n",
       "\n",
       "    .dataframe thead th {\n",
       "        text-align: right;\n",
       "    }\n",
       "</style>\n",
       "<table border=\"1\" class=\"dataframe\">\n",
       "  <thead>\n",
       "    <tr style=\"text-align: right;\">\n",
       "      <th></th>\n",
       "      <th>hypothesis</th>\n",
       "      <th>reach</th>\n",
       "      <th>impact</th>\n",
       "      <th>confidence</th>\n",
       "      <th>efforts</th>\n",
       "    </tr>\n",
       "  </thead>\n",
       "  <tbody>\n",
       "    <tr>\n",
       "      <th>0</th>\n",
       "      <td>Добавить два новых канала привлечения трафика, что позволит привлекать на 30% больше пользователей</td>\n",
       "      <td>3</td>\n",
       "      <td>10</td>\n",
       "      <td>8</td>\n",
       "      <td>6</td>\n",
       "    </tr>\n",
       "    <tr>\n",
       "      <th>1</th>\n",
       "      <td>Запустить собственную службу доставки, что сократит срок доставки заказов</td>\n",
       "      <td>2</td>\n",
       "      <td>5</td>\n",
       "      <td>4</td>\n",
       "      <td>10</td>\n",
       "    </tr>\n",
       "    <tr>\n",
       "      <th>2</th>\n",
       "      <td>Добавить блоки рекомендаций товаров на сайт интернет магазина, чтобы повысить конверсию и средний чек заказа</td>\n",
       "      <td>8</td>\n",
       "      <td>3</td>\n",
       "      <td>7</td>\n",
       "      <td>3</td>\n",
       "    </tr>\n",
       "    <tr>\n",
       "      <th>3</th>\n",
       "      <td>Изменить структура категорий, что увеличит конверсию, т.к. пользователи быстрее найдут нужный товар</td>\n",
       "      <td>8</td>\n",
       "      <td>3</td>\n",
       "      <td>3</td>\n",
       "      <td>8</td>\n",
       "    </tr>\n",
       "    <tr>\n",
       "      <th>4</th>\n",
       "      <td>Изменить цвет фона главной страницы, чтобы увеличить вовлеченность пользователей</td>\n",
       "      <td>3</td>\n",
       "      <td>1</td>\n",
       "      <td>1</td>\n",
       "      <td>1</td>\n",
       "    </tr>\n",
       "    <tr>\n",
       "      <th>5</th>\n",
       "      <td>Добавить страницу отзывов клиентов о магазине, что позволит увеличить количество заказов</td>\n",
       "      <td>3</td>\n",
       "      <td>2</td>\n",
       "      <td>2</td>\n",
       "      <td>3</td>\n",
       "    </tr>\n",
       "    <tr>\n",
       "      <th>6</th>\n",
       "      <td>Показать на главной странице баннеры с актуальными акциями и распродажами, чтобы увеличить конверсию</td>\n",
       "      <td>5</td>\n",
       "      <td>3</td>\n",
       "      <td>8</td>\n",
       "      <td>3</td>\n",
       "    </tr>\n",
       "    <tr>\n",
       "      <th>7</th>\n",
       "      <td>Добавить форму подписки на все основные страницы, чтобы собрать базу клиентов для email-рассылок</td>\n",
       "      <td>10</td>\n",
       "      <td>7</td>\n",
       "      <td>8</td>\n",
       "      <td>5</td>\n",
       "    </tr>\n",
       "    <tr>\n",
       "      <th>8</th>\n",
       "      <td>Запустить акцию, дающую скидку на товар в день рождения</td>\n",
       "      <td>1</td>\n",
       "      <td>9</td>\n",
       "      <td>9</td>\n",
       "      <td>5</td>\n",
       "    </tr>\n",
       "  </tbody>\n",
       "</table>\n",
       "</div>"
      ],
      "text/plain": [
       "                                                                                                     hypothesis  \\\n",
       "0            Добавить два новых канала привлечения трафика, что позволит привлекать на 30% больше пользователей   \n",
       "1                                     Запустить собственную службу доставки, что сократит срок доставки заказов   \n",
       "2  Добавить блоки рекомендаций товаров на сайт интернет магазина, чтобы повысить конверсию и средний чек заказа   \n",
       "3           Изменить структура категорий, что увеличит конверсию, т.к. пользователи быстрее найдут нужный товар   \n",
       "4                              Изменить цвет фона главной страницы, чтобы увеличить вовлеченность пользователей   \n",
       "5                      Добавить страницу отзывов клиентов о магазине, что позволит увеличить количество заказов   \n",
       "6          Показать на главной странице баннеры с актуальными акциями и распродажами, чтобы увеличить конверсию   \n",
       "7              Добавить форму подписки на все основные страницы, чтобы собрать базу клиентов для email-рассылок   \n",
       "8                                                       Запустить акцию, дающую скидку на товар в день рождения   \n",
       "\n",
       "   reach  impact  confidence  efforts  \n",
       "0      3      10           8        6  \n",
       "1      2       5           4       10  \n",
       "2      8       3           7        3  \n",
       "3      8       3           3        8  \n",
       "4      3       1           1        1  \n",
       "5      3       2           2        3  \n",
       "6      5       3           8        3  \n",
       "7     10       7           8        5  \n",
       "8      1       9           9        5  "
      ]
     },
     "execution_count": 2,
     "metadata": {},
     "output_type": "execute_result"
    }
   ],
   "source": [
    "# Прочитаем данные\n",
    "hypothesis = pd.read_csv('/datasets/hypothesis.csv') \n",
    "# Изменим название столбцов\n",
    "hypothesis.columns = ['hypothesis', 'reach', 'impact', 'confidence', 'efforts']\n",
    "hypothesis"
   ]
  },
  {
   "cell_type": "code",
   "execution_count": 3,
   "metadata": {},
   "outputs": [
    {
     "data": {
      "text/html": [
       "<div>\n",
       "<style scoped>\n",
       "    .dataframe tbody tr th:only-of-type {\n",
       "        vertical-align: middle;\n",
       "    }\n",
       "\n",
       "    .dataframe tbody tr th {\n",
       "        vertical-align: top;\n",
       "    }\n",
       "\n",
       "    .dataframe thead th {\n",
       "        text-align: right;\n",
       "    }\n",
       "</style>\n",
       "<table border=\"1\" class=\"dataframe\">\n",
       "  <thead>\n",
       "    <tr style=\"text-align: right;\">\n",
       "      <th></th>\n",
       "      <th>hypothesis</th>\n",
       "      <th>ICE</th>\n",
       "    </tr>\n",
       "  </thead>\n",
       "  <tbody>\n",
       "    <tr>\n",
       "      <th>8</th>\n",
       "      <td>Запустить акцию, дающую скидку на товар в день рождения</td>\n",
       "      <td>16.20</td>\n",
       "    </tr>\n",
       "    <tr>\n",
       "      <th>0</th>\n",
       "      <td>Добавить два новых канала привлечения трафика, что позволит привлекать на 30% больше пользователей</td>\n",
       "      <td>13.33</td>\n",
       "    </tr>\n",
       "    <tr>\n",
       "      <th>7</th>\n",
       "      <td>Добавить форму подписки на все основные страницы, чтобы собрать базу клиентов для email-рассылок</td>\n",
       "      <td>11.20</td>\n",
       "    </tr>\n",
       "    <tr>\n",
       "      <th>6</th>\n",
       "      <td>Показать на главной странице баннеры с актуальными акциями и распродажами, чтобы увеличить конверсию</td>\n",
       "      <td>8.00</td>\n",
       "    </tr>\n",
       "    <tr>\n",
       "      <th>2</th>\n",
       "      <td>Добавить блоки рекомендаций товаров на сайт интернет магазина, чтобы повысить конверсию и средний чек заказа</td>\n",
       "      <td>7.00</td>\n",
       "    </tr>\n",
       "    <tr>\n",
       "      <th>1</th>\n",
       "      <td>Запустить собственную службу доставки, что сократит срок доставки заказов</td>\n",
       "      <td>2.00</td>\n",
       "    </tr>\n",
       "    <tr>\n",
       "      <th>5</th>\n",
       "      <td>Добавить страницу отзывов клиентов о магазине, что позволит увеличить количество заказов</td>\n",
       "      <td>1.33</td>\n",
       "    </tr>\n",
       "    <tr>\n",
       "      <th>3</th>\n",
       "      <td>Изменить структура категорий, что увеличит конверсию, т.к. пользователи быстрее найдут нужный товар</td>\n",
       "      <td>1.12</td>\n",
       "    </tr>\n",
       "    <tr>\n",
       "      <th>4</th>\n",
       "      <td>Изменить цвет фона главной страницы, чтобы увеличить вовлеченность пользователей</td>\n",
       "      <td>1.00</td>\n",
       "    </tr>\n",
       "  </tbody>\n",
       "</table>\n",
       "</div>"
      ],
      "text/plain": [
       "                                                                                                     hypothesis  \\\n",
       "8                                                       Запустить акцию, дающую скидку на товар в день рождения   \n",
       "0            Добавить два новых канала привлечения трафика, что позволит привлекать на 30% больше пользователей   \n",
       "7              Добавить форму подписки на все основные страницы, чтобы собрать базу клиентов для email-рассылок   \n",
       "6          Показать на главной странице баннеры с актуальными акциями и распродажами, чтобы увеличить конверсию   \n",
       "2  Добавить блоки рекомендаций товаров на сайт интернет магазина, чтобы повысить конверсию и средний чек заказа   \n",
       "1                                     Запустить собственную службу доставки, что сократит срок доставки заказов   \n",
       "5                      Добавить страницу отзывов клиентов о магазине, что позволит увеличить количество заказов   \n",
       "3           Изменить структура категорий, что увеличит конверсию, т.к. пользователи быстрее найдут нужный товар   \n",
       "4                              Изменить цвет фона главной страницы, чтобы увеличить вовлеченность пользователей   \n",
       "\n",
       "     ICE  \n",
       "8  16.20  \n",
       "0  13.33  \n",
       "7  11.20  \n",
       "6   8.00  \n",
       "2   7.00  \n",
       "1   2.00  \n",
       "5   1.33  \n",
       "3   1.12  \n",
       "4   1.00  "
      ]
     },
     "execution_count": 3,
     "metadata": {},
     "output_type": "execute_result"
    }
   ],
   "source": [
    "# Применим ICE и отсортируем\n",
    "hypothesis['ICE'] = hypothesis['impact'] * hypothesis['confidence'] / hypothesis['efforts']\n",
    "hypothesis_ICE = hypothesis[['hypothesis', 'ICE']].sort_values(by='ICE', ascending=False).round(2)\n",
    "hypothesis_ICE"
   ]
  },
  {
   "cell_type": "markdown",
   "metadata": {},
   "source": [
    "### Применим фреймворк RICE для приоритизации гипотез. Отсортируем их по убыванию приоритета."
   ]
  },
  {
   "cell_type": "code",
   "execution_count": 4,
   "metadata": {},
   "outputs": [
    {
     "data": {
      "text/html": [
       "<div>\n",
       "<style scoped>\n",
       "    .dataframe tbody tr th:only-of-type {\n",
       "        vertical-align: middle;\n",
       "    }\n",
       "\n",
       "    .dataframe tbody tr th {\n",
       "        vertical-align: top;\n",
       "    }\n",
       "\n",
       "    .dataframe thead th {\n",
       "        text-align: right;\n",
       "    }\n",
       "</style>\n",
       "<table border=\"1\" class=\"dataframe\">\n",
       "  <thead>\n",
       "    <tr style=\"text-align: right;\">\n",
       "      <th></th>\n",
       "      <th>hypothesis</th>\n",
       "      <th>RICE</th>\n",
       "    </tr>\n",
       "  </thead>\n",
       "  <tbody>\n",
       "    <tr>\n",
       "      <th>7</th>\n",
       "      <td>Добавить форму подписки на все основные страницы, чтобы собрать базу клиентов для email-рассылок</td>\n",
       "      <td>112.0</td>\n",
       "    </tr>\n",
       "    <tr>\n",
       "      <th>2</th>\n",
       "      <td>Добавить блоки рекомендаций товаров на сайт интернет магазина, чтобы повысить конверсию и средний чек заказа</td>\n",
       "      <td>56.0</td>\n",
       "    </tr>\n",
       "    <tr>\n",
       "      <th>0</th>\n",
       "      <td>Добавить два новых канала привлечения трафика, что позволит привлекать на 30% больше пользователей</td>\n",
       "      <td>40.0</td>\n",
       "    </tr>\n",
       "    <tr>\n",
       "      <th>6</th>\n",
       "      <td>Показать на главной странице баннеры с актуальными акциями и распродажами, чтобы увеличить конверсию</td>\n",
       "      <td>40.0</td>\n",
       "    </tr>\n",
       "    <tr>\n",
       "      <th>8</th>\n",
       "      <td>Запустить акцию, дающую скидку на товар в день рождения</td>\n",
       "      <td>16.2</td>\n",
       "    </tr>\n",
       "    <tr>\n",
       "      <th>3</th>\n",
       "      <td>Изменить структура категорий, что увеличит конверсию, т.к. пользователи быстрее найдут нужный товар</td>\n",
       "      <td>9.0</td>\n",
       "    </tr>\n",
       "    <tr>\n",
       "      <th>1</th>\n",
       "      <td>Запустить собственную службу доставки, что сократит срок доставки заказов</td>\n",
       "      <td>4.0</td>\n",
       "    </tr>\n",
       "    <tr>\n",
       "      <th>5</th>\n",
       "      <td>Добавить страницу отзывов клиентов о магазине, что позволит увеличить количество заказов</td>\n",
       "      <td>4.0</td>\n",
       "    </tr>\n",
       "    <tr>\n",
       "      <th>4</th>\n",
       "      <td>Изменить цвет фона главной страницы, чтобы увеличить вовлеченность пользователей</td>\n",
       "      <td>3.0</td>\n",
       "    </tr>\n",
       "  </tbody>\n",
       "</table>\n",
       "</div>"
      ],
      "text/plain": [
       "                                                                                                     hypothesis  \\\n",
       "7              Добавить форму подписки на все основные страницы, чтобы собрать базу клиентов для email-рассылок   \n",
       "2  Добавить блоки рекомендаций товаров на сайт интернет магазина, чтобы повысить конверсию и средний чек заказа   \n",
       "0            Добавить два новых канала привлечения трафика, что позволит привлекать на 30% больше пользователей   \n",
       "6          Показать на главной странице баннеры с актуальными акциями и распродажами, чтобы увеличить конверсию   \n",
       "8                                                       Запустить акцию, дающую скидку на товар в день рождения   \n",
       "3           Изменить структура категорий, что увеличит конверсию, т.к. пользователи быстрее найдут нужный товар   \n",
       "1                                     Запустить собственную службу доставки, что сократит срок доставки заказов   \n",
       "5                      Добавить страницу отзывов клиентов о магазине, что позволит увеличить количество заказов   \n",
       "4                              Изменить цвет фона главной страницы, чтобы увеличить вовлеченность пользователей   \n",
       "\n",
       "    RICE  \n",
       "7  112.0  \n",
       "2   56.0  \n",
       "0   40.0  \n",
       "6   40.0  \n",
       "8   16.2  \n",
       "3    9.0  \n",
       "1    4.0  \n",
       "5    4.0  \n",
       "4    3.0  "
      ]
     },
     "execution_count": 4,
     "metadata": {},
     "output_type": "execute_result"
    }
   ],
   "source": [
    "# Применим RICE и отсортируем\n",
    "hypothesis['RICE'] = hypothesis['reach'] * hypothesis['impact'] * hypothesis['confidence'] / hypothesis['efforts']\n",
    "hypothesis_RICE = hypothesis[['hypothesis', 'RICE']].sort_values(by='RICE', ascending=False)\n",
    "hypothesis_RICE"
   ]
  },
  {
   "cell_type": "markdown",
   "metadata": {},
   "source": [
    "### Как изменилась приоритизация гипотез при применении RICE вместо ICE"
   ]
  },
  {
   "cell_type": "code",
   "execution_count": 5,
   "metadata": {},
   "outputs": [
    {
     "data": {
      "text/html": [
       "<div>\n",
       "<style scoped>\n",
       "    .dataframe tbody tr th:only-of-type {\n",
       "        vertical-align: middle;\n",
       "    }\n",
       "\n",
       "    .dataframe tbody tr th {\n",
       "        vertical-align: top;\n",
       "    }\n",
       "\n",
       "    .dataframe thead th {\n",
       "        text-align: right;\n",
       "    }\n",
       "</style>\n",
       "<table border=\"1\" class=\"dataframe\">\n",
       "  <thead>\n",
       "    <tr style=\"text-align: right;\">\n",
       "      <th></th>\n",
       "      <th>hypothesis</th>\n",
       "      <th>ICE</th>\n",
       "      <th>RICE</th>\n",
       "    </tr>\n",
       "  </thead>\n",
       "  <tbody>\n",
       "    <tr>\n",
       "      <th>2</th>\n",
       "      <td>Добавить форму подписки на все основные страницы, чтобы собрать базу клиентов для email-рассылок</td>\n",
       "      <td>11.20</td>\n",
       "      <td>112.0</td>\n",
       "    </tr>\n",
       "    <tr>\n",
       "      <th>4</th>\n",
       "      <td>Добавить блоки рекомендаций товаров на сайт интернет магазина, чтобы повысить конверсию и средний чек заказа</td>\n",
       "      <td>7.00</td>\n",
       "      <td>56.0</td>\n",
       "    </tr>\n",
       "    <tr>\n",
       "      <th>1</th>\n",
       "      <td>Добавить два новых канала привлечения трафика, что позволит привлекать на 30% больше пользователей</td>\n",
       "      <td>13.33</td>\n",
       "      <td>40.0</td>\n",
       "    </tr>\n",
       "    <tr>\n",
       "      <th>3</th>\n",
       "      <td>Показать на главной странице баннеры с актуальными акциями и распродажами, чтобы увеличить конверсию</td>\n",
       "      <td>8.00</td>\n",
       "      <td>40.0</td>\n",
       "    </tr>\n",
       "    <tr>\n",
       "      <th>0</th>\n",
       "      <td>Запустить акцию, дающую скидку на товар в день рождения</td>\n",
       "      <td>16.20</td>\n",
       "      <td>16.2</td>\n",
       "    </tr>\n",
       "    <tr>\n",
       "      <th>7</th>\n",
       "      <td>Изменить структура категорий, что увеличит конверсию, т.к. пользователи быстрее найдут нужный товар</td>\n",
       "      <td>1.12</td>\n",
       "      <td>9.0</td>\n",
       "    </tr>\n",
       "    <tr>\n",
       "      <th>5</th>\n",
       "      <td>Запустить собственную службу доставки, что сократит срок доставки заказов</td>\n",
       "      <td>2.00</td>\n",
       "      <td>4.0</td>\n",
       "    </tr>\n",
       "    <tr>\n",
       "      <th>6</th>\n",
       "      <td>Добавить страницу отзывов клиентов о магазине, что позволит увеличить количество заказов</td>\n",
       "      <td>1.33</td>\n",
       "      <td>4.0</td>\n",
       "    </tr>\n",
       "    <tr>\n",
       "      <th>8</th>\n",
       "      <td>Изменить цвет фона главной страницы, чтобы увеличить вовлеченность пользователей</td>\n",
       "      <td>1.00</td>\n",
       "      <td>3.0</td>\n",
       "    </tr>\n",
       "  </tbody>\n",
       "</table>\n",
       "</div>"
      ],
      "text/plain": [
       "                                                                                                     hypothesis  \\\n",
       "2              Добавить форму подписки на все основные страницы, чтобы собрать базу клиентов для email-рассылок   \n",
       "4  Добавить блоки рекомендаций товаров на сайт интернет магазина, чтобы повысить конверсию и средний чек заказа   \n",
       "1            Добавить два новых канала привлечения трафика, что позволит привлекать на 30% больше пользователей   \n",
       "3          Показать на главной странице баннеры с актуальными акциями и распродажами, чтобы увеличить конверсию   \n",
       "0                                                       Запустить акцию, дающую скидку на товар в день рождения   \n",
       "7           Изменить структура категорий, что увеличит конверсию, т.к. пользователи быстрее найдут нужный товар   \n",
       "5                                     Запустить собственную службу доставки, что сократит срок доставки заказов   \n",
       "6                      Добавить страницу отзывов клиентов о магазине, что позволит увеличить количество заказов   \n",
       "8                              Изменить цвет фона главной страницы, чтобы увеличить вовлеченность пользователей   \n",
       "\n",
       "     ICE   RICE  \n",
       "2  11.20  112.0  \n",
       "4   7.00   56.0  \n",
       "1  13.33   40.0  \n",
       "3   8.00   40.0  \n",
       "0  16.20   16.2  \n",
       "7   1.12    9.0  \n",
       "5   2.00    4.0  \n",
       "6   1.33    4.0  \n",
       "8   1.00    3.0  "
      ]
     },
     "execution_count": 5,
     "metadata": {},
     "output_type": "execute_result"
    }
   ],
   "source": [
    "pd.set_option(\"max_colwidth\", 1000)\n",
    "priority_of_hypothesis = hypothesis_ICE.merge(hypothesis_RICE, on='hypothesis')\n",
    "priority_of_hypothesis.sort_values('RICE', ascending=False)"
   ]
  },
  {
   "cell_type": "code",
   "execution_count": 6,
   "metadata": {},
   "outputs": [],
   "source": [
    "pd.reset_option(\"max_colwidth\")"
   ]
  },
  {
   "cell_type": "markdown",
   "metadata": {},
   "source": [
    "По фреймворку ICE наибольшую оценку имели гпиотезы 8,0 и 7. После применения фреймворка RICE приоритеты изменились на гпиотезы 7,2 и 0. Это объясняется тем, что в случае фреймворка ICE в отличие от RICE мы не учитывали охват изменений, тогда как это важная составляющая оценки гипотез.\n",
    "\n",
    "В нашем случае наиболее приоритетными гипотезами будут 2, 4, 1."
   ]
  },
  {
   "cell_type": "markdown",
   "metadata": {},
   "source": [
    "## Анализ А/В теста"
   ]
  },
  {
   "cell_type": "markdown",
   "metadata": {},
   "source": [
    "### Подготовка данных к анализу"
   ]
  },
  {
   "cell_type": "markdown",
   "metadata": {},
   "source": [
    "После проведения A/B теста получили результаты, которые описаны в файлах `/datasets/orders.csv` и `/datasets/visitors.csv`\n",
    "\n",
    "Выгрузим их, проверим и обработаем данные, при необходимости"
   ]
  },
  {
   "cell_type": "code",
   "execution_count": 7,
   "metadata": {},
   "outputs": [],
   "source": [
    "orders = pd.read_csv('/datasets/orders.csv')\n",
    "visitors = pd.read_csv('/datasets/visitors.csv')\n",
    "#Функция для получения первичных данных\n",
    "def get_data(df):\n",
    "    df.columns = [x.lower().replace(' ', '_') for x in df.columns.values]\n",
    "    print('Общая информация')\n",
    "    display(df.info())\n",
    "    print('Первые строки')\n",
    "    display(df.head())\n",
    "    print('Дубликатов :', df.duplicated().sum())"
   ]
  },
  {
   "cell_type": "code",
   "execution_count": 8,
   "metadata": {},
   "outputs": [
    {
     "name": "stdout",
     "output_type": "stream",
     "text": [
      "Общая информация\n",
      "<class 'pandas.core.frame.DataFrame'>\n",
      "RangeIndex: 1197 entries, 0 to 1196\n",
      "Data columns (total 5 columns):\n",
      " #   Column         Non-Null Count  Dtype         \n",
      "---  ------         --------------  -----         \n",
      " 0   transactionid  1197 non-null   int64         \n",
      " 1   visitorid      1197 non-null   int64         \n",
      " 2   date           1197 non-null   datetime64[ns]\n",
      " 3   revenue        1197 non-null   int64         \n",
      " 4   group          1197 non-null   object        \n",
      "dtypes: datetime64[ns](1), int64(3), object(1)\n",
      "memory usage: 46.9+ KB\n"
     ]
    },
    {
     "data": {
      "text/plain": [
       "None"
      ]
     },
     "metadata": {},
     "output_type": "display_data"
    },
    {
     "name": "stdout",
     "output_type": "stream",
     "text": [
      "Первые строки\n"
     ]
    },
    {
     "data": {
      "text/html": [
       "<div>\n",
       "<style scoped>\n",
       "    .dataframe tbody tr th:only-of-type {\n",
       "        vertical-align: middle;\n",
       "    }\n",
       "\n",
       "    .dataframe tbody tr th {\n",
       "        vertical-align: top;\n",
       "    }\n",
       "\n",
       "    .dataframe thead th {\n",
       "        text-align: right;\n",
       "    }\n",
       "</style>\n",
       "<table border=\"1\" class=\"dataframe\">\n",
       "  <thead>\n",
       "    <tr style=\"text-align: right;\">\n",
       "      <th></th>\n",
       "      <th>transactionid</th>\n",
       "      <th>visitorid</th>\n",
       "      <th>date</th>\n",
       "      <th>revenue</th>\n",
       "      <th>group</th>\n",
       "    </tr>\n",
       "  </thead>\n",
       "  <tbody>\n",
       "    <tr>\n",
       "      <th>0</th>\n",
       "      <td>3667963787</td>\n",
       "      <td>3312258926</td>\n",
       "      <td>2019-08-15</td>\n",
       "      <td>1650</td>\n",
       "      <td>B</td>\n",
       "    </tr>\n",
       "    <tr>\n",
       "      <th>1</th>\n",
       "      <td>2804400009</td>\n",
       "      <td>3642806036</td>\n",
       "      <td>2019-08-15</td>\n",
       "      <td>730</td>\n",
       "      <td>B</td>\n",
       "    </tr>\n",
       "    <tr>\n",
       "      <th>2</th>\n",
       "      <td>2961555356</td>\n",
       "      <td>4069496402</td>\n",
       "      <td>2019-08-15</td>\n",
       "      <td>400</td>\n",
       "      <td>A</td>\n",
       "    </tr>\n",
       "    <tr>\n",
       "      <th>3</th>\n",
       "      <td>3797467345</td>\n",
       "      <td>1196621759</td>\n",
       "      <td>2019-08-15</td>\n",
       "      <td>9759</td>\n",
       "      <td>B</td>\n",
       "    </tr>\n",
       "    <tr>\n",
       "      <th>4</th>\n",
       "      <td>2282983706</td>\n",
       "      <td>2322279887</td>\n",
       "      <td>2019-08-15</td>\n",
       "      <td>2308</td>\n",
       "      <td>B</td>\n",
       "    </tr>\n",
       "  </tbody>\n",
       "</table>\n",
       "</div>"
      ],
      "text/plain": [
       "   transactionid   visitorid       date  revenue group\n",
       "0     3667963787  3312258926 2019-08-15     1650     B\n",
       "1     2804400009  3642806036 2019-08-15      730     B\n",
       "2     2961555356  4069496402 2019-08-15      400     A\n",
       "3     3797467345  1196621759 2019-08-15     9759     B\n",
       "4     2282983706  2322279887 2019-08-15     2308     B"
      ]
     },
     "metadata": {},
     "output_type": "display_data"
    },
    {
     "name": "stdout",
     "output_type": "stream",
     "text": [
      "Дубликатов : 0\n"
     ]
    }
   ],
   "source": [
    "orders['date'] = pd.to_datetime(orders['date'])\n",
    "get_data(orders)"
   ]
  },
  {
   "cell_type": "markdown",
   "metadata": {},
   "source": [
    "Все в порядке, немного поменяли название столбцов и изменили тип данных"
   ]
  },
  {
   "cell_type": "code",
   "execution_count": 9,
   "metadata": {},
   "outputs": [
    {
     "name": "stdout",
     "output_type": "stream",
     "text": [
      "Общая информация\n",
      "<class 'pandas.core.frame.DataFrame'>\n",
      "RangeIndex: 62 entries, 0 to 61\n",
      "Data columns (total 3 columns):\n",
      " #   Column    Non-Null Count  Dtype         \n",
      "---  ------    --------------  -----         \n",
      " 0   date      62 non-null     datetime64[ns]\n",
      " 1   group     62 non-null     object        \n",
      " 2   visitors  62 non-null     int64         \n",
      "dtypes: datetime64[ns](1), int64(1), object(1)\n",
      "memory usage: 1.6+ KB\n"
     ]
    },
    {
     "data": {
      "text/plain": [
       "None"
      ]
     },
     "metadata": {},
     "output_type": "display_data"
    },
    {
     "name": "stdout",
     "output_type": "stream",
     "text": [
      "Первые строки\n"
     ]
    },
    {
     "data": {
      "text/html": [
       "<div>\n",
       "<style scoped>\n",
       "    .dataframe tbody tr th:only-of-type {\n",
       "        vertical-align: middle;\n",
       "    }\n",
       "\n",
       "    .dataframe tbody tr th {\n",
       "        vertical-align: top;\n",
       "    }\n",
       "\n",
       "    .dataframe thead th {\n",
       "        text-align: right;\n",
       "    }\n",
       "</style>\n",
       "<table border=\"1\" class=\"dataframe\">\n",
       "  <thead>\n",
       "    <tr style=\"text-align: right;\">\n",
       "      <th></th>\n",
       "      <th>date</th>\n",
       "      <th>group</th>\n",
       "      <th>visitors</th>\n",
       "    </tr>\n",
       "  </thead>\n",
       "  <tbody>\n",
       "    <tr>\n",
       "      <th>0</th>\n",
       "      <td>2019-08-01</td>\n",
       "      <td>A</td>\n",
       "      <td>719</td>\n",
       "    </tr>\n",
       "    <tr>\n",
       "      <th>1</th>\n",
       "      <td>2019-08-02</td>\n",
       "      <td>A</td>\n",
       "      <td>619</td>\n",
       "    </tr>\n",
       "    <tr>\n",
       "      <th>2</th>\n",
       "      <td>2019-08-03</td>\n",
       "      <td>A</td>\n",
       "      <td>507</td>\n",
       "    </tr>\n",
       "    <tr>\n",
       "      <th>3</th>\n",
       "      <td>2019-08-04</td>\n",
       "      <td>A</td>\n",
       "      <td>717</td>\n",
       "    </tr>\n",
       "    <tr>\n",
       "      <th>4</th>\n",
       "      <td>2019-08-05</td>\n",
       "      <td>A</td>\n",
       "      <td>756</td>\n",
       "    </tr>\n",
       "  </tbody>\n",
       "</table>\n",
       "</div>"
      ],
      "text/plain": [
       "        date group  visitors\n",
       "0 2019-08-01     A       719\n",
       "1 2019-08-02     A       619\n",
       "2 2019-08-03     A       507\n",
       "3 2019-08-04     A       717\n",
       "4 2019-08-05     A       756"
      ]
     },
     "metadata": {},
     "output_type": "display_data"
    },
    {
     "name": "stdout",
     "output_type": "stream",
     "text": [
      "Дубликатов : 0\n"
     ]
    }
   ],
   "source": [
    "visitors['date'] = pd.to_datetime(visitors['date'])\n",
    "get_data(visitors)"
   ]
  },
  {
   "cell_type": "markdown",
   "metadata": {},
   "source": [
    "Все в порядке, немного поменяли название столбцов и изменили тип данных"
   ]
  },
  {
   "cell_type": "markdown",
   "metadata": {},
   "source": [
    "###  График кумулятивной выручки по группам"
   ]
  },
  {
   "cell_type": "markdown",
   "metadata": {},
   "source": [
    "Соберем кумулятивные данные"
   ]
  },
  {
   "cell_type": "code",
   "execution_count": 10,
   "metadata": {},
   "outputs": [
    {
     "data": {
      "text/html": [
       "<div>\n",
       "<style scoped>\n",
       "    .dataframe tbody tr th:only-of-type {\n",
       "        vertical-align: middle;\n",
       "    }\n",
       "\n",
       "    .dataframe tbody tr th {\n",
       "        vertical-align: top;\n",
       "    }\n",
       "\n",
       "    .dataframe thead th {\n",
       "        text-align: right;\n",
       "    }\n",
       "</style>\n",
       "<table border=\"1\" class=\"dataframe\">\n",
       "  <thead>\n",
       "    <tr style=\"text-align: right;\">\n",
       "      <th></th>\n",
       "      <th>date</th>\n",
       "      <th>group</th>\n",
       "      <th>orders</th>\n",
       "      <th>buyers</th>\n",
       "      <th>revenue</th>\n",
       "      <th>visitors</th>\n",
       "    </tr>\n",
       "  </thead>\n",
       "  <tbody>\n",
       "    <tr>\n",
       "      <th>0</th>\n",
       "      <td>2019-08-01</td>\n",
       "      <td>A</td>\n",
       "      <td>24</td>\n",
       "      <td>20</td>\n",
       "      <td>148579</td>\n",
       "      <td>719</td>\n",
       "    </tr>\n",
       "    <tr>\n",
       "      <th>1</th>\n",
       "      <td>2019-08-01</td>\n",
       "      <td>B</td>\n",
       "      <td>21</td>\n",
       "      <td>20</td>\n",
       "      <td>101217</td>\n",
       "      <td>713</td>\n",
       "    </tr>\n",
       "    <tr>\n",
       "      <th>2</th>\n",
       "      <td>2019-08-02</td>\n",
       "      <td>A</td>\n",
       "      <td>44</td>\n",
       "      <td>38</td>\n",
       "      <td>242401</td>\n",
       "      <td>1338</td>\n",
       "    </tr>\n",
       "    <tr>\n",
       "      <th>3</th>\n",
       "      <td>2019-08-02</td>\n",
       "      <td>B</td>\n",
       "      <td>45</td>\n",
       "      <td>43</td>\n",
       "      <td>266748</td>\n",
       "      <td>1294</td>\n",
       "    </tr>\n",
       "    <tr>\n",
       "      <th>4</th>\n",
       "      <td>2019-08-03</td>\n",
       "      <td>A</td>\n",
       "      <td>68</td>\n",
       "      <td>62</td>\n",
       "      <td>354874</td>\n",
       "      <td>1845</td>\n",
       "    </tr>\n",
       "  </tbody>\n",
       "</table>\n",
       "</div>"
      ],
      "text/plain": [
       "        date group  orders  buyers  revenue  visitors\n",
       "0 2019-08-01     A      24      20   148579       719\n",
       "1 2019-08-01     B      21      20   101217       713\n",
       "2 2019-08-02     A      44      38   242401      1338\n",
       "3 2019-08-02     B      45      43   266748      1294\n",
       "4 2019-08-03     A      68      62   354874      1845"
      ]
     },
     "execution_count": 10,
     "metadata": {},
     "output_type": "execute_result"
    }
   ],
   "source": [
    "#создаем массив уникальных пар значений дат и групп теста\n",
    "datesGroups = orders[['date','group']].drop_duplicates().sort_values(by=['date', 'group'])\n",
    "\n",
    "#кумулятивные показатели из orders\n",
    "ordersAggregated = datesGroups.apply(lambda x: orders[np.logical_and(x['date'] >= orders['date'], x['group']==orders['group'])]\\\n",
    ".agg({'date':'max', 'group':'max', 'transactionid':'nunique', 'visitorid':'nunique', 'revenue':'sum'}), axis = 1)\n",
    "ordersAggregated.columns = ['date', 'group', 'orders', 'buyers', 'revenue']\n",
    "#кумулятивные показатели из visitors\n",
    "visitorsAggregated = datesGroups.apply(lambda x: visitors[np.logical_and(x['date'] >= visitors['date'], x['group']==visitors['group'])]\\\n",
    ".agg({'date':'max', 'group':'max', 'visitors':'sum'}), axis = 1)\n",
    "#объединяем кумулятивные данные в одной таблице\n",
    "cumulativeData = ordersAggregated.merge(visitorsAggregated, left_on=['date', 'group'], right_on=['date', 'group'])\n",
    "cumulativeData.head(5)"
   ]
  },
  {
   "cell_type": "markdown",
   "metadata": {},
   "source": [
    "Построим графики"
   ]
  },
  {
   "cell_type": "code",
   "execution_count": 11,
   "metadata": {},
   "outputs": [
    {
     "data": {
      "image/png": "[encoded data removed]",
      "text/plain": [
       "<Figure size 720x288 with 1 Axes>"
      ]
     },
     "metadata": {
      "needs_background": "light"
     },
     "output_type": "display_data"
    }
   ],
   "source": [
    "import matplotlib.pyplot as plt\n",
    "\n",
    "# датафрейм с кумулятивным количеством заказов и кумулятивной выручкой по дням в группе А\n",
    "cumulativeRevenueA = cumulativeData[cumulativeData['group']=='A'][['date','revenue', 'orders']]\n",
    "# датафрейм с кумулятивным количеством заказов и кумулятивной выручкой по дням в группе B\n",
    "cumulativeRevenueB = cumulativeData[cumulativeData['group']=='B'][['date','revenue', 'orders']]\n",
    "\n",
    "plt.figure(figsize=(10,4))\n",
    "plt.plot(cumulativeRevenueA['date'], cumulativeRevenueA['revenue'], label='A')\n",
    "plt.plot(cumulativeRevenueB['date'], cumulativeRevenueB['revenue'], label='B')\n",
    "plt.title('График кумулятивной выручки по группам')\n",
    "plt.xlabel('Дата')\n",
    "plt.ylabel('Выручка')\n",
    "plt.legend()\n",
    "plt.show()"
   ]
  },
  {
   "cell_type": "markdown",
   "metadata": {},
   "source": [
    "Выручка увеличивается со временем, группа В показывает лучшие результаты. Также видим резкий всплеск в группе В, это связано с большим числом заказов, либо появлении более дорогих товаров. Дальше разберемся с этим"
   ]
  },
  {
   "cell_type": "markdown",
   "metadata": {},
   "source": [
    "### График кумулятивного среднего чека по группам"
   ]
  },
  {
   "cell_type": "code",
   "execution_count": 12,
   "metadata": {},
   "outputs": [
    {
     "data": {
      "image/png": "[encoded data removed]",
      "text/plain": [
       "<Figure size 720x288 with 1 Axes>"
      ]
     },
     "metadata": {
      "needs_background": "light"
     },
     "output_type": "display_data"
    }
   ],
   "source": [
    "plt.figure(figsize=(10,4))\n",
    "plt.plot(cumulativeRevenueA['date'], cumulativeRevenueA['revenue']/cumulativeRevenueA['orders'], label='A')\n",
    "plt.plot(cumulativeRevenueB['date'], cumulativeRevenueB['revenue']/cumulativeRevenueB['orders'], label='B')\n",
    "plt.title('График кумулятивного среднего чека по группам')\n",
    "plt.xlabel('Дата')\n",
    "plt.ylabel('Средний чек')\n",
    "plt.legend()\n",
    "plt.show()"
   ]
  },
  {
   "cell_type": "markdown",
   "metadata": {},
   "source": [
    "Средний чек в группе В почти всегда был выше, но резкий рост среднего чека заставляет задуматься, возможно в эту группу попали аномально крупные заказы."
   ]
  },
  {
   "cell_type": "markdown",
   "metadata": {},
   "source": [
    "### График относительного изменения кумулятивного среднего чека группы B к группе A"
   ]
  },
  {
   "cell_type": "code",
   "execution_count": 13,
   "metadata": {},
   "outputs": [
    {
     "data": {
      "image/png": "[encoded data removed]",
      "text/plain": [
       "<Figure size 720x288 with 1 Axes>"
      ]
     },
     "metadata": {
      "needs_background": "light"
     },
     "output_type": "display_data"
    }
   ],
   "source": [
    "# собираем данные в одном датафрейме\n",
    "mergedCumulativeRevenue = cumulativeRevenueA.merge(cumulativeRevenueB, left_on='date', right_on='date', how='left', suffixes=['A', 'B'])\n",
    "plt.figure(figsize=(10,4))\n",
    "plt.plot(mergedCumulativeRevenue['date'], (mergedCumulativeRevenue['revenueB']/mergedCumulativeRevenue['ordersB'])/(mergedCumulativeRevenue['revenueA']/mergedCumulativeRevenue['ordersA'])-1)\n",
    "plt.title('График относительного изменения кумулятивного среднего чека группы B к группе A')\n",
    "plt.xlabel('Дата')\n",
    "plt.ylabel('Средний чек')\n",
    "# добавляем ось X\n",
    "plt.axhline(y=0, color='black', linestyle='--')\n",
    "plt.show()"
   ]
  },
  {
   "cell_type": "markdown",
   "metadata": {},
   "source": [
    "График очень резко скачет, где-то однозначно крупные заказы и выбросы"
   ]
  },
  {
   "cell_type": "markdown",
   "metadata": {},
   "source": [
    "### График кумулятивной конверсии по группам"
   ]
  },
  {
   "cell_type": "code",
   "execution_count": 14,
   "metadata": {},
   "outputs": [
    {
     "data": {
      "image/png": "[encoded data removed]",
      "text/plain": [
       "<Figure size 720x288 with 1 Axes>"
      ]
     },
     "metadata": {
      "needs_background": "light"
     },
     "output_type": "display_data"
    }
   ],
   "source": [
    "# считаем кумулятивную конверсию\n",
    "cumulativeData['conversion'] = cumulativeData['orders']/cumulativeData['visitors']\n",
    "\n",
    "cumulativeDataA = cumulativeData[cumulativeData['group']=='A']\n",
    "cumulativeDataB = cumulativeData[cumulativeData['group']=='B']\n",
    "\n",
    "plt.figure(figsize=(10,4))\n",
    "plt.plot(cumulativeDataA['date'], cumulativeDataA['conversion'], label='A')\n",
    "plt.plot(cumulativeDataB['date'], cumulativeDataB['conversion'], label='B')\n",
    "plt.title('График кумулятивной конверсии по группам A/B')\n",
    "plt.xlabel('Дата')\n",
    "plt.ylabel('Конверсия')\n",
    "plt.legend()\n",
    "plt.show()\n",
    " "
   ]
  },
  {
   "cell_type": "markdown",
   "metadata": {},
   "source": [
    "* Группа В показывает стабильно высокую конверсия\n",
    "* Группа А проседает"
   ]
  },
  {
   "cell_type": "markdown",
   "metadata": {},
   "source": [
    "### График относительного изменения кумулятивной конверсии группы B к группе A"
   ]
  },
  {
   "cell_type": "code",
   "execution_count": 15,
   "metadata": {},
   "outputs": [
    {
     "data": {
      "image/png": "[encoded data removed]",
      "text/plain": [
       "<Figure size 720x288 with 1 Axes>"
      ]
     },
     "metadata": {
      "needs_background": "light"
     },
     "output_type": "display_data"
    }
   ],
   "source": [
    "mergedCumulativeConversions = cumulativeDataA[['date','conversion']].merge(cumulativeDataB[['date','conversion']], left_on='date', right_on='date', how='left', suffixes=['A', 'B'])\n",
    "plt.figure(figsize=(10,4))\n",
    "plt.plot(mergedCumulativeConversions['date'], ((mergedCumulativeConversions['conversionB']/mergedCumulativeConversions['conversionA'])-1))\n",
    "plt.title('График относительного изменения кумулятивной конверсии группы B к группе A')\n",
    "plt.axhline(y=0, color='black', linestyle='--')\n",
    "plt.axhline(y=0.1, color='grey', linestyle='--')\n",
    "plt.xlabel('Дата')\n",
    "plt.show()"
   ]
  },
  {
   "cell_type": "markdown",
   "metadata": {},
   "source": [
    "По прошествию недели, конверсия группы Б стабильно выше группы А. Под конец недели она понемногу падала, но сейчас направлена вверх"
   ]
  },
  {
   "cell_type": "markdown",
   "metadata": {},
   "source": [
    "### Точечный график количества заказов по пользователям"
   ]
  },
  {
   "cell_type": "code",
   "execution_count": 16,
   "metadata": {},
   "outputs": [
    {
     "data": {
      "text/html": [
       "<div>\n",
       "<style scoped>\n",
       "    .dataframe tbody tr th:only-of-type {\n",
       "        vertical-align: middle;\n",
       "    }\n",
       "\n",
       "    .dataframe tbody tr th {\n",
       "        vertical-align: top;\n",
       "    }\n",
       "\n",
       "    .dataframe thead th {\n",
       "        text-align: right;\n",
       "    }\n",
       "</style>\n",
       "<table border=\"1\" class=\"dataframe\">\n",
       "  <thead>\n",
       "    <tr style=\"text-align: right;\">\n",
       "      <th></th>\n",
       "      <th>transactionid</th>\n",
       "      <th>visitorid</th>\n",
       "      <th>date</th>\n",
       "      <th>revenue</th>\n",
       "      <th>group</th>\n",
       "    </tr>\n",
       "  </thead>\n",
       "  <tbody>\n",
       "    <tr>\n",
       "      <th>0</th>\n",
       "      <td>3667963787</td>\n",
       "      <td>3312258926</td>\n",
       "      <td>2019-08-15</td>\n",
       "      <td>1650</td>\n",
       "      <td>B</td>\n",
       "    </tr>\n",
       "    <tr>\n",
       "      <th>1</th>\n",
       "      <td>2804400009</td>\n",
       "      <td>3642806036</td>\n",
       "      <td>2019-08-15</td>\n",
       "      <td>730</td>\n",
       "      <td>B</td>\n",
       "    </tr>\n",
       "    <tr>\n",
       "      <th>2</th>\n",
       "      <td>2961555356</td>\n",
       "      <td>4069496402</td>\n",
       "      <td>2019-08-15</td>\n",
       "      <td>400</td>\n",
       "      <td>A</td>\n",
       "    </tr>\n",
       "    <tr>\n",
       "      <th>3</th>\n",
       "      <td>3797467345</td>\n",
       "      <td>1196621759</td>\n",
       "      <td>2019-08-15</td>\n",
       "      <td>9759</td>\n",
       "      <td>B</td>\n",
       "    </tr>\n",
       "    <tr>\n",
       "      <th>4</th>\n",
       "      <td>2282983706</td>\n",
       "      <td>2322279887</td>\n",
       "      <td>2019-08-15</td>\n",
       "      <td>2308</td>\n",
       "      <td>B</td>\n",
       "    </tr>\n",
       "    <tr>\n",
       "      <th>...</th>\n",
       "      <td>...</td>\n",
       "      <td>...</td>\n",
       "      <td>...</td>\n",
       "      <td>...</td>\n",
       "      <td>...</td>\n",
       "    </tr>\n",
       "    <tr>\n",
       "      <th>1192</th>\n",
       "      <td>2662137336</td>\n",
       "      <td>3733762160</td>\n",
       "      <td>2019-08-14</td>\n",
       "      <td>6490</td>\n",
       "      <td>B</td>\n",
       "    </tr>\n",
       "    <tr>\n",
       "      <th>1193</th>\n",
       "      <td>2203539145</td>\n",
       "      <td>370388673</td>\n",
       "      <td>2019-08-14</td>\n",
       "      <td>3190</td>\n",
       "      <td>A</td>\n",
       "    </tr>\n",
       "    <tr>\n",
       "      <th>1194</th>\n",
       "      <td>1807773912</td>\n",
       "      <td>573423106</td>\n",
       "      <td>2019-08-14</td>\n",
       "      <td>10550</td>\n",
       "      <td>A</td>\n",
       "    </tr>\n",
       "    <tr>\n",
       "      <th>1195</th>\n",
       "      <td>1947021204</td>\n",
       "      <td>1614305549</td>\n",
       "      <td>2019-08-14</td>\n",
       "      <td>100</td>\n",
       "      <td>A</td>\n",
       "    </tr>\n",
       "    <tr>\n",
       "      <th>1196</th>\n",
       "      <td>3936777065</td>\n",
       "      <td>2108080724</td>\n",
       "      <td>2019-08-15</td>\n",
       "      <td>202740</td>\n",
       "      <td>B</td>\n",
       "    </tr>\n",
       "  </tbody>\n",
       "</table>\n",
       "<p>1197 rows × 5 columns</p>\n",
       "</div>"
      ],
      "text/plain": [
       "      transactionid   visitorid       date  revenue group\n",
       "0        3667963787  3312258926 2019-08-15     1650     B\n",
       "1        2804400009  3642806036 2019-08-15      730     B\n",
       "2        2961555356  4069496402 2019-08-15      400     A\n",
       "3        3797467345  1196621759 2019-08-15     9759     B\n",
       "4        2282983706  2322279887 2019-08-15     2308     B\n",
       "...             ...         ...        ...      ...   ...\n",
       "1192     2662137336  3733762160 2019-08-14     6490     B\n",
       "1193     2203539145   370388673 2019-08-14     3190     A\n",
       "1194     1807773912   573423106 2019-08-14    10550     A\n",
       "1195     1947021204  1614305549 2019-08-14      100     A\n",
       "1196     3936777065  2108080724 2019-08-15   202740     B\n",
       "\n",
       "[1197 rows x 5 columns]"
      ]
     },
     "execution_count": 16,
     "metadata": {},
     "output_type": "execute_result"
    }
   ],
   "source": [
    "orders"
   ]
  },
  {
   "cell_type": "code",
   "execution_count": 17,
   "metadata": {},
   "outputs": [
    {
     "data": {
      "image/png": "[encoded data removed]",
      "text/plain": [
       "<Figure size 720x288 with 1 Axes>"
      ]
     },
     "metadata": {
      "needs_background": "light"
     },
     "output_type": "display_data"
    },
    {
     "data": {
      "image/png": "[encoded data removed]",
      "text/plain": [
       "<Figure size 720x288 with 1 Axes>"
      ]
     },
     "metadata": {
      "needs_background": "light"
     },
     "output_type": "display_data"
    }
   ],
   "source": [
    "ordersByUsers = (\n",
    "    orders.groupby('visitorid', as_index=False)\n",
    "    .agg({'transactionid': 'nunique'})\n",
    ")\n",
    "ordersByUsers.columns = ['visitorid', 'orders']\n",
    "plt.figure(figsize=(10,4))\n",
    "plt.hist(ordersByUsers['orders'])\n",
    "plt.title('Гистрограмма распределения количества заказов на одного пользователя')\n",
    "\n",
    "\n",
    "x_values = pd.Series(range(0, len(ordersByUsers)))\n",
    "plt.figure(figsize=(10,4))\n",
    "plt.scatter(x_values, ordersByUsers['orders'])\n",
    "plt.title('Точечная диаграмма числа заказов на одного пользователя')\n",
    "plt.show()"
   ]
  },
  {
   "cell_type": "markdown",
   "metadata": {},
   "source": [
    "Подавляющее число клиентов не совершают больше 2 заказов. Т.к точная доля, тех что больше 2 заказов неизвестна, нельзя точно их назвать аномалиями. Посчитаем выборочные процентили."
   ]
  },
  {
   "cell_type": "markdown",
   "metadata": {},
   "source": [
    "###  Посчитаем 95-й и 99-й перцентили количества заказов на пользователя."
   ]
  },
  {
   "cell_type": "code",
   "execution_count": 18,
   "metadata": {},
   "outputs": [
    {
     "name": "stdout",
     "output_type": "stream",
     "text": [
      "95 - 2.0\n",
      "99 - 4.0\n"
     ]
    }
   ],
   "source": [
    "print('95 -',np.percentile(ordersByUsers['orders'], 95))\n",
    "print('99 -',np.percentile(ordersByUsers['orders'], 99))"
   ]
  },
  {
   "cell_type": "markdown",
   "metadata": {},
   "source": [
    "Дествительно, больше 2 заказов совершают 5% пользователей. 2 заказа и будет границей для определения аномалий"
   ]
  },
  {
   "cell_type": "markdown",
   "metadata": {},
   "source": [
    "### Точечный график стоимостей заказов"
   ]
  },
  {
   "cell_type": "code",
   "execution_count": 19,
   "metadata": {},
   "outputs": [
    {
     "data": {
      "text/plain": [
       "Text(0.5, 1.0, 'Точечная диаграмма сумм заказов на одного пользователя')"
      ]
     },
     "execution_count": 19,
     "metadata": {},
     "output_type": "execute_result"
    },
    {
     "data": {
      "image/png": "[encoded data removed]",
      "text/plain": [
       "<Figure size 432x288 with 1 Axes>"
      ]
     },
     "metadata": {
      "needs_background": "light"
     },
     "output_type": "display_data"
    },
    {
     "data": {
      "image/png": "[encoded data removed]",
      "text/plain": [
       "<Figure size 720x216 with 1 Axes>"
      ]
     },
     "metadata": {
      "needs_background": "light"
     },
     "output_type": "display_data"
    }
   ],
   "source": [
    "orders.head()\n",
    "plt.hist(orders['revenue'], range=(0,50000), bins=100)\n",
    "plt.title('Гистрограмма распределения сумм заказов на одного пользователя')\n",
    "\n",
    "x_values = pd.Series(range(0, len(orders)))\n",
    "plt.figure(figsize=(10,3))\n",
    "plt.scatter(x_values, orders['revenue'])\n",
    "plt.axis([0,1200, 0, 200000])\n",
    "plt.title('Точечная диаграмма сумм заказов на одного пользователя')"
   ]
  },
  {
   "cell_type": "markdown",
   "metadata": {},
   "source": [
    "В основном стоимость заказов составляет 25-30 т.р, остальное можно считать выбросами, но окончательное решение расчитав перцентили, потому что принято отсеивать от 1% до 5% наблюдений с крайними значениями."
   ]
  },
  {
   "cell_type": "markdown",
   "metadata": {},
   "source": [
    "### Посчитаем 95-й и 99-й перцентили стоимости заказов"
   ]
  },
  {
   "cell_type": "code",
   "execution_count": 20,
   "metadata": {},
   "outputs": [
    {
     "name": "stdout",
     "output_type": "stream",
     "text": [
      "95 - 28000\n",
      "99 - 58233\n"
     ]
    }
   ],
   "source": [
    "print('95 -',round(np.percentile(orders['revenue'], 95)))\n",
    "print('99 -',round(np.percentile(orders['revenue'], 99)))"
   ]
  },
  {
   "cell_type": "markdown",
   "metadata": {},
   "source": [
    "Всего лишь 5% заказов дороже 28 т.р. Это и примем за границу определения аномальных заказов"
   ]
  },
  {
   "cell_type": "markdown",
   "metadata": {},
   "source": [
    "### Cтатистическая значимость различий в конверсии между группами по «сырым» данным"
   ]
  },
  {
   "cell_type": "markdown",
   "metadata": {},
   "source": [
    "Сформируем гипотезы:\n",
    "* Нулевая: различий в конверсии между группами нет.\n",
    "* Альтернативная: различия в конверсии между группами есть.\n",
    "\n",
    "Критический уровень статистической значимости - 0,05\n",
    "\n",
    "Применим тест Манна-Уитни"
   ]
  },
  {
   "cell_type": "code",
   "execution_count": 21,
   "metadata": {},
   "outputs": [
    {
     "name": "stdout",
     "output_type": "stream",
     "text": [
      "P-value: 0.017\n",
      "Относительно изменение конверсии: 13.8%\n"
     ]
    }
   ],
   "source": [
    "visitorsADaily = visitors[visitors['group'] == 'A'][['date', 'visitors']]\n",
    "visitorsADaily.columns = ['date', 'visitorsPerDateA']\n",
    "\n",
    "visitorsACummulative = visitorsADaily.apply(\n",
    "    lambda x: visitorsADaily[visitorsADaily['date'] <= x['date']].agg(\n",
    "        {'date': 'max', 'visitorsPerDateA': 'sum'}\n",
    "    ),\n",
    "    axis=1,\n",
    ")\n",
    "visitorsACummulative.columns = ['date', 'visitorsCummulativeA']\n",
    "\n",
    "visitorsBDaily = visitors[visitors['group'] == 'B'][['date', 'visitors']]\n",
    "visitorsBDaily.columns = ['date', 'visitorsPerDateB']\n",
    "\n",
    "visitorsBCummulative = visitorsBDaily.apply(\n",
    "    lambda x: visitorsBDaily[visitorsBDaily['date'] <= x['date']].agg(\n",
    "        {'date': 'max', 'visitorsPerDateB': 'sum'}\n",
    "    ),\n",
    "    axis=1,\n",
    ")\n",
    "visitorsBCummulative.columns = ['date', 'visitorsCummulativeB']\n",
    "\n",
    "ordersADaily = (\n",
    "    orders[orders['group'] == 'A'][['date', 'transactionid', 'visitorid', 'revenue']]\n",
    "    .groupby('date', as_index=False)\n",
    "    .agg({'transactionid': pd.Series.nunique, 'revenue': 'sum'})\n",
    ")\n",
    "ordersADaily.columns = ['date', 'ordersPerDateA', 'revenuePerDateA']\n",
    "\n",
    "ordersACummulative = ordersADaily.apply(\n",
    "    lambda x: ordersADaily[ordersADaily['date'] <= x['date']].agg(\n",
    "        {'date': 'max', 'ordersPerDateA': 'sum', 'revenuePerDateA': 'sum'}\n",
    "    ),\n",
    "    axis=1,\n",
    ").sort_values(by=['date'])\n",
    "ordersACummulative.columns = [\n",
    "    'date',\n",
    "    'ordersCummulativeA',\n",
    "    'revenueCummulativeA',\n",
    "]\n",
    "\n",
    "ordersBDaily = (\n",
    "    orders[orders['group'] == 'B'][['date', 'transactionid', 'visitorid', 'revenue']]\n",
    "    .groupby('date', as_index=False)\n",
    "    .agg({'transactionid': pd.Series.nunique, 'revenue': 'sum'})\n",
    ")\n",
    "ordersBDaily.columns = ['date', 'ordersPerDateB', 'revenuePerDateB']\n",
    "\n",
    "ordersBCummulative = ordersBDaily.apply(\n",
    "    lambda x: ordersBDaily[ordersBDaily['date'] <= x['date']].agg(\n",
    "        {'date': 'max', 'ordersPerDateB': 'sum', 'revenuePerDateB': 'sum'}\n",
    "    ),\n",
    "    axis=1,\n",
    ").sort_values(by=['date'])\n",
    "ordersBCummulative.columns = [\n",
    "    'date',\n",
    "    'ordersCummulativeB',\n",
    "    'revenueCummulativeB',\n",
    "]\n",
    "\n",
    "data = (\n",
    "    ordersADaily.merge(\n",
    "        ordersBDaily, left_on='date', right_on='date', how='left'\n",
    "    )\n",
    "    .merge(ordersACummulative, left_on='date', right_on='date', how='left')\n",
    "    .merge(ordersBCummulative, left_on='date', right_on='date', how='left')\n",
    "    .merge(visitorsADaily, left_on='date', right_on='date', how='left')\n",
    "    .merge(visitorsBDaily, left_on='date', right_on='date', how='left')\n",
    "    .merge(visitorsACummulative, left_on='date', right_on='date', how='left')\n",
    "    .merge(visitorsBCummulative, left_on='date', right_on='date', how='left')\n",
    ")\n",
    "#Создадим переменные ordersByUsersA и ordersByUsersB со столбцами ['userid', 'orders'].\n",
    "#В них для пользователей, которые заказывали хотя бы 1 раз, укажем число совершённых заказов.\n",
    "\n",
    "ordersByUsersA = orders[orders['group']=='A'].groupby('visitorid', as_index=False).agg({'transactionid':'nunique'})\n",
    "ordersByUsersA.columns = ['visitorid', 'orders']\n",
    "ordersByUsersB = orders[orders['group']=='B'].groupby('visitorid', as_index=False).agg({'transactionid':'nunique'})\n",
    "ordersByUsersB.columns = ['visitorid', 'orders']\n",
    "\n",
    "#Объявим переменные sampleA и sampleB, в которых пользователям из разных групп будет соответствовать количество заказов\n",
    "sampleA = pd.concat([ordersByUsersA['orders'],pd.Series(0, index=np.arange(data['visitorsPerDateA'].sum() - len(ordersByUsersA['orders'])), name='orders')],axis=0)\n",
    "sampleB = pd.concat([ordersByUsersB['orders'],pd.Series(0, index=np.arange(data['visitorsPerDateB'].sum() - len(ordersByUsersB['orders'])), name='orders')],axis=0)\n",
    "\n",
    "print(f\"P-value: {stats.mannwhitneyu(sampleA, sampleB)[1]:.2}\")\n",
    "print(f\"Относительно изменение конверсии: {sampleB.mean() / sampleA.mean() - 1:.1%}\")"
   ]
  },
  {
   "cell_type": "code",
   "execution_count": 22,
   "metadata": {},
   "outputs": [
    {
     "name": "stdout",
     "output_type": "stream",
     "text": [
      "Относительно изменение конверсии: 13.8%\n"
     ]
    }
   ],
   "source": [
    "# КОД РЕВЬЮВЕРА\n",
    "print(f\"Относительно изменение конверсии: {sampleB.mean() / sampleA.mean() - 1:.1%}\")\n"
   ]
  },
  {
   "cell_type": "markdown",
   "metadata": {},
   "source": [
    "* Относительный прирост конверсии группы B по отношению к группе A: 13,8%\n",
    "* P-value: 0.017\n",
    "* P-value меньше 0.05, отвергаем нулевую гипотезу.\n",
    "\n",
    "**Различия в конверсии между группами есть.**"
   ]
  },
  {
   "cell_type": "markdown",
   "metadata": {},
   "source": [
    "###  Статистическая значимость различий в среднем чеке заказа между группами по «сырым» данным"
   ]
  },
  {
   "cell_type": "markdown",
   "metadata": {},
   "source": [
    "Сформируем гипотезы:\n",
    "* Нулевая: различий в среднем чеке между группами нет.\n",
    "* Альтернативная: различия в среднем чеке между группами есть."
   ]
  },
  {
   "cell_type": "code",
   "execution_count": 23,
   "metadata": {},
   "outputs": [
    {
     "name": "stdout",
     "output_type": "stream",
     "text": [
      "P-value: 0.729\n",
      "Относительно изменение: 25.9%\n"
     ]
    }
   ],
   "source": [
    "print(f\"P-value: {stats.mannwhitneyu(orders[orders['group']=='A']['revenue'], orders[orders['group']=='B']['revenue'])[1]:.3}\")\n",
    "print(f\"Относительно изменение: {orders[orders['group']=='B']['revenue'].mean()/orders[orders['group']=='A']['revenue'].mean()-1:.1%}\")"
   ]
  },
  {
   "cell_type": "markdown",
   "metadata": {},
   "source": [
    "* Относительный прирост среднего чека группы B по отношению к группе A: 25,9%\n",
    "* P-value: 0,729\n",
    "* P-value больше 0.05, не отвергаем нулевую гипотезу.\n",
    "\n",
    "**Различий в среднем чеке между группами нет.**"
   ]
  },
  {
   "cell_type": "markdown",
   "metadata": {},
   "source": [
    "### Cтатистическая значимость различий в конверсии между группами по «очищенным» данным."
   ]
  },
  {
   "cell_type": "markdown",
   "metadata": {},
   "source": [
    "Примем за аномальных пользователей тех, кто совершил от 2 заказов или совершил заказ дороже 28 000 рублей. Так мы уберём 5% пользователей с наибольшим числом заказов и пользователей с дорогими заказами."
   ]
  },
  {
   "cell_type": "code",
   "execution_count": 24,
   "metadata": {},
   "outputs": [
    {
     "name": "stdout",
     "output_type": "stream",
     "text": [
      "Кол-во аномальных пользователей: (74,)\n"
     ]
    }
   ],
   "source": [
    "usersWithManyOrders = pd.concat(\n",
    "    [\n",
    "        ordersByUsersA[ordersByUsersA['orders'] > 2]['visitorid'],\n",
    "        ordersByUsersB[ordersByUsersB['orders'] > 2]['visitorid'],\n",
    "    ],\n",
    "    axis=0,\n",
    ")\n",
    "\n",
    "usersWithExpensiveOrders = orders[orders['revenue']>28000]['visitorid']\n",
    "\n",
    "abnormalUsers = pd.concat([usersWithManyOrders, usersWithExpensiveOrders], axis = 0).drop_duplicates().sort_values()\n",
    "\n",
    "print('Кол-во аномальных пользователей: {}'.format(abnormalUsers.shape))"
   ]
  },
  {
   "cell_type": "markdown",
   "metadata": {},
   "source": [
    " Посчитаем статистическую значимость различий в конверсии между группами теста по очищенным данным."
   ]
  },
  {
   "cell_type": "code",
   "execution_count": 25,
   "metadata": {},
   "outputs": [],
   "source": [
    "sampleAFiltered = pd.concat(\n",
    "    [\n",
    "        ordersByUsersA[\n",
    "            np.logical_not(ordersByUsersA['visitorid'].isin(abnormalUsers))\n",
    "        ]['orders'],\n",
    "        pd.Series(\n",
    "            0,\n",
    "            index=np.arange(\n",
    "                data['visitorsPerDateA'].sum() - len(ordersByUsersA['orders'])\n",
    "            ),\n",
    "            name='orders',\n",
    "        ),\n",
    "    ],\n",
    "    axis=0,\n",
    ")\n",
    "\n",
    "sampleBFiltered = pd.concat(\n",
    "    [\n",
    "        ordersByUsersB[\n",
    "            np.logical_not(ordersByUsersB['visitorid'].isin(abnormalUsers))\n",
    "        ]['orders'],\n",
    "        pd.Series(\n",
    "            0,\n",
    "            index=np.arange(\n",
    "                data['visitorsPerDateB'].sum() - len(ordersByUsersB['orders'])\n",
    "            ),\n",
    "            name='orders',\n",
    "        ),\n",
    "    ],\n",
    "    axis=0,\n",
    ")"
   ]
  },
  {
   "cell_type": "code",
   "execution_count": 26,
   "metadata": {},
   "outputs": [
    {
     "name": "stdout",
     "output_type": "stream",
     "text": [
      "P-value: 0.013\n",
      "Относительно изменение: 17.3%\n"
     ]
    }
   ],
   "source": [
    "print(f\"P-value: {stats.mannwhitneyu(sampleAFiltered, sampleBFiltered)[1]:.3}\")\n",
    "print(f\"Относительно изменение: {sampleBFiltered.mean()/sampleAFiltered.mean()-1:.1%}\")"
   ]
  },
  {
   "cell_type": "markdown",
   "metadata": {},
   "source": [
    "Результаты по конверсии почти не изменились\n",
    "\n",
    "* Относительный прирост конверсии группы B по отношению к группе A: 17,3%\n",
    "* P-value: 0.013\n",
    "* P-value меньше 0.05, отвергаем нулевую гипотезу.\n",
    "\n",
    "**Различия в конверсии между группами есть.**"
   ]
  },
  {
   "cell_type": "markdown",
   "metadata": {},
   "source": [
    "### Cтатистическая значимость различий в среднем чеке заказа между группами по «очищенным» данным."
   ]
  },
  {
   "cell_type": "code",
   "execution_count": 27,
   "metadata": {},
   "outputs": [
    {
     "name": "stdout",
     "output_type": "stream",
     "text": [
      "P-value: 0.738\n",
      "Относительно изменение: -2.0%\n"
     ]
    }
   ],
   "source": [
    "print(f\"P-value: {stats.mannwhitneyu(orders[np.logical_and(orders['group'] == 'A',np.logical_not(orders['visitorid'].isin(abnormalUsers)),)]['revenue'],orders[np.logical_and(orders['group'] == 'B',np.logical_not(orders['visitorid'].isin(abnormalUsers)),)]['revenue'],)[1]:.3}\")\n",
    "print(f\"Относительно изменение: {orders[np.logical_and(orders['group'] == 'B', np.logical_not(orders['visitorid'].isin(abnormalUsers)),)]['revenue'].mean()/ orders[np.logical_and(orders['group'] == 'A',np.logical_not(orders['visitorid'].isin(abnormalUsers)),)]['revenue'].mean()- 1:.1%}\")"
   ]
  },
  {
   "cell_type": "markdown",
   "metadata": {},
   "source": [
    "* Относительный прирост среднего чека группы B по отношению к группе A: -2%. После удаления выбросов разница сократилась на 23,9%. \n",
    "* P-value: 0,738\n",
    "* P-value больше 0.05, не отвергаем нулевую гипотезу.\n",
    "\n",
    "**Различий в среднем чеке между группами нет.**"
   ]
  },
  {
   "cell_type": "markdown",
   "metadata": {},
   "source": [
    "### Решение по результатам теста"
   ]
  },
  {
   "cell_type": "markdown",
   "metadata": {},
   "source": [
    "* Кумулятивные метрики по выручке, среднему чеку и конверсии почти все время лидировали в группе B, но были замечены подозрительные скачки связанные с выбросами. После удаления выбросов разница средних чеков в 2 группах стала минимальной.\n",
    "* После очистки данных, показатель конверсии в группе B увеличился на 3,5%, с 13,8% до 17,3%.\n",
    "\n",
    "**Разница показателей конверсии между группами до и после очистки статистически значима, что позволяет нам остановить тест и зафиксировать победу группы В**\n"
   ]
  }
 ],
 "metadata": {
  "ExecuteTimeLog": [
   {
    "duration": 1764,
    "start_time": "2022-03-29T06:55:14.416Z"
   },
   {
    "duration": 31,
    "start_time": "2022-03-29T07:13:35.631Z"
   },
   {
    "duration": 24,
    "start_time": "2022-03-29T07:15:02.395Z"
   },
   {
    "duration": 20,
    "start_time": "2022-03-29T07:15:05.116Z"
   },
   {
    "duration": 21,
    "start_time": "2022-03-29T07:15:38.411Z"
   },
   {
    "duration": 23,
    "start_time": "2022-03-29T07:16:11.227Z"
   },
   {
    "duration": 22,
    "start_time": "2022-03-29T07:16:58.187Z"
   },
   {
    "duration": 4,
    "start_time": "2022-03-29T07:18:04.949Z"
   },
   {
    "duration": 17,
    "start_time": "2022-03-29T07:18:35.329Z"
   },
   {
    "duration": 18,
    "start_time": "2022-03-29T07:26:52.827Z"
   },
   {
    "duration": 24,
    "start_time": "2022-03-29T07:27:02.220Z"
   },
   {
    "duration": 34,
    "start_time": "2022-03-29T07:45:53.492Z"
   },
   {
    "duration": 37,
    "start_time": "2022-03-29T07:51:09.662Z"
   },
   {
    "duration": 48,
    "start_time": "2022-03-29T07:51:20.423Z"
   },
   {
    "duration": 31,
    "start_time": "2022-03-29T07:51:34.159Z"
   },
   {
    "duration": 27,
    "start_time": "2022-03-29T07:51:35.783Z"
   },
   {
    "duration": 31,
    "start_time": "2022-03-29T07:53:28.582Z"
   },
   {
    "duration": 31,
    "start_time": "2022-03-29T07:53:30.022Z"
   },
   {
    "duration": 33,
    "start_time": "2022-03-29T07:55:00.020Z"
   },
   {
    "duration": 38,
    "start_time": "2022-03-29T07:55:00.613Z"
   },
   {
    "duration": 41,
    "start_time": "2022-03-29T07:55:43.300Z"
   },
   {
    "duration": 39,
    "start_time": "2022-03-29T07:55:45.812Z"
   },
   {
    "duration": 32,
    "start_time": "2022-03-29T07:55:57.692Z"
   },
   {
    "duration": 30,
    "start_time": "2022-03-29T07:56:03.820Z"
   },
   {
    "duration": 37,
    "start_time": "2022-03-29T07:56:05.941Z"
   },
   {
    "duration": 32,
    "start_time": "2022-03-29T07:56:12.308Z"
   },
   {
    "duration": 35,
    "start_time": "2022-03-29T07:56:14.212Z"
   },
   {
    "duration": 32,
    "start_time": "2022-03-29T07:56:26.180Z"
   },
   {
    "duration": 34,
    "start_time": "2022-03-29T07:56:26.555Z"
   },
   {
    "duration": 118,
    "start_time": "2022-03-29T07:56:37.083Z"
   },
   {
    "duration": 32,
    "start_time": "2022-03-29T07:56:40.148Z"
   },
   {
    "duration": 41,
    "start_time": "2022-03-29T07:56:40.595Z"
   },
   {
    "duration": 33,
    "start_time": "2022-03-29T07:56:50.563Z"
   },
   {
    "duration": 39,
    "start_time": "2022-03-29T07:56:51.323Z"
   },
   {
    "duration": 36,
    "start_time": "2022-03-29T07:57:20.228Z"
   },
   {
    "duration": 33,
    "start_time": "2022-03-29T07:57:22.435Z"
   },
   {
    "duration": 30,
    "start_time": "2022-03-29T08:00:30.602Z"
   },
   {
    "duration": 62,
    "start_time": "2022-03-29T08:00:37.224Z"
   },
   {
    "duration": 35,
    "start_time": "2022-03-29T08:00:45.904Z"
   },
   {
    "duration": 32,
    "start_time": "2022-03-29T08:01:57.576Z"
   },
   {
    "duration": 35,
    "start_time": "2022-03-29T08:02:16.756Z"
   },
   {
    "duration": 55,
    "start_time": "2022-03-29T08:19:00.711Z"
   },
   {
    "duration": 1473,
    "start_time": "2022-03-29T08:19:03.845Z"
   },
   {
    "duration": 27,
    "start_time": "2022-03-29T08:19:05.320Z"
   },
   {
    "duration": 17,
    "start_time": "2022-03-29T08:19:05.348Z"
   },
   {
    "duration": 13,
    "start_time": "2022-03-29T08:19:05.367Z"
   },
   {
    "duration": 22,
    "start_time": "2022-03-29T08:19:05.382Z"
   },
   {
    "duration": 61,
    "start_time": "2022-03-29T08:19:05.406Z"
   },
   {
    "duration": 26,
    "start_time": "2022-03-29T08:19:05.469Z"
   },
   {
    "duration": 23,
    "start_time": "2022-03-29T08:19:05.497Z"
   },
   {
    "duration": 99,
    "start_time": "2022-03-29T08:19:05.522Z"
   },
   {
    "duration": 298,
    "start_time": "2022-03-29T08:19:17.949Z"
   },
   {
    "duration": 10,
    "start_time": "2022-03-29T08:21:42.715Z"
   },
   {
    "duration": 290,
    "start_time": "2022-03-29T08:21:54.523Z"
   },
   {
    "duration": 269,
    "start_time": "2022-03-29T08:21:56.252Z"
   },
   {
    "duration": 182,
    "start_time": "2022-03-29T08:22:06.506Z"
   },
   {
    "duration": 16,
    "start_time": "2022-03-29T08:22:58.257Z"
   },
   {
    "duration": 208,
    "start_time": "2022-03-29T08:23:09.297Z"
   },
   {
    "duration": 177,
    "start_time": "2022-03-29T08:27:21.567Z"
   },
   {
    "duration": 205,
    "start_time": "2022-03-29T08:27:47.110Z"
   },
   {
    "duration": 370,
    "start_time": "2022-03-29T08:32:24.123Z"
   },
   {
    "duration": 279,
    "start_time": "2022-03-29T08:32:31.187Z"
   },
   {
    "duration": 274,
    "start_time": "2022-03-29T08:32:49.384Z"
   },
   {
    "duration": 408,
    "start_time": "2022-03-29T08:36:05.808Z"
   },
   {
    "duration": 209,
    "start_time": "2022-03-29T08:36:17.886Z"
   },
   {
    "duration": 229,
    "start_time": "2022-03-29T08:36:31.304Z"
   },
   {
    "duration": 273,
    "start_time": "2022-03-29T08:38:20.878Z"
   },
   {
    "duration": 336,
    "start_time": "2022-03-29T08:38:30.918Z"
   },
   {
    "duration": 199,
    "start_time": "2022-03-29T08:38:53.838Z"
   },
   {
    "duration": 225,
    "start_time": "2022-03-29T08:39:01.677Z"
   },
   {
    "duration": 286,
    "start_time": "2022-03-29T08:39:11.581Z"
   },
   {
    "duration": 199,
    "start_time": "2022-03-29T08:39:36.645Z"
   },
   {
    "duration": 211,
    "start_time": "2022-03-29T08:39:52.437Z"
   },
   {
    "duration": 11,
    "start_time": "2022-03-29T08:41:24.435Z"
   },
   {
    "duration": 10,
    "start_time": "2022-03-29T08:41:30.667Z"
   },
   {
    "duration": 13,
    "start_time": "2022-03-29T08:41:42.084Z"
   },
   {
    "duration": 2809,
    "start_time": "2022-03-29T08:42:48.363Z"
   },
   {
    "duration": 369,
    "start_time": "2022-03-29T08:43:30.387Z"
   },
   {
    "duration": 10,
    "start_time": "2022-03-29T09:05:00.343Z"
   },
   {
    "duration": 19,
    "start_time": "2022-03-29T09:05:16.532Z"
   },
   {
    "duration": 12,
    "start_time": "2022-03-29T09:05:23.044Z"
   },
   {
    "duration": 13,
    "start_time": "2022-03-29T09:05:46.153Z"
   },
   {
    "duration": 13,
    "start_time": "2022-03-29T09:06:05.106Z"
   },
   {
    "duration": 14,
    "start_time": "2022-03-29T09:06:11.450Z"
   },
   {
    "duration": 15,
    "start_time": "2022-03-29T09:06:17.297Z"
   },
   {
    "duration": 605,
    "start_time": "2022-03-29T09:06:35.178Z"
   },
   {
    "duration": 13,
    "start_time": "2022-03-29T09:06:48.273Z"
   },
   {
    "duration": 9,
    "start_time": "2022-03-29T09:07:15.505Z"
   },
   {
    "duration": 6,
    "start_time": "2022-03-29T09:07:20.786Z"
   },
   {
    "duration": 2814,
    "start_time": "2022-03-29T09:08:58.832Z"
   },
   {
    "duration": 138,
    "start_time": "2022-03-29T09:09:16.904Z"
   },
   {
    "duration": 146,
    "start_time": "2022-03-29T09:09:21.644Z"
   },
   {
    "duration": 129,
    "start_time": "2022-03-29T09:09:38.447Z"
   },
   {
    "duration": 7,
    "start_time": "2022-03-29T09:09:41.552Z"
   },
   {
    "duration": 7,
    "start_time": "2022-03-29T09:09:48.078Z"
   },
   {
    "duration": 11,
    "start_time": "2022-03-29T09:09:50.887Z"
   },
   {
    "duration": 10,
    "start_time": "2022-03-29T09:10:09.975Z"
   },
   {
    "duration": 123,
    "start_time": "2022-03-29T09:10:19.999Z"
   },
   {
    "duration": 136,
    "start_time": "2022-03-29T09:10:51.886Z"
   },
   {
    "duration": 276,
    "start_time": "2022-03-29T09:11:28.302Z"
   },
   {
    "duration": 151,
    "start_time": "2022-03-29T09:11:34.745Z"
   },
   {
    "duration": 270,
    "start_time": "2022-03-29T09:11:41.358Z"
   },
   {
    "duration": 278,
    "start_time": "2022-03-29T09:11:45.918Z"
   },
   {
    "duration": 5,
    "start_time": "2022-03-29T09:15:23.835Z"
   },
   {
    "duration": 4,
    "start_time": "2022-03-29T09:15:28.971Z"
   },
   {
    "duration": 10,
    "start_time": "2022-03-29T09:16:14.450Z"
   },
   {
    "duration": 4,
    "start_time": "2022-03-29T09:16:17.698Z"
   },
   {
    "duration": 152,
    "start_time": "2022-03-29T09:16:50.577Z"
   },
   {
    "duration": 214,
    "start_time": "2022-03-29T09:17:21.018Z"
   },
   {
    "duration": 152,
    "start_time": "2022-03-29T09:17:28.698Z"
   },
   {
    "duration": 184,
    "start_time": "2022-03-29T09:17:31.570Z"
   },
   {
    "duration": 5,
    "start_time": "2022-03-29T09:17:36.786Z"
   },
   {
    "duration": 164,
    "start_time": "2022-03-29T09:17:56.745Z"
   },
   {
    "duration": 4,
    "start_time": "2022-03-29T09:18:09.105Z"
   },
   {
    "duration": 174,
    "start_time": "2022-03-29T09:18:14.312Z"
   },
   {
    "duration": 221,
    "start_time": "2022-03-29T09:18:17.377Z"
   },
   {
    "duration": 131,
    "start_time": "2022-03-29T09:18:20.746Z"
   },
   {
    "duration": 9,
    "start_time": "2022-03-29T09:18:25.705Z"
   },
   {
    "duration": 10,
    "start_time": "2022-03-29T09:18:27.753Z"
   },
   {
    "duration": 4,
    "start_time": "2022-03-29T09:18:31.069Z"
   },
   {
    "duration": 6,
    "start_time": "2022-03-29T09:18:51.072Z"
   },
   {
    "duration": 13,
    "start_time": "2022-03-29T09:23:58.812Z"
   },
   {
    "duration": 155,
    "start_time": "2022-03-29T09:24:57.835Z"
   },
   {
    "duration": 265,
    "start_time": "2022-03-29T09:25:15.220Z"
   },
   {
    "duration": 152,
    "start_time": "2022-03-29T09:25:21.856Z"
   },
   {
    "duration": 300,
    "start_time": "2022-03-29T09:26:24.371Z"
   },
   {
    "duration": 292,
    "start_time": "2022-03-29T09:26:49.815Z"
   },
   {
    "duration": 279,
    "start_time": "2022-03-29T09:26:53.546Z"
   },
   {
    "duration": 397,
    "start_time": "2022-03-29T09:26:58.419Z"
   },
   {
    "duration": 435,
    "start_time": "2022-03-29T09:27:02.019Z"
   },
   {
    "duration": 400,
    "start_time": "2022-03-29T09:27:22.210Z"
   },
   {
    "duration": 479,
    "start_time": "2022-03-29T09:27:51.426Z"
   },
   {
    "duration": 391,
    "start_time": "2022-03-29T09:27:55.802Z"
   },
   {
    "duration": 403,
    "start_time": "2022-03-29T09:28:41.897Z"
   },
   {
    "duration": 526,
    "start_time": "2022-03-29T09:29:16.121Z"
   },
   {
    "duration": 448,
    "start_time": "2022-03-29T09:29:38.281Z"
   },
   {
    "duration": 589,
    "start_time": "2022-03-29T09:29:44.008Z"
   },
   {
    "duration": 406,
    "start_time": "2022-03-29T09:33:06.838Z"
   },
   {
    "duration": 411,
    "start_time": "2022-03-29T09:33:16.933Z"
   },
   {
    "duration": 423,
    "start_time": "2022-03-29T09:33:44.445Z"
   },
   {
    "duration": 445,
    "start_time": "2022-03-29T09:34:41.005Z"
   },
   {
    "duration": 424,
    "start_time": "2022-03-29T09:34:55.860Z"
   },
   {
    "duration": 607,
    "start_time": "2022-03-29T09:35:02.628Z"
   },
   {
    "duration": 5,
    "start_time": "2022-03-29T09:39:04.961Z"
   },
   {
    "duration": 6,
    "start_time": "2022-03-29T09:45:00.844Z"
   },
   {
    "duration": 5,
    "start_time": "2022-03-29T09:45:08.356Z"
   },
   {
    "duration": 20,
    "start_time": "2022-03-29T09:47:07.730Z"
   },
   {
    "duration": 23,
    "start_time": "2022-03-29T09:47:14.723Z"
   },
   {
    "duration": 11,
    "start_time": "2022-03-29T09:47:58.514Z"
   },
   {
    "duration": 21,
    "start_time": "2022-03-29T09:50:53.072Z"
   },
   {
    "duration": 13,
    "start_time": "2022-03-29T09:56:41.563Z"
   },
   {
    "duration": 48,
    "start_time": "2022-03-29T10:13:39.820Z"
   },
   {
    "duration": 1363,
    "start_time": "2022-03-29T10:14:12.720Z"
   },
   {
    "duration": 22,
    "start_time": "2022-03-29T10:14:14.085Z"
   },
   {
    "duration": 21,
    "start_time": "2022-03-29T10:14:14.109Z"
   },
   {
    "duration": 12,
    "start_time": "2022-03-29T10:14:14.133Z"
   },
   {
    "duration": 22,
    "start_time": "2022-03-29T10:14:14.147Z"
   },
   {
    "duration": 32,
    "start_time": "2022-03-29T10:14:14.171Z"
   },
   {
    "duration": 31,
    "start_time": "2022-03-29T10:14:14.205Z"
   },
   {
    "duration": 19,
    "start_time": "2022-03-29T10:14:14.238Z"
   },
   {
    "duration": 339,
    "start_time": "2022-03-29T10:14:14.259Z"
   },
   {
    "duration": 306,
    "start_time": "2022-03-29T10:14:14.608Z"
   },
   {
    "duration": 230,
    "start_time": "2022-03-29T10:14:14.918Z"
   },
   {
    "duration": 363,
    "start_time": "2022-03-29T10:14:15.150Z"
   },
   {
    "duration": 241,
    "start_time": "2022-03-29T10:14:15.515Z"
   },
   {
    "duration": 306,
    "start_time": "2022-03-29T10:14:15.758Z"
   },
   {
    "duration": 16,
    "start_time": "2022-03-29T10:14:16.066Z"
   },
   {
    "duration": 297,
    "start_time": "2022-03-29T10:14:16.084Z"
   },
   {
    "duration": 4,
    "start_time": "2022-03-29T10:14:16.383Z"
   },
   {
    "duration": 412,
    "start_time": "2022-03-29T10:14:16.389Z"
   },
   {
    "duration": 8,
    "start_time": "2022-03-29T10:14:16.808Z"
   },
   {
    "duration": 145,
    "start_time": "2022-03-29T10:14:16.819Z"
   },
   {
    "duration": 1615,
    "start_time": "2022-03-29T10:29:57.119Z"
   },
   {
    "duration": 67,
    "start_time": "2022-03-29T10:30:29.257Z"
   },
   {
    "duration": 87,
    "start_time": "2022-03-29T10:31:03.641Z"
   },
   {
    "duration": 98,
    "start_time": "2022-03-29T10:31:38.104Z"
   },
   {
    "duration": 103,
    "start_time": "2022-03-29T10:32:06.969Z"
   },
   {
    "duration": 97,
    "start_time": "2022-03-29T10:32:56.719Z"
   },
   {
    "duration": 13,
    "start_time": "2022-03-29T10:33:14.030Z"
   },
   {
    "duration": 100,
    "start_time": "2022-03-29T10:33:58.686Z"
   },
   {
    "duration": 97,
    "start_time": "2022-03-29T10:34:10.046Z"
   },
   {
    "duration": 103,
    "start_time": "2022-03-29T10:34:33.438Z"
   },
   {
    "duration": 146,
    "start_time": "2022-03-29T10:35:14.501Z"
   },
   {
    "duration": 163,
    "start_time": "2022-03-29T10:35:24.236Z"
   },
   {
    "duration": 136,
    "start_time": "2022-03-29T10:35:40.725Z"
   },
   {
    "duration": 180,
    "start_time": "2022-03-29T10:35:52.517Z"
   },
   {
    "duration": 202,
    "start_time": "2022-03-29T10:36:09.341Z"
   },
   {
    "duration": 220,
    "start_time": "2022-03-29T10:37:15.956Z"
   },
   {
    "duration": 208,
    "start_time": "2022-03-29T10:37:31.571Z"
   },
   {
    "duration": 202,
    "start_time": "2022-03-29T10:37:48.317Z"
   },
   {
    "duration": 202,
    "start_time": "2022-03-29T10:38:03.603Z"
   },
   {
    "duration": 213,
    "start_time": "2022-03-29T10:39:36.785Z"
   },
   {
    "duration": 244,
    "start_time": "2022-03-29T10:42:29.759Z"
   },
   {
    "duration": 13,
    "start_time": "2022-03-29T10:51:12.519Z"
   },
   {
    "duration": 1663,
    "start_time": "2022-03-29T11:33:07.075Z"
   },
   {
    "duration": 1878,
    "start_time": "2022-03-29T11:33:17.851Z"
   },
   {
    "duration": 15,
    "start_time": "2022-03-29T11:33:46.642Z"
   },
   {
    "duration": 186,
    "start_time": "2022-03-29T12:07:04.692Z"
   },
   {
    "duration": 80,
    "start_time": "2022-03-29T12:22:53.491Z"
   },
   {
    "duration": 1789,
    "start_time": "2022-03-29T12:22:56.654Z"
   },
   {
    "duration": 32,
    "start_time": "2022-03-29T12:22:58.445Z"
   },
   {
    "duration": 22,
    "start_time": "2022-03-29T12:22:58.479Z"
   },
   {
    "duration": 16,
    "start_time": "2022-03-29T12:22:58.503Z"
   },
   {
    "duration": 19,
    "start_time": "2022-03-29T12:22:58.543Z"
   },
   {
    "duration": 64,
    "start_time": "2022-03-29T12:22:58.564Z"
   },
   {
    "duration": 33,
    "start_time": "2022-03-29T12:22:58.630Z"
   },
   {
    "duration": 35,
    "start_time": "2022-03-29T12:22:58.665Z"
   },
   {
    "duration": 531,
    "start_time": "2022-03-29T12:22:58.703Z"
   },
   {
    "duration": 444,
    "start_time": "2022-03-29T12:22:59.244Z"
   },
   {
    "duration": 439,
    "start_time": "2022-03-29T12:22:59.690Z"
   },
   {
    "duration": 476,
    "start_time": "2022-03-29T12:23:00.132Z"
   },
   {
    "duration": 353,
    "start_time": "2022-03-29T12:23:00.611Z"
   },
   {
    "duration": 405,
    "start_time": "2022-03-29T12:23:00.967Z"
   },
   {
    "duration": 28,
    "start_time": "2022-03-29T12:23:01.374Z"
   },
   {
    "duration": 430,
    "start_time": "2022-03-29T12:23:01.404Z"
   },
   {
    "duration": 9,
    "start_time": "2022-03-29T12:23:01.837Z"
   },
   {
    "duration": 599,
    "start_time": "2022-03-29T12:23:01.849Z"
   },
   {
    "duration": 6,
    "start_time": "2022-03-29T12:23:02.451Z"
   },
   {
    "duration": 488,
    "start_time": "2022-03-29T12:23:02.459Z"
   },
   {
    "duration": 14,
    "start_time": "2022-03-29T12:23:02.949Z"
   },
   {
    "duration": 115,
    "start_time": "2022-03-29T12:23:02.965Z"
   },
   {
    "duration": 2987,
    "start_time": "2022-03-29T12:23:18.564Z"
   },
   {
    "duration": 11,
    "start_time": "2022-03-29T12:23:26.220Z"
   },
   {
    "duration": 12,
    "start_time": "2022-03-29T12:23:56.284Z"
   },
   {
    "duration": 3168,
    "start_time": "2022-03-29T12:24:53.827Z"
   },
   {
    "duration": 15,
    "start_time": "2022-03-29T12:25:07.699Z"
   },
   {
    "duration": 47,
    "start_time": "2022-03-29T12:25:22.022Z"
   },
   {
    "duration": 25,
    "start_time": "2022-03-29T12:31:35.764Z"
   },
   {
    "duration": 1556,
    "start_time": "2022-03-30T04:29:44.357Z"
   },
   {
    "duration": 33,
    "start_time": "2022-03-30T04:29:45.915Z"
   },
   {
    "duration": 28,
    "start_time": "2022-03-30T04:29:45.950Z"
   },
   {
    "duration": 17,
    "start_time": "2022-03-30T04:29:45.981Z"
   },
   {
    "duration": 32,
    "start_time": "2022-03-30T04:29:46.000Z"
   },
   {
    "duration": 50,
    "start_time": "2022-03-30T04:29:46.034Z"
   },
   {
    "duration": 33,
    "start_time": "2022-03-30T04:29:46.087Z"
   },
   {
    "duration": 53,
    "start_time": "2022-03-30T04:29:46.122Z"
   },
   {
    "duration": 499,
    "start_time": "2022-03-30T04:29:46.177Z"
   },
   {
    "duration": 823,
    "start_time": "2022-03-30T04:29:46.679Z"
   },
   {
    "duration": 514,
    "start_time": "2022-03-30T04:29:47.504Z"
   },
   {
    "duration": 461,
    "start_time": "2022-03-30T04:29:48.022Z"
   },
   {
    "duration": 348,
    "start_time": "2022-03-30T04:29:48.485Z"
   },
   {
    "duration": 448,
    "start_time": "2022-03-30T04:29:48.835Z"
   },
   {
    "duration": 19,
    "start_time": "2022-03-30T04:29:49.286Z"
   },
   {
    "duration": 428,
    "start_time": "2022-03-30T04:29:49.308Z"
   },
   {
    "duration": 7,
    "start_time": "2022-03-30T04:29:49.739Z"
   },
   {
    "duration": 646,
    "start_time": "2022-03-30T04:29:49.749Z"
   },
   {
    "duration": 7,
    "start_time": "2022-03-30T04:29:50.397Z"
   },
   {
    "duration": 558,
    "start_time": "2022-03-30T04:29:50.406Z"
   },
   {
    "duration": 15,
    "start_time": "2022-03-30T04:29:50.973Z"
   },
   {
    "duration": 35,
    "start_time": "2022-03-30T04:29:50.990Z"
   },
   {
    "duration": 49,
    "start_time": "2022-03-30T04:29:51.027Z"
   },
   {
    "duration": 53,
    "start_time": "2022-03-30T04:29:51.078Z"
   },
   {
    "duration": 20,
    "start_time": "2022-03-30T04:29:51.133Z"
   },
   {
    "duration": 5,
    "start_time": "2022-03-30T04:34:39.305Z"
   },
   {
    "duration": 88,
    "start_time": "2022-03-30T04:34:39.830Z"
   },
   {
    "duration": 42,
    "start_time": "2022-03-30T04:43:41.498Z"
   },
   {
    "duration": 1297,
    "start_time": "2022-03-30T04:43:44.853Z"
   },
   {
    "duration": 24,
    "start_time": "2022-03-30T04:43:46.152Z"
   },
   {
    "duration": 12,
    "start_time": "2022-03-30T04:43:46.177Z"
   },
   {
    "duration": 10,
    "start_time": "2022-03-30T04:43:46.191Z"
   },
   {
    "duration": 11,
    "start_time": "2022-03-30T04:43:46.202Z"
   },
   {
    "duration": 48,
    "start_time": "2022-03-30T04:43:46.215Z"
   },
   {
    "duration": 19,
    "start_time": "2022-03-30T04:43:46.264Z"
   },
   {
    "duration": 16,
    "start_time": "2022-03-30T04:43:46.285Z"
   },
   {
    "duration": 283,
    "start_time": "2022-03-30T04:43:46.302Z"
   },
   {
    "duration": 235,
    "start_time": "2022-03-30T04:43:46.588Z"
   },
   {
    "duration": 163,
    "start_time": "2022-03-30T04:43:46.825Z"
   },
   {
    "duration": 337,
    "start_time": "2022-03-30T04:43:46.989Z"
   },
   {
    "duration": 380,
    "start_time": "2022-03-30T04:43:47.327Z"
   },
   {
    "duration": 401,
    "start_time": "2022-03-30T04:43:47.708Z"
   },
   {
    "duration": 11,
    "start_time": "2022-03-30T04:43:48.111Z"
   },
   {
    "duration": 405,
    "start_time": "2022-03-30T04:43:48.123Z"
   },
   {
    "duration": 5,
    "start_time": "2022-03-30T04:43:48.580Z"
   },
   {
    "duration": 623,
    "start_time": "2022-03-30T04:43:48.586Z"
   },
   {
    "duration": 4,
    "start_time": "2022-03-30T04:43:49.211Z"
   },
   {
    "duration": 597,
    "start_time": "2022-03-30T04:43:49.217Z"
   },
   {
    "duration": 3,
    "start_time": "2022-03-30T04:43:49.816Z"
   },
   {
    "duration": 63,
    "start_time": "2022-03-30T04:43:49.820Z"
   },
   {
    "duration": 8,
    "start_time": "2022-03-30T04:43:49.884Z"
   },
   {
    "duration": 9,
    "start_time": "2022-03-30T04:43:49.893Z"
   },
   {
    "duration": 22,
    "start_time": "2022-03-30T04:43:49.903Z"
   },
   {
    "duration": 64,
    "start_time": "2022-03-30T04:43:49.926Z"
   },
   {
    "duration": 11,
    "start_time": "2022-03-30T04:43:57.601Z"
   },
   {
    "duration": 238,
    "start_time": "2022-03-30T05:54:53.309Z"
   },
   {
    "duration": 240,
    "start_time": "2022-03-30T05:55:32.947Z"
   },
   {
    "duration": 220,
    "start_time": "2022-03-30T05:55:40.454Z"
   },
   {
    "duration": 156,
    "start_time": "2022-03-30T05:56:25.778Z"
   },
   {
    "duration": 14,
    "start_time": "2022-03-30T05:56:29.451Z"
   },
   {
    "duration": 8,
    "start_time": "2022-03-30T05:56:52.466Z"
   },
   {
    "duration": 9,
    "start_time": "2022-03-30T06:04:12.508Z"
   },
   {
    "duration": 8,
    "start_time": "2022-03-30T06:04:16.908Z"
   },
   {
    "duration": 8,
    "start_time": "2022-03-30T06:04:21.316Z"
   },
   {
    "duration": 235,
    "start_time": "2022-03-30T06:04:31.228Z"
   },
   {
    "duration": 215,
    "start_time": "2022-03-30T06:04:40.235Z"
   },
   {
    "duration": 43,
    "start_time": "2022-03-30T06:05:24.923Z"
   },
   {
    "duration": 160,
    "start_time": "2022-03-30T06:06:06.395Z"
   },
   {
    "duration": 195,
    "start_time": "2022-03-30T06:06:46.779Z"
   },
   {
    "duration": 48,
    "start_time": "2022-03-30T06:07:04.177Z"
   },
   {
    "duration": 171,
    "start_time": "2022-03-30T06:07:36.273Z"
   },
   {
    "duration": 176,
    "start_time": "2022-03-30T06:08:06.161Z"
   },
   {
    "duration": 31,
    "start_time": "2022-03-30T06:08:23.224Z"
   },
   {
    "duration": 21,
    "start_time": "2022-03-30T06:13:35.683Z"
   },
   {
    "duration": 14,
    "start_time": "2022-03-30T06:13:48.100Z"
   },
   {
    "duration": 184,
    "start_time": "2022-03-30T06:15:09.739Z"
   },
   {
    "duration": 154,
    "start_time": "2022-03-30T06:15:18.011Z"
   },
   {
    "duration": 4,
    "start_time": "2022-03-30T07:12:17.553Z"
   },
   {
    "duration": 63,
    "start_time": "2022-03-30T07:14:53.942Z"
   },
   {
    "duration": 11,
    "start_time": "2022-03-30T07:14:58.533Z"
   },
   {
    "duration": 12,
    "start_time": "2022-03-30T07:15:37.029Z"
   },
   {
    "duration": 13,
    "start_time": "2022-03-30T07:15:40.431Z"
   },
   {
    "duration": 11,
    "start_time": "2022-03-30T07:15:45.909Z"
   },
   {
    "duration": 11,
    "start_time": "2022-03-30T07:15:48.303Z"
   },
   {
    "duration": 12,
    "start_time": "2022-03-30T07:15:50.700Z"
   },
   {
    "duration": 12,
    "start_time": "2022-03-30T07:15:55.516Z"
   },
   {
    "duration": 11,
    "start_time": "2022-03-30T07:15:59.788Z"
   },
   {
    "duration": 13,
    "start_time": "2022-03-30T07:16:01.652Z"
   },
   {
    "duration": 3,
    "start_time": "2022-03-30T07:16:07.347Z"
   },
   {
    "duration": 20,
    "start_time": "2022-03-30T07:16:09.517Z"
   },
   {
    "duration": 11,
    "start_time": "2022-03-30T07:16:11.893Z"
   },
   {
    "duration": 10,
    "start_time": "2022-03-30T07:16:13.940Z"
   },
   {
    "duration": 12,
    "start_time": "2022-03-30T07:16:17.355Z"
   },
   {
    "duration": 7,
    "start_time": "2022-03-30T07:16:43.700Z"
   },
   {
    "duration": 11,
    "start_time": "2022-03-30T07:16:49.000Z"
   },
   {
    "duration": 12,
    "start_time": "2022-03-30T07:16:55.412Z"
   },
   {
    "duration": 13,
    "start_time": "2022-03-30T07:16:59.036Z"
   },
   {
    "duration": 2,
    "start_time": "2022-03-30T07:17:08.868Z"
   },
   {
    "duration": 1330,
    "start_time": "2022-03-31T04:09:29.298Z"
   },
   {
    "duration": 20,
    "start_time": "2022-03-31T04:09:30.632Z"
   },
   {
    "duration": 14,
    "start_time": "2022-03-31T04:09:30.653Z"
   },
   {
    "duration": 13,
    "start_time": "2022-03-31T04:09:30.670Z"
   },
   {
    "duration": 39,
    "start_time": "2022-03-31T04:09:30.685Z"
   },
   {
    "duration": 22,
    "start_time": "2022-03-31T04:09:30.726Z"
   },
   {
    "duration": 38,
    "start_time": "2022-03-31T04:09:30.750Z"
   },
   {
    "duration": 25,
    "start_time": "2022-03-31T04:09:30.790Z"
   },
   {
    "duration": 21,
    "start_time": "2022-03-31T04:09:30.816Z"
   },
   {
    "duration": 299,
    "start_time": "2022-03-31T04:09:30.841Z"
   },
   {
    "duration": 266,
    "start_time": "2022-03-31T04:09:31.142Z"
   },
   {
    "duration": 183,
    "start_time": "2022-03-31T04:09:31.410Z"
   },
   {
    "duration": 367,
    "start_time": "2022-03-31T04:09:31.595Z"
   },
   {
    "duration": 188,
    "start_time": "2022-03-31T04:09:31.964Z"
   },
   {
    "duration": 262,
    "start_time": "2022-03-31T04:09:32.154Z"
   },
   {
    "duration": 21,
    "start_time": "2022-03-31T04:09:32.418Z"
   },
   {
    "duration": 233,
    "start_time": "2022-03-31T04:09:32.441Z"
   },
   {
    "duration": 5,
    "start_time": "2022-03-31T04:09:32.676Z"
   },
   {
    "duration": 339,
    "start_time": "2022-03-31T04:09:32.683Z"
   },
   {
    "duration": 11,
    "start_time": "2022-03-31T04:09:33.024Z"
   },
   {
    "duration": 324,
    "start_time": "2022-03-31T04:09:33.037Z"
   },
   {
    "duration": 3,
    "start_time": "2022-03-31T04:09:33.363Z"
   },
   {
    "duration": 12,
    "start_time": "2022-03-31T04:09:33.368Z"
   },
   {
    "duration": 12,
    "start_time": "2022-03-31T04:09:33.381Z"
   },
   {
    "duration": 9,
    "start_time": "2022-03-31T04:09:33.395Z"
   },
   {
    "duration": 38,
    "start_time": "2022-03-31T04:09:33.406Z"
   },
   {
    "duration": 11,
    "start_time": "2022-03-31T04:09:33.445Z"
   },
   {
    "duration": 231,
    "start_time": "2022-03-31T04:13:37.308Z"
   },
   {
    "duration": 221,
    "start_time": "2022-03-31T04:13:41.097Z"
   }
  ],
  "kernelspec": {
   "display_name": "Python 3 (ipykernel)",
   "language": "python",
   "name": "python3"
  },
  "language_info": {
   "codemirror_mode": {
    "name": "ipython",
    "version": 3
   },
   "file_extension": ".py",
   "mimetype": "text/x-python",
   "name": "python",
   "nbconvert_exporter": "python",
   "pygments_lexer": "ipython3",
   "version": "3.9.5"
  },
  "toc": {
   "base_numbering": 1,
   "nav_menu": {},
   "number_sections": true,
   "sideBar": true,
   "skip_h1_title": true,
   "title_cell": "Table of Contents",
   "title_sidebar": "Contents",
   "toc_cell": false,
   "toc_position": {},
   "toc_section_display": true,
   "toc_window_display": true
  }
 },
 "nbformat": 4,
 "nbformat_minor": 2
}
