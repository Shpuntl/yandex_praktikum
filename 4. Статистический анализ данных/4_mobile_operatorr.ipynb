{
 "cells": [
  {
   "cell_type": "markdown",
   "metadata": {},
   "source": [
    "# Определение перспективного тарифа для телеком-компании"
   ]
  },
  {
   "cell_type": "markdown",
   "metadata": {},
   "source": [
    "**Задача:**\n",
    "<br /> Нужно проанализировать клиентов и сделать вывод - какой тариф приносит больше денег."
   ]
  },
  {
   "cell_type": "markdown",
   "metadata": {},
   "source": [
    "**Описание тарифов:**\n",
    "* «Мегалайн» всегда округляет вверх значения минут и мегабайтов. Если пользователь проговорил всего 1 секунду, в тарифе засчитывается целая минута.*\n",
    "<br />\n",
    "\n",
    "* Тариф «Смарт»\n",
    "<br />Ежемесячная плата: 550 рублей\n",
    "<br />Включено 500 минут разговора, 50 сообщений и 15 Гб интернет-трафика\n",
    "<br />Стоимость услуг сверх тарифного пакета: 1. минута разговора: 3 рубля («Мегалайн» всегда округляет вверх значения минут и <br />мегабайтов. Если пользователь проговорил всего 1 секунду, в тарифе засчитывается целая минута); 2. сообщение: 3 рубля; 3. <br />1 Гб интернет-трафика: 200 рублей.\n",
    "<br />\n",
    "* Тариф «Ультра»\n",
    "<br />Ежемесячная плата: 1950 рублей\n",
    "<br />Включено 3000 минут разговора, 1000 сообщений и 30 Гб интернет-трафика\n",
    "<br />Стоимость услуг сверх тарифного пакета: 1. минута разговора: 1 рубль; 2. сообщение: 1 рубль; 3. 1 Гб интернет-трафика: 150 рублей.\n"
   ]
  },
  {
   "cell_type": "markdown",
   "metadata": {},
   "source": [
    "**Описание данных:**\n",
    "\n",
    "<br />Таблица `users` (информация о пользователях):\n",
    "* user_id — уникальный идентификатор пользователя\n",
    "* first_name — имя пользователя\n",
    "* last_name — фамилия пользователя\n",
    "* age — возраст пользователя (годы)\n",
    "* reg_date — дата подключения тарифа (день, месяц, год)\n",
    "* churn_date — дата прекращения пользования тарифом (если значение пропущено, то тариф ещё действовал на момент выгрузки данных)\n",
    "* city — город проживания пользователя\n",
    "* tarif — название тарифного плана\n",
    "\n",
    "<br />Таблица `calls` (информация о звонках):\n",
    "* id — уникальный номер звонка\n",
    "* call_date — дата звонка\n",
    "* duration — длительность звонка в минутах\n",
    "* user_id — идентификатор пользователя, сделавшего звонок\n",
    "\n",
    "<br />Таблица `messages` (информация о сообщениях):\n",
    "* id — уникальный номер сообщения\n",
    "* message_date — дата сообщения\n",
    "* user_id — идентификатор пользователя, отправившего сообщение\n",
    "\n",
    "<br />Таблица `internet` (информация об интернет-сессиях):\n",
    "* id — уникальный номер сессии\n",
    "* mb_used — объём потраченного за сессию интернет-трафика (в мегабайтах)\n",
    "* session_date — дата интернет-сессии\n",
    "* user_id — идентификатор пользователя\n",
    "\n",
    "<br />Таблица `tariffs` (информация о тарифах):\n",
    "* tariff_name — название тарифа\n",
    "* rub_monthly_fee — ежемесячная абонентская плата в рублях\n",
    "* minutes_included — количество минут разговора в месяц, включённых в абонентскую плату\n",
    "* messages_included — количество сообщений в месяц, включённых в абонентскую плату\n",
    "* mb_per_month_included — объём интернет-трафика, включённого в абонентскую плату (в мегабайтах)\n",
    "* rub_per_minute — стоимость минуты разговора сверх тарифного пакета (например, если в тарифе 100 минут разговора в месяц, то со 101 минуты будет взиматься плата)\n",
    "* rub_per_message — стоимость отправки сообщения сверх тарифного пакета\n",
    "* rub_per_gb — стоимость дополнительного гигабайта интернет-трафика сверх тарифного пакета (1 гигабайт = 1024 мегабайта)"
   ]
  },
  {
   "cell_type": "markdown",
   "metadata": {},
   "source": [
    "## Общая информация о данных"
   ]
  },
  {
   "cell_type": "markdown",
   "metadata": {},
   "source": [
    "Открываем файлы с данными и изучаем общую информацию."
   ]
  },
  {
   "cell_type": "code",
   "execution_count": 1,
   "metadata": {},
   "outputs": [],
   "source": [
    "#импорт библиотек\n",
    "import pandas as pd\n",
    "import matplotlib.pyplot as plt\n",
    "import math\n",
    "import seaborn as sb\n",
    "import numpy as np\n",
    "from scipy import stats as st\n",
    "import copy\n",
    "\n",
    "df_calls = pd.read_csv('/datasets/calls.csv')\n",
    "df_internet = pd.read_csv('/datasets/internet.csv')\n",
    "df_messages = pd.read_csv('/datasets/messages.csv')\n",
    "df_tariffs = pd.read_csv('/datasets/tariffs.csv')\n",
    "df_users = pd.read_csv('/datasets/users.csv')"
   ]
  },
  {
   "cell_type": "code",
   "execution_count": 2,
   "metadata": {
    "scrolled": true
   },
   "outputs": [
    {
     "name": "stdout",
     "output_type": "stream",
     "text": [
      "==================== Информация о звонках ====================\n"
     ]
    },
    {
     "data": {
      "text/html": [
       "<div>\n",
       "<style scoped>\n",
       "    .dataframe tbody tr th:only-of-type {\n",
       "        vertical-align: middle;\n",
       "    }\n",
       "\n",
       "    .dataframe tbody tr th {\n",
       "        vertical-align: top;\n",
       "    }\n",
       "\n",
       "    .dataframe thead th {\n",
       "        text-align: right;\n",
       "    }\n",
       "</style>\n",
       "<table border=\"1\" class=\"dataframe\">\n",
       "  <thead>\n",
       "    <tr style=\"text-align: right;\">\n",
       "      <th></th>\n",
       "      <th>id</th>\n",
       "      <th>call_date</th>\n",
       "      <th>duration</th>\n",
       "      <th>user_id</th>\n",
       "    </tr>\n",
       "  </thead>\n",
       "  <tbody>\n",
       "    <tr>\n",
       "      <th>0</th>\n",
       "      <td>1000_0</td>\n",
       "      <td>2018-07-25</td>\n",
       "      <td>0.00</td>\n",
       "      <td>1000</td>\n",
       "    </tr>\n",
       "    <tr>\n",
       "      <th>1</th>\n",
       "      <td>1000_1</td>\n",
       "      <td>2018-08-17</td>\n",
       "      <td>0.00</td>\n",
       "      <td>1000</td>\n",
       "    </tr>\n",
       "    <tr>\n",
       "      <th>2</th>\n",
       "      <td>1000_2</td>\n",
       "      <td>2018-06-11</td>\n",
       "      <td>2.85</td>\n",
       "      <td>1000</td>\n",
       "    </tr>\n",
       "    <tr>\n",
       "      <th>3</th>\n",
       "      <td>1000_3</td>\n",
       "      <td>2018-09-21</td>\n",
       "      <td>13.80</td>\n",
       "      <td>1000</td>\n",
       "    </tr>\n",
       "    <tr>\n",
       "      <th>4</th>\n",
       "      <td>1000_4</td>\n",
       "      <td>2018-12-15</td>\n",
       "      <td>5.18</td>\n",
       "      <td>1000</td>\n",
       "    </tr>\n",
       "    <tr>\n",
       "      <th>5</th>\n",
       "      <td>1000_5</td>\n",
       "      <td>2018-11-02</td>\n",
       "      <td>0.00</td>\n",
       "      <td>1000</td>\n",
       "    </tr>\n",
       "    <tr>\n",
       "      <th>6</th>\n",
       "      <td>1000_6</td>\n",
       "      <td>2018-10-18</td>\n",
       "      <td>0.00</td>\n",
       "      <td>1000</td>\n",
       "    </tr>\n",
       "    <tr>\n",
       "      <th>7</th>\n",
       "      <td>1000_7</td>\n",
       "      <td>2018-08-22</td>\n",
       "      <td>18.31</td>\n",
       "      <td>1000</td>\n",
       "    </tr>\n",
       "    <tr>\n",
       "      <th>8</th>\n",
       "      <td>1000_8</td>\n",
       "      <td>2018-09-15</td>\n",
       "      <td>18.44</td>\n",
       "      <td>1000</td>\n",
       "    </tr>\n",
       "    <tr>\n",
       "      <th>9</th>\n",
       "      <td>1000_9</td>\n",
       "      <td>2018-08-15</td>\n",
       "      <td>0.00</td>\n",
       "      <td>1000</td>\n",
       "    </tr>\n",
       "  </tbody>\n",
       "</table>\n",
       "</div>"
      ],
      "text/plain": [
       "       id   call_date  duration  user_id\n",
       "0  1000_0  2018-07-25      0.00     1000\n",
       "1  1000_1  2018-08-17      0.00     1000\n",
       "2  1000_2  2018-06-11      2.85     1000\n",
       "3  1000_3  2018-09-21     13.80     1000\n",
       "4  1000_4  2018-12-15      5.18     1000\n",
       "5  1000_5  2018-11-02      0.00     1000\n",
       "6  1000_6  2018-10-18      0.00     1000\n",
       "7  1000_7  2018-08-22     18.31     1000\n",
       "8  1000_8  2018-09-15     18.44     1000\n",
       "9  1000_9  2018-08-15      0.00     1000"
      ]
     },
     "metadata": {},
     "output_type": "display_data"
    },
    {
     "name": "stdout",
     "output_type": "stream",
     "text": [
      "<class 'pandas.core.frame.DataFrame'>\n",
      "RangeIndex: 202607 entries, 0 to 202606\n",
      "Data columns (total 4 columns):\n",
      " #   Column     Non-Null Count   Dtype  \n",
      "---  ------     --------------   -----  \n",
      " 0   id         202607 non-null  object \n",
      " 1   call_date  202607 non-null  object \n",
      " 2   duration   202607 non-null  float64\n",
      " 3   user_id    202607 non-null  int64  \n",
      "dtypes: float64(1), int64(1), object(2)\n",
      "memory usage: 6.2+ MB\n"
     ]
    },
    {
     "data": {
      "text/plain": [
       "None"
      ]
     },
     "metadata": {},
     "output_type": "display_data"
    },
    {
     "name": "stdout",
     "output_type": "stream",
     "text": [
      "==================== Информация об интернет-сессиях ====================\n"
     ]
    },
    {
     "data": {
      "text/html": [
       "<div>\n",
       "<style scoped>\n",
       "    .dataframe tbody tr th:only-of-type {\n",
       "        vertical-align: middle;\n",
       "    }\n",
       "\n",
       "    .dataframe tbody tr th {\n",
       "        vertical-align: top;\n",
       "    }\n",
       "\n",
       "    .dataframe thead th {\n",
       "        text-align: right;\n",
       "    }\n",
       "</style>\n",
       "<table border=\"1\" class=\"dataframe\">\n",
       "  <thead>\n",
       "    <tr style=\"text-align: right;\">\n",
       "      <th></th>\n",
       "      <th>Unnamed: 0</th>\n",
       "      <th>id</th>\n",
       "      <th>mb_used</th>\n",
       "      <th>session_date</th>\n",
       "      <th>user_id</th>\n",
       "    </tr>\n",
       "  </thead>\n",
       "  <tbody>\n",
       "    <tr>\n",
       "      <th>0</th>\n",
       "      <td>0</td>\n",
       "      <td>1000_0</td>\n",
       "      <td>112.95</td>\n",
       "      <td>2018-11-25</td>\n",
       "      <td>1000</td>\n",
       "    </tr>\n",
       "    <tr>\n",
       "      <th>1</th>\n",
       "      <td>1</td>\n",
       "      <td>1000_1</td>\n",
       "      <td>1052.81</td>\n",
       "      <td>2018-09-07</td>\n",
       "      <td>1000</td>\n",
       "    </tr>\n",
       "    <tr>\n",
       "      <th>2</th>\n",
       "      <td>2</td>\n",
       "      <td>1000_2</td>\n",
       "      <td>1197.26</td>\n",
       "      <td>2018-06-25</td>\n",
       "      <td>1000</td>\n",
       "    </tr>\n",
       "    <tr>\n",
       "      <th>3</th>\n",
       "      <td>3</td>\n",
       "      <td>1000_3</td>\n",
       "      <td>550.27</td>\n",
       "      <td>2018-08-22</td>\n",
       "      <td>1000</td>\n",
       "    </tr>\n",
       "    <tr>\n",
       "      <th>4</th>\n",
       "      <td>4</td>\n",
       "      <td>1000_4</td>\n",
       "      <td>302.56</td>\n",
       "      <td>2018-09-24</td>\n",
       "      <td>1000</td>\n",
       "    </tr>\n",
       "    <tr>\n",
       "      <th>5</th>\n",
       "      <td>5</td>\n",
       "      <td>1000_5</td>\n",
       "      <td>399.97</td>\n",
       "      <td>2018-10-02</td>\n",
       "      <td>1000</td>\n",
       "    </tr>\n",
       "    <tr>\n",
       "      <th>6</th>\n",
       "      <td>6</td>\n",
       "      <td>1000_6</td>\n",
       "      <td>540.08</td>\n",
       "      <td>2018-09-07</td>\n",
       "      <td>1000</td>\n",
       "    </tr>\n",
       "    <tr>\n",
       "      <th>7</th>\n",
       "      <td>7</td>\n",
       "      <td>1000_7</td>\n",
       "      <td>415.70</td>\n",
       "      <td>2018-07-11</td>\n",
       "      <td>1000</td>\n",
       "    </tr>\n",
       "    <tr>\n",
       "      <th>8</th>\n",
       "      <td>8</td>\n",
       "      <td>1000_8</td>\n",
       "      <td>505.40</td>\n",
       "      <td>2018-10-08</td>\n",
       "      <td>1000</td>\n",
       "    </tr>\n",
       "    <tr>\n",
       "      <th>9</th>\n",
       "      <td>9</td>\n",
       "      <td>1000_9</td>\n",
       "      <td>345.54</td>\n",
       "      <td>2018-09-03</td>\n",
       "      <td>1000</td>\n",
       "    </tr>\n",
       "  </tbody>\n",
       "</table>\n",
       "</div>"
      ],
      "text/plain": [
       "   Unnamed: 0      id  mb_used session_date  user_id\n",
       "0           0  1000_0   112.95   2018-11-25     1000\n",
       "1           1  1000_1  1052.81   2018-09-07     1000\n",
       "2           2  1000_2  1197.26   2018-06-25     1000\n",
       "3           3  1000_3   550.27   2018-08-22     1000\n",
       "4           4  1000_4   302.56   2018-09-24     1000\n",
       "5           5  1000_5   399.97   2018-10-02     1000\n",
       "6           6  1000_6   540.08   2018-09-07     1000\n",
       "7           7  1000_7   415.70   2018-07-11     1000\n",
       "8           8  1000_8   505.40   2018-10-08     1000\n",
       "9           9  1000_9   345.54   2018-09-03     1000"
      ]
     },
     "metadata": {},
     "output_type": "display_data"
    },
    {
     "name": "stdout",
     "output_type": "stream",
     "text": [
      "<class 'pandas.core.frame.DataFrame'>\n",
      "RangeIndex: 149396 entries, 0 to 149395\n",
      "Data columns (total 5 columns):\n",
      " #   Column        Non-Null Count   Dtype  \n",
      "---  ------        --------------   -----  \n",
      " 0   Unnamed: 0    149396 non-null  int64  \n",
      " 1   id            149396 non-null  object \n",
      " 2   mb_used       149396 non-null  float64\n",
      " 3   session_date  149396 non-null  object \n",
      " 4   user_id       149396 non-null  int64  \n",
      "dtypes: float64(1), int64(2), object(2)\n",
      "memory usage: 5.7+ MB\n"
     ]
    },
    {
     "data": {
      "text/plain": [
       "None"
      ]
     },
     "metadata": {},
     "output_type": "display_data"
    },
    {
     "name": "stdout",
     "output_type": "stream",
     "text": [
      "==================== Информация о сообщениях ====================\n"
     ]
    },
    {
     "data": {
      "text/html": [
       "<div>\n",
       "<style scoped>\n",
       "    .dataframe tbody tr th:only-of-type {\n",
       "        vertical-align: middle;\n",
       "    }\n",
       "\n",
       "    .dataframe tbody tr th {\n",
       "        vertical-align: top;\n",
       "    }\n",
       "\n",
       "    .dataframe thead th {\n",
       "        text-align: right;\n",
       "    }\n",
       "</style>\n",
       "<table border=\"1\" class=\"dataframe\">\n",
       "  <thead>\n",
       "    <tr style=\"text-align: right;\">\n",
       "      <th></th>\n",
       "      <th>id</th>\n",
       "      <th>message_date</th>\n",
       "      <th>user_id</th>\n",
       "    </tr>\n",
       "  </thead>\n",
       "  <tbody>\n",
       "    <tr>\n",
       "      <th>0</th>\n",
       "      <td>1000_0</td>\n",
       "      <td>2018-06-27</td>\n",
       "      <td>1000</td>\n",
       "    </tr>\n",
       "    <tr>\n",
       "      <th>1</th>\n",
       "      <td>1000_1</td>\n",
       "      <td>2018-10-08</td>\n",
       "      <td>1000</td>\n",
       "    </tr>\n",
       "    <tr>\n",
       "      <th>2</th>\n",
       "      <td>1000_2</td>\n",
       "      <td>2018-08-04</td>\n",
       "      <td>1000</td>\n",
       "    </tr>\n",
       "    <tr>\n",
       "      <th>3</th>\n",
       "      <td>1000_3</td>\n",
       "      <td>2018-06-16</td>\n",
       "      <td>1000</td>\n",
       "    </tr>\n",
       "    <tr>\n",
       "      <th>4</th>\n",
       "      <td>1000_4</td>\n",
       "      <td>2018-12-05</td>\n",
       "      <td>1000</td>\n",
       "    </tr>\n",
       "    <tr>\n",
       "      <th>5</th>\n",
       "      <td>1000_5</td>\n",
       "      <td>2018-06-20</td>\n",
       "      <td>1000</td>\n",
       "    </tr>\n",
       "    <tr>\n",
       "      <th>6</th>\n",
       "      <td>1000_6</td>\n",
       "      <td>2018-11-19</td>\n",
       "      <td>1000</td>\n",
       "    </tr>\n",
       "    <tr>\n",
       "      <th>7</th>\n",
       "      <td>1000_7</td>\n",
       "      <td>2018-10-29</td>\n",
       "      <td>1000</td>\n",
       "    </tr>\n",
       "    <tr>\n",
       "      <th>8</th>\n",
       "      <td>1000_8</td>\n",
       "      <td>2018-06-25</td>\n",
       "      <td>1000</td>\n",
       "    </tr>\n",
       "    <tr>\n",
       "      <th>9</th>\n",
       "      <td>1000_9</td>\n",
       "      <td>2018-12-18</td>\n",
       "      <td>1000</td>\n",
       "    </tr>\n",
       "  </tbody>\n",
       "</table>\n",
       "</div>"
      ],
      "text/plain": [
       "       id message_date  user_id\n",
       "0  1000_0   2018-06-27     1000\n",
       "1  1000_1   2018-10-08     1000\n",
       "2  1000_2   2018-08-04     1000\n",
       "3  1000_3   2018-06-16     1000\n",
       "4  1000_4   2018-12-05     1000\n",
       "5  1000_5   2018-06-20     1000\n",
       "6  1000_6   2018-11-19     1000\n",
       "7  1000_7   2018-10-29     1000\n",
       "8  1000_8   2018-06-25     1000\n",
       "9  1000_9   2018-12-18     1000"
      ]
     },
     "metadata": {},
     "output_type": "display_data"
    },
    {
     "name": "stdout",
     "output_type": "stream",
     "text": [
      "<class 'pandas.core.frame.DataFrame'>\n",
      "RangeIndex: 123036 entries, 0 to 123035\n",
      "Data columns (total 3 columns):\n",
      " #   Column        Non-Null Count   Dtype \n",
      "---  ------        --------------   ----- \n",
      " 0   id            123036 non-null  object\n",
      " 1   message_date  123036 non-null  object\n",
      " 2   user_id       123036 non-null  int64 \n",
      "dtypes: int64(1), object(2)\n",
      "memory usage: 2.8+ MB\n"
     ]
    },
    {
     "data": {
      "text/plain": [
       "None"
      ]
     },
     "metadata": {},
     "output_type": "display_data"
    },
    {
     "name": "stdout",
     "output_type": "stream",
     "text": [
      "==================== Информация о тарифах ====================\n"
     ]
    },
    {
     "data": {
      "text/html": [
       "<div>\n",
       "<style scoped>\n",
       "    .dataframe tbody tr th:only-of-type {\n",
       "        vertical-align: middle;\n",
       "    }\n",
       "\n",
       "    .dataframe tbody tr th {\n",
       "        vertical-align: top;\n",
       "    }\n",
       "\n",
       "    .dataframe thead th {\n",
       "        text-align: right;\n",
       "    }\n",
       "</style>\n",
       "<table border=\"1\" class=\"dataframe\">\n",
       "  <thead>\n",
       "    <tr style=\"text-align: right;\">\n",
       "      <th></th>\n",
       "      <th>messages_included</th>\n",
       "      <th>mb_per_month_included</th>\n",
       "      <th>minutes_included</th>\n",
       "      <th>rub_monthly_fee</th>\n",
       "      <th>rub_per_gb</th>\n",
       "      <th>rub_per_message</th>\n",
       "      <th>rub_per_minute</th>\n",
       "      <th>tariff_name</th>\n",
       "    </tr>\n",
       "  </thead>\n",
       "  <tbody>\n",
       "    <tr>\n",
       "      <th>0</th>\n",
       "      <td>50</td>\n",
       "      <td>15360</td>\n",
       "      <td>500</td>\n",
       "      <td>550</td>\n",
       "      <td>200</td>\n",
       "      <td>3</td>\n",
       "      <td>3</td>\n",
       "      <td>smart</td>\n",
       "    </tr>\n",
       "    <tr>\n",
       "      <th>1</th>\n",
       "      <td>1000</td>\n",
       "      <td>30720</td>\n",
       "      <td>3000</td>\n",
       "      <td>1950</td>\n",
       "      <td>150</td>\n",
       "      <td>1</td>\n",
       "      <td>1</td>\n",
       "      <td>ultra</td>\n",
       "    </tr>\n",
       "  </tbody>\n",
       "</table>\n",
       "</div>"
      ],
      "text/plain": [
       "   messages_included  mb_per_month_included  minutes_included  \\\n",
       "0                 50                  15360               500   \n",
       "1               1000                  30720              3000   \n",
       "\n",
       "   rub_monthly_fee  rub_per_gb  rub_per_message  rub_per_minute tariff_name  \n",
       "0              550         200                3               3       smart  \n",
       "1             1950         150                1               1       ultra  "
      ]
     },
     "metadata": {},
     "output_type": "display_data"
    },
    {
     "name": "stdout",
     "output_type": "stream",
     "text": [
      "<class 'pandas.core.frame.DataFrame'>\n",
      "RangeIndex: 2 entries, 0 to 1\n",
      "Data columns (total 8 columns):\n",
      " #   Column                 Non-Null Count  Dtype \n",
      "---  ------                 --------------  ----- \n",
      " 0   messages_included      2 non-null      int64 \n",
      " 1   mb_per_month_included  2 non-null      int64 \n",
      " 2   minutes_included       2 non-null      int64 \n",
      " 3   rub_monthly_fee        2 non-null      int64 \n",
      " 4   rub_per_gb             2 non-null      int64 \n",
      " 5   rub_per_message        2 non-null      int64 \n",
      " 6   rub_per_minute         2 non-null      int64 \n",
      " 7   tariff_name            2 non-null      object\n",
      "dtypes: int64(7), object(1)\n",
      "memory usage: 256.0+ bytes\n"
     ]
    },
    {
     "data": {
      "text/plain": [
       "None"
      ]
     },
     "metadata": {},
     "output_type": "display_data"
    },
    {
     "name": "stdout",
     "output_type": "stream",
     "text": [
      "==================== Информация о пользователях ====================\n"
     ]
    },
    {
     "data": {
      "text/html": [
       "<div>\n",
       "<style scoped>\n",
       "    .dataframe tbody tr th:only-of-type {\n",
       "        vertical-align: middle;\n",
       "    }\n",
       "\n",
       "    .dataframe tbody tr th {\n",
       "        vertical-align: top;\n",
       "    }\n",
       "\n",
       "    .dataframe thead th {\n",
       "        text-align: right;\n",
       "    }\n",
       "</style>\n",
       "<table border=\"1\" class=\"dataframe\">\n",
       "  <thead>\n",
       "    <tr style=\"text-align: right;\">\n",
       "      <th></th>\n",
       "      <th>user_id</th>\n",
       "      <th>age</th>\n",
       "      <th>churn_date</th>\n",
       "      <th>city</th>\n",
       "      <th>first_name</th>\n",
       "      <th>last_name</th>\n",
       "      <th>reg_date</th>\n",
       "      <th>tariff</th>\n",
       "    </tr>\n",
       "  </thead>\n",
       "  <tbody>\n",
       "    <tr>\n",
       "      <th>0</th>\n",
       "      <td>1000</td>\n",
       "      <td>52</td>\n",
       "      <td>NaN</td>\n",
       "      <td>Краснодар</td>\n",
       "      <td>Рафаил</td>\n",
       "      <td>Верещагин</td>\n",
       "      <td>2018-05-25</td>\n",
       "      <td>ultra</td>\n",
       "    </tr>\n",
       "    <tr>\n",
       "      <th>1</th>\n",
       "      <td>1001</td>\n",
       "      <td>41</td>\n",
       "      <td>NaN</td>\n",
       "      <td>Москва</td>\n",
       "      <td>Иван</td>\n",
       "      <td>Ежов</td>\n",
       "      <td>2018-11-01</td>\n",
       "      <td>smart</td>\n",
       "    </tr>\n",
       "    <tr>\n",
       "      <th>2</th>\n",
       "      <td>1002</td>\n",
       "      <td>59</td>\n",
       "      <td>NaN</td>\n",
       "      <td>Стерлитамак</td>\n",
       "      <td>Евгений</td>\n",
       "      <td>Абрамович</td>\n",
       "      <td>2018-06-17</td>\n",
       "      <td>smart</td>\n",
       "    </tr>\n",
       "    <tr>\n",
       "      <th>3</th>\n",
       "      <td>1003</td>\n",
       "      <td>23</td>\n",
       "      <td>NaN</td>\n",
       "      <td>Москва</td>\n",
       "      <td>Белла</td>\n",
       "      <td>Белякова</td>\n",
       "      <td>2018-08-17</td>\n",
       "      <td>ultra</td>\n",
       "    </tr>\n",
       "    <tr>\n",
       "      <th>4</th>\n",
       "      <td>1004</td>\n",
       "      <td>68</td>\n",
       "      <td>NaN</td>\n",
       "      <td>Новокузнецк</td>\n",
       "      <td>Татьяна</td>\n",
       "      <td>Авдеенко</td>\n",
       "      <td>2018-05-14</td>\n",
       "      <td>ultra</td>\n",
       "    </tr>\n",
       "    <tr>\n",
       "      <th>5</th>\n",
       "      <td>1005</td>\n",
       "      <td>67</td>\n",
       "      <td>NaN</td>\n",
       "      <td>Набережные Челны</td>\n",
       "      <td>Афанасий</td>\n",
       "      <td>Горлов</td>\n",
       "      <td>2018-01-25</td>\n",
       "      <td>smart</td>\n",
       "    </tr>\n",
       "    <tr>\n",
       "      <th>6</th>\n",
       "      <td>1006</td>\n",
       "      <td>21</td>\n",
       "      <td>NaN</td>\n",
       "      <td>Ульяновск</td>\n",
       "      <td>Леонид</td>\n",
       "      <td>Ермолаев</td>\n",
       "      <td>2018-02-26</td>\n",
       "      <td>smart</td>\n",
       "    </tr>\n",
       "    <tr>\n",
       "      <th>7</th>\n",
       "      <td>1007</td>\n",
       "      <td>65</td>\n",
       "      <td>NaN</td>\n",
       "      <td>Москва</td>\n",
       "      <td>Юна</td>\n",
       "      <td>Березина</td>\n",
       "      <td>2018-04-19</td>\n",
       "      <td>smart</td>\n",
       "    </tr>\n",
       "    <tr>\n",
       "      <th>8</th>\n",
       "      <td>1008</td>\n",
       "      <td>63</td>\n",
       "      <td>NaN</td>\n",
       "      <td>Челябинск</td>\n",
       "      <td>Рустэм</td>\n",
       "      <td>Пономарёв</td>\n",
       "      <td>2018-12-19</td>\n",
       "      <td>smart</td>\n",
       "    </tr>\n",
       "    <tr>\n",
       "      <th>9</th>\n",
       "      <td>1009</td>\n",
       "      <td>24</td>\n",
       "      <td>NaN</td>\n",
       "      <td>Пермь</td>\n",
       "      <td>Василиса</td>\n",
       "      <td>Блинова</td>\n",
       "      <td>2018-03-22</td>\n",
       "      <td>smart</td>\n",
       "    </tr>\n",
       "  </tbody>\n",
       "</table>\n",
       "</div>"
      ],
      "text/plain": [
       "   user_id  age churn_date              city first_name  last_name  \\\n",
       "0     1000   52        NaN         Краснодар     Рафаил  Верещагин   \n",
       "1     1001   41        NaN            Москва       Иван       Ежов   \n",
       "2     1002   59        NaN       Стерлитамак    Евгений  Абрамович   \n",
       "3     1003   23        NaN            Москва      Белла   Белякова   \n",
       "4     1004   68        NaN       Новокузнецк    Татьяна   Авдеенко   \n",
       "5     1005   67        NaN  Набережные Челны   Афанасий     Горлов   \n",
       "6     1006   21        NaN         Ульяновск     Леонид   Ермолаев   \n",
       "7     1007   65        NaN            Москва        Юна   Березина   \n",
       "8     1008   63        NaN         Челябинск     Рустэм  Пономарёв   \n",
       "9     1009   24        NaN             Пермь   Василиса    Блинова   \n",
       "\n",
       "     reg_date tariff  \n",
       "0  2018-05-25  ultra  \n",
       "1  2018-11-01  smart  \n",
       "2  2018-06-17  smart  \n",
       "3  2018-08-17  ultra  \n",
       "4  2018-05-14  ultra  \n",
       "5  2018-01-25  smart  \n",
       "6  2018-02-26  smart  \n",
       "7  2018-04-19  smart  \n",
       "8  2018-12-19  smart  \n",
       "9  2018-03-22  smart  "
      ]
     },
     "metadata": {},
     "output_type": "display_data"
    },
    {
     "name": "stdout",
     "output_type": "stream",
     "text": [
      "<class 'pandas.core.frame.DataFrame'>\n",
      "RangeIndex: 500 entries, 0 to 499\n",
      "Data columns (total 8 columns):\n",
      " #   Column      Non-Null Count  Dtype \n",
      "---  ------      --------------  ----- \n",
      " 0   user_id     500 non-null    int64 \n",
      " 1   age         500 non-null    int64 \n",
      " 2   churn_date  38 non-null     object\n",
      " 3   city        500 non-null    object\n",
      " 4   first_name  500 non-null    object\n",
      " 5   last_name   500 non-null    object\n",
      " 6   reg_date    500 non-null    object\n",
      " 7   tariff      500 non-null    object\n",
      "dtypes: int64(2), object(6)\n",
      "memory usage: 31.4+ KB\n"
     ]
    },
    {
     "data": {
      "text/plain": [
       "None"
      ]
     },
     "metadata": {},
     "output_type": "display_data"
    }
   ],
   "source": [
    "#получим общую информацию сразу по всем дф\n",
    "name_col = ['Информация о звонках', 'Информация об интернет-сессиях', 'Информация о сообщениях', 'Информация о тарифах', 'Информация о пользователях']\n",
    "i = 0\n",
    "for data in [df_calls, df_internet, df_messages, df_tariffs, df_users]:\n",
    "    (print('=' * 20, name_col[i], '=' * 20))\n",
    "    display(data.head(10))\n",
    "    display(data.info())\n",
    "    i = i + 1 \n",
    "    "
   ]
  },
  {
   "cell_type": "markdown",
   "metadata": {},
   "source": [
    "**Таблица `df_calls` - информация о звонках**\n",
    "* `call_date`- заменить тип данных на date\n",
    "* `duration` - округлим вверх и поменяем тип данных"
   ]
  },
  {
   "cell_type": "markdown",
   "metadata": {},
   "source": [
    "**Таблица `df_internet` - информация о интернет-сессиях:**\n",
    "* `Unnamed: 0` - непонятный столбец, удалим его\n",
    "* `mb_used` - округляем в большую сторону, меняем тип данных\n",
    "* `session_date` - меняем тип данных на date"
   ]
  },
  {
   "cell_type": "markdown",
   "metadata": {},
   "source": [
    "**Таблица `df_messages` - информация о сообщениях:**\n",
    "* `message_date` - меняем тип данных на date"
   ]
  },
  {
   "cell_type": "markdown",
   "metadata": {},
   "source": [
    "**Таблица `df_tariffs` - информация о тарифах:**\n",
    "* все в порядке"
   ]
  },
  {
   "cell_type": "markdown",
   "metadata": {},
   "source": [
    "**Таблица `df_users` - информация о пользователях:**\n",
    "* `reg_date` - меняем тип данных на date\n",
    "* `churn_date` - меняем тип данных на date\n"
   ]
  },
  {
   "cell_type": "markdown",
   "metadata": {},
   "source": [
    "## Предобработка данных"
   ]
  },
  {
   "cell_type": "markdown",
   "metadata": {},
   "source": [
    "### Подготовка данных ###"
   ]
  },
  {
   "cell_type": "markdown",
   "metadata": {},
   "source": [
    "**Таблица df_calls - информация о звонках**"
   ]
  },
  {
   "cell_type": "code",
   "execution_count": 3,
   "metadata": {},
   "outputs": [
    {
     "name": "stdout",
     "output_type": "stream",
     "text": [
      "<class 'pandas.core.frame.DataFrame'>\n",
      "RangeIndex: 202607 entries, 0 to 202606\n",
      "Data columns (total 5 columns):\n",
      " #   Column     Non-Null Count   Dtype         \n",
      "---  ------     --------------   -----         \n",
      " 0   id         202607 non-null  object        \n",
      " 1   call_date  202607 non-null  datetime64[ns]\n",
      " 2   duration   202607 non-null  int64         \n",
      " 3   user_id    202607 non-null  int64         \n",
      " 4   month      202607 non-null  int64         \n",
      "dtypes: datetime64[ns](1), int64(3), object(1)\n",
      "memory usage: 7.7+ MB\n"
     ]
    },
    {
     "data": {
      "text/html": [
       "<div>\n",
       "<style scoped>\n",
       "    .dataframe tbody tr th:only-of-type {\n",
       "        vertical-align: middle;\n",
       "    }\n",
       "\n",
       "    .dataframe tbody tr th {\n",
       "        vertical-align: top;\n",
       "    }\n",
       "\n",
       "    .dataframe thead th {\n",
       "        text-align: right;\n",
       "    }\n",
       "</style>\n",
       "<table border=\"1\" class=\"dataframe\">\n",
       "  <thead>\n",
       "    <tr style=\"text-align: right;\">\n",
       "      <th></th>\n",
       "      <th>id</th>\n",
       "      <th>call_date</th>\n",
       "      <th>duration</th>\n",
       "      <th>user_id</th>\n",
       "      <th>month</th>\n",
       "    </tr>\n",
       "  </thead>\n",
       "  <tbody>\n",
       "    <tr>\n",
       "      <th>0</th>\n",
       "      <td>1000_0</td>\n",
       "      <td>2018-07-25</td>\n",
       "      <td>0</td>\n",
       "      <td>1000</td>\n",
       "      <td>7</td>\n",
       "    </tr>\n",
       "    <tr>\n",
       "      <th>1</th>\n",
       "      <td>1000_1</td>\n",
       "      <td>2018-08-17</td>\n",
       "      <td>0</td>\n",
       "      <td>1000</td>\n",
       "      <td>8</td>\n",
       "    </tr>\n",
       "    <tr>\n",
       "      <th>2</th>\n",
       "      <td>1000_2</td>\n",
       "      <td>2018-06-11</td>\n",
       "      <td>3</td>\n",
       "      <td>1000</td>\n",
       "      <td>6</td>\n",
       "    </tr>\n",
       "    <tr>\n",
       "      <th>3</th>\n",
       "      <td>1000_3</td>\n",
       "      <td>2018-09-21</td>\n",
       "      <td>14</td>\n",
       "      <td>1000</td>\n",
       "      <td>9</td>\n",
       "    </tr>\n",
       "    <tr>\n",
       "      <th>4</th>\n",
       "      <td>1000_4</td>\n",
       "      <td>2018-12-15</td>\n",
       "      <td>6</td>\n",
       "      <td>1000</td>\n",
       "      <td>12</td>\n",
       "    </tr>\n",
       "  </tbody>\n",
       "</table>\n",
       "</div>"
      ],
      "text/plain": [
       "       id  call_date  duration  user_id  month\n",
       "0  1000_0 2018-07-25         0     1000      7\n",
       "1  1000_1 2018-08-17         0     1000      8\n",
       "2  1000_2 2018-06-11         3     1000      6\n",
       "3  1000_3 2018-09-21        14     1000      9\n",
       "4  1000_4 2018-12-15         6     1000     12"
      ]
     },
     "execution_count": 3,
     "metadata": {},
     "output_type": "execute_result"
    }
   ],
   "source": [
    "#Поменяем тип данных в call_date\n",
    "df_calls['call_date'] = pd.to_datetime(df_calls['call_date'])\n",
    "#Округлим вверх значения минут, т.к «Мегалайн» всегда округляет вверх значения минут и мегабайтов и переведем в int\n",
    "df_calls['duration'] = df_calls['duration'].apply(np.ceil).astype(int)\n",
    "#Добавим столбец с месяцем, это нам понадобится в дальнейшем\n",
    "df_calls['month'] = pd.DatetimeIndex(df_calls['call_date']).month\n",
    "df_calls.info()\n",
    "df_calls.head()\n"
   ]
  },
  {
   "cell_type": "markdown",
   "metadata": {},
   "source": [
    "**Таблица df_internet - информация о трафике**"
   ]
  },
  {
   "cell_type": "code",
   "execution_count": 4,
   "metadata": {},
   "outputs": [
    {
     "name": "stdout",
     "output_type": "stream",
     "text": [
      "<class 'pandas.core.frame.DataFrame'>\n",
      "RangeIndex: 149396 entries, 0 to 149395\n",
      "Data columns (total 5 columns):\n",
      " #   Column        Non-Null Count   Dtype         \n",
      "---  ------        --------------   -----         \n",
      " 0   id            149396 non-null  object        \n",
      " 1   mb_used       149396 non-null  int64         \n",
      " 2   session_date  149396 non-null  datetime64[ns]\n",
      " 3   user_id       149396 non-null  int64         \n",
      " 4   month         149396 non-null  int64         \n",
      "dtypes: datetime64[ns](1), int64(3), object(1)\n",
      "memory usage: 5.7+ MB\n"
     ]
    },
    {
     "data": {
      "text/html": [
       "<div>\n",
       "<style scoped>\n",
       "    .dataframe tbody tr th:only-of-type {\n",
       "        vertical-align: middle;\n",
       "    }\n",
       "\n",
       "    .dataframe tbody tr th {\n",
       "        vertical-align: top;\n",
       "    }\n",
       "\n",
       "    .dataframe thead th {\n",
       "        text-align: right;\n",
       "    }\n",
       "</style>\n",
       "<table border=\"1\" class=\"dataframe\">\n",
       "  <thead>\n",
       "    <tr style=\"text-align: right;\">\n",
       "      <th></th>\n",
       "      <th>id</th>\n",
       "      <th>mb_used</th>\n",
       "      <th>session_date</th>\n",
       "      <th>user_id</th>\n",
       "      <th>month</th>\n",
       "    </tr>\n",
       "  </thead>\n",
       "  <tbody>\n",
       "    <tr>\n",
       "      <th>0</th>\n",
       "      <td>1000_0</td>\n",
       "      <td>113</td>\n",
       "      <td>2018-11-25</td>\n",
       "      <td>1000</td>\n",
       "      <td>11</td>\n",
       "    </tr>\n",
       "    <tr>\n",
       "      <th>1</th>\n",
       "      <td>1000_1</td>\n",
       "      <td>1053</td>\n",
       "      <td>2018-09-07</td>\n",
       "      <td>1000</td>\n",
       "      <td>9</td>\n",
       "    </tr>\n",
       "    <tr>\n",
       "      <th>2</th>\n",
       "      <td>1000_2</td>\n",
       "      <td>1198</td>\n",
       "      <td>2018-06-25</td>\n",
       "      <td>1000</td>\n",
       "      <td>6</td>\n",
       "    </tr>\n",
       "    <tr>\n",
       "      <th>3</th>\n",
       "      <td>1000_3</td>\n",
       "      <td>551</td>\n",
       "      <td>2018-08-22</td>\n",
       "      <td>1000</td>\n",
       "      <td>8</td>\n",
       "    </tr>\n",
       "    <tr>\n",
       "      <th>4</th>\n",
       "      <td>1000_4</td>\n",
       "      <td>303</td>\n",
       "      <td>2018-09-24</td>\n",
       "      <td>1000</td>\n",
       "      <td>9</td>\n",
       "    </tr>\n",
       "  </tbody>\n",
       "</table>\n",
       "</div>"
      ],
      "text/plain": [
       "       id  mb_used session_date  user_id  month\n",
       "0  1000_0      113   2018-11-25     1000     11\n",
       "1  1000_1     1053   2018-09-07     1000      9\n",
       "2  1000_2     1198   2018-06-25     1000      6\n",
       "3  1000_3      551   2018-08-22     1000      8\n",
       "4  1000_4      303   2018-09-24     1000      9"
      ]
     },
     "execution_count": 4,
     "metadata": {},
     "output_type": "execute_result"
    }
   ],
   "source": [
    "# Поменяем тип данных в session_date\n",
    "df_internet['session_date'] = pd.to_datetime(df_internet['session_date'])\n",
    "# Unnamed: 0 удалим столбец за ненадобностью\n",
    "df_internet = df_internet.drop('Unnamed: 0', axis=1)\n",
    "# mb_used округляем в большую сторону, т.к «Мегалайн» всегда округляет вверх значения минут и мегабайтов, меняем тип данных\n",
    "df_internet['mb_used'] =  df_internet['mb_used'].apply(np.ceil).astype(int)\n",
    "#Добавим столбец с месяцем, это нам понадобится в дальнейшем\n",
    "df_internet['month'] = pd.DatetimeIndex(df_internet['session_date']).month\n",
    "df_internet.info()\n",
    "df_internet.head()\n"
   ]
  },
  {
   "cell_type": "markdown",
   "metadata": {},
   "source": [
    "**Таблица df_messages - информация о сообщениях**"
   ]
  },
  {
   "cell_type": "code",
   "execution_count": 5,
   "metadata": {},
   "outputs": [
    {
     "name": "stdout",
     "output_type": "stream",
     "text": [
      "<class 'pandas.core.frame.DataFrame'>\n",
      "RangeIndex: 123036 entries, 0 to 123035\n",
      "Data columns (total 4 columns):\n",
      " #   Column        Non-Null Count   Dtype         \n",
      "---  ------        --------------   -----         \n",
      " 0   id            123036 non-null  object        \n",
      " 1   message_date  123036 non-null  datetime64[ns]\n",
      " 2   user_id       123036 non-null  int64         \n",
      " 3   month         123036 non-null  int64         \n",
      "dtypes: datetime64[ns](1), int64(2), object(1)\n",
      "memory usage: 3.8+ MB\n"
     ]
    },
    {
     "data": {
      "text/html": [
       "<div>\n",
       "<style scoped>\n",
       "    .dataframe tbody tr th:only-of-type {\n",
       "        vertical-align: middle;\n",
       "    }\n",
       "\n",
       "    .dataframe tbody tr th {\n",
       "        vertical-align: top;\n",
       "    }\n",
       "\n",
       "    .dataframe thead th {\n",
       "        text-align: right;\n",
       "    }\n",
       "</style>\n",
       "<table border=\"1\" class=\"dataframe\">\n",
       "  <thead>\n",
       "    <tr style=\"text-align: right;\">\n",
       "      <th></th>\n",
       "      <th>id</th>\n",
       "      <th>message_date</th>\n",
       "      <th>user_id</th>\n",
       "      <th>month</th>\n",
       "    </tr>\n",
       "  </thead>\n",
       "  <tbody>\n",
       "    <tr>\n",
       "      <th>0</th>\n",
       "      <td>1000_0</td>\n",
       "      <td>2018-06-27</td>\n",
       "      <td>1000</td>\n",
       "      <td>6</td>\n",
       "    </tr>\n",
       "    <tr>\n",
       "      <th>1</th>\n",
       "      <td>1000_1</td>\n",
       "      <td>2018-10-08</td>\n",
       "      <td>1000</td>\n",
       "      <td>10</td>\n",
       "    </tr>\n",
       "    <tr>\n",
       "      <th>2</th>\n",
       "      <td>1000_2</td>\n",
       "      <td>2018-08-04</td>\n",
       "      <td>1000</td>\n",
       "      <td>8</td>\n",
       "    </tr>\n",
       "    <tr>\n",
       "      <th>3</th>\n",
       "      <td>1000_3</td>\n",
       "      <td>2018-06-16</td>\n",
       "      <td>1000</td>\n",
       "      <td>6</td>\n",
       "    </tr>\n",
       "    <tr>\n",
       "      <th>4</th>\n",
       "      <td>1000_4</td>\n",
       "      <td>2018-12-05</td>\n",
       "      <td>1000</td>\n",
       "      <td>12</td>\n",
       "    </tr>\n",
       "  </tbody>\n",
       "</table>\n",
       "</div>"
      ],
      "text/plain": [
       "       id message_date  user_id  month\n",
       "0  1000_0   2018-06-27     1000      6\n",
       "1  1000_1   2018-10-08     1000     10\n",
       "2  1000_2   2018-08-04     1000      8\n",
       "3  1000_3   2018-06-16     1000      6\n",
       "4  1000_4   2018-12-05     1000     12"
      ]
     },
     "execution_count": 5,
     "metadata": {},
     "output_type": "execute_result"
    }
   ],
   "source": [
    "# Поменяем тип данных в message_date\n",
    "df_messages['message_date'] = pd.to_datetime(df_messages['message_date'])\n",
    "# Добавим столбец с месяцем, это нам понадобится в дальнейшем\n",
    "df_messages['month'] = pd.DatetimeIndex(df_messages['message_date']).month\n",
    "df_messages.info()\n",
    "df_messages.head()"
   ]
  },
  {
   "cell_type": "markdown",
   "metadata": {},
   "source": [
    "**Таблица df_users - информация о пользователях**"
   ]
  },
  {
   "cell_type": "code",
   "execution_count": 6,
   "metadata": {},
   "outputs": [
    {
     "name": "stdout",
     "output_type": "stream",
     "text": [
      "<class 'pandas.core.frame.DataFrame'>\n",
      "RangeIndex: 500 entries, 0 to 499\n",
      "Data columns (total 8 columns):\n",
      " #   Column      Non-Null Count  Dtype         \n",
      "---  ------      --------------  -----         \n",
      " 0   user_id     500 non-null    int64         \n",
      " 1   age         500 non-null    int64         \n",
      " 2   churn_date  500 non-null    datetime64[ns]\n",
      " 3   city        500 non-null    object        \n",
      " 4   first_name  500 non-null    object        \n",
      " 5   last_name   500 non-null    object        \n",
      " 6   reg_date    500 non-null    datetime64[ns]\n",
      " 7   tariff      500 non-null    object        \n",
      "dtypes: datetime64[ns](2), int64(2), object(4)\n",
      "memory usage: 31.4+ KB\n"
     ]
    }
   ],
   "source": [
    "#Поменяем тип даных в reg_date и churn_date\n",
    "df_users['reg_date'] = pd.to_datetime(df_users['reg_date'])\n",
    "df_users['churn_date'] = pd.to_datetime(df_users['reg_date'])\n",
    "df_users.info()"
   ]
  },
  {
   "cell_type": "markdown",
   "metadata": {},
   "source": [
    "### Рассчет для каждого пользователя ###"
   ]
  },
  {
   "cell_type": "markdown",
   "metadata": {},
   "source": [
    "#### Количество сделанных звонков и израсходованных минут разговора по месяцам;"
   ]
  },
  {
   "cell_type": "code",
   "execution_count": 7,
   "metadata": {},
   "outputs": [
    {
     "data": {
      "text/html": [
       "<div>\n",
       "<style scoped>\n",
       "    .dataframe tbody tr th:only-of-type {\n",
       "        vertical-align: middle;\n",
       "    }\n",
       "\n",
       "    .dataframe tbody tr th {\n",
       "        vertical-align: top;\n",
       "    }\n",
       "\n",
       "    .dataframe thead th {\n",
       "        text-align: right;\n",
       "    }\n",
       "</style>\n",
       "<table border=\"1\" class=\"dataframe\">\n",
       "  <thead>\n",
       "    <tr style=\"text-align: right;\">\n",
       "      <th></th>\n",
       "      <th>user_id</th>\n",
       "      <th>month</th>\n",
       "      <th>call</th>\n",
       "      <th>minute</th>\n",
       "    </tr>\n",
       "  </thead>\n",
       "  <tbody>\n",
       "    <tr>\n",
       "      <th>0</th>\n",
       "      <td>1000</td>\n",
       "      <td>5</td>\n",
       "      <td>22</td>\n",
       "      <td>159</td>\n",
       "    </tr>\n",
       "    <tr>\n",
       "      <th>1</th>\n",
       "      <td>1000</td>\n",
       "      <td>6</td>\n",
       "      <td>43</td>\n",
       "      <td>172</td>\n",
       "    </tr>\n",
       "    <tr>\n",
       "      <th>2</th>\n",
       "      <td>1000</td>\n",
       "      <td>7</td>\n",
       "      <td>47</td>\n",
       "      <td>340</td>\n",
       "    </tr>\n",
       "    <tr>\n",
       "      <th>3</th>\n",
       "      <td>1000</td>\n",
       "      <td>8</td>\n",
       "      <td>52</td>\n",
       "      <td>408</td>\n",
       "    </tr>\n",
       "    <tr>\n",
       "      <th>4</th>\n",
       "      <td>1000</td>\n",
       "      <td>9</td>\n",
       "      <td>58</td>\n",
       "      <td>466</td>\n",
       "    </tr>\n",
       "  </tbody>\n",
       "</table>\n",
       "</div>"
      ],
      "text/plain": [
       "   user_id  month  call  minute\n",
       "0     1000      5    22     159\n",
       "1     1000      6    43     172\n",
       "2     1000      7    47     340\n",
       "3     1000      8    52     408\n",
       "4     1000      9    58     466"
      ]
     },
     "execution_count": 7,
     "metadata": {},
     "output_type": "execute_result"
    }
   ],
   "source": [
    "calls = df_calls.groupby(['user_id', 'month'])['duration'].agg(['count', 'sum']).reset_index()\n",
    "calls.columns = ['user_id','month','call','minute']\n",
    "calls.head()"
   ]
  },
  {
   "cell_type": "markdown",
   "metadata": {},
   "source": [
    "#### Количество отправленных сообщений по месяцам"
   ]
  },
  {
   "cell_type": "code",
   "execution_count": 8,
   "metadata": {},
   "outputs": [
    {
     "data": {
      "text/html": [
       "<div>\n",
       "<style scoped>\n",
       "    .dataframe tbody tr th:only-of-type {\n",
       "        vertical-align: middle;\n",
       "    }\n",
       "\n",
       "    .dataframe tbody tr th {\n",
       "        vertical-align: top;\n",
       "    }\n",
       "\n",
       "    .dataframe thead th {\n",
       "        text-align: right;\n",
       "    }\n",
       "</style>\n",
       "<table border=\"1\" class=\"dataframe\">\n",
       "  <thead>\n",
       "    <tr style=\"text-align: right;\">\n",
       "      <th></th>\n",
       "      <th>user_id</th>\n",
       "      <th>month</th>\n",
       "      <th>messages</th>\n",
       "    </tr>\n",
       "  </thead>\n",
       "  <tbody>\n",
       "    <tr>\n",
       "      <th>0</th>\n",
       "      <td>1000</td>\n",
       "      <td>5</td>\n",
       "      <td>22</td>\n",
       "    </tr>\n",
       "    <tr>\n",
       "      <th>1</th>\n",
       "      <td>1000</td>\n",
       "      <td>6</td>\n",
       "      <td>60</td>\n",
       "    </tr>\n",
       "    <tr>\n",
       "      <th>2</th>\n",
       "      <td>1000</td>\n",
       "      <td>7</td>\n",
       "      <td>75</td>\n",
       "    </tr>\n",
       "    <tr>\n",
       "      <th>3</th>\n",
       "      <td>1000</td>\n",
       "      <td>8</td>\n",
       "      <td>81</td>\n",
       "    </tr>\n",
       "    <tr>\n",
       "      <th>4</th>\n",
       "      <td>1000</td>\n",
       "      <td>9</td>\n",
       "      <td>57</td>\n",
       "    </tr>\n",
       "  </tbody>\n",
       "</table>\n",
       "</div>"
      ],
      "text/plain": [
       "   user_id  month  messages\n",
       "0     1000      5        22\n",
       "1     1000      6        60\n",
       "2     1000      7        75\n",
       "3     1000      8        81\n",
       "4     1000      9        57"
      ]
     },
     "execution_count": 8,
     "metadata": {},
     "output_type": "execute_result"
    }
   ],
   "source": [
    "messages = df_messages.groupby(['user_id', 'month'])['id'].count().reset_index()\n",
    "messages.columns = ['user_id', 'month', 'messages']\n",
    "messages.head()"
   ]
  },
  {
   "cell_type": "markdown",
   "metadata": {},
   "source": [
    "#### Объем израсходованного интернет-трафика по месяцам"
   ]
  },
  {
   "cell_type": "code",
   "execution_count": 9,
   "metadata": {},
   "outputs": [
    {
     "data": {
      "text/html": [
       "<div>\n",
       "<style scoped>\n",
       "    .dataframe tbody tr th:only-of-type {\n",
       "        vertical-align: middle;\n",
       "    }\n",
       "\n",
       "    .dataframe tbody tr th {\n",
       "        vertical-align: top;\n",
       "    }\n",
       "\n",
       "    .dataframe thead th {\n",
       "        text-align: right;\n",
       "    }\n",
       "</style>\n",
       "<table border=\"1\" class=\"dataframe\">\n",
       "  <thead>\n",
       "    <tr style=\"text-align: right;\">\n",
       "      <th></th>\n",
       "      <th>user_id</th>\n",
       "      <th>month</th>\n",
       "      <th>mb_used</th>\n",
       "    </tr>\n",
       "  </thead>\n",
       "  <tbody>\n",
       "    <tr>\n",
       "      <th>0</th>\n",
       "      <td>1000</td>\n",
       "      <td>5</td>\n",
       "      <td>2256</td>\n",
       "    </tr>\n",
       "    <tr>\n",
       "      <th>1</th>\n",
       "      <td>1000</td>\n",
       "      <td>6</td>\n",
       "      <td>23257</td>\n",
       "    </tr>\n",
       "    <tr>\n",
       "      <th>2</th>\n",
       "      <td>1000</td>\n",
       "      <td>7</td>\n",
       "      <td>14016</td>\n",
       "    </tr>\n",
       "    <tr>\n",
       "      <th>3</th>\n",
       "      <td>1000</td>\n",
       "      <td>8</td>\n",
       "      <td>14070</td>\n",
       "    </tr>\n",
       "    <tr>\n",
       "      <th>4</th>\n",
       "      <td>1000</td>\n",
       "      <td>9</td>\n",
       "      <td>14581</td>\n",
       "    </tr>\n",
       "  </tbody>\n",
       "</table>\n",
       "</div>"
      ],
      "text/plain": [
       "   user_id  month  mb_used\n",
       "0     1000      5     2256\n",
       "1     1000      6    23257\n",
       "2     1000      7    14016\n",
       "3     1000      8    14070\n",
       "4     1000      9    14581"
      ]
     },
     "execution_count": 9,
     "metadata": {},
     "output_type": "execute_result"
    }
   ],
   "source": [
    "traffic = df_internet.groupby(['user_id', 'month'])['mb_used'].sum().reset_index()\n",
    "traffic.head()"
   ]
  },
  {
   "cell_type": "markdown",
   "metadata": {},
   "source": [
    "#### Помесячная выручка с каждого пользователя"
   ]
  },
  {
   "cell_type": "markdown",
   "metadata": {},
   "source": [
    "Соединим все таблицы в одну"
   ]
  },
  {
   "cell_type": "code",
   "execution_count": 10,
   "metadata": {},
   "outputs": [
    {
     "name": "stdout",
     "output_type": "stream",
     "text": [
      "<class 'pandas.core.frame.DataFrame'>\n",
      "Int64Index: 3214 entries, 0 to 3213\n",
      "Data columns (total 7 columns):\n",
      " #   Column    Non-Null Count  Dtype  \n",
      "---  ------    --------------  -----  \n",
      " 0   user_id   3214 non-null   int64  \n",
      " 1   month     3214 non-null   int64  \n",
      " 2   call      3174 non-null   float64\n",
      " 3   minute    3174 non-null   float64\n",
      " 4   messages  2717 non-null   float64\n",
      " 5   mb_used   3203 non-null   float64\n",
      " 6   tariff    3214 non-null   object \n",
      "dtypes: float64(4), int64(2), object(1)\n",
      "memory usage: 200.9+ KB\n"
     ]
    },
    {
     "data": {
      "text/html": [
       "<div>\n",
       "<style scoped>\n",
       "    .dataframe tbody tr th:only-of-type {\n",
       "        vertical-align: middle;\n",
       "    }\n",
       "\n",
       "    .dataframe tbody tr th {\n",
       "        vertical-align: top;\n",
       "    }\n",
       "\n",
       "    .dataframe thead th {\n",
       "        text-align: right;\n",
       "    }\n",
       "</style>\n",
       "<table border=\"1\" class=\"dataframe\">\n",
       "  <thead>\n",
       "    <tr style=\"text-align: right;\">\n",
       "      <th></th>\n",
       "      <th>user_id</th>\n",
       "      <th>month</th>\n",
       "      <th>call</th>\n",
       "      <th>minute</th>\n",
       "      <th>messages</th>\n",
       "      <th>mb_used</th>\n",
       "      <th>tariff</th>\n",
       "    </tr>\n",
       "  </thead>\n",
       "  <tbody>\n",
       "    <tr>\n",
       "      <th>0</th>\n",
       "      <td>1000</td>\n",
       "      <td>5</td>\n",
       "      <td>22.0</td>\n",
       "      <td>159.0</td>\n",
       "      <td>22.0</td>\n",
       "      <td>2256.0</td>\n",
       "      <td>ultra</td>\n",
       "    </tr>\n",
       "    <tr>\n",
       "      <th>1</th>\n",
       "      <td>1000</td>\n",
       "      <td>6</td>\n",
       "      <td>43.0</td>\n",
       "      <td>172.0</td>\n",
       "      <td>60.0</td>\n",
       "      <td>23257.0</td>\n",
       "      <td>ultra</td>\n",
       "    </tr>\n",
       "    <tr>\n",
       "      <th>2</th>\n",
       "      <td>1000</td>\n",
       "      <td>7</td>\n",
       "      <td>47.0</td>\n",
       "      <td>340.0</td>\n",
       "      <td>75.0</td>\n",
       "      <td>14016.0</td>\n",
       "      <td>ultra</td>\n",
       "    </tr>\n",
       "    <tr>\n",
       "      <th>3</th>\n",
       "      <td>1000</td>\n",
       "      <td>8</td>\n",
       "      <td>52.0</td>\n",
       "      <td>408.0</td>\n",
       "      <td>81.0</td>\n",
       "      <td>14070.0</td>\n",
       "      <td>ultra</td>\n",
       "    </tr>\n",
       "    <tr>\n",
       "      <th>4</th>\n",
       "      <td>1000</td>\n",
       "      <td>9</td>\n",
       "      <td>58.0</td>\n",
       "      <td>466.0</td>\n",
       "      <td>57.0</td>\n",
       "      <td>14581.0</td>\n",
       "      <td>ultra</td>\n",
       "    </tr>\n",
       "    <tr>\n",
       "      <th>...</th>\n",
       "      <td>...</td>\n",
       "      <td>...</td>\n",
       "      <td>...</td>\n",
       "      <td>...</td>\n",
       "      <td>...</td>\n",
       "      <td>...</td>\n",
       "      <td>...</td>\n",
       "    </tr>\n",
       "    <tr>\n",
       "      <th>3209</th>\n",
       "      <td>1489</td>\n",
       "      <td>9</td>\n",
       "      <td>NaN</td>\n",
       "      <td>NaN</td>\n",
       "      <td>32.0</td>\n",
       "      <td>17232.0</td>\n",
       "      <td>smart</td>\n",
       "    </tr>\n",
       "    <tr>\n",
       "      <th>3210</th>\n",
       "      <td>1489</td>\n",
       "      <td>10</td>\n",
       "      <td>NaN</td>\n",
       "      <td>NaN</td>\n",
       "      <td>21.0</td>\n",
       "      <td>19588.0</td>\n",
       "      <td>smart</td>\n",
       "    </tr>\n",
       "    <tr>\n",
       "      <th>3211</th>\n",
       "      <td>1489</td>\n",
       "      <td>11</td>\n",
       "      <td>NaN</td>\n",
       "      <td>NaN</td>\n",
       "      <td>20.0</td>\n",
       "      <td>17516.0</td>\n",
       "      <td>smart</td>\n",
       "    </tr>\n",
       "    <tr>\n",
       "      <th>3212</th>\n",
       "      <td>1489</td>\n",
       "      <td>12</td>\n",
       "      <td>NaN</td>\n",
       "      <td>NaN</td>\n",
       "      <td>35.0</td>\n",
       "      <td>17341.0</td>\n",
       "      <td>smart</td>\n",
       "    </tr>\n",
       "    <tr>\n",
       "      <th>3213</th>\n",
       "      <td>1476</td>\n",
       "      <td>4</td>\n",
       "      <td>NaN</td>\n",
       "      <td>NaN</td>\n",
       "      <td>NaN</td>\n",
       "      <td>531.0</td>\n",
       "      <td>ultra</td>\n",
       "    </tr>\n",
       "  </tbody>\n",
       "</table>\n",
       "<p>3214 rows × 7 columns</p>\n",
       "</div>"
      ],
      "text/plain": [
       "      user_id  month  call  minute  messages  mb_used tariff\n",
       "0        1000      5  22.0   159.0      22.0   2256.0  ultra\n",
       "1        1000      6  43.0   172.0      60.0  23257.0  ultra\n",
       "2        1000      7  47.0   340.0      75.0  14016.0  ultra\n",
       "3        1000      8  52.0   408.0      81.0  14070.0  ultra\n",
       "4        1000      9  58.0   466.0      57.0  14581.0  ultra\n",
       "...       ...    ...   ...     ...       ...      ...    ...\n",
       "3209     1489      9   NaN     NaN      32.0  17232.0  smart\n",
       "3210     1489     10   NaN     NaN      21.0  19588.0  smart\n",
       "3211     1489     11   NaN     NaN      20.0  17516.0  smart\n",
       "3212     1489     12   NaN     NaN      35.0  17341.0  smart\n",
       "3213     1476      4   NaN     NaN       NaN    531.0  ultra\n",
       "\n",
       "[3214 rows x 7 columns]"
      ]
     },
     "execution_count": 10,
     "metadata": {},
     "output_type": "execute_result"
    }
   ],
   "source": [
    "cal_mes_traf = calls.merge(messages, how='outer', on=['user_id', 'month'])\n",
    "cal_mes_traf = cal_mes_traf.merge(traffic, how='outer', on=['user_id', 'month'])\n",
    "cal_mes_traf = cal_mes_traf.merge(df_users[['user_id','tariff']], how ='left', on = 'user_id')\n",
    "cal_mes_traf.info()\n",
    "cal_mes_traf\n",
    "\n"
   ]
  },
  {
   "cell_type": "markdown",
   "metadata": {},
   "source": [
    "Посли формирования общей таблицы, по некоторым пользователям возникли пропуски, для дальнейшей работы заполним их нулями"
   ]
  },
  {
   "cell_type": "code",
   "execution_count": 11,
   "metadata": {},
   "outputs": [
    {
     "data": {
      "text/plain": [
       "(3214, 7)"
      ]
     },
     "execution_count": 11,
     "metadata": {},
     "output_type": "execute_result"
    }
   ],
   "source": [
    "cal_mes_traf.shape"
   ]
  },
  {
   "cell_type": "code",
   "execution_count": 12,
   "metadata": {},
   "outputs": [
    {
     "data": {
      "text/plain": [
       "498"
      ]
     },
     "execution_count": 12,
     "metadata": {},
     "output_type": "execute_result"
    }
   ],
   "source": [
    "cal_mes_traf.user_id.nunique()"
   ]
  },
  {
   "cell_type": "code",
   "execution_count": 13,
   "metadata": {},
   "outputs": [
    {
     "name": "stdout",
     "output_type": "stream",
     "text": [
      "<class 'pandas.core.frame.DataFrame'>\n",
      "Int64Index: 3214 entries, 0 to 3213\n",
      "Data columns (total 7 columns):\n",
      " #   Column    Non-Null Count  Dtype \n",
      "---  ------    --------------  ----- \n",
      " 0   user_id   3214 non-null   int64 \n",
      " 1   month     3214 non-null   int64 \n",
      " 2   call      3214 non-null   int64 \n",
      " 3   minute    3214 non-null   int64 \n",
      " 4   messages  3214 non-null   int64 \n",
      " 5   mb_used   3214 non-null   int64 \n",
      " 6   tariff    3214 non-null   object\n",
      "dtypes: int64(6), object(1)\n",
      "memory usage: 200.9+ KB\n"
     ]
    }
   ],
   "source": [
    "nan_0 = ['call', 'minute', 'messages', 'mb_used']\n",
    "for i in nan_0:\n",
    "    cal_mes_traf[i] = cal_mes_traf[i].fillna(0).astype(int)\n",
    "cal_mes_traf.info()"
   ]
  },
  {
   "cell_type": "markdown",
   "metadata": {},
   "source": [
    "Соберем функцию для подсчета выручки"
   ]
  },
  {
   "cell_type": "code",
   "execution_count": 14,
   "metadata": {},
   "outputs": [
    {
     "data": {
      "text/html": [
       "<div>\n",
       "<style scoped>\n",
       "    .dataframe tbody tr th:only-of-type {\n",
       "        vertical-align: middle;\n",
       "    }\n",
       "\n",
       "    .dataframe tbody tr th {\n",
       "        vertical-align: top;\n",
       "    }\n",
       "\n",
       "    .dataframe thead th {\n",
       "        text-align: right;\n",
       "    }\n",
       "</style>\n",
       "<table border=\"1\" class=\"dataframe\">\n",
       "  <thead>\n",
       "    <tr style=\"text-align: right;\">\n",
       "      <th></th>\n",
       "      <th>user_id</th>\n",
       "      <th>month</th>\n",
       "      <th>call</th>\n",
       "      <th>minute</th>\n",
       "      <th>messages</th>\n",
       "      <th>mb_used</th>\n",
       "      <th>tariff</th>\n",
       "      <th>revenue</th>\n",
       "    </tr>\n",
       "  </thead>\n",
       "  <tbody>\n",
       "    <tr>\n",
       "      <th>0</th>\n",
       "      <td>1000</td>\n",
       "      <td>5</td>\n",
       "      <td>22</td>\n",
       "      <td>159</td>\n",
       "      <td>22</td>\n",
       "      <td>2256</td>\n",
       "      <td>ultra</td>\n",
       "      <td>1950</td>\n",
       "    </tr>\n",
       "    <tr>\n",
       "      <th>1</th>\n",
       "      <td>1000</td>\n",
       "      <td>6</td>\n",
       "      <td>43</td>\n",
       "      <td>172</td>\n",
       "      <td>60</td>\n",
       "      <td>23257</td>\n",
       "      <td>ultra</td>\n",
       "      <td>1950</td>\n",
       "    </tr>\n",
       "    <tr>\n",
       "      <th>2</th>\n",
       "      <td>1000</td>\n",
       "      <td>7</td>\n",
       "      <td>47</td>\n",
       "      <td>340</td>\n",
       "      <td>75</td>\n",
       "      <td>14016</td>\n",
       "      <td>ultra</td>\n",
       "      <td>1950</td>\n",
       "    </tr>\n",
       "    <tr>\n",
       "      <th>3</th>\n",
       "      <td>1000</td>\n",
       "      <td>8</td>\n",
       "      <td>52</td>\n",
       "      <td>408</td>\n",
       "      <td>81</td>\n",
       "      <td>14070</td>\n",
       "      <td>ultra</td>\n",
       "      <td>1950</td>\n",
       "    </tr>\n",
       "    <tr>\n",
       "      <th>4</th>\n",
       "      <td>1000</td>\n",
       "      <td>9</td>\n",
       "      <td>58</td>\n",
       "      <td>466</td>\n",
       "      <td>57</td>\n",
       "      <td>14581</td>\n",
       "      <td>ultra</td>\n",
       "      <td>1950</td>\n",
       "    </tr>\n",
       "    <tr>\n",
       "      <th>5</th>\n",
       "      <td>1000</td>\n",
       "      <td>10</td>\n",
       "      <td>57</td>\n",
       "      <td>350</td>\n",
       "      <td>73</td>\n",
       "      <td>14717</td>\n",
       "      <td>ultra</td>\n",
       "      <td>1950</td>\n",
       "    </tr>\n",
       "    <tr>\n",
       "      <th>6</th>\n",
       "      <td>1000</td>\n",
       "      <td>11</td>\n",
       "      <td>43</td>\n",
       "      <td>338</td>\n",
       "      <td>58</td>\n",
       "      <td>14768</td>\n",
       "      <td>ultra</td>\n",
       "      <td>1950</td>\n",
       "    </tr>\n",
       "    <tr>\n",
       "      <th>7</th>\n",
       "      <td>1000</td>\n",
       "      <td>12</td>\n",
       "      <td>46</td>\n",
       "      <td>333</td>\n",
       "      <td>70</td>\n",
       "      <td>9827</td>\n",
       "      <td>ultra</td>\n",
       "      <td>1950</td>\n",
       "    </tr>\n",
       "    <tr>\n",
       "      <th>8</th>\n",
       "      <td>1001</td>\n",
       "      <td>11</td>\n",
       "      <td>59</td>\n",
       "      <td>430</td>\n",
       "      <td>0</td>\n",
       "      <td>18452</td>\n",
       "      <td>smart</td>\n",
       "      <td>1350</td>\n",
       "    </tr>\n",
       "    <tr>\n",
       "      <th>9</th>\n",
       "      <td>1001</td>\n",
       "      <td>12</td>\n",
       "      <td>63</td>\n",
       "      <td>414</td>\n",
       "      <td>0</td>\n",
       "      <td>14053</td>\n",
       "      <td>smart</td>\n",
       "      <td>550</td>\n",
       "    </tr>\n",
       "  </tbody>\n",
       "</table>\n",
       "</div>"
      ],
      "text/plain": [
       "   user_id  month  call  minute  messages  mb_used tariff  revenue\n",
       "0     1000      5    22     159        22     2256  ultra     1950\n",
       "1     1000      6    43     172        60    23257  ultra     1950\n",
       "2     1000      7    47     340        75    14016  ultra     1950\n",
       "3     1000      8    52     408        81    14070  ultra     1950\n",
       "4     1000      9    58     466        57    14581  ultra     1950\n",
       "5     1000     10    57     350        73    14717  ultra     1950\n",
       "6     1000     11    43     338        58    14768  ultra     1950\n",
       "7     1000     12    46     333        70     9827  ultra     1950\n",
       "8     1001     11    59     430         0    18452  smart     1350\n",
       "9     1001     12    63     414         0    14053  smart      550"
      ]
     },
     "execution_count": 14,
     "metadata": {},
     "output_type": "execute_result"
    }
   ],
   "source": [
    "def revenue(row):\n",
    "    if row['tariff'] == 'ultra':\n",
    "        inc_call = (row['minute'] - df_tariffs.loc[1, 'minutes_included']) * df_tariffs.loc[0, 'rub_per_minute']\n",
    "        if inc_call < 0:\n",
    "            inc_call = 0\n",
    "            \n",
    "        inc_msg = (row['messages'] - df_tariffs.loc[1, 'messages_included']) * df_tariffs.loc[0, 'rub_per_message']\n",
    "        if inc_msg < 0:\n",
    "            inc_msg = 0\n",
    "            \n",
    "        inc_mb = math.ceil((row['mb_used'] - df_tariffs.loc[1, 'mb_per_month_included'])/1024) * df_tariffs.loc[0, 'rub_per_gb']\n",
    "        if inc_mb < 0:\n",
    "            inc_mb = 0\n",
    "            \n",
    "        total = inc_call + inc_msg + inc_mb + df_tariffs.loc[1, 'rub_monthly_fee']\n",
    "    else:\n",
    "        row['tariff'] == 'smart'\n",
    "        inc_call = (row['minute'] - df_tariffs.loc[0, 'minutes_included']) * df_tariffs.loc[0, 'rub_per_minute']\n",
    "        if inc_call < 0:\n",
    "            inc_call = 0\n",
    "            \n",
    "        inc_msg = (row['messages'] - df_tariffs.loc[0, 'messages_included']) * df_tariffs.loc[0, 'rub_per_message']\n",
    "        if inc_msg < 0:\n",
    "            inc_msg = 0\n",
    "            \n",
    "        inc_mb = math.ceil((row['mb_used'] - df_tariffs.loc[0, 'mb_per_month_included'])/1024) * df_tariffs.loc[0, 'rub_per_gb']\n",
    "        if inc_mb < 0:\n",
    "            inc_mb = 0\n",
    "            \n",
    "        total = inc_call + inc_msg + inc_mb + df_tariffs.loc[0, 'rub_monthly_fee']\n",
    "    return total\n",
    "cal_mes_traf['revenue'] = cal_mes_traf.apply(revenue, axis = 1)\n",
    "cal_mes_traf.head(10)"
   ]
  },
  {
   "cell_type": "code",
   "execution_count": 15,
   "metadata": {},
   "outputs": [
    {
     "data": {
      "text/plain": [
       "count    3214.000000\n",
       "mean     1544.959863\n",
       "std       829.030609\n",
       "min       550.000000\n",
       "25%       750.000000\n",
       "50%      1667.500000\n",
       "75%      1950.000000\n",
       "max      6770.000000\n",
       "Name: revenue, dtype: float64"
      ]
     },
     "execution_count": 15,
     "metadata": {},
     "output_type": "execute_result"
    }
   ],
   "source": [
    "cal_mes_traf['revenue'].describe()"
   ]
  },
  {
   "cell_type": "markdown",
   "metadata": {},
   "source": [
    "## Анализ данных\n",
    " Опишите поведение клиентов оператора, исходя из выборки. Сколько минут разговора, сколько сообщений и какой объём интернет-трафика требуется пользователям каждого тарифа в месяц? Посчитайте среднее количество, дисперсию и стандартное отклонение. Постройте гистограммы. Опишите распределения."
   ]
  },
  {
   "cell_type": "markdown",
   "metadata": {},
   "source": [
    "### Расчет помесячного расхода минут разговора, сообщений и какой объём интернет-трафика для каждого тарифа"
   ]
  },
  {
   "cell_type": "code",
   "execution_count": 16,
   "metadata": {
    "scrolled": false
   },
   "outputs": [
    {
     "name": "stderr",
     "output_type": "stream",
     "text": [
      "/tmp/ipykernel_152/1217977329.py:2: FutureWarning: Indexing with multiple keys (implicitly converted to a tuple of keys) will be deprecated, use a list instead.\n",
      "  cal_mes_traf_month = cal_mes_traf.groupby(['tariff', 'month'])['minute', 'messages', 'mb_used', 'revenue'].sum().reset_index()\n"
     ]
    },
    {
     "data": {
      "text/html": [
       "<div>\n",
       "<style scoped>\n",
       "    .dataframe tbody tr th:only-of-type {\n",
       "        vertical-align: middle;\n",
       "    }\n",
       "\n",
       "    .dataframe tbody tr th {\n",
       "        vertical-align: top;\n",
       "    }\n",
       "\n",
       "    .dataframe thead th {\n",
       "        text-align: right;\n",
       "    }\n",
       "</style>\n",
       "<table border=\"1\" class=\"dataframe\">\n",
       "  <thead>\n",
       "    <tr style=\"text-align: right;\">\n",
       "      <th></th>\n",
       "      <th>tariff</th>\n",
       "      <th>month</th>\n",
       "      <th>minute</th>\n",
       "      <th>messages</th>\n",
       "      <th>mb_used</th>\n",
       "      <th>revenue</th>\n",
       "    </tr>\n",
       "  </thead>\n",
       "  <tbody>\n",
       "    <tr>\n",
       "      <th>0</th>\n",
       "      <td>smart</td>\n",
       "      <td>1</td>\n",
       "      <td>6931</td>\n",
       "      <td>620</td>\n",
       "      <td>289831</td>\n",
       "      <td>24525</td>\n",
       "    </tr>\n",
       "    <tr>\n",
       "      <th>1</th>\n",
       "      <td>smart</td>\n",
       "      <td>2</td>\n",
       "      <td>17324</td>\n",
       "      <td>1397</td>\n",
       "      <td>673461</td>\n",
       "      <td>48001</td>\n",
       "    </tr>\n",
       "    <tr>\n",
       "      <th>2</th>\n",
       "      <td>smart</td>\n",
       "      <td>3</td>\n",
       "      <td>30034</td>\n",
       "      <td>2453</td>\n",
       "      <td>1164537</td>\n",
       "      <td>89676</td>\n",
       "    </tr>\n",
       "    <tr>\n",
       "      <th>3</th>\n",
       "      <td>smart</td>\n",
       "      <td>4</td>\n",
       "      <td>41119</td>\n",
       "      <td>3443</td>\n",
       "      <td>1509702</td>\n",
       "      <td>107866</td>\n",
       "    </tr>\n",
       "    <tr>\n",
       "      <th>4</th>\n",
       "      <td>smart</td>\n",
       "      <td>5</td>\n",
       "      <td>54618</td>\n",
       "      <td>4762</td>\n",
       "      <td>2231353</td>\n",
       "      <td>169849</td>\n",
       "    </tr>\n",
       "    <tr>\n",
       "      <th>5</th>\n",
       "      <td>smart</td>\n",
       "      <td>6</td>\n",
       "      <td>64885</td>\n",
       "      <td>5478</td>\n",
       "      <td>2593622</td>\n",
       "      <td>198259</td>\n",
       "    </tr>\n",
       "    <tr>\n",
       "      <th>6</th>\n",
       "      <td>smart</td>\n",
       "      <td>7</td>\n",
       "      <td>82079</td>\n",
       "      <td>6784</td>\n",
       "      <td>3168466</td>\n",
       "      <td>247014</td>\n",
       "    </tr>\n",
       "    <tr>\n",
       "      <th>7</th>\n",
       "      <td>smart</td>\n",
       "      <td>8</td>\n",
       "      <td>99045</td>\n",
       "      <td>7905</td>\n",
       "      <td>3908561</td>\n",
       "      <td>312340</td>\n",
       "    </tr>\n",
       "    <tr>\n",
       "      <th>8</th>\n",
       "      <td>smart</td>\n",
       "      <td>9</td>\n",
       "      <td>111439</td>\n",
       "      <td>8746</td>\n",
       "      <td>4244377</td>\n",
       "      <td>326386</td>\n",
       "    </tr>\n",
       "    <tr>\n",
       "      <th>9</th>\n",
       "      <td>smart</td>\n",
       "      <td>10</td>\n",
       "      <td>125284</td>\n",
       "      <td>9927</td>\n",
       "      <td>4932898</td>\n",
       "      <td>402667</td>\n",
       "    </tr>\n",
       "    <tr>\n",
       "      <th>10</th>\n",
       "      <td>smart</td>\n",
       "      <td>11</td>\n",
       "      <td>137544</td>\n",
       "      <td>10768</td>\n",
       "      <td>5345940</td>\n",
       "      <td>425803</td>\n",
       "    </tr>\n",
       "    <tr>\n",
       "      <th>11</th>\n",
       "      <td>smart</td>\n",
       "      <td>12</td>\n",
       "      <td>161275</td>\n",
       "      <td>12130</td>\n",
       "      <td>6112113</td>\n",
       "      <td>533365</td>\n",
       "    </tr>\n",
       "    <tr>\n",
       "      <th>12</th>\n",
       "      <td>ultra</td>\n",
       "      <td>1</td>\n",
       "      <td>3853</td>\n",
       "      <td>304</td>\n",
       "      <td>118382</td>\n",
       "      <td>17550</td>\n",
       "    </tr>\n",
       "    <tr>\n",
       "      <th>13</th>\n",
       "      <td>ultra</td>\n",
       "      <td>2</td>\n",
       "      <td>7131</td>\n",
       "      <td>527</td>\n",
       "      <td>282887</td>\n",
       "      <td>47600</td>\n",
       "    </tr>\n",
       "    <tr>\n",
       "      <th>14</th>\n",
       "      <td>ultra</td>\n",
       "      <td>3</td>\n",
       "      <td>18117</td>\n",
       "      <td>1195</td>\n",
       "      <td>649423</td>\n",
       "      <td>75350</td>\n",
       "    </tr>\n",
       "  </tbody>\n",
       "</table>\n",
       "</div>"
      ],
      "text/plain": [
       "   tariff  month  minute  messages  mb_used  revenue\n",
       "0   smart      1    6931       620   289831    24525\n",
       "1   smart      2   17324      1397   673461    48001\n",
       "2   smart      3   30034      2453  1164537    89676\n",
       "3   smart      4   41119      3443  1509702   107866\n",
       "4   smart      5   54618      4762  2231353   169849\n",
       "5   smart      6   64885      5478  2593622   198259\n",
       "6   smart      7   82079      6784  3168466   247014\n",
       "7   smart      8   99045      7905  3908561   312340\n",
       "8   smart      9  111439      8746  4244377   326386\n",
       "9   smart     10  125284      9927  4932898   402667\n",
       "10  smart     11  137544     10768  5345940   425803\n",
       "11  smart     12  161275     12130  6112113   533365\n",
       "12  ultra      1    3853       304   118382    17550\n",
       "13  ultra      2    7131       527   282887    47600\n",
       "14  ultra      3   18117      1195   649423    75350"
      ]
     },
     "execution_count": 16,
     "metadata": {},
     "output_type": "execute_result"
    }
   ],
   "source": [
    "# Объединим требуемые данные в одну таблицу, упорядоченную по месяцам\n",
    "cal_mes_traf_month = cal_mes_traf.groupby(['tariff', 'month'])['minute', 'messages', 'mb_used', 'revenue'].sum().reset_index()\n",
    "cal_mes_traf_month.head(15)"
   ]
  },
  {
   "cell_type": "code",
   "execution_count": 17,
   "metadata": {},
   "outputs": [
    {
     "data": {
      "text/html": [
       "<div>\n",
       "<style scoped>\n",
       "    .dataframe tbody tr th:only-of-type {\n",
       "        vertical-align: middle;\n",
       "    }\n",
       "\n",
       "    .dataframe tbody tr th {\n",
       "        vertical-align: top;\n",
       "    }\n",
       "\n",
       "    .dataframe thead th {\n",
       "        text-align: right;\n",
       "    }\n",
       "</style>\n",
       "<table border=\"1\" class=\"dataframe\">\n",
       "  <thead>\n",
       "    <tr style=\"text-align: right;\">\n",
       "      <th></th>\n",
       "      <th>tariff</th>\n",
       "      <th>month</th>\n",
       "      <th>minute</th>\n",
       "      <th>messages</th>\n",
       "      <th>mb_used</th>\n",
       "      <th>revenue</th>\n",
       "    </tr>\n",
       "  </thead>\n",
       "  <tbody>\n",
       "    <tr>\n",
       "      <th>0</th>\n",
       "      <td>smart</td>\n",
       "      <td>1</td>\n",
       "      <td>6931</td>\n",
       "      <td>620</td>\n",
       "      <td>289831</td>\n",
       "      <td>24525</td>\n",
       "    </tr>\n",
       "    <tr>\n",
       "      <th>1</th>\n",
       "      <td>smart</td>\n",
       "      <td>2</td>\n",
       "      <td>17324</td>\n",
       "      <td>1397</td>\n",
       "      <td>673461</td>\n",
       "      <td>48001</td>\n",
       "    </tr>\n",
       "    <tr>\n",
       "      <th>2</th>\n",
       "      <td>smart</td>\n",
       "      <td>3</td>\n",
       "      <td>30034</td>\n",
       "      <td>2453</td>\n",
       "      <td>1164537</td>\n",
       "      <td>89676</td>\n",
       "    </tr>\n",
       "    <tr>\n",
       "      <th>3</th>\n",
       "      <td>smart</td>\n",
       "      <td>4</td>\n",
       "      <td>41119</td>\n",
       "      <td>3443</td>\n",
       "      <td>1509702</td>\n",
       "      <td>107866</td>\n",
       "    </tr>\n",
       "    <tr>\n",
       "      <th>4</th>\n",
       "      <td>smart</td>\n",
       "      <td>5</td>\n",
       "      <td>54618</td>\n",
       "      <td>4762</td>\n",
       "      <td>2231353</td>\n",
       "      <td>169849</td>\n",
       "    </tr>\n",
       "    <tr>\n",
       "      <th>5</th>\n",
       "      <td>smart</td>\n",
       "      <td>6</td>\n",
       "      <td>64885</td>\n",
       "      <td>5478</td>\n",
       "      <td>2593622</td>\n",
       "      <td>198259</td>\n",
       "    </tr>\n",
       "    <tr>\n",
       "      <th>6</th>\n",
       "      <td>smart</td>\n",
       "      <td>7</td>\n",
       "      <td>82079</td>\n",
       "      <td>6784</td>\n",
       "      <td>3168466</td>\n",
       "      <td>247014</td>\n",
       "    </tr>\n",
       "    <tr>\n",
       "      <th>7</th>\n",
       "      <td>smart</td>\n",
       "      <td>8</td>\n",
       "      <td>99045</td>\n",
       "      <td>7905</td>\n",
       "      <td>3908561</td>\n",
       "      <td>312340</td>\n",
       "    </tr>\n",
       "    <tr>\n",
       "      <th>8</th>\n",
       "      <td>smart</td>\n",
       "      <td>9</td>\n",
       "      <td>111439</td>\n",
       "      <td>8746</td>\n",
       "      <td>4244377</td>\n",
       "      <td>326386</td>\n",
       "    </tr>\n",
       "    <tr>\n",
       "      <th>9</th>\n",
       "      <td>smart</td>\n",
       "      <td>10</td>\n",
       "      <td>125284</td>\n",
       "      <td>9927</td>\n",
       "      <td>4932898</td>\n",
       "      <td>402667</td>\n",
       "    </tr>\n",
       "    <tr>\n",
       "      <th>10</th>\n",
       "      <td>smart</td>\n",
       "      <td>11</td>\n",
       "      <td>137544</td>\n",
       "      <td>10768</td>\n",
       "      <td>5345940</td>\n",
       "      <td>425803</td>\n",
       "    </tr>\n",
       "    <tr>\n",
       "      <th>11</th>\n",
       "      <td>smart</td>\n",
       "      <td>12</td>\n",
       "      <td>161275</td>\n",
       "      <td>12130</td>\n",
       "      <td>6112113</td>\n",
       "      <td>533365</td>\n",
       "    </tr>\n",
       "  </tbody>\n",
       "</table>\n",
       "</div>"
      ],
      "text/plain": [
       "   tariff  month  minute  messages  mb_used  revenue\n",
       "0   smart      1    6931       620   289831    24525\n",
       "1   smart      2   17324      1397   673461    48001\n",
       "2   smart      3   30034      2453  1164537    89676\n",
       "3   smart      4   41119      3443  1509702   107866\n",
       "4   smart      5   54618      4762  2231353   169849\n",
       "5   smart      6   64885      5478  2593622   198259\n",
       "6   smart      7   82079      6784  3168466   247014\n",
       "7   smart      8   99045      7905  3908561   312340\n",
       "8   smart      9  111439      8746  4244377   326386\n",
       "9   smart     10  125284      9927  4932898   402667\n",
       "10  smart     11  137544     10768  5345940   425803\n",
       "11  smart     12  161275     12130  6112113   533365"
      ]
     },
     "execution_count": 17,
     "metadata": {},
     "output_type": "execute_result"
    }
   ],
   "source": [
    "#Разобьем таблицу выше по тарифам\n",
    "smart_cal_mes_traf_month = cal_mes_traf_month.query('tariff == \"smart\"')\n",
    "ultra_cal_mes_traf_month = cal_mes_traf_month.query('tariff == \"ultra\"').reset_index()\n",
    "#Тариф smart\n",
    "smart_cal_mes_traf_month"
   ]
  },
  {
   "cell_type": "code",
   "execution_count": 18,
   "metadata": {},
   "outputs": [
    {
     "data": {
      "text/html": [
       "<div>\n",
       "<style scoped>\n",
       "    .dataframe tbody tr th:only-of-type {\n",
       "        vertical-align: middle;\n",
       "    }\n",
       "\n",
       "    .dataframe tbody tr th {\n",
       "        vertical-align: top;\n",
       "    }\n",
       "\n",
       "    .dataframe thead th {\n",
       "        text-align: right;\n",
       "    }\n",
       "</style>\n",
       "<table border=\"1\" class=\"dataframe\">\n",
       "  <thead>\n",
       "    <tr style=\"text-align: right;\">\n",
       "      <th></th>\n",
       "      <th>index</th>\n",
       "      <th>tariff</th>\n",
       "      <th>month</th>\n",
       "      <th>minute</th>\n",
       "      <th>messages</th>\n",
       "      <th>mb_used</th>\n",
       "      <th>revenue</th>\n",
       "    </tr>\n",
       "  </thead>\n",
       "  <tbody>\n",
       "    <tr>\n",
       "      <th>0</th>\n",
       "      <td>12</td>\n",
       "      <td>ultra</td>\n",
       "      <td>1</td>\n",
       "      <td>3853</td>\n",
       "      <td>304</td>\n",
       "      <td>118382</td>\n",
       "      <td>17550</td>\n",
       "    </tr>\n",
       "    <tr>\n",
       "      <th>1</th>\n",
       "      <td>13</td>\n",
       "      <td>ultra</td>\n",
       "      <td>2</td>\n",
       "      <td>7131</td>\n",
       "      <td>527</td>\n",
       "      <td>282887</td>\n",
       "      <td>47600</td>\n",
       "    </tr>\n",
       "    <tr>\n",
       "      <th>2</th>\n",
       "      <td>14</td>\n",
       "      <td>ultra</td>\n",
       "      <td>3</td>\n",
       "      <td>18117</td>\n",
       "      <td>1195</td>\n",
       "      <td>649423</td>\n",
       "      <td>75350</td>\n",
       "    </tr>\n",
       "    <tr>\n",
       "      <th>3</th>\n",
       "      <td>15</td>\n",
       "      <td>ultra</td>\n",
       "      <td>4</td>\n",
       "      <td>25191</td>\n",
       "      <td>1736</td>\n",
       "      <td>926409</td>\n",
       "      <td>111050</td>\n",
       "    </tr>\n",
       "    <tr>\n",
       "      <th>4</th>\n",
       "      <td>16</td>\n",
       "      <td>ultra</td>\n",
       "      <td>5</td>\n",
       "      <td>34192</td>\n",
       "      <td>2536</td>\n",
       "      <td>1298540</td>\n",
       "      <td>140650</td>\n",
       "    </tr>\n",
       "    <tr>\n",
       "      <th>5</th>\n",
       "      <td>17</td>\n",
       "      <td>ultra</td>\n",
       "      <td>6</td>\n",
       "      <td>40295</td>\n",
       "      <td>3505</td>\n",
       "      <td>1591148</td>\n",
       "      <td>174000</td>\n",
       "    </tr>\n",
       "    <tr>\n",
       "      <th>6</th>\n",
       "      <td>18</td>\n",
       "      <td>ultra</td>\n",
       "      <td>7</td>\n",
       "      <td>49667</td>\n",
       "      <td>4536</td>\n",
       "      <td>1866833</td>\n",
       "      <td>198250</td>\n",
       "    </tr>\n",
       "    <tr>\n",
       "      <th>7</th>\n",
       "      <td>19</td>\n",
       "      <td>ultra</td>\n",
       "      <td>8</td>\n",
       "      <td>54653</td>\n",
       "      <td>5183</td>\n",
       "      <td>2096565</td>\n",
       "      <td>227650</td>\n",
       "    </tr>\n",
       "    <tr>\n",
       "      <th>8</th>\n",
       "      <td>20</td>\n",
       "      <td>ultra</td>\n",
       "      <td>9</td>\n",
       "      <td>62036</td>\n",
       "      <td>6013</td>\n",
       "      <td>2210554</td>\n",
       "      <td>235650</td>\n",
       "    </tr>\n",
       "    <tr>\n",
       "      <th>9</th>\n",
       "      <td>21</td>\n",
       "      <td>ultra</td>\n",
       "      <td>10</td>\n",
       "      <td>68644</td>\n",
       "      <td>7187</td>\n",
       "      <td>2467856</td>\n",
       "      <td>259050</td>\n",
       "    </tr>\n",
       "    <tr>\n",
       "      <th>10</th>\n",
       "      <td>22</td>\n",
       "      <td>ultra</td>\n",
       "      <td>11</td>\n",
       "      <td>72545</td>\n",
       "      <td>7476</td>\n",
       "      <td>2653912</td>\n",
       "      <td>286900</td>\n",
       "    </tr>\n",
       "    <tr>\n",
       "      <th>11</th>\n",
       "      <td>23</td>\n",
       "      <td>ultra</td>\n",
       "      <td>12</td>\n",
       "      <td>82400</td>\n",
       "      <td>8425</td>\n",
       "      <td>3032089</td>\n",
       "      <td>306050</td>\n",
       "    </tr>\n",
       "  </tbody>\n",
       "</table>\n",
       "</div>"
      ],
      "text/plain": [
       "    index tariff  month  minute  messages  mb_used  revenue\n",
       "0      12  ultra      1    3853       304   118382    17550\n",
       "1      13  ultra      2    7131       527   282887    47600\n",
       "2      14  ultra      3   18117      1195   649423    75350\n",
       "3      15  ultra      4   25191      1736   926409   111050\n",
       "4      16  ultra      5   34192      2536  1298540   140650\n",
       "5      17  ultra      6   40295      3505  1591148   174000\n",
       "6      18  ultra      7   49667      4536  1866833   198250\n",
       "7      19  ultra      8   54653      5183  2096565   227650\n",
       "8      20  ultra      9   62036      6013  2210554   235650\n",
       "9      21  ultra     10   68644      7187  2467856   259050\n",
       "10     22  ultra     11   72545      7476  2653912   286900\n",
       "11     23  ultra     12   82400      8425  3032089   306050"
      ]
     },
     "execution_count": 18,
     "metadata": {},
     "output_type": "execute_result"
    }
   ],
   "source": [
    "#Тариф ultra\n",
    "ultra_cal_mes_traf_month"
   ]
  },
  {
   "cell_type": "markdown",
   "metadata": {},
   "source": [
    "Данные за весь период по 2 тарифам, по всем показателям"
   ]
  },
  {
   "cell_type": "code",
   "execution_count": 19,
   "metadata": {
    "scrolled": true
   },
   "outputs": [
    {
     "data": {
      "text/html": [
       "<div>\n",
       "<style scoped>\n",
       "    .dataframe tbody tr th:only-of-type {\n",
       "        vertical-align: middle;\n",
       "    }\n",
       "\n",
       "    .dataframe tbody tr th {\n",
       "        vertical-align: top;\n",
       "    }\n",
       "\n",
       "    .dataframe thead th {\n",
       "        text-align: right;\n",
       "    }\n",
       "</style>\n",
       "<table border=\"1\" class=\"dataframe\">\n",
       "  <thead>\n",
       "    <tr style=\"text-align: right;\">\n",
       "      <th></th>\n",
       "      <th>mb_used</th>\n",
       "      <th>messages</th>\n",
       "      <th>minute</th>\n",
       "      <th>revenue</th>\n",
       "    </tr>\n",
       "    <tr>\n",
       "      <th>tariff</th>\n",
       "      <th></th>\n",
       "      <th></th>\n",
       "      <th></th>\n",
       "      <th></th>\n",
       "    </tr>\n",
       "  </thead>\n",
       "  <tbody>\n",
       "    <tr>\n",
       "      <th>smart</th>\n",
       "      <td>3.014572e+06</td>\n",
       "      <td>6201.083333</td>\n",
       "      <td>77631.416667</td>\n",
       "      <td>240479.25</td>\n",
       "    </tr>\n",
       "    <tr>\n",
       "      <th>ultra</th>\n",
       "      <td>1.599550e+06</td>\n",
       "      <td>4051.916667</td>\n",
       "      <td>43227.000000</td>\n",
       "      <td>173312.50</td>\n",
       "    </tr>\n",
       "  </tbody>\n",
       "</table>\n",
       "</div>"
      ],
      "text/plain": [
       "             mb_used     messages        minute    revenue\n",
       "tariff                                                    \n",
       "smart   3.014572e+06  6201.083333  77631.416667  240479.25\n",
       "ultra   1.599550e+06  4051.916667  43227.000000  173312.50"
      ]
     },
     "execution_count": 19,
     "metadata": {},
     "output_type": "execute_result"
    }
   ],
   "source": [
    "tariff_use = cal_mes_traf_month.pivot_table(index = 'tariff', values=['minute', 'messages', 'mb_used', 'revenue'])\n",
    "tariff_use"
   ]
  },
  {
   "cell_type": "markdown",
   "metadata": {},
   "source": [
    "Отсюда видно, что пользователи тарифа `smart`:\n",
    "* Расходуют больше по всем показателям\n",
    "* Вынуждены больше платить денег из-за нехватки базового пакета услуг\n",
    "* Приносят больше денег компании\n",
    "<br> **Посчитаем, сколько пользователей по 2 тарифам**"
   ]
  },
  {
   "cell_type": "code",
   "execution_count": 20,
   "metadata": {},
   "outputs": [
    {
     "data": {
      "text/plain": [
       "smart    351\n",
       "ultra    149\n",
       "Name: tariff, dtype: int64"
      ]
     },
     "execution_count": 20,
     "metadata": {},
     "output_type": "execute_result"
    }
   ],
   "source": [
    "df_users.tariff.value_counts()"
   ]
  },
  {
   "cell_type": "markdown",
   "metadata": {},
   "source": [
    "Да, все так как и описано выше, только есть одно но:\n",
    "* Клиентов тарифа smart больше чем в 2 раза"
   ]
  },
  {
   "cell_type": "markdown",
   "metadata": {},
   "source": [
    "Построим гистограммы для наглядного сравнения двух тарифов по всем показателям"
   ]
  },
  {
   "cell_type": "code",
   "execution_count": 21,
   "metadata": {},
   "outputs": [
    {
     "data": {
      "image/png": "[encoded data removed]",
      "text/plain": [
       "<Figure size 936x288 with 1 Axes>"
      ]
     },
     "metadata": {
      "needs_background": "light"
     },
     "output_type": "display_data"
    },
    {
     "data": {
      "image/png": "[encoded data removed]",
      "text/plain": [
       "<Figure size 936x288 with 1 Axes>"
      ]
     },
     "metadata": {
      "needs_background": "light"
     },
     "output_type": "display_data"
    },
    {
     "data": {
      "image/png": "[encoded data removed]",
      "text/plain": [
       "<Figure size 936x288 with 1 Axes>"
      ]
     },
     "metadata": {
      "needs_background": "light"
     },
     "output_type": "display_data"
    }
   ],
   "source": [
    "for i in ['minute', 'messages', 'mb_used']:\n",
    "    plt.figure(figsize = (13,4))\n",
    "    plt.bar(smart_cal_mes_traf_month['month'],\n",
    "            smart_cal_mes_traf_month[i],\n",
    "            label = 'smart',\n",
    "            color = 'black', width = .5)\n",
    "    plt.bar(ultra_cal_mes_traf_month['month'],\n",
    "            ultra_cal_mes_traf_month[i],\n",
    "            label = 'ultra',\n",
    "            color = 'red', width = .5)\n",
    "    plt.xlabel('Месяц')\n",
    "    plt.ylabel(i)\n",
    "    plt.grid()\n",
    "    plt.title(i + ' по двум тарифам за 2 месяца')\n",
    "    plt.legend()"
   ]
  },
  {
   "cell_type": "markdown",
   "metadata": {},
   "source": [
    "Исходя из увиденного можно сделать вывод, что:\n",
    "* Пользователи тарифа `smart` тратят больше на дополнительные пакеты услуг, им чаще не хватает того, что есть в тарифе, это вынуждает их докупать минуты, сообщения и мегабайты\n",
    "* Пользователи тарифа `smart` приносят больше денег компании, кроме 2 и 4 месяца \n",
    "* Кол-во новых пользователей растет с каждым месяцем\n",
    "* Пока трудно делать вывод о выгодности тарифа, ведь пользователей `smart` больше в 2 с лишним раза, нужно посчитать среднее на 1 пользователя"
   ]
  },
  {
   "cell_type": "markdown",
   "metadata": {},
   "source": [
    "### Посчитаем среднее количество, дисперсию и стандартное отклонение. Построим гистограммы. Опишем распределения."
   ]
  },
  {
   "cell_type": "code",
   "execution_count": 22,
   "metadata": {},
   "outputs": [
    {
     "data": {
      "text/html": [
       "<div>\n",
       "<style scoped>\n",
       "    .dataframe tbody tr th:only-of-type {\n",
       "        vertical-align: middle;\n",
       "    }\n",
       "\n",
       "    .dataframe tbody tr th {\n",
       "        vertical-align: top;\n",
       "    }\n",
       "\n",
       "    .dataframe thead tr th {\n",
       "        text-align: left;\n",
       "    }\n",
       "\n",
       "    .dataframe thead tr:last-of-type th {\n",
       "        text-align: right;\n",
       "    }\n",
       "</style>\n",
       "<table border=\"1\" class=\"dataframe\">\n",
       "  <thead>\n",
       "    <tr>\n",
       "      <th></th>\n",
       "      <th colspan=\"3\" halign=\"left\">gb_used</th>\n",
       "      <th colspan=\"3\" halign=\"left\">messages</th>\n",
       "      <th colspan=\"3\" halign=\"left\">minute</th>\n",
       "      <th colspan=\"4\" halign=\"left\">revenue</th>\n",
       "    </tr>\n",
       "    <tr>\n",
       "      <th></th>\n",
       "      <th>mean</th>\n",
       "      <th>std</th>\n",
       "      <th>var</th>\n",
       "      <th>mean</th>\n",
       "      <th>std</th>\n",
       "      <th>var</th>\n",
       "      <th>mean</th>\n",
       "      <th>std</th>\n",
       "      <th>var</th>\n",
       "      <th>mean</th>\n",
       "      <th>median</th>\n",
       "      <th>std</th>\n",
       "      <th>var</th>\n",
       "    </tr>\n",
       "    <tr>\n",
       "      <th>tariff</th>\n",
       "      <th></th>\n",
       "      <th></th>\n",
       "      <th></th>\n",
       "      <th></th>\n",
       "      <th></th>\n",
       "      <th></th>\n",
       "      <th></th>\n",
       "      <th></th>\n",
       "      <th></th>\n",
       "      <th></th>\n",
       "      <th></th>\n",
       "      <th></th>\n",
       "      <th></th>\n",
       "    </tr>\n",
       "  </thead>\n",
       "  <tbody>\n",
       "    <tr>\n",
       "      <th>smart</th>\n",
       "      <td>15.848817</td>\n",
       "      <td>5.739821</td>\n",
       "      <td>32.945548</td>\n",
       "      <td>33.384029</td>\n",
       "      <td>28.227876</td>\n",
       "      <td>796.812958</td>\n",
       "      <td>417.934948</td>\n",
       "      <td>190.313730</td>\n",
       "      <td>36219.315784</td>\n",
       "      <td>1294.63930</td>\n",
       "      <td>1038.0</td>\n",
       "      <td>820.933202</td>\n",
       "      <td>673931.321363</td>\n",
       "    </tr>\n",
       "    <tr>\n",
       "      <th>ultra</th>\n",
       "      <td>19.030177</td>\n",
       "      <td>9.859685</td>\n",
       "      <td>97.213384</td>\n",
       "      <td>49.363452</td>\n",
       "      <td>47.804457</td>\n",
       "      <td>2285.266143</td>\n",
       "      <td>526.623350</td>\n",
       "      <td>317.606098</td>\n",
       "      <td>100873.633397</td>\n",
       "      <td>2111.42132</td>\n",
       "      <td>1950.0</td>\n",
       "      <td>505.069836</td>\n",
       "      <td>255095.538773</td>\n",
       "    </tr>\n",
       "  </tbody>\n",
       "</table>\n",
       "</div>"
      ],
      "text/plain": [
       "          gb_used                        messages                          \\\n",
       "             mean       std        var       mean        std          var   \n",
       "tariff                                                                      \n",
       "smart   15.848817  5.739821  32.945548  33.384029  28.227876   796.812958   \n",
       "ultra   19.030177  9.859685  97.213384  49.363452  47.804457  2285.266143   \n",
       "\n",
       "            minute                                revenue                      \\\n",
       "              mean         std            var        mean  median         std   \n",
       "tariff                                                                          \n",
       "smart   417.934948  190.313730   36219.315784  1294.63930  1038.0  820.933202   \n",
       "ultra   526.623350  317.606098  100873.633397  2111.42132  1950.0  505.069836   \n",
       "\n",
       "                       \n",
       "                  var  \n",
       "tariff                 \n",
       "smart   673931.321363  \n",
       "ultra   255095.538773  "
      ]
     },
     "execution_count": 22,
     "metadata": {},
     "output_type": "execute_result"
    }
   ],
   "source": [
    "cal_mes_traf['gb_used'] = cal_mes_traf['mb_used'] / 1024\n",
    "statistic = cal_mes_traf.pivot_table(index = 'tariff', values = ['minute', 'messages', 'gb_used', 'revenue'], \n",
    "                                    aggfunc = {'minute': [np.mean, np.var, np.std],\n",
    "                                              'messages': [np.mean, np.var, np.std],\n",
    "                                              'gb_used': [np.mean, np.var, np.std],\n",
    "                                              'revenue': [np.mean, np.var, np.std, np.median]})\n",
    "statistic"
   ]
  },
  {
   "cell_type": "code",
   "execution_count": 23,
   "metadata": {},
   "outputs": [
    {
     "data": {
      "text/html": [
       "<div>\n",
       "<style scoped>\n",
       "    .dataframe tbody tr th:only-of-type {\n",
       "        vertical-align: middle;\n",
       "    }\n",
       "\n",
       "    .dataframe tbody tr th {\n",
       "        vertical-align: top;\n",
       "    }\n",
       "\n",
       "    .dataframe thead th {\n",
       "        text-align: right;\n",
       "    }\n",
       "</style>\n",
       "<table border=\"1\" class=\"dataframe\">\n",
       "  <thead>\n",
       "    <tr style=\"text-align: right;\">\n",
       "      <th></th>\n",
       "      <th>tariff</th>\n",
       "      <th>smart</th>\n",
       "      <th>ultra</th>\n",
       "    </tr>\n",
       "  </thead>\n",
       "  <tbody>\n",
       "    <tr>\n",
       "      <th rowspan=\"3\" valign=\"top\">gb_used</th>\n",
       "      <th>mean</th>\n",
       "      <td>15.848817</td>\n",
       "      <td>19.030177</td>\n",
       "    </tr>\n",
       "    <tr>\n",
       "      <th>std</th>\n",
       "      <td>5.739821</td>\n",
       "      <td>9.859685</td>\n",
       "    </tr>\n",
       "    <tr>\n",
       "      <th>var</th>\n",
       "      <td>32.945548</td>\n",
       "      <td>97.213384</td>\n",
       "    </tr>\n",
       "    <tr>\n",
       "      <th rowspan=\"3\" valign=\"top\">messages</th>\n",
       "      <th>mean</th>\n",
       "      <td>33.384029</td>\n",
       "      <td>49.363452</td>\n",
       "    </tr>\n",
       "    <tr>\n",
       "      <th>std</th>\n",
       "      <td>28.227876</td>\n",
       "      <td>47.804457</td>\n",
       "    </tr>\n",
       "    <tr>\n",
       "      <th>var</th>\n",
       "      <td>796.812958</td>\n",
       "      <td>2285.266143</td>\n",
       "    </tr>\n",
       "    <tr>\n",
       "      <th rowspan=\"3\" valign=\"top\">minute</th>\n",
       "      <th>mean</th>\n",
       "      <td>417.934948</td>\n",
       "      <td>526.623350</td>\n",
       "    </tr>\n",
       "    <tr>\n",
       "      <th>std</th>\n",
       "      <td>190.313730</td>\n",
       "      <td>317.606098</td>\n",
       "    </tr>\n",
       "    <tr>\n",
       "      <th>var</th>\n",
       "      <td>36219.315784</td>\n",
       "      <td>100873.633397</td>\n",
       "    </tr>\n",
       "    <tr>\n",
       "      <th rowspan=\"4\" valign=\"top\">revenue</th>\n",
       "      <th>mean</th>\n",
       "      <td>1294.639300</td>\n",
       "      <td>2111.421320</td>\n",
       "    </tr>\n",
       "    <tr>\n",
       "      <th>median</th>\n",
       "      <td>1038.000000</td>\n",
       "      <td>1950.000000</td>\n",
       "    </tr>\n",
       "    <tr>\n",
       "      <th>std</th>\n",
       "      <td>820.933202</td>\n",
       "      <td>505.069836</td>\n",
       "    </tr>\n",
       "    <tr>\n",
       "      <th>var</th>\n",
       "      <td>673931.321363</td>\n",
       "      <td>255095.538773</td>\n",
       "    </tr>\n",
       "  </tbody>\n",
       "</table>\n",
       "</div>"
      ],
      "text/plain": [
       "tariff                   smart          ultra\n",
       "gb_used  mean        15.848817      19.030177\n",
       "         std          5.739821       9.859685\n",
       "         var         32.945548      97.213384\n",
       "messages mean        33.384029      49.363452\n",
       "         std         28.227876      47.804457\n",
       "         var        796.812958    2285.266143\n",
       "minute   mean       417.934948     526.623350\n",
       "         std        190.313730     317.606098\n",
       "         var      36219.315784  100873.633397\n",
       "revenue  mean      1294.639300    2111.421320\n",
       "         median    1038.000000    1950.000000\n",
       "         std        820.933202     505.069836\n",
       "         var     673931.321363  255095.538773"
      ]
     },
     "execution_count": 23,
     "metadata": {},
     "output_type": "execute_result"
    }
   ],
   "source": [
    "statistic.T"
   ]
  },
  {
   "cell_type": "code",
   "execution_count": 24,
   "metadata": {},
   "outputs": [
    {
     "data": {
      "image/png": "[encoded data removed]",
      "text/plain": [
       "<Figure size 360x360 with 1 Axes>"
      ]
     },
     "metadata": {
      "needs_background": "light"
     },
     "output_type": "display_data"
    },
    {
     "data": {
      "image/png": "[encoded data removed]",
      "text/plain": [
       "<Figure size 360x360 with 1 Axes>"
      ]
     },
     "metadata": {
      "needs_background": "light"
     },
     "output_type": "display_data"
    },
    {
     "data": {
      "image/png": "[encoded data removed]",
      "text/plain": [
       "<Figure size 360x360 with 1 Axes>"
      ]
     },
     "metadata": {
      "needs_background": "light"
     },
     "output_type": "display_data"
    }
   ],
   "source": [
    "#Построим гистаграммы\n",
    "for column in ['minute', 'messages', 'gb_used']:    \n",
    "    sb.catplot(x='tariff', y=column, kind=\"box\", data=cal_mes_traf)  "
   ]
  },
  {
   "cell_type": "markdown",
   "metadata": {},
   "source": [
    "**По диаграмме размаха можно сделать след выводы:**\n",
    "* Межквартильный размах больше у тарифа `ultra` больше смарта, это говорит о неоднородности среди пользователей\n",
    "* Судя по бОльшей медиане у `ultra`, можно сделать вывод, что пользователи этого тарифа в целом тратят больше ресурсов чем пользователи тарифа `smart`.\n",
    "* Пользователи тарифа `ultra` зачастую не используют весь потенциал своего тарифа\n",
    "* Межквартильный размах у `smart` говорит о том, что пользователи этого тарифа зачастую строго укладываются в рамки тарифа и стараются не превышать, единственное то, что они грешат с использованием интернета и 15 гб им совсем не хватает, отсюда понятно, что они вынуждены тратить больше на доп.услуги\n"
   ]
  },
  {
   "cell_type": "markdown",
   "metadata": {},
   "source": [
    "Построим гистограммы"
   ]
  },
  {
   "cell_type": "code",
   "execution_count": 25,
   "metadata": {},
   "outputs": [
    {
     "name": "stderr",
     "output_type": "stream",
     "text": [
      "/opt/conda/lib/python3.9/site-packages/seaborn/distributions.py:2557: FutureWarning: `distplot` is a deprecated function and will be removed in a future version. Please adapt your code to use either `displot` (a figure-level function with similar flexibility) or `histplot` (an axes-level function for histograms).\n",
      "  warnings.warn(msg, FutureWarning)\n"
     ]
    },
    {
     "data": {
      "text/plain": [
       "Text(0.5, 1.0, 'Время разговоров по двум тарифам')"
      ]
     },
     "execution_count": 25,
     "metadata": {},
     "output_type": "execute_result"
    },
    {
     "data": {
      "image/png": "[encoded data removed]",
      "text/plain": [
       "<Figure size 432x288 with 1 Axes>"
      ]
     },
     "metadata": {
      "needs_background": "light"
     },
     "output_type": "display_data"
    }
   ],
   "source": [
    "for t in ['ultra', 'smart']:\n",
    "        sb.distplot(cal_mes_traf.query('tariff == @t')['minute'], kde=False)\n",
    "plt.legend(['ultra', 'smart'])\n",
    "plt.ylabel('Количество пользователей')\n",
    "plt.title('Время разговоров по двум тарифам')\n"
   ]
  },
  {
   "cell_type": "markdown",
   "metadata": {},
   "source": [
    "* Тут наблюдаем, что пользователи тарифа `smart` разговаривают в рамках своего тарифа, но иногда докупают дополнительные минуты, но не очень много.\n",
    "* Пользователи же тарифа `ultra` расходуют минуты равномерно, это связано с большим запасом минут в рамках тарифа, поэтому не следят за тратой минут, но у этого тарифа слишком большой запас, пользователи не расходуют все минуты."
   ]
  },
  {
   "cell_type": "code",
   "execution_count": 26,
   "metadata": {},
   "outputs": [
    {
     "name": "stderr",
     "output_type": "stream",
     "text": [
      "/opt/conda/lib/python3.9/site-packages/seaborn/distributions.py:2557: FutureWarning: `distplot` is a deprecated function and will be removed in a future version. Please adapt your code to use either `displot` (a figure-level function with similar flexibility) or `histplot` (an axes-level function for histograms).\n",
      "  warnings.warn(msg, FutureWarning)\n"
     ]
    },
    {
     "data": {
      "text/plain": [
       "Text(0.5, 1.0, 'Сообщения по двум тарифам')"
      ]
     },
     "execution_count": 26,
     "metadata": {},
     "output_type": "execute_result"
    },
    {
     "data": {
      "image/png": "[encoded data removed]",
      "text/plain": [
       "<Figure size 432x288 with 1 Axes>"
      ]
     },
     "metadata": {
      "needs_background": "light"
     },
     "output_type": "display_data"
    }
   ],
   "source": [
    "#Лишим нулей кол-во сообщений, чтобы отсечь тех людей, которым в принципе они не нужны\n",
    "cal_mes_traf_0 = cal_mes_traf.query('messages > 0')\n",
    "for t in ['ultra', 'smart']:\n",
    "        sb.distplot(cal_mes_traf_0.query('tariff == @t')['messages'], kde=False)\n",
    "plt.legend(['ultra', 'smart'])\n",
    "plt.ylabel('Количество пользователей')\n",
    "plt.title('Сообщения по двум тарифам')"
   ]
  },
  {
   "cell_type": "markdown",
   "metadata": {},
   "source": [
    "* Наблюдаем положительное распределение, но у пользователей `ultra` оно однороднее, а вот у пользователей `smart` подовляющее большинство останавливается на 50 сообщениях, по условиям тарифа, чтобы не переплачивать.\n",
    "* Но и пользователям тарифа `ultra` особо не пользуются сообщениями и не используют весь потенциал своего тарифа"
   ]
  },
  {
   "cell_type": "code",
   "execution_count": 27,
   "metadata": {},
   "outputs": [
    {
     "data": {
      "text/plain": [
       "Text(0.5, 1.0, 'Трафик по двум тарифам')"
      ]
     },
     "execution_count": 27,
     "metadata": {},
     "output_type": "execute_result"
    },
    {
     "data": {
      "image/png": "[encoded data removed]",
      "text/plain": [
       "<Figure size 432x288 with 1 Axes>"
      ]
     },
     "metadata": {
      "needs_background": "light"
     },
     "output_type": "display_data"
    }
   ],
   "source": [
    "for t in ['ultra', 'smart']:\n",
    "        sb.distplot(cal_mes_traf.query('tariff == @t')['gb_used'], kde=False)\n",
    "plt.legend(['ultra', 'smart'])\n",
    "plt.ylabel('Количество пользователей')\n",
    "plt.title('Трафик по двум тарифам')"
   ]
  },
  {
   "cell_type": "markdown",
   "metadata": {},
   "source": [
    "* Здесь нормальное распределение, половина пользователей тарифа `smart` пытаются укладываться в рамки тарифа, половина постоянно докупают трафик, в основном пользователи перерасходуют трафик.\n",
    "* Пользователи тарифа `ultra` также особо не следят за трафиком и тратят сколько им потребуется, но все-таки бывает выходят за рамки тарифа"
   ]
  },
  {
   "cell_type": "markdown",
   "metadata": {},
   "source": [
    "<div class=\"alert alert-success\">\n",
    "<b>Комментарий ревьюера:</b>\n",
    "\n",
    "Обрати внимание, что наши действия повторяются с точки зрения построения графиков.\n",
    "    \n",
    "Это говорит о том, что мы можем создать функцию, которая будет выполнять все действия за нас.\n",
    "    \n",
    "Тем самым мы сможем оптимизировать свой код и проект целиком.\n",
    "    \n",
    "</div>"
   ]
  },
  {
   "cell_type": "markdown",
   "metadata": {},
   "source": [
    "**Вывод**"
   ]
  },
  {
   "cell_type": "markdown",
   "metadata": {},
   "source": [
    "Судя по графика, можно сказать, что:\n",
    "* Пользователи тарифа `ultra` могут вести себя более разнообразно, они ничем не ограничены и почти всегда не выбирают весь доступный им пакет услуг, кроме трафика, его они иногда докупают\n",
    "* Пользователи тарифа `smart` чаще всего ограничены своим тарифным планом и стараются не перебирать с услугами, если дело не касается трафика, тут они чаще всего платят за перерасход\n",
    "* В среднем пользователи тарифа `ultra` расходуют больше по всем показателям, но почти никогда не расходуют до конца свой тариф\n",
    "* Пользователи тарифа `ultra` приносят больше денег компании, но тариф `smart` популярнее"
   ]
  },
  {
   "cell_type": "markdown",
   "metadata": {},
   "source": []
  },
  {
   "cell_type": "markdown",
   "metadata": {},
   "source": [
    "## Проверка гипотез"
   ]
  },
  {
   "cell_type": "markdown",
   "metadata": {},
   "source": [
    "### Средняя выручка пользователей тарифов «Ультра» и «Смарт» различаются"
   ]
  },
  {
   "cell_type": "markdown",
   "metadata": {},
   "source": [
    "Проверка гипотез начинается с формулировки нулевой гипотезы H0:\n",
    "* H0  — средняя выручка пользователей тарифа «Ультра» равна средней выручке пользователей тарифа «Смарт».\n",
    "\n",
    "Отвергнув/подтвердив ее мы ответим на требуемый вопрос\n",
    "\n",
    "Исходя из H0 формулируется альтернативная гипотеза H1. Это утверждение, которое принимается верным, если отбрасывается H0:\n",
    "* H1 — средняя выручка пользователей тарифов «Ультра» и «Смарт» различаются.\n",
    "\n",
    "Имеем две генральные совокупности доход по тарифам `ultra` и `smart`, поэтому будем сравнивать средние двух генеральных совокупностей между собой методом scipy.stats.ttest_ind()\n",
    "\n",
    "Пороговое значение:\n",
    "* alpha = 1%"
   ]
  },
  {
   "cell_type": "code",
   "execution_count": 28,
   "metadata": {},
   "outputs": [
    {
     "data": {
      "text/plain": [
       "0       1950\n",
       "1       1950\n",
       "2       1950\n",
       "3       1950\n",
       "4       1950\n",
       "        ... \n",
       "3204    1950\n",
       "3205    1950\n",
       "3206    1950\n",
       "3207    1950\n",
       "3213    1950\n",
       "Name: revenue, Length: 985, dtype: int64"
      ]
     },
     "execution_count": 28,
     "metadata": {},
     "output_type": "execute_result"
    }
   ],
   "source": [
    "ultra = cal_mes_traf.query('tariff == \"ultra\"')['revenue']\n",
    "ultra"
   ]
  },
  {
   "cell_type": "code",
   "execution_count": 29,
   "metadata": {},
   "outputs": [
    {
     "name": "stdout",
     "output_type": "stream",
     "text": [
      "p-значение: 2.0624304050009335e-218\n",
      "Отвергаем нулевую гипотезу\n"
     ]
    }
   ],
   "source": [
    "ultra = cal_mes_traf.query('tariff == \"ultra\"')['revenue']\n",
    "smart = cal_mes_traf.query('tariff == \"smart\"')['revenue']\n",
    "\n",
    "alpha = .01\n",
    "\n",
    "results = st.ttest_ind(\n",
    "    ultra, \n",
    "    smart, \n",
    "    equal_var=False)\n",
    "\n",
    "print('p-значение:', results.pvalue)\n",
    "\n",
    "if (results.pvalue < alpha):\n",
    "    print(\"Отвергаем нулевую гипотезу\")\n",
    "else:\n",
    "    print(\"Не получилось отвергнуть нулевую гипотезу\")"
   ]
  },
  {
   "cell_type": "code",
   "execution_count": 30,
   "metadata": {},
   "outputs": [
    {
     "data": {
      "text/html": [
       "<div>\n",
       "<style scoped>\n",
       "    .dataframe tbody tr th:only-of-type {\n",
       "        vertical-align: middle;\n",
       "    }\n",
       "\n",
       "    .dataframe tbody tr th {\n",
       "        vertical-align: top;\n",
       "    }\n",
       "\n",
       "    .dataframe thead th {\n",
       "        text-align: right;\n",
       "    }\n",
       "</style>\n",
       "<table border=\"1\" class=\"dataframe\">\n",
       "  <thead>\n",
       "    <tr style=\"text-align: right;\">\n",
       "      <th></th>\n",
       "      <th>revenue</th>\n",
       "    </tr>\n",
       "    <tr>\n",
       "      <th>tariff</th>\n",
       "      <th></th>\n",
       "    </tr>\n",
       "  </thead>\n",
       "  <tbody>\n",
       "    <tr>\n",
       "      <th>smart</th>\n",
       "      <td>1038</td>\n",
       "    </tr>\n",
       "    <tr>\n",
       "      <th>ultra</th>\n",
       "      <td>1950</td>\n",
       "    </tr>\n",
       "  </tbody>\n",
       "</table>\n",
       "</div>"
      ],
      "text/plain": [
       "        revenue\n",
       "tariff         \n",
       "smart      1038\n",
       "ultra      1950"
      ]
     },
     "execution_count": 30,
     "metadata": {},
     "output_type": "execute_result"
    }
   ],
   "source": [
    "#Средняя выручка\n",
    "cal_mes_traf.pivot_table(index = 'tariff', values = 'revenue', aggfunc = 'median')"
   ]
  },
  {
   "cell_type": "markdown",
   "metadata": {},
   "source": [
    "Доход с пользователя тарифа `ultra` больше почти в 2 раза\n",
    "\n",
    "С уверенностью 99% можно подтвердить, что выручка средняя выручка пользователей тарифов «Ультра» и «Смарт» различаются."
   ]
  },
  {
   "cell_type": "markdown",
   "metadata": {},
   "source": [
    "### Средняя выручка пользователей из Москвы отличается от выручки пользователей из других регионов."
   ]
  },
  {
   "cell_type": "markdown",
   "metadata": {},
   "source": [
    "Проверять будем по аналогии с предыдущей гипотезой\n",
    "\n",
    "H0 — средняя выручка пользователей из Москвы равна средней выручке пользователей из других регионов.\n",
    "\n",
    "H1 — средняя выручка пользователей из Москвы отличается от средней выручке пользователей из других регионов.\n",
    "\n",
    "alpha = 1%"
   ]
  },
  {
   "cell_type": "code",
   "execution_count": 31,
   "metadata": {},
   "outputs": [
    {
     "name": "stdout",
     "output_type": "stream",
     "text": [
      "p-значение: 0.4643370041266579\n",
      "Не получилось отвергнуть нулевую гипотезу\n"
     ]
    }
   ],
   "source": [
    "# Добавим столбец с городом в таблицу\n",
    "cal_mes_traf = cal_mes_traf.merge(df_users[['user_id','city']], how ='left', on = 'user_id')\n",
    "moscow = cal_mes_traf.query('city == \"Москва\"')['revenue']\n",
    "regions = cal_mes_traf.query('city != \"Москва\"')['revenue']\n",
    "\n",
    "alpha = .01\n",
    "\n",
    "results = st.ttest_ind(\n",
    "    moscow, \n",
    "    regions, \n",
    "    equal_var=False)\n",
    "\n",
    "print('p-значение:', results.pvalue)\n",
    "\n",
    "if (results.pvalue < alpha):\n",
    "    print(\"Отвергаем нулевую гипотезу\")\n",
    "else:\n",
    "    print(\"Не получилось отвергнуть нулевую гипотезу\")"
   ]
  },
  {
   "cell_type": "code",
   "execution_count": 32,
   "metadata": {},
   "outputs": [
    {
     "data": {
      "text/html": [
       "<div>\n",
       "<style scoped>\n",
       "    .dataframe tbody tr th:only-of-type {\n",
       "        vertical-align: middle;\n",
       "    }\n",
       "\n",
       "    .dataframe tbody tr th {\n",
       "        vertical-align: top;\n",
       "    }\n",
       "\n",
       "    .dataframe thead th {\n",
       "        text-align: right;\n",
       "    }\n",
       "</style>\n",
       "<table border=\"1\" class=\"dataframe\">\n",
       "  <thead>\n",
       "    <tr style=\"text-align: right;\">\n",
       "      <th></th>\n",
       "      <th>revenue</th>\n",
       "    </tr>\n",
       "    <tr>\n",
       "      <th>region</th>\n",
       "      <th></th>\n",
       "    </tr>\n",
       "  </thead>\n",
       "  <tbody>\n",
       "    <tr>\n",
       "      <th>Москва</th>\n",
       "      <td>1750</td>\n",
       "    </tr>\n",
       "    <tr>\n",
       "      <th>Регион</th>\n",
       "      <td>1587</td>\n",
       "    </tr>\n",
       "  </tbody>\n",
       "</table>\n",
       "</div>"
      ],
      "text/plain": [
       "        revenue\n",
       "region         \n",
       "Москва     1750\n",
       "Регион     1587"
      ]
     },
     "execution_count": 32,
     "metadata": {},
     "output_type": "execute_result"
    }
   ],
   "source": [
    "def reg_city(city):\n",
    "    if city == 'Москва':\n",
    "        return 'Москва'\n",
    "    else:\n",
    "        return 'Регион'\n",
    "\n",
    "cal_mes_traf['region'] = cal_mes_traf['city'].apply(reg_city)\n",
    "cal_mes_traf.pivot_table(index = 'region', values = 'revenue', aggfunc = 'median')"
   ]
  },
  {
   "cell_type": "markdown",
   "metadata": {},
   "source": [
    "Данный статистический тест не опроверг нулевую гипотезу, это означает, что разницы между средней выручки Москвы и остальных городов нет.\n",
    "Дествительно выручка Москвы не сильно отличается от регионов"
   ]
  },
  {
   "cell_type": "markdown",
   "metadata": {},
   "source": [
    "**Вывод**\n",
    "\n",
    "Были выдвинуты две гипотезы:\n",
    "\n",
    "Средняя выручка пользователей тарифов «Ультра» и «Смарт» различается.\n",
    "Средняя выручка пользователей из Москвы отличается от выручки пользователей из других регионов.\n",
    "\n",
    "Гипотеза 1 подтвердилась и говорит нам о том, что выручка по тарифамм отличается. По средней выручке можно предположить, что выручка по тарифу `ultra` почти в 2 раза больше, чем у `smart`.\n",
    "\n",
    "Гипотеза 2 была опровергнута. Это значит, что нормальное распределение по выручке за месяц между городом Москва и остальной страной не отличается.\n",
    "\n"
   ]
  },
  {
   "cell_type": "markdown",
   "metadata": {},
   "source": [
    "## Вывод"
   ]
  },
  {
   "cell_type": "markdown",
   "metadata": {},
   "source": [
    "В ходе проделанной работы было выполнено:\n",
    "\n",
    "* Просмотрена каждая таблица и выявлены ошибки в данных\n",
    "* Подготовлены данные для последующей работы\n",
    "* Составлена общая таблица данных о пользователях сети\n",
    "* Проведен сравнительный анализ пользователей тарифов\n",
    "* Проверены гипотезы\n",
    "* Предложенные тарифы сильно отличаются друг от друга и их выручка разнится. В первую очередь пользователи тарифа `smart` чаще пользователей тарифа `ultra` перерасходуют лимиты. Из-за это выручка по тарифу Smart может казаться большой, но и пользователей этого тарифа больше почти в 2 раза\n",
    "\n",
    "Особенности использования тарифов заключаются в следующем:\n",
    "\n",
    "* Пользователям тарифа `smart` не хватает услуг в рамках тарифного пакета, перерасход чаще всего связан с трафиком.\n",
    "* Пользователи тарифа `ultra`, наоборот не полностью расходуют данный им пакет\n",
    "* Средние доходы от пользователей в Москве не отличаются от доходов в других населенных пунктах: разница статистически незначима (p-значение: 0,464) и составляет 163 руб.: 1750 руб. в Москве против 1587 руб в других населенных пунктах.\n",
    "\n",
    "Вывод из проделаной работы такой:\n",
    "* С точки зрения бизнеса, тариф `ultra` является выгодным, но с точки зрения пользователя им не к чему такие лимиты, они переплачивают за то, чем не пользуются.\n",
    "* Тариф `smart` не так хорошо с точки зрения бизнеса, но хорош с точки зрения пользователя, хоть они и норовят превысить лимиты.\n",
    "\n",
    "Эти два тарифа выглядят как 2 крайности, следует добавить что-то посередине, с увеличенными лимитами и абонентской платой\n"
   ]
  },
  {
   "cell_type": "code",
   "execution_count": null,
   "metadata": {},
   "outputs": [],
   "source": []
  }
 ],
 "metadata": {
  "ExecuteTimeLog": [
   {
    "duration": 1988,
    "start_time": "2022-02-01T15:20:41.323Z"
   },
   {
    "duration": 132,
    "start_time": "2022-02-01T15:20:55.644Z"
   },
   {
    "duration": 112,
    "start_time": "2022-02-01T15:21:54.147Z"
   },
   {
    "duration": 113,
    "start_time": "2022-02-01T15:22:12.280Z"
   },
   {
    "duration": 113,
    "start_time": "2022-02-01T15:22:36.011Z"
   },
   {
    "duration": -161,
    "start_time": "2022-02-01T15:23:26.292Z"
   },
   {
    "duration": 141,
    "start_time": "2022-02-01T15:23:29.685Z"
   },
   {
    "duration": 123,
    "start_time": "2022-02-01T15:24:03.746Z"
   },
   {
    "duration": 115,
    "start_time": "2022-02-01T15:24:09.945Z"
   },
   {
    "duration": -154,
    "start_time": "2022-02-01T15:24:21.040Z"
   },
   {
    "duration": 408,
    "start_time": "2022-02-01T15:24:23.538Z"
   },
   {
    "duration": 315,
    "start_time": "2022-02-01T15:24:38.713Z"
   },
   {
    "duration": 114,
    "start_time": "2022-02-01T15:24:43.863Z"
   },
   {
    "duration": 103,
    "start_time": "2022-02-01T15:24:55.375Z"
   },
   {
    "duration": 104,
    "start_time": "2022-02-01T15:25:05.185Z"
   },
   {
    "duration": 113,
    "start_time": "2022-02-01T15:25:08.945Z"
   },
   {
    "duration": 205,
    "start_time": "2022-02-01T15:26:33.073Z"
   },
   {
    "duration": 92,
    "start_time": "2022-02-01T15:26:44.089Z"
   },
   {
    "duration": 294,
    "start_time": "2022-02-02T06:02:52.616Z"
   },
   {
    "duration": 1724,
    "start_time": "2022-02-02T06:02:59.439Z"
   },
   {
    "duration": 50,
    "start_time": "2022-02-02T06:03:01.164Z"
   },
   {
    "duration": 47,
    "start_time": "2022-02-02T06:03:10.527Z"
   },
   {
    "duration": 6,
    "start_time": "2022-02-02T06:03:14.487Z"
   },
   {
    "duration": 52,
    "start_time": "2022-02-02T06:03:52.711Z"
   },
   {
    "duration": 29,
    "start_time": "2022-02-02T06:04:04.542Z"
   },
   {
    "duration": 71,
    "start_time": "2022-02-02T06:04:08.582Z"
   },
   {
    "duration": 72,
    "start_time": "2022-02-02T06:05:01.703Z"
   },
   {
    "duration": 97,
    "start_time": "2022-02-02T06:05:25.574Z"
   },
   {
    "duration": 74,
    "start_time": "2022-02-02T06:07:23.357Z"
   },
   {
    "duration": 76,
    "start_time": "2022-02-02T06:08:10.013Z"
   },
   {
    "duration": 83,
    "start_time": "2022-02-02T06:11:52.489Z"
   },
   {
    "duration": 76,
    "start_time": "2022-02-02T06:17:47.645Z"
   },
   {
    "duration": 82,
    "start_time": "2022-02-02T06:18:04.716Z"
   },
   {
    "duration": 77,
    "start_time": "2022-02-02T06:18:13.541Z"
   },
   {
    "duration": 82,
    "start_time": "2022-02-02T06:18:18.956Z"
   },
   {
    "duration": 81,
    "start_time": "2022-02-02T06:18:54.556Z"
   },
   {
    "duration": 85,
    "start_time": "2022-02-02T06:19:11.156Z"
   },
   {
    "duration": 79,
    "start_time": "2022-02-02T06:19:20.011Z"
   },
   {
    "duration": 78,
    "start_time": "2022-02-02T06:19:23.523Z"
   },
   {
    "duration": 79,
    "start_time": "2022-02-02T06:19:26.132Z"
   },
   {
    "duration": 74,
    "start_time": "2022-02-02T06:19:30.563Z"
   },
   {
    "duration": 80,
    "start_time": "2022-02-02T06:19:36.611Z"
   },
   {
    "duration": 77,
    "start_time": "2022-02-02T06:19:39.107Z"
   },
   {
    "duration": 288,
    "start_time": "2022-02-02T06:19:41.435Z"
   },
   {
    "duration": 76,
    "start_time": "2022-02-02T06:19:46.827Z"
   },
   {
    "duration": 367,
    "start_time": "2022-02-02T06:19:51.451Z"
   },
   {
    "duration": 78,
    "start_time": "2022-02-02T06:19:52.547Z"
   },
   {
    "duration": 78,
    "start_time": "2022-02-02T06:20:00.603Z"
   },
   {
    "duration": 90,
    "start_time": "2022-02-02T06:20:05.788Z"
   },
   {
    "duration": 80,
    "start_time": "2022-02-02T06:20:33.547Z"
   },
   {
    "duration": -219,
    "start_time": "2022-02-02T06:20:58.727Z"
   },
   {
    "duration": 76,
    "start_time": "2022-02-02T06:21:07.738Z"
   },
   {
    "duration": 526,
    "start_time": "2022-02-02T06:21:34.226Z"
   },
   {
    "duration": 6582,
    "start_time": "2022-02-02T06:21:52.610Z"
   },
   {
    "duration": 104,
    "start_time": "2022-02-02T06:23:57.776Z"
   },
   {
    "duration": 101,
    "start_time": "2022-02-02T06:24:23.672Z"
   },
   {
    "duration": 131,
    "start_time": "2022-02-02T06:28:06.844Z"
   },
   {
    "duration": 265,
    "start_time": "2022-02-02T06:28:50.908Z"
   },
   {
    "duration": 327,
    "start_time": "2022-02-02T06:32:14.537Z"
   },
   {
    "duration": 79,
    "start_time": "2022-02-02T06:35:08.709Z"
   },
   {
    "duration": 266,
    "start_time": "2022-02-02T09:07:47.733Z"
   },
   {
    "duration": 46,
    "start_time": "2022-02-02T09:07:59.595Z"
   },
   {
    "duration": 48,
    "start_time": "2022-02-02T09:08:33.491Z"
   },
   {
    "duration": 74,
    "start_time": "2022-02-02T09:08:39.995Z"
   },
   {
    "duration": 92,
    "start_time": "2022-02-02T09:09:29.482Z"
   },
   {
    "duration": 46,
    "start_time": "2022-02-02T09:10:00.498Z"
   },
   {
    "duration": 51,
    "start_time": "2022-02-02T09:10:02.793Z"
   },
   {
    "duration": 365,
    "start_time": "2022-02-02T09:11:24.810Z"
   },
   {
    "duration": 112,
    "start_time": "2022-02-02T09:11:25.177Z"
   },
   {
    "duration": 49,
    "start_time": "2022-02-02T09:11:25.291Z"
   },
   {
    "duration": 81,
    "start_time": "2022-02-02T09:11:25.341Z"
   },
   {
    "duration": 9,
    "start_time": "2022-02-02T09:15:13.005Z"
   },
   {
    "duration": 3,
    "start_time": "2022-02-02T09:16:47.788Z"
   },
   {
    "duration": 19,
    "start_time": "2022-02-02T09:17:01.444Z"
   },
   {
    "duration": 51,
    "start_time": "2022-02-02T09:17:16.444Z"
   },
   {
    "duration": 3,
    "start_time": "2022-02-02T09:17:39.363Z"
   },
   {
    "duration": 32,
    "start_time": "2022-02-02T09:18:14.931Z"
   },
   {
    "duration": 272,
    "start_time": "2022-02-02T09:26:18.589Z"
   },
   {
    "duration": 21,
    "start_time": "2022-02-02T09:26:24.957Z"
   },
   {
    "duration": 98,
    "start_time": "2022-02-02T09:27:02.182Z"
   },
   {
    "duration": 59,
    "start_time": "2022-02-02T09:27:08.269Z"
   },
   {
    "duration": 400,
    "start_time": "2022-02-02T09:27:11.582Z"
   },
   {
    "duration": 96,
    "start_time": "2022-02-02T09:27:11.984Z"
   },
   {
    "duration": 64,
    "start_time": "2022-02-02T09:27:12.082Z"
   },
   {
    "duration": 2,
    "start_time": "2022-02-02T09:27:12.148Z"
   },
   {
    "duration": 69,
    "start_time": "2022-02-02T09:49:41.947Z"
   },
   {
    "duration": 64,
    "start_time": "2022-02-02T09:50:29.219Z"
   },
   {
    "duration": 368,
    "start_time": "2022-02-02T09:50:32.244Z"
   },
   {
    "duration": 79,
    "start_time": "2022-02-02T09:50:32.614Z"
   },
   {
    "duration": 86,
    "start_time": "2022-02-02T09:50:32.695Z"
   },
   {
    "duration": 2,
    "start_time": "2022-02-02T09:50:32.783Z"
   },
   {
    "duration": 50,
    "start_time": "2022-02-02T09:53:23.817Z"
   },
   {
    "duration": 49,
    "start_time": "2022-02-02T09:53:29.047Z"
   },
   {
    "duration": 54,
    "start_time": "2022-02-02T09:53:35.161Z"
   },
   {
    "duration": 48,
    "start_time": "2022-02-02T09:53:41.698Z"
   },
   {
    "duration": 51,
    "start_time": "2022-02-02T09:53:49.616Z"
   },
   {
    "duration": 52,
    "start_time": "2022-02-02T09:54:21.176Z"
   },
   {
    "duration": 50,
    "start_time": "2022-02-02T09:54:25.824Z"
   },
   {
    "duration": 2,
    "start_time": "2022-02-02T09:54:28.505Z"
   },
   {
    "duration": 48,
    "start_time": "2022-02-02T09:54:50.184Z"
   },
   {
    "duration": 52,
    "start_time": "2022-02-02T09:54:56.343Z"
   },
   {
    "duration": 51,
    "start_time": "2022-02-02T09:55:09.364Z"
   },
   {
    "duration": 55,
    "start_time": "2022-02-02T09:55:31.759Z"
   },
   {
    "duration": 50,
    "start_time": "2022-02-02T09:57:42.934Z"
   },
   {
    "duration": 56,
    "start_time": "2022-02-02T09:57:53.974Z"
   },
   {
    "duration": 65,
    "start_time": "2022-02-02T09:59:43.165Z"
   },
   {
    "duration": 24,
    "start_time": "2022-02-02T10:04:40.320Z"
   },
   {
    "duration": 287,
    "start_time": "2022-02-02T10:04:48.472Z"
   },
   {
    "duration": 17,
    "start_time": "2022-02-02T10:04:53.600Z"
   },
   {
    "duration": 12,
    "start_time": "2022-02-02T10:05:05.840Z"
   },
   {
    "duration": 7405,
    "start_time": "2022-02-02T10:06:51.128Z"
   },
   {
    "duration": 36,
    "start_time": "2022-02-02T10:09:04.165Z"
   },
   {
    "duration": 53,
    "start_time": "2022-02-02T10:09:26.125Z"
   },
   {
    "duration": 59,
    "start_time": "2022-02-02T10:12:08.827Z"
   },
   {
    "duration": 13,
    "start_time": "2022-02-02T10:29:37.694Z"
   },
   {
    "duration": 18,
    "start_time": "2022-02-02T10:30:01.623Z"
   },
   {
    "duration": 17,
    "start_time": "2022-02-02T10:31:12.078Z"
   },
   {
    "duration": 22,
    "start_time": "2022-02-02T10:31:17.580Z"
   },
   {
    "duration": 327,
    "start_time": "2022-02-02T10:39:53.286Z"
   },
   {
    "duration": 897,
    "start_time": "2022-02-02T10:40:03.208Z"
   },
   {
    "duration": 6775,
    "start_time": "2022-02-02T10:40:22.629Z"
   },
   {
    "duration": 23,
    "start_time": "2022-02-02T10:43:45.851Z"
   },
   {
    "duration": 23,
    "start_time": "2022-02-02T10:43:54.379Z"
   },
   {
    "duration": 351,
    "start_time": "2022-02-02T10:44:02.020Z"
   },
   {
    "duration": 100,
    "start_time": "2022-02-02T10:44:02.372Z"
   },
   {
    "duration": 39,
    "start_time": "2022-02-02T10:44:02.474Z"
   },
   {
    "duration": 93,
    "start_time": "2022-02-02T10:44:02.515Z"
   },
   {
    "duration": 23,
    "start_time": "2022-02-02T10:44:12.900Z"
   },
   {
    "duration": 29,
    "start_time": "2022-02-02T10:44:20.978Z"
   },
   {
    "duration": 387,
    "start_time": "2022-02-02T10:46:10.413Z"
   },
   {
    "duration": 70,
    "start_time": "2022-02-02T10:46:16.592Z"
   },
   {
    "duration": 75,
    "start_time": "2022-02-02T10:46:21.424Z"
   },
   {
    "duration": 76,
    "start_time": "2022-02-02T10:46:25.249Z"
   },
   {
    "duration": 79,
    "start_time": "2022-02-02T11:28:56.225Z"
   },
   {
    "duration": 76,
    "start_time": "2022-02-02T11:31:26.142Z"
   },
   {
    "duration": 12,
    "start_time": "2022-02-02T11:33:38.484Z"
   },
   {
    "duration": 14,
    "start_time": "2022-02-02T11:34:04.507Z"
   },
   {
    "duration": 15,
    "start_time": "2022-02-02T11:34:14.692Z"
   },
   {
    "duration": 13,
    "start_time": "2022-02-02T11:34:21.252Z"
   },
   {
    "duration": 13,
    "start_time": "2022-02-02T11:35:52.195Z"
   },
   {
    "duration": 12,
    "start_time": "2022-02-02T11:36:42.090Z"
   },
   {
    "duration": 24,
    "start_time": "2022-02-02T11:37:45.049Z"
   },
   {
    "duration": 284,
    "start_time": "2022-02-02T11:52:26.142Z"
   },
   {
    "duration": 868,
    "start_time": "2022-02-02T11:52:56.374Z"
   },
   {
    "duration": 357,
    "start_time": "2022-02-02T11:52:58.687Z"
   },
   {
    "duration": 77,
    "start_time": "2022-02-02T11:52:59.045Z"
   },
   {
    "duration": 68,
    "start_time": "2022-02-02T11:52:59.123Z"
   },
   {
    "duration": 23,
    "start_time": "2022-02-02T11:52:59.193Z"
   },
   {
    "duration": 300,
    "start_time": "2022-02-02T11:52:59.218Z"
   },
   {
    "duration": 133,
    "start_time": "2022-02-02T11:53:26.878Z"
   },
   {
    "duration": 264,
    "start_time": "2022-02-02T11:53:40.437Z"
   },
   {
    "duration": 368,
    "start_time": "2022-02-02T11:53:45.774Z"
   },
   {
    "duration": 85,
    "start_time": "2022-02-02T11:53:46.144Z"
   },
   {
    "duration": 80,
    "start_time": "2022-02-02T11:53:46.232Z"
   },
   {
    "duration": 25,
    "start_time": "2022-02-02T11:53:46.314Z"
   },
   {
    "duration": 319,
    "start_time": "2022-02-02T11:53:46.340Z"
   },
   {
    "duration": 256,
    "start_time": "2022-02-02T11:54:20.036Z"
   },
   {
    "duration": 360,
    "start_time": "2022-02-02T11:54:26.845Z"
   },
   {
    "duration": 82,
    "start_time": "2022-02-02T11:54:27.207Z"
   },
   {
    "duration": 44,
    "start_time": "2022-02-02T11:54:27.291Z"
   },
   {
    "duration": 49,
    "start_time": "2022-02-02T11:54:27.336Z"
   },
   {
    "duration": 345,
    "start_time": "2022-02-02T11:54:27.387Z"
   },
   {
    "duration": 368,
    "start_time": "2022-02-02T11:55:58.526Z"
   },
   {
    "duration": 83,
    "start_time": "2022-02-02T11:55:58.896Z"
   },
   {
    "duration": 46,
    "start_time": "2022-02-02T11:55:58.981Z"
   },
   {
    "duration": 60,
    "start_time": "2022-02-02T11:55:59.029Z"
   },
   {
    "duration": 290,
    "start_time": "2022-02-02T11:55:59.090Z"
   },
   {
    "duration": 370,
    "start_time": "2022-02-02T12:00:37.072Z"
   },
   {
    "duration": 70,
    "start_time": "2022-02-02T12:00:46.407Z"
   },
   {
    "duration": 62,
    "start_time": "2022-02-02T12:00:51.968Z"
   },
   {
    "duration": 108,
    "start_time": "2022-02-02T12:00:56.543Z"
   },
   {
    "duration": 24,
    "start_time": "2022-02-02T12:01:00.008Z"
   },
   {
    "duration": 6,
    "start_time": "2022-02-02T12:03:23.942Z"
   },
   {
    "duration": 13,
    "start_time": "2022-02-02T12:03:36.261Z"
   },
   {
    "duration": 10,
    "start_time": "2022-02-02T12:05:14.692Z"
   },
   {
    "duration": 270,
    "start_time": "2022-02-02T12:10:35.784Z"
   },
   {
    "duration": 275,
    "start_time": "2022-02-02T12:10:43.672Z"
   },
   {
    "duration": 53,
    "start_time": "2022-02-02T12:11:04.488Z"
   },
   {
    "duration": 281,
    "start_time": "2022-02-02T12:12:03.991Z"
   },
   {
    "duration": 2434,
    "start_time": "2022-02-02T12:12:08.121Z"
   },
   {
    "duration": 140,
    "start_time": "2022-02-02T12:12:10.557Z"
   },
   {
    "duration": 83,
    "start_time": "2022-02-02T12:12:10.698Z"
   },
   {
    "duration": 55,
    "start_time": "2022-02-02T12:12:10.783Z"
   },
   {
    "duration": 39,
    "start_time": "2022-02-02T12:12:10.840Z"
   },
   {
    "duration": 9,
    "start_time": "2022-02-02T12:12:10.881Z"
   },
   {
    "duration": 6818,
    "start_time": "2022-02-02T12:12:51.463Z"
   },
   {
    "duration": 30,
    "start_time": "2022-02-02T12:13:23.302Z"
   },
   {
    "duration": 258,
    "start_time": "2022-02-02T12:31:19.416Z"
   },
   {
    "duration": 8,
    "start_time": "2022-02-02T12:31:23.008Z"
   },
   {
    "duration": 3,
    "start_time": "2022-02-02T12:34:01.543Z"
   },
   {
    "duration": 6,
    "start_time": "2022-02-02T12:34:08.294Z"
   },
   {
    "duration": 38,
    "start_time": "2022-02-02T12:34:17.126Z"
   },
   {
    "duration": 14,
    "start_time": "2022-02-02T12:35:19.846Z"
   },
   {
    "duration": 26,
    "start_time": "2022-02-02T12:35:20.254Z"
   },
   {
    "duration": 321,
    "start_time": "2022-02-02T12:36:02.999Z"
   },
   {
    "duration": 417,
    "start_time": "2022-02-02T12:36:11.436Z"
   },
   {
    "duration": 18,
    "start_time": "2022-02-02T12:36:21.908Z"
   },
   {
    "duration": 15,
    "start_time": "2022-02-02T12:36:40.204Z"
   },
   {
    "duration": 332,
    "start_time": "2022-02-02T13:30:03.301Z"
   },
   {
    "duration": 265,
    "start_time": "2022-02-02T13:30:06.947Z"
   },
   {
    "duration": 14,
    "start_time": "2022-02-02T13:30:10.387Z"
   },
   {
    "duration": 10,
    "start_time": "2022-02-02T13:30:15.363Z"
   },
   {
    "duration": 674,
    "start_time": "2022-02-02T13:32:20.794Z"
   },
   {
    "duration": 60,
    "start_time": "2022-02-02T13:36:19.471Z"
   },
   {
    "duration": 59,
    "start_time": "2022-02-02T13:36:37.583Z"
   },
   {
    "duration": 343,
    "start_time": "2022-02-02T13:59:26.446Z"
   },
   {
    "duration": 84,
    "start_time": "2022-02-02T13:59:34.046Z"
   },
   {
    "duration": 80,
    "start_time": "2022-02-02T13:59:37.701Z"
   },
   {
    "duration": 84,
    "start_time": "2022-02-02T13:59:42.125Z"
   },
   {
    "duration": 344,
    "start_time": "2022-02-02T13:59:45.717Z"
   },
   {
    "duration": 353,
    "start_time": "2022-02-02T13:59:57.742Z"
   },
   {
    "duration": 335,
    "start_time": "2022-02-02T14:00:11.269Z"
   },
   {
    "duration": 378,
    "start_time": "2022-02-02T14:00:18.487Z"
   },
   {
    "duration": 105,
    "start_time": "2022-02-02T14:00:18.867Z"
   },
   {
    "duration": 62,
    "start_time": "2022-02-02T14:00:18.974Z"
   },
   {
    "duration": 71,
    "start_time": "2022-02-02T14:00:19.038Z"
   },
   {
    "duration": 40,
    "start_time": "2022-02-02T14:00:19.110Z"
   },
   {
    "duration": 22,
    "start_time": "2022-02-02T14:00:19.152Z"
   },
   {
    "duration": 419,
    "start_time": "2022-02-02T14:00:19.176Z"
   },
   {
    "duration": 340,
    "start_time": "2022-02-02T14:00:31.893Z"
   },
   {
    "duration": 69,
    "start_time": "2022-02-02T14:01:14.020Z"
   },
   {
    "duration": 406,
    "start_time": "2022-02-02T14:02:07.804Z"
   },
   {
    "duration": 91,
    "start_time": "2022-02-02T14:02:10.572Z"
   },
   {
    "duration": 84,
    "start_time": "2022-02-02T14:02:13.859Z"
   },
   {
    "duration": 78,
    "start_time": "2022-02-02T14:03:16.338Z"
   },
   {
    "duration": 281,
    "start_time": "2022-02-02T14:07:00.200Z"
   },
   {
    "duration": 241,
    "start_time": "2022-02-02T14:07:11.695Z"
   },
   {
    "duration": 20,
    "start_time": "2022-02-02T14:08:07.543Z"
   },
   {
    "duration": 22,
    "start_time": "2022-02-02T14:09:11.679Z"
   },
   {
    "duration": 20,
    "start_time": "2022-02-02T14:09:41.470Z"
   },
   {
    "duration": 1059,
    "start_time": "2022-02-02T14:09:59.725Z"
   },
   {
    "duration": 21,
    "start_time": "2022-02-02T14:10:08.669Z"
   },
   {
    "duration": 19,
    "start_time": "2022-02-02T14:10:13.773Z"
   },
   {
    "duration": 20,
    "start_time": "2022-02-02T14:10:54.037Z"
   },
   {
    "duration": 20,
    "start_time": "2022-02-02T14:10:57.516Z"
   },
   {
    "duration": 7,
    "start_time": "2022-02-02T14:21:31.988Z"
   },
   {
    "duration": 263,
    "start_time": "2022-02-02T14:23:17.443Z"
   },
   {
    "duration": 296,
    "start_time": "2022-02-02T14:23:23.379Z"
   },
   {
    "duration": 267,
    "start_time": "2022-02-02T14:23:48.715Z"
   },
   {
    "duration": 277,
    "start_time": "2022-02-02T14:24:02.850Z"
   },
   {
    "duration": 8,
    "start_time": "2022-02-02T14:24:06.330Z"
   },
   {
    "duration": 19,
    "start_time": "2022-02-02T14:24:32.498Z"
   },
   {
    "duration": 20,
    "start_time": "2022-02-02T14:24:38.899Z"
   },
   {
    "duration": 22,
    "start_time": "2022-02-02T14:24:40.874Z"
   },
   {
    "duration": 18,
    "start_time": "2022-02-02T14:24:46.979Z"
   },
   {
    "duration": 19,
    "start_time": "2022-02-02T14:24:55.066Z"
   },
   {
    "duration": 17,
    "start_time": "2022-02-02T14:25:27.921Z"
   },
   {
    "duration": 271,
    "start_time": "2022-02-02T14:25:37.775Z"
   },
   {
    "duration": 18,
    "start_time": "2022-02-02T14:25:42.177Z"
   },
   {
    "duration": 17,
    "start_time": "2022-02-02T14:26:21.633Z"
   },
   {
    "duration": 18,
    "start_time": "2022-02-02T14:26:34.361Z"
   },
   {
    "duration": 20,
    "start_time": "2022-02-02T14:27:23.312Z"
   },
   {
    "duration": 18,
    "start_time": "2022-02-02T14:27:30.104Z"
   },
   {
    "duration": 324,
    "start_time": "2022-02-02T14:30:04.847Z"
   },
   {
    "duration": 21,
    "start_time": "2022-02-02T14:30:41.422Z"
   },
   {
    "duration": 22,
    "start_time": "2022-02-02T14:30:55.557Z"
   },
   {
    "duration": 22,
    "start_time": "2022-02-02T14:31:40.253Z"
   },
   {
    "duration": 32,
    "start_time": "2022-02-02T14:32:08.820Z"
   },
   {
    "duration": 17,
    "start_time": "2022-02-02T14:32:12.428Z"
   },
   {
    "duration": 23,
    "start_time": "2022-02-02T14:32:21.173Z"
   },
   {
    "duration": 26,
    "start_time": "2022-02-02T14:36:31.609Z"
   },
   {
    "duration": 23,
    "start_time": "2022-02-02T14:36:38.536Z"
   },
   {
    "duration": 25,
    "start_time": "2022-02-02T14:37:17.153Z"
   },
   {
    "duration": 25,
    "start_time": "2022-02-02T14:37:34.976Z"
   },
   {
    "duration": 24,
    "start_time": "2022-02-02T14:38:32.183Z"
   },
   {
    "duration": 10,
    "start_time": "2022-02-02T14:43:24.564Z"
   },
   {
    "duration": 19,
    "start_time": "2022-02-02T14:45:08.066Z"
   },
   {
    "duration": 24,
    "start_time": "2022-02-02T14:46:25.386Z"
   },
   {
    "duration": 6470,
    "start_time": "2022-02-02T14:46:36.841Z"
   },
   {
    "duration": 5,
    "start_time": "2022-02-02T14:46:44.657Z"
   },
   {
    "duration": -253,
    "start_time": "2022-02-02T14:46:53.320Z"
   },
   {
    "duration": -249,
    "start_time": "2022-02-02T14:47:15.920Z"
   },
   {
    "duration": 31,
    "start_time": "2022-02-02T14:47:33.897Z"
   },
   {
    "duration": 28,
    "start_time": "2022-02-02T14:47:48.664Z"
   },
   {
    "duration": 254,
    "start_time": "2022-02-02T14:57:02.065Z"
   },
   {
    "duration": 265,
    "start_time": "2022-02-02T14:59:12.768Z"
   },
   {
    "duration": 275,
    "start_time": "2022-02-02T14:59:47.047Z"
   },
   {
    "duration": 275,
    "start_time": "2022-02-02T15:00:27.175Z"
   },
   {
    "duration": 392,
    "start_time": "2022-02-02T15:00:29.464Z"
   },
   {
    "duration": 120,
    "start_time": "2022-02-02T15:00:29.858Z"
   },
   {
    "duration": 69,
    "start_time": "2022-02-02T15:00:29.980Z"
   },
   {
    "duration": 56,
    "start_time": "2022-02-02T15:00:30.072Z"
   },
   {
    "duration": 57,
    "start_time": "2022-02-02T15:00:30.130Z"
   },
   {
    "duration": 13,
    "start_time": "2022-02-02T15:00:30.189Z"
   },
   {
    "duration": 38,
    "start_time": "2022-02-02T15:00:30.204Z"
   },
   {
    "duration": 40,
    "start_time": "2022-02-02T15:00:30.245Z"
   },
   {
    "duration": 21,
    "start_time": "2022-02-02T15:00:30.287Z"
   },
   {
    "duration": 287,
    "start_time": "2022-02-02T15:00:30.310Z"
   },
   {
    "duration": 290,
    "start_time": "2022-02-02T15:01:26.078Z"
   },
   {
    "duration": 323,
    "start_time": "2022-02-02T15:04:49.019Z"
   },
   {
    "duration": 272,
    "start_time": "2022-02-02T15:04:57.571Z"
   },
   {
    "duration": 282,
    "start_time": "2022-02-02T15:05:24.954Z"
   },
   {
    "duration": 23,
    "start_time": "2022-02-02T15:05:29.859Z"
   },
   {
    "duration": 21,
    "start_time": "2022-02-02T15:07:47.890Z"
   },
   {
    "duration": 337,
    "start_time": "2022-02-02T15:07:52.996Z"
   },
   {
    "duration": 82,
    "start_time": "2022-02-02T15:07:53.335Z"
   },
   {
    "duration": 86,
    "start_time": "2022-02-02T15:07:53.419Z"
   },
   {
    "duration": 53,
    "start_time": "2022-02-02T15:07:53.507Z"
   },
   {
    "duration": 42,
    "start_time": "2022-02-02T15:07:53.572Z"
   },
   {
    "duration": 8,
    "start_time": "2022-02-02T15:07:53.616Z"
   },
   {
    "duration": 24,
    "start_time": "2022-02-02T15:07:53.625Z"
   },
   {
    "duration": 19,
    "start_time": "2022-02-02T15:07:53.672Z"
   },
   {
    "duration": 19,
    "start_time": "2022-02-02T15:07:53.692Z"
   },
   {
    "duration": 275,
    "start_time": "2022-02-02T15:07:53.713Z"
   },
   {
    "duration": 21,
    "start_time": "2022-02-02T15:08:01.801Z"
   },
   {
    "duration": 21,
    "start_time": "2022-02-02T15:08:20.448Z"
   },
   {
    "duration": 18,
    "start_time": "2022-02-02T15:08:28.513Z"
   },
   {
    "duration": 19,
    "start_time": "2022-02-02T15:09:04.017Z"
   },
   {
    "duration": 13,
    "start_time": "2022-02-02T15:10:51.695Z"
   },
   {
    "duration": 22,
    "start_time": "2022-02-02T15:10:56.071Z"
   },
   {
    "duration": 17,
    "start_time": "2022-02-02T15:10:59.878Z"
   },
   {
    "duration": 23,
    "start_time": "2022-02-02T15:12:19.382Z"
   },
   {
    "duration": 14,
    "start_time": "2022-02-02T15:12:32.341Z"
   },
   {
    "duration": 8,
    "start_time": "2022-02-02T15:12:52.156Z"
   },
   {
    "duration": 16,
    "start_time": "2022-02-02T15:12:56.693Z"
   },
   {
    "duration": 13,
    "start_time": "2022-02-02T15:14:39.996Z"
   },
   {
    "duration": 20,
    "start_time": "2022-02-02T15:14:43.468Z"
   },
   {
    "duration": 266,
    "start_time": "2022-02-02T15:18:15.114Z"
   },
   {
    "duration": 16,
    "start_time": "2022-02-02T15:18:30.202Z"
   },
   {
    "duration": 22,
    "start_time": "2022-02-02T15:18:36.584Z"
   },
   {
    "duration": 17,
    "start_time": "2022-02-02T15:19:15.721Z"
   },
   {
    "duration": 22,
    "start_time": "2022-02-02T15:19:18.361Z"
   },
   {
    "duration": 282,
    "start_time": "2022-02-02T15:19:30.192Z"
   },
   {
    "duration": 21,
    "start_time": "2022-02-02T15:19:45.264Z"
   },
   {
    "duration": 26,
    "start_time": "2022-02-02T15:20:04.183Z"
   },
   {
    "duration": 358,
    "start_time": "2022-02-03T05:52:59.907Z"
   },
   {
    "duration": 1429,
    "start_time": "2022-02-03T05:53:02.487Z"
   },
   {
    "duration": 111,
    "start_time": "2022-02-03T05:53:03.918Z"
   },
   {
    "duration": 96,
    "start_time": "2022-02-03T05:53:04.031Z"
   },
   {
    "duration": 60,
    "start_time": "2022-02-03T05:53:04.129Z"
   },
   {
    "duration": 62,
    "start_time": "2022-02-03T05:53:04.191Z"
   },
   {
    "duration": 9,
    "start_time": "2022-02-03T05:53:04.254Z"
   },
   {
    "duration": 24,
    "start_time": "2022-02-03T05:53:04.264Z"
   },
   {
    "duration": 39,
    "start_time": "2022-02-03T05:53:04.291Z"
   },
   {
    "duration": 15,
    "start_time": "2022-02-03T05:53:04.332Z"
   },
   {
    "duration": 26,
    "start_time": "2022-02-03T05:53:04.349Z"
   },
   {
    "duration": 35,
    "start_time": "2022-02-03T05:53:04.377Z"
   },
   {
    "duration": 305,
    "start_time": "2022-02-03T05:54:51.370Z"
   },
   {
    "duration": 5753,
    "start_time": "2022-02-03T05:54:58.323Z"
   },
   {
    "duration": 10,
    "start_time": "2022-02-03T05:55:16.562Z"
   },
   {
    "duration": 13,
    "start_time": "2022-02-03T05:55:44.410Z"
   },
   {
    "duration": 23,
    "start_time": "2022-02-03T05:55:59.490Z"
   },
   {
    "duration": 6,
    "start_time": "2022-02-03T05:58:27.648Z"
   },
   {
    "duration": 9,
    "start_time": "2022-02-03T05:58:33.848Z"
   },
   {
    "duration": 20,
    "start_time": "2022-02-03T05:58:49.359Z"
   },
   {
    "duration": 30,
    "start_time": "2022-02-03T05:58:53.584Z"
   },
   {
    "duration": 20,
    "start_time": "2022-02-03T06:04:26.815Z"
   },
   {
    "duration": 18,
    "start_time": "2022-02-03T06:04:29.075Z"
   },
   {
    "duration": 16,
    "start_time": "2022-02-03T06:04:30.580Z"
   },
   {
    "duration": 30,
    "start_time": "2022-02-03T06:04:32.139Z"
   },
   {
    "duration": -194,
    "start_time": "2022-02-03T06:04:44.330Z"
   },
   {
    "duration": 9,
    "start_time": "2022-02-03T06:05:01.323Z"
   },
   {
    "duration": 3,
    "start_time": "2022-02-03T06:18:15.352Z"
   },
   {
    "duration": 271,
    "start_time": "2022-02-03T06:18:24.560Z"
   },
   {
    "duration": 387,
    "start_time": "2022-02-03T06:19:04.120Z"
   },
   {
    "duration": 4,
    "start_time": "2022-02-03T07:16:07.439Z"
   },
   {
    "duration": 77,
    "start_time": "2022-02-03T07:23:49.391Z"
   },
   {
    "duration": 406,
    "start_time": "2022-02-03T07:24:17.287Z"
   },
   {
    "duration": 85,
    "start_time": "2022-02-03T07:24:25.896Z"
   },
   {
    "duration": 85,
    "start_time": "2022-02-03T07:25:34.134Z"
   },
   {
    "duration": 389,
    "start_time": "2022-02-03T07:25:51.494Z"
   },
   {
    "duration": 390,
    "start_time": "2022-02-03T07:26:55.926Z"
   },
   {
    "duration": 398,
    "start_time": "2022-02-03T07:27:16.799Z"
   },
   {
    "duration": 117,
    "start_time": "2022-02-03T07:27:17.199Z"
   },
   {
    "duration": 74,
    "start_time": "2022-02-03T07:27:17.318Z"
   },
   {
    "duration": 74,
    "start_time": "2022-02-03T07:27:17.394Z"
   },
   {
    "duration": 57,
    "start_time": "2022-02-03T07:27:17.470Z"
   },
   {
    "duration": 9,
    "start_time": "2022-02-03T07:27:17.529Z"
   },
   {
    "duration": 21,
    "start_time": "2022-02-03T07:27:17.540Z"
   },
   {
    "duration": 18,
    "start_time": "2022-02-03T07:27:17.564Z"
   },
   {
    "duration": 40,
    "start_time": "2022-02-03T07:27:17.583Z"
   },
   {
    "duration": 31,
    "start_time": "2022-02-03T07:27:17.624Z"
   },
   {
    "duration": 9,
    "start_time": "2022-02-03T07:27:17.657Z"
   },
   {
    "duration": 422,
    "start_time": "2022-02-03T07:27:17.668Z"
   },
   {
    "duration": 422,
    "start_time": "2022-02-03T07:28:03.364Z"
   },
   {
    "duration": 384,
    "start_time": "2022-02-03T07:28:19.684Z"
   },
   {
    "duration": 1085,
    "start_time": "2022-02-03T07:29:00.028Z"
   },
   {
    "duration": 387,
    "start_time": "2022-02-03T07:29:40.019Z"
   },
   {
    "duration": 6,
    "start_time": "2022-02-03T07:29:44.090Z"
   },
   {
    "duration": 391,
    "start_time": "2022-02-03T07:29:54.050Z"
   },
   {
    "duration": 90,
    "start_time": "2022-02-03T07:32:14.384Z"
   },
   {
    "duration": 79,
    "start_time": "2022-02-03T07:32:56.760Z"
   },
   {
    "duration": 401,
    "start_time": "2022-02-03T07:33:09.436Z"
   },
   {
    "duration": 428,
    "start_time": "2022-02-03T07:35:43.374Z"
   },
   {
    "duration": 251,
    "start_time": "2022-02-03T07:37:27.806Z"
   },
   {
    "duration": 222,
    "start_time": "2022-02-03T07:37:45.939Z"
   },
   {
    "duration": 265,
    "start_time": "2022-02-03T07:37:49.821Z"
   },
   {
    "duration": 400,
    "start_time": "2022-02-03T07:38:09.076Z"
   },
   {
    "duration": 383,
    "start_time": "2022-02-03T07:38:29.055Z"
   },
   {
    "duration": 248,
    "start_time": "2022-02-03T07:38:54.946Z"
   },
   {
    "duration": 390,
    "start_time": "2022-02-03T07:39:14.515Z"
   },
   {
    "duration": 147,
    "start_time": "2022-02-03T07:39:17.972Z"
   },
   {
    "duration": 225,
    "start_time": "2022-02-03T07:40:10.466Z"
   },
   {
    "duration": 390,
    "start_time": "2022-02-03T07:41:05.881Z"
   },
   {
    "duration": 433,
    "start_time": "2022-02-03T07:41:25.321Z"
   },
   {
    "duration": 397,
    "start_time": "2022-02-03T07:41:54.633Z"
   },
   {
    "duration": 404,
    "start_time": "2022-02-03T07:42:47.521Z"
   },
   {
    "duration": 272,
    "start_time": "2022-02-03T07:43:00.737Z"
   },
   {
    "duration": 286,
    "start_time": "2022-02-03T07:43:13.960Z"
   },
   {
    "duration": 413,
    "start_time": "2022-02-03T07:44:11.511Z"
   },
   {
    "duration": 1273,
    "start_time": "2022-02-03T07:44:38.247Z"
   },
   {
    "duration": 413,
    "start_time": "2022-02-03T07:45:09.870Z"
   },
   {
    "duration": 279,
    "start_time": "2022-02-03T07:45:42.167Z"
   },
   {
    "duration": 293,
    "start_time": "2022-02-03T07:46:05.111Z"
   },
   {
    "duration": 275,
    "start_time": "2022-02-03T07:46:24.238Z"
   },
   {
    "duration": 284,
    "start_time": "2022-02-03T07:47:04.997Z"
   },
   {
    "duration": 284,
    "start_time": "2022-02-03T07:48:59.947Z"
   },
   {
    "duration": 273,
    "start_time": "2022-02-03T07:49:05.595Z"
   },
   {
    "duration": 12,
    "start_time": "2022-02-03T07:55:27.030Z"
   },
   {
    "duration": 253,
    "start_time": "2022-02-03T07:57:27.764Z"
   },
   {
    "duration": 5,
    "start_time": "2022-02-03T07:57:45.842Z"
   },
   {
    "duration": 15,
    "start_time": "2022-02-03T07:57:50.460Z"
   },
   {
    "duration": 11,
    "start_time": "2022-02-03T07:57:55.476Z"
   },
   {
    "duration": 224,
    "start_time": "2022-02-03T07:59:16.899Z"
   },
   {
    "duration": 247,
    "start_time": "2022-02-03T08:00:19.346Z"
   },
   {
    "duration": 242,
    "start_time": "2022-02-03T08:00:28.554Z"
   },
   {
    "duration": 235,
    "start_time": "2022-02-03T08:00:36.266Z"
   },
   {
    "duration": 15,
    "start_time": "2022-02-03T08:01:10.793Z"
   },
   {
    "duration": 13,
    "start_time": "2022-02-03T08:01:17.570Z"
   },
   {
    "duration": 12,
    "start_time": "2022-02-03T08:01:31.561Z"
   },
   {
    "duration": 13,
    "start_time": "2022-02-03T08:01:39.305Z"
   },
   {
    "duration": 14,
    "start_time": "2022-02-03T08:02:43.825Z"
   },
   {
    "duration": 13,
    "start_time": "2022-02-03T08:03:02.472Z"
   },
   {
    "duration": 15,
    "start_time": "2022-02-03T08:03:22.016Z"
   },
   {
    "duration": 14,
    "start_time": "2022-02-03T08:06:51.205Z"
   },
   {
    "duration": 14,
    "start_time": "2022-02-03T08:06:54.773Z"
   },
   {
    "duration": 15,
    "start_time": "2022-02-03T08:06:58.165Z"
   },
   {
    "duration": 18,
    "start_time": "2022-02-03T08:07:53.549Z"
   },
   {
    "duration": 19,
    "start_time": "2022-02-03T08:08:19.293Z"
   },
   {
    "duration": 19,
    "start_time": "2022-02-03T08:08:23.773Z"
   },
   {
    "duration": 13,
    "start_time": "2022-02-03T08:08:30.749Z"
   },
   {
    "duration": 14,
    "start_time": "2022-02-03T08:19:04.044Z"
   },
   {
    "duration": 14,
    "start_time": "2022-02-03T08:19:10.902Z"
   },
   {
    "duration": 14,
    "start_time": "2022-02-03T08:19:23.324Z"
   },
   {
    "duration": 9,
    "start_time": "2022-02-03T08:19:49.283Z"
   },
   {
    "duration": 222,
    "start_time": "2022-02-03T08:24:43.859Z"
   },
   {
    "duration": 5751,
    "start_time": "2022-02-03T08:25:03.527Z"
   },
   {
    "duration": 5702,
    "start_time": "2022-02-03T08:25:35.007Z"
   },
   {
    "duration": 6475,
    "start_time": "2022-02-03T08:26:20.215Z"
   },
   {
    "duration": 9,
    "start_time": "2022-02-03T08:26:28.007Z"
   },
   {
    "duration": 5892,
    "start_time": "2022-02-03T08:26:30.279Z"
   },
   {
    "duration": 5592,
    "start_time": "2022-02-03T08:26:48.002Z"
   },
   {
    "duration": 15,
    "start_time": "2022-02-03T08:27:20.022Z"
   },
   {
    "duration": 5977,
    "start_time": "2022-02-03T08:27:24.317Z"
   },
   {
    "duration": 6711,
    "start_time": "2022-02-03T08:28:02.157Z"
   },
   {
    "duration": 15,
    "start_time": "2022-02-03T08:28:43.917Z"
   },
   {
    "duration": 8,
    "start_time": "2022-02-03T08:28:52.509Z"
   },
   {
    "duration": 235,
    "start_time": "2022-02-03T08:29:01.093Z"
   },
   {
    "duration": 285,
    "start_time": "2022-02-03T08:29:08.316Z"
   },
   {
    "duration": 190,
    "start_time": "2022-02-03T08:29:11.749Z"
   },
   {
    "duration": 253,
    "start_time": "2022-02-03T08:29:15.164Z"
   },
   {
    "duration": 228,
    "start_time": "2022-02-03T08:29:23.045Z"
   },
   {
    "duration": 229,
    "start_time": "2022-02-03T08:29:27.029Z"
   },
   {
    "duration": 248,
    "start_time": "2022-02-03T08:29:30.013Z"
   },
   {
    "duration": 249,
    "start_time": "2022-02-03T08:29:44.692Z"
   },
   {
    "duration": 248,
    "start_time": "2022-02-03T08:30:07.604Z"
   },
   {
    "duration": 293,
    "start_time": "2022-02-03T08:30:12.083Z"
   },
   {
    "duration": 196,
    "start_time": "2022-02-03T08:30:15.787Z"
   },
   {
    "duration": 221,
    "start_time": "2022-02-03T08:30:19.523Z"
   },
   {
    "duration": 229,
    "start_time": "2022-02-03T08:30:23.987Z"
   },
   {
    "duration": 209,
    "start_time": "2022-02-03T08:30:28.267Z"
   },
   {
    "duration": 232,
    "start_time": "2022-02-03T08:30:31.891Z"
   },
   {
    "duration": 14,
    "start_time": "2022-02-03T08:30:41.427Z"
   },
   {
    "duration": 9,
    "start_time": "2022-02-03T08:30:46.243Z"
   },
   {
    "duration": 13,
    "start_time": "2022-02-03T08:30:51.803Z"
   },
   {
    "duration": 9,
    "start_time": "2022-02-03T08:30:54.004Z"
   },
   {
    "duration": 14,
    "start_time": "2022-02-03T08:31:02.643Z"
   },
   {
    "duration": 16,
    "start_time": "2022-02-03T08:31:06.299Z"
   },
   {
    "duration": 265,
    "start_time": "2022-02-03T08:31:25.003Z"
   },
   {
    "duration": 236,
    "start_time": "2022-02-03T08:31:53.130Z"
   },
   {
    "duration": 245,
    "start_time": "2022-02-03T08:32:07.762Z"
   },
   {
    "duration": 328,
    "start_time": "2022-02-03T08:32:16.402Z"
   },
   {
    "duration": 259,
    "start_time": "2022-02-03T08:32:35.106Z"
   },
   {
    "duration": 250,
    "start_time": "2022-02-03T08:32:47.234Z"
   },
   {
    "duration": 257,
    "start_time": "2022-02-03T08:33:08.257Z"
   },
   {
    "duration": 263,
    "start_time": "2022-02-03T08:33:17.017Z"
   },
   {
    "duration": 271,
    "start_time": "2022-02-03T08:33:28.473Z"
   },
   {
    "duration": 465,
    "start_time": "2022-02-03T08:33:32.410Z"
   },
   {
    "duration": 251,
    "start_time": "2022-02-03T08:33:36.481Z"
   },
   {
    "duration": 263,
    "start_time": "2022-02-03T08:33:46.014Z"
   },
   {
    "duration": 254,
    "start_time": "2022-02-03T08:33:50.625Z"
   },
   {
    "duration": 249,
    "start_time": "2022-02-03T08:33:58.032Z"
   },
   {
    "duration": 337,
    "start_time": "2022-02-03T08:34:04.864Z"
   },
   {
    "duration": 244,
    "start_time": "2022-02-03T08:34:08.456Z"
   },
   {
    "duration": 251,
    "start_time": "2022-02-03T08:34:12.976Z"
   },
   {
    "duration": 251,
    "start_time": "2022-02-03T08:34:15.881Z"
   },
   {
    "duration": 268,
    "start_time": "2022-02-03T08:34:27.712Z"
   },
   {
    "duration": 246,
    "start_time": "2022-02-03T08:34:36.440Z"
   },
   {
    "duration": 244,
    "start_time": "2022-02-03T08:34:40.143Z"
   },
   {
    "duration": 253,
    "start_time": "2022-02-03T08:34:44.600Z"
   },
   {
    "duration": 250,
    "start_time": "2022-02-03T08:34:48.064Z"
   },
   {
    "duration": 245,
    "start_time": "2022-02-03T08:34:51.360Z"
   },
   {
    "duration": 240,
    "start_time": "2022-02-03T08:34:54.736Z"
   },
   {
    "duration": 258,
    "start_time": "2022-02-03T08:34:59.176Z"
   },
   {
    "duration": 243,
    "start_time": "2022-02-03T08:35:03.720Z"
   },
   {
    "duration": 377,
    "start_time": "2022-02-03T08:35:06.968Z"
   },
   {
    "duration": 252,
    "start_time": "2022-02-03T08:35:13.993Z"
   },
   {
    "duration": 252,
    "start_time": "2022-02-03T08:35:23.616Z"
   },
   {
    "duration": 251,
    "start_time": "2022-02-03T08:35:28.624Z"
   },
   {
    "duration": 256,
    "start_time": "2022-02-03T08:43:18.162Z"
   },
   {
    "duration": 258,
    "start_time": "2022-02-03T08:43:49.570Z"
   },
   {
    "duration": 251,
    "start_time": "2022-02-03T08:44:44.113Z"
   },
   {
    "duration": 1023,
    "start_time": "2022-02-03T08:46:12.632Z"
   },
   {
    "duration": 88,
    "start_time": "2022-02-03T08:47:46.054Z"
   },
   {
    "duration": 1010,
    "start_time": "2022-02-03T08:47:54.535Z"
   },
   {
    "duration": 1171,
    "start_time": "2022-02-03T08:48:02.111Z"
   },
   {
    "duration": 1000,
    "start_time": "2022-02-03T08:48:06.799Z"
   },
   {
    "duration": 1102,
    "start_time": "2022-02-03T08:48:24.334Z"
   },
   {
    "duration": 511,
    "start_time": "2022-02-03T08:48:41.023Z"
   },
   {
    "duration": 1176,
    "start_time": "2022-02-03T08:48:50.894Z"
   },
   {
    "duration": 1340,
    "start_time": "2022-02-03T08:50:26.045Z"
   },
   {
    "duration": 3,
    "start_time": "2022-02-03T08:51:11.005Z"
   },
   {
    "duration": 4701,
    "start_time": "2022-02-03T08:51:36.076Z"
   },
   {
    "duration": 1126,
    "start_time": "2022-02-03T08:51:58.037Z"
   },
   {
    "duration": 1101,
    "start_time": "2022-02-03T08:52:00.709Z"
   },
   {
    "duration": 6752,
    "start_time": "2022-02-03T08:52:32.348Z"
   },
   {
    "duration": 1334,
    "start_time": "2022-02-03T08:53:08.331Z"
   },
   {
    "duration": 4597,
    "start_time": "2022-02-03T08:54:36.322Z"
   },
   {
    "duration": 1067,
    "start_time": "2022-02-03T08:54:49.637Z"
   },
   {
    "duration": 1143,
    "start_time": "2022-02-03T08:58:20.703Z"
   },
   {
    "duration": 1137,
    "start_time": "2022-02-03T08:58:34.679Z"
   },
   {
    "duration": 1361,
    "start_time": "2022-02-03T08:58:59.704Z"
   },
   {
    "duration": 1153,
    "start_time": "2022-02-03T08:59:07.352Z"
   },
   {
    "duration": 1096,
    "start_time": "2022-02-03T08:59:14.593Z"
   },
   {
    "duration": 69,
    "start_time": "2022-02-03T08:59:21.439Z"
   },
   {
    "duration": 1107,
    "start_time": "2022-02-03T08:59:23.991Z"
   },
   {
    "duration": 1294,
    "start_time": "2022-02-03T08:59:36.350Z"
   },
   {
    "duration": 1111,
    "start_time": "2022-02-03T08:59:41.086Z"
   },
   {
    "duration": 1116,
    "start_time": "2022-02-03T08:59:50.366Z"
   },
   {
    "duration": 1110,
    "start_time": "2022-02-03T08:59:59.744Z"
   },
   {
    "duration": 1278,
    "start_time": "2022-02-03T09:02:47.029Z"
   },
   {
    "duration": 225,
    "start_time": "2022-02-03T09:33:22.708Z"
   },
   {
    "duration": 11,
    "start_time": "2022-02-03T09:34:15.948Z"
   },
   {
    "duration": 16,
    "start_time": "2022-02-03T09:34:20.171Z"
   },
   {
    "duration": 14,
    "start_time": "2022-02-03T09:35:16.202Z"
   },
   {
    "duration": 17,
    "start_time": "2022-02-03T09:35:23.931Z"
   },
   {
    "duration": 252,
    "start_time": "2022-02-03T09:35:54.475Z"
   },
   {
    "duration": 16,
    "start_time": "2022-02-03T09:35:59.210Z"
   },
   {
    "duration": 232,
    "start_time": "2022-02-03T09:49:41.959Z"
   },
   {
    "duration": 240,
    "start_time": "2022-02-03T09:50:49.967Z"
   },
   {
    "duration": 224,
    "start_time": "2022-02-03T09:50:57.719Z"
   },
   {
    "duration": 268,
    "start_time": "2022-02-03T09:51:11.847Z"
   },
   {
    "duration": 5806,
    "start_time": "2022-02-03T09:51:16.999Z"
   },
   {
    "duration": 6120,
    "start_time": "2022-02-03T09:51:46.463Z"
   },
   {
    "duration": 12,
    "start_time": "2022-02-03T09:52:13.126Z"
   },
   {
    "duration": 5783,
    "start_time": "2022-02-03T09:52:19.310Z"
   },
   {
    "duration": 5919,
    "start_time": "2022-02-03T09:52:32.470Z"
   },
   {
    "duration": -212,
    "start_time": "2022-02-03T09:52:51.229Z"
   },
   {
    "duration": 13,
    "start_time": "2022-02-03T09:52:52.206Z"
   },
   {
    "duration": 244,
    "start_time": "2022-02-03T09:53:12.854Z"
   },
   {
    "duration": 7,
    "start_time": "2022-02-03T09:53:16.597Z"
   },
   {
    "duration": 6,
    "start_time": "2022-02-03T09:53:29.182Z"
   },
   {
    "duration": 255,
    "start_time": "2022-02-03T10:13:24.799Z"
   },
   {
    "duration": 5,
    "start_time": "2022-02-03T10:13:54.534Z"
   },
   {
    "duration": 14,
    "start_time": "2022-02-03T10:13:58.814Z"
   },
   {
    "duration": 240,
    "start_time": "2022-02-03T10:14:58.638Z"
   },
   {
    "duration": 230,
    "start_time": "2022-02-03T10:15:04.518Z"
   },
   {
    "duration": 4,
    "start_time": "2022-02-03T10:15:15.277Z"
   },
   {
    "duration": 16,
    "start_time": "2022-02-03T10:15:24.645Z"
   },
   {
    "duration": 257,
    "start_time": "2022-02-03T11:43:24.899Z"
   },
   {
    "duration": 257,
    "start_time": "2022-02-03T11:43:39.634Z"
   },
   {
    "duration": 284,
    "start_time": "2022-02-03T11:43:42.329Z"
   },
   {
    "duration": 249,
    "start_time": "2022-02-03T11:43:45.887Z"
   },
   {
    "duration": 225,
    "start_time": "2022-02-03T11:43:49.530Z"
   },
   {
    "duration": 37,
    "start_time": "2022-02-03T11:44:03.098Z"
   },
   {
    "duration": 47,
    "start_time": "2022-02-03T11:44:07.889Z"
   },
   {
    "duration": 59,
    "start_time": "2022-02-03T11:45:23.178Z"
   },
   {
    "duration": 52,
    "start_time": "2022-02-03T11:45:26.825Z"
   },
   {
    "duration": 235,
    "start_time": "2022-02-03T11:47:12.447Z"
   },
   {
    "duration": 71,
    "start_time": "2022-02-03T11:47:29.071Z"
   },
   {
    "duration": 77,
    "start_time": "2022-02-03T11:47:34.991Z"
   },
   {
    "duration": 242,
    "start_time": "2022-02-03T11:47:45.818Z"
   },
   {
    "duration": 14,
    "start_time": "2022-02-03T11:47:54.318Z"
   },
   {
    "duration": 229,
    "start_time": "2022-02-03T11:48:02.767Z"
   },
   {
    "duration": 22,
    "start_time": "2022-02-03T11:48:24.927Z"
   },
   {
    "duration": 226,
    "start_time": "2022-02-03T11:51:08.972Z"
   },
   {
    "duration": 325,
    "start_time": "2022-02-03T11:51:13.741Z"
   },
   {
    "duration": 458,
    "start_time": "2022-02-03T11:51:21.836Z"
   },
   {
    "duration": 135,
    "start_time": "2022-02-03T11:51:25.820Z"
   },
   {
    "duration": 138,
    "start_time": "2022-02-03T11:51:42.380Z"
   },
   {
    "duration": 226,
    "start_time": "2022-02-03T11:52:52.875Z"
   },
   {
    "duration": 265,
    "start_time": "2022-02-03T11:52:58.899Z"
   },
   {
    "duration": 259,
    "start_time": "2022-02-03T11:53:52.170Z"
   },
   {
    "duration": 1315,
    "start_time": "2022-02-03T11:53:59.658Z"
   },
   {
    "duration": 5,
    "start_time": "2022-02-03T11:59:10.439Z"
   },
   {
    "duration": 235,
    "start_time": "2022-02-03T11:59:18.758Z"
   },
   {
    "duration": 13,
    "start_time": "2022-02-03T11:59:24.678Z"
   },
   {
    "duration": 230,
    "start_time": "2022-02-03T12:00:41.309Z"
   },
   {
    "duration": 12,
    "start_time": "2022-02-03T12:00:46.076Z"
   },
   {
    "duration": 17,
    "start_time": "2022-02-03T12:00:51.212Z"
   },
   {
    "duration": 21,
    "start_time": "2022-02-03T12:02:15.589Z"
   },
   {
    "duration": 40,
    "start_time": "2022-02-03T12:02:59.100Z"
   },
   {
    "duration": 1293,
    "start_time": "2022-02-03T12:11:27.189Z"
   },
   {
    "duration": 1258,
    "start_time": "2022-02-03T12:11:32.133Z"
   },
   {
    "duration": 1349,
    "start_time": "2022-02-03T12:11:35.957Z"
   },
   {
    "duration": 1181,
    "start_time": "2022-02-03T13:08:59.490Z"
   },
   {
    "duration": 984,
    "start_time": "2022-02-03T14:41:06.383Z"
   },
   {
    "duration": 1263,
    "start_time": "2022-02-03T14:41:21.118Z"
   },
   {
    "duration": 44,
    "start_time": "2022-02-03T14:41:54.924Z"
   },
   {
    "duration": 1007,
    "start_time": "2022-02-03T14:42:11.956Z"
   },
   {
    "duration": 832,
    "start_time": "2022-02-03T14:42:31.724Z"
   },
   {
    "duration": 1499,
    "start_time": "2022-02-05T06:26:48.541Z"
   },
   {
    "duration": 85,
    "start_time": "2022-02-05T06:26:50.041Z"
   },
   {
    "duration": 102,
    "start_time": "2022-02-05T06:26:50.127Z"
   },
   {
    "duration": 73,
    "start_time": "2022-02-05T06:26:50.231Z"
   },
   {
    "duration": 42,
    "start_time": "2022-02-05T06:26:50.305Z"
   },
   {
    "duration": 24,
    "start_time": "2022-02-05T06:26:50.349Z"
   },
   {
    "duration": 27,
    "start_time": "2022-02-05T06:26:50.374Z"
   },
   {
    "duration": 19,
    "start_time": "2022-02-05T06:26:50.403Z"
   },
   {
    "duration": 48,
    "start_time": "2022-02-05T06:26:50.424Z"
   },
   {
    "duration": 27,
    "start_time": "2022-02-05T06:26:50.474Z"
   },
   {
    "duration": 9,
    "start_time": "2022-02-05T06:26:50.502Z"
   },
   {
    "duration": 276,
    "start_time": "2022-02-05T06:26:50.512Z"
   },
   {
    "duration": 14,
    "start_time": "2022-02-05T06:26:50.789Z"
   },
   {
    "duration": 14,
    "start_time": "2022-02-05T06:26:50.805Z"
   },
   {
    "duration": 7,
    "start_time": "2022-02-05T06:26:50.821Z"
   },
   {
    "duration": 50,
    "start_time": "2022-02-05T06:26:50.830Z"
   },
   {
    "duration": 5,
    "start_time": "2022-02-05T06:26:50.882Z"
   },
   {
    "duration": 712,
    "start_time": "2022-02-05T06:26:50.889Z"
   },
   {
    "duration": 39,
    "start_time": "2022-02-05T06:26:51.603Z"
   },
   {
    "duration": 902,
    "start_time": "2022-02-05T06:26:51.643Z"
   },
   {
    "duration": 3,
    "start_time": "2022-02-05T06:26:52.546Z"
   },
   {
    "duration": 359,
    "start_time": "2022-02-05T06:30:07.151Z"
   },
   {
    "duration": 441,
    "start_time": "2022-02-05T06:30:27.965Z"
   },
   {
    "duration": 619,
    "start_time": "2022-02-05T06:32:23.297Z"
   },
   {
    "duration": 460,
    "start_time": "2022-02-05T06:32:35.620Z"
   },
   {
    "duration": 368,
    "start_time": "2022-02-05T06:33:16.164Z"
   },
   {
    "duration": 384,
    "start_time": "2022-02-05T06:33:21.482Z"
   },
   {
    "duration": 377,
    "start_time": "2022-02-05T06:33:26.597Z"
   },
   {
    "duration": 232,
    "start_time": "2022-02-05T06:36:56.879Z"
   },
   {
    "duration": 314,
    "start_time": "2022-02-05T06:37:01.860Z"
   },
   {
    "duration": 224,
    "start_time": "2022-02-05T06:37:08.581Z"
   },
   {
    "duration": 297,
    "start_time": "2022-02-05T06:37:18.624Z"
   },
   {
    "duration": 221,
    "start_time": "2022-02-05T06:37:23.178Z"
   },
   {
    "duration": 274,
    "start_time": "2022-02-05T06:37:55.006Z"
   },
   {
    "duration": 241,
    "start_time": "2022-02-05T06:38:03.694Z"
   },
   {
    "duration": 247,
    "start_time": "2022-02-05T06:38:17.359Z"
   },
   {
    "duration": 255,
    "start_time": "2022-02-05T06:38:45.205Z"
   },
   {
    "duration": 6884,
    "start_time": "2022-02-05T06:43:51.920Z"
   },
   {
    "duration": 88,
    "start_time": "2022-02-05T06:44:22.892Z"
   },
   {
    "duration": 317,
    "start_time": "2022-02-05T06:44:27.254Z"
   },
   {
    "duration": 850,
    "start_time": "2022-02-05T06:46:41.404Z"
   },
   {
    "duration": 259,
    "start_time": "2022-02-05T06:46:54.281Z"
   },
   {
    "duration": 448,
    "start_time": "2022-02-05T06:47:03.934Z"
   },
   {
    "duration": 460,
    "start_time": "2022-02-05T06:47:39.444Z"
   },
   {
    "duration": 417,
    "start_time": "2022-02-05T06:47:49.571Z"
   },
   {
    "duration": 593,
    "start_time": "2022-02-05T06:47:59.150Z"
   },
   {
    "duration": 430,
    "start_time": "2022-02-05T06:48:20.067Z"
   },
   {
    "duration": 489,
    "start_time": "2022-02-05T06:48:26.846Z"
   },
   {
    "duration": 576,
    "start_time": "2022-02-05T06:48:31.800Z"
   },
   {
    "duration": 262,
    "start_time": "2022-02-05T06:48:54.426Z"
   },
   {
    "duration": 256,
    "start_time": "2022-02-05T06:49:27.848Z"
   },
   {
    "duration": 260,
    "start_time": "2022-02-05T06:49:40.740Z"
   },
   {
    "duration": 547,
    "start_time": "2022-02-05T06:49:59.834Z"
   },
   {
    "duration": 263,
    "start_time": "2022-02-05T06:50:03.829Z"
   },
   {
    "duration": 342,
    "start_time": "2022-02-05T06:50:31.091Z"
   },
   {
    "duration": 262,
    "start_time": "2022-02-05T06:53:37.789Z"
   },
   {
    "duration": 260,
    "start_time": "2022-02-05T06:54:22.115Z"
   },
   {
    "duration": 230,
    "start_time": "2022-02-05T06:55:24.848Z"
   },
   {
    "duration": 264,
    "start_time": "2022-02-05T07:00:27.015Z"
   },
   {
    "duration": 256,
    "start_time": "2022-02-05T07:01:05.564Z"
   },
   {
    "duration": 281,
    "start_time": "2022-02-05T07:05:14.349Z"
   },
   {
    "duration": 296,
    "start_time": "2022-02-05T07:05:22.812Z"
   },
   {
    "duration": 258,
    "start_time": "2022-02-05T07:05:53.830Z"
   },
   {
    "duration": 222,
    "start_time": "2022-02-05T07:07:03.537Z"
   },
   {
    "duration": 6752,
    "start_time": "2022-02-05T07:07:13.656Z"
   },
   {
    "duration": -110,
    "start_time": "2022-02-05T07:07:33.487Z"
   },
   {
    "duration": 6633,
    "start_time": "2022-02-05T07:07:57.579Z"
   },
   {
    "duration": -9,
    "start_time": "2022-02-05T07:08:18.276Z"
   },
   {
    "duration": -20,
    "start_time": "2022-02-05T07:08:18.288Z"
   },
   {
    "duration": -22,
    "start_time": "2022-02-05T07:08:18.291Z"
   },
   {
    "duration": -24,
    "start_time": "2022-02-05T07:08:18.294Z"
   },
   {
    "duration": -25,
    "start_time": "2022-02-05T07:08:18.296Z"
   },
   {
    "duration": -27,
    "start_time": "2022-02-05T07:08:18.298Z"
   },
   {
    "duration": -29,
    "start_time": "2022-02-05T07:08:18.301Z"
   },
   {
    "duration": -30,
    "start_time": "2022-02-05T07:08:18.303Z"
   },
   {
    "duration": -31,
    "start_time": "2022-02-05T07:08:18.305Z"
   },
   {
    "duration": -32,
    "start_time": "2022-02-05T07:08:18.307Z"
   },
   {
    "duration": -33,
    "start_time": "2022-02-05T07:08:18.309Z"
   },
   {
    "duration": -34,
    "start_time": "2022-02-05T07:08:18.311Z"
   },
   {
    "duration": -40,
    "start_time": "2022-02-05T07:08:18.318Z"
   },
   {
    "duration": -40,
    "start_time": "2022-02-05T07:08:18.320Z"
   },
   {
    "duration": -41,
    "start_time": "2022-02-05T07:08:18.322Z"
   },
   {
    "duration": -42,
    "start_time": "2022-02-05T07:08:18.324Z"
   },
   {
    "duration": -43,
    "start_time": "2022-02-05T07:08:18.326Z"
   },
   {
    "duration": -45,
    "start_time": "2022-02-05T07:08:18.329Z"
   },
   {
    "duration": -46,
    "start_time": "2022-02-05T07:08:18.331Z"
   },
   {
    "duration": -46,
    "start_time": "2022-02-05T07:08:18.332Z"
   },
   {
    "duration": -47,
    "start_time": "2022-02-05T07:08:18.334Z"
   },
   {
    "duration": -47,
    "start_time": "2022-02-05T07:08:18.335Z"
   },
   {
    "duration": -49,
    "start_time": "2022-02-05T07:08:18.337Z"
   },
   {
    "duration": 375,
    "start_time": "2022-02-05T07:08:40.058Z"
   },
   {
    "duration": 93,
    "start_time": "2022-02-05T07:08:40.435Z"
   },
   {
    "duration": 104,
    "start_time": "2022-02-05T07:08:40.530Z"
   },
   {
    "duration": 71,
    "start_time": "2022-02-05T07:08:40.636Z"
   },
   {
    "duration": 42,
    "start_time": "2022-02-05T07:08:40.708Z"
   },
   {
    "duration": 26,
    "start_time": "2022-02-05T07:08:40.752Z"
   },
   {
    "duration": 21,
    "start_time": "2022-02-05T07:08:40.780Z"
   },
   {
    "duration": 19,
    "start_time": "2022-02-05T07:08:40.803Z"
   },
   {
    "duration": 53,
    "start_time": "2022-02-05T07:08:40.825Z"
   },
   {
    "duration": 28,
    "start_time": "2022-02-05T07:08:40.880Z"
   },
   {
    "duration": 9,
    "start_time": "2022-02-05T07:08:40.909Z"
   },
   {
    "duration": 307,
    "start_time": "2022-02-05T07:08:40.920Z"
   },
   {
    "duration": 13,
    "start_time": "2022-02-05T07:08:41.229Z"
   },
   {
    "duration": 29,
    "start_time": "2022-02-05T07:08:41.243Z"
   },
   {
    "duration": 7,
    "start_time": "2022-02-05T07:08:41.274Z"
   },
   {
    "duration": 27,
    "start_time": "2022-02-05T07:08:41.282Z"
   },
   {
    "duration": 15,
    "start_time": "2022-02-05T07:08:41.310Z"
   },
   {
    "duration": 694,
    "start_time": "2022-02-05T07:08:41.327Z"
   },
   {
    "duration": 53,
    "start_time": "2022-02-05T07:08:42.022Z"
   },
   {
    "duration": 866,
    "start_time": "2022-02-05T07:08:42.077Z"
   },
   {
    "duration": 280,
    "start_time": "2022-02-05T07:08:42.945Z"
   },
   {
    "duration": 6577,
    "start_time": "2022-02-05T07:08:43.226Z"
   },
   {
    "duration": -81,
    "start_time": "2022-02-05T07:08:49.886Z"
   },
   {
    "duration": 335,
    "start_time": "2022-02-05T07:09:02.092Z"
   },
   {
    "duration": 239,
    "start_time": "2022-02-05T07:09:08.378Z"
   },
   {
    "duration": 237,
    "start_time": "2022-02-05T07:09:25.889Z"
   },
   {
    "duration": 230,
    "start_time": "2022-02-05T07:11:00.389Z"
   },
   {
    "duration": 231,
    "start_time": "2022-02-05T07:15:32.230Z"
   },
   {
    "duration": 243,
    "start_time": "2022-02-05T07:15:44.023Z"
   },
   {
    "duration": 240,
    "start_time": "2022-02-05T07:15:53.438Z"
   },
   {
    "duration": 230,
    "start_time": "2022-02-05T07:16:02.192Z"
   },
   {
    "duration": 488,
    "start_time": "2022-02-05T07:16:29.522Z"
   },
   {
    "duration": 519,
    "start_time": "2022-02-05T07:17:14.789Z"
   },
   {
    "duration": 255,
    "start_time": "2022-02-05T07:17:22.919Z"
   },
   {
    "duration": 387,
    "start_time": "2022-02-05T07:21:31.342Z"
   },
   {
    "duration": 261,
    "start_time": "2022-02-05T07:22:31.632Z"
   },
   {
    "duration": 189,
    "start_time": "2022-02-05T07:22:36.271Z"
   },
   {
    "duration": 269,
    "start_time": "2022-02-05T07:22:52.112Z"
   },
   {
    "duration": 378,
    "start_time": "2022-02-05T07:34:15.973Z"
   },
   {
    "duration": 10,
    "start_time": "2022-02-05T07:46:14.197Z"
   },
   {
    "duration": 9,
    "start_time": "2022-02-05T07:46:46.129Z"
   },
   {
    "duration": 317,
    "start_time": "2022-02-05T07:46:53.229Z"
   },
   {
    "duration": 10,
    "start_time": "2022-02-05T07:46:55.470Z"
   },
   {
    "duration": 270,
    "start_time": "2022-02-05T07:48:08.758Z"
   },
   {
    "duration": 14,
    "start_time": "2022-02-05T07:48:21.431Z"
   },
   {
    "duration": 12,
    "start_time": "2022-02-05T07:48:38.303Z"
   },
   {
    "duration": 12,
    "start_time": "2022-02-05T08:17:25.847Z"
   },
   {
    "duration": 264,
    "start_time": "2022-02-05T08:22:24.386Z"
   },
   {
    "duration": 259,
    "start_time": "2022-02-05T08:22:29.584Z"
   },
   {
    "duration": 342,
    "start_time": "2022-02-05T08:22:44.962Z"
   },
   {
    "duration": 271,
    "start_time": "2022-02-05T08:23:04.216Z"
   },
   {
    "duration": 4,
    "start_time": "2022-02-05T08:25:17.309Z"
   },
   {
    "duration": 5,
    "start_time": "2022-02-05T08:25:20.981Z"
   },
   {
    "duration": 3,
    "start_time": "2022-02-05T08:25:35.732Z"
   },
   {
    "duration": 4,
    "start_time": "2022-02-05T08:25:38.236Z"
   },
   {
    "duration": 7,
    "start_time": "2022-02-05T08:25:42.030Z"
   },
   {
    "duration": 13,
    "start_time": "2022-02-05T08:25:52.009Z"
   },
   {
    "duration": 257,
    "start_time": "2022-02-05T08:26:08.368Z"
   },
   {
    "duration": 13,
    "start_time": "2022-02-05T08:26:15.338Z"
   },
   {
    "duration": 13,
    "start_time": "2022-02-05T08:26:40.141Z"
   },
   {
    "duration": 31,
    "start_time": "2022-02-05T08:27:49.575Z"
   },
   {
    "duration": 26,
    "start_time": "2022-02-05T08:28:10.728Z"
   },
   {
    "duration": 7,
    "start_time": "2022-02-05T08:28:24.307Z"
   },
   {
    "duration": 19,
    "start_time": "2022-02-05T08:28:30.336Z"
   },
   {
    "duration": 265,
    "start_time": "2022-02-05T08:29:08.944Z"
   },
   {
    "duration": 20,
    "start_time": "2022-02-05T08:29:19.653Z"
   },
   {
    "duration": 21,
    "start_time": "2022-02-05T08:29:28.324Z"
   },
   {
    "duration": 377,
    "start_time": "2022-02-05T08:29:32.168Z"
   },
   {
    "duration": 79,
    "start_time": "2022-02-05T08:29:32.546Z"
   },
   {
    "duration": 96,
    "start_time": "2022-02-05T08:29:32.627Z"
   },
   {
    "duration": 71,
    "start_time": "2022-02-05T08:29:32.724Z"
   },
   {
    "duration": 40,
    "start_time": "2022-02-05T08:29:32.796Z"
   },
   {
    "duration": 8,
    "start_time": "2022-02-05T08:29:32.838Z"
   },
   {
    "duration": 42,
    "start_time": "2022-02-05T08:29:32.847Z"
   },
   {
    "duration": 16,
    "start_time": "2022-02-05T08:29:32.891Z"
   },
   {
    "duration": 14,
    "start_time": "2022-02-05T08:29:32.909Z"
   },
   {
    "duration": 56,
    "start_time": "2022-02-05T08:29:32.925Z"
   },
   {
    "duration": 9,
    "start_time": "2022-02-05T08:29:32.983Z"
   },
   {
    "duration": 277,
    "start_time": "2022-02-05T08:29:32.994Z"
   },
   {
    "duration": 15,
    "start_time": "2022-02-05T08:29:33.273Z"
   },
   {
    "duration": 14,
    "start_time": "2022-02-05T08:29:33.289Z"
   },
   {
    "duration": 8,
    "start_time": "2022-02-05T08:29:33.305Z"
   },
   {
    "duration": 17,
    "start_time": "2022-02-05T08:29:33.315Z"
   },
   {
    "duration": 39,
    "start_time": "2022-02-05T08:29:33.333Z"
   },
   {
    "duration": 685,
    "start_time": "2022-02-05T08:29:33.373Z"
   },
   {
    "duration": 44,
    "start_time": "2022-02-05T08:29:34.059Z"
   },
   {
    "duration": 847,
    "start_time": "2022-02-05T08:29:34.104Z"
   },
   {
    "duration": 293,
    "start_time": "2022-02-05T08:29:34.952Z"
   },
   {
    "duration": 246,
    "start_time": "2022-02-05T08:29:35.246Z"
   },
   {
    "duration": 268,
    "start_time": "2022-02-05T08:29:35.493Z"
   },
   {
    "duration": 13,
    "start_time": "2022-02-05T08:29:35.763Z"
   },
   {
    "duration": 11,
    "start_time": "2022-02-05T08:29:35.778Z"
   },
   {
    "duration": 18,
    "start_time": "2022-02-05T08:29:35.791Z"
   },
   {
    "duration": 12,
    "start_time": "2022-02-05T08:29:53.110Z"
   },
   {
    "duration": 97,
    "start_time": "2022-02-05T08:30:29.609Z"
   },
   {
    "duration": 21,
    "start_time": "2022-02-05T08:30:36.245Z"
   },
   {
    "duration": 80,
    "start_time": "2022-02-05T08:30:51.397Z"
   },
   {
    "duration": 82,
    "start_time": "2022-02-05T08:30:59.572Z"
   },
   {
    "duration": 408,
    "start_time": "2022-02-05T08:31:28.649Z"
   },
   {
    "duration": 23,
    "start_time": "2022-02-05T08:31:43.873Z"
   },
   {
    "duration": 361,
    "start_time": "2022-02-05T08:31:50.377Z"
   },
   {
    "duration": 79,
    "start_time": "2022-02-05T08:31:50.740Z"
   },
   {
    "duration": 100,
    "start_time": "2022-02-05T08:31:50.822Z"
   },
   {
    "duration": 69,
    "start_time": "2022-02-05T08:31:50.923Z"
   },
   {
    "duration": 50,
    "start_time": "2022-02-05T08:31:50.994Z"
   },
   {
    "duration": 26,
    "start_time": "2022-02-05T08:31:51.046Z"
   },
   {
    "duration": 21,
    "start_time": "2022-02-05T08:31:51.074Z"
   },
   {
    "duration": 17,
    "start_time": "2022-02-05T08:31:51.096Z"
   },
   {
    "duration": 13,
    "start_time": "2022-02-05T08:31:51.116Z"
   },
   {
    "duration": 62,
    "start_time": "2022-02-05T08:31:51.131Z"
   },
   {
    "duration": 10,
    "start_time": "2022-02-05T08:31:51.195Z"
   },
   {
    "duration": 289,
    "start_time": "2022-02-05T08:31:51.207Z"
   },
   {
    "duration": 15,
    "start_time": "2022-02-05T08:31:51.498Z"
   },
   {
    "duration": 13,
    "start_time": "2022-02-05T08:31:51.514Z"
   },
   {
    "duration": 15,
    "start_time": "2022-02-05T08:31:51.529Z"
   },
   {
    "duration": 37,
    "start_time": "2022-02-05T08:31:51.546Z"
   },
   {
    "duration": 17,
    "start_time": "2022-02-05T08:31:51.585Z"
   },
   {
    "duration": 696,
    "start_time": "2022-02-05T08:31:51.603Z"
   },
   {
    "duration": 39,
    "start_time": "2022-02-05T08:31:52.300Z"
   },
   {
    "duration": 907,
    "start_time": "2022-02-05T08:31:52.341Z"
   },
   {
    "duration": 279,
    "start_time": "2022-02-05T08:31:53.249Z"
   },
   {
    "duration": 251,
    "start_time": "2022-02-05T08:31:53.529Z"
   },
   {
    "duration": 270,
    "start_time": "2022-02-05T08:31:53.782Z"
   },
   {
    "duration": 19,
    "start_time": "2022-02-05T08:31:54.053Z"
   },
   {
    "duration": 11,
    "start_time": "2022-02-05T08:31:54.074Z"
   },
   {
    "duration": 16,
    "start_time": "2022-02-05T08:31:54.087Z"
   },
   {
    "duration": 303,
    "start_time": "2022-02-05T08:32:00.386Z"
   },
   {
    "duration": 20,
    "start_time": "2022-02-05T08:32:14.232Z"
   },
   {
    "duration": 380,
    "start_time": "2022-02-05T08:32:20.594Z"
   },
   {
    "duration": 125,
    "start_time": "2022-02-05T08:32:20.976Z"
   },
   {
    "duration": 101,
    "start_time": "2022-02-05T08:32:21.103Z"
   },
   {
    "duration": 72,
    "start_time": "2022-02-05T08:32:21.206Z"
   },
   {
    "duration": 40,
    "start_time": "2022-02-05T08:32:21.280Z"
   },
   {
    "duration": 8,
    "start_time": "2022-02-05T08:32:21.322Z"
   },
   {
    "duration": 46,
    "start_time": "2022-02-05T08:32:21.331Z"
   },
   {
    "duration": 16,
    "start_time": "2022-02-05T08:32:21.378Z"
   },
   {
    "duration": 14,
    "start_time": "2022-02-05T08:32:21.397Z"
   },
   {
    "duration": 27,
    "start_time": "2022-02-05T08:32:21.413Z"
   },
   {
    "duration": 37,
    "start_time": "2022-02-05T08:32:21.441Z"
   },
   {
    "duration": 287,
    "start_time": "2022-02-05T08:32:21.479Z"
   },
   {
    "duration": 16,
    "start_time": "2022-02-05T08:32:21.767Z"
   },
   {
    "duration": 11,
    "start_time": "2022-02-05T08:32:21.785Z"
   },
   {
    "duration": 11,
    "start_time": "2022-02-05T08:32:21.798Z"
   },
   {
    "duration": 15,
    "start_time": "2022-02-05T08:32:21.811Z"
   },
   {
    "duration": 46,
    "start_time": "2022-02-05T08:32:21.828Z"
   },
   {
    "duration": 695,
    "start_time": "2022-02-05T08:32:21.876Z"
   },
   {
    "duration": 43,
    "start_time": "2022-02-05T08:32:22.573Z"
   },
   {
    "duration": 1087,
    "start_time": "2022-02-05T08:32:22.618Z"
   },
   {
    "duration": 299,
    "start_time": "2022-02-05T08:32:23.706Z"
   },
   {
    "duration": 252,
    "start_time": "2022-02-05T08:32:24.006Z"
   },
   {
    "duration": 273,
    "start_time": "2022-02-05T08:32:24.260Z"
   },
   {
    "duration": 10,
    "start_time": "2022-02-05T08:32:24.535Z"
   },
   {
    "duration": 26,
    "start_time": "2022-02-05T08:32:24.547Z"
   },
   {
    "duration": 18,
    "start_time": "2022-02-05T08:32:24.574Z"
   },
   {
    "duration": 21,
    "start_time": "2022-02-05T08:32:31.155Z"
   },
   {
    "duration": 10,
    "start_time": "2022-02-05T08:32:38.577Z"
   },
   {
    "duration": 263,
    "start_time": "2022-02-05T08:32:42.838Z"
   },
   {
    "duration": 368,
    "start_time": "2022-02-05T08:32:52.143Z"
   },
   {
    "duration": 81,
    "start_time": "2022-02-05T08:32:52.513Z"
   },
   {
    "duration": 89,
    "start_time": "2022-02-05T08:32:52.596Z"
   },
   {
    "duration": 57,
    "start_time": "2022-02-05T08:32:52.688Z"
   },
   {
    "duration": 64,
    "start_time": "2022-02-05T08:32:52.747Z"
   },
   {
    "duration": 8,
    "start_time": "2022-02-05T08:32:52.813Z"
   },
   {
    "duration": 20,
    "start_time": "2022-02-05T08:32:52.823Z"
   },
   {
    "duration": 38,
    "start_time": "2022-02-05T08:32:52.844Z"
   },
   {
    "duration": 14,
    "start_time": "2022-02-05T08:32:52.884Z"
   },
   {
    "duration": 27,
    "start_time": "2022-02-05T08:32:52.900Z"
   },
   {
    "duration": 8,
    "start_time": "2022-02-05T08:32:52.929Z"
   },
   {
    "duration": 283,
    "start_time": "2022-02-05T08:32:52.972Z"
   },
   {
    "duration": 23,
    "start_time": "2022-02-05T08:32:53.256Z"
   },
   {
    "duration": 12,
    "start_time": "2022-02-05T08:32:53.280Z"
   },
   {
    "duration": 14,
    "start_time": "2022-02-05T08:32:53.294Z"
   },
   {
    "duration": 39,
    "start_time": "2022-02-05T08:32:53.309Z"
   },
   {
    "duration": 20,
    "start_time": "2022-02-05T08:32:53.349Z"
   },
   {
    "duration": 709,
    "start_time": "2022-02-05T08:32:53.371Z"
   },
   {
    "duration": 39,
    "start_time": "2022-02-05T08:32:54.081Z"
   },
   {
    "duration": 946,
    "start_time": "2022-02-05T08:32:54.121Z"
   },
   {
    "duration": 284,
    "start_time": "2022-02-05T08:32:55.071Z"
   },
   {
    "duration": 245,
    "start_time": "2022-02-05T08:32:55.356Z"
   },
   {
    "duration": 272,
    "start_time": "2022-02-05T08:32:55.603Z"
   },
   {
    "duration": 10,
    "start_time": "2022-02-05T08:32:55.876Z"
   },
   {
    "duration": 11,
    "start_time": "2022-02-05T08:32:55.887Z"
   },
   {
    "duration": 11,
    "start_time": "2022-02-05T08:32:55.899Z"
   },
   {
    "duration": 311,
    "start_time": "2022-02-05T08:33:05.261Z"
   },
   {
    "duration": 17,
    "start_time": "2022-02-05T08:33:51.867Z"
   },
   {
    "duration": 290,
    "start_time": "2022-02-05T08:33:55.646Z"
   },
   {
    "duration": 373,
    "start_time": "2022-02-05T08:33:59.018Z"
   },
   {
    "duration": 97,
    "start_time": "2022-02-05T08:33:59.393Z"
   },
   {
    "duration": 92,
    "start_time": "2022-02-05T08:33:59.492Z"
   },
   {
    "duration": 59,
    "start_time": "2022-02-05T08:33:59.586Z"
   },
   {
    "duration": 64,
    "start_time": "2022-02-05T08:33:59.647Z"
   },
   {
    "duration": 11,
    "start_time": "2022-02-05T08:33:59.713Z"
   },
   {
    "duration": 47,
    "start_time": "2022-02-05T08:33:59.726Z"
   },
   {
    "duration": 20,
    "start_time": "2022-02-05T08:33:59.775Z"
   },
   {
    "duration": 17,
    "start_time": "2022-02-05T08:33:59.798Z"
   },
   {
    "duration": 62,
    "start_time": "2022-02-05T08:33:59.818Z"
   },
   {
    "duration": 8,
    "start_time": "2022-02-05T08:33:59.882Z"
   },
   {
    "duration": 289,
    "start_time": "2022-02-05T08:33:59.892Z"
   },
   {
    "duration": 13,
    "start_time": "2022-02-05T08:34:00.183Z"
   },
   {
    "duration": 12,
    "start_time": "2022-02-05T08:34:00.198Z"
   },
   {
    "duration": 11,
    "start_time": "2022-02-05T08:34:00.211Z"
   },
   {
    "duration": 16,
    "start_time": "2022-02-05T08:34:00.224Z"
   },
   {
    "duration": 34,
    "start_time": "2022-02-05T08:34:00.241Z"
   },
   {
    "duration": 899,
    "start_time": "2022-02-05T08:34:00.277Z"
   },
   {
    "duration": 42,
    "start_time": "2022-02-05T08:34:01.178Z"
   },
   {
    "duration": 942,
    "start_time": "2022-02-05T08:34:01.221Z"
   },
   {
    "duration": 375,
    "start_time": "2022-02-05T08:34:02.164Z"
   },
   {
    "duration": 252,
    "start_time": "2022-02-05T08:34:02.540Z"
   },
   {
    "duration": 273,
    "start_time": "2022-02-05T08:34:02.794Z"
   },
   {
    "duration": 10,
    "start_time": "2022-02-05T08:34:03.072Z"
   },
   {
    "duration": 12,
    "start_time": "2022-02-05T08:34:03.083Z"
   },
   {
    "duration": 14,
    "start_time": "2022-02-05T08:34:03.096Z"
   },
   {
    "duration": 366,
    "start_time": "2022-02-05T08:34:19.299Z"
   },
   {
    "duration": 111,
    "start_time": "2022-02-05T08:34:19.666Z"
   },
   {
    "duration": 69,
    "start_time": "2022-02-05T08:34:19.779Z"
   },
   {
    "duration": 78,
    "start_time": "2022-02-05T08:34:19.850Z"
   },
   {
    "duration": 61,
    "start_time": "2022-02-05T08:34:19.929Z"
   },
   {
    "duration": 8,
    "start_time": "2022-02-05T08:34:19.992Z"
   },
   {
    "duration": 21,
    "start_time": "2022-02-05T08:34:20.001Z"
   },
   {
    "duration": 18,
    "start_time": "2022-02-05T08:34:20.024Z"
   },
   {
    "duration": 39,
    "start_time": "2022-02-05T08:34:20.044Z"
   },
   {
    "duration": 27,
    "start_time": "2022-02-05T08:34:20.085Z"
   },
   {
    "duration": 9,
    "start_time": "2022-02-05T08:34:20.114Z"
   },
   {
    "duration": 298,
    "start_time": "2022-02-05T08:34:20.125Z"
   },
   {
    "duration": 13,
    "start_time": "2022-02-05T08:34:20.424Z"
   },
   {
    "duration": 32,
    "start_time": "2022-02-05T08:34:20.439Z"
   },
   {
    "duration": 7,
    "start_time": "2022-02-05T08:34:20.473Z"
   },
   {
    "duration": 14,
    "start_time": "2022-02-05T08:34:20.481Z"
   },
   {
    "duration": 8,
    "start_time": "2022-02-05T08:34:20.497Z"
   },
   {
    "duration": 727,
    "start_time": "2022-02-05T08:34:20.506Z"
   },
   {
    "duration": 53,
    "start_time": "2022-02-05T08:34:21.234Z"
   },
   {
    "duration": 849,
    "start_time": "2022-02-05T08:34:21.288Z"
   },
   {
    "duration": 271,
    "start_time": "2022-02-05T08:34:22.138Z"
   },
   {
    "duration": 241,
    "start_time": "2022-02-05T08:34:22.411Z"
   },
   {
    "duration": 278,
    "start_time": "2022-02-05T08:34:22.654Z"
   },
   {
    "duration": 10,
    "start_time": "2022-02-05T08:34:22.933Z"
   },
   {
    "duration": 28,
    "start_time": "2022-02-05T08:34:22.944Z"
   },
   {
    "duration": 14,
    "start_time": "2022-02-05T08:34:22.973Z"
   },
   {
    "duration": 10,
    "start_time": "2022-02-05T08:34:40.410Z"
   },
   {
    "duration": 20,
    "start_time": "2022-02-05T08:34:43.604Z"
   },
   {
    "duration": 22,
    "start_time": "2022-02-05T08:34:50.448Z"
   },
   {
    "duration": 24,
    "start_time": "2022-02-05T08:34:53.356Z"
   },
   {
    "duration": 24,
    "start_time": "2022-02-05T08:34:55.155Z"
   },
   {
    "duration": 229,
    "start_time": "2022-02-05T08:35:11.751Z"
   },
   {
    "duration": 23,
    "start_time": "2022-02-05T08:35:53.506Z"
   },
   {
    "duration": 28,
    "start_time": "2022-02-05T08:35:56.108Z"
   },
   {
    "duration": 17,
    "start_time": "2022-02-05T08:36:33.564Z"
   },
   {
    "duration": 18,
    "start_time": "2022-02-05T08:36:36.278Z"
   },
   {
    "duration": 371,
    "start_time": "2022-02-05T08:36:54.667Z"
   },
   {
    "duration": 80,
    "start_time": "2022-02-05T08:36:55.040Z"
   },
   {
    "duration": 105,
    "start_time": "2022-02-05T08:36:55.122Z"
   },
   {
    "duration": 65,
    "start_time": "2022-02-05T08:36:55.229Z"
   },
   {
    "duration": 42,
    "start_time": "2022-02-05T08:36:55.296Z"
   },
   {
    "duration": 33,
    "start_time": "2022-02-05T08:36:55.340Z"
   },
   {
    "duration": 21,
    "start_time": "2022-02-05T08:36:55.375Z"
   },
   {
    "duration": 19,
    "start_time": "2022-02-05T08:36:55.398Z"
   },
   {
    "duration": 56,
    "start_time": "2022-02-05T08:36:55.420Z"
   },
   {
    "duration": 30,
    "start_time": "2022-02-05T08:36:55.479Z"
   },
   {
    "duration": 10,
    "start_time": "2022-02-05T08:36:55.510Z"
   },
   {
    "duration": 529,
    "start_time": "2022-02-05T08:36:55.522Z"
   },
   {
    "duration": 29,
    "start_time": "2022-02-05T08:36:56.053Z"
   },
   {
    "duration": 13,
    "start_time": "2022-02-05T08:36:56.084Z"
   },
   {
    "duration": 9,
    "start_time": "2022-02-05T08:36:56.099Z"
   },
   {
    "duration": 16,
    "start_time": "2022-02-05T08:36:56.109Z"
   },
   {
    "duration": 5,
    "start_time": "2022-02-05T08:36:56.127Z"
   },
   {
    "duration": 744,
    "start_time": "2022-02-05T08:36:56.134Z"
   },
   {
    "duration": 42,
    "start_time": "2022-02-05T08:36:56.879Z"
   },
   {
    "duration": 911,
    "start_time": "2022-02-05T08:36:56.923Z"
   },
   {
    "duration": 317,
    "start_time": "2022-02-05T08:36:57.835Z"
   },
   {
    "duration": 260,
    "start_time": "2022-02-05T08:36:58.154Z"
   },
   {
    "duration": 276,
    "start_time": "2022-02-05T08:36:58.416Z"
   },
   {
    "duration": 12,
    "start_time": "2022-02-05T08:36:58.694Z"
   },
   {
    "duration": 11,
    "start_time": "2022-02-05T08:36:58.707Z"
   },
   {
    "duration": 55,
    "start_time": "2022-02-05T08:36:58.719Z"
   },
   {
    "duration": 372,
    "start_time": "2022-02-05T08:37:41.844Z"
   },
   {
    "duration": 76,
    "start_time": "2022-02-05T08:37:42.218Z"
   },
   {
    "duration": 92,
    "start_time": "2022-02-05T08:37:42.296Z"
   },
   {
    "duration": 53,
    "start_time": "2022-02-05T08:37:42.390Z"
   },
   {
    "duration": 60,
    "start_time": "2022-02-05T08:37:42.445Z"
   },
   {
    "duration": 8,
    "start_time": "2022-02-05T08:37:42.507Z"
   },
   {
    "duration": 38,
    "start_time": "2022-02-05T08:37:42.517Z"
   },
   {
    "duration": 20,
    "start_time": "2022-02-05T08:37:42.556Z"
   },
   {
    "duration": 13,
    "start_time": "2022-02-05T08:37:42.578Z"
   },
   {
    "duration": 34,
    "start_time": "2022-02-05T08:37:42.593Z"
   },
   {
    "duration": 9,
    "start_time": "2022-02-05T08:37:42.628Z"
   },
   {
    "duration": 286,
    "start_time": "2022-02-05T08:37:42.638Z"
   },
   {
    "duration": 13,
    "start_time": "2022-02-05T08:37:42.926Z"
   },
   {
    "duration": 21,
    "start_time": "2022-02-05T08:37:42.941Z"
   },
   {
    "duration": 19,
    "start_time": "2022-02-05T08:37:42.963Z"
   },
   {
    "duration": 28,
    "start_time": "2022-02-05T08:37:42.984Z"
   },
   {
    "duration": 5,
    "start_time": "2022-02-05T08:37:43.014Z"
   },
   {
    "duration": 697,
    "start_time": "2022-02-05T08:37:43.020Z"
   },
   {
    "duration": 39,
    "start_time": "2022-02-05T08:37:43.718Z"
   },
   {
    "duration": 877,
    "start_time": "2022-02-05T08:37:43.759Z"
   },
   {
    "duration": 281,
    "start_time": "2022-02-05T08:37:44.638Z"
   },
   {
    "duration": 254,
    "start_time": "2022-02-05T08:37:44.920Z"
   },
   {
    "duration": 265,
    "start_time": "2022-02-05T08:37:45.175Z"
   },
   {
    "duration": 9,
    "start_time": "2022-02-05T08:37:45.441Z"
   },
   {
    "duration": 28,
    "start_time": "2022-02-05T08:37:45.452Z"
   },
   {
    "duration": 242,
    "start_time": "2022-02-05T08:37:45.481Z"
   },
   {
    "duration": 6427,
    "start_time": "2022-02-05T08:41:13.142Z"
   },
   {
    "duration": 5,
    "start_time": "2022-02-05T08:41:36.093Z"
   },
   {
    "duration": 14,
    "start_time": "2022-02-05T08:42:13.160Z"
   },
   {
    "duration": 13,
    "start_time": "2022-02-05T08:43:34.108Z"
   },
   {
    "duration": 25,
    "start_time": "2022-02-05T08:44:34.703Z"
   },
   {
    "duration": 18,
    "start_time": "2022-02-05T08:44:38.459Z"
   },
   {
    "duration": 10,
    "start_time": "2022-02-05T08:44:45.325Z"
   },
   {
    "duration": 13,
    "start_time": "2022-02-05T08:44:49.460Z"
   },
   {
    "duration": 14,
    "start_time": "2022-02-05T08:44:57.213Z"
   },
   {
    "duration": 13,
    "start_time": "2022-02-05T08:45:15.701Z"
   },
   {
    "duration": 13,
    "start_time": "2022-02-05T08:45:24.481Z"
   },
   {
    "duration": 14,
    "start_time": "2022-02-05T08:45:27.383Z"
   },
   {
    "duration": 13,
    "start_time": "2022-02-05T08:45:50.380Z"
   },
   {
    "duration": 14,
    "start_time": "2022-02-05T08:46:00.998Z"
   },
   {
    "duration": 13,
    "start_time": "2022-02-05T08:46:19.748Z"
   },
   {
    "duration": 13,
    "start_time": "2022-02-05T08:46:42.442Z"
   },
   {
    "duration": 16,
    "start_time": "2022-02-05T08:46:45.657Z"
   },
   {
    "duration": 336,
    "start_time": "2022-02-05T08:48:17.393Z"
   },
   {
    "duration": 357,
    "start_time": "2022-02-05T08:48:21.050Z"
   },
   {
    "duration": 81,
    "start_time": "2022-02-05T08:48:21.408Z"
   },
   {
    "duration": 89,
    "start_time": "2022-02-05T08:48:21.491Z"
   },
   {
    "duration": 55,
    "start_time": "2022-02-05T08:48:21.582Z"
   },
   {
    "duration": 60,
    "start_time": "2022-02-05T08:48:21.639Z"
   },
   {
    "duration": 8,
    "start_time": "2022-02-05T08:48:21.700Z"
   },
   {
    "duration": 19,
    "start_time": "2022-02-05T08:48:21.709Z"
   },
   {
    "duration": 44,
    "start_time": "2022-02-05T08:48:21.729Z"
   },
   {
    "duration": 14,
    "start_time": "2022-02-05T08:48:21.776Z"
   },
   {
    "duration": 28,
    "start_time": "2022-02-05T08:48:21.792Z"
   },
   {
    "duration": 8,
    "start_time": "2022-02-05T08:48:21.822Z"
   },
   {
    "duration": 303,
    "start_time": "2022-02-05T08:48:21.831Z"
   },
   {
    "duration": 13,
    "start_time": "2022-02-05T08:48:22.135Z"
   },
   {
    "duration": 23,
    "start_time": "2022-02-05T08:48:22.149Z"
   },
   {
    "duration": 9,
    "start_time": "2022-02-05T08:48:22.174Z"
   },
   {
    "duration": 16,
    "start_time": "2022-02-05T08:48:22.184Z"
   },
   {
    "duration": 5,
    "start_time": "2022-02-05T08:48:22.201Z"
   },
   {
    "duration": 718,
    "start_time": "2022-02-05T08:48:22.207Z"
   },
   {
    "duration": 46,
    "start_time": "2022-02-05T08:48:22.927Z"
   },
   {
    "duration": 920,
    "start_time": "2022-02-05T08:48:22.975Z"
   },
   {
    "duration": 287,
    "start_time": "2022-02-05T08:48:23.897Z"
   },
   {
    "duration": 241,
    "start_time": "2022-02-05T08:48:24.185Z"
   },
   {
    "duration": 289,
    "start_time": "2022-02-05T08:48:24.427Z"
   },
   {
    "duration": 9,
    "start_time": "2022-02-05T08:48:24.718Z"
   },
   {
    "duration": 12,
    "start_time": "2022-02-05T08:48:24.729Z"
   },
   {
    "duration": 35,
    "start_time": "2022-02-05T08:48:24.742Z"
   },
   {
    "duration": 14,
    "start_time": "2022-02-05T08:48:24.780Z"
   },
   {
    "duration": 362,
    "start_time": "2022-02-05T08:48:34.476Z"
   },
   {
    "duration": 82,
    "start_time": "2022-02-05T08:48:34.839Z"
   },
   {
    "duration": 97,
    "start_time": "2022-02-05T08:48:34.922Z"
   },
   {
    "duration": 67,
    "start_time": "2022-02-05T08:48:35.020Z"
   },
   {
    "duration": 40,
    "start_time": "2022-02-05T08:48:35.089Z"
   },
   {
    "duration": 8,
    "start_time": "2022-02-05T08:48:35.131Z"
   },
   {
    "duration": 50,
    "start_time": "2022-02-05T08:48:35.141Z"
   },
   {
    "duration": 17,
    "start_time": "2022-02-05T08:48:35.192Z"
   },
   {
    "duration": 15,
    "start_time": "2022-02-05T08:48:35.211Z"
   },
   {
    "duration": 48,
    "start_time": "2022-02-05T08:48:35.228Z"
   },
   {
    "duration": 9,
    "start_time": "2022-02-05T08:48:35.277Z"
   },
   {
    "duration": 280,
    "start_time": "2022-02-05T08:48:35.287Z"
   },
   {
    "duration": 15,
    "start_time": "2022-02-05T08:48:35.568Z"
   },
   {
    "duration": 15,
    "start_time": "2022-02-05T08:48:35.585Z"
   },
   {
    "duration": 8,
    "start_time": "2022-02-05T08:48:35.602Z"
   },
   {
    "duration": 14,
    "start_time": "2022-02-05T08:48:35.612Z"
   },
   {
    "duration": 46,
    "start_time": "2022-02-05T08:48:35.627Z"
   },
   {
    "duration": 703,
    "start_time": "2022-02-05T08:48:35.675Z"
   },
   {
    "duration": 40,
    "start_time": "2022-02-05T08:48:36.379Z"
   },
   {
    "duration": 935,
    "start_time": "2022-02-05T08:48:36.420Z"
   },
   {
    "duration": 276,
    "start_time": "2022-02-05T08:48:37.357Z"
   },
   {
    "duration": 240,
    "start_time": "2022-02-05T08:48:37.634Z"
   },
   {
    "duration": 270,
    "start_time": "2022-02-05T08:48:37.876Z"
   },
   {
    "duration": 9,
    "start_time": "2022-02-05T08:48:38.147Z"
   },
   {
    "duration": 21,
    "start_time": "2022-02-05T08:48:38.157Z"
   },
   {
    "duration": 14,
    "start_time": "2022-02-05T08:48:38.179Z"
   },
   {
    "duration": 13,
    "start_time": "2022-02-05T08:48:38.196Z"
   },
   {
    "duration": 1538,
    "start_time": "2022-02-12T14:23:43.544Z"
   },
   {
    "duration": 126,
    "start_time": "2022-02-12T14:23:45.085Z"
   },
   {
    "duration": 95,
    "start_time": "2022-02-12T14:23:45.213Z"
   },
   {
    "duration": 66,
    "start_time": "2022-02-12T14:23:45.310Z"
   },
   {
    "duration": 70,
    "start_time": "2022-02-12T14:23:45.378Z"
   },
   {
    "duration": 12,
    "start_time": "2022-02-12T14:23:45.450Z"
   },
   {
    "duration": 57,
    "start_time": "2022-02-12T14:23:45.464Z"
   },
   {
    "duration": 21,
    "start_time": "2022-02-12T14:23:45.522Z"
   },
   {
    "duration": 16,
    "start_time": "2022-02-12T14:23:45.546Z"
   },
   {
    "duration": 59,
    "start_time": "2022-02-12T14:23:45.565Z"
   },
   {
    "duration": 10,
    "start_time": "2022-02-12T14:23:45.626Z"
   },
   {
    "duration": 330,
    "start_time": "2022-02-12T14:23:45.638Z"
   },
   {
    "duration": 16,
    "start_time": "2022-02-12T14:23:45.970Z"
   },
   {
    "duration": 35,
    "start_time": "2022-02-12T14:23:45.988Z"
   },
   {
    "duration": 11,
    "start_time": "2022-02-12T14:23:46.025Z"
   },
   {
    "duration": 21,
    "start_time": "2022-02-12T14:23:46.038Z"
   },
   {
    "duration": 7,
    "start_time": "2022-02-12T14:23:46.061Z"
   },
   {
    "duration": 858,
    "start_time": "2022-02-12T14:23:46.070Z"
   },
   {
    "duration": 47,
    "start_time": "2022-02-12T14:23:46.930Z"
   },
   {
    "duration": 970,
    "start_time": "2022-02-12T14:23:46.979Z"
   },
   {
    "duration": 334,
    "start_time": "2022-02-12T14:23:47.951Z"
   },
   {
    "duration": 377,
    "start_time": "2022-02-12T14:23:48.287Z"
   },
   {
    "duration": 340,
    "start_time": "2022-02-12T14:23:48.666Z"
   },
   {
    "duration": 10,
    "start_time": "2022-02-12T14:23:49.008Z"
   },
   {
    "duration": 17,
    "start_time": "2022-02-12T14:23:49.020Z"
   },
   {
    "duration": 18,
    "start_time": "2022-02-12T14:23:49.039Z"
   },
   {
    "duration": 47,
    "start_time": "2022-02-12T14:23:49.061Z"
   },
   {
    "duration": 352,
    "start_time": "2022-02-12T14:57:21.916Z"
   },
   {
    "duration": 5,
    "start_time": "2022-02-12T14:57:24.128Z"
   },
   {
    "duration": 6,
    "start_time": "2022-02-12T14:57:31.101Z"
   },
   {
    "duration": 9,
    "start_time": "2022-02-12T14:57:48.550Z"
   },
   {
    "duration": 11,
    "start_time": "2022-02-12T14:59:17.689Z"
   },
   {
    "duration": 74,
    "start_time": "2022-02-13T17:39:46.599Z"
   },
   {
    "duration": 1575,
    "start_time": "2022-02-14T08:56:07.339Z"
   },
   {
    "duration": 443,
    "start_time": "2022-02-14T08:56:11.553Z"
   },
   {
    "duration": 91,
    "start_time": "2022-02-14T13:56:23.326Z"
   },
   {
    "duration": 11,
    "start_time": "2022-02-14T13:56:25.596Z"
   },
   {
    "duration": 845,
    "start_time": "2022-02-14T13:56:28.113Z"
   },
   {
    "duration": 244,
    "start_time": "2022-02-14T13:56:28.961Z"
   },
   {
    "duration": 135,
    "start_time": "2022-02-14T13:56:29.207Z"
   },
   {
    "duration": 171,
    "start_time": "2022-02-14T13:56:29.344Z"
   },
   {
    "duration": 102,
    "start_time": "2022-02-14T13:56:29.517Z"
   },
   {
    "duration": 9,
    "start_time": "2022-02-14T13:56:29.621Z"
   },
   {
    "duration": 83,
    "start_time": "2022-02-14T13:56:29.632Z"
   },
   {
    "duration": 20,
    "start_time": "2022-02-14T13:56:29.717Z"
   },
   {
    "duration": 74,
    "start_time": "2022-02-14T13:56:29.739Z"
   },
   {
    "duration": 91,
    "start_time": "2022-02-14T13:56:29.815Z"
   },
   {
    "duration": 4,
    "start_time": "2022-02-14T13:56:29.908Z"
   },
   {
    "duration": 8,
    "start_time": "2022-02-14T13:56:29.914Z"
   },
   {
    "duration": 75,
    "start_time": "2022-02-14T13:56:29.924Z"
   },
   {
    "duration": 616,
    "start_time": "2022-02-14T13:56:30.001Z"
   },
   {
    "duration": 9,
    "start_time": "2022-02-14T13:56:30.619Z"
   },
   {
    "duration": 83,
    "start_time": "2022-02-14T13:56:30.629Z"
   },
   {
    "duration": 14,
    "start_time": "2022-02-14T13:56:30.714Z"
   },
   {
    "duration": 73,
    "start_time": "2022-02-14T13:56:30.730Z"
   },
   {
    "duration": 27,
    "start_time": "2022-02-14T13:56:30.805Z"
   },
   {
    "duration": 65,
    "start_time": "2022-02-14T13:56:30.834Z"
   },
   {
    "duration": 1928,
    "start_time": "2022-02-14T13:56:30.901Z"
   },
   {
    "duration": 169,
    "start_time": "2022-02-14T13:56:32.832Z"
   },
   {
    "duration": 9,
    "start_time": "2022-02-14T13:56:33.004Z"
   },
   {
    "duration": 1796,
    "start_time": "2022-02-14T13:56:33.015Z"
   },
   {
    "duration": 892,
    "start_time": "2022-02-14T13:56:34.812Z"
   },
   {
    "duration": 812,
    "start_time": "2022-02-14T13:56:35.706Z"
   },
   {
    "duration": 779,
    "start_time": "2022-02-14T13:56:36.519Z"
   },
   {
    "duration": 9,
    "start_time": "2022-02-14T13:56:37.301Z"
   },
   {
    "duration": 22,
    "start_time": "2022-02-14T13:56:37.312Z"
   },
   {
    "duration": 72,
    "start_time": "2022-02-14T13:56:37.337Z"
   },
   {
    "duration": 16,
    "start_time": "2022-02-14T13:56:37.411Z"
   },
   {
    "duration": 1609,
    "start_time": "2022-02-18T14:51:41.314Z"
   },
   {
    "duration": 123,
    "start_time": "2022-02-18T14:51:42.924Z"
   },
   {
    "duration": 114,
    "start_time": "2022-02-18T14:51:43.050Z"
   },
   {
    "duration": 77,
    "start_time": "2022-02-18T14:51:43.166Z"
   },
   {
    "duration": 46,
    "start_time": "2022-02-18T14:51:43.245Z"
   },
   {
    "duration": 33,
    "start_time": "2022-02-18T14:51:43.293Z"
   },
   {
    "duration": 37,
    "start_time": "2022-02-18T14:51:43.328Z"
   },
   {
    "duration": 29,
    "start_time": "2022-02-18T14:51:43.368Z"
   },
   {
    "duration": 40,
    "start_time": "2022-02-18T14:51:43.399Z"
   },
   {
    "duration": 35,
    "start_time": "2022-02-18T14:51:43.441Z"
   },
   {
    "duration": 5,
    "start_time": "2022-02-18T14:51:43.478Z"
   },
   {
    "duration": 35,
    "start_time": "2022-02-18T14:51:43.485Z"
   },
   {
    "duration": 12,
    "start_time": "2022-02-18T14:51:43.521Z"
   },
   {
    "duration": 324,
    "start_time": "2022-02-18T14:51:43.535Z"
   },
   {
    "duration": 8,
    "start_time": "2022-02-18T14:51:43.861Z"
   },
   {
    "duration": 16,
    "start_time": "2022-02-18T14:51:43.871Z"
   },
   {
    "duration": 39,
    "start_time": "2022-02-18T14:51:43.888Z"
   },
   {
    "duration": 7,
    "start_time": "2022-02-18T14:51:43.929Z"
   },
   {
    "duration": 23,
    "start_time": "2022-02-18T14:51:43.938Z"
   },
   {
    "duration": 8,
    "start_time": "2022-02-18T14:51:43.963Z"
   },
   {
    "duration": 835,
    "start_time": "2022-02-18T14:51:43.973Z"
   },
   {
    "duration": 48,
    "start_time": "2022-02-18T14:51:44.809Z"
   },
   {
    "duration": 8,
    "start_time": "2022-02-18T14:51:44.861Z"
   },
   {
    "duration": 1019,
    "start_time": "2022-02-18T14:51:44.872Z"
   },
   {
    "duration": 327,
    "start_time": "2022-02-18T14:51:45.893Z"
   },
   {
    "duration": 358,
    "start_time": "2022-02-18T14:51:46.222Z"
   },
   {
    "duration": 311,
    "start_time": "2022-02-18T14:51:46.582Z"
   },
   {
    "duration": 8,
    "start_time": "2022-02-18T14:51:46.894Z"
   },
   {
    "duration": 22,
    "start_time": "2022-02-18T14:51:46.904Z"
   },
   {
    "duration": 17,
    "start_time": "2022-02-18T14:51:46.927Z"
   },
   {
    "duration": 16,
    "start_time": "2022-02-18T14:51:46.946Z"
   },
   {
    "duration": 20,
    "start_time": "2022-02-18T14:51:46.964Z"
   },
   {
    "duration": 2202,
    "start_time": "2023-03-07T11:54:18.042Z"
   },
   {
    "duration": 122,
    "start_time": "2023-03-07T11:54:32.490Z"
   },
   {
    "duration": 108,
    "start_time": "2023-03-07T11:55:02.850Z"
   },
   {
    "duration": 69,
    "start_time": "2023-03-07T11:55:16.125Z"
   },
   {
    "duration": 1428,
    "start_time": "2023-03-07T11:57:15.874Z"
   },
   {
    "duration": 96,
    "start_time": "2023-03-07T11:57:17.304Z"
   },
   {
    "duration": 91,
    "start_time": "2023-03-07T11:57:17.401Z"
   },
   {
    "duration": 70,
    "start_time": "2023-03-07T11:57:17.493Z"
   },
   {
    "duration": 43,
    "start_time": "2023-03-07T11:57:17.564Z"
   },
   {
    "duration": 11,
    "start_time": "2023-03-07T11:57:17.609Z"
   },
   {
    "duration": 34,
    "start_time": "2023-03-07T11:57:17.621Z"
   },
   {
    "duration": 17,
    "start_time": "2023-03-07T11:57:17.657Z"
   },
   {
    "duration": 15,
    "start_time": "2023-03-07T11:57:17.675Z"
   },
   {
    "duration": 57,
    "start_time": "2023-03-07T11:57:17.693Z"
   },
   {
    "duration": 4,
    "start_time": "2023-03-07T11:57:17.751Z"
   },
   {
    "duration": 5,
    "start_time": "2023-03-07T11:57:17.757Z"
   },
   {
    "duration": 18,
    "start_time": "2023-03-07T11:57:17.764Z"
   },
   {
    "duration": 240,
    "start_time": "2023-03-07T11:57:17.784Z"
   },
   {
    "duration": 14,
    "start_time": "2023-03-07T11:57:18.026Z"
   },
   {
    "duration": 13,
    "start_time": "2023-03-07T11:57:18.042Z"
   },
   {
    "duration": 17,
    "start_time": "2023-03-07T11:57:18.056Z"
   },
   {
    "duration": 7,
    "start_time": "2023-03-07T11:57:18.074Z"
   },
   {
    "duration": 17,
    "start_time": "2023-03-07T11:57:18.082Z"
   },
   {
    "duration": 4,
    "start_time": "2023-03-07T11:57:18.101Z"
   },
   {
    "duration": 574,
    "start_time": "2023-03-07T11:57:18.106Z"
   },
   {
    "duration": 41,
    "start_time": "2023-03-07T11:57:18.682Z"
   },
   {
    "duration": 18,
    "start_time": "2023-03-07T11:57:18.725Z"
   },
   {
    "duration": 797,
    "start_time": "2023-03-07T11:57:18.745Z"
   },
   {
    "duration": 235,
    "start_time": "2023-03-07T11:57:19.544Z"
   },
   {
    "duration": 207,
    "start_time": "2023-03-07T11:57:19.780Z"
   },
   {
    "duration": 290,
    "start_time": "2023-03-07T11:57:19.989Z"
   },
   {
    "duration": 7,
    "start_time": "2023-03-07T11:57:20.282Z"
   },
   {
    "duration": 11,
    "start_time": "2023-03-07T11:57:20.290Z"
   },
   {
    "duration": 12,
    "start_time": "2023-03-07T11:57:20.302Z"
   },
   {
    "duration": 30,
    "start_time": "2023-03-07T11:57:20.315Z"
   },
   {
    "duration": 12,
    "start_time": "2023-03-07T11:57:20.346Z"
   }
  ],
  "kernelspec": {
   "display_name": "Python 3 (ipykernel)",
   "language": "python",
   "name": "python3"
  },
  "language_info": {
   "codemirror_mode": {
    "name": "ipython",
    "version": 3
   },
   "file_extension": ".py",
   "mimetype": "text/x-python",
   "name": "python",
   "nbconvert_exporter": "python",
   "pygments_lexer": "ipython3",
   "version": "3.9.5"
  },
  "toc": {
   "base_numbering": 1,
   "nav_menu": {},
   "number_sections": true,
   "sideBar": true,
   "skip_h1_title": true,
   "title_cell": "Table of Contents",
   "title_sidebar": "Contents",
   "toc_cell": false,
   "toc_position": {},
   "toc_section_display": true,
   "toc_window_display": true
  }
 },
 "nbformat": 4,
 "nbformat_minor": 2
}
