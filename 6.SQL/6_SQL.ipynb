{
 "cells": [
  {
   "cell_type": "markdown",
   "metadata": {},
   "source": [
    "1.Посчитайте, сколько компаний закрылось."
   ]
  },
  {
   "cell_type": "code",
   "execution_count": null,
   "metadata": {},
   "outputs": [],
   "source": [
    "query = '''\n",
    "SELECT COUNT(status)\n",
    "FROM company\n",
    "WHERE status = 'closed'\n",
    "\n",
    "'''\n",
    "pd.io.sql.read_sql(query, con = engine)"
   ]
  },
  {
   "cell_type": "markdown",
   "metadata": {},
   "source": [
    "2.Отобразите количество привлечённых средств для новостных компаний США. Используйте данные из таблицы company. Отсортируйте таблицу по убыванию значений в поле funding_total ."
   ]
  },
  {
   "cell_type": "code",
   "execution_count": null,
   "metadata": {},
   "outputs": [],
   "source": [
    "query = '''\n",
    "SELECT SUM(funding_total) AS ft\n",
    "FROM company\n",
    "WHERE country_code = 'USA' AND category_code = 'news'\n",
    "GROUP BY name\n",
    "ORDER BY ft DESC\n",
    "'''\n",
    "pd.io.sql.read_sql(query, con = engine)"
   ]
  },
  {
   "cell_type": "markdown",
   "metadata": {},
   "source": [
    "3.Найдите общую сумму сделок по покупке одних компаний другими в долларах. Отберите сделки, которые осуществлялись только за наличные с 2011 по 2013 год включительно."
   ]
  },
  {
   "cell_type": "code",
   "execution_count": null,
   "metadata": {},
   "outputs": [],
   "source": [
    "query = '''\n",
    "SELECT SUM(price_amount)\n",
    "FROM acquisition\n",
    "WHERE term_code = 'cash'\n",
    "AND CAST(acquired_at AS date) BETWEEN '2011-01-01' AND '2013-12-31'\n",
    "'''\n",
    "pd.io.sql.read_sql(query, con = engine)"
   ]
  },
  {
   "cell_type": "markdown",
   "metadata": {},
   "source": [
    "4.Отобразите имя, фамилию и названия аккаунтов людей в твиттере, у которых названия аккаунтов начинаются на 'Silver'."
   ]
  },
  {
   "cell_type": "code",
   "execution_count": null,
   "metadata": {},
   "outputs": [],
   "source": [
    "query = '''\n",
    "SELECT first_name,\n",
    "       last_name,\n",
    "       twitter_username\n",
    "FROM people\n",
    "WHERE twitter_username LIKE 'Silver%'\n",
    "'''\n",
    "pd.io.sql.read_sql(query, con = engine)"
   ]
  },
  {
   "cell_type": "markdown",
   "metadata": {},
   "source": [
    "5.Выведите на экран всю информацию о людях, у которых названия аккаунтов в твиттере содержат подстроку 'money', а фамилия начинается на 'K'."
   ]
  },
  {
   "cell_type": "code",
   "execution_count": null,
   "metadata": {},
   "outputs": [],
   "source": [
    "query = '''\n",
    "SELECT *\n",
    "FROM people\n",
    "WHERE twitter_username LIKE '%money%'\n",
    "AND last_name LIKE 'K%'\n",
    "'''\n",
    "pd.io.sql.read_sql(query, con = engine)"
   ]
  },
  {
   "cell_type": "markdown",
   "metadata": {},
   "source": [
    "6.Для каждой страны отобразите общую сумму привлечённых инвестиций, которые получили компании, зарегистрированные в этой стране. Страну, в которой зарегистрирована компания, можно определить по коду страны. Отсортируйте данные по убыванию суммы."
   ]
  },
  {
   "cell_type": "code",
   "execution_count": null,
   "metadata": {},
   "outputs": [],
   "source": [
    "query = '''\n",
    "SELECT country_code,\n",
    "       SUM(funding_total)\n",
    "FROM company\n",
    "GROUP BY country_code\n",
    "ORDER BY SUM(funding_total) DESC\n",
    "'''\n",
    "pd.io.sql.read_sql(query, con = engine)"
   ]
  },
  {
   "cell_type": "markdown",
   "metadata": {},
   "source": [
    "7.Составьте таблицу, в которую войдёт дата проведения раунда, а также минимальное и максимальное значения суммы инвестиций, привлечённых в эту дату.\n",
    "Оставьте в итоговой таблице только те записи, в которых минимальное значение суммы инвестиций не равно нулю и не равно максимальному значению."
   ]
  },
  {
   "cell_type": "code",
   "execution_count": null,
   "metadata": {},
   "outputs": [],
   "source": [
    "query = '''\n",
    "SELECT funded_at,\n",
    "       MIN(raised_amount),\n",
    "       MAX(raised_amount)\n",
    "FROM funding_round\n",
    "GROUP BY funded_at\n",
    "HAVING MIN(raised_amount) != 0\n",
    "AND MIN(raised_amount) != MAX(raised_amount)\n",
    "'''\n",
    "pd.io.sql.read_sql(query, con = engine)"
   ]
  },
  {
   "cell_type": "markdown",
   "metadata": {},
   "source": [
    "8.Создайте поле с категориями:\n",
    "Для фондов, которые инвестируют в 100 и более компаний, назначьте категорию high_activity.\n",
    "Для фондов, которые инвестируют в 20 и более компаний до 100, назначьте категорию middle_activity.\n",
    "Если количество инвестируемых компаний фонда не достигает 20, назначьте категорию low_activity.\n",
    "Отобразите все поля таблицы fund и новое поле с категориями."
   ]
  },
  {
   "cell_type": "code",
   "execution_count": null,
   "metadata": {},
   "outputs": [],
   "source": [
    "query = '''\n",
    "SELECT *,\n",
    "       CASE\n",
    "        WHEN invested_companies >= 100 THEN 'high_activity'\n",
    "        WHEN invested_companies >= 20 AND invested_companies < 100 THEN 'middle_activity'\n",
    "        ELSE 'low_activity'\n",
    "        END\n",
    "FROM fund\n",
    "'''\n",
    "pd.io.sql.read_sql(query, con = engine)"
   ]
  },
  {
   "cell_type": "markdown",
   "metadata": {},
   "source": [
    "9.Для каждой из категорий, назначенных в предыдущем задании, посчитайте округлённое до ближайшего целого числа среднее количество инвестиционных раундов, в которых фонд принимал участие. Выведите на экран категории и среднее число инвестиционных раундов. Отсортируйте таблицу по возрастанию среднего."
   ]
  },
  {
   "cell_type": "code",
   "execution_count": null,
   "metadata": {},
   "outputs": [],
   "source": [
    "query = '''\n",
    "SELECT ROUND(AVG(investment_rounds)) AS round,\n",
    "       CASE\n",
    "           WHEN invested_companies>=100 THEN 'high_activity'\n",
    "           WHEN invested_companies>=20 THEN 'middle_activity'\n",
    "           ELSE 'low_activity'\n",
    "       END AS activity\n",
    "FROM fund\n",
    "GROUP BY activity\n",
    "ORDER BY round\n",
    "'''\n",
    "pd.io.sql.read_sql(query, con = engine)"
   ]
  },
  {
   "cell_type": "markdown",
   "metadata": {},
   "source": [
    "10.Проанализируйте, в каких странах находятся фонды, которые чаще всего инвестируют в стартапы. \n",
    "Для каждой страны посчитайте минимальное, максимальное и среднее число компаний, в которые инвестировали фонды этой страны, основанные с 2010 по 2012 год включительно. Исключите страны с фондами, у которых минимальное число компаний, получивших инвестиции, равно нулю. Выгрузите десять самых активных стран-инвесторов.\n",
    "Отсортируйте таблицу по среднему количеству компаний от большего к меньшему, а затем по коду страны в лексикографическом порядке."
   ]
  },
  {
   "cell_type": "code",
   "execution_count": null,
   "metadata": {},
   "outputs": [],
   "source": [
    "query = '''\n",
    "SELECT country_code AS country,\n",
    "       MAX(invested_companies) AS max_inv,\n",
    "       MIN(invested_companies) AS min_inv,\n",
    "       AVG(invested_companies) AS avg_inv\n",
    "FROM FUND\n",
    "WHERE EXTRACT (YEAR FROM CAST(founded_at AS timestamp)) BETWEEN '2010' AND '2012'\n",
    "GROUP BY country_code\n",
    "HAVING MIN(invested_companies) != 0\n",
    "ORDER BY avg_inv DESC\n",
    "LIMIT 10\n",
    "'''\n",
    "pd.io.sql.read_sql(query, con = engine)"
   ]
  },
  {
   "cell_type": "markdown",
   "metadata": {},
   "source": [
    "11.Отобразите имя и фамилию всех сотрудников стартапов. Добавьте поле с названием учебного заведения, которое окончил сотрудник, если эта информация известна."
   ]
  },
  {
   "cell_type": "code",
   "execution_count": null,
   "metadata": {},
   "outputs": [],
   "source": [
    "query = '''\n",
    "SELECT p.first_name,\n",
    "       p.last_name,\n",
    "       e.instituition\n",
    "FROM people AS p LEFT JOIN education AS e ON p.id = e.person_id\n",
    "'''\n",
    "pd.io.sql.read_sql(query, con = engine)"
   ]
  },
  {
   "cell_type": "markdown",
   "metadata": {},
   "source": [
    "12.Для каждой компании найдите количество учебных заведений, которые окончили её сотрудники. Выведите название компании и число уникальных названий учебных заведений. Составьте топ-5 компаний по количеству университетов."
   ]
  },
  {
   "cell_type": "code",
   "execution_count": null,
   "metadata": {},
   "outputs": [],
   "source": [
    "query = '''\n",
    "SELECT name,\n",
    "       COUNT(DISTINCT(e.instituition))\n",
    "FROM people AS p JOIN education AS e ON p.id = e.person_id\n",
    "JOIN company AS c ON c.id = p.company_id\n",
    "GROUP BY name\n",
    "ORDER BY count DESC\n",
    "LIMIT 5\n",
    "'''\n",
    "pd.io.sql.read_sql(query, con = engine)"
   ]
  },
  {
   "cell_type": "markdown",
   "metadata": {},
   "source": [
    "13.Составьте список с уникальными названиями закрытых компаний, для которых первый раунд финансирования оказался последним."
   ]
  },
  {
   "cell_type": "code",
   "execution_count": null,
   "metadata": {},
   "outputs": [],
   "source": [
    "query = '''\n",
    "SELECT DISTINCT(c.name)\n",
    "FROM company AS c LEFT JOIN funding_round AS fr ON c.id = fr.company_id\n",
    "WHERE is_first_round = 1 AND is_last_round = 1 AND status = 'closed'\n",
    "'''\n",
    "pd.io.sql.read_sql(query, con = engine)"
   ]
  },
  {
   "cell_type": "markdown",
   "metadata": {},
   "source": [
    "14.Составьте список уникальных номеров сотрудников, которые работают в компаниях, отобранных в предыдущем задании."
   ]
  },
  {
   "cell_type": "code",
   "execution_count": null,
   "metadata": {},
   "outputs": [],
   "source": [
    "query = '''\n",
    "SELECT id\n",
    "FROM people\n",
    "WHERE company_id in (SELECT DISTINCT(c.id)\n",
    "FROM company AS c LEFT JOIN funding_round AS fr ON c.id = fr.company_id\n",
    "WHERE is_first_round = 1 AND is_last_round = 1 AND status = 'closed')\n",
    "'''\n",
    "pd.io.sql.read_sql(query, con = engine)"
   ]
  },
  {
   "cell_type": "markdown",
   "metadata": {},
   "source": [
    "15.Составьте таблицу, куда войдут уникальные пары с номерами сотрудников из предыдущей задачи и учебным заведением, которое окончил сотрудник."
   ]
  },
  {
   "cell_type": "code",
   "execution_count": null,
   "metadata": {},
   "outputs": [],
   "source": [
    "query = '''\n",
    "SELECT DISTINCT(p.id),\n",
    "       e.instituition\n",
    "FROM people AS p LEFT JOIN education AS e ON p.id = e.person_id\n",
    "WHERE person_id in\n",
    "(SELECT id AS people_id\n",
    "FROM people\n",
    "WHERE company_id in (SELECT DISTINCT(c.id)\n",
    "FROM company AS c LEFT JOIN funding_round AS fr ON c.id = fr.company_id\n",
    "WHERE is_first_round = 1 AND is_last_round = 1 AND status = 'closed'))\n",
    "'''\n",
    "pd.io.sql.read_sql(query, con = engine)"
   ]
  },
  {
   "cell_type": "markdown",
   "metadata": {},
   "source": [
    "16.Посчитайте количество учебных заведений для каждого сотрудника из предыдущего задания. При подсчёте учитывайте, что некоторые сотрудники могли окончить одно и то же заведение дважды."
   ]
  },
  {
   "cell_type": "code",
   "execution_count": null,
   "metadata": {},
   "outputs": [],
   "source": [
    "query = '''\n",
    "SELECT id,\n",
    "       COUNT(instituition) AS count_inst\n",
    "       \n",
    "FROM \n",
    "(SELECT (p.id),\n",
    "       e.instituition\n",
    "FROM people AS p LEFT JOIN education AS e ON p.id = e.person_id\n",
    "WHERE person_id in\n",
    "(SELECT id AS people_id\n",
    "FROM people\n",
    "WHERE company_id in (SELECT (c.id)\n",
    "FROM company AS c LEFT JOIN funding_round AS fr ON c.id = fr.company_id\n",
    "WHERE is_first_round = 1 AND is_last_round = 1 AND status = 'closed'))) AS i\n",
    "GROUP BY id\n",
    "'''\n",
    "pd.io.sql.read_sql(query, con = engine)"
   ]
  },
  {
   "cell_type": "markdown",
   "metadata": {},
   "source": [
    "17.Дополните предыдущий запрос и выведите среднее число учебных заведений (всех, не только уникальных), которые окончили сотрудники разных компаний. Нужно вывести только одну запись, группировка здесь не понадобится."
   ]
  },
  {
   "cell_type": "code",
   "execution_count": null,
   "metadata": {},
   "outputs": [],
   "source": [
    "query = '''\n",
    "SELECT AVG(count_inst)\n",
    "FROM\n",
    "(SELECT id,\n",
    "       COUNT(instituition) AS count_inst\n",
    "       \n",
    "FROM \n",
    "(SELECT (p.id),\n",
    "       e.instituition\n",
    "FROM people AS p LEFT JOIN education AS e ON p.id = e.person_id\n",
    "WHERE person_id in\n",
    "(SELECT id AS people_id\n",
    "FROM people\n",
    "WHERE company_id in (SELECT (c.id)\n",
    "FROM company AS c LEFT JOIN funding_round AS fr ON c.id = fr.company_id\n",
    "WHERE is_first_round = 1 AND is_last_round = 1 AND status = 'closed'))) AS i\n",
    "GROUP BY id) AS i\n",
    "'''\n",
    "pd.io.sql.read_sql(query, con = engine)"
   ]
  },
  {
   "cell_type": "markdown",
   "metadata": {},
   "source": [
    "18.\n",
    "Напишите похожий запрос: выведите среднее число учебных заведений (всех, не только уникальных), которые окончили сотрудники Facebook*.\n",
    "*(сервис, запрещённый на территории РФ)"
   ]
  },
  {
   "cell_type": "code",
   "execution_count": null,
   "metadata": {},
   "outputs": [],
   "source": [
    "query = '''\n",
    "SELECT AVG(total)\n",
    "FROM (SELECT DISTINCT p.id, COUNT(e.instituition) AS total\n",
    "FROM people AS p\n",
    "JOIN education AS e ON p.id = e.person_id\n",
    "WHERE company_id IN (SELECT DISTINCT id\n",
    "FROM company \n",
    "WHERE name in ('Facebook')) \n",
    "GROUP BY p.id) AS t1\n",
    "'''\n",
    "pd.io.sql.read_sql(query, con = engine)"
   ]
  },
  {
   "cell_type": "markdown",
   "metadata": {},
   "source": [
    "19.Составьте таблицу из полей:\n",
    "* name_of_fund — название фонда;\n",
    "* name_of_company — название компании;\n",
    "* amount — сумма инвестиций, которую привлекла компания в раунде.\n",
    "\n",
    "В таблицу войдут данные о компаниях, в истории которых было больше шести важных этапов, а раунды финансирования проходили с 2012 по 2013 год включительно."
   ]
  },
  {
   "cell_type": "code",
   "execution_count": null,
   "metadata": {},
   "outputs": [],
   "source": [
    "query = '''\n",
    "SELECT f.name AS name_of_found,\n",
    "       c.name AS name_of_company,\n",
    "       fr.raised_amount AS amount\n",
    "FROM investment AS i LEFT JOIN company AS c on i.company_id=c.id\n",
    "LEFT JOIN fund AS f ON i.fund_id=f.id\n",
    "INNER JOIN (SELECT *\n",
    "           FROM funding_round\n",
    "           WHERE EXTRACT (YEAR FROM funded_at) BETWEEN 2012 AND 2013) as fr ON fr.id=i.funding_round_id\n",
    "WHERE c.milestones > 6\n",
    "'''\n",
    "pd.io.sql.read_sql(query, con = engine)"
   ]
  },
  {
   "cell_type": "markdown",
   "metadata": {},
   "source": [
    "20.Выгрузите таблицу, в которой будут такие поля:\n",
    "* название компании-покупателя;\n",
    "* сумма сделки;\n",
    "* название компании, которую купили;\n",
    "* сумма инвестиций, вложенных в купленную компанию;\n",
    "* доля, которая отображает, во сколько раз сумма покупки превысила сумму вложенных в компанию инвестиций, округлённая до ближайшего целого числа.\n",
    "\n",
    "Не учитывайте те сделки, в которых сумма покупки равна нулю. Если сумма инвестиций в компанию равна нулю, исключите такую компанию из таблицы. \n",
    "\n",
    "Отсортируйте таблицу по сумме сделки от большей к меньшей, а затем по названию купленной компании в лексикографическом порядке. Ограничьте таблицу первыми десятью записями."
   ]
  },
  {
   "cell_type": "code",
   "execution_count": null,
   "metadata": {},
   "outputs": [],
   "source": [
    "query = '''\n",
    "SELECT c.name AS acquiring_company,\n",
    "       a.price_amount,\n",
    "       c1.name AS acquired_company,\n",
    "       c1.funding_total,\n",
    "       ROUND(a.price_amount/c1.funding_total)\n",
    "FROM acquisition AS a\n",
    "LEFT JOIN company AS c ON a.acquiring_company_id=c.id\n",
    "LEFT JOIN company AS c1 ON a.acquired_company_id=c1.id\n",
    "WHERE a.price_amount <> 0\n",
    "AND c1.funding_total>0\n",
    "ORDER BY a.price_amount DESC\n",
    "LIMIT 10;\n",
    "'''\n",
    "pd.io.sql.read_sql(query, con = engine)"
   ]
  },
  {
   "cell_type": "markdown",
   "metadata": {},
   "source": [
    "21.Выгрузите таблицу, в которую войдут названия компаний из категории social, получившие финансирование с 2010 по 2013 год включительно. Проверьте, что сумма инвестиций не равна нулю. Выведите также номер месяца, в котором проходил раунд финансирования."
   ]
  },
  {
   "cell_type": "code",
   "execution_count": null,
   "metadata": {},
   "outputs": [],
   "source": [
    "query = '''\n",
    "SELECT name,\n",
    "       EXTRACT(MONTH FROM CAST(funded_at AS timestamp)) AS month\n",
    "FROM company AS c LEFT JOIN funding_round AS fr ON c.id = fr.company_id\n",
    "WHERE category_code = 'social'\n",
    "AND EXTRACT (YEAR FROM CAST(funded_at AS timestamp)) BETWEEN 2010 AND 2013\n",
    "'''\n",
    "pd.io.sql.read_sql(query, con = engine)"
   ]
  },
  {
   "cell_type": "markdown",
   "metadata": {},
   "source": [
    "22.Отберите данные по месяцам с 2010 по 2013 год, когда проходили инвестиционные раунды. Сгруппируйте данные по номеру месяца и получите таблицу, в которой будут поля:\n",
    "* номер месяца, в котором проходили раунды;\n",
    "* количество уникальных названий фондов из США, которые инвестировали в этом месяце;\n",
    "* количество компаний, купленных за этот месяц;\n",
    "* общая сумма сделок по покупкам в этом месяце."
   ]
  },
  {
   "cell_type": "code",
   "execution_count": null,
   "metadata": {},
   "outputs": [],
   "source": [
    "query = '''\n",
    "WITH\n",
    "t1 AS (SELECT EXTRACT(MONTH FROM CAST(funded_at AS timestamp)) AS round_month,\n",
    "       COUNT(DISTINCT(f.name)) AS fund_company\n",
    "FROM funding_round as fr LEFT JOIN  investment AS i ON fr.id = i.funding_round_id\n",
    "LEFT JOIN fund as f ON i.fund_id = f.id\n",
    "WHERE EXTRACT(YEAR FROM CAST(funded_at AS timestamp)) BETWEEN 2010 AND 2013\n",
    "AND country_code = 'USA'\n",
    "GROUP BY round_month),\n",
    "\n",
    "t2 AS (SELECT EXTRACT(MONTH FROM CAST(acquired_at AS timestamp)) AS acq_month,\n",
    "       COUNT(acquired_company_id) AS acq_company,\n",
    "       SUM(price_amount) AS sum_price\n",
    "FROM acquisition\n",
    "WHERE EXTRACT(YEAR FROM acquired_at) BETWEEN 2010 AND 2013\n",
    "GROUP BY acq_month)\n",
    "\n",
    "SELECT round_month,\n",
    "       fund_company,\n",
    "       acq_company,\n",
    "       sum_price\n",
    "FROM t1 JOIN t2 ON round_month = acq_month\n",
    "'''\n",
    "pd.io.sql.read_sql(query, con = engine)"
   ]
  },
  {
   "cell_type": "markdown",
   "metadata": {},
   "source": [
    "23.Составьте сводную таблицу и выведите среднюю сумму инвестиций для стран, в которых есть стартапы, зарегистрированные в 2011, 2012 и 2013 годах. Данные за каждый год должны быть в отдельном поле. Отсортируйте таблицу по среднему значению инвестиций за 2011 год от большего к меньшему."
   ]
  },
  {
   "cell_type": "code",
   "execution_count": null,
   "metadata": {},
   "outputs": [],
   "source": [
    "query = '''\n",
    "WITH\n",
    "y2011 AS (SELECT country_code AS cc11,\n",
    "       AVG(funding_total) AS avg_2011\n",
    "FROM company\n",
    "WHERE EXTRACT(YEAR FROM CAST(founded_at AS DATE)) = '2011'\n",
    "GROUP BY country_code),\n",
    "\n",
    "y2012 AS (SELECT country_code AS cc12,\n",
    "       AVG(funding_total) AS avg_2012\n",
    "FROM company\n",
    "WHERE EXTRACT(YEAR FROM CAST(founded_at AS DATE)) = '2012'\n",
    "GROUP BY country_code),\n",
    "\n",
    "y2013 AS (SELECT country_code AS cc13,\n",
    "       AVG(funding_total) AS avg_2013\n",
    "FROM company\n",
    "WHERE EXTRACT(YEAR FROM CAST(founded_at AS DATE)) = '2013'\n",
    "GROUP BY country_code)\n",
    "\n",
    "SELECT cc11,\n",
    "       avg_2011,\n",
    "       avg_2012,\n",
    "       avg_2013\n",
    "FROM y2011 JOIN y2012 ON cc11=cc12 \n",
    "JOIN y2013 ON cc11=cc13\n",
    "ORDER BY avg_2011 DESC\n",
    "'''\n",
    "pd.io.sql.read_sql(query, con = engine)"
   ]
  }
 ],
 "metadata": {
  "ExecuteTimeLog": [
   {
    "duration": 1988,
    "start_time": "2022-02-01T15:20:41.323Z"
   },
   {
    "duration": 132,
    "start_time": "2022-02-01T15:20:55.644Z"
   },
   {
    "duration": 112,
    "start_time": "2022-02-01T15:21:54.147Z"
   },
   {
    "duration": 113,
    "start_time": "2022-02-01T15:22:12.280Z"
   },
   {
    "duration": 113,
    "start_time": "2022-02-01T15:22:36.011Z"
   },
   {
    "duration": -161,
    "start_time": "2022-02-01T15:23:26.292Z"
   },
   {
    "duration": 141,
    "start_time": "2022-02-01T15:23:29.685Z"
   },
   {
    "duration": 123,
    "start_time": "2022-02-01T15:24:03.746Z"
   },
   {
    "duration": 115,
    "start_time": "2022-02-01T15:24:09.945Z"
   },
   {
    "duration": -154,
    "start_time": "2022-02-01T15:24:21.040Z"
   },
   {
    "duration": 408,
    "start_time": "2022-02-01T15:24:23.538Z"
   },
   {
    "duration": 315,
    "start_time": "2022-02-01T15:24:38.713Z"
   },
   {
    "duration": 114,
    "start_time": "2022-02-01T15:24:43.863Z"
   },
   {
    "duration": 103,
    "start_time": "2022-02-01T15:24:55.375Z"
   },
   {
    "duration": 104,
    "start_time": "2022-02-01T15:25:05.185Z"
   },
   {
    "duration": 113,
    "start_time": "2022-02-01T15:25:08.945Z"
   },
   {
    "duration": 205,
    "start_time": "2022-02-01T15:26:33.073Z"
   },
   {
    "duration": 92,
    "start_time": "2022-02-01T15:26:44.089Z"
   },
   {
    "duration": 294,
    "start_time": "2022-02-02T06:02:52.616Z"
   },
   {
    "duration": 1724,
    "start_time": "2022-02-02T06:02:59.439Z"
   },
   {
    "duration": 50,
    "start_time": "2022-02-02T06:03:01.164Z"
   },
   {
    "duration": 47,
    "start_time": "2022-02-02T06:03:10.527Z"
   },
   {
    "duration": 6,
    "start_time": "2022-02-02T06:03:14.487Z"
   },
   {
    "duration": 52,
    "start_time": "2022-02-02T06:03:52.711Z"
   },
   {
    "duration": 29,
    "start_time": "2022-02-02T06:04:04.542Z"
   },
   {
    "duration": 71,
    "start_time": "2022-02-02T06:04:08.582Z"
   },
   {
    "duration": 72,
    "start_time": "2022-02-02T06:05:01.703Z"
   },
   {
    "duration": 97,
    "start_time": "2022-02-02T06:05:25.574Z"
   },
   {
    "duration": 74,
    "start_time": "2022-02-02T06:07:23.357Z"
   },
   {
    "duration": 76,
    "start_time": "2022-02-02T06:08:10.013Z"
   },
   {
    "duration": 83,
    "start_time": "2022-02-02T06:11:52.489Z"
   },
   {
    "duration": 76,
    "start_time": "2022-02-02T06:17:47.645Z"
   },
   {
    "duration": 82,
    "start_time": "2022-02-02T06:18:04.716Z"
   },
   {
    "duration": 77,
    "start_time": "2022-02-02T06:18:13.541Z"
   },
   {
    "duration": 82,
    "start_time": "2022-02-02T06:18:18.956Z"
   },
   {
    "duration": 81,
    "start_time": "2022-02-02T06:18:54.556Z"
   },
   {
    "duration": 85,
    "start_time": "2022-02-02T06:19:11.156Z"
   },
   {
    "duration": 79,
    "start_time": "2022-02-02T06:19:20.011Z"
   },
   {
    "duration": 78,
    "start_time": "2022-02-02T06:19:23.523Z"
   },
   {
    "duration": 79,
    "start_time": "2022-02-02T06:19:26.132Z"
   },
   {
    "duration": 74,
    "start_time": "2022-02-02T06:19:30.563Z"
   },
   {
    "duration": 80,
    "start_time": "2022-02-02T06:19:36.611Z"
   },
   {
    "duration": 77,
    "start_time": "2022-02-02T06:19:39.107Z"
   },
   {
    "duration": 288,
    "start_time": "2022-02-02T06:19:41.435Z"
   },
   {
    "duration": 76,
    "start_time": "2022-02-02T06:19:46.827Z"
   },
   {
    "duration": 367,
    "start_time": "2022-02-02T06:19:51.451Z"
   },
   {
    "duration": 78,
    "start_time": "2022-02-02T06:19:52.547Z"
   },
   {
    "duration": 78,
    "start_time": "2022-02-02T06:20:00.603Z"
   },
   {
    "duration": 90,
    "start_time": "2022-02-02T06:20:05.788Z"
   },
   {
    "duration": 80,
    "start_time": "2022-02-02T06:20:33.547Z"
   },
   {
    "duration": -219,
    "start_time": "2022-02-02T06:20:58.727Z"
   },
   {
    "duration": 76,
    "start_time": "2022-02-02T06:21:07.738Z"
   },
   {
    "duration": 526,
    "start_time": "2022-02-02T06:21:34.226Z"
   },
   {
    "duration": 6582,
    "start_time": "2022-02-02T06:21:52.610Z"
   },
   {
    "duration": 104,
    "start_time": "2022-02-02T06:23:57.776Z"
   },
   {
    "duration": 101,
    "start_time": "2022-02-02T06:24:23.672Z"
   },
   {
    "duration": 131,
    "start_time": "2022-02-02T06:28:06.844Z"
   },
   {
    "duration": 265,
    "start_time": "2022-02-02T06:28:50.908Z"
   },
   {
    "duration": 327,
    "start_time": "2022-02-02T06:32:14.537Z"
   },
   {
    "duration": 79,
    "start_time": "2022-02-02T06:35:08.709Z"
   },
   {
    "duration": 266,
    "start_time": "2022-02-02T09:07:47.733Z"
   },
   {
    "duration": 46,
    "start_time": "2022-02-02T09:07:59.595Z"
   },
   {
    "duration": 48,
    "start_time": "2022-02-02T09:08:33.491Z"
   },
   {
    "duration": 74,
    "start_time": "2022-02-02T09:08:39.995Z"
   },
   {
    "duration": 92,
    "start_time": "2022-02-02T09:09:29.482Z"
   },
   {
    "duration": 46,
    "start_time": "2022-02-02T09:10:00.498Z"
   },
   {
    "duration": 51,
    "start_time": "2022-02-02T09:10:02.793Z"
   },
   {
    "duration": 365,
    "start_time": "2022-02-02T09:11:24.810Z"
   },
   {
    "duration": 112,
    "start_time": "2022-02-02T09:11:25.177Z"
   },
   {
    "duration": 49,
    "start_time": "2022-02-02T09:11:25.291Z"
   },
   {
    "duration": 81,
    "start_time": "2022-02-02T09:11:25.341Z"
   },
   {
    "duration": 9,
    "start_time": "2022-02-02T09:15:13.005Z"
   },
   {
    "duration": 3,
    "start_time": "2022-02-02T09:16:47.788Z"
   },
   {
    "duration": 19,
    "start_time": "2022-02-02T09:17:01.444Z"
   },
   {
    "duration": 51,
    "start_time": "2022-02-02T09:17:16.444Z"
   },
   {
    "duration": 3,
    "start_time": "2022-02-02T09:17:39.363Z"
   },
   {
    "duration": 32,
    "start_time": "2022-02-02T09:18:14.931Z"
   },
   {
    "duration": 272,
    "start_time": "2022-02-02T09:26:18.589Z"
   },
   {
    "duration": 21,
    "start_time": "2022-02-02T09:26:24.957Z"
   },
   {
    "duration": 98,
    "start_time": "2022-02-02T09:27:02.182Z"
   },
   {
    "duration": 59,
    "start_time": "2022-02-02T09:27:08.269Z"
   },
   {
    "duration": 400,
    "start_time": "2022-02-02T09:27:11.582Z"
   },
   {
    "duration": 96,
    "start_time": "2022-02-02T09:27:11.984Z"
   },
   {
    "duration": 64,
    "start_time": "2022-02-02T09:27:12.082Z"
   },
   {
    "duration": 2,
    "start_time": "2022-02-02T09:27:12.148Z"
   },
   {
    "duration": 69,
    "start_time": "2022-02-02T09:49:41.947Z"
   },
   {
    "duration": 64,
    "start_time": "2022-02-02T09:50:29.219Z"
   },
   {
    "duration": 368,
    "start_time": "2022-02-02T09:50:32.244Z"
   },
   {
    "duration": 79,
    "start_time": "2022-02-02T09:50:32.614Z"
   },
   {
    "duration": 86,
    "start_time": "2022-02-02T09:50:32.695Z"
   },
   {
    "duration": 2,
    "start_time": "2022-02-02T09:50:32.783Z"
   },
   {
    "duration": 50,
    "start_time": "2022-02-02T09:53:23.817Z"
   },
   {
    "duration": 49,
    "start_time": "2022-02-02T09:53:29.047Z"
   },
   {
    "duration": 54,
    "start_time": "2022-02-02T09:53:35.161Z"
   },
   {
    "duration": 48,
    "start_time": "2022-02-02T09:53:41.698Z"
   },
   {
    "duration": 51,
    "start_time": "2022-02-02T09:53:49.616Z"
   },
   {
    "duration": 52,
    "start_time": "2022-02-02T09:54:21.176Z"
   },
   {
    "duration": 50,
    "start_time": "2022-02-02T09:54:25.824Z"
   },
   {
    "duration": 2,
    "start_time": "2022-02-02T09:54:28.505Z"
   },
   {
    "duration": 48,
    "start_time": "2022-02-02T09:54:50.184Z"
   },
   {
    "duration": 52,
    "start_time": "2022-02-02T09:54:56.343Z"
   },
   {
    "duration": 51,
    "start_time": "2022-02-02T09:55:09.364Z"
   },
   {
    "duration": 55,
    "start_time": "2022-02-02T09:55:31.759Z"
   },
   {
    "duration": 50,
    "start_time": "2022-02-02T09:57:42.934Z"
   },
   {
    "duration": 56,
    "start_time": "2022-02-02T09:57:53.974Z"
   },
   {
    "duration": 65,
    "start_time": "2022-02-02T09:59:43.165Z"
   },
   {
    "duration": 24,
    "start_time": "2022-02-02T10:04:40.320Z"
   },
   {
    "duration": 287,
    "start_time": "2022-02-02T10:04:48.472Z"
   },
   {
    "duration": 17,
    "start_time": "2022-02-02T10:04:53.600Z"
   },
   {
    "duration": 12,
    "start_time": "2022-02-02T10:05:05.840Z"
   },
   {
    "duration": 7405,
    "start_time": "2022-02-02T10:06:51.128Z"
   },
   {
    "duration": 36,
    "start_time": "2022-02-02T10:09:04.165Z"
   },
   {
    "duration": 53,
    "start_time": "2022-02-02T10:09:26.125Z"
   },
   {
    "duration": 59,
    "start_time": "2022-02-02T10:12:08.827Z"
   },
   {
    "duration": 13,
    "start_time": "2022-02-02T10:29:37.694Z"
   },
   {
    "duration": 18,
    "start_time": "2022-02-02T10:30:01.623Z"
   },
   {
    "duration": 17,
    "start_time": "2022-02-02T10:31:12.078Z"
   },
   {
    "duration": 22,
    "start_time": "2022-02-02T10:31:17.580Z"
   },
   {
    "duration": 327,
    "start_time": "2022-02-02T10:39:53.286Z"
   },
   {
    "duration": 897,
    "start_time": "2022-02-02T10:40:03.208Z"
   },
   {
    "duration": 6775,
    "start_time": "2022-02-02T10:40:22.629Z"
   },
   {
    "duration": 23,
    "start_time": "2022-02-02T10:43:45.851Z"
   },
   {
    "duration": 23,
    "start_time": "2022-02-02T10:43:54.379Z"
   },
   {
    "duration": 351,
    "start_time": "2022-02-02T10:44:02.020Z"
   },
   {
    "duration": 100,
    "start_time": "2022-02-02T10:44:02.372Z"
   },
   {
    "duration": 39,
    "start_time": "2022-02-02T10:44:02.474Z"
   },
   {
    "duration": 93,
    "start_time": "2022-02-02T10:44:02.515Z"
   },
   {
    "duration": 23,
    "start_time": "2022-02-02T10:44:12.900Z"
   },
   {
    "duration": 29,
    "start_time": "2022-02-02T10:44:20.978Z"
   },
   {
    "duration": 387,
    "start_time": "2022-02-02T10:46:10.413Z"
   },
   {
    "duration": 70,
    "start_time": "2022-02-02T10:46:16.592Z"
   },
   {
    "duration": 75,
    "start_time": "2022-02-02T10:46:21.424Z"
   },
   {
    "duration": 76,
    "start_time": "2022-02-02T10:46:25.249Z"
   },
   {
    "duration": 79,
    "start_time": "2022-02-02T11:28:56.225Z"
   },
   {
    "duration": 76,
    "start_time": "2022-02-02T11:31:26.142Z"
   },
   {
    "duration": 12,
    "start_time": "2022-02-02T11:33:38.484Z"
   },
   {
    "duration": 14,
    "start_time": "2022-02-02T11:34:04.507Z"
   },
   {
    "duration": 15,
    "start_time": "2022-02-02T11:34:14.692Z"
   },
   {
    "duration": 13,
    "start_time": "2022-02-02T11:34:21.252Z"
   },
   {
    "duration": 13,
    "start_time": "2022-02-02T11:35:52.195Z"
   },
   {
    "duration": 12,
    "start_time": "2022-02-02T11:36:42.090Z"
   },
   {
    "duration": 24,
    "start_time": "2022-02-02T11:37:45.049Z"
   },
   {
    "duration": 284,
    "start_time": "2022-02-02T11:52:26.142Z"
   },
   {
    "duration": 868,
    "start_time": "2022-02-02T11:52:56.374Z"
   },
   {
    "duration": 357,
    "start_time": "2022-02-02T11:52:58.687Z"
   },
   {
    "duration": 77,
    "start_time": "2022-02-02T11:52:59.045Z"
   },
   {
    "duration": 68,
    "start_time": "2022-02-02T11:52:59.123Z"
   },
   {
    "duration": 23,
    "start_time": "2022-02-02T11:52:59.193Z"
   },
   {
    "duration": 300,
    "start_time": "2022-02-02T11:52:59.218Z"
   },
   {
    "duration": 133,
    "start_time": "2022-02-02T11:53:26.878Z"
   },
   {
    "duration": 264,
    "start_time": "2022-02-02T11:53:40.437Z"
   },
   {
    "duration": 368,
    "start_time": "2022-02-02T11:53:45.774Z"
   },
   {
    "duration": 85,
    "start_time": "2022-02-02T11:53:46.144Z"
   },
   {
    "duration": 80,
    "start_time": "2022-02-02T11:53:46.232Z"
   },
   {
    "duration": 25,
    "start_time": "2022-02-02T11:53:46.314Z"
   },
   {
    "duration": 319,
    "start_time": "2022-02-02T11:53:46.340Z"
   },
   {
    "duration": 256,
    "start_time": "2022-02-02T11:54:20.036Z"
   },
   {
    "duration": 360,
    "start_time": "2022-02-02T11:54:26.845Z"
   },
   {
    "duration": 82,
    "start_time": "2022-02-02T11:54:27.207Z"
   },
   {
    "duration": 44,
    "start_time": "2022-02-02T11:54:27.291Z"
   },
   {
    "duration": 49,
    "start_time": "2022-02-02T11:54:27.336Z"
   },
   {
    "duration": 345,
    "start_time": "2022-02-02T11:54:27.387Z"
   },
   {
    "duration": 368,
    "start_time": "2022-02-02T11:55:58.526Z"
   },
   {
    "duration": 83,
    "start_time": "2022-02-02T11:55:58.896Z"
   },
   {
    "duration": 46,
    "start_time": "2022-02-02T11:55:58.981Z"
   },
   {
    "duration": 60,
    "start_time": "2022-02-02T11:55:59.029Z"
   },
   {
    "duration": 290,
    "start_time": "2022-02-02T11:55:59.090Z"
   },
   {
    "duration": 370,
    "start_time": "2022-02-02T12:00:37.072Z"
   },
   {
    "duration": 70,
    "start_time": "2022-02-02T12:00:46.407Z"
   },
   {
    "duration": 62,
    "start_time": "2022-02-02T12:00:51.968Z"
   },
   {
    "duration": 108,
    "start_time": "2022-02-02T12:00:56.543Z"
   },
   {
    "duration": 24,
    "start_time": "2022-02-02T12:01:00.008Z"
   },
   {
    "duration": 6,
    "start_time": "2022-02-02T12:03:23.942Z"
   },
   {
    "duration": 13,
    "start_time": "2022-02-02T12:03:36.261Z"
   },
   {
    "duration": 10,
    "start_time": "2022-02-02T12:05:14.692Z"
   },
   {
    "duration": 270,
    "start_time": "2022-02-02T12:10:35.784Z"
   },
   {
    "duration": 275,
    "start_time": "2022-02-02T12:10:43.672Z"
   },
   {
    "duration": 53,
    "start_time": "2022-02-02T12:11:04.488Z"
   },
   {
    "duration": 281,
    "start_time": "2022-02-02T12:12:03.991Z"
   },
   {
    "duration": 2434,
    "start_time": "2022-02-02T12:12:08.121Z"
   },
   {
    "duration": 140,
    "start_time": "2022-02-02T12:12:10.557Z"
   },
   {
    "duration": 83,
    "start_time": "2022-02-02T12:12:10.698Z"
   },
   {
    "duration": 55,
    "start_time": "2022-02-02T12:12:10.783Z"
   },
   {
    "duration": 39,
    "start_time": "2022-02-02T12:12:10.840Z"
   },
   {
    "duration": 9,
    "start_time": "2022-02-02T12:12:10.881Z"
   },
   {
    "duration": 6818,
    "start_time": "2022-02-02T12:12:51.463Z"
   },
   {
    "duration": 30,
    "start_time": "2022-02-02T12:13:23.302Z"
   },
   {
    "duration": 258,
    "start_time": "2022-02-02T12:31:19.416Z"
   },
   {
    "duration": 8,
    "start_time": "2022-02-02T12:31:23.008Z"
   },
   {
    "duration": 3,
    "start_time": "2022-02-02T12:34:01.543Z"
   },
   {
    "duration": 6,
    "start_time": "2022-02-02T12:34:08.294Z"
   },
   {
    "duration": 38,
    "start_time": "2022-02-02T12:34:17.126Z"
   },
   {
    "duration": 14,
    "start_time": "2022-02-02T12:35:19.846Z"
   },
   {
    "duration": 26,
    "start_time": "2022-02-02T12:35:20.254Z"
   },
   {
    "duration": 321,
    "start_time": "2022-02-02T12:36:02.999Z"
   },
   {
    "duration": 417,
    "start_time": "2022-02-02T12:36:11.436Z"
   },
   {
    "duration": 18,
    "start_time": "2022-02-02T12:36:21.908Z"
   },
   {
    "duration": 15,
    "start_time": "2022-02-02T12:36:40.204Z"
   },
   {
    "duration": 332,
    "start_time": "2022-02-02T13:30:03.301Z"
   },
   {
    "duration": 265,
    "start_time": "2022-02-02T13:30:06.947Z"
   },
   {
    "duration": 14,
    "start_time": "2022-02-02T13:30:10.387Z"
   },
   {
    "duration": 10,
    "start_time": "2022-02-02T13:30:15.363Z"
   },
   {
    "duration": 674,
    "start_time": "2022-02-02T13:32:20.794Z"
   },
   {
    "duration": 60,
    "start_time": "2022-02-02T13:36:19.471Z"
   },
   {
    "duration": 59,
    "start_time": "2022-02-02T13:36:37.583Z"
   },
   {
    "duration": 343,
    "start_time": "2022-02-02T13:59:26.446Z"
   },
   {
    "duration": 84,
    "start_time": "2022-02-02T13:59:34.046Z"
   },
   {
    "duration": 80,
    "start_time": "2022-02-02T13:59:37.701Z"
   },
   {
    "duration": 84,
    "start_time": "2022-02-02T13:59:42.125Z"
   },
   {
    "duration": 344,
    "start_time": "2022-02-02T13:59:45.717Z"
   },
   {
    "duration": 353,
    "start_time": "2022-02-02T13:59:57.742Z"
   },
   {
    "duration": 335,
    "start_time": "2022-02-02T14:00:11.269Z"
   },
   {
    "duration": 378,
    "start_time": "2022-02-02T14:00:18.487Z"
   },
   {
    "duration": 105,
    "start_time": "2022-02-02T14:00:18.867Z"
   },
   {
    "duration": 62,
    "start_time": "2022-02-02T14:00:18.974Z"
   },
   {
    "duration": 71,
    "start_time": "2022-02-02T14:00:19.038Z"
   },
   {
    "duration": 40,
    "start_time": "2022-02-02T14:00:19.110Z"
   },
   {
    "duration": 22,
    "start_time": "2022-02-02T14:00:19.152Z"
   },
   {
    "duration": 419,
    "start_time": "2022-02-02T14:00:19.176Z"
   },
   {
    "duration": 340,
    "start_time": "2022-02-02T14:00:31.893Z"
   },
   {
    "duration": 69,
    "start_time": "2022-02-02T14:01:14.020Z"
   },
   {
    "duration": 406,
    "start_time": "2022-02-02T14:02:07.804Z"
   },
   {
    "duration": 91,
    "start_time": "2022-02-02T14:02:10.572Z"
   },
   {
    "duration": 84,
    "start_time": "2022-02-02T14:02:13.859Z"
   },
   {
    "duration": 78,
    "start_time": "2022-02-02T14:03:16.338Z"
   },
   {
    "duration": 281,
    "start_time": "2022-02-02T14:07:00.200Z"
   },
   {
    "duration": 241,
    "start_time": "2022-02-02T14:07:11.695Z"
   },
   {
    "duration": 20,
    "start_time": "2022-02-02T14:08:07.543Z"
   },
   {
    "duration": 22,
    "start_time": "2022-02-02T14:09:11.679Z"
   },
   {
    "duration": 20,
    "start_time": "2022-02-02T14:09:41.470Z"
   },
   {
    "duration": 1059,
    "start_time": "2022-02-02T14:09:59.725Z"
   },
   {
    "duration": 21,
    "start_time": "2022-02-02T14:10:08.669Z"
   },
   {
    "duration": 19,
    "start_time": "2022-02-02T14:10:13.773Z"
   },
   {
    "duration": 20,
    "start_time": "2022-02-02T14:10:54.037Z"
   },
   {
    "duration": 20,
    "start_time": "2022-02-02T14:10:57.516Z"
   },
   {
    "duration": 7,
    "start_time": "2022-02-02T14:21:31.988Z"
   },
   {
    "duration": 263,
    "start_time": "2022-02-02T14:23:17.443Z"
   },
   {
    "duration": 296,
    "start_time": "2022-02-02T14:23:23.379Z"
   },
   {
    "duration": 267,
    "start_time": "2022-02-02T14:23:48.715Z"
   },
   {
    "duration": 277,
    "start_time": "2022-02-02T14:24:02.850Z"
   },
   {
    "duration": 8,
    "start_time": "2022-02-02T14:24:06.330Z"
   },
   {
    "duration": 19,
    "start_time": "2022-02-02T14:24:32.498Z"
   },
   {
    "duration": 20,
    "start_time": "2022-02-02T14:24:38.899Z"
   },
   {
    "duration": 22,
    "start_time": "2022-02-02T14:24:40.874Z"
   },
   {
    "duration": 18,
    "start_time": "2022-02-02T14:24:46.979Z"
   },
   {
    "duration": 19,
    "start_time": "2022-02-02T14:24:55.066Z"
   },
   {
    "duration": 17,
    "start_time": "2022-02-02T14:25:27.921Z"
   },
   {
    "duration": 271,
    "start_time": "2022-02-02T14:25:37.775Z"
   },
   {
    "duration": 18,
    "start_time": "2022-02-02T14:25:42.177Z"
   },
   {
    "duration": 17,
    "start_time": "2022-02-02T14:26:21.633Z"
   },
   {
    "duration": 18,
    "start_time": "2022-02-02T14:26:34.361Z"
   },
   {
    "duration": 20,
    "start_time": "2022-02-02T14:27:23.312Z"
   },
   {
    "duration": 18,
    "start_time": "2022-02-02T14:27:30.104Z"
   },
   {
    "duration": 324,
    "start_time": "2022-02-02T14:30:04.847Z"
   },
   {
    "duration": 21,
    "start_time": "2022-02-02T14:30:41.422Z"
   },
   {
    "duration": 22,
    "start_time": "2022-02-02T14:30:55.557Z"
   },
   {
    "duration": 22,
    "start_time": "2022-02-02T14:31:40.253Z"
   },
   {
    "duration": 32,
    "start_time": "2022-02-02T14:32:08.820Z"
   },
   {
    "duration": 17,
    "start_time": "2022-02-02T14:32:12.428Z"
   },
   {
    "duration": 23,
    "start_time": "2022-02-02T14:32:21.173Z"
   },
   {
    "duration": 26,
    "start_time": "2022-02-02T14:36:31.609Z"
   },
   {
    "duration": 23,
    "start_time": "2022-02-02T14:36:38.536Z"
   },
   {
    "duration": 25,
    "start_time": "2022-02-02T14:37:17.153Z"
   },
   {
    "duration": 25,
    "start_time": "2022-02-02T14:37:34.976Z"
   },
   {
    "duration": 24,
    "start_time": "2022-02-02T14:38:32.183Z"
   },
   {
    "duration": 10,
    "start_time": "2022-02-02T14:43:24.564Z"
   },
   {
    "duration": 19,
    "start_time": "2022-02-02T14:45:08.066Z"
   },
   {
    "duration": 24,
    "start_time": "2022-02-02T14:46:25.386Z"
   },
   {
    "duration": 6470,
    "start_time": "2022-02-02T14:46:36.841Z"
   },
   {
    "duration": 5,
    "start_time": "2022-02-02T14:46:44.657Z"
   },
   {
    "duration": -253,
    "start_time": "2022-02-02T14:46:53.320Z"
   },
   {
    "duration": -249,
    "start_time": "2022-02-02T14:47:15.920Z"
   },
   {
    "duration": 31,
    "start_time": "2022-02-02T14:47:33.897Z"
   },
   {
    "duration": 28,
    "start_time": "2022-02-02T14:47:48.664Z"
   },
   {
    "duration": 254,
    "start_time": "2022-02-02T14:57:02.065Z"
   },
   {
    "duration": 265,
    "start_time": "2022-02-02T14:59:12.768Z"
   },
   {
    "duration": 275,
    "start_time": "2022-02-02T14:59:47.047Z"
   },
   {
    "duration": 275,
    "start_time": "2022-02-02T15:00:27.175Z"
   },
   {
    "duration": 392,
    "start_time": "2022-02-02T15:00:29.464Z"
   },
   {
    "duration": 120,
    "start_time": "2022-02-02T15:00:29.858Z"
   },
   {
    "duration": 69,
    "start_time": "2022-02-02T15:00:29.980Z"
   },
   {
    "duration": 56,
    "start_time": "2022-02-02T15:00:30.072Z"
   },
   {
    "duration": 57,
    "start_time": "2022-02-02T15:00:30.130Z"
   },
   {
    "duration": 13,
    "start_time": "2022-02-02T15:00:30.189Z"
   },
   {
    "duration": 38,
    "start_time": "2022-02-02T15:00:30.204Z"
   },
   {
    "duration": 40,
    "start_time": "2022-02-02T15:00:30.245Z"
   },
   {
    "duration": 21,
    "start_time": "2022-02-02T15:00:30.287Z"
   },
   {
    "duration": 287,
    "start_time": "2022-02-02T15:00:30.310Z"
   },
   {
    "duration": 290,
    "start_time": "2022-02-02T15:01:26.078Z"
   },
   {
    "duration": 323,
    "start_time": "2022-02-02T15:04:49.019Z"
   },
   {
    "duration": 272,
    "start_time": "2022-02-02T15:04:57.571Z"
   },
   {
    "duration": 282,
    "start_time": "2022-02-02T15:05:24.954Z"
   },
   {
    "duration": 23,
    "start_time": "2022-02-02T15:05:29.859Z"
   },
   {
    "duration": 21,
    "start_time": "2022-02-02T15:07:47.890Z"
   },
   {
    "duration": 337,
    "start_time": "2022-02-02T15:07:52.996Z"
   },
   {
    "duration": 82,
    "start_time": "2022-02-02T15:07:53.335Z"
   },
   {
    "duration": 86,
    "start_time": "2022-02-02T15:07:53.419Z"
   },
   {
    "duration": 53,
    "start_time": "2022-02-02T15:07:53.507Z"
   },
   {
    "duration": 42,
    "start_time": "2022-02-02T15:07:53.572Z"
   },
   {
    "duration": 8,
    "start_time": "2022-02-02T15:07:53.616Z"
   },
   {
    "duration": 24,
    "start_time": "2022-02-02T15:07:53.625Z"
   },
   {
    "duration": 19,
    "start_time": "2022-02-02T15:07:53.672Z"
   },
   {
    "duration": 19,
    "start_time": "2022-02-02T15:07:53.692Z"
   },
   {
    "duration": 275,
    "start_time": "2022-02-02T15:07:53.713Z"
   },
   {
    "duration": 21,
    "start_time": "2022-02-02T15:08:01.801Z"
   },
   {
    "duration": 21,
    "start_time": "2022-02-02T15:08:20.448Z"
   },
   {
    "duration": 18,
    "start_time": "2022-02-02T15:08:28.513Z"
   },
   {
    "duration": 19,
    "start_time": "2022-02-02T15:09:04.017Z"
   },
   {
    "duration": 13,
    "start_time": "2022-02-02T15:10:51.695Z"
   },
   {
    "duration": 22,
    "start_time": "2022-02-02T15:10:56.071Z"
   },
   {
    "duration": 17,
    "start_time": "2022-02-02T15:10:59.878Z"
   },
   {
    "duration": 23,
    "start_time": "2022-02-02T15:12:19.382Z"
   },
   {
    "duration": 14,
    "start_time": "2022-02-02T15:12:32.341Z"
   },
   {
    "duration": 8,
    "start_time": "2022-02-02T15:12:52.156Z"
   },
   {
    "duration": 16,
    "start_time": "2022-02-02T15:12:56.693Z"
   },
   {
    "duration": 13,
    "start_time": "2022-02-02T15:14:39.996Z"
   },
   {
    "duration": 20,
    "start_time": "2022-02-02T15:14:43.468Z"
   },
   {
    "duration": 266,
    "start_time": "2022-02-02T15:18:15.114Z"
   },
   {
    "duration": 16,
    "start_time": "2022-02-02T15:18:30.202Z"
   },
   {
    "duration": 22,
    "start_time": "2022-02-02T15:18:36.584Z"
   },
   {
    "duration": 17,
    "start_time": "2022-02-02T15:19:15.721Z"
   },
   {
    "duration": 22,
    "start_time": "2022-02-02T15:19:18.361Z"
   },
   {
    "duration": 282,
    "start_time": "2022-02-02T15:19:30.192Z"
   },
   {
    "duration": 21,
    "start_time": "2022-02-02T15:19:45.264Z"
   },
   {
    "duration": 26,
    "start_time": "2022-02-02T15:20:04.183Z"
   },
   {
    "duration": 358,
    "start_time": "2022-02-03T05:52:59.907Z"
   },
   {
    "duration": 1429,
    "start_time": "2022-02-03T05:53:02.487Z"
   },
   {
    "duration": 111,
    "start_time": "2022-02-03T05:53:03.918Z"
   },
   {
    "duration": 96,
    "start_time": "2022-02-03T05:53:04.031Z"
   },
   {
    "duration": 60,
    "start_time": "2022-02-03T05:53:04.129Z"
   },
   {
    "duration": 62,
    "start_time": "2022-02-03T05:53:04.191Z"
   },
   {
    "duration": 9,
    "start_time": "2022-02-03T05:53:04.254Z"
   },
   {
    "duration": 24,
    "start_time": "2022-02-03T05:53:04.264Z"
   },
   {
    "duration": 39,
    "start_time": "2022-02-03T05:53:04.291Z"
   },
   {
    "duration": 15,
    "start_time": "2022-02-03T05:53:04.332Z"
   },
   {
    "duration": 26,
    "start_time": "2022-02-03T05:53:04.349Z"
   },
   {
    "duration": 35,
    "start_time": "2022-02-03T05:53:04.377Z"
   },
   {
    "duration": 305,
    "start_time": "2022-02-03T05:54:51.370Z"
   },
   {
    "duration": 5753,
    "start_time": "2022-02-03T05:54:58.323Z"
   },
   {
    "duration": 10,
    "start_time": "2022-02-03T05:55:16.562Z"
   },
   {
    "duration": 13,
    "start_time": "2022-02-03T05:55:44.410Z"
   },
   {
    "duration": 23,
    "start_time": "2022-02-03T05:55:59.490Z"
   },
   {
    "duration": 6,
    "start_time": "2022-02-03T05:58:27.648Z"
   },
   {
    "duration": 9,
    "start_time": "2022-02-03T05:58:33.848Z"
   },
   {
    "duration": 20,
    "start_time": "2022-02-03T05:58:49.359Z"
   },
   {
    "duration": 30,
    "start_time": "2022-02-03T05:58:53.584Z"
   },
   {
    "duration": 20,
    "start_time": "2022-02-03T06:04:26.815Z"
   },
   {
    "duration": 18,
    "start_time": "2022-02-03T06:04:29.075Z"
   },
   {
    "duration": 16,
    "start_time": "2022-02-03T06:04:30.580Z"
   },
   {
    "duration": 30,
    "start_time": "2022-02-03T06:04:32.139Z"
   },
   {
    "duration": -194,
    "start_time": "2022-02-03T06:04:44.330Z"
   },
   {
    "duration": 9,
    "start_time": "2022-02-03T06:05:01.323Z"
   },
   {
    "duration": 3,
    "start_time": "2022-02-03T06:18:15.352Z"
   },
   {
    "duration": 271,
    "start_time": "2022-02-03T06:18:24.560Z"
   },
   {
    "duration": 387,
    "start_time": "2022-02-03T06:19:04.120Z"
   },
   {
    "duration": 4,
    "start_time": "2022-02-03T07:16:07.439Z"
   },
   {
    "duration": 77,
    "start_time": "2022-02-03T07:23:49.391Z"
   },
   {
    "duration": 406,
    "start_time": "2022-02-03T07:24:17.287Z"
   },
   {
    "duration": 85,
    "start_time": "2022-02-03T07:24:25.896Z"
   },
   {
    "duration": 85,
    "start_time": "2022-02-03T07:25:34.134Z"
   },
   {
    "duration": 389,
    "start_time": "2022-02-03T07:25:51.494Z"
   },
   {
    "duration": 390,
    "start_time": "2022-02-03T07:26:55.926Z"
   },
   {
    "duration": 398,
    "start_time": "2022-02-03T07:27:16.799Z"
   },
   {
    "duration": 117,
    "start_time": "2022-02-03T07:27:17.199Z"
   },
   {
    "duration": 74,
    "start_time": "2022-02-03T07:27:17.318Z"
   },
   {
    "duration": 74,
    "start_time": "2022-02-03T07:27:17.394Z"
   },
   {
    "duration": 57,
    "start_time": "2022-02-03T07:27:17.470Z"
   },
   {
    "duration": 9,
    "start_time": "2022-02-03T07:27:17.529Z"
   },
   {
    "duration": 21,
    "start_time": "2022-02-03T07:27:17.540Z"
   },
   {
    "duration": 18,
    "start_time": "2022-02-03T07:27:17.564Z"
   },
   {
    "duration": 40,
    "start_time": "2022-02-03T07:27:17.583Z"
   },
   {
    "duration": 31,
    "start_time": "2022-02-03T07:27:17.624Z"
   },
   {
    "duration": 9,
    "start_time": "2022-02-03T07:27:17.657Z"
   },
   {
    "duration": 422,
    "start_time": "2022-02-03T07:27:17.668Z"
   },
   {
    "duration": 422,
    "start_time": "2022-02-03T07:28:03.364Z"
   },
   {
    "duration": 384,
    "start_time": "2022-02-03T07:28:19.684Z"
   },
   {
    "duration": 1085,
    "start_time": "2022-02-03T07:29:00.028Z"
   },
   {
    "duration": 387,
    "start_time": "2022-02-03T07:29:40.019Z"
   },
   {
    "duration": 6,
    "start_time": "2022-02-03T07:29:44.090Z"
   },
   {
    "duration": 391,
    "start_time": "2022-02-03T07:29:54.050Z"
   },
   {
    "duration": 90,
    "start_time": "2022-02-03T07:32:14.384Z"
   },
   {
    "duration": 79,
    "start_time": "2022-02-03T07:32:56.760Z"
   },
   {
    "duration": 401,
    "start_time": "2022-02-03T07:33:09.436Z"
   },
   {
    "duration": 428,
    "start_time": "2022-02-03T07:35:43.374Z"
   },
   {
    "duration": 251,
    "start_time": "2022-02-03T07:37:27.806Z"
   },
   {
    "duration": 222,
    "start_time": "2022-02-03T07:37:45.939Z"
   },
   {
    "duration": 265,
    "start_time": "2022-02-03T07:37:49.821Z"
   },
   {
    "duration": 400,
    "start_time": "2022-02-03T07:38:09.076Z"
   },
   {
    "duration": 383,
    "start_time": "2022-02-03T07:38:29.055Z"
   },
   {
    "duration": 248,
    "start_time": "2022-02-03T07:38:54.946Z"
   },
   {
    "duration": 390,
    "start_time": "2022-02-03T07:39:14.515Z"
   },
   {
    "duration": 147,
    "start_time": "2022-02-03T07:39:17.972Z"
   },
   {
    "duration": 225,
    "start_time": "2022-02-03T07:40:10.466Z"
   },
   {
    "duration": 390,
    "start_time": "2022-02-03T07:41:05.881Z"
   },
   {
    "duration": 433,
    "start_time": "2022-02-03T07:41:25.321Z"
   },
   {
    "duration": 397,
    "start_time": "2022-02-03T07:41:54.633Z"
   },
   {
    "duration": 404,
    "start_time": "2022-02-03T07:42:47.521Z"
   },
   {
    "duration": 272,
    "start_time": "2022-02-03T07:43:00.737Z"
   },
   {
    "duration": 286,
    "start_time": "2022-02-03T07:43:13.960Z"
   },
   {
    "duration": 413,
    "start_time": "2022-02-03T07:44:11.511Z"
   },
   {
    "duration": 1273,
    "start_time": "2022-02-03T07:44:38.247Z"
   },
   {
    "duration": 413,
    "start_time": "2022-02-03T07:45:09.870Z"
   },
   {
    "duration": 279,
    "start_time": "2022-02-03T07:45:42.167Z"
   },
   {
    "duration": 293,
    "start_time": "2022-02-03T07:46:05.111Z"
   },
   {
    "duration": 275,
    "start_time": "2022-02-03T07:46:24.238Z"
   },
   {
    "duration": 284,
    "start_time": "2022-02-03T07:47:04.997Z"
   },
   {
    "duration": 284,
    "start_time": "2022-02-03T07:48:59.947Z"
   },
   {
    "duration": 273,
    "start_time": "2022-02-03T07:49:05.595Z"
   },
   {
    "duration": 12,
    "start_time": "2022-02-03T07:55:27.030Z"
   },
   {
    "duration": 253,
    "start_time": "2022-02-03T07:57:27.764Z"
   },
   {
    "duration": 5,
    "start_time": "2022-02-03T07:57:45.842Z"
   },
   {
    "duration": 15,
    "start_time": "2022-02-03T07:57:50.460Z"
   },
   {
    "duration": 11,
    "start_time": "2022-02-03T07:57:55.476Z"
   },
   {
    "duration": 224,
    "start_time": "2022-02-03T07:59:16.899Z"
   },
   {
    "duration": 247,
    "start_time": "2022-02-03T08:00:19.346Z"
   },
   {
    "duration": 242,
    "start_time": "2022-02-03T08:00:28.554Z"
   },
   {
    "duration": 235,
    "start_time": "2022-02-03T08:00:36.266Z"
   },
   {
    "duration": 15,
    "start_time": "2022-02-03T08:01:10.793Z"
   },
   {
    "duration": 13,
    "start_time": "2022-02-03T08:01:17.570Z"
   },
   {
    "duration": 12,
    "start_time": "2022-02-03T08:01:31.561Z"
   },
   {
    "duration": 13,
    "start_time": "2022-02-03T08:01:39.305Z"
   },
   {
    "duration": 14,
    "start_time": "2022-02-03T08:02:43.825Z"
   },
   {
    "duration": 13,
    "start_time": "2022-02-03T08:03:02.472Z"
   },
   {
    "duration": 15,
    "start_time": "2022-02-03T08:03:22.016Z"
   },
   {
    "duration": 14,
    "start_time": "2022-02-03T08:06:51.205Z"
   },
   {
    "duration": 14,
    "start_time": "2022-02-03T08:06:54.773Z"
   },
   {
    "duration": 15,
    "start_time": "2022-02-03T08:06:58.165Z"
   },
   {
    "duration": 18,
    "start_time": "2022-02-03T08:07:53.549Z"
   },
   {
    "duration": 19,
    "start_time": "2022-02-03T08:08:19.293Z"
   },
   {
    "duration": 19,
    "start_time": "2022-02-03T08:08:23.773Z"
   },
   {
    "duration": 13,
    "start_time": "2022-02-03T08:08:30.749Z"
   },
   {
    "duration": 14,
    "start_time": "2022-02-03T08:19:04.044Z"
   },
   {
    "duration": 14,
    "start_time": "2022-02-03T08:19:10.902Z"
   },
   {
    "duration": 14,
    "start_time": "2022-02-03T08:19:23.324Z"
   },
   {
    "duration": 9,
    "start_time": "2022-02-03T08:19:49.283Z"
   },
   {
    "duration": 222,
    "start_time": "2022-02-03T08:24:43.859Z"
   },
   {
    "duration": 5751,
    "start_time": "2022-02-03T08:25:03.527Z"
   },
   {
    "duration": 5702,
    "start_time": "2022-02-03T08:25:35.007Z"
   },
   {
    "duration": 6475,
    "start_time": "2022-02-03T08:26:20.215Z"
   },
   {
    "duration": 9,
    "start_time": "2022-02-03T08:26:28.007Z"
   },
   {
    "duration": 5892,
    "start_time": "2022-02-03T08:26:30.279Z"
   },
   {
    "duration": 5592,
    "start_time": "2022-02-03T08:26:48.002Z"
   },
   {
    "duration": 15,
    "start_time": "2022-02-03T08:27:20.022Z"
   },
   {
    "duration": 5977,
    "start_time": "2022-02-03T08:27:24.317Z"
   },
   {
    "duration": 6711,
    "start_time": "2022-02-03T08:28:02.157Z"
   },
   {
    "duration": 15,
    "start_time": "2022-02-03T08:28:43.917Z"
   },
   {
    "duration": 8,
    "start_time": "2022-02-03T08:28:52.509Z"
   },
   {
    "duration": 235,
    "start_time": "2022-02-03T08:29:01.093Z"
   },
   {
    "duration": 285,
    "start_time": "2022-02-03T08:29:08.316Z"
   },
   {
    "duration": 190,
    "start_time": "2022-02-03T08:29:11.749Z"
   },
   {
    "duration": 253,
    "start_time": "2022-02-03T08:29:15.164Z"
   },
   {
    "duration": 228,
    "start_time": "2022-02-03T08:29:23.045Z"
   },
   {
    "duration": 229,
    "start_time": "2022-02-03T08:29:27.029Z"
   },
   {
    "duration": 248,
    "start_time": "2022-02-03T08:29:30.013Z"
   },
   {
    "duration": 249,
    "start_time": "2022-02-03T08:29:44.692Z"
   },
   {
    "duration": 248,
    "start_time": "2022-02-03T08:30:07.604Z"
   },
   {
    "duration": 293,
    "start_time": "2022-02-03T08:30:12.083Z"
   },
   {
    "duration": 196,
    "start_time": "2022-02-03T08:30:15.787Z"
   },
   {
    "duration": 221,
    "start_time": "2022-02-03T08:30:19.523Z"
   },
   {
    "duration": 229,
    "start_time": "2022-02-03T08:30:23.987Z"
   },
   {
    "duration": 209,
    "start_time": "2022-02-03T08:30:28.267Z"
   },
   {
    "duration": 232,
    "start_time": "2022-02-03T08:30:31.891Z"
   },
   {
    "duration": 14,
    "start_time": "2022-02-03T08:30:41.427Z"
   },
   {
    "duration": 9,
    "start_time": "2022-02-03T08:30:46.243Z"
   },
   {
    "duration": 13,
    "start_time": "2022-02-03T08:30:51.803Z"
   },
   {
    "duration": 9,
    "start_time": "2022-02-03T08:30:54.004Z"
   },
   {
    "duration": 14,
    "start_time": "2022-02-03T08:31:02.643Z"
   },
   {
    "duration": 16,
    "start_time": "2022-02-03T08:31:06.299Z"
   },
   {
    "duration": 265,
    "start_time": "2022-02-03T08:31:25.003Z"
   },
   {
    "duration": 236,
    "start_time": "2022-02-03T08:31:53.130Z"
   },
   {
    "duration": 245,
    "start_time": "2022-02-03T08:32:07.762Z"
   },
   {
    "duration": 328,
    "start_time": "2022-02-03T08:32:16.402Z"
   },
   {
    "duration": 259,
    "start_time": "2022-02-03T08:32:35.106Z"
   },
   {
    "duration": 250,
    "start_time": "2022-02-03T08:32:47.234Z"
   },
   {
    "duration": 257,
    "start_time": "2022-02-03T08:33:08.257Z"
   },
   {
    "duration": 263,
    "start_time": "2022-02-03T08:33:17.017Z"
   },
   {
    "duration": 271,
    "start_time": "2022-02-03T08:33:28.473Z"
   },
   {
    "duration": 465,
    "start_time": "2022-02-03T08:33:32.410Z"
   },
   {
    "duration": 251,
    "start_time": "2022-02-03T08:33:36.481Z"
   },
   {
    "duration": 263,
    "start_time": "2022-02-03T08:33:46.014Z"
   },
   {
    "duration": 254,
    "start_time": "2022-02-03T08:33:50.625Z"
   },
   {
    "duration": 249,
    "start_time": "2022-02-03T08:33:58.032Z"
   },
   {
    "duration": 337,
    "start_time": "2022-02-03T08:34:04.864Z"
   },
   {
    "duration": 244,
    "start_time": "2022-02-03T08:34:08.456Z"
   },
   {
    "duration": 251,
    "start_time": "2022-02-03T08:34:12.976Z"
   },
   {
    "duration": 251,
    "start_time": "2022-02-03T08:34:15.881Z"
   },
   {
    "duration": 268,
    "start_time": "2022-02-03T08:34:27.712Z"
   },
   {
    "duration": 246,
    "start_time": "2022-02-03T08:34:36.440Z"
   },
   {
    "duration": 244,
    "start_time": "2022-02-03T08:34:40.143Z"
   },
   {
    "duration": 253,
    "start_time": "2022-02-03T08:34:44.600Z"
   },
   {
    "duration": 250,
    "start_time": "2022-02-03T08:34:48.064Z"
   },
   {
    "duration": 245,
    "start_time": "2022-02-03T08:34:51.360Z"
   },
   {
    "duration": 240,
    "start_time": "2022-02-03T08:34:54.736Z"
   },
   {
    "duration": 258,
    "start_time": "2022-02-03T08:34:59.176Z"
   },
   {
    "duration": 243,
    "start_time": "2022-02-03T08:35:03.720Z"
   },
   {
    "duration": 377,
    "start_time": "2022-02-03T08:35:06.968Z"
   },
   {
    "duration": 252,
    "start_time": "2022-02-03T08:35:13.993Z"
   },
   {
    "duration": 252,
    "start_time": "2022-02-03T08:35:23.616Z"
   },
   {
    "duration": 251,
    "start_time": "2022-02-03T08:35:28.624Z"
   },
   {
    "duration": 256,
    "start_time": "2022-02-03T08:43:18.162Z"
   },
   {
    "duration": 258,
    "start_time": "2022-02-03T08:43:49.570Z"
   },
   {
    "duration": 251,
    "start_time": "2022-02-03T08:44:44.113Z"
   },
   {
    "duration": 1023,
    "start_time": "2022-02-03T08:46:12.632Z"
   },
   {
    "duration": 88,
    "start_time": "2022-02-03T08:47:46.054Z"
   },
   {
    "duration": 1010,
    "start_time": "2022-02-03T08:47:54.535Z"
   },
   {
    "duration": 1171,
    "start_time": "2022-02-03T08:48:02.111Z"
   },
   {
    "duration": 1000,
    "start_time": "2022-02-03T08:48:06.799Z"
   },
   {
    "duration": 1102,
    "start_time": "2022-02-03T08:48:24.334Z"
   },
   {
    "duration": 511,
    "start_time": "2022-02-03T08:48:41.023Z"
   },
   {
    "duration": 1176,
    "start_time": "2022-02-03T08:48:50.894Z"
   },
   {
    "duration": 1340,
    "start_time": "2022-02-03T08:50:26.045Z"
   },
   {
    "duration": 3,
    "start_time": "2022-02-03T08:51:11.005Z"
   },
   {
    "duration": 4701,
    "start_time": "2022-02-03T08:51:36.076Z"
   },
   {
    "duration": 1126,
    "start_time": "2022-02-03T08:51:58.037Z"
   },
   {
    "duration": 1101,
    "start_time": "2022-02-03T08:52:00.709Z"
   },
   {
    "duration": 6752,
    "start_time": "2022-02-03T08:52:32.348Z"
   },
   {
    "duration": 1334,
    "start_time": "2022-02-03T08:53:08.331Z"
   },
   {
    "duration": 4597,
    "start_time": "2022-02-03T08:54:36.322Z"
   },
   {
    "duration": 1067,
    "start_time": "2022-02-03T08:54:49.637Z"
   },
   {
    "duration": 1143,
    "start_time": "2022-02-03T08:58:20.703Z"
   },
   {
    "duration": 1137,
    "start_time": "2022-02-03T08:58:34.679Z"
   },
   {
    "duration": 1361,
    "start_time": "2022-02-03T08:58:59.704Z"
   },
   {
    "duration": 1153,
    "start_time": "2022-02-03T08:59:07.352Z"
   },
   {
    "duration": 1096,
    "start_time": "2022-02-03T08:59:14.593Z"
   },
   {
    "duration": 69,
    "start_time": "2022-02-03T08:59:21.439Z"
   },
   {
    "duration": 1107,
    "start_time": "2022-02-03T08:59:23.991Z"
   },
   {
    "duration": 1294,
    "start_time": "2022-02-03T08:59:36.350Z"
   },
   {
    "duration": 1111,
    "start_time": "2022-02-03T08:59:41.086Z"
   },
   {
    "duration": 1116,
    "start_time": "2022-02-03T08:59:50.366Z"
   },
   {
    "duration": 1110,
    "start_time": "2022-02-03T08:59:59.744Z"
   },
   {
    "duration": 1278,
    "start_time": "2022-02-03T09:02:47.029Z"
   },
   {
    "duration": 225,
    "start_time": "2022-02-03T09:33:22.708Z"
   },
   {
    "duration": 11,
    "start_time": "2022-02-03T09:34:15.948Z"
   },
   {
    "duration": 16,
    "start_time": "2022-02-03T09:34:20.171Z"
   },
   {
    "duration": 14,
    "start_time": "2022-02-03T09:35:16.202Z"
   },
   {
    "duration": 17,
    "start_time": "2022-02-03T09:35:23.931Z"
   },
   {
    "duration": 252,
    "start_time": "2022-02-03T09:35:54.475Z"
   },
   {
    "duration": 16,
    "start_time": "2022-02-03T09:35:59.210Z"
   },
   {
    "duration": 232,
    "start_time": "2022-02-03T09:49:41.959Z"
   },
   {
    "duration": 240,
    "start_time": "2022-02-03T09:50:49.967Z"
   },
   {
    "duration": 224,
    "start_time": "2022-02-03T09:50:57.719Z"
   },
   {
    "duration": 268,
    "start_time": "2022-02-03T09:51:11.847Z"
   },
   {
    "duration": 5806,
    "start_time": "2022-02-03T09:51:16.999Z"
   },
   {
    "duration": 6120,
    "start_time": "2022-02-03T09:51:46.463Z"
   },
   {
    "duration": 12,
    "start_time": "2022-02-03T09:52:13.126Z"
   },
   {
    "duration": 5783,
    "start_time": "2022-02-03T09:52:19.310Z"
   },
   {
    "duration": 5919,
    "start_time": "2022-02-03T09:52:32.470Z"
   },
   {
    "duration": -212,
    "start_time": "2022-02-03T09:52:51.229Z"
   },
   {
    "duration": 13,
    "start_time": "2022-02-03T09:52:52.206Z"
   },
   {
    "duration": 244,
    "start_time": "2022-02-03T09:53:12.854Z"
   },
   {
    "duration": 7,
    "start_time": "2022-02-03T09:53:16.597Z"
   },
   {
    "duration": 6,
    "start_time": "2022-02-03T09:53:29.182Z"
   },
   {
    "duration": 255,
    "start_time": "2022-02-03T10:13:24.799Z"
   },
   {
    "duration": 5,
    "start_time": "2022-02-03T10:13:54.534Z"
   },
   {
    "duration": 14,
    "start_time": "2022-02-03T10:13:58.814Z"
   },
   {
    "duration": 240,
    "start_time": "2022-02-03T10:14:58.638Z"
   },
   {
    "duration": 230,
    "start_time": "2022-02-03T10:15:04.518Z"
   },
   {
    "duration": 4,
    "start_time": "2022-02-03T10:15:15.277Z"
   },
   {
    "duration": 16,
    "start_time": "2022-02-03T10:15:24.645Z"
   },
   {
    "duration": 257,
    "start_time": "2022-02-03T11:43:24.899Z"
   },
   {
    "duration": 257,
    "start_time": "2022-02-03T11:43:39.634Z"
   },
   {
    "duration": 284,
    "start_time": "2022-02-03T11:43:42.329Z"
   },
   {
    "duration": 249,
    "start_time": "2022-02-03T11:43:45.887Z"
   },
   {
    "duration": 225,
    "start_time": "2022-02-03T11:43:49.530Z"
   },
   {
    "duration": 37,
    "start_time": "2022-02-03T11:44:03.098Z"
   },
   {
    "duration": 47,
    "start_time": "2022-02-03T11:44:07.889Z"
   },
   {
    "duration": 59,
    "start_time": "2022-02-03T11:45:23.178Z"
   },
   {
    "duration": 52,
    "start_time": "2022-02-03T11:45:26.825Z"
   },
   {
    "duration": 235,
    "start_time": "2022-02-03T11:47:12.447Z"
   },
   {
    "duration": 71,
    "start_time": "2022-02-03T11:47:29.071Z"
   },
   {
    "duration": 77,
    "start_time": "2022-02-03T11:47:34.991Z"
   },
   {
    "duration": 242,
    "start_time": "2022-02-03T11:47:45.818Z"
   },
   {
    "duration": 14,
    "start_time": "2022-02-03T11:47:54.318Z"
   },
   {
    "duration": 229,
    "start_time": "2022-02-03T11:48:02.767Z"
   },
   {
    "duration": 22,
    "start_time": "2022-02-03T11:48:24.927Z"
   },
   {
    "duration": 226,
    "start_time": "2022-02-03T11:51:08.972Z"
   },
   {
    "duration": 325,
    "start_time": "2022-02-03T11:51:13.741Z"
   },
   {
    "duration": 458,
    "start_time": "2022-02-03T11:51:21.836Z"
   },
   {
    "duration": 135,
    "start_time": "2022-02-03T11:51:25.820Z"
   },
   {
    "duration": 138,
    "start_time": "2022-02-03T11:51:42.380Z"
   },
   {
    "duration": 226,
    "start_time": "2022-02-03T11:52:52.875Z"
   },
   {
    "duration": 265,
    "start_time": "2022-02-03T11:52:58.899Z"
   },
   {
    "duration": 259,
    "start_time": "2022-02-03T11:53:52.170Z"
   },
   {
    "duration": 1315,
    "start_time": "2022-02-03T11:53:59.658Z"
   },
   {
    "duration": 5,
    "start_time": "2022-02-03T11:59:10.439Z"
   },
   {
    "duration": 235,
    "start_time": "2022-02-03T11:59:18.758Z"
   },
   {
    "duration": 13,
    "start_time": "2022-02-03T11:59:24.678Z"
   },
   {
    "duration": 230,
    "start_time": "2022-02-03T12:00:41.309Z"
   },
   {
    "duration": 12,
    "start_time": "2022-02-03T12:00:46.076Z"
   },
   {
    "duration": 17,
    "start_time": "2022-02-03T12:00:51.212Z"
   },
   {
    "duration": 21,
    "start_time": "2022-02-03T12:02:15.589Z"
   },
   {
    "duration": 40,
    "start_time": "2022-02-03T12:02:59.100Z"
   },
   {
    "duration": 1293,
    "start_time": "2022-02-03T12:11:27.189Z"
   },
   {
    "duration": 1258,
    "start_time": "2022-02-03T12:11:32.133Z"
   },
   {
    "duration": 1349,
    "start_time": "2022-02-03T12:11:35.957Z"
   },
   {
    "duration": 1181,
    "start_time": "2022-02-03T13:08:59.490Z"
   },
   {
    "duration": 984,
    "start_time": "2022-02-03T14:41:06.383Z"
   },
   {
    "duration": 1263,
    "start_time": "2022-02-03T14:41:21.118Z"
   },
   {
    "duration": 44,
    "start_time": "2022-02-03T14:41:54.924Z"
   },
   {
    "duration": 1007,
    "start_time": "2022-02-03T14:42:11.956Z"
   },
   {
    "duration": 832,
    "start_time": "2022-02-03T14:42:31.724Z"
   },
   {
    "duration": 1499,
    "start_time": "2022-02-05T06:26:48.541Z"
   },
   {
    "duration": 85,
    "start_time": "2022-02-05T06:26:50.041Z"
   },
   {
    "duration": 102,
    "start_time": "2022-02-05T06:26:50.127Z"
   },
   {
    "duration": 73,
    "start_time": "2022-02-05T06:26:50.231Z"
   },
   {
    "duration": 42,
    "start_time": "2022-02-05T06:26:50.305Z"
   },
   {
    "duration": 24,
    "start_time": "2022-02-05T06:26:50.349Z"
   },
   {
    "duration": 27,
    "start_time": "2022-02-05T06:26:50.374Z"
   },
   {
    "duration": 19,
    "start_time": "2022-02-05T06:26:50.403Z"
   },
   {
    "duration": 48,
    "start_time": "2022-02-05T06:26:50.424Z"
   },
   {
    "duration": 27,
    "start_time": "2022-02-05T06:26:50.474Z"
   },
   {
    "duration": 9,
    "start_time": "2022-02-05T06:26:50.502Z"
   },
   {
    "duration": 276,
    "start_time": "2022-02-05T06:26:50.512Z"
   },
   {
    "duration": 14,
    "start_time": "2022-02-05T06:26:50.789Z"
   },
   {
    "duration": 14,
    "start_time": "2022-02-05T06:26:50.805Z"
   },
   {
    "duration": 7,
    "start_time": "2022-02-05T06:26:50.821Z"
   },
   {
    "duration": 50,
    "start_time": "2022-02-05T06:26:50.830Z"
   },
   {
    "duration": 5,
    "start_time": "2022-02-05T06:26:50.882Z"
   },
   {
    "duration": 712,
    "start_time": "2022-02-05T06:26:50.889Z"
   },
   {
    "duration": 39,
    "start_time": "2022-02-05T06:26:51.603Z"
   },
   {
    "duration": 902,
    "start_time": "2022-02-05T06:26:51.643Z"
   },
   {
    "duration": 3,
    "start_time": "2022-02-05T06:26:52.546Z"
   },
   {
    "duration": 359,
    "start_time": "2022-02-05T06:30:07.151Z"
   },
   {
    "duration": 441,
    "start_time": "2022-02-05T06:30:27.965Z"
   },
   {
    "duration": 619,
    "start_time": "2022-02-05T06:32:23.297Z"
   },
   {
    "duration": 460,
    "start_time": "2022-02-05T06:32:35.620Z"
   },
   {
    "duration": 368,
    "start_time": "2022-02-05T06:33:16.164Z"
   },
   {
    "duration": 384,
    "start_time": "2022-02-05T06:33:21.482Z"
   },
   {
    "duration": 377,
    "start_time": "2022-02-05T06:33:26.597Z"
   },
   {
    "duration": 232,
    "start_time": "2022-02-05T06:36:56.879Z"
   },
   {
    "duration": 314,
    "start_time": "2022-02-05T06:37:01.860Z"
   },
   {
    "duration": 224,
    "start_time": "2022-02-05T06:37:08.581Z"
   },
   {
    "duration": 297,
    "start_time": "2022-02-05T06:37:18.624Z"
   },
   {
    "duration": 221,
    "start_time": "2022-02-05T06:37:23.178Z"
   },
   {
    "duration": 274,
    "start_time": "2022-02-05T06:37:55.006Z"
   },
   {
    "duration": 241,
    "start_time": "2022-02-05T06:38:03.694Z"
   },
   {
    "duration": 247,
    "start_time": "2022-02-05T06:38:17.359Z"
   },
   {
    "duration": 255,
    "start_time": "2022-02-05T06:38:45.205Z"
   },
   {
    "duration": 6884,
    "start_time": "2022-02-05T06:43:51.920Z"
   },
   {
    "duration": 88,
    "start_time": "2022-02-05T06:44:22.892Z"
   },
   {
    "duration": 317,
    "start_time": "2022-02-05T06:44:27.254Z"
   },
   {
    "duration": 850,
    "start_time": "2022-02-05T06:46:41.404Z"
   },
   {
    "duration": 259,
    "start_time": "2022-02-05T06:46:54.281Z"
   },
   {
    "duration": 448,
    "start_time": "2022-02-05T06:47:03.934Z"
   },
   {
    "duration": 460,
    "start_time": "2022-02-05T06:47:39.444Z"
   },
   {
    "duration": 417,
    "start_time": "2022-02-05T06:47:49.571Z"
   },
   {
    "duration": 593,
    "start_time": "2022-02-05T06:47:59.150Z"
   },
   {
    "duration": 430,
    "start_time": "2022-02-05T06:48:20.067Z"
   },
   {
    "duration": 489,
    "start_time": "2022-02-05T06:48:26.846Z"
   },
   {
    "duration": 576,
    "start_time": "2022-02-05T06:48:31.800Z"
   },
   {
    "duration": 262,
    "start_time": "2022-02-05T06:48:54.426Z"
   },
   {
    "duration": 256,
    "start_time": "2022-02-05T06:49:27.848Z"
   },
   {
    "duration": 260,
    "start_time": "2022-02-05T06:49:40.740Z"
   },
   {
    "duration": 547,
    "start_time": "2022-02-05T06:49:59.834Z"
   },
   {
    "duration": 263,
    "start_time": "2022-02-05T06:50:03.829Z"
   },
   {
    "duration": 342,
    "start_time": "2022-02-05T06:50:31.091Z"
   },
   {
    "duration": 262,
    "start_time": "2022-02-05T06:53:37.789Z"
   },
   {
    "duration": 260,
    "start_time": "2022-02-05T06:54:22.115Z"
   },
   {
    "duration": 230,
    "start_time": "2022-02-05T06:55:24.848Z"
   },
   {
    "duration": 264,
    "start_time": "2022-02-05T07:00:27.015Z"
   },
   {
    "duration": 256,
    "start_time": "2022-02-05T07:01:05.564Z"
   },
   {
    "duration": 281,
    "start_time": "2022-02-05T07:05:14.349Z"
   },
   {
    "duration": 296,
    "start_time": "2022-02-05T07:05:22.812Z"
   },
   {
    "duration": 258,
    "start_time": "2022-02-05T07:05:53.830Z"
   },
   {
    "duration": 222,
    "start_time": "2022-02-05T07:07:03.537Z"
   },
   {
    "duration": 6752,
    "start_time": "2022-02-05T07:07:13.656Z"
   },
   {
    "duration": -110,
    "start_time": "2022-02-05T07:07:33.487Z"
   },
   {
    "duration": 6633,
    "start_time": "2022-02-05T07:07:57.579Z"
   },
   {
    "duration": -9,
    "start_time": "2022-02-05T07:08:18.276Z"
   },
   {
    "duration": -20,
    "start_time": "2022-02-05T07:08:18.288Z"
   },
   {
    "duration": -22,
    "start_time": "2022-02-05T07:08:18.291Z"
   },
   {
    "duration": -24,
    "start_time": "2022-02-05T07:08:18.294Z"
   },
   {
    "duration": -25,
    "start_time": "2022-02-05T07:08:18.296Z"
   },
   {
    "duration": -27,
    "start_time": "2022-02-05T07:08:18.298Z"
   },
   {
    "duration": -29,
    "start_time": "2022-02-05T07:08:18.301Z"
   },
   {
    "duration": -30,
    "start_time": "2022-02-05T07:08:18.303Z"
   },
   {
    "duration": -31,
    "start_time": "2022-02-05T07:08:18.305Z"
   },
   {
    "duration": -32,
    "start_time": "2022-02-05T07:08:18.307Z"
   },
   {
    "duration": -33,
    "start_time": "2022-02-05T07:08:18.309Z"
   },
   {
    "duration": -34,
    "start_time": "2022-02-05T07:08:18.311Z"
   },
   {
    "duration": -40,
    "start_time": "2022-02-05T07:08:18.318Z"
   },
   {
    "duration": -40,
    "start_time": "2022-02-05T07:08:18.320Z"
   },
   {
    "duration": -41,
    "start_time": "2022-02-05T07:08:18.322Z"
   },
   {
    "duration": -42,
    "start_time": "2022-02-05T07:08:18.324Z"
   },
   {
    "duration": -43,
    "start_time": "2022-02-05T07:08:18.326Z"
   },
   {
    "duration": -45,
    "start_time": "2022-02-05T07:08:18.329Z"
   },
   {
    "duration": -46,
    "start_time": "2022-02-05T07:08:18.331Z"
   },
   {
    "duration": -46,
    "start_time": "2022-02-05T07:08:18.332Z"
   },
   {
    "duration": -47,
    "start_time": "2022-02-05T07:08:18.334Z"
   },
   {
    "duration": -47,
    "start_time": "2022-02-05T07:08:18.335Z"
   },
   {
    "duration": -49,
    "start_time": "2022-02-05T07:08:18.337Z"
   },
   {
    "duration": 375,
    "start_time": "2022-02-05T07:08:40.058Z"
   },
   {
    "duration": 93,
    "start_time": "2022-02-05T07:08:40.435Z"
   },
   {
    "duration": 104,
    "start_time": "2022-02-05T07:08:40.530Z"
   },
   {
    "duration": 71,
    "start_time": "2022-02-05T07:08:40.636Z"
   },
   {
    "duration": 42,
    "start_time": "2022-02-05T07:08:40.708Z"
   },
   {
    "duration": 26,
    "start_time": "2022-02-05T07:08:40.752Z"
   },
   {
    "duration": 21,
    "start_time": "2022-02-05T07:08:40.780Z"
   },
   {
    "duration": 19,
    "start_time": "2022-02-05T07:08:40.803Z"
   },
   {
    "duration": 53,
    "start_time": "2022-02-05T07:08:40.825Z"
   },
   {
    "duration": 28,
    "start_time": "2022-02-05T07:08:40.880Z"
   },
   {
    "duration": 9,
    "start_time": "2022-02-05T07:08:40.909Z"
   },
   {
    "duration": 307,
    "start_time": "2022-02-05T07:08:40.920Z"
   },
   {
    "duration": 13,
    "start_time": "2022-02-05T07:08:41.229Z"
   },
   {
    "duration": 29,
    "start_time": "2022-02-05T07:08:41.243Z"
   },
   {
    "duration": 7,
    "start_time": "2022-02-05T07:08:41.274Z"
   },
   {
    "duration": 27,
    "start_time": "2022-02-05T07:08:41.282Z"
   },
   {
    "duration": 15,
    "start_time": "2022-02-05T07:08:41.310Z"
   },
   {
    "duration": 694,
    "start_time": "2022-02-05T07:08:41.327Z"
   },
   {
    "duration": 53,
    "start_time": "2022-02-05T07:08:42.022Z"
   },
   {
    "duration": 866,
    "start_time": "2022-02-05T07:08:42.077Z"
   },
   {
    "duration": 280,
    "start_time": "2022-02-05T07:08:42.945Z"
   },
   {
    "duration": 6577,
    "start_time": "2022-02-05T07:08:43.226Z"
   },
   {
    "duration": -81,
    "start_time": "2022-02-05T07:08:49.886Z"
   },
   {
    "duration": 335,
    "start_time": "2022-02-05T07:09:02.092Z"
   },
   {
    "duration": 239,
    "start_time": "2022-02-05T07:09:08.378Z"
   },
   {
    "duration": 237,
    "start_time": "2022-02-05T07:09:25.889Z"
   },
   {
    "duration": 230,
    "start_time": "2022-02-05T07:11:00.389Z"
   },
   {
    "duration": 231,
    "start_time": "2022-02-05T07:15:32.230Z"
   },
   {
    "duration": 243,
    "start_time": "2022-02-05T07:15:44.023Z"
   },
   {
    "duration": 240,
    "start_time": "2022-02-05T07:15:53.438Z"
   },
   {
    "duration": 230,
    "start_time": "2022-02-05T07:16:02.192Z"
   },
   {
    "duration": 488,
    "start_time": "2022-02-05T07:16:29.522Z"
   },
   {
    "duration": 519,
    "start_time": "2022-02-05T07:17:14.789Z"
   },
   {
    "duration": 255,
    "start_time": "2022-02-05T07:17:22.919Z"
   },
   {
    "duration": 387,
    "start_time": "2022-02-05T07:21:31.342Z"
   },
   {
    "duration": 261,
    "start_time": "2022-02-05T07:22:31.632Z"
   },
   {
    "duration": 189,
    "start_time": "2022-02-05T07:22:36.271Z"
   },
   {
    "duration": 269,
    "start_time": "2022-02-05T07:22:52.112Z"
   },
   {
    "duration": 378,
    "start_time": "2022-02-05T07:34:15.973Z"
   },
   {
    "duration": 10,
    "start_time": "2022-02-05T07:46:14.197Z"
   },
   {
    "duration": 9,
    "start_time": "2022-02-05T07:46:46.129Z"
   },
   {
    "duration": 317,
    "start_time": "2022-02-05T07:46:53.229Z"
   },
   {
    "duration": 10,
    "start_time": "2022-02-05T07:46:55.470Z"
   },
   {
    "duration": 270,
    "start_time": "2022-02-05T07:48:08.758Z"
   },
   {
    "duration": 14,
    "start_time": "2022-02-05T07:48:21.431Z"
   },
   {
    "duration": 12,
    "start_time": "2022-02-05T07:48:38.303Z"
   },
   {
    "duration": 12,
    "start_time": "2022-02-05T08:17:25.847Z"
   },
   {
    "duration": 264,
    "start_time": "2022-02-05T08:22:24.386Z"
   },
   {
    "duration": 259,
    "start_time": "2022-02-05T08:22:29.584Z"
   },
   {
    "duration": 342,
    "start_time": "2022-02-05T08:22:44.962Z"
   },
   {
    "duration": 271,
    "start_time": "2022-02-05T08:23:04.216Z"
   },
   {
    "duration": 4,
    "start_time": "2022-02-05T08:25:17.309Z"
   },
   {
    "duration": 5,
    "start_time": "2022-02-05T08:25:20.981Z"
   },
   {
    "duration": 3,
    "start_time": "2022-02-05T08:25:35.732Z"
   },
   {
    "duration": 4,
    "start_time": "2022-02-05T08:25:38.236Z"
   },
   {
    "duration": 7,
    "start_time": "2022-02-05T08:25:42.030Z"
   },
   {
    "duration": 13,
    "start_time": "2022-02-05T08:25:52.009Z"
   },
   {
    "duration": 257,
    "start_time": "2022-02-05T08:26:08.368Z"
   },
   {
    "duration": 13,
    "start_time": "2022-02-05T08:26:15.338Z"
   },
   {
    "duration": 13,
    "start_time": "2022-02-05T08:26:40.141Z"
   },
   {
    "duration": 31,
    "start_time": "2022-02-05T08:27:49.575Z"
   },
   {
    "duration": 26,
    "start_time": "2022-02-05T08:28:10.728Z"
   },
   {
    "duration": 7,
    "start_time": "2022-02-05T08:28:24.307Z"
   },
   {
    "duration": 19,
    "start_time": "2022-02-05T08:28:30.336Z"
   },
   {
    "duration": 265,
    "start_time": "2022-02-05T08:29:08.944Z"
   },
   {
    "duration": 20,
    "start_time": "2022-02-05T08:29:19.653Z"
   },
   {
    "duration": 21,
    "start_time": "2022-02-05T08:29:28.324Z"
   },
   {
    "duration": 377,
    "start_time": "2022-02-05T08:29:32.168Z"
   },
   {
    "duration": 79,
    "start_time": "2022-02-05T08:29:32.546Z"
   },
   {
    "duration": 96,
    "start_time": "2022-02-05T08:29:32.627Z"
   },
   {
    "duration": 71,
    "start_time": "2022-02-05T08:29:32.724Z"
   },
   {
    "duration": 40,
    "start_time": "2022-02-05T08:29:32.796Z"
   },
   {
    "duration": 8,
    "start_time": "2022-02-05T08:29:32.838Z"
   },
   {
    "duration": 42,
    "start_time": "2022-02-05T08:29:32.847Z"
   },
   {
    "duration": 16,
    "start_time": "2022-02-05T08:29:32.891Z"
   },
   {
    "duration": 14,
    "start_time": "2022-02-05T08:29:32.909Z"
   },
   {
    "duration": 56,
    "start_time": "2022-02-05T08:29:32.925Z"
   },
   {
    "duration": 9,
    "start_time": "2022-02-05T08:29:32.983Z"
   },
   {
    "duration": 277,
    "start_time": "2022-02-05T08:29:32.994Z"
   },
   {
    "duration": 15,
    "start_time": "2022-02-05T08:29:33.273Z"
   },
   {
    "duration": 14,
    "start_time": "2022-02-05T08:29:33.289Z"
   },
   {
    "duration": 8,
    "start_time": "2022-02-05T08:29:33.305Z"
   },
   {
    "duration": 17,
    "start_time": "2022-02-05T08:29:33.315Z"
   },
   {
    "duration": 39,
    "start_time": "2022-02-05T08:29:33.333Z"
   },
   {
    "duration": 685,
    "start_time": "2022-02-05T08:29:33.373Z"
   },
   {
    "duration": 44,
    "start_time": "2022-02-05T08:29:34.059Z"
   },
   {
    "duration": 847,
    "start_time": "2022-02-05T08:29:34.104Z"
   },
   {
    "duration": 293,
    "start_time": "2022-02-05T08:29:34.952Z"
   },
   {
    "duration": 246,
    "start_time": "2022-02-05T08:29:35.246Z"
   },
   {
    "duration": 268,
    "start_time": "2022-02-05T08:29:35.493Z"
   },
   {
    "duration": 13,
    "start_time": "2022-02-05T08:29:35.763Z"
   },
   {
    "duration": 11,
    "start_time": "2022-02-05T08:29:35.778Z"
   },
   {
    "duration": 18,
    "start_time": "2022-02-05T08:29:35.791Z"
   },
   {
    "duration": 12,
    "start_time": "2022-02-05T08:29:53.110Z"
   },
   {
    "duration": 97,
    "start_time": "2022-02-05T08:30:29.609Z"
   },
   {
    "duration": 21,
    "start_time": "2022-02-05T08:30:36.245Z"
   },
   {
    "duration": 80,
    "start_time": "2022-02-05T08:30:51.397Z"
   },
   {
    "duration": 82,
    "start_time": "2022-02-05T08:30:59.572Z"
   },
   {
    "duration": 408,
    "start_time": "2022-02-05T08:31:28.649Z"
   },
   {
    "duration": 23,
    "start_time": "2022-02-05T08:31:43.873Z"
   },
   {
    "duration": 361,
    "start_time": "2022-02-05T08:31:50.377Z"
   },
   {
    "duration": 79,
    "start_time": "2022-02-05T08:31:50.740Z"
   },
   {
    "duration": 100,
    "start_time": "2022-02-05T08:31:50.822Z"
   },
   {
    "duration": 69,
    "start_time": "2022-02-05T08:31:50.923Z"
   },
   {
    "duration": 50,
    "start_time": "2022-02-05T08:31:50.994Z"
   },
   {
    "duration": 26,
    "start_time": "2022-02-05T08:31:51.046Z"
   },
   {
    "duration": 21,
    "start_time": "2022-02-05T08:31:51.074Z"
   },
   {
    "duration": 17,
    "start_time": "2022-02-05T08:31:51.096Z"
   },
   {
    "duration": 13,
    "start_time": "2022-02-05T08:31:51.116Z"
   },
   {
    "duration": 62,
    "start_time": "2022-02-05T08:31:51.131Z"
   },
   {
    "duration": 10,
    "start_time": "2022-02-05T08:31:51.195Z"
   },
   {
    "duration": 289,
    "start_time": "2022-02-05T08:31:51.207Z"
   },
   {
    "duration": 15,
    "start_time": "2022-02-05T08:31:51.498Z"
   },
   {
    "duration": 13,
    "start_time": "2022-02-05T08:31:51.514Z"
   },
   {
    "duration": 15,
    "start_time": "2022-02-05T08:31:51.529Z"
   },
   {
    "duration": 37,
    "start_time": "2022-02-05T08:31:51.546Z"
   },
   {
    "duration": 17,
    "start_time": "2022-02-05T08:31:51.585Z"
   },
   {
    "duration": 696,
    "start_time": "2022-02-05T08:31:51.603Z"
   },
   {
    "duration": 39,
    "start_time": "2022-02-05T08:31:52.300Z"
   },
   {
    "duration": 907,
    "start_time": "2022-02-05T08:31:52.341Z"
   },
   {
    "duration": 279,
    "start_time": "2022-02-05T08:31:53.249Z"
   },
   {
    "duration": 251,
    "start_time": "2022-02-05T08:31:53.529Z"
   },
   {
    "duration": 270,
    "start_time": "2022-02-05T08:31:53.782Z"
   },
   {
    "duration": 19,
    "start_time": "2022-02-05T08:31:54.053Z"
   },
   {
    "duration": 11,
    "start_time": "2022-02-05T08:31:54.074Z"
   },
   {
    "duration": 16,
    "start_time": "2022-02-05T08:31:54.087Z"
   },
   {
    "duration": 303,
    "start_time": "2022-02-05T08:32:00.386Z"
   },
   {
    "duration": 20,
    "start_time": "2022-02-05T08:32:14.232Z"
   },
   {
    "duration": 380,
    "start_time": "2022-02-05T08:32:20.594Z"
   },
   {
    "duration": 125,
    "start_time": "2022-02-05T08:32:20.976Z"
   },
   {
    "duration": 101,
    "start_time": "2022-02-05T08:32:21.103Z"
   },
   {
    "duration": 72,
    "start_time": "2022-02-05T08:32:21.206Z"
   },
   {
    "duration": 40,
    "start_time": "2022-02-05T08:32:21.280Z"
   },
   {
    "duration": 8,
    "start_time": "2022-02-05T08:32:21.322Z"
   },
   {
    "duration": 46,
    "start_time": "2022-02-05T08:32:21.331Z"
   },
   {
    "duration": 16,
    "start_time": "2022-02-05T08:32:21.378Z"
   },
   {
    "duration": 14,
    "start_time": "2022-02-05T08:32:21.397Z"
   },
   {
    "duration": 27,
    "start_time": "2022-02-05T08:32:21.413Z"
   },
   {
    "duration": 37,
    "start_time": "2022-02-05T08:32:21.441Z"
   },
   {
    "duration": 287,
    "start_time": "2022-02-05T08:32:21.479Z"
   },
   {
    "duration": 16,
    "start_time": "2022-02-05T08:32:21.767Z"
   },
   {
    "duration": 11,
    "start_time": "2022-02-05T08:32:21.785Z"
   },
   {
    "duration": 11,
    "start_time": "2022-02-05T08:32:21.798Z"
   },
   {
    "duration": 15,
    "start_time": "2022-02-05T08:32:21.811Z"
   },
   {
    "duration": 46,
    "start_time": "2022-02-05T08:32:21.828Z"
   },
   {
    "duration": 695,
    "start_time": "2022-02-05T08:32:21.876Z"
   },
   {
    "duration": 43,
    "start_time": "2022-02-05T08:32:22.573Z"
   },
   {
    "duration": 1087,
    "start_time": "2022-02-05T08:32:22.618Z"
   },
   {
    "duration": 299,
    "start_time": "2022-02-05T08:32:23.706Z"
   },
   {
    "duration": 252,
    "start_time": "2022-02-05T08:32:24.006Z"
   },
   {
    "duration": 273,
    "start_time": "2022-02-05T08:32:24.260Z"
   },
   {
    "duration": 10,
    "start_time": "2022-02-05T08:32:24.535Z"
   },
   {
    "duration": 26,
    "start_time": "2022-02-05T08:32:24.547Z"
   },
   {
    "duration": 18,
    "start_time": "2022-02-05T08:32:24.574Z"
   },
   {
    "duration": 21,
    "start_time": "2022-02-05T08:32:31.155Z"
   },
   {
    "duration": 10,
    "start_time": "2022-02-05T08:32:38.577Z"
   },
   {
    "duration": 263,
    "start_time": "2022-02-05T08:32:42.838Z"
   },
   {
    "duration": 368,
    "start_time": "2022-02-05T08:32:52.143Z"
   },
   {
    "duration": 81,
    "start_time": "2022-02-05T08:32:52.513Z"
   },
   {
    "duration": 89,
    "start_time": "2022-02-05T08:32:52.596Z"
   },
   {
    "duration": 57,
    "start_time": "2022-02-05T08:32:52.688Z"
   },
   {
    "duration": 64,
    "start_time": "2022-02-05T08:32:52.747Z"
   },
   {
    "duration": 8,
    "start_time": "2022-02-05T08:32:52.813Z"
   },
   {
    "duration": 20,
    "start_time": "2022-02-05T08:32:52.823Z"
   },
   {
    "duration": 38,
    "start_time": "2022-02-05T08:32:52.844Z"
   },
   {
    "duration": 14,
    "start_time": "2022-02-05T08:32:52.884Z"
   },
   {
    "duration": 27,
    "start_time": "2022-02-05T08:32:52.900Z"
   },
   {
    "duration": 8,
    "start_time": "2022-02-05T08:32:52.929Z"
   },
   {
    "duration": 283,
    "start_time": "2022-02-05T08:32:52.972Z"
   },
   {
    "duration": 23,
    "start_time": "2022-02-05T08:32:53.256Z"
   },
   {
    "duration": 12,
    "start_time": "2022-02-05T08:32:53.280Z"
   },
   {
    "duration": 14,
    "start_time": "2022-02-05T08:32:53.294Z"
   },
   {
    "duration": 39,
    "start_time": "2022-02-05T08:32:53.309Z"
   },
   {
    "duration": 20,
    "start_time": "2022-02-05T08:32:53.349Z"
   },
   {
    "duration": 709,
    "start_time": "2022-02-05T08:32:53.371Z"
   },
   {
    "duration": 39,
    "start_time": "2022-02-05T08:32:54.081Z"
   },
   {
    "duration": 946,
    "start_time": "2022-02-05T08:32:54.121Z"
   },
   {
    "duration": 284,
    "start_time": "2022-02-05T08:32:55.071Z"
   },
   {
    "duration": 245,
    "start_time": "2022-02-05T08:32:55.356Z"
   },
   {
    "duration": 272,
    "start_time": "2022-02-05T08:32:55.603Z"
   },
   {
    "duration": 10,
    "start_time": "2022-02-05T08:32:55.876Z"
   },
   {
    "duration": 11,
    "start_time": "2022-02-05T08:32:55.887Z"
   },
   {
    "duration": 11,
    "start_time": "2022-02-05T08:32:55.899Z"
   },
   {
    "duration": 311,
    "start_time": "2022-02-05T08:33:05.261Z"
   },
   {
    "duration": 17,
    "start_time": "2022-02-05T08:33:51.867Z"
   },
   {
    "duration": 290,
    "start_time": "2022-02-05T08:33:55.646Z"
   },
   {
    "duration": 373,
    "start_time": "2022-02-05T08:33:59.018Z"
   },
   {
    "duration": 97,
    "start_time": "2022-02-05T08:33:59.393Z"
   },
   {
    "duration": 92,
    "start_time": "2022-02-05T08:33:59.492Z"
   },
   {
    "duration": 59,
    "start_time": "2022-02-05T08:33:59.586Z"
   },
   {
    "duration": 64,
    "start_time": "2022-02-05T08:33:59.647Z"
   },
   {
    "duration": 11,
    "start_time": "2022-02-05T08:33:59.713Z"
   },
   {
    "duration": 47,
    "start_time": "2022-02-05T08:33:59.726Z"
   },
   {
    "duration": 20,
    "start_time": "2022-02-05T08:33:59.775Z"
   },
   {
    "duration": 17,
    "start_time": "2022-02-05T08:33:59.798Z"
   },
   {
    "duration": 62,
    "start_time": "2022-02-05T08:33:59.818Z"
   },
   {
    "duration": 8,
    "start_time": "2022-02-05T08:33:59.882Z"
   },
   {
    "duration": 289,
    "start_time": "2022-02-05T08:33:59.892Z"
   },
   {
    "duration": 13,
    "start_time": "2022-02-05T08:34:00.183Z"
   },
   {
    "duration": 12,
    "start_time": "2022-02-05T08:34:00.198Z"
   },
   {
    "duration": 11,
    "start_time": "2022-02-05T08:34:00.211Z"
   },
   {
    "duration": 16,
    "start_time": "2022-02-05T08:34:00.224Z"
   },
   {
    "duration": 34,
    "start_time": "2022-02-05T08:34:00.241Z"
   },
   {
    "duration": 899,
    "start_time": "2022-02-05T08:34:00.277Z"
   },
   {
    "duration": 42,
    "start_time": "2022-02-05T08:34:01.178Z"
   },
   {
    "duration": 942,
    "start_time": "2022-02-05T08:34:01.221Z"
   },
   {
    "duration": 375,
    "start_time": "2022-02-05T08:34:02.164Z"
   },
   {
    "duration": 252,
    "start_time": "2022-02-05T08:34:02.540Z"
   },
   {
    "duration": 273,
    "start_time": "2022-02-05T08:34:02.794Z"
   },
   {
    "duration": 10,
    "start_time": "2022-02-05T08:34:03.072Z"
   },
   {
    "duration": 12,
    "start_time": "2022-02-05T08:34:03.083Z"
   },
   {
    "duration": 14,
    "start_time": "2022-02-05T08:34:03.096Z"
   },
   {
    "duration": 366,
    "start_time": "2022-02-05T08:34:19.299Z"
   },
   {
    "duration": 111,
    "start_time": "2022-02-05T08:34:19.666Z"
   },
   {
    "duration": 69,
    "start_time": "2022-02-05T08:34:19.779Z"
   },
   {
    "duration": 78,
    "start_time": "2022-02-05T08:34:19.850Z"
   },
   {
    "duration": 61,
    "start_time": "2022-02-05T08:34:19.929Z"
   },
   {
    "duration": 8,
    "start_time": "2022-02-05T08:34:19.992Z"
   },
   {
    "duration": 21,
    "start_time": "2022-02-05T08:34:20.001Z"
   },
   {
    "duration": 18,
    "start_time": "2022-02-05T08:34:20.024Z"
   },
   {
    "duration": 39,
    "start_time": "2022-02-05T08:34:20.044Z"
   },
   {
    "duration": 27,
    "start_time": "2022-02-05T08:34:20.085Z"
   },
   {
    "duration": 9,
    "start_time": "2022-02-05T08:34:20.114Z"
   },
   {
    "duration": 298,
    "start_time": "2022-02-05T08:34:20.125Z"
   },
   {
    "duration": 13,
    "start_time": "2022-02-05T08:34:20.424Z"
   },
   {
    "duration": 32,
    "start_time": "2022-02-05T08:34:20.439Z"
   },
   {
    "duration": 7,
    "start_time": "2022-02-05T08:34:20.473Z"
   },
   {
    "duration": 14,
    "start_time": "2022-02-05T08:34:20.481Z"
   },
   {
    "duration": 8,
    "start_time": "2022-02-05T08:34:20.497Z"
   },
   {
    "duration": 727,
    "start_time": "2022-02-05T08:34:20.506Z"
   },
   {
    "duration": 53,
    "start_time": "2022-02-05T08:34:21.234Z"
   },
   {
    "duration": 849,
    "start_time": "2022-02-05T08:34:21.288Z"
   },
   {
    "duration": 271,
    "start_time": "2022-02-05T08:34:22.138Z"
   },
   {
    "duration": 241,
    "start_time": "2022-02-05T08:34:22.411Z"
   },
   {
    "duration": 278,
    "start_time": "2022-02-05T08:34:22.654Z"
   },
   {
    "duration": 10,
    "start_time": "2022-02-05T08:34:22.933Z"
   },
   {
    "duration": 28,
    "start_time": "2022-02-05T08:34:22.944Z"
   },
   {
    "duration": 14,
    "start_time": "2022-02-05T08:34:22.973Z"
   },
   {
    "duration": 10,
    "start_time": "2022-02-05T08:34:40.410Z"
   },
   {
    "duration": 20,
    "start_time": "2022-02-05T08:34:43.604Z"
   },
   {
    "duration": 22,
    "start_time": "2022-02-05T08:34:50.448Z"
   },
   {
    "duration": 24,
    "start_time": "2022-02-05T08:34:53.356Z"
   },
   {
    "duration": 24,
    "start_time": "2022-02-05T08:34:55.155Z"
   },
   {
    "duration": 229,
    "start_time": "2022-02-05T08:35:11.751Z"
   },
   {
    "duration": 23,
    "start_time": "2022-02-05T08:35:53.506Z"
   },
   {
    "duration": 28,
    "start_time": "2022-02-05T08:35:56.108Z"
   },
   {
    "duration": 17,
    "start_time": "2022-02-05T08:36:33.564Z"
   },
   {
    "duration": 18,
    "start_time": "2022-02-05T08:36:36.278Z"
   },
   {
    "duration": 371,
    "start_time": "2022-02-05T08:36:54.667Z"
   },
   {
    "duration": 80,
    "start_time": "2022-02-05T08:36:55.040Z"
   },
   {
    "duration": 105,
    "start_time": "2022-02-05T08:36:55.122Z"
   },
   {
    "duration": 65,
    "start_time": "2022-02-05T08:36:55.229Z"
   },
   {
    "duration": 42,
    "start_time": "2022-02-05T08:36:55.296Z"
   },
   {
    "duration": 33,
    "start_time": "2022-02-05T08:36:55.340Z"
   },
   {
    "duration": 21,
    "start_time": "2022-02-05T08:36:55.375Z"
   },
   {
    "duration": 19,
    "start_time": "2022-02-05T08:36:55.398Z"
   },
   {
    "duration": 56,
    "start_time": "2022-02-05T08:36:55.420Z"
   },
   {
    "duration": 30,
    "start_time": "2022-02-05T08:36:55.479Z"
   },
   {
    "duration": 10,
    "start_time": "2022-02-05T08:36:55.510Z"
   },
   {
    "duration": 529,
    "start_time": "2022-02-05T08:36:55.522Z"
   },
   {
    "duration": 29,
    "start_time": "2022-02-05T08:36:56.053Z"
   },
   {
    "duration": 13,
    "start_time": "2022-02-05T08:36:56.084Z"
   },
   {
    "duration": 9,
    "start_time": "2022-02-05T08:36:56.099Z"
   },
   {
    "duration": 16,
    "start_time": "2022-02-05T08:36:56.109Z"
   },
   {
    "duration": 5,
    "start_time": "2022-02-05T08:36:56.127Z"
   },
   {
    "duration": 744,
    "start_time": "2022-02-05T08:36:56.134Z"
   },
   {
    "duration": 42,
    "start_time": "2022-02-05T08:36:56.879Z"
   },
   {
    "duration": 911,
    "start_time": "2022-02-05T08:36:56.923Z"
   },
   {
    "duration": 317,
    "start_time": "2022-02-05T08:36:57.835Z"
   },
   {
    "duration": 260,
    "start_time": "2022-02-05T08:36:58.154Z"
   },
   {
    "duration": 276,
    "start_time": "2022-02-05T08:36:58.416Z"
   },
   {
    "duration": 12,
    "start_time": "2022-02-05T08:36:58.694Z"
   },
   {
    "duration": 11,
    "start_time": "2022-02-05T08:36:58.707Z"
   },
   {
    "duration": 55,
    "start_time": "2022-02-05T08:36:58.719Z"
   },
   {
    "duration": 372,
    "start_time": "2022-02-05T08:37:41.844Z"
   },
   {
    "duration": 76,
    "start_time": "2022-02-05T08:37:42.218Z"
   },
   {
    "duration": 92,
    "start_time": "2022-02-05T08:37:42.296Z"
   },
   {
    "duration": 53,
    "start_time": "2022-02-05T08:37:42.390Z"
   },
   {
    "duration": 60,
    "start_time": "2022-02-05T08:37:42.445Z"
   },
   {
    "duration": 8,
    "start_time": "2022-02-05T08:37:42.507Z"
   },
   {
    "duration": 38,
    "start_time": "2022-02-05T08:37:42.517Z"
   },
   {
    "duration": 20,
    "start_time": "2022-02-05T08:37:42.556Z"
   },
   {
    "duration": 13,
    "start_time": "2022-02-05T08:37:42.578Z"
   },
   {
    "duration": 34,
    "start_time": "2022-02-05T08:37:42.593Z"
   },
   {
    "duration": 9,
    "start_time": "2022-02-05T08:37:42.628Z"
   },
   {
    "duration": 286,
    "start_time": "2022-02-05T08:37:42.638Z"
   },
   {
    "duration": 13,
    "start_time": "2022-02-05T08:37:42.926Z"
   },
   {
    "duration": 21,
    "start_time": "2022-02-05T08:37:42.941Z"
   },
   {
    "duration": 19,
    "start_time": "2022-02-05T08:37:42.963Z"
   },
   {
    "duration": 28,
    "start_time": "2022-02-05T08:37:42.984Z"
   },
   {
    "duration": 5,
    "start_time": "2022-02-05T08:37:43.014Z"
   },
   {
    "duration": 697,
    "start_time": "2022-02-05T08:37:43.020Z"
   },
   {
    "duration": 39,
    "start_time": "2022-02-05T08:37:43.718Z"
   },
   {
    "duration": 877,
    "start_time": "2022-02-05T08:37:43.759Z"
   },
   {
    "duration": 281,
    "start_time": "2022-02-05T08:37:44.638Z"
   },
   {
    "duration": 254,
    "start_time": "2022-02-05T08:37:44.920Z"
   },
   {
    "duration": 265,
    "start_time": "2022-02-05T08:37:45.175Z"
   },
   {
    "duration": 9,
    "start_time": "2022-02-05T08:37:45.441Z"
   },
   {
    "duration": 28,
    "start_time": "2022-02-05T08:37:45.452Z"
   },
   {
    "duration": 242,
    "start_time": "2022-02-05T08:37:45.481Z"
   },
   {
    "duration": 6427,
    "start_time": "2022-02-05T08:41:13.142Z"
   },
   {
    "duration": 5,
    "start_time": "2022-02-05T08:41:36.093Z"
   },
   {
    "duration": 14,
    "start_time": "2022-02-05T08:42:13.160Z"
   },
   {
    "duration": 13,
    "start_time": "2022-02-05T08:43:34.108Z"
   },
   {
    "duration": 25,
    "start_time": "2022-02-05T08:44:34.703Z"
   },
   {
    "duration": 18,
    "start_time": "2022-02-05T08:44:38.459Z"
   },
   {
    "duration": 10,
    "start_time": "2022-02-05T08:44:45.325Z"
   },
   {
    "duration": 13,
    "start_time": "2022-02-05T08:44:49.460Z"
   },
   {
    "duration": 14,
    "start_time": "2022-02-05T08:44:57.213Z"
   },
   {
    "duration": 13,
    "start_time": "2022-02-05T08:45:15.701Z"
   },
   {
    "duration": 13,
    "start_time": "2022-02-05T08:45:24.481Z"
   },
   {
    "duration": 14,
    "start_time": "2022-02-05T08:45:27.383Z"
   },
   {
    "duration": 13,
    "start_time": "2022-02-05T08:45:50.380Z"
   },
   {
    "duration": 14,
    "start_time": "2022-02-05T08:46:00.998Z"
   },
   {
    "duration": 13,
    "start_time": "2022-02-05T08:46:19.748Z"
   },
   {
    "duration": 13,
    "start_time": "2022-02-05T08:46:42.442Z"
   },
   {
    "duration": 16,
    "start_time": "2022-02-05T08:46:45.657Z"
   },
   {
    "duration": 336,
    "start_time": "2022-02-05T08:48:17.393Z"
   },
   {
    "duration": 357,
    "start_time": "2022-02-05T08:48:21.050Z"
   },
   {
    "duration": 81,
    "start_time": "2022-02-05T08:48:21.408Z"
   },
   {
    "duration": 89,
    "start_time": "2022-02-05T08:48:21.491Z"
   },
   {
    "duration": 55,
    "start_time": "2022-02-05T08:48:21.582Z"
   },
   {
    "duration": 60,
    "start_time": "2022-02-05T08:48:21.639Z"
   },
   {
    "duration": 8,
    "start_time": "2022-02-05T08:48:21.700Z"
   },
   {
    "duration": 19,
    "start_time": "2022-02-05T08:48:21.709Z"
   },
   {
    "duration": 44,
    "start_time": "2022-02-05T08:48:21.729Z"
   },
   {
    "duration": 14,
    "start_time": "2022-02-05T08:48:21.776Z"
   },
   {
    "duration": 28,
    "start_time": "2022-02-05T08:48:21.792Z"
   },
   {
    "duration": 8,
    "start_time": "2022-02-05T08:48:21.822Z"
   },
   {
    "duration": 303,
    "start_time": "2022-02-05T08:48:21.831Z"
   },
   {
    "duration": 13,
    "start_time": "2022-02-05T08:48:22.135Z"
   },
   {
    "duration": 23,
    "start_time": "2022-02-05T08:48:22.149Z"
   },
   {
    "duration": 9,
    "start_time": "2022-02-05T08:48:22.174Z"
   },
   {
    "duration": 16,
    "start_time": "2022-02-05T08:48:22.184Z"
   },
   {
    "duration": 5,
    "start_time": "2022-02-05T08:48:22.201Z"
   },
   {
    "duration": 718,
    "start_time": "2022-02-05T08:48:22.207Z"
   },
   {
    "duration": 46,
    "start_time": "2022-02-05T08:48:22.927Z"
   },
   {
    "duration": 920,
    "start_time": "2022-02-05T08:48:22.975Z"
   },
   {
    "duration": 287,
    "start_time": "2022-02-05T08:48:23.897Z"
   },
   {
    "duration": 241,
    "start_time": "2022-02-05T08:48:24.185Z"
   },
   {
    "duration": 289,
    "start_time": "2022-02-05T08:48:24.427Z"
   },
   {
    "duration": 9,
    "start_time": "2022-02-05T08:48:24.718Z"
   },
   {
    "duration": 12,
    "start_time": "2022-02-05T08:48:24.729Z"
   },
   {
    "duration": 35,
    "start_time": "2022-02-05T08:48:24.742Z"
   },
   {
    "duration": 14,
    "start_time": "2022-02-05T08:48:24.780Z"
   },
   {
    "duration": 362,
    "start_time": "2022-02-05T08:48:34.476Z"
   },
   {
    "duration": 82,
    "start_time": "2022-02-05T08:48:34.839Z"
   },
   {
    "duration": 97,
    "start_time": "2022-02-05T08:48:34.922Z"
   },
   {
    "duration": 67,
    "start_time": "2022-02-05T08:48:35.020Z"
   },
   {
    "duration": 40,
    "start_time": "2022-02-05T08:48:35.089Z"
   },
   {
    "duration": 8,
    "start_time": "2022-02-05T08:48:35.131Z"
   },
   {
    "duration": 50,
    "start_time": "2022-02-05T08:48:35.141Z"
   },
   {
    "duration": 17,
    "start_time": "2022-02-05T08:48:35.192Z"
   },
   {
    "duration": 15,
    "start_time": "2022-02-05T08:48:35.211Z"
   },
   {
    "duration": 48,
    "start_time": "2022-02-05T08:48:35.228Z"
   },
   {
    "duration": 9,
    "start_time": "2022-02-05T08:48:35.277Z"
   },
   {
    "duration": 280,
    "start_time": "2022-02-05T08:48:35.287Z"
   },
   {
    "duration": 15,
    "start_time": "2022-02-05T08:48:35.568Z"
   },
   {
    "duration": 15,
    "start_time": "2022-02-05T08:48:35.585Z"
   },
   {
    "duration": 8,
    "start_time": "2022-02-05T08:48:35.602Z"
   },
   {
    "duration": 14,
    "start_time": "2022-02-05T08:48:35.612Z"
   },
   {
    "duration": 46,
    "start_time": "2022-02-05T08:48:35.627Z"
   },
   {
    "duration": 703,
    "start_time": "2022-02-05T08:48:35.675Z"
   },
   {
    "duration": 40,
    "start_time": "2022-02-05T08:48:36.379Z"
   },
   {
    "duration": 935,
    "start_time": "2022-02-05T08:48:36.420Z"
   },
   {
    "duration": 276,
    "start_time": "2022-02-05T08:48:37.357Z"
   },
   {
    "duration": 240,
    "start_time": "2022-02-05T08:48:37.634Z"
   },
   {
    "duration": 270,
    "start_time": "2022-02-05T08:48:37.876Z"
   },
   {
    "duration": 9,
    "start_time": "2022-02-05T08:48:38.147Z"
   },
   {
    "duration": 21,
    "start_time": "2022-02-05T08:48:38.157Z"
   },
   {
    "duration": 14,
    "start_time": "2022-02-05T08:48:38.179Z"
   },
   {
    "duration": 13,
    "start_time": "2022-02-05T08:48:38.196Z"
   },
   {
    "duration": 1538,
    "start_time": "2022-02-12T14:23:43.544Z"
   },
   {
    "duration": 126,
    "start_time": "2022-02-12T14:23:45.085Z"
   },
   {
    "duration": 95,
    "start_time": "2022-02-12T14:23:45.213Z"
   },
   {
    "duration": 66,
    "start_time": "2022-02-12T14:23:45.310Z"
   },
   {
    "duration": 70,
    "start_time": "2022-02-12T14:23:45.378Z"
   },
   {
    "duration": 12,
    "start_time": "2022-02-12T14:23:45.450Z"
   },
   {
    "duration": 57,
    "start_time": "2022-02-12T14:23:45.464Z"
   },
   {
    "duration": 21,
    "start_time": "2022-02-12T14:23:45.522Z"
   },
   {
    "duration": 16,
    "start_time": "2022-02-12T14:23:45.546Z"
   },
   {
    "duration": 59,
    "start_time": "2022-02-12T14:23:45.565Z"
   },
   {
    "duration": 10,
    "start_time": "2022-02-12T14:23:45.626Z"
   },
   {
    "duration": 330,
    "start_time": "2022-02-12T14:23:45.638Z"
   },
   {
    "duration": 16,
    "start_time": "2022-02-12T14:23:45.970Z"
   },
   {
    "duration": 35,
    "start_time": "2022-02-12T14:23:45.988Z"
   },
   {
    "duration": 11,
    "start_time": "2022-02-12T14:23:46.025Z"
   },
   {
    "duration": 21,
    "start_time": "2022-02-12T14:23:46.038Z"
   },
   {
    "duration": 7,
    "start_time": "2022-02-12T14:23:46.061Z"
   },
   {
    "duration": 858,
    "start_time": "2022-02-12T14:23:46.070Z"
   },
   {
    "duration": 47,
    "start_time": "2022-02-12T14:23:46.930Z"
   },
   {
    "duration": 970,
    "start_time": "2022-02-12T14:23:46.979Z"
   },
   {
    "duration": 334,
    "start_time": "2022-02-12T14:23:47.951Z"
   },
   {
    "duration": 377,
    "start_time": "2022-02-12T14:23:48.287Z"
   },
   {
    "duration": 340,
    "start_time": "2022-02-12T14:23:48.666Z"
   },
   {
    "duration": 10,
    "start_time": "2022-02-12T14:23:49.008Z"
   },
   {
    "duration": 17,
    "start_time": "2022-02-12T14:23:49.020Z"
   },
   {
    "duration": 18,
    "start_time": "2022-02-12T14:23:49.039Z"
   },
   {
    "duration": 47,
    "start_time": "2022-02-12T14:23:49.061Z"
   },
   {
    "duration": 352,
    "start_time": "2022-02-12T14:57:21.916Z"
   },
   {
    "duration": 5,
    "start_time": "2022-02-12T14:57:24.128Z"
   },
   {
    "duration": 6,
    "start_time": "2022-02-12T14:57:31.101Z"
   },
   {
    "duration": 9,
    "start_time": "2022-02-12T14:57:48.550Z"
   },
   {
    "duration": 11,
    "start_time": "2022-02-12T14:59:17.689Z"
   },
   {
    "duration": 74,
    "start_time": "2022-02-13T17:39:46.599Z"
   },
   {
    "duration": 1575,
    "start_time": "2022-02-14T08:56:07.339Z"
   },
   {
    "duration": 443,
    "start_time": "2022-02-14T08:56:11.553Z"
   },
   {
    "duration": 91,
    "start_time": "2022-02-14T13:56:23.326Z"
   },
   {
    "duration": 11,
    "start_time": "2022-02-14T13:56:25.596Z"
   },
   {
    "duration": 845,
    "start_time": "2022-02-14T13:56:28.113Z"
   },
   {
    "duration": 244,
    "start_time": "2022-02-14T13:56:28.961Z"
   },
   {
    "duration": 135,
    "start_time": "2022-02-14T13:56:29.207Z"
   },
   {
    "duration": 171,
    "start_time": "2022-02-14T13:56:29.344Z"
   },
   {
    "duration": 102,
    "start_time": "2022-02-14T13:56:29.517Z"
   },
   {
    "duration": 9,
    "start_time": "2022-02-14T13:56:29.621Z"
   },
   {
    "duration": 83,
    "start_time": "2022-02-14T13:56:29.632Z"
   },
   {
    "duration": 20,
    "start_time": "2022-02-14T13:56:29.717Z"
   },
   {
    "duration": 74,
    "start_time": "2022-02-14T13:56:29.739Z"
   },
   {
    "duration": 91,
    "start_time": "2022-02-14T13:56:29.815Z"
   },
   {
    "duration": 4,
    "start_time": "2022-02-14T13:56:29.908Z"
   },
   {
    "duration": 8,
    "start_time": "2022-02-14T13:56:29.914Z"
   },
   {
    "duration": 75,
    "start_time": "2022-02-14T13:56:29.924Z"
   },
   {
    "duration": 616,
    "start_time": "2022-02-14T13:56:30.001Z"
   },
   {
    "duration": 9,
    "start_time": "2022-02-14T13:56:30.619Z"
   },
   {
    "duration": 83,
    "start_time": "2022-02-14T13:56:30.629Z"
   },
   {
    "duration": 14,
    "start_time": "2022-02-14T13:56:30.714Z"
   },
   {
    "duration": 73,
    "start_time": "2022-02-14T13:56:30.730Z"
   },
   {
    "duration": 27,
    "start_time": "2022-02-14T13:56:30.805Z"
   },
   {
    "duration": 65,
    "start_time": "2022-02-14T13:56:30.834Z"
   },
   {
    "duration": 1928,
    "start_time": "2022-02-14T13:56:30.901Z"
   },
   {
    "duration": 169,
    "start_time": "2022-02-14T13:56:32.832Z"
   },
   {
    "duration": 9,
    "start_time": "2022-02-14T13:56:33.004Z"
   },
   {
    "duration": 1796,
    "start_time": "2022-02-14T13:56:33.015Z"
   },
   {
    "duration": 892,
    "start_time": "2022-02-14T13:56:34.812Z"
   },
   {
    "duration": 812,
    "start_time": "2022-02-14T13:56:35.706Z"
   },
   {
    "duration": 779,
    "start_time": "2022-02-14T13:56:36.519Z"
   },
   {
    "duration": 9,
    "start_time": "2022-02-14T13:56:37.301Z"
   },
   {
    "duration": 22,
    "start_time": "2022-02-14T13:56:37.312Z"
   },
   {
    "duration": 72,
    "start_time": "2022-02-14T13:56:37.337Z"
   },
   {
    "duration": 16,
    "start_time": "2022-02-14T13:56:37.411Z"
   },
   {
    "duration": 1609,
    "start_time": "2022-02-18T14:51:41.314Z"
   },
   {
    "duration": 123,
    "start_time": "2022-02-18T14:51:42.924Z"
   },
   {
    "duration": 114,
    "start_time": "2022-02-18T14:51:43.050Z"
   },
   {
    "duration": 77,
    "start_time": "2022-02-18T14:51:43.166Z"
   },
   {
    "duration": 46,
    "start_time": "2022-02-18T14:51:43.245Z"
   },
   {
    "duration": 33,
    "start_time": "2022-02-18T14:51:43.293Z"
   },
   {
    "duration": 37,
    "start_time": "2022-02-18T14:51:43.328Z"
   },
   {
    "duration": 29,
    "start_time": "2022-02-18T14:51:43.368Z"
   },
   {
    "duration": 40,
    "start_time": "2022-02-18T14:51:43.399Z"
   },
   {
    "duration": 35,
    "start_time": "2022-02-18T14:51:43.441Z"
   },
   {
    "duration": 5,
    "start_time": "2022-02-18T14:51:43.478Z"
   },
   {
    "duration": 35,
    "start_time": "2022-02-18T14:51:43.485Z"
   },
   {
    "duration": 12,
    "start_time": "2022-02-18T14:51:43.521Z"
   },
   {
    "duration": 324,
    "start_time": "2022-02-18T14:51:43.535Z"
   },
   {
    "duration": 8,
    "start_time": "2022-02-18T14:51:43.861Z"
   },
   {
    "duration": 16,
    "start_time": "2022-02-18T14:51:43.871Z"
   },
   {
    "duration": 39,
    "start_time": "2022-02-18T14:51:43.888Z"
   },
   {
    "duration": 7,
    "start_time": "2022-02-18T14:51:43.929Z"
   },
   {
    "duration": 23,
    "start_time": "2022-02-18T14:51:43.938Z"
   },
   {
    "duration": 8,
    "start_time": "2022-02-18T14:51:43.963Z"
   },
   {
    "duration": 835,
    "start_time": "2022-02-18T14:51:43.973Z"
   },
   {
    "duration": 48,
    "start_time": "2022-02-18T14:51:44.809Z"
   },
   {
    "duration": 8,
    "start_time": "2022-02-18T14:51:44.861Z"
   },
   {
    "duration": 1019,
    "start_time": "2022-02-18T14:51:44.872Z"
   },
   {
    "duration": 327,
    "start_time": "2022-02-18T14:51:45.893Z"
   },
   {
    "duration": 358,
    "start_time": "2022-02-18T14:51:46.222Z"
   },
   {
    "duration": 311,
    "start_time": "2022-02-18T14:51:46.582Z"
   },
   {
    "duration": 8,
    "start_time": "2022-02-18T14:51:46.894Z"
   },
   {
    "duration": 22,
    "start_time": "2022-02-18T14:51:46.904Z"
   },
   {
    "duration": 17,
    "start_time": "2022-02-18T14:51:46.927Z"
   },
   {
    "duration": 16,
    "start_time": "2022-02-18T14:51:46.946Z"
   },
   {
    "duration": 20,
    "start_time": "2022-02-18T14:51:46.964Z"
   },
   {
    "duration": 2202,
    "start_time": "2023-03-07T11:54:18.042Z"
   },
   {
    "duration": 122,
    "start_time": "2023-03-07T11:54:32.490Z"
   },
   {
    "duration": 108,
    "start_time": "2023-03-07T11:55:02.850Z"
   },
   {
    "duration": 69,
    "start_time": "2023-03-07T11:55:16.125Z"
   },
   {
    "duration": 1428,
    "start_time": "2023-03-07T11:57:15.874Z"
   },
   {
    "duration": 96,
    "start_time": "2023-03-07T11:57:17.304Z"
   },
   {
    "duration": 91,
    "start_time": "2023-03-07T11:57:17.401Z"
   },
   {
    "duration": 70,
    "start_time": "2023-03-07T11:57:17.493Z"
   },
   {
    "duration": 43,
    "start_time": "2023-03-07T11:57:17.564Z"
   },
   {
    "duration": 11,
    "start_time": "2023-03-07T11:57:17.609Z"
   },
   {
    "duration": 34,
    "start_time": "2023-03-07T11:57:17.621Z"
   },
   {
    "duration": 17,
    "start_time": "2023-03-07T11:57:17.657Z"
   },
   {
    "duration": 15,
    "start_time": "2023-03-07T11:57:17.675Z"
   },
   {
    "duration": 57,
    "start_time": "2023-03-07T11:57:17.693Z"
   },
   {
    "duration": 4,
    "start_time": "2023-03-07T11:57:17.751Z"
   },
   {
    "duration": 5,
    "start_time": "2023-03-07T11:57:17.757Z"
   },
   {
    "duration": 18,
    "start_time": "2023-03-07T11:57:17.764Z"
   },
   {
    "duration": 240,
    "start_time": "2023-03-07T11:57:17.784Z"
   },
   {
    "duration": 14,
    "start_time": "2023-03-07T11:57:18.026Z"
   },
   {
    "duration": 13,
    "start_time": "2023-03-07T11:57:18.042Z"
   },
   {
    "duration": 17,
    "start_time": "2023-03-07T11:57:18.056Z"
   },
   {
    "duration": 7,
    "start_time": "2023-03-07T11:57:18.074Z"
   },
   {
    "duration": 17,
    "start_time": "2023-03-07T11:57:18.082Z"
   },
   {
    "duration": 4,
    "start_time": "2023-03-07T11:57:18.101Z"
   },
   {
    "duration": 574,
    "start_time": "2023-03-07T11:57:18.106Z"
   },
   {
    "duration": 41,
    "start_time": "2023-03-07T11:57:18.682Z"
   },
   {
    "duration": 18,
    "start_time": "2023-03-07T11:57:18.725Z"
   },
   {
    "duration": 797,
    "start_time": "2023-03-07T11:57:18.745Z"
   },
   {
    "duration": 235,
    "start_time": "2023-03-07T11:57:19.544Z"
   },
   {
    "duration": 207,
    "start_time": "2023-03-07T11:57:19.780Z"
   },
   {
    "duration": 290,
    "start_time": "2023-03-07T11:57:19.989Z"
   },
   {
    "duration": 7,
    "start_time": "2023-03-07T11:57:20.282Z"
   },
   {
    "duration": 11,
    "start_time": "2023-03-07T11:57:20.290Z"
   },
   {
    "duration": 12,
    "start_time": "2023-03-07T11:57:20.302Z"
   },
   {
    "duration": 30,
    "start_time": "2023-03-07T11:57:20.315Z"
   },
   {
    "duration": 12,
    "start_time": "2023-03-07T11:57:20.346Z"
   }
  ],
  "kernelspec": {
   "display_name": "Python 3 (ipykernel)",
   "language": "python",
   "name": "python3"
  },
  "language_info": {
   "codemirror_mode": {
    "name": "ipython",
    "version": 3
   },
   "file_extension": ".py",
   "mimetype": "text/x-python",
   "name": "python",
   "nbconvert_exporter": "python",
   "pygments_lexer": "ipython3",
   "version": "3.9.5"
  },
  "toc": {
   "base_numbering": 1,
   "nav_menu": {},
   "number_sections": true,
   "sideBar": true,
   "skip_h1_title": true,
   "title_cell": "Table of Contents",
   "title_sidebar": "Contents",
   "toc_cell": false,
   "toc_position": {
    "height": "calc(100% - 180px)",
    "left": "10px",
    "top": "150px",
    "width": "273.188px"
   },
   "toc_section_display": true,
   "toc_window_display": true
  }
 },
 "nbformat": 4,
 "nbformat_minor": 2
}
