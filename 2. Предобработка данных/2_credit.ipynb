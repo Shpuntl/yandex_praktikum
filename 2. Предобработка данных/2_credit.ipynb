{
 "cells": [
  {
   "cell_type": "markdown",
   "metadata": {},
   "source": [
    "# Исследование надёжности заёмщиков\n",
    "\n",
    "Заказчик — кредитный отдел банка. Нужно разобраться, влияет ли семейное положение и количество детей клиента на факт погашения кредита в срок. Входные данные от банка — статистика о платёжеспособности клиентов.\n",
    "\n",
    "Результаты исследования будут учтены при построении модели **кредитного скоринга** — специальной системы, которая оценивает способность потенциального заёмщика вернуть кредит банку.\n",
    "\n",
    "**Цель исследования** - ответить на 4 вопроса:\n",
    "1. Есть ли зависимость между наличием детей и возвратом кредита в срок?\n",
    "2. Есть ли зависимость между семейным положением и возвратом кредита в срок?\n",
    "3. Есть ли зависимость между уровнем дохода и возвратом кредита в срок?\n",
    "4. Как разные цели кредита влияют на его возврат в срок?\n",
    "\n",
    "**Ход исследования**\n",
    "Исследование пройдет в 3 этапа:\n",
    "1. Обзор данных.\n",
    "2. Предобработка данных.\n",
    "3. Ответы на вопросы.\n",
    "\n",
    "**Описание данных**\n",
    "* `children` — количество детей в семье\n",
    "* `days_employed` — общий трудовой стаж в днях\n",
    "* `dob_years` — возраст клиента в годах\n",
    "* `education` — уровень образования клиента\n",
    "* `education_id` — идентификатор уровня образования\n",
    "* `family_status` — семейное положение\n",
    "* `family_status_id` — идентификатор семейного положения\n",
    "* `gender` — пол клиента\n",
    "* `income_type` — тип занятости\n",
    "* `debt` — имел ли задолженность по возврату кредитов\n",
    "* `total_income` — ежемесячный доход\n",
    "* `purpose` — цель получения кредита"
   ]
  },
  {
   "cell_type": "markdown",
   "metadata": {},
   "source": [
    "## Чтение файла с данными и изучение общей информации"
   ]
  },
  {
   "cell_type": "code",
   "execution_count": 1,
   "metadata": {},
   "outputs": [
    {
     "name": "stdout",
     "output_type": "stream",
     "text": [
      "<class 'pandas.core.frame.DataFrame'>\n",
      "RangeIndex: 21525 entries, 0 to 21524\n",
      "Data columns (total 12 columns):\n",
      " #   Column            Non-Null Count  Dtype  \n",
      "---  ------            --------------  -----  \n",
      " 0   children          21525 non-null  int64  \n",
      " 1   days_employed     19351 non-null  float64\n",
      " 2   dob_years         21525 non-null  int64  \n",
      " 3   education         21525 non-null  object \n",
      " 4   education_id      21525 non-null  int64  \n",
      " 5   family_status     21525 non-null  object \n",
      " 6   family_status_id  21525 non-null  int64  \n",
      " 7   gender            21525 non-null  object \n",
      " 8   income_type       21525 non-null  object \n",
      " 9   debt              21525 non-null  int64  \n",
      " 10  total_income      19351 non-null  float64\n",
      " 11  purpose           21525 non-null  object \n",
      "dtypes: float64(2), int64(5), object(5)\n",
      "memory usage: 2.0+ MB\n"
     ]
    },
    {
     "data": {
      "text/html": [
       "<div>\n",
       "<style scoped>\n",
       "    .dataframe tbody tr th:only-of-type {\n",
       "        vertical-align: middle;\n",
       "    }\n",
       "\n",
       "    .dataframe tbody tr th {\n",
       "        vertical-align: top;\n",
       "    }\n",
       "\n",
       "    .dataframe thead th {\n",
       "        text-align: right;\n",
       "    }\n",
       "</style>\n",
       "<table border=\"1\" class=\"dataframe\">\n",
       "  <thead>\n",
       "    <tr style=\"text-align: right;\">\n",
       "      <th></th>\n",
       "      <th>children</th>\n",
       "      <th>days_employed</th>\n",
       "      <th>dob_years</th>\n",
       "      <th>education</th>\n",
       "      <th>education_id</th>\n",
       "      <th>family_status</th>\n",
       "      <th>family_status_id</th>\n",
       "      <th>gender</th>\n",
       "      <th>income_type</th>\n",
       "      <th>debt</th>\n",
       "      <th>total_income</th>\n",
       "      <th>purpose</th>\n",
       "    </tr>\n",
       "  </thead>\n",
       "  <tbody>\n",
       "    <tr>\n",
       "      <th>0</th>\n",
       "      <td>1</td>\n",
       "      <td>-8437.673028</td>\n",
       "      <td>42</td>\n",
       "      <td>высшее</td>\n",
       "      <td>0</td>\n",
       "      <td>женат / замужем</td>\n",
       "      <td>0</td>\n",
       "      <td>F</td>\n",
       "      <td>сотрудник</td>\n",
       "      <td>0</td>\n",
       "      <td>253875.639453</td>\n",
       "      <td>покупка жилья</td>\n",
       "    </tr>\n",
       "    <tr>\n",
       "      <th>1</th>\n",
       "      <td>1</td>\n",
       "      <td>-4024.803754</td>\n",
       "      <td>36</td>\n",
       "      <td>среднее</td>\n",
       "      <td>1</td>\n",
       "      <td>женат / замужем</td>\n",
       "      <td>0</td>\n",
       "      <td>F</td>\n",
       "      <td>сотрудник</td>\n",
       "      <td>0</td>\n",
       "      <td>112080.014102</td>\n",
       "      <td>приобретение автомобиля</td>\n",
       "    </tr>\n",
       "    <tr>\n",
       "      <th>2</th>\n",
       "      <td>0</td>\n",
       "      <td>-5623.422610</td>\n",
       "      <td>33</td>\n",
       "      <td>Среднее</td>\n",
       "      <td>1</td>\n",
       "      <td>женат / замужем</td>\n",
       "      <td>0</td>\n",
       "      <td>M</td>\n",
       "      <td>сотрудник</td>\n",
       "      <td>0</td>\n",
       "      <td>145885.952297</td>\n",
       "      <td>покупка жилья</td>\n",
       "    </tr>\n",
       "    <tr>\n",
       "      <th>3</th>\n",
       "      <td>3</td>\n",
       "      <td>-4124.747207</td>\n",
       "      <td>32</td>\n",
       "      <td>среднее</td>\n",
       "      <td>1</td>\n",
       "      <td>женат / замужем</td>\n",
       "      <td>0</td>\n",
       "      <td>M</td>\n",
       "      <td>сотрудник</td>\n",
       "      <td>0</td>\n",
       "      <td>267628.550329</td>\n",
       "      <td>дополнительное образование</td>\n",
       "    </tr>\n",
       "    <tr>\n",
       "      <th>4</th>\n",
       "      <td>0</td>\n",
       "      <td>340266.072047</td>\n",
       "      <td>53</td>\n",
       "      <td>среднее</td>\n",
       "      <td>1</td>\n",
       "      <td>гражданский брак</td>\n",
       "      <td>1</td>\n",
       "      <td>F</td>\n",
       "      <td>пенсионер</td>\n",
       "      <td>0</td>\n",
       "      <td>158616.077870</td>\n",
       "      <td>сыграть свадьбу</td>\n",
       "    </tr>\n",
       "    <tr>\n",
       "      <th>5</th>\n",
       "      <td>0</td>\n",
       "      <td>-926.185831</td>\n",
       "      <td>27</td>\n",
       "      <td>высшее</td>\n",
       "      <td>0</td>\n",
       "      <td>гражданский брак</td>\n",
       "      <td>1</td>\n",
       "      <td>M</td>\n",
       "      <td>компаньон</td>\n",
       "      <td>0</td>\n",
       "      <td>255763.565419</td>\n",
       "      <td>покупка жилья</td>\n",
       "    </tr>\n",
       "    <tr>\n",
       "      <th>6</th>\n",
       "      <td>0</td>\n",
       "      <td>-2879.202052</td>\n",
       "      <td>43</td>\n",
       "      <td>высшее</td>\n",
       "      <td>0</td>\n",
       "      <td>женат / замужем</td>\n",
       "      <td>0</td>\n",
       "      <td>F</td>\n",
       "      <td>компаньон</td>\n",
       "      <td>0</td>\n",
       "      <td>240525.971920</td>\n",
       "      <td>операции с жильем</td>\n",
       "    </tr>\n",
       "    <tr>\n",
       "      <th>7</th>\n",
       "      <td>0</td>\n",
       "      <td>-152.779569</td>\n",
       "      <td>50</td>\n",
       "      <td>СРЕДНЕЕ</td>\n",
       "      <td>1</td>\n",
       "      <td>женат / замужем</td>\n",
       "      <td>0</td>\n",
       "      <td>M</td>\n",
       "      <td>сотрудник</td>\n",
       "      <td>0</td>\n",
       "      <td>135823.934197</td>\n",
       "      <td>образование</td>\n",
       "    </tr>\n",
       "    <tr>\n",
       "      <th>8</th>\n",
       "      <td>2</td>\n",
       "      <td>-6929.865299</td>\n",
       "      <td>35</td>\n",
       "      <td>ВЫСШЕЕ</td>\n",
       "      <td>0</td>\n",
       "      <td>гражданский брак</td>\n",
       "      <td>1</td>\n",
       "      <td>F</td>\n",
       "      <td>сотрудник</td>\n",
       "      <td>0</td>\n",
       "      <td>95856.832424</td>\n",
       "      <td>на проведение свадьбы</td>\n",
       "    </tr>\n",
       "    <tr>\n",
       "      <th>9</th>\n",
       "      <td>0</td>\n",
       "      <td>-2188.756445</td>\n",
       "      <td>41</td>\n",
       "      <td>среднее</td>\n",
       "      <td>1</td>\n",
       "      <td>женат / замужем</td>\n",
       "      <td>0</td>\n",
       "      <td>M</td>\n",
       "      <td>сотрудник</td>\n",
       "      <td>0</td>\n",
       "      <td>144425.938277</td>\n",
       "      <td>покупка жилья для семьи</td>\n",
       "    </tr>\n",
       "  </tbody>\n",
       "</table>\n",
       "</div>"
      ],
      "text/plain": [
       "   children  days_employed  dob_years education  education_id  \\\n",
       "0         1   -8437.673028         42    высшее             0   \n",
       "1         1   -4024.803754         36   среднее             1   \n",
       "2         0   -5623.422610         33   Среднее             1   \n",
       "3         3   -4124.747207         32   среднее             1   \n",
       "4         0  340266.072047         53   среднее             1   \n",
       "5         0    -926.185831         27    высшее             0   \n",
       "6         0   -2879.202052         43    высшее             0   \n",
       "7         0    -152.779569         50   СРЕДНЕЕ             1   \n",
       "8         2   -6929.865299         35    ВЫСШЕЕ             0   \n",
       "9         0   -2188.756445         41   среднее             1   \n",
       "\n",
       "      family_status  family_status_id gender income_type  debt   total_income  \\\n",
       "0   женат / замужем                 0      F   сотрудник     0  253875.639453   \n",
       "1   женат / замужем                 0      F   сотрудник     0  112080.014102   \n",
       "2   женат / замужем                 0      M   сотрудник     0  145885.952297   \n",
       "3   женат / замужем                 0      M   сотрудник     0  267628.550329   \n",
       "4  гражданский брак                 1      F   пенсионер     0  158616.077870   \n",
       "5  гражданский брак                 1      M   компаньон     0  255763.565419   \n",
       "6   женат / замужем                 0      F   компаньон     0  240525.971920   \n",
       "7   женат / замужем                 0      M   сотрудник     0  135823.934197   \n",
       "8  гражданский брак                 1      F   сотрудник     0   95856.832424   \n",
       "9   женат / замужем                 0      M   сотрудник     0  144425.938277   \n",
       "\n",
       "                      purpose  \n",
       "0               покупка жилья  \n",
       "1     приобретение автомобиля  \n",
       "2               покупка жилья  \n",
       "3  дополнительное образование  \n",
       "4             сыграть свадьбу  \n",
       "5               покупка жилья  \n",
       "6           операции с жильем  \n",
       "7                 образование  \n",
       "8       на проведение свадьбы  \n",
       "9     покупка жилья для семьи  "
      ]
     },
     "execution_count": 1,
     "metadata": {},
     "output_type": "execute_result"
    }
   ],
   "source": [
    "#импорт библиотек\n",
    "import pandas as pd\n",
    "from pymystem3 import Mystem\n",
    "m = Mystem()\n",
    "#чтение файла\n",
    "data = pd.read_csv('/datasets/data.csv') \n",
    "#получение общей информации по таблице\n",
    "data.info() \n",
    "#получение первый 10 строк таблицы\n",
    "data.head(10)"
   ]
  },
  {
   "cell_type": "code",
   "execution_count": 2,
   "metadata": {},
   "outputs": [
    {
     "data": {
      "text/html": [
       "<div>\n",
       "<style scoped>\n",
       "    .dataframe tbody tr th:only-of-type {\n",
       "        vertical-align: middle;\n",
       "    }\n",
       "\n",
       "    .dataframe tbody tr th {\n",
       "        vertical-align: top;\n",
       "    }\n",
       "\n",
       "    .dataframe thead th {\n",
       "        text-align: right;\n",
       "    }\n",
       "</style>\n",
       "<table border=\"1\" class=\"dataframe\">\n",
       "  <thead>\n",
       "    <tr style=\"text-align: right;\">\n",
       "      <th></th>\n",
       "      <th>children</th>\n",
       "      <th>days_employed</th>\n",
       "      <th>dob_years</th>\n",
       "      <th>education_id</th>\n",
       "      <th>family_status_id</th>\n",
       "      <th>debt</th>\n",
       "      <th>total_income</th>\n",
       "    </tr>\n",
       "  </thead>\n",
       "  <tbody>\n",
       "    <tr>\n",
       "      <th>count</th>\n",
       "      <td>21525.000000</td>\n",
       "      <td>19351.000000</td>\n",
       "      <td>21525.000000</td>\n",
       "      <td>21525.000000</td>\n",
       "      <td>21525.000000</td>\n",
       "      <td>21525.000000</td>\n",
       "      <td>1.935100e+04</td>\n",
       "    </tr>\n",
       "    <tr>\n",
       "      <th>mean</th>\n",
       "      <td>0.538908</td>\n",
       "      <td>63046.497661</td>\n",
       "      <td>43.293380</td>\n",
       "      <td>0.817236</td>\n",
       "      <td>0.972544</td>\n",
       "      <td>0.080883</td>\n",
       "      <td>1.674223e+05</td>\n",
       "    </tr>\n",
       "    <tr>\n",
       "      <th>std</th>\n",
       "      <td>1.381587</td>\n",
       "      <td>140827.311974</td>\n",
       "      <td>12.574584</td>\n",
       "      <td>0.548138</td>\n",
       "      <td>1.420324</td>\n",
       "      <td>0.272661</td>\n",
       "      <td>1.029716e+05</td>\n",
       "    </tr>\n",
       "    <tr>\n",
       "      <th>min</th>\n",
       "      <td>-1.000000</td>\n",
       "      <td>-18388.949901</td>\n",
       "      <td>0.000000</td>\n",
       "      <td>0.000000</td>\n",
       "      <td>0.000000</td>\n",
       "      <td>0.000000</td>\n",
       "      <td>2.066726e+04</td>\n",
       "    </tr>\n",
       "    <tr>\n",
       "      <th>25%</th>\n",
       "      <td>0.000000</td>\n",
       "      <td>-2747.423625</td>\n",
       "      <td>33.000000</td>\n",
       "      <td>1.000000</td>\n",
       "      <td>0.000000</td>\n",
       "      <td>0.000000</td>\n",
       "      <td>1.030532e+05</td>\n",
       "    </tr>\n",
       "    <tr>\n",
       "      <th>50%</th>\n",
       "      <td>0.000000</td>\n",
       "      <td>-1203.369529</td>\n",
       "      <td>42.000000</td>\n",
       "      <td>1.000000</td>\n",
       "      <td>0.000000</td>\n",
       "      <td>0.000000</td>\n",
       "      <td>1.450179e+05</td>\n",
       "    </tr>\n",
       "    <tr>\n",
       "      <th>75%</th>\n",
       "      <td>1.000000</td>\n",
       "      <td>-291.095954</td>\n",
       "      <td>53.000000</td>\n",
       "      <td>1.000000</td>\n",
       "      <td>1.000000</td>\n",
       "      <td>0.000000</td>\n",
       "      <td>2.034351e+05</td>\n",
       "    </tr>\n",
       "    <tr>\n",
       "      <th>max</th>\n",
       "      <td>20.000000</td>\n",
       "      <td>401755.400475</td>\n",
       "      <td>75.000000</td>\n",
       "      <td>4.000000</td>\n",
       "      <td>4.000000</td>\n",
       "      <td>1.000000</td>\n",
       "      <td>2.265604e+06</td>\n",
       "    </tr>\n",
       "  </tbody>\n",
       "</table>\n",
       "</div>"
      ],
      "text/plain": [
       "           children  days_employed     dob_years  education_id  \\\n",
       "count  21525.000000   19351.000000  21525.000000  21525.000000   \n",
       "mean       0.538908   63046.497661     43.293380      0.817236   \n",
       "std        1.381587  140827.311974     12.574584      0.548138   \n",
       "min       -1.000000  -18388.949901      0.000000      0.000000   \n",
       "25%        0.000000   -2747.423625     33.000000      1.000000   \n",
       "50%        0.000000   -1203.369529     42.000000      1.000000   \n",
       "75%        1.000000    -291.095954     53.000000      1.000000   \n",
       "max       20.000000  401755.400475     75.000000      4.000000   \n",
       "\n",
       "       family_status_id          debt  total_income  \n",
       "count      21525.000000  21525.000000  1.935100e+04  \n",
       "mean           0.972544      0.080883  1.674223e+05  \n",
       "std            1.420324      0.272661  1.029716e+05  \n",
       "min            0.000000      0.000000  2.066726e+04  \n",
       "25%            0.000000      0.000000  1.030532e+05  \n",
       "50%            0.000000      0.000000  1.450179e+05  \n",
       "75%            1.000000      0.000000  2.034351e+05  \n",
       "max            4.000000      1.000000  2.265604e+06  "
      ]
     },
     "execution_count": 2,
     "metadata": {},
     "output_type": "execute_result"
    }
   ],
   "source": [
    "#детальнее изучим таблицу и найдем артефакты\n",
    "data.describe() "
   ]
  },
  {
   "cell_type": "markdown",
   "metadata": {},
   "source": [
    "**Вывод**"
   ]
  },
  {
   "cell_type": "markdown",
   "metadata": {},
   "source": [
    "* Глядя на таблицу в глаза бросаются `days_employed` и `total_income` у них одинаковое, но разное по отношению к остальным к-во пропусков, обработаем и заполним их.\n",
    "* Неудобный тип данных у `days_employed` и `total_income`, переведем в int, тем самым и округлим\n",
    "* Визуально в таблице бросаются в глаза отрицательные значение в столбце `days_employed`, возьмем по модулю методом `.abs`\n",
    "* Разный регистр в столбце `education`, приведем все к нижнему регистру методом `.str.lower`\n",
    "* Отрицательное  к-во в столбце  `children`, вероятнее просто ошибка в данных, возьмем по модулю."
   ]
  },
  {
   "cell_type": "markdown",
   "metadata": {},
   "source": [
    "## Шаг 2. Предобработка данных"
   ]
  },
  {
   "cell_type": "markdown",
   "metadata": {},
   "source": [
    "### Обработка пропусков"
   ]
  },
  {
   "cell_type": "markdown",
   "metadata": {},
   "source": [
    "Найдем к-во пропусков и заодно проверим одни и те же ли эти строки"
   ]
  },
  {
   "cell_type": "code",
   "execution_count": 5,
   "metadata": {},
   "outputs": [
    {
     "name": "stdout",
     "output_type": "stream",
     "text": [
      "children               0\n",
      "days_employed       2174\n",
      "dob_years              0\n",
      "education              0\n",
      "education_id           0\n",
      "family_status          0\n",
      "family_status_id       0\n",
      "gender                 0\n",
      "income_type            0\n",
      "debt                   0\n",
      "total_income        2174\n",
      "purpose                0\n",
      "dtype: int64\n",
      "<class 'pandas.core.frame.DataFrame'>\n",
      "Int64Index: 2174 entries, 12 to 21510\n",
      "Data columns (total 12 columns):\n",
      " #   Column            Non-Null Count  Dtype  \n",
      "---  ------            --------------  -----  \n",
      " 0   children          2174 non-null   int64  \n",
      " 1   days_employed     0 non-null      float64\n",
      " 2   dob_years         2174 non-null   int64  \n",
      " 3   education         2174 non-null   object \n",
      " 4   education_id      2174 non-null   int64  \n",
      " 5   family_status     2174 non-null   object \n",
      " 6   family_status_id  2174 non-null   int64  \n",
      " 7   gender            2174 non-null   object \n",
      " 8   income_type       2174 non-null   object \n",
      " 9   debt              2174 non-null   int64  \n",
      " 10  total_income      0 non-null      float64\n",
      " 11  purpose           2174 non-null   object \n",
      "dtypes: float64(2), int64(5), object(5)\n",
      "memory usage: 220.8+ KB\n"
     ]
    }
   ],
   "source": [
    "#найдем к-во пропусков\n",
    "print(data.isna().sum())\n",
    "#одинаковые ли это строки:\n",
    "data[(data['days_employed'].isnull() == True) & (data['total_income'].isnull() == True)].info()"
   ]
  },
  {
   "cell_type": "markdown",
   "metadata": {},
   "source": [
    "Это действительно одни и те же строки.\n",
    "Можно заменить на медианные значения, но зарплаты у каждой профессии разные, поэтому проверим к каким профессиям относятся пропуски и заменим медианными значениями по каждой профессии"
   ]
  },
  {
   "cell_type": "code",
   "execution_count": 6,
   "metadata": {},
   "outputs": [
    {
     "data": {
      "text/plain": [
       "сотрудник          1105\n",
       "компаньон           508\n",
       "пенсионер           413\n",
       "госслужащий         147\n",
       "предприниматель       1\n",
       "Name: income_type, dtype: int64"
      ]
     },
     "execution_count": 6,
     "metadata": {},
     "output_type": "execute_result"
    }
   ],
   "source": [
    "#поиск по все профессиям\n",
    "data[(data['days_employed'].isnull() == True) & (data['total_income'].isnull() == True)]['income_type'].value_counts()"
   ]
  },
  {
   "cell_type": "markdown",
   "metadata": {},
   "source": [
    "Найдем медианные значения дохода по каждой профессии с сохранением исходного формата датафрейма методом `.transform()` и поместим в новый столбец `median_income`"
   ]
  },
  {
   "cell_type": "code",
   "execution_count": 7,
   "metadata": {},
   "outputs": [
    {
     "data": {
      "text/html": [
       "<div>\n",
       "<style scoped>\n",
       "    .dataframe tbody tr th:only-of-type {\n",
       "        vertical-align: middle;\n",
       "    }\n",
       "\n",
       "    .dataframe tbody tr th {\n",
       "        vertical-align: top;\n",
       "    }\n",
       "\n",
       "    .dataframe thead th {\n",
       "        text-align: right;\n",
       "    }\n",
       "</style>\n",
       "<table border=\"1\" class=\"dataframe\">\n",
       "  <thead>\n",
       "    <tr style=\"text-align: right;\">\n",
       "      <th></th>\n",
       "      <th>children</th>\n",
       "      <th>days_employed</th>\n",
       "      <th>dob_years</th>\n",
       "      <th>education</th>\n",
       "      <th>education_id</th>\n",
       "      <th>family_status</th>\n",
       "      <th>family_status_id</th>\n",
       "      <th>gender</th>\n",
       "      <th>income_type</th>\n",
       "      <th>debt</th>\n",
       "      <th>total_income</th>\n",
       "      <th>purpose</th>\n",
       "      <th>median_income</th>\n",
       "    </tr>\n",
       "  </thead>\n",
       "  <tbody>\n",
       "    <tr>\n",
       "      <th>0</th>\n",
       "      <td>1</td>\n",
       "      <td>-8437.673028</td>\n",
       "      <td>42</td>\n",
       "      <td>высшее</td>\n",
       "      <td>0</td>\n",
       "      <td>женат / замужем</td>\n",
       "      <td>0</td>\n",
       "      <td>F</td>\n",
       "      <td>сотрудник</td>\n",
       "      <td>0</td>\n",
       "      <td>253875.639453</td>\n",
       "      <td>покупка жилья</td>\n",
       "      <td>142594.396847</td>\n",
       "    </tr>\n",
       "    <tr>\n",
       "      <th>1</th>\n",
       "      <td>1</td>\n",
       "      <td>-4024.803754</td>\n",
       "      <td>36</td>\n",
       "      <td>среднее</td>\n",
       "      <td>1</td>\n",
       "      <td>женат / замужем</td>\n",
       "      <td>0</td>\n",
       "      <td>F</td>\n",
       "      <td>сотрудник</td>\n",
       "      <td>0</td>\n",
       "      <td>112080.014102</td>\n",
       "      <td>приобретение автомобиля</td>\n",
       "      <td>142594.396847</td>\n",
       "    </tr>\n",
       "    <tr>\n",
       "      <th>2</th>\n",
       "      <td>0</td>\n",
       "      <td>-5623.422610</td>\n",
       "      <td>33</td>\n",
       "      <td>Среднее</td>\n",
       "      <td>1</td>\n",
       "      <td>женат / замужем</td>\n",
       "      <td>0</td>\n",
       "      <td>M</td>\n",
       "      <td>сотрудник</td>\n",
       "      <td>0</td>\n",
       "      <td>145885.952297</td>\n",
       "      <td>покупка жилья</td>\n",
       "      <td>142594.396847</td>\n",
       "    </tr>\n",
       "    <tr>\n",
       "      <th>3</th>\n",
       "      <td>3</td>\n",
       "      <td>-4124.747207</td>\n",
       "      <td>32</td>\n",
       "      <td>среднее</td>\n",
       "      <td>1</td>\n",
       "      <td>женат / замужем</td>\n",
       "      <td>0</td>\n",
       "      <td>M</td>\n",
       "      <td>сотрудник</td>\n",
       "      <td>0</td>\n",
       "      <td>267628.550329</td>\n",
       "      <td>дополнительное образование</td>\n",
       "      <td>142594.396847</td>\n",
       "    </tr>\n",
       "    <tr>\n",
       "      <th>4</th>\n",
       "      <td>0</td>\n",
       "      <td>340266.072047</td>\n",
       "      <td>53</td>\n",
       "      <td>среднее</td>\n",
       "      <td>1</td>\n",
       "      <td>гражданский брак</td>\n",
       "      <td>1</td>\n",
       "      <td>F</td>\n",
       "      <td>пенсионер</td>\n",
       "      <td>0</td>\n",
       "      <td>158616.077870</td>\n",
       "      <td>сыграть свадьбу</td>\n",
       "      <td>118514.486412</td>\n",
       "    </tr>\n",
       "  </tbody>\n",
       "</table>\n",
       "</div>"
      ],
      "text/plain": [
       "   children  days_employed  dob_years education  education_id  \\\n",
       "0         1   -8437.673028         42    высшее             0   \n",
       "1         1   -4024.803754         36   среднее             1   \n",
       "2         0   -5623.422610         33   Среднее             1   \n",
       "3         3   -4124.747207         32   среднее             1   \n",
       "4         0  340266.072047         53   среднее             1   \n",
       "\n",
       "      family_status  family_status_id gender income_type  debt   total_income  \\\n",
       "0   женат / замужем                 0      F   сотрудник     0  253875.639453   \n",
       "1   женат / замужем                 0      F   сотрудник     0  112080.014102   \n",
       "2   женат / замужем                 0      M   сотрудник     0  145885.952297   \n",
       "3   женат / замужем                 0      M   сотрудник     0  267628.550329   \n",
       "4  гражданский брак                 1      F   пенсионер     0  158616.077870   \n",
       "\n",
       "                      purpose  median_income  \n",
       "0               покупка жилья  142594.396847  \n",
       "1     приобретение автомобиля  142594.396847  \n",
       "2               покупка жилья  142594.396847  \n",
       "3  дополнительное образование  142594.396847  \n",
       "4             сыграть свадьбу  118514.486412  "
      ]
     },
     "execution_count": 7,
     "metadata": {},
     "output_type": "execute_result"
    }
   ],
   "source": [
    "data['median_income'] = data.groupby('income_type')['total_income'].transform('median')\n",
    "data.head()"
   ]
  },
  {
   "cell_type": "markdown",
   "metadata": {},
   "source": [
    "Заменим пропуски медианными значениями по каждой профессии"
   ]
  },
  {
   "cell_type": "code",
   "execution_count": 10,
   "metadata": {},
   "outputs": [
    {
     "data": {
      "text/plain": [
       "children               0\n",
       "days_employed       2174\n",
       "dob_years              0\n",
       "education              0\n",
       "education_id           0\n",
       "family_status          0\n",
       "family_status_id       0\n",
       "gender                 0\n",
       "income_type            0\n",
       "debt                   0\n",
       "total_income           0\n",
       "purpose                0\n",
       "median_income          0\n",
       "dtype: int64"
      ]
     },
     "execution_count": 10,
     "metadata": {},
     "output_type": "execute_result"
    }
   ],
   "source": [
    "data['total_income'] = data['total_income'].fillna(data['median_income'])\n",
    "# Проверим пропуски\n",
    "data.isna().sum()"
   ]
  },
  {
   "cell_type": "markdown",
   "metadata": {},
   "source": [
    "С пропусками в `total_income` разобрались, высчитали медиану по каждой профессии и заполнили пропуски.\n",
    "\n",
    "Осталось разобраться с `days_employed`, возьмем эти значения по модулю методом `.abs()`, т.к отрицательные значения это вероятнее всего ошибка и будет достаточно перевести их в положительные и посчитаем медиану "
   ]
  },
  {
   "cell_type": "code",
   "execution_count": 11,
   "metadata": {},
   "outputs": [
    {
     "data": {
      "text/plain": [
       "children               0\n",
       "days_employed       2174\n",
       "dob_years              0\n",
       "education              0\n",
       "education_id           0\n",
       "family_status          0\n",
       "family_status_id       0\n",
       "gender                 0\n",
       "income_type            0\n",
       "debt                   0\n",
       "total_income           0\n",
       "purpose                0\n",
       "median_income          0\n",
       "dtype: int64"
      ]
     },
     "execution_count": 11,
     "metadata": {},
     "output_type": "execute_result"
    }
   ],
   "source": [
    "data.isna().sum()"
   ]
  },
  {
   "cell_type": "code",
   "execution_count": 12,
   "metadata": {},
   "outputs": [
    {
     "data": {
      "text/plain": [
       "children            0\n",
       "days_employed       0\n",
       "dob_years           0\n",
       "education           0\n",
       "education_id        0\n",
       "family_status       0\n",
       "family_status_id    0\n",
       "gender              0\n",
       "income_type         0\n",
       "debt                0\n",
       "total_income        0\n",
       "purpose             0\n",
       "median_income       0\n",
       "dtype: int64"
      ]
     },
     "execution_count": 12,
     "metadata": {},
     "output_type": "execute_result"
    }
   ],
   "source": [
    "#Найдем медиану и заполним пропуски\n",
    "days_employed_mean = data['days_employed'].mean()\n",
    "data['days_employed'] = data['days_employed'].fillna(days_employed_mean)\n",
    "data.isna().sum()"
   ]
  },
  {
   "cell_type": "markdown",
   "metadata": {},
   "source": [
    "**Вывод**"
   ]
  },
  {
   "cell_type": "markdown",
   "metadata": {},
   "source": [
    "Все пропуски заполнены.\n",
    "* Зарплата была заполнен медианными значениями по каждой профессии\n",
    "* Стаж нас особо не понадобится, поэтому просто заполнил медианными значениями"
   ]
  },
  {
   "cell_type": "markdown",
   "metadata": {},
   "source": [
    "### Замена типа данных"
   ]
  },
  {
   "cell_type": "code",
   "execution_count": 14,
   "metadata": {},
   "outputs": [],
   "source": [
    "#Перевод в int\n",
    "data['days_employed'] = data['days_employed'].astype('int')\n",
    "data['total_income'] = data['total_income'].astype('int')\n"
   ]
  },
  {
   "cell_type": "markdown",
   "metadata": {},
   "source": [
    "**Вывод**"
   ]
  },
  {
   "cell_type": "markdown",
   "metadata": {},
   "source": [
    "* Т.к изначально `days_employed` и `total_income` имеют тип `float` заменили его на `int`, методом `astype('int')`, потому что в нужный тип значения переводят именно этим методом"
   ]
  },
  {
   "cell_type": "markdown",
   "metadata": {},
   "source": [
    "### Обработка дубликатов"
   ]
  },
  {
   "cell_type": "markdown",
   "metadata": {},
   "source": [
    "Найдем явные дубликаты методом  `.duplicated().sum()` и обработаем явные дубликаты методом `.drop_duplicates()`"
   ]
  },
  {
   "cell_type": "code",
   "execution_count": 15,
   "metadata": {},
   "outputs": [
    {
     "name": "stdout",
     "output_type": "stream",
     "text": [
      "Число дубликатов: 0\n",
      "Дубликаты удалены\n"
     ]
    }
   ],
   "source": [
    "#поиск к-ва явных дубликатов\n",
    "data.duplicated().sum() \n",
    "\n",
    "#удаление\n",
    "data = data.drop_duplicates().reset_index(drop=True) # и сразу удалим их\n",
    "print('Число дубликатов:', data.duplicated().sum())\n",
    "print('Дубликаты удалены')"
   ]
  },
  {
   "cell_type": "markdown",
   "metadata": {},
   "source": [
    "Найдем дубликаты связанные с регистром столбца `education` методом `.value_counts()` и обработаем их путем замены регистра"
   ]
  },
  {
   "cell_type": "code",
   "execution_count": 16,
   "metadata": {},
   "outputs": [
    {
     "data": {
      "text/plain": [
       "среднее                13705\n",
       "высшее                  4710\n",
       "СРЕДНЕЕ                  772\n",
       "Среднее                  711\n",
       "неоконченное высшее      668\n",
       "ВЫСШЕЕ                   273\n",
       "Высшее                   268\n",
       "начальное                250\n",
       "Неоконченное высшее       47\n",
       "НЕОКОНЧЕННОЕ ВЫСШЕЕ       29\n",
       "НАЧАЛЬНОЕ                 17\n",
       "Начальное                 15\n",
       "ученая степень             4\n",
       "УЧЕНАЯ СТЕПЕНЬ             1\n",
       "Ученая степень             1\n",
       "Name: education, dtype: int64"
      ]
     },
     "execution_count": 16,
     "metadata": {},
     "output_type": "execute_result"
    }
   ],
   "source": [
    "#тут только проблемы с регистром, исправим это\n",
    "data['education'].value_counts() "
   ]
  },
  {
   "cell_type": "code",
   "execution_count": 17,
   "metadata": {},
   "outputs": [
    {
     "data": {
      "text/plain": [
       "среднее                15188\n",
       "высшее                  5251\n",
       "неоконченное высшее      744\n",
       "начальное                282\n",
       "ученая степень             6\n",
       "Name: education, dtype: int64"
      ]
     },
     "execution_count": 17,
     "metadata": {},
     "output_type": "execute_result"
    }
   ],
   "source": [
    "# Привели к нижнему регистру\n",
    "data['education'] = data['education'].str.lower()\n",
    "\n",
    "# Результат\n",
    "data['education'].value_counts() "
   ]
  },
  {
   "cell_type": "markdown",
   "metadata": {},
   "source": [
    "Поищем остальные дубликаты методом `value_counts()` который находит уникальные значения и возвращает частоту его встречаемости"
   ]
  },
  {
   "cell_type": "code",
   "execution_count": 18,
   "metadata": {},
   "outputs": [
    {
     "data": {
      "text/plain": [
       "женат / замужем          12344\n",
       "гражданский брак          4163\n",
       "Не женат / не замужем     2810\n",
       "в разводе                 1195\n",
       "вдовец / вдова             959\n",
       "Name: family_status, dtype: int64"
      ]
     },
     "execution_count": 18,
     "metadata": {},
     "output_type": "execute_result"
    }
   ],
   "source": [
    "data['family_status'].value_counts()"
   ]
  },
  {
   "cell_type": "markdown",
   "metadata": {},
   "source": [
    "С `family_status` все в порядке."
   ]
  },
  {
   "cell_type": "code",
   "execution_count": 19,
   "metadata": {},
   "outputs": [
    {
     "data": {
      "text/plain": [
       "свадьба                                   793\n",
       "на проведение свадьбы                     773\n",
       "сыграть свадьбу                           769\n",
       "операции с недвижимостью                  675\n",
       "покупка коммерческой недвижимости         662\n",
       "покупка жилья для сдачи                   652\n",
       "операции с жильем                         652\n",
       "операции с коммерческой недвижимостью     650\n",
       "покупка жилья                             646\n",
       "жилье                                     646\n",
       "покупка жилья для семьи                   638\n",
       "строительство собственной недвижимости    635\n",
       "недвижимость                              633\n",
       "операции со своей недвижимостью           627\n",
       "строительство жилой недвижимости          625\n",
       "покупка недвижимости                      621\n",
       "покупка своего жилья                      620\n",
       "строительство недвижимости                619\n",
       "ремонт жилью                              607\n",
       "покупка жилой недвижимости                606\n",
       "на покупку своего автомобиля              505\n",
       "заняться высшим образованием              496\n",
       "автомобиль                                494\n",
       "сделка с подержанным автомобилем          486\n",
       "свой автомобиль                           479\n",
       "автомобили                                478\n",
       "на покупку подержанного автомобиля        478\n",
       "на покупку автомобиля                     472\n",
       "приобретение автомобиля                   461\n",
       "дополнительное образование                460\n",
       "сделка с автомобилем                      455\n",
       "высшее образование                        452\n",
       "образование                               447\n",
       "получение дополнительного образования     447\n",
       "получение образования                     442\n",
       "профильное образование                    436\n",
       "получение высшего образования             426\n",
       "заняться образованием                     408\n",
       "Name: purpose, dtype: int64"
      ]
     },
     "execution_count": 19,
     "metadata": {},
     "output_type": "execute_result"
    }
   ],
   "source": [
    "data['purpose'].value_counts()"
   ]
  },
  {
   "cell_type": "markdown",
   "metadata": {},
   "source": [
    "С `purpose` все не так радужно, поможет лемматизация"
   ]
  },
  {
   "cell_type": "markdown",
   "metadata": {},
   "source": [
    "**Вывод**"
   ]
  },
  {
   "cell_type": "markdown",
   "metadata": {},
   "source": [
    "* При обработке нашли и удалили 71 явный дубликат, скорее всего это просто совпадение, поэтому удалаяем методом `drop_duplicates()` т.к он просто удаляет одинаковые строки, что нам подходит\n",
    "* Были найдены дубликаты связанные с разным регистром столбца `education`, это просто человеческий фактор и чтобы его избежать стоит добавить выпадающий список или правило как правильно заполнять. Дубликаты были найдены методом `value_counts()` ,который выбирает уникальное значение и подсчитывает частоту возникновения, а исправлены путем приведения всего к нижнему регистру методом `str.lower()`"
   ]
  },
  {
   "cell_type": "markdown",
   "metadata": {},
   "source": [
    "### Лемматизация"
   ]
  },
  {
   "cell_type": "code",
   "execution_count": 25,
   "metadata": {},
   "outputs": [
    {
     "data": {
      "text/plain": [
       "свадьба                                   793\n",
       "на проведение свадьбы                     773\n",
       "сыграть свадьбу                           769\n",
       "операции с недвижимостью                  675\n",
       "покупка коммерческой недвижимости         662\n",
       "покупка жилья для сдачи                   652\n",
       "операции с жильем                         652\n",
       "операции с коммерческой недвижимостью     650\n",
       "покупка жилья                             646\n",
       "жилье                                     646\n",
       "покупка жилья для семьи                   638\n",
       "строительство собственной недвижимости    635\n",
       "недвижимость                              633\n",
       "операции со своей недвижимостью           627\n",
       "строительство жилой недвижимости          625\n",
       "покупка недвижимости                      621\n",
       "покупка своего жилья                      620\n",
       "строительство недвижимости                619\n",
       "ремонт жилью                              607\n",
       "покупка жилой недвижимости                606\n",
       "на покупку своего автомобиля              505\n",
       "заняться высшим образованием              496\n",
       "автомобиль                                494\n",
       "сделка с подержанным автомобилем          486\n",
       "свой автомобиль                           479\n",
       "автомобили                                478\n",
       "на покупку подержанного автомобиля        478\n",
       "на покупку автомобиля                     472\n",
       "приобретение автомобиля                   461\n",
       "дополнительное образование                460\n",
       "сделка с автомобилем                      455\n",
       "высшее образование                        452\n",
       "образование                               447\n",
       "получение дополнительного образования     447\n",
       "получение образования                     442\n",
       "профильное образование                    436\n",
       "получение высшего образования             426\n",
       "заняться образованием                     408\n",
       "Name: purpose, dtype: int64"
      ]
     },
     "execution_count": 25,
     "metadata": {},
     "output_type": "execute_result"
    }
   ],
   "source": [
    "#Просчитаем все цели кредита.\n",
    "data['purpose'].value_counts() "
   ]
  },
  {
   "cell_type": "markdown",
   "metadata": {},
   "source": [
    "Из всего списка можно выбрать не так много ключевых слов, а именно: свадьба, автомобиль, образование, коммерческий, жилье, недвижимость, сдача"
   ]
  },
  {
   "cell_type": "code",
   "execution_count": 26,
   "metadata": {},
   "outputs": [
    {
     "data": {
      "text/html": [
       "<div>\n",
       "<style scoped>\n",
       "    .dataframe tbody tr th:only-of-type {\n",
       "        vertical-align: middle;\n",
       "    }\n",
       "\n",
       "    .dataframe tbody tr th {\n",
       "        vertical-align: top;\n",
       "    }\n",
       "\n",
       "    .dataframe thead th {\n",
       "        text-align: right;\n",
       "    }\n",
       "</style>\n",
       "<table border=\"1\" class=\"dataframe\">\n",
       "  <thead>\n",
       "    <tr style=\"text-align: right;\">\n",
       "      <th></th>\n",
       "      <th>children</th>\n",
       "      <th>days_employed</th>\n",
       "      <th>dob_years</th>\n",
       "      <th>education</th>\n",
       "      <th>education_id</th>\n",
       "      <th>family_status</th>\n",
       "      <th>family_status_id</th>\n",
       "      <th>gender</th>\n",
       "      <th>income_type</th>\n",
       "      <th>debt</th>\n",
       "      <th>total_income</th>\n",
       "      <th>purpose</th>\n",
       "      <th>median_income</th>\n",
       "      <th>income_category</th>\n",
       "      <th>purpose_category</th>\n",
       "    </tr>\n",
       "  </thead>\n",
       "  <tbody>\n",
       "    <tr>\n",
       "      <th>0</th>\n",
       "      <td>1</td>\n",
       "      <td>-8437</td>\n",
       "      <td>42</td>\n",
       "      <td>высшее</td>\n",
       "      <td>0</td>\n",
       "      <td>женат / замужем</td>\n",
       "      <td>0</td>\n",
       "      <td>F</td>\n",
       "      <td>сотрудник</td>\n",
       "      <td>0</td>\n",
       "      <td>253875</td>\n",
       "      <td>покупка жилья</td>\n",
       "      <td>142594.396847</td>\n",
       "      <td>very_big_income</td>\n",
       "      <td>жилье</td>\n",
       "    </tr>\n",
       "    <tr>\n",
       "      <th>1</th>\n",
       "      <td>1</td>\n",
       "      <td>-4024</td>\n",
       "      <td>36</td>\n",
       "      <td>среднее</td>\n",
       "      <td>1</td>\n",
       "      <td>женат / замужем</td>\n",
       "      <td>0</td>\n",
       "      <td>F</td>\n",
       "      <td>сотрудник</td>\n",
       "      <td>0</td>\n",
       "      <td>112080</td>\n",
       "      <td>приобретение автомобиля</td>\n",
       "      <td>142594.396847</td>\n",
       "      <td>normal_income</td>\n",
       "      <td>автомобиль</td>\n",
       "    </tr>\n",
       "    <tr>\n",
       "      <th>2</th>\n",
       "      <td>0</td>\n",
       "      <td>-5623</td>\n",
       "      <td>33</td>\n",
       "      <td>среднее</td>\n",
       "      <td>1</td>\n",
       "      <td>женат / замужем</td>\n",
       "      <td>0</td>\n",
       "      <td>M</td>\n",
       "      <td>сотрудник</td>\n",
       "      <td>0</td>\n",
       "      <td>145885</td>\n",
       "      <td>покупка жилья</td>\n",
       "      <td>142594.396847</td>\n",
       "      <td>big_income</td>\n",
       "      <td>жилье</td>\n",
       "    </tr>\n",
       "    <tr>\n",
       "      <th>3</th>\n",
       "      <td>3</td>\n",
       "      <td>-4124</td>\n",
       "      <td>32</td>\n",
       "      <td>среднее</td>\n",
       "      <td>1</td>\n",
       "      <td>женат / замужем</td>\n",
       "      <td>0</td>\n",
       "      <td>M</td>\n",
       "      <td>сотрудник</td>\n",
       "      <td>0</td>\n",
       "      <td>267628</td>\n",
       "      <td>дополнительное образование</td>\n",
       "      <td>142594.396847</td>\n",
       "      <td>very_big_income</td>\n",
       "      <td>образование</td>\n",
       "    </tr>\n",
       "    <tr>\n",
       "      <th>4</th>\n",
       "      <td>0</td>\n",
       "      <td>340266</td>\n",
       "      <td>53</td>\n",
       "      <td>среднее</td>\n",
       "      <td>1</td>\n",
       "      <td>гражданский брак</td>\n",
       "      <td>1</td>\n",
       "      <td>F</td>\n",
       "      <td>пенсионер</td>\n",
       "      <td>0</td>\n",
       "      <td>158616</td>\n",
       "      <td>сыграть свадьбу</td>\n",
       "      <td>118514.486412</td>\n",
       "      <td>big_income</td>\n",
       "      <td>свадьба</td>\n",
       "    </tr>\n",
       "  </tbody>\n",
       "</table>\n",
       "</div>"
      ],
      "text/plain": [
       "   children  days_employed  dob_years education  education_id  \\\n",
       "0         1          -8437         42    высшее             0   \n",
       "1         1          -4024         36   среднее             1   \n",
       "2         0          -5623         33   среднее             1   \n",
       "3         3          -4124         32   среднее             1   \n",
       "4         0         340266         53   среднее             1   \n",
       "\n",
       "      family_status  family_status_id gender income_type  debt  total_income  \\\n",
       "0   женат / замужем                 0      F   сотрудник     0        253875   \n",
       "1   женат / замужем                 0      F   сотрудник     0        112080   \n",
       "2   женат / замужем                 0      M   сотрудник     0        145885   \n",
       "3   женат / замужем                 0      M   сотрудник     0        267628   \n",
       "4  гражданский брак                 1      F   пенсионер     0        158616   \n",
       "\n",
       "                      purpose  median_income  income_category purpose_category  \n",
       "0               покупка жилья  142594.396847  very_big_income            жилье  \n",
       "1     приобретение автомобиля  142594.396847    normal_income       автомобиль  \n",
       "2               покупка жилья  142594.396847       big_income            жилье  \n",
       "3  дополнительное образование  142594.396847  very_big_income      образование  \n",
       "4             сыграть свадьбу  118514.486412       big_income          свадьба  "
      ]
     },
     "execution_count": 26,
     "metadata": {},
     "output_type": "execute_result"
    }
   ],
   "source": [
    "#Ключевые слова\n",
    "categories = ['сдача', 'свадьба', 'автомобиль', 'образование', 'коммерческий', 'жилье', 'недвижимость']\n",
    "\n",
    "#Лемматизация\n",
    "def lemmatize (text):\n",
    "    lemma = m.lemmatize(text)\n",
    "    for word in categories:\n",
    "        if word in lemma:\n",
    "            lemma = word\n",
    "    return lemma\n",
    "data['purpose_category'] = data['purpose'].apply(lemmatize)\n",
    "\n",
    "data.head()"
   ]
  },
  {
   "cell_type": "code",
   "execution_count": 27,
   "metadata": {},
   "outputs": [
    {
     "data": {
      "text/plain": [
       "недвижимость    5041\n",
       "автомобиль      4308\n",
       "образование     4014\n",
       "жилье           3809\n",
       "свадьба         2335\n",
       "коммерческий    1312\n",
       "сдача            652\n",
       "Name: purpose_category, dtype: int64"
      ]
     },
     "execution_count": 27,
     "metadata": {},
     "output_type": "execute_result"
    }
   ],
   "source": [
    "#Подсчет к-ва категорий\n",
    "data['purpose_category'].value_counts()"
   ]
  },
  {
   "cell_type": "markdown",
   "metadata": {},
   "source": [
    "Немного подкорректируем список:\n",
    "* Жилье и недвижимость объединим в одну категорию\n",
    "* Коммерческий и сдачу объединим в категорию `коммерция`"
   ]
  },
  {
   "cell_type": "code",
   "execution_count": 28,
   "metadata": {},
   "outputs": [],
   "source": [
    "data.loc[data['purpose_category'] == 'жилье', 'purpose_category'] = 'недвижимость'\n",
    "data.loc[(data['purpose_category'] == 'коммерческий') | (data['purpose_category'] == 'сдача'), 'purpose_category'] = 'коммерция'"
   ]
  },
  {
   "cell_type": "code",
   "execution_count": 29,
   "metadata": {},
   "outputs": [
    {
     "data": {
      "text/plain": [
       "недвижимость    8850\n",
       "автомобиль      4308\n",
       "образование     4014\n",
       "свадьба         2335\n",
       "коммерция       1964\n",
       "Name: purpose_category, dtype: int64"
      ]
     },
     "execution_count": 29,
     "metadata": {},
     "output_type": "execute_result"
    }
   ],
   "source": [
    "data['purpose_category'].value_counts()"
   ]
  },
  {
   "cell_type": "markdown",
   "metadata": {},
   "source": [
    "**Вывод**"
   ]
  },
  {
   "cell_type": "markdown",
   "metadata": {},
   "source": [
    "Выделили ключевые слова и для удобства обработали их:\n",
    "* \"Недвижимость\" и \"жилье\" вынесли в одну группу `недвижимость` т.к эти обе группы подразумевают пользователя, целью которого является проживание\n",
    "* \"Коммерческий\" и \"сдача\" вынесли в одну группу `коммерция` т.к эти обе группы подразумевают пользователя, целью которого является извлечение прибыли"
   ]
  },
  {
   "cell_type": "markdown",
   "metadata": {},
   "source": [
    "### Категоризация данных"
   ]
  },
  {
   "cell_type": "markdown",
   "metadata": {},
   "source": [
    "Чтобы ответить на вопросы по проекту нам нужно 4 группы:\n",
    "* Категоризация по целям\n",
    "* Категоризация по доходам\n",
    "* Категоризация по детям\n",
    "* Категоризация по семейному положению"
   ]
  },
  {
   "cell_type": "markdown",
   "metadata": {},
   "source": [
    "#### Категоризация по доходам\n",
    "Разобьем на интервалы равного значения методом `.qcut()`"
   ]
  },
  {
   "cell_type": "code",
   "execution_count": 30,
   "metadata": {},
   "outputs": [
    {
     "data": {
      "text/plain": [
       "25%    107654.5\n",
       "50%    142594.0\n",
       "75%    195767.5\n",
       "Name: total_income, dtype: float64"
      ]
     },
     "execution_count": 30,
     "metadata": {},
     "output_type": "execute_result"
    }
   ],
   "source": [
    "#Возьмем проценты и разобьем на 4 категории в соотношении\n",
    "stats = data['total_income'].describe()\n",
    "stats[4:-1] "
   ]
  },
  {
   "cell_type": "code",
   "execution_count": 31,
   "metadata": {},
   "outputs": [
    {
     "data": {
      "text/html": [
       "<div>\n",
       "<style scoped>\n",
       "    .dataframe tbody tr th:only-of-type {\n",
       "        vertical-align: middle;\n",
       "    }\n",
       "\n",
       "    .dataframe tbody tr th {\n",
       "        vertical-align: top;\n",
       "    }\n",
       "\n",
       "    .dataframe thead th {\n",
       "        text-align: right;\n",
       "    }\n",
       "</style>\n",
       "<table border=\"1\" class=\"dataframe\">\n",
       "  <thead>\n",
       "    <tr style=\"text-align: right;\">\n",
       "      <th></th>\n",
       "      <th>children</th>\n",
       "      <th>days_employed</th>\n",
       "      <th>dob_years</th>\n",
       "      <th>education</th>\n",
       "      <th>education_id</th>\n",
       "      <th>family_status</th>\n",
       "      <th>family_status_id</th>\n",
       "      <th>gender</th>\n",
       "      <th>income_type</th>\n",
       "      <th>debt</th>\n",
       "      <th>total_income</th>\n",
       "      <th>purpose</th>\n",
       "      <th>median_income</th>\n",
       "      <th>income_category</th>\n",
       "      <th>purpose_category</th>\n",
       "    </tr>\n",
       "  </thead>\n",
       "  <tbody>\n",
       "    <tr>\n",
       "      <th>0</th>\n",
       "      <td>1</td>\n",
       "      <td>-8437</td>\n",
       "      <td>42</td>\n",
       "      <td>высшее</td>\n",
       "      <td>0</td>\n",
       "      <td>женат / замужем</td>\n",
       "      <td>0</td>\n",
       "      <td>F</td>\n",
       "      <td>сотрудник</td>\n",
       "      <td>0</td>\n",
       "      <td>253875</td>\n",
       "      <td>покупка жилья</td>\n",
       "      <td>142594.396847</td>\n",
       "      <td>very_big_income</td>\n",
       "      <td>недвижимость</td>\n",
       "    </tr>\n",
       "    <tr>\n",
       "      <th>1</th>\n",
       "      <td>1</td>\n",
       "      <td>-4024</td>\n",
       "      <td>36</td>\n",
       "      <td>среднее</td>\n",
       "      <td>1</td>\n",
       "      <td>женат / замужем</td>\n",
       "      <td>0</td>\n",
       "      <td>F</td>\n",
       "      <td>сотрудник</td>\n",
       "      <td>0</td>\n",
       "      <td>112080</td>\n",
       "      <td>приобретение автомобиля</td>\n",
       "      <td>142594.396847</td>\n",
       "      <td>normal_income</td>\n",
       "      <td>автомобиль</td>\n",
       "    </tr>\n",
       "    <tr>\n",
       "      <th>2</th>\n",
       "      <td>0</td>\n",
       "      <td>-5623</td>\n",
       "      <td>33</td>\n",
       "      <td>среднее</td>\n",
       "      <td>1</td>\n",
       "      <td>женат / замужем</td>\n",
       "      <td>0</td>\n",
       "      <td>M</td>\n",
       "      <td>сотрудник</td>\n",
       "      <td>0</td>\n",
       "      <td>145885</td>\n",
       "      <td>покупка жилья</td>\n",
       "      <td>142594.396847</td>\n",
       "      <td>big_income</td>\n",
       "      <td>недвижимость</td>\n",
       "    </tr>\n",
       "    <tr>\n",
       "      <th>3</th>\n",
       "      <td>3</td>\n",
       "      <td>-4124</td>\n",
       "      <td>32</td>\n",
       "      <td>среднее</td>\n",
       "      <td>1</td>\n",
       "      <td>женат / замужем</td>\n",
       "      <td>0</td>\n",
       "      <td>M</td>\n",
       "      <td>сотрудник</td>\n",
       "      <td>0</td>\n",
       "      <td>267628</td>\n",
       "      <td>дополнительное образование</td>\n",
       "      <td>142594.396847</td>\n",
       "      <td>very_big_income</td>\n",
       "      <td>образование</td>\n",
       "    </tr>\n",
       "    <tr>\n",
       "      <th>4</th>\n",
       "      <td>0</td>\n",
       "      <td>340266</td>\n",
       "      <td>53</td>\n",
       "      <td>среднее</td>\n",
       "      <td>1</td>\n",
       "      <td>гражданский брак</td>\n",
       "      <td>1</td>\n",
       "      <td>F</td>\n",
       "      <td>пенсионер</td>\n",
       "      <td>0</td>\n",
       "      <td>158616</td>\n",
       "      <td>сыграть свадьбу</td>\n",
       "      <td>118514.486412</td>\n",
       "      <td>big_income</td>\n",
       "      <td>свадьба</td>\n",
       "    </tr>\n",
       "  </tbody>\n",
       "</table>\n",
       "</div>"
      ],
      "text/plain": [
       "   children  days_employed  dob_years education  education_id  \\\n",
       "0         1          -8437         42    высшее             0   \n",
       "1         1          -4024         36   среднее             1   \n",
       "2         0          -5623         33   среднее             1   \n",
       "3         3          -4124         32   среднее             1   \n",
       "4         0         340266         53   среднее             1   \n",
       "\n",
       "      family_status  family_status_id gender income_type  debt  total_income  \\\n",
       "0   женат / замужем                 0      F   сотрудник     0        253875   \n",
       "1   женат / замужем                 0      F   сотрудник     0        112080   \n",
       "2   женат / замужем                 0      M   сотрудник     0        145885   \n",
       "3   женат / замужем                 0      M   сотрудник     0        267628   \n",
       "4  гражданский брак                 1      F   пенсионер     0        158616   \n",
       "\n",
       "                      purpose  median_income  income_category purpose_category  \n",
       "0               покупка жилья  142594.396847  very_big_income     недвижимость  \n",
       "1     приобретение автомобиля  142594.396847    normal_income       автомобиль  \n",
       "2               покупка жилья  142594.396847       big_income     недвижимость  \n",
       "3  дополнительное образование  142594.396847  very_big_income      образование  \n",
       "4             сыграть свадьбу  118514.486412       big_income          свадьба  "
      ]
     },
     "execution_count": 31,
     "metadata": {},
     "output_type": "execute_result"
    }
   ],
   "source": [
    "def income_categories(data):\n",
    "    if data <= stats[4]:\n",
    "        return 'small_income'\n",
    "    elif stats[4] < data <= stats[5]:\n",
    "        return 'normal_income'\n",
    "    elif stats[5] < data <= stats[6]:\n",
    "        return 'big_income'\n",
    "    else:\n",
    "        return 'very_big_income'\n",
    "\n",
    "data['income_category'] = data['total_income'].apply(income_categories)\n",
    "data.head()\n",
    "#data['income_categories'].value_counts()\n"
   ]
  },
  {
   "cell_type": "markdown",
   "metadata": {},
   "source": [
    "Разбили уровень доходов на 4 категории :\n",
    "* `small_income` - доходы ниже 107 654\n",
    "* `normal_income` - доходы в диапазоне 107 654 : 150 427\n",
    "* `big_income` - доходы в диапазоне 150 427 : 195 767\n",
    "* `very_big_income` - доходы свыше 195 767\n",
    "\n",
    "Этих данных нам хватит что ответить на вопрос `Есть ли зависимость между уровнем дохода и возвратом кредита в срок?`"
   ]
  },
  {
   "cell_type": "markdown",
   "metadata": {},
   "source": [
    "#### Категоризация по целям.\n",
    "Этот словарь у нас был сделан при лемматизации. Категориями будут выступать сами цели."
   ]
  },
  {
   "cell_type": "code",
   "execution_count": 32,
   "metadata": {},
   "outputs": [
    {
     "data": {
      "text/plain": [
       "недвижимость    8850\n",
       "автомобиль      4308\n",
       "образование     4014\n",
       "свадьба         2335\n",
       "коммерция       1964\n",
       "Name: purpose_category, dtype: int64"
      ]
     },
     "execution_count": 32,
     "metadata": {},
     "output_type": "execute_result"
    }
   ],
   "source": [
    "data['purpose_category'].value_counts()"
   ]
  },
  {
   "cell_type": "markdown",
   "metadata": {},
   "source": [
    "Этих данных нам хватит, чтобы ответить на вопрос `Как разные цели кредита влияют на его возврат в срок?`"
   ]
  },
  {
   "cell_type": "markdown",
   "metadata": {},
   "source": [
    "#### Категоризация по детям."
   ]
  },
  {
   "cell_type": "code",
   "execution_count": 33,
   "metadata": {},
   "outputs": [
    {
     "data": {
      "text/plain": [
       "0    14107\n",
       "1     4856\n",
       "2     2128\n",
       "3      330\n",
       "4       41\n",
       "5        9\n",
       "Name: children, dtype: int64"
      ]
     },
     "execution_count": 33,
     "metadata": {},
     "output_type": "execute_result"
    }
   ],
   "source": [
    "#data['children'].value_counts() # исправим недарозумение с -1 и 20 детей, вероятнее всего это ошбика.\n",
    "# -1 уберем взятием по модулю, это не повредит остальным данным\n",
    "data['children'] = data['children'].abs() \n",
    "# Заменим 20 дейтей двумя, т.к тоже скорее всего ошибка\n",
    "data.loc[data['children'] == 20, 'children'] = 2 \n",
    "# Проверим еще раз\n",
    "data['children'].value_counts() "
   ]
  },
  {
   "cell_type": "markdown",
   "metadata": {},
   "source": [
    "Нет смысла категоризировать этот пункт, он и без нашего участия категоризирован по к-ву детей"
   ]
  },
  {
   "cell_type": "markdown",
   "metadata": {},
   "source": [
    "#### Категоризация по семейному положению"
   ]
  },
  {
   "cell_type": "code",
   "execution_count": 34,
   "metadata": {},
   "outputs": [
    {
     "data": {
      "text/plain": [
       "женат / замужем          12344\n",
       "гражданский брак          4163\n",
       "Не женат / не замужем     2810\n",
       "в разводе                 1195\n",
       "вдовец / вдова             959\n",
       "Name: family_status, dtype: int64"
      ]
     },
     "execution_count": 34,
     "metadata": {},
     "output_type": "execute_result"
    }
   ],
   "source": [
    "data['family_status'].value_counts()"
   ]
  },
  {
   "cell_type": "markdown",
   "metadata": {},
   "source": [
    "По аналогии с пунктом `2.5.3`"
   ]
  },
  {
   "cell_type": "markdown",
   "metadata": {},
   "source": [
    "**Вывод**"
   ]
  },
  {
   "cell_type": "markdown",
   "metadata": {},
   "source": [
    "Провели категоризацию и вывели 2 столбца `income_category` и `purpose_category`. Ответы на остальные вопросы уже имеются в таблице и не требуют категоризации:\n",
    "* Семейных положений не так много и каждый является своей категорией, всего 5 категорий\n",
    "* К-во детей так же является категориями и их всего 6\n",
    "\n",
    "Всех этих данным нам вполне хватит, чтобы ответить на требуемые вопросы."
   ]
  },
  {
   "cell_type": "markdown",
   "metadata": {},
   "source": [
    "<div class=\"alert alert-success\">\n",
    "\n",
    "<b>🔁1️⃣ Ревьюер: 👍</b> Да, все верно и вывод хороший.\n",
    "\n",
    "</div>"
   ]
  },
  {
   "cell_type": "markdown",
   "metadata": {},
   "source": [
    "## Шаг 3. Ответьте на вопросы"
   ]
  },
  {
   "cell_type": "markdown",
   "metadata": {},
   "source": [
    "- Есть ли зависимость между наличием детей и возвратом кредита в срок?"
   ]
  },
  {
   "cell_type": "code",
   "execution_count": 35,
   "metadata": {},
   "outputs": [
    {
     "data": {
      "text/html": [
       "<div>\n",
       "<style scoped>\n",
       "    .dataframe tbody tr th:only-of-type {\n",
       "        vertical-align: middle;\n",
       "    }\n",
       "\n",
       "    .dataframe tbody tr th {\n",
       "        vertical-align: top;\n",
       "    }\n",
       "\n",
       "    .dataframe thead th {\n",
       "        text-align: right;\n",
       "    }\n",
       "</style>\n",
       "<table border=\"1\" class=\"dataframe\">\n",
       "  <thead>\n",
       "    <tr style=\"text-align: right;\">\n",
       "      <th>debt</th>\n",
       "      <th>0</th>\n",
       "      <th>1</th>\n",
       "    </tr>\n",
       "    <tr>\n",
       "      <th>children</th>\n",
       "      <th></th>\n",
       "      <th></th>\n",
       "    </tr>\n",
       "  </thead>\n",
       "  <tbody>\n",
       "    <tr>\n",
       "      <th>0</th>\n",
       "      <td>13044.0</td>\n",
       "      <td>1063.0</td>\n",
       "    </tr>\n",
       "    <tr>\n",
       "      <th>1</th>\n",
       "      <td>4411.0</td>\n",
       "      <td>445.0</td>\n",
       "    </tr>\n",
       "    <tr>\n",
       "      <th>2</th>\n",
       "      <td>1926.0</td>\n",
       "      <td>202.0</td>\n",
       "    </tr>\n",
       "    <tr>\n",
       "      <th>3</th>\n",
       "      <td>303.0</td>\n",
       "      <td>27.0</td>\n",
       "    </tr>\n",
       "    <tr>\n",
       "      <th>4</th>\n",
       "      <td>37.0</td>\n",
       "      <td>4.0</td>\n",
       "    </tr>\n",
       "    <tr>\n",
       "      <th>5</th>\n",
       "      <td>9.0</td>\n",
       "      <td>NaN</td>\n",
       "    </tr>\n",
       "  </tbody>\n",
       "</table>\n",
       "</div>"
      ],
      "text/plain": [
       "debt            0       1\n",
       "children                 \n",
       "0         13044.0  1063.0\n",
       "1          4411.0   445.0\n",
       "2          1926.0   202.0\n",
       "3           303.0    27.0\n",
       "4            37.0     4.0\n",
       "5             9.0     NaN"
      ]
     },
     "metadata": {},
     "output_type": "display_data"
    }
   ],
   "source": [
    "#Сводная таблица, где отражется сколько должников и платящих приходится на каждую группу детей\n",
    "children_debt_pivot = data.pivot_table(index=['children'], columns='debt', values='gender', aggfunc='count') \n",
    "display(children_debt_pivot) "
   ]
  },
  {
   "cell_type": "code",
   "execution_count": 36,
   "metadata": {},
   "outputs": [
    {
     "data": {
      "text/html": [
       "<div>\n",
       "<style scoped>\n",
       "    .dataframe tbody tr th:only-of-type {\n",
       "        vertical-align: middle;\n",
       "    }\n",
       "\n",
       "    .dataframe tbody tr th {\n",
       "        vertical-align: top;\n",
       "    }\n",
       "\n",
       "    .dataframe thead th {\n",
       "        text-align: right;\n",
       "    }\n",
       "</style>\n",
       "<table border=\"1\" class=\"dataframe\">\n",
       "  <thead>\n",
       "    <tr style=\"text-align: right;\">\n",
       "      <th>debt</th>\n",
       "      <th>0</th>\n",
       "      <th>1</th>\n",
       "      <th>ratio</th>\n",
       "    </tr>\n",
       "    <tr>\n",
       "      <th>children</th>\n",
       "      <th></th>\n",
       "      <th></th>\n",
       "      <th></th>\n",
       "    </tr>\n",
       "  </thead>\n",
       "  <tbody>\n",
       "    <tr>\n",
       "      <th>4</th>\n",
       "      <td>37.0</td>\n",
       "      <td>4.0</td>\n",
       "      <td>9.756098</td>\n",
       "    </tr>\n",
       "    <tr>\n",
       "      <th>2</th>\n",
       "      <td>1926.0</td>\n",
       "      <td>202.0</td>\n",
       "      <td>9.492481</td>\n",
       "    </tr>\n",
       "    <tr>\n",
       "      <th>1</th>\n",
       "      <td>4411.0</td>\n",
       "      <td>445.0</td>\n",
       "      <td>9.163921</td>\n",
       "    </tr>\n",
       "    <tr>\n",
       "      <th>3</th>\n",
       "      <td>303.0</td>\n",
       "      <td>27.0</td>\n",
       "      <td>8.181818</td>\n",
       "    </tr>\n",
       "    <tr>\n",
       "      <th>0</th>\n",
       "      <td>13044.0</td>\n",
       "      <td>1063.0</td>\n",
       "      <td>7.535266</td>\n",
       "    </tr>\n",
       "    <tr>\n",
       "      <th>5</th>\n",
       "      <td>9.0</td>\n",
       "      <td>NaN</td>\n",
       "      <td>NaN</td>\n",
       "    </tr>\n",
       "  </tbody>\n",
       "</table>\n",
       "</div>"
      ],
      "text/plain": [
       "debt            0       1     ratio\n",
       "children                           \n",
       "4            37.0     4.0  9.756098\n",
       "2          1926.0   202.0  9.492481\n",
       "1          4411.0   445.0  9.163921\n",
       "3           303.0    27.0  8.181818\n",
       "0         13044.0  1063.0  7.535266\n",
       "5             9.0     NaN       NaN"
      ]
     },
     "execution_count": 36,
     "metadata": {},
     "output_type": "execute_result"
    }
   ],
   "source": [
    "# Добавим колонку с соотношением платящих к должникам\n",
    "children_debt_pivot['ratio'] = (children_debt_pivot[1] / (children_debt_pivot[0] + children_debt_pivot[1]))* 100\n",
    "# Отсортируем по ratio\n",
    "children_debt_pivot.sort_values(by='ratio', ascending=False) \n",
    "                                                              "
   ]
  },
  {
   "cell_type": "markdown",
   "metadata": {},
   "source": [
    "<div class=\"alert alert-success\">\n",
    "\n",
    "<b>🔁1️⃣ Ревьюер: 👍</b> `ratio` можно было умножить на сто, чтобы получить проценты. \n",
    "\n",
    "</div>"
   ]
  },
  {
   "cell_type": "markdown",
   "metadata": {},
   "source": [
    "**Вывод**"
   ]
  },
  {
   "cell_type": "markdown",
   "metadata": {},
   "source": [
    "***Процент невозврата***\n",
    "* Без детей - 7.5%\n",
    "* С одним ребенком - 9.2%\n",
    "* С двумя - 9.5%\n",
    "* С тремя - 8.2%\n",
    "* С четырьмя - 9.8%\n",
    "\n",
    "Отсюда можно сделать вывод:\n",
    "* Однозначно наличие детей влияет на возврат кредита в срок, ведь вряд ли кто-то оставит ребенка голодным, чтобы заплатить за кредит\n",
    "* Но судя по этим данным нельзя сказать, что процент невозврата растет пропорционально к к-ву детей, но вероятнее всего это из-за слишком малой выборки."
   ]
  },
  {
   "cell_type": "markdown",
   "metadata": {},
   "source": [
    "<div class=\"alert alert-success\">\n",
    "\n",
    "<b>🔁1️⃣ Ревьюер: 👍</b> Абсолютно верно.\n",
    "\n",
    "</div>"
   ]
  },
  {
   "cell_type": "markdown",
   "metadata": {},
   "source": [
    "- Есть ли зависимость между семейным положением и возвратом кредита в срок?"
   ]
  },
  {
   "cell_type": "code",
   "execution_count": 37,
   "metadata": {},
   "outputs": [
    {
     "data": {
      "text/html": [
       "<div>\n",
       "<style scoped>\n",
       "    .dataframe tbody tr th:only-of-type {\n",
       "        vertical-align: middle;\n",
       "    }\n",
       "\n",
       "    .dataframe tbody tr th {\n",
       "        vertical-align: top;\n",
       "    }\n",
       "\n",
       "    .dataframe thead th {\n",
       "        text-align: right;\n",
       "    }\n",
       "</style>\n",
       "<table border=\"1\" class=\"dataframe\">\n",
       "  <thead>\n",
       "    <tr style=\"text-align: right;\">\n",
       "      <th>debt</th>\n",
       "      <th>0</th>\n",
       "      <th>1</th>\n",
       "    </tr>\n",
       "    <tr>\n",
       "      <th>family_status</th>\n",
       "      <th></th>\n",
       "      <th></th>\n",
       "    </tr>\n",
       "  </thead>\n",
       "  <tbody>\n",
       "    <tr>\n",
       "      <th>Не женат / не замужем</th>\n",
       "      <td>2536</td>\n",
       "      <td>274</td>\n",
       "    </tr>\n",
       "    <tr>\n",
       "      <th>в разводе</th>\n",
       "      <td>1110</td>\n",
       "      <td>85</td>\n",
       "    </tr>\n",
       "    <tr>\n",
       "      <th>вдовец / вдова</th>\n",
       "      <td>896</td>\n",
       "      <td>63</td>\n",
       "    </tr>\n",
       "    <tr>\n",
       "      <th>гражданский брак</th>\n",
       "      <td>3775</td>\n",
       "      <td>388</td>\n",
       "    </tr>\n",
       "    <tr>\n",
       "      <th>женат / замужем</th>\n",
       "      <td>11413</td>\n",
       "      <td>931</td>\n",
       "    </tr>\n",
       "  </tbody>\n",
       "</table>\n",
       "</div>"
      ],
      "text/plain": [
       "debt                       0    1\n",
       "family_status                    \n",
       "Не женат / не замужем   2536  274\n",
       "в разводе               1110   85\n",
       "вдовец / вдова           896   63\n",
       "гражданский брак        3775  388\n",
       "женат / замужем        11413  931"
      ]
     },
     "metadata": {},
     "output_type": "display_data"
    }
   ],
   "source": [
    "# Создадим сводную таблицу\n",
    "family_debt_pivot = data.pivot_table(index=['family_status'], columns='debt', values='gender', aggfunc='count')\n",
    "display(family_debt_pivot)"
   ]
  },
  {
   "cell_type": "code",
   "execution_count": 38,
   "metadata": {},
   "outputs": [
    {
     "data": {
      "text/html": [
       "<div>\n",
       "<style scoped>\n",
       "    .dataframe tbody tr th:only-of-type {\n",
       "        vertical-align: middle;\n",
       "    }\n",
       "\n",
       "    .dataframe tbody tr th {\n",
       "        vertical-align: top;\n",
       "    }\n",
       "\n",
       "    .dataframe thead th {\n",
       "        text-align: right;\n",
       "    }\n",
       "</style>\n",
       "<table border=\"1\" class=\"dataframe\">\n",
       "  <thead>\n",
       "    <tr style=\"text-align: right;\">\n",
       "      <th>debt</th>\n",
       "      <th>0</th>\n",
       "      <th>1</th>\n",
       "      <th>ratio</th>\n",
       "    </tr>\n",
       "    <tr>\n",
       "      <th>family_status</th>\n",
       "      <th></th>\n",
       "      <th></th>\n",
       "      <th></th>\n",
       "    </tr>\n",
       "  </thead>\n",
       "  <tbody>\n",
       "    <tr>\n",
       "      <th>Не женат / не замужем</th>\n",
       "      <td>2536</td>\n",
       "      <td>274</td>\n",
       "      <td>9.750890</td>\n",
       "    </tr>\n",
       "    <tr>\n",
       "      <th>гражданский брак</th>\n",
       "      <td>3775</td>\n",
       "      <td>388</td>\n",
       "      <td>9.320202</td>\n",
       "    </tr>\n",
       "    <tr>\n",
       "      <th>женат / замужем</th>\n",
       "      <td>11413</td>\n",
       "      <td>931</td>\n",
       "      <td>7.542126</td>\n",
       "    </tr>\n",
       "    <tr>\n",
       "      <th>в разводе</th>\n",
       "      <td>1110</td>\n",
       "      <td>85</td>\n",
       "      <td>7.112971</td>\n",
       "    </tr>\n",
       "    <tr>\n",
       "      <th>вдовец / вдова</th>\n",
       "      <td>896</td>\n",
       "      <td>63</td>\n",
       "      <td>6.569343</td>\n",
       "    </tr>\n",
       "  </tbody>\n",
       "</table>\n",
       "</div>"
      ],
      "text/plain": [
       "debt                       0    1     ratio\n",
       "family_status                              \n",
       "Не женат / не замужем   2536  274  9.750890\n",
       "гражданский брак        3775  388  9.320202\n",
       "женат / замужем        11413  931  7.542126\n",
       "в разводе               1110   85  7.112971\n",
       "вдовец / вдова           896   63  6.569343"
      ]
     },
     "execution_count": 38,
     "metadata": {},
     "output_type": "execute_result"
    }
   ],
   "source": [
    "# Добавим соотношение и отсортируем по нему\n",
    "family_debt_pivot['ratio'] = (family_debt_pivot[1] / (family_debt_pivot[0]+family_debt_pivot[1]))*100\n",
    "family_debt_pivot.sort_values(by='ratio', ascending=False)"
   ]
  },
  {
   "cell_type": "markdown",
   "metadata": {},
   "source": [
    "**Вывод**"
   ]
  },
  {
   "cell_type": "markdown",
   "metadata": {},
   "source": [
    "**Процент невозврата**\n",
    "* Не женат / не замужем - 9.8%\n",
    "* гражданский брак - 9.3%\n",
    "* женат / замужем - 7.5%\n",
    "* в разводе - 7.1%\n",
    "* вдовец / вдова - 6.6%\n",
    "\n",
    "Отсюда можно сделать вывод, что люди живущие вне оффициального брака платят реже чем люди в браке или бывшие в нем.\n",
    "Это обуславливается тем, что:\n",
    "* Холостяки и состоящие в отношениях чаще тратят деньги на \"погулять\" и делают больше импульсивных покупок\n",
    "* А жизнь в браке их остепеняет и учит думать преждем чем тратить"
   ]
  },
  {
   "cell_type": "markdown",
   "metadata": {},
   "source": [
    "- Есть ли зависимость между уровнем дохода и возвратом кредита в срок?"
   ]
  },
  {
   "cell_type": "code",
   "execution_count": 39,
   "metadata": {},
   "outputs": [
    {
     "data": {
      "text/html": [
       "<div>\n",
       "<style scoped>\n",
       "    .dataframe tbody tr th:only-of-type {\n",
       "        vertical-align: middle;\n",
       "    }\n",
       "\n",
       "    .dataframe tbody tr th {\n",
       "        vertical-align: top;\n",
       "    }\n",
       "\n",
       "    .dataframe thead th {\n",
       "        text-align: right;\n",
       "    }\n",
       "</style>\n",
       "<table border=\"1\" class=\"dataframe\">\n",
       "  <thead>\n",
       "    <tr style=\"text-align: right;\">\n",
       "      <th>debt</th>\n",
       "      <th>0</th>\n",
       "      <th>1</th>\n",
       "    </tr>\n",
       "    <tr>\n",
       "      <th>income_category</th>\n",
       "      <th></th>\n",
       "      <th></th>\n",
       "    </tr>\n",
       "  </thead>\n",
       "  <tbody>\n",
       "    <tr>\n",
       "      <th>big_income</th>\n",
       "      <td>4797</td>\n",
       "      <td>448</td>\n",
       "    </tr>\n",
       "    <tr>\n",
       "      <th>normal_income</th>\n",
       "      <td>5007</td>\n",
       "      <td>483</td>\n",
       "    </tr>\n",
       "    <tr>\n",
       "      <th>small_income</th>\n",
       "      <td>4941</td>\n",
       "      <td>427</td>\n",
       "    </tr>\n",
       "    <tr>\n",
       "      <th>very_big_income</th>\n",
       "      <td>4985</td>\n",
       "      <td>383</td>\n",
       "    </tr>\n",
       "  </tbody>\n",
       "</table>\n",
       "</div>"
      ],
      "text/plain": [
       "debt                0    1\n",
       "income_category           \n",
       "big_income       4797  448\n",
       "normal_income    5007  483\n",
       "small_income     4941  427\n",
       "very_big_income  4985  383"
      ]
     },
     "metadata": {},
     "output_type": "display_data"
    }
   ],
   "source": [
    "#Создадим сводную таблицу\n",
    "income_category_debt = data.pivot_table(index=['income_category'], columns='debt', values='gender', aggfunc='count')\n",
    "display(income_category_debt)"
   ]
  },
  {
   "cell_type": "code",
   "execution_count": 40,
   "metadata": {},
   "outputs": [
    {
     "data": {
      "text/html": [
       "<div>\n",
       "<style scoped>\n",
       "    .dataframe tbody tr th:only-of-type {\n",
       "        vertical-align: middle;\n",
       "    }\n",
       "\n",
       "    .dataframe tbody tr th {\n",
       "        vertical-align: top;\n",
       "    }\n",
       "\n",
       "    .dataframe thead th {\n",
       "        text-align: right;\n",
       "    }\n",
       "</style>\n",
       "<table border=\"1\" class=\"dataframe\">\n",
       "  <thead>\n",
       "    <tr style=\"text-align: right;\">\n",
       "      <th>debt</th>\n",
       "      <th>0</th>\n",
       "      <th>1</th>\n",
       "      <th>ratio</th>\n",
       "    </tr>\n",
       "    <tr>\n",
       "      <th>income_category</th>\n",
       "      <th></th>\n",
       "      <th></th>\n",
       "      <th></th>\n",
       "    </tr>\n",
       "  </thead>\n",
       "  <tbody>\n",
       "    <tr>\n",
       "      <th>normal_income</th>\n",
       "      <td>5007</td>\n",
       "      <td>483</td>\n",
       "      <td>8.797814</td>\n",
       "    </tr>\n",
       "    <tr>\n",
       "      <th>big_income</th>\n",
       "      <td>4797</td>\n",
       "      <td>448</td>\n",
       "      <td>8.541468</td>\n",
       "    </tr>\n",
       "    <tr>\n",
       "      <th>small_income</th>\n",
       "      <td>4941</td>\n",
       "      <td>427</td>\n",
       "      <td>7.954545</td>\n",
       "    </tr>\n",
       "    <tr>\n",
       "      <th>very_big_income</th>\n",
       "      <td>4985</td>\n",
       "      <td>383</td>\n",
       "      <td>7.134873</td>\n",
       "    </tr>\n",
       "  </tbody>\n",
       "</table>\n",
       "</div>"
      ],
      "text/plain": [
       "debt                0    1     ratio\n",
       "income_category                     \n",
       "normal_income    5007  483  8.797814\n",
       "big_income       4797  448  8.541468\n",
       "small_income     4941  427  7.954545\n",
       "very_big_income  4985  383  7.134873"
      ]
     },
     "execution_count": 40,
     "metadata": {},
     "output_type": "execute_result"
    }
   ],
   "source": [
    "# Добавим соотношение и осортируем по нему:\n",
    "income_category_debt['ratio'] = (income_category_debt[1] / (income_category_debt[0] + income_category_debt[1]))*100\n",
    "income_category_debt.sort_values('ratio', ascending=False)"
   ]
  },
  {
   "cell_type": "markdown",
   "metadata": {},
   "source": [
    "**Вывод**"
   ]
  },
  {
   "cell_type": "markdown",
   "metadata": {},
   "source": [
    "**Процент невозврата**\n",
    "* normal_income - 8.8%\n",
    "* big_income - 8.5%\n",
    "* small_income - 7.9%\n",
    "* very_big_income - 7.1%\n",
    "\n",
    "Отсюда делаем вывод:\n",
    "* Люди с самым большим и самым маленьким доходом чаще всего платят кредит в срок, это обуславливается их финансовой грамотностью и умением распоряжаться своим бюджетом, причем богатые люди меньше всего просрачивают\n",
    "* Люди со средним и выше среднего доходом, являются лидерами: ведь когда у тебя появляется денег чуть больше чем очень мало(`normal_income`), ты на радостях начинаешь тратить больше, поэтому нехватает денег платить по кредиту, но с ростом доходов (`big_income`) твой пыл охлаждается и ты начинаешь понемногу считать деньги.\n",
    "    \n",
    "    * Но этот пункт не относится к категории `small_income`, ведь когда у тебя и так мало денег, у тебя просто нечего тратить и ты считаешь свои \"кровные\"\n"
   ]
  },
  {
   "cell_type": "markdown",
   "metadata": {},
   "source": [
    "- Как разные цели кредита влияют на его возврат в срок?"
   ]
  },
  {
   "cell_type": "code",
   "execution_count": 31,
   "metadata": {},
   "outputs": [
    {
     "data": {
      "text/html": [
       "<div>\n",
       "<style scoped>\n",
       "    .dataframe tbody tr th:only-of-type {\n",
       "        vertical-align: middle;\n",
       "    }\n",
       "\n",
       "    .dataframe tbody tr th {\n",
       "        vertical-align: top;\n",
       "    }\n",
       "\n",
       "    .dataframe thead th {\n",
       "        text-align: right;\n",
       "    }\n",
       "</style>\n",
       "<table border=\"1\" class=\"dataframe\">\n",
       "  <thead>\n",
       "    <tr style=\"text-align: right;\">\n",
       "      <th>debt</th>\n",
       "      <th>0</th>\n",
       "      <th>1</th>\n",
       "    </tr>\n",
       "    <tr>\n",
       "      <th>purpose_category</th>\n",
       "      <th></th>\n",
       "      <th></th>\n",
       "    </tr>\n",
       "  </thead>\n",
       "  <tbody>\n",
       "    <tr>\n",
       "      <td>автомобиль</td>\n",
       "      <td>3905</td>\n",
       "      <td>403</td>\n",
       "    </tr>\n",
       "    <tr>\n",
       "      <td>коммерция</td>\n",
       "      <td>1813</td>\n",
       "      <td>151</td>\n",
       "    </tr>\n",
       "    <tr>\n",
       "      <td>недвижимость</td>\n",
       "      <td>8219</td>\n",
       "      <td>631</td>\n",
       "    </tr>\n",
       "    <tr>\n",
       "      <td>образование</td>\n",
       "      <td>3644</td>\n",
       "      <td>370</td>\n",
       "    </tr>\n",
       "    <tr>\n",
       "      <td>свадьба</td>\n",
       "      <td>2149</td>\n",
       "      <td>186</td>\n",
       "    </tr>\n",
       "  </tbody>\n",
       "</table>\n",
       "</div>"
      ],
      "text/plain": [
       "debt                 0    1\n",
       "purpose_category           \n",
       "автомобиль        3905  403\n",
       "коммерция         1813  151\n",
       "недвижимость      8219  631\n",
       "образование       3644  370\n",
       "свадьба           2149  186"
      ]
     },
     "metadata": {},
     "output_type": "display_data"
    }
   ],
   "source": [
    "# Сводная таблица\n",
    "purpose_category_debt = data.pivot_table(index=['purpose_category'], columns='debt', values='gender', aggfunc='count')\n",
    "display(purpose_category_debt)"
   ]
  },
  {
   "cell_type": "code",
   "execution_count": 32,
   "metadata": {},
   "outputs": [
    {
     "data": {
      "text/html": [
       "<div>\n",
       "<style scoped>\n",
       "    .dataframe tbody tr th:only-of-type {\n",
       "        vertical-align: middle;\n",
       "    }\n",
       "\n",
       "    .dataframe tbody tr th {\n",
       "        vertical-align: top;\n",
       "    }\n",
       "\n",
       "    .dataframe thead th {\n",
       "        text-align: right;\n",
       "    }\n",
       "</style>\n",
       "<table border=\"1\" class=\"dataframe\">\n",
       "  <thead>\n",
       "    <tr style=\"text-align: right;\">\n",
       "      <th>debt</th>\n",
       "      <th>0</th>\n",
       "      <th>1</th>\n",
       "      <th>ratio</th>\n",
       "    </tr>\n",
       "    <tr>\n",
       "      <th>purpose_category</th>\n",
       "      <th></th>\n",
       "      <th></th>\n",
       "      <th></th>\n",
       "    </tr>\n",
       "  </thead>\n",
       "  <tbody>\n",
       "    <tr>\n",
       "      <td>автомобиль</td>\n",
       "      <td>3905</td>\n",
       "      <td>403</td>\n",
       "      <td>9.354689</td>\n",
       "    </tr>\n",
       "    <tr>\n",
       "      <td>образование</td>\n",
       "      <td>3644</td>\n",
       "      <td>370</td>\n",
       "      <td>9.217738</td>\n",
       "    </tr>\n",
       "    <tr>\n",
       "      <td>свадьба</td>\n",
       "      <td>2149</td>\n",
       "      <td>186</td>\n",
       "      <td>7.965739</td>\n",
       "    </tr>\n",
       "    <tr>\n",
       "      <td>коммерция</td>\n",
       "      <td>1813</td>\n",
       "      <td>151</td>\n",
       "      <td>7.688391</td>\n",
       "    </tr>\n",
       "    <tr>\n",
       "      <td>недвижимость</td>\n",
       "      <td>8219</td>\n",
       "      <td>631</td>\n",
       "      <td>7.129944</td>\n",
       "    </tr>\n",
       "  </tbody>\n",
       "</table>\n",
       "</div>"
      ],
      "text/plain": [
       "debt                 0    1     ratio\n",
       "purpose_category                     \n",
       "автомобиль        3905  403  9.354689\n",
       "образование       3644  370  9.217738\n",
       "свадьба           2149  186  7.965739\n",
       "коммерция         1813  151  7.688391\n",
       "недвижимость      8219  631  7.129944"
      ]
     },
     "execution_count": 32,
     "metadata": {},
     "output_type": "execute_result"
    }
   ],
   "source": [
    "# Соотношение и сортировка\n",
    "purpose_category_debt['ratio'] = (purpose_category_debt[1] / (purpose_category_debt[1] + purpose_category_debt[0]))*100\n",
    "purpose_category_debt.sort_values('ratio', ascending=False)"
   ]
  },
  {
   "cell_type": "markdown",
   "metadata": {},
   "source": [
    "**Вывод**"
   ]
  },
  {
   "cell_type": "markdown",
   "metadata": {},
   "source": [
    "**Процент невозврата**\n",
    "* автомобиль - 9.4%\n",
    "* образование - 9.2%\n",
    "* свадьба - 7.9%\n",
    "* коммерция - 7.7%\n",
    "* недвижимость - 7.1%\n",
    "\n",
    "**Отсюда вывод:**\n",
    "* Меньше всего должников в категории `недвижимость`, это обсулавливается тем, что недвижмость это , как правило, очень дорогостоящяя покупка при малых доходах, отсюда люди более ответственны. Также покупка недвижимости это полностью обдуманное и взвешенное решение, плюс зачастую помогают родственники, отсюда и дисциплина в платежах.\n",
    "* Больше всего должников в категориях `автомобиль` и `образование`, люди не так серьезно к этому относятся, ведь суммы не прям заоблачные. Еще, возможно, играет фактор статусности, люди хотят машину и образование по престижнее, поэтому немного перебирают с кредитом и не справляются с платежами, по причине не обдуманности решений.\n",
    "\n"
   ]
  },
  {
   "cell_type": "markdown",
   "metadata": {},
   "source": [
    "## Шаг 4. Общий вывод"
   ]
  },
  {
   "cell_type": "markdown",
   "metadata": {},
   "source": [
    "Все 4 категории :\n",
    "1. Дети\n",
    "2. Цель кредита\n",
    "3. Семейное положение\n",
    "4. Уровень дохода\n",
    "\n",
    "так или иначе влияют на возврат кредита.\n",
    "\n",
    "Можно подвести итог:\n",
    "* Когда у людей есть дети (1, 2, 3, 4 ребенка), они с вероятностью (9.2%, 9.5%, 8.2%, 9.8% соответственно) откладывают платеж по кредиту, против 7.5% у бездетных, пусть первые более ответственные, но детей нужно чем-то кормить.\n",
    "\n",
    "\n",
    "* Реже всего просрачивают платежи люди, которые берут кредит на `недвижимость` - 7.1%,`коммерцию` - 7.7%,`свадьбу` - 7.9%, потому что их решение взвешенное и обдуманное, они сразу готовы на это, а вот люди которые берут кредит на `автомобиль` - 9.4% и `образование` - 9.2%, чаще всего просрачивают платежи, потому что и машину хочется по новее и ВУЗ по престижние, а денег не всегда на такое хватает.\n",
    "\n",
    "\n",
    "* `Женатые`, `в разводе` или `вдовцы`, также реже просрачивают кредит(7.5%, 7.1% и 6.6%, соответственно), по причине привычке платить по долгам и с умом относиться к семейному бюджету, в отличие от `холостяков` и `гражданского брака`(9.8% и 9.3%, соответственно).\n",
    "\n",
    "\n",
    "* `Очень богатые люди` и `люди с маленьким доходам` относятся к деньгам осторожнее и лучше распределяют свой бюджет, соответственно и платят исправнее (7.1% и 7.9%,соответственно) чем те у кого `средний` и `выше среднего` (8.8% и 8.5%, соответственно).\n",
    "\n",
    "Отсюда можно вывести лучшего и не очень клиента банка:\n",
    "* Человек без детей, с доходом от 195 тысяч, женатый или бывший в браке, целью которого является коммерческая/жилая недвижимость\n",
    "* Человек с 1,2 детьми, с доходом  от 107 654 : 195 767, холостой, целью которого является автомобиль"
   ]
  },
  {
   "cell_type": "markdown",
   "metadata": {},
   "source": [
    "## Чек-лист готовности проекта\n",
    "\n",
    "Поставьте 'x' в выполненных пунктах. Далее нажмите Shift+Enter."
   ]
  },
  {
   "cell_type": "markdown",
   "metadata": {},
   "source": [
    "- [x]  открыт файл;\n",
    "- [x]  файл изучен;\n",
    "- [x]  определены пропущенные значения;\n",
    "- [x]  заполнены пропущенные значения;\n",
    "- [x]  есть пояснение, какие пропущенные значения обнаружены;\n",
    "- [x]  описаны возможные причины появления пропусков в данных;\n",
    "- [x]  объяснено, по какому принципу заполнены пропуски;\n",
    "- [x]  заменен вещественный тип данных на целочисленный;\n",
    "- [x]  есть пояснение, какой метод используется для изменения типа данных и почему;\n",
    "- [x]  удалены дубликаты;\n",
    "- [x]  есть пояснение, какой метод используется для поиска и удаления дубликатов;\n",
    "- [x]  описаны возможные причины появления дубликатов в данных;\n",
    "- [x]  выделены леммы в значениях столбца с целями получения кредита;\n",
    "- [x]  описан процесс лемматизации;\n",
    "- [x]  данные категоризированы;\n",
    "- [x]  есть объяснение принципа категоризации данных;\n",
    "- [x]  есть ответ на вопрос: \"Есть ли зависимость между наличием детей и возвратом кредита в срок?\";\n",
    "- [x]  есть ответ на вопрос: \"Есть ли зависимость между семейным положением и возвратом кредита в срок?\";\n",
    "- [x]  есть ответ на вопрос: \"Есть ли зависимость между уровнем дохода и возвратом кредита в срок?\";\n",
    "- [x]  есть ответ на вопрос: \"Как разные цели кредита влияют на его возврат в срок?\";\n",
    "- [x]  в каждом этапе есть выводы;\n",
    "- [x]  есть общий вывод."
   ]
  },
  {
   "cell_type": "code",
   "execution_count": null,
   "metadata": {},
   "outputs": [],
   "source": []
  }
 ],
 "metadata": {
  "ExecuteTimeLog": [
   {
    "duration": 407,
    "start_time": "2021-12-17T11:42:56.174Z"
   },
   {
    "duration": 336,
    "start_time": "2021-12-17T11:43:05.125Z"
   },
   {
    "duration": 1228,
    "start_time": "2021-12-17T11:43:05.710Z"
   },
   {
    "duration": 4,
    "start_time": "2021-12-17T11:43:15.452Z"
   },
   {
    "duration": 67,
    "start_time": "2021-12-17T11:43:17.157Z"
   },
   {
    "duration": 12,
    "start_time": "2021-12-17T11:43:18.062Z"
   },
   {
    "duration": 26,
    "start_time": "2021-12-17T11:43:33.525Z"
   },
   {
    "duration": 19,
    "start_time": "2021-12-17T11:51:35.679Z"
   },
   {
    "duration": 19,
    "start_time": "2021-12-17T11:51:46.328Z"
   },
   {
    "duration": 14,
    "start_time": "2021-12-17T11:51:53.551Z"
   },
   {
    "duration": 116,
    "start_time": "2021-12-17T11:56:49.197Z"
   },
   {
    "duration": 3,
    "start_time": "2021-12-17T12:15:44.933Z"
   },
   {
    "duration": 3,
    "start_time": "2021-12-17T12:15:47.276Z"
   },
   {
    "duration": 23,
    "start_time": "2021-12-17T12:18:52.627Z"
   },
   {
    "duration": 35,
    "start_time": "2021-12-17T12:26:06.839Z"
   },
   {
    "duration": 23,
    "start_time": "2021-12-17T12:26:26.857Z"
   },
   {
    "duration": 4,
    "start_time": "2021-12-17T12:31:34.657Z"
   },
   {
    "duration": 129,
    "start_time": "2021-12-17T12:31:34.953Z"
   },
   {
    "duration": 64,
    "start_time": "2021-12-17T12:31:35.281Z"
   },
   {
    "duration": 65,
    "start_time": "2021-12-17T12:31:45.073Z"
   },
   {
    "duration": 930,
    "start_time": "2021-12-17T12:32:14.609Z"
   },
   {
    "duration": 80,
    "start_time": "2021-12-17T12:52:39.387Z"
   },
   {
    "duration": 76,
    "start_time": "2021-12-17T12:52:42.553Z"
   },
   {
    "duration": 92,
    "start_time": "2021-12-17T12:52:46.608Z"
   },
   {
    "duration": 14,
    "start_time": "2021-12-17T13:00:48.362Z"
   },
   {
    "duration": 12,
    "start_time": "2021-12-17T13:00:55.034Z"
   },
   {
    "duration": 37,
    "start_time": "2021-12-17T13:16:07.009Z"
   },
   {
    "duration": 13,
    "start_time": "2021-12-17T13:16:26.864Z"
   },
   {
    "duration": 13,
    "start_time": "2021-12-17T13:16:55.856Z"
   },
   {
    "duration": 130,
    "start_time": "2021-12-17T13:17:24.463Z"
   },
   {
    "duration": 402,
    "start_time": "2021-12-17T13:41:45.413Z"
   },
   {
    "duration": 327,
    "start_time": "2021-12-17T13:43:16.515Z"
   },
   {
    "duration": 376,
    "start_time": "2021-12-17T13:43:32.171Z"
   },
   {
    "duration": 12,
    "start_time": "2021-12-17T13:44:16.676Z"
   },
   {
    "duration": 12,
    "start_time": "2021-12-17T13:44:35.371Z"
   },
   {
    "duration": 114,
    "start_time": "2021-12-17T14:06:09.651Z"
   },
   {
    "duration": 5,
    "start_time": "2021-12-17T14:25:27.892Z"
   },
   {
    "duration": 12,
    "start_time": "2021-12-17T14:25:29.644Z"
   },
   {
    "duration": 54,
    "start_time": "2021-12-17T14:34:06.310Z"
   },
   {
    "duration": -150,
    "start_time": "2021-12-17T14:36:27.995Z"
   },
   {
    "duration": 7,
    "start_time": "2021-12-17T14:39:09.290Z"
   },
   {
    "duration": 5,
    "start_time": "2021-12-17T14:39:13.778Z"
   },
   {
    "duration": 18,
    "start_time": "2021-12-17T14:49:01.733Z"
   },
   {
    "duration": 427,
    "start_time": "2021-12-17T14:49:14.924Z"
   },
   {
    "duration": 105,
    "start_time": "2021-12-17T14:49:18.404Z"
   },
   {
    "duration": 18,
    "start_time": "2021-12-17T14:49:21.596Z"
   },
   {
    "duration": 12,
    "start_time": "2021-12-17T14:49:26.004Z"
   },
   {
    "duration": 5,
    "start_time": "2021-12-17T15:16:26.954Z"
   },
   {
    "duration": 8,
    "start_time": "2021-12-17T15:17:42.816Z"
   },
   {
    "duration": 12,
    "start_time": "2021-12-17T15:18:34.025Z"
   },
   {
    "duration": 13,
    "start_time": "2021-12-17T15:18:54.489Z"
   },
   {
    "duration": 78,
    "start_time": "2021-12-17T15:24:42.004Z"
   },
   {
    "duration": 329,
    "start_time": "2021-12-17T15:29:05.320Z"
   },
   {
    "duration": 361,
    "start_time": "2021-12-17T15:29:15.687Z"
   },
   {
    "duration": 334,
    "start_time": "2021-12-17T15:29:38.936Z"
   },
   {
    "duration": 333,
    "start_time": "2021-12-17T15:30:02.472Z"
   },
   {
    "duration": 8,
    "start_time": "2021-12-17T15:30:08.856Z"
   },
   {
    "duration": 14,
    "start_time": "2021-12-17T15:30:10.152Z"
   },
   {
    "duration": 9,
    "start_time": "2021-12-17T15:30:37.072Z"
   },
   {
    "duration": 11,
    "start_time": "2021-12-17T15:30:50.703Z"
   },
   {
    "duration": 6,
    "start_time": "2021-12-17T15:30:56.383Z"
   },
   {
    "duration": 6,
    "start_time": "2021-12-17T15:31:29.415Z"
   },
   {
    "duration": 13,
    "start_time": "2021-12-17T15:31:48.943Z"
   },
   {
    "duration": 5,
    "start_time": "2021-12-17T15:32:02.279Z"
   },
   {
    "duration": 14,
    "start_time": "2021-12-17T15:32:05.782Z"
   },
   {
    "duration": 6,
    "start_time": "2021-12-17T15:32:19.630Z"
   },
   {
    "duration": 359,
    "start_time": "2021-12-19T09:44:58.734Z"
   },
   {
    "duration": 767,
    "start_time": "2021-12-19T09:45:03.074Z"
   },
   {
    "duration": 89,
    "start_time": "2021-12-19T09:45:03.844Z"
   },
   {
    "duration": 14,
    "start_time": "2021-12-19T09:45:03.936Z"
   },
   {
    "duration": 5,
    "start_time": "2021-12-19T09:45:03.952Z"
   },
   {
    "duration": 6,
    "start_time": "2021-12-19T09:45:03.959Z"
   },
   {
    "duration": 13,
    "start_time": "2021-12-19T09:45:03.968Z"
   },
   {
    "duration": 16,
    "start_time": "2021-12-19T09:45:04.017Z"
   },
   {
    "duration": 8,
    "start_time": "2021-12-19T09:45:04.036Z"
   },
   {
    "duration": 11,
    "start_time": "2021-12-19T09:45:04.047Z"
   },
   {
    "duration": 7,
    "start_time": "2021-12-19T09:45:04.060Z"
   },
   {
    "duration": 9,
    "start_time": "2021-12-19T09:45:32.057Z"
   },
   {
    "duration": -99,
    "start_time": "2021-12-19T09:46:00.580Z"
   },
   {
    "duration": 16,
    "start_time": "2021-12-19T09:46:10.791Z"
   },
   {
    "duration": 4,
    "start_time": "2021-12-19T09:46:16.045Z"
   },
   {
    "duration": 20,
    "start_time": "2021-12-19T09:46:18.530Z"
   },
   {
    "duration": 7,
    "start_time": "2021-12-19T09:46:48.067Z"
   },
   {
    "duration": 8,
    "start_time": "2021-12-19T09:47:29.046Z"
   },
   {
    "duration": 7,
    "start_time": "2021-12-19T09:48:09.707Z"
   },
   {
    "duration": 108,
    "start_time": "2021-12-19T09:48:25.408Z"
   },
   {
    "duration": 7,
    "start_time": "2021-12-19T09:48:29.722Z"
   },
   {
    "duration": 5,
    "start_time": "2021-12-19T09:48:32.323Z"
   },
   {
    "duration": 7,
    "start_time": "2021-12-19T09:48:32.947Z"
   },
   {
    "duration": 7,
    "start_time": "2021-12-19T09:49:10.562Z"
   },
   {
    "duration": 74,
    "start_time": "2021-12-19T09:49:21.602Z"
   },
   {
    "duration": 5,
    "start_time": "2021-12-19T09:49:38.469Z"
   },
   {
    "duration": 8,
    "start_time": "2021-12-19T09:49:39.072Z"
   },
   {
    "duration": 7,
    "start_time": "2021-12-19T09:49:54.720Z"
   },
   {
    "duration": 110,
    "start_time": "2021-12-19T09:50:04.933Z"
   },
   {
    "duration": 108,
    "start_time": "2021-12-19T09:50:08.467Z"
   },
   {
    "duration": 7,
    "start_time": "2021-12-19T09:50:17.559Z"
   },
   {
    "duration": 8,
    "start_time": "2021-12-19T09:50:33.425Z"
   },
   {
    "duration": 4,
    "start_time": "2021-12-19T09:50:38.591Z"
   },
   {
    "duration": 73,
    "start_time": "2021-12-19T09:50:38.603Z"
   },
   {
    "duration": 14,
    "start_time": "2021-12-19T09:50:38.678Z"
   },
   {
    "duration": 23,
    "start_time": "2021-12-19T09:50:38.695Z"
   },
   {
    "duration": 8,
    "start_time": "2021-12-19T09:50:38.720Z"
   },
   {
    "duration": 11,
    "start_time": "2021-12-19T09:50:38.731Z"
   },
   {
    "duration": 19,
    "start_time": "2021-12-19T09:50:38.745Z"
   },
   {
    "duration": 7,
    "start_time": "2021-12-19T09:50:38.766Z"
   },
   {
    "duration": 48,
    "start_time": "2021-12-19T09:50:38.775Z"
   },
   {
    "duration": 7,
    "start_time": "2021-12-19T09:50:38.827Z"
   },
   {
    "duration": 72,
    "start_time": "2021-12-19T09:55:45.098Z"
   },
   {
    "duration": 87,
    "start_time": "2021-12-19T09:56:11.420Z"
   },
   {
    "duration": 115,
    "start_time": "2021-12-19T10:12:12.635Z"
   },
   {
    "duration": 123,
    "start_time": "2021-12-19T10:12:53.837Z"
   },
   {
    "duration": 47,
    "start_time": "2021-12-19T10:19:58.910Z"
   },
   {
    "duration": 20,
    "start_time": "2021-12-19T10:28:39.598Z"
   },
   {
    "duration": 22,
    "start_time": "2021-12-19T10:28:53.721Z"
   },
   {
    "duration": 19,
    "start_time": "2021-12-19T10:29:00.305Z"
   },
   {
    "duration": 20,
    "start_time": "2021-12-19T10:29:05.538Z"
   },
   {
    "duration": 7,
    "start_time": "2021-12-19T10:31:32.434Z"
   },
   {
    "duration": 12,
    "start_time": "2021-12-19T10:31:36.294Z"
   },
   {
    "duration": 9,
    "start_time": "2021-12-19T10:33:58.907Z"
   },
   {
    "duration": 15,
    "start_time": "2021-12-19T10:33:59.943Z"
   },
   {
    "duration": 20,
    "start_time": "2021-12-19T10:37:38.470Z"
   },
   {
    "duration": 27,
    "start_time": "2021-12-19T10:42:49.387Z"
   },
   {
    "duration": 24,
    "start_time": "2021-12-19T10:42:52.774Z"
   },
   {
    "duration": 47,
    "start_time": "2021-12-19T10:47:16.448Z"
   },
   {
    "duration": 315,
    "start_time": "2021-12-19T10:47:34.545Z"
   },
   {
    "duration": 65,
    "start_time": "2021-12-19T10:47:38.370Z"
   },
   {
    "duration": 51,
    "start_time": "2021-12-19T10:51:37.605Z"
   },
   {
    "duration": 58,
    "start_time": "2021-12-19T10:56:21.452Z"
   },
   {
    "duration": 63,
    "start_time": "2021-12-19T10:59:25.631Z"
   },
   {
    "duration": 10,
    "start_time": "2021-12-19T11:12:14.187Z"
   },
   {
    "duration": 95,
    "start_time": "2021-12-19T11:12:19.550Z"
   },
   {
    "duration": 46,
    "start_time": "2021-12-19T11:12:19.648Z"
   },
   {
    "duration": 41,
    "start_time": "2021-12-19T11:12:19.697Z"
   },
   {
    "duration": 8,
    "start_time": "2021-12-19T11:12:19.741Z"
   },
   {
    "duration": 16,
    "start_time": "2021-12-19T11:12:19.752Z"
   },
   {
    "duration": 11,
    "start_time": "2021-12-19T11:12:19.770Z"
   },
   {
    "duration": 91,
    "start_time": "2021-12-19T11:12:19.783Z"
   },
   {
    "duration": 10,
    "start_time": "2021-12-19T11:12:19.876Z"
   },
   {
    "duration": 24,
    "start_time": "2021-12-19T11:15:22.945Z"
   },
   {
    "duration": 28,
    "start_time": "2021-12-19T11:20:20.946Z"
   },
   {
    "duration": 28,
    "start_time": "2021-12-19T11:20:36.534Z"
   },
   {
    "duration": 24,
    "start_time": "2021-12-19T11:21:23.807Z"
   },
   {
    "duration": 278,
    "start_time": "2021-12-19T11:22:51.590Z"
   },
   {
    "duration": 10,
    "start_time": "2021-12-19T11:30:04.154Z"
   },
   {
    "duration": 11,
    "start_time": "2021-12-19T11:32:01.246Z"
   },
   {
    "duration": 306,
    "start_time": "2021-12-20T05:56:12.243Z"
   },
   {
    "duration": 845,
    "start_time": "2021-12-20T05:56:16.672Z"
   },
   {
    "duration": 64,
    "start_time": "2021-12-20T05:56:17.521Z"
   },
   {
    "duration": 19,
    "start_time": "2021-12-20T05:56:17.589Z"
   },
   {
    "duration": 11,
    "start_time": "2021-12-20T05:56:17.611Z"
   },
   {
    "duration": 15,
    "start_time": "2021-12-20T05:56:17.624Z"
   },
   {
    "duration": 11,
    "start_time": "2021-12-20T05:56:17.663Z"
   },
   {
    "duration": 27,
    "start_time": "2021-12-20T05:56:17.676Z"
   },
   {
    "duration": 70,
    "start_time": "2021-12-20T05:56:17.705Z"
   },
   {
    "duration": 10,
    "start_time": "2021-12-20T05:56:17.778Z"
   },
   {
    "duration": 28,
    "start_time": "2021-12-20T05:56:17.790Z"
   },
   {
    "duration": 28,
    "start_time": "2021-12-20T05:56:17.820Z"
   },
   {
    "duration": 28,
    "start_time": "2021-12-20T05:56:17.850Z"
   },
   {
    "duration": 13,
    "start_time": "2021-12-20T05:56:35.173Z"
   },
   {
    "duration": 10,
    "start_time": "2021-12-20T05:56:49.932Z"
   },
   {
    "duration": 11,
    "start_time": "2021-12-20T05:56:58.716Z"
   },
   {
    "duration": 12,
    "start_time": "2021-12-20T05:57:04.420Z"
   },
   {
    "duration": 10,
    "start_time": "2021-12-20T05:57:12.724Z"
   },
   {
    "duration": 9,
    "start_time": "2021-12-20T05:57:18.651Z"
   },
   {
    "duration": 11,
    "start_time": "2021-12-20T05:57:29.620Z"
   },
   {
    "duration": 89,
    "start_time": "2021-12-20T05:57:39.575Z"
   },
   {
    "duration": 46,
    "start_time": "2021-12-20T05:57:39.666Z"
   },
   {
    "duration": 19,
    "start_time": "2021-12-20T05:57:39.716Z"
   },
   {
    "duration": 12,
    "start_time": "2021-12-20T05:57:39.762Z"
   },
   {
    "duration": 7,
    "start_time": "2021-12-20T05:57:39.777Z"
   },
   {
    "duration": 13,
    "start_time": "2021-12-20T05:57:39.786Z"
   },
   {
    "duration": 11,
    "start_time": "2021-12-20T05:57:39.801Z"
   },
   {
    "duration": 99,
    "start_time": "2021-12-20T05:57:39.816Z"
   },
   {
    "duration": 9,
    "start_time": "2021-12-20T05:57:39.918Z"
   },
   {
    "duration": 44,
    "start_time": "2021-12-20T05:57:39.929Z"
   },
   {
    "duration": 9,
    "start_time": "2021-12-20T05:57:39.976Z"
   },
   {
    "duration": 9,
    "start_time": "2021-12-20T05:57:39.987Z"
   },
   {
    "duration": 11,
    "start_time": "2021-12-20T05:57:55.651Z"
   },
   {
    "duration": 89,
    "start_time": "2021-12-20T05:57:57.967Z"
   },
   {
    "duration": 48,
    "start_time": "2021-12-20T05:57:58.062Z"
   },
   {
    "duration": 20,
    "start_time": "2021-12-20T05:57:58.113Z"
   },
   {
    "duration": 12,
    "start_time": "2021-12-20T05:57:58.164Z"
   },
   {
    "duration": 8,
    "start_time": "2021-12-20T05:57:58.178Z"
   },
   {
    "duration": 12,
    "start_time": "2021-12-20T05:57:58.189Z"
   },
   {
    "duration": 7,
    "start_time": "2021-12-20T05:57:58.203Z"
   },
   {
    "duration": 103,
    "start_time": "2021-12-20T05:57:58.213Z"
   },
   {
    "duration": 9,
    "start_time": "2021-12-20T05:57:58.320Z"
   },
   {
    "duration": 44,
    "start_time": "2021-12-20T05:57:58.332Z"
   },
   {
    "duration": 9,
    "start_time": "2021-12-20T05:57:58.379Z"
   },
   {
    "duration": 10,
    "start_time": "2021-12-20T05:57:58.390Z"
   },
   {
    "duration": 11,
    "start_time": "2021-12-20T05:58:37.403Z"
   },
   {
    "duration": 13,
    "start_time": "2021-12-20T05:58:43.492Z"
   },
   {
    "duration": 88,
    "start_time": "2021-12-20T05:58:45.534Z"
   },
   {
    "duration": 57,
    "start_time": "2021-12-20T05:58:45.625Z"
   },
   {
    "duration": 21,
    "start_time": "2021-12-20T05:58:45.685Z"
   },
   {
    "duration": 11,
    "start_time": "2021-12-20T05:58:45.709Z"
   },
   {
    "duration": 41,
    "start_time": "2021-12-20T05:58:45.722Z"
   },
   {
    "duration": 12,
    "start_time": "2021-12-20T05:58:45.765Z"
   },
   {
    "duration": 6,
    "start_time": "2021-12-20T05:58:45.779Z"
   },
   {
    "duration": 84,
    "start_time": "2021-12-20T05:58:45.789Z"
   },
   {
    "duration": 10,
    "start_time": "2021-12-20T05:58:45.875Z"
   },
   {
    "duration": 29,
    "start_time": "2021-12-20T05:58:45.887Z"
   },
   {
    "duration": 11,
    "start_time": "2021-12-20T05:58:45.919Z"
   },
   {
    "duration": 11,
    "start_time": "2021-12-20T05:58:45.963Z"
   },
   {
    "duration": 295,
    "start_time": "2021-12-20T06:02:06.432Z"
   },
   {
    "duration": 10,
    "start_time": "2021-12-20T06:02:13.714Z"
   },
   {
    "duration": 10,
    "start_time": "2021-12-20T06:02:53.627Z"
   },
   {
    "duration": 9,
    "start_time": "2021-12-20T06:03:00.800Z"
   },
   {
    "duration": 9,
    "start_time": "2021-12-20T06:03:28.223Z"
   },
   {
    "duration": 10,
    "start_time": "2021-12-20T06:03:43.175Z"
   },
   {
    "duration": 11,
    "start_time": "2021-12-20T06:03:47.807Z"
   },
   {
    "duration": 14,
    "start_time": "2021-12-20T06:12:11.627Z"
   },
   {
    "duration": 88,
    "start_time": "2021-12-20T06:12:16.221Z"
   },
   {
    "duration": 53,
    "start_time": "2021-12-20T06:12:16.312Z"
   },
   {
    "duration": 21,
    "start_time": "2021-12-20T06:12:16.368Z"
   },
   {
    "duration": 12,
    "start_time": "2021-12-20T06:12:16.392Z"
   },
   {
    "duration": 33,
    "start_time": "2021-12-20T06:12:16.406Z"
   },
   {
    "duration": 40,
    "start_time": "2021-12-20T06:12:16.441Z"
   },
   {
    "duration": 311,
    "start_time": "2021-12-20T06:12:16.484Z"
   },
   {
    "duration": -232,
    "start_time": "2021-12-20T06:12:17.030Z"
   },
   {
    "duration": -233,
    "start_time": "2021-12-20T06:12:17.033Z"
   },
   {
    "duration": -233,
    "start_time": "2021-12-20T06:12:17.034Z"
   },
   {
    "duration": -233,
    "start_time": "2021-12-20T06:12:17.036Z"
   },
   {
    "duration": -233,
    "start_time": "2021-12-20T06:12:17.037Z"
   },
   {
    "duration": 256,
    "start_time": "2021-12-20T06:17:37.924Z"
   },
   {
    "duration": 254,
    "start_time": "2021-12-20T06:51:11.642Z"
   },
   {
    "duration": 92,
    "start_time": "2021-12-20T06:51:25.694Z"
   },
   {
    "duration": 46,
    "start_time": "2021-12-20T06:51:25.790Z"
   },
   {
    "duration": 22,
    "start_time": "2021-12-20T06:51:25.863Z"
   },
   {
    "duration": 13,
    "start_time": "2021-12-20T06:51:25.889Z"
   },
   {
    "duration": 11,
    "start_time": "2021-12-20T06:51:25.905Z"
   },
   {
    "duration": 305,
    "start_time": "2021-12-20T06:51:25.919Z"
   },
   {
    "duration": -194,
    "start_time": "2021-12-20T06:51:26.420Z"
   },
   {
    "duration": -210,
    "start_time": "2021-12-20T06:51:26.438Z"
   },
   {
    "duration": -213,
    "start_time": "2021-12-20T06:51:26.442Z"
   },
   {
    "duration": -213,
    "start_time": "2021-12-20T06:51:26.444Z"
   },
   {
    "duration": -218,
    "start_time": "2021-12-20T06:51:26.450Z"
   },
   {
    "duration": -218,
    "start_time": "2021-12-20T06:51:26.452Z"
   },
   {
    "duration": -218,
    "start_time": "2021-12-20T06:51:26.454Z"
   },
   {
    "duration": 252,
    "start_time": "2021-12-20T06:51:35.860Z"
   },
   {
    "duration": 258,
    "start_time": "2021-12-20T06:51:52.379Z"
   },
   {
    "duration": 10,
    "start_time": "2021-12-20T06:52:34.897Z"
   },
   {
    "duration": 19,
    "start_time": "2021-12-20T06:52:42.594Z"
   },
   {
    "duration": 29,
    "start_time": "2021-12-20T06:52:52.977Z"
   },
   {
    "duration": 1800,
    "start_time": "2021-12-20T06:53:35.521Z"
   },
   {
    "duration": 23,
    "start_time": "2021-12-20T06:53:46.193Z"
   },
   {
    "duration": 16,
    "start_time": "2021-12-20T06:54:17.913Z"
   },
   {
    "duration": 16,
    "start_time": "2021-12-20T06:54:21.785Z"
   },
   {
    "duration": 16,
    "start_time": "2021-12-20T06:54:27.472Z"
   },
   {
    "duration": 10,
    "start_time": "2021-12-20T06:54:32.721Z"
   },
   {
    "duration": 14,
    "start_time": "2021-12-20T06:54:34.984Z"
   },
   {
    "duration": 18,
    "start_time": "2021-12-20T06:54:48.696Z"
   },
   {
    "duration": 12,
    "start_time": "2021-12-20T06:54:50.912Z"
   },
   {
    "duration": 44,
    "start_time": "2021-12-20T06:55:35.680Z"
   },
   {
    "duration": 18,
    "start_time": "2021-12-20T06:55:37.904Z"
   },
   {
    "duration": 89,
    "start_time": "2021-12-20T06:56:00.850Z"
   },
   {
    "duration": 61,
    "start_time": "2021-12-20T06:56:00.941Z"
   },
   {
    "duration": 20,
    "start_time": "2021-12-20T06:56:01.005Z"
   },
   {
    "duration": 36,
    "start_time": "2021-12-20T06:56:01.028Z"
   },
   {
    "duration": 9,
    "start_time": "2021-12-20T06:56:01.067Z"
   },
   {
    "duration": 55,
    "start_time": "2021-12-20T06:56:01.078Z"
   },
   {
    "duration": 12,
    "start_time": "2021-12-20T06:56:01.135Z"
   },
   {
    "duration": 270,
    "start_time": "2021-12-20T06:56:01.162Z"
   },
   {
    "duration": -181,
    "start_time": "2021-12-20T06:56:01.616Z"
   },
   {
    "duration": -186,
    "start_time": "2021-12-20T06:56:01.623Z"
   },
   {
    "duration": -191,
    "start_time": "2021-12-20T06:56:01.629Z"
   },
   {
    "duration": -197,
    "start_time": "2021-12-20T06:56:01.636Z"
   },
   {
    "duration": -198,
    "start_time": "2021-12-20T06:56:01.639Z"
   },
   {
    "duration": 20,
    "start_time": "2021-12-20T06:56:36.655Z"
   },
   {
    "duration": 29,
    "start_time": "2021-12-20T06:56:46.111Z"
   },
   {
    "duration": 13,
    "start_time": "2021-12-20T06:57:17.550Z"
   },
   {
    "duration": 27,
    "start_time": "2021-12-20T06:57:18.886Z"
   },
   {
    "duration": 12,
    "start_time": "2021-12-20T06:57:22.734Z"
   },
   {
    "duration": 88,
    "start_time": "2021-12-20T06:57:26.273Z"
   },
   {
    "duration": 47,
    "start_time": "2021-12-20T06:57:26.363Z"
   },
   {
    "duration": 20,
    "start_time": "2021-12-20T06:57:26.413Z"
   },
   {
    "duration": 37,
    "start_time": "2021-12-20T06:57:26.435Z"
   },
   {
    "duration": 8,
    "start_time": "2021-12-20T06:57:26.474Z"
   },
   {
    "duration": 13,
    "start_time": "2021-12-20T06:57:26.485Z"
   },
   {
    "duration": 12,
    "start_time": "2021-12-20T06:57:26.500Z"
   },
   {
    "duration": 303,
    "start_time": "2021-12-20T06:57:26.516Z"
   },
   {
    "duration": -211,
    "start_time": "2021-12-20T06:57:27.033Z"
   },
   {
    "duration": -211,
    "start_time": "2021-12-20T06:57:27.035Z"
   },
   {
    "duration": -212,
    "start_time": "2021-12-20T06:57:27.037Z"
   },
   {
    "duration": -212,
    "start_time": "2021-12-20T06:57:27.039Z"
   },
   {
    "duration": -213,
    "start_time": "2021-12-20T06:57:27.041Z"
   },
   {
    "duration": 263,
    "start_time": "2021-12-20T06:57:59.095Z"
   },
   {
    "duration": 14,
    "start_time": "2021-12-20T06:58:06.742Z"
   },
   {
    "duration": 12,
    "start_time": "2021-12-20T06:58:08.869Z"
   },
   {
    "duration": 30,
    "start_time": "2021-12-20T06:58:48.421Z"
   },
   {
    "duration": 12,
    "start_time": "2021-12-20T06:58:49.197Z"
   },
   {
    "duration": 260,
    "start_time": "2021-12-20T06:59:14.428Z"
   },
   {
    "duration": 253,
    "start_time": "2021-12-20T06:59:17.532Z"
   },
   {
    "duration": 259,
    "start_time": "2021-12-20T06:59:21.557Z"
   },
   {
    "duration": 252,
    "start_time": "2021-12-20T06:59:25.420Z"
   },
   {
    "duration": 248,
    "start_time": "2021-12-20T06:59:29.468Z"
   },
   {
    "duration": 10,
    "start_time": "2021-12-20T06:59:43.236Z"
   },
   {
    "duration": 11,
    "start_time": "2021-12-20T06:59:47.052Z"
   },
   {
    "duration": 31,
    "start_time": "2021-12-20T07:08:50.069Z"
   },
   {
    "duration": 42,
    "start_time": "2021-12-20T07:09:02.005Z"
   },
   {
    "duration": 5,
    "start_time": "2021-12-20T07:17:54.432Z"
   },
   {
    "duration": 77,
    "start_time": "2021-12-20T07:53:18.883Z"
   },
   {
    "duration": 607,
    "start_time": "2021-12-20T07:53:44.316Z"
   },
   {
    "duration": 996,
    "start_time": "2021-12-20T07:54:01.619Z"
   },
   {
    "duration": 830,
    "start_time": "2021-12-20T07:54:04.203Z"
   },
   {
    "duration": 1298,
    "start_time": "2021-12-20T07:56:29.177Z"
   },
   {
    "duration": 8,
    "start_time": "2021-12-20T07:59:02.295Z"
   },
   {
    "duration": 10,
    "start_time": "2021-12-20T07:59:12.391Z"
   },
   {
    "duration": 5,
    "start_time": "2021-12-20T09:13:27.064Z"
   },
   {
    "duration": 1008,
    "start_time": "2021-12-20T09:14:09.662Z"
   },
   {
    "duration": 8,
    "start_time": "2021-12-20T09:15:09.950Z"
   },
   {
    "duration": 14,
    "start_time": "2021-12-20T09:15:19.671Z"
   },
   {
    "duration": 8,
    "start_time": "2021-12-20T09:30:02.883Z"
   },
   {
    "duration": 23,
    "start_time": "2021-12-20T09:30:22.403Z"
   },
   {
    "duration": 66,
    "start_time": "2021-12-20T09:30:24.290Z"
   },
   {
    "duration": 10,
    "start_time": "2021-12-20T09:30:24.986Z"
   },
   {
    "duration": 12,
    "start_time": "2021-12-20T09:30:53.812Z"
   },
   {
    "duration": 94,
    "start_time": "2021-12-20T09:30:56.582Z"
   },
   {
    "duration": 46,
    "start_time": "2021-12-20T09:30:56.679Z"
   },
   {
    "duration": 40,
    "start_time": "2021-12-20T09:30:56.728Z"
   },
   {
    "duration": 12,
    "start_time": "2021-12-20T09:30:56.771Z"
   },
   {
    "duration": 19,
    "start_time": "2021-12-20T09:30:56.786Z"
   },
   {
    "duration": 61,
    "start_time": "2021-12-20T09:30:56.808Z"
   },
   {
    "duration": 13,
    "start_time": "2021-12-20T09:30:56.872Z"
   },
   {
    "duration": 12,
    "start_time": "2021-12-20T09:30:56.887Z"
   },
   {
    "duration": 88,
    "start_time": "2021-12-20T09:30:56.903Z"
   },
   {
    "duration": 10,
    "start_time": "2021-12-20T09:30:56.994Z"
   },
   {
    "duration": 39,
    "start_time": "2021-12-20T09:30:57.007Z"
   },
   {
    "duration": 20,
    "start_time": "2021-12-20T09:30:57.048Z"
   },
   {
    "duration": 24,
    "start_time": "2021-12-20T09:30:57.071Z"
   },
   {
    "duration": 10,
    "start_time": "2021-12-20T10:02:33.195Z"
   },
   {
    "duration": 2571,
    "start_time": "2021-12-20T11:12:14.054Z"
   },
   {
    "duration": 1137,
    "start_time": "2021-12-20T11:12:21.397Z"
   },
   {
    "duration": 1122,
    "start_time": "2021-12-20T11:14:26.620Z"
   },
   {
    "duration": 1655,
    "start_time": "2021-12-20T11:15:08.051Z"
   },
   {
    "duration": 3894,
    "start_time": "2021-12-20T11:15:14.587Z"
   },
   {
    "duration": 3613,
    "start_time": "2021-12-20T11:15:32.850Z"
   },
   {
    "duration": 4848,
    "start_time": "2021-12-20T11:21:00.049Z"
   },
   {
    "duration": 10,
    "start_time": "2021-12-20T11:22:10.869Z"
   },
   {
    "duration": 4702,
    "start_time": "2021-12-20T11:23:36.204Z"
   },
   {
    "duration": 10,
    "start_time": "2021-12-20T11:23:42.445Z"
   },
   {
    "duration": 4704,
    "start_time": "2021-12-20T11:24:14.740Z"
   },
   {
    "duration": 10,
    "start_time": "2021-12-20T11:24:22.388Z"
   },
   {
    "duration": 11,
    "start_time": "2021-12-20T11:24:27.691Z"
   },
   {
    "duration": 13671,
    "start_time": "2021-12-20T11:32:14.238Z"
   },
   {
    "duration": 38,
    "start_time": "2021-12-20T11:32:50.350Z"
   },
   {
    "duration": 35,
    "start_time": "2021-12-20T11:34:05.621Z"
   },
   {
    "duration": 4187,
    "start_time": "2021-12-20T11:41:35.760Z"
   },
   {
    "duration": 15,
    "start_time": "2021-12-20T11:43:10.623Z"
   },
   {
    "duration": 87,
    "start_time": "2021-12-20T11:55:57.420Z"
   },
   {
    "duration": 13,
    "start_time": "2021-12-20T12:14:27.343Z"
   },
   {
    "duration": 76,
    "start_time": "2021-12-20T12:15:35.565Z"
   },
   {
    "duration": 14,
    "start_time": "2021-12-20T12:16:01.973Z"
   },
   {
    "duration": 54,
    "start_time": "2021-12-20T12:16:40.077Z"
   },
   {
    "duration": 10,
    "start_time": "2021-12-20T12:16:40.989Z"
   },
   {
    "duration": 118,
    "start_time": "2021-12-20T12:16:43.985Z"
   },
   {
    "duration": 75,
    "start_time": "2021-12-20T12:16:44.107Z"
   },
   {
    "duration": 32,
    "start_time": "2021-12-20T12:16:44.187Z"
   },
   {
    "duration": 13,
    "start_time": "2021-12-20T12:16:44.222Z"
   },
   {
    "duration": 10,
    "start_time": "2021-12-20T12:16:44.264Z"
   },
   {
    "duration": 43,
    "start_time": "2021-12-20T12:16:44.277Z"
   },
   {
    "duration": 52,
    "start_time": "2021-12-20T12:16:44.323Z"
   },
   {
    "duration": 9,
    "start_time": "2021-12-20T12:16:44.377Z"
   },
   {
    "duration": 117,
    "start_time": "2021-12-20T12:16:44.391Z"
   },
   {
    "duration": 13,
    "start_time": "2021-12-20T12:16:44.511Z"
   },
   {
    "duration": 48,
    "start_time": "2021-12-20T12:16:44.527Z"
   },
   {
    "duration": 10,
    "start_time": "2021-12-20T12:16:44.578Z"
   },
   {
    "duration": 14,
    "start_time": "2021-12-20T12:16:44.591Z"
   },
   {
    "duration": 14,
    "start_time": "2021-12-20T12:16:44.609Z"
   },
   {
    "duration": 5342,
    "start_time": "2021-12-20T12:16:44.664Z"
   },
   {
    "duration": 10,
    "start_time": "2021-12-20T12:16:50.009Z"
   },
   {
    "duration": 79,
    "start_time": "2021-12-20T12:16:50.022Z"
   },
   {
    "duration": 13,
    "start_time": "2021-12-20T12:16:50.104Z"
   },
   {
    "duration": 24,
    "start_time": "2021-12-20T12:17:13.516Z"
   },
   {
    "duration": 14,
    "start_time": "2021-12-20T12:17:14.852Z"
   },
   {
    "duration": 127,
    "start_time": "2021-12-20T12:17:17.088Z"
   },
   {
    "duration": 72,
    "start_time": "2021-12-20T12:17:17.218Z"
   },
   {
    "duration": 22,
    "start_time": "2021-12-20T12:17:17.293Z"
   },
   {
    "duration": 13,
    "start_time": "2021-12-20T12:17:17.317Z"
   },
   {
    "duration": 37,
    "start_time": "2021-12-20T12:17:17.333Z"
   },
   {
    "duration": 44,
    "start_time": "2021-12-20T12:17:17.373Z"
   },
   {
    "duration": 47,
    "start_time": "2021-12-20T12:17:17.420Z"
   },
   {
    "duration": 9,
    "start_time": "2021-12-20T12:17:17.472Z"
   },
   {
    "duration": 101,
    "start_time": "2021-12-20T12:17:17.484Z"
   },
   {
    "duration": 10,
    "start_time": "2021-12-20T12:17:17.588Z"
   },
   {
    "duration": 38,
    "start_time": "2021-12-20T12:17:17.600Z"
   },
   {
    "duration": 27,
    "start_time": "2021-12-20T12:17:17.640Z"
   },
   {
    "duration": 41,
    "start_time": "2021-12-20T12:17:17.670Z"
   },
   {
    "duration": 29,
    "start_time": "2021-12-20T12:17:17.713Z"
   },
   {
    "duration": 5270,
    "start_time": "2021-12-20T12:17:17.745Z"
   },
   {
    "duration": 15,
    "start_time": "2021-12-20T12:17:23.019Z"
   },
   {
    "duration": 49,
    "start_time": "2021-12-20T12:17:23.037Z"
   },
   {
    "duration": 12,
    "start_time": "2021-12-20T12:17:23.089Z"
   },
   {
    "duration": 16,
    "start_time": "2021-12-20T12:18:13.260Z"
   },
   {
    "duration": 11,
    "start_time": "2021-12-20T12:18:14.395Z"
   },
   {
    "duration": 123,
    "start_time": "2021-12-20T12:18:25.559Z"
   },
   {
    "duration": 51,
    "start_time": "2021-12-20T12:18:25.685Z"
   },
   {
    "duration": 40,
    "start_time": "2021-12-20T12:18:25.740Z"
   },
   {
    "duration": 13,
    "start_time": "2021-12-20T12:18:25.783Z"
   },
   {
    "duration": 24,
    "start_time": "2021-12-20T12:18:25.800Z"
   },
   {
    "duration": 58,
    "start_time": "2021-12-20T12:18:25.826Z"
   },
   {
    "duration": 16,
    "start_time": "2021-12-20T12:18:25.888Z"
   },
   {
    "duration": 17,
    "start_time": "2021-12-20T12:18:25.909Z"
   },
   {
    "duration": 80,
    "start_time": "2021-12-20T12:18:25.929Z"
   },
   {
    "duration": 11,
    "start_time": "2021-12-20T12:18:26.012Z"
   },
   {
    "duration": 55,
    "start_time": "2021-12-20T12:18:26.026Z"
   },
   {
    "duration": 12,
    "start_time": "2021-12-20T12:18:26.083Z"
   },
   {
    "duration": 13,
    "start_time": "2021-12-20T12:18:26.097Z"
   },
   {
    "duration": 10,
    "start_time": "2021-12-20T12:18:26.112Z"
   },
   {
    "duration": 4904,
    "start_time": "2021-12-20T12:18:26.125Z"
   },
   {
    "duration": 12,
    "start_time": "2021-12-20T12:18:31.032Z"
   },
   {
    "duration": 33,
    "start_time": "2021-12-20T12:18:31.047Z"
   },
   {
    "duration": 9,
    "start_time": "2021-12-20T12:18:31.083Z"
   },
   {
    "duration": 4947,
    "start_time": "2021-12-20T12:20:13.370Z"
   },
   {
    "duration": 4567,
    "start_time": "2021-12-20T13:41:02.076Z"
   },
   {
    "duration": 3900,
    "start_time": "2021-12-20T13:41:17.628Z"
   },
   {
    "duration": 3922,
    "start_time": "2021-12-20T13:41:44.763Z"
   },
   {
    "duration": 3949,
    "start_time": "2021-12-20T14:24:18.299Z"
   },
   {
    "duration": 10,
    "start_time": "2021-12-20T14:24:23.539Z"
   },
   {
    "duration": 27,
    "start_time": "2021-12-20T14:24:27.059Z"
   },
   {
    "duration": 25,
    "start_time": "2021-12-20T14:24:38.243Z"
   },
   {
    "duration": 15,
    "start_time": "2021-12-20T14:24:38.843Z"
   },
   {
    "duration": 17,
    "start_time": "2021-12-20T14:24:50.651Z"
   },
   {
    "duration": 11,
    "start_time": "2021-12-20T14:24:51.252Z"
   },
   {
    "duration": 118,
    "start_time": "2021-12-20T14:24:53.799Z"
   },
   {
    "duration": 61,
    "start_time": "2021-12-20T14:24:53.920Z"
   },
   {
    "duration": 22,
    "start_time": "2021-12-20T14:24:53.985Z"
   },
   {
    "duration": 13,
    "start_time": "2021-12-20T14:24:54.011Z"
   },
   {
    "duration": 43,
    "start_time": "2021-12-20T14:24:54.026Z"
   },
   {
    "duration": 41,
    "start_time": "2021-12-20T14:24:54.072Z"
   },
   {
    "duration": 13,
    "start_time": "2021-12-20T14:24:54.116Z"
   },
   {
    "duration": 18,
    "start_time": "2021-12-20T14:24:54.165Z"
   },
   {
    "duration": 7,
    "start_time": "2021-12-20T14:24:54.186Z"
   },
   {
    "duration": 96,
    "start_time": "2021-12-20T14:24:54.198Z"
   },
   {
    "duration": 10,
    "start_time": "2021-12-20T14:24:54.297Z"
   },
   {
    "duration": 24,
    "start_time": "2021-12-20T14:24:54.310Z"
   },
   {
    "duration": 10,
    "start_time": "2021-12-20T14:24:54.364Z"
   },
   {
    "duration": 11,
    "start_time": "2021-12-20T14:24:54.377Z"
   },
   {
    "duration": 12,
    "start_time": "2021-12-20T14:24:54.391Z"
   },
   {
    "duration": 5041,
    "start_time": "2021-12-20T14:24:54.405Z"
   },
   {
    "duration": 22,
    "start_time": "2021-12-20T14:24:59.450Z"
   },
   {
    "duration": 29,
    "start_time": "2021-12-20T14:24:59.475Z"
   },
   {
    "duration": 13,
    "start_time": "2021-12-20T14:24:59.507Z"
   },
   {
    "duration": 17,
    "start_time": "2021-12-20T14:25:11.483Z"
   },
   {
    "duration": 11,
    "start_time": "2021-12-20T14:25:12.034Z"
   },
   {
    "duration": 18,
    "start_time": "2021-12-20T14:25:18.299Z"
   },
   {
    "duration": 11,
    "start_time": "2021-12-20T14:25:18.770Z"
   },
   {
    "duration": 268,
    "start_time": "2021-12-20T14:37:51.353Z"
   },
   {
    "duration": 7,
    "start_time": "2021-12-20T14:37:55.353Z"
   },
   {
    "duration": 6,
    "start_time": "2021-12-20T14:38:02.866Z"
   },
   {
    "duration": 8,
    "start_time": "2021-12-20T14:38:09.377Z"
   },
   {
    "duration": 10,
    "start_time": "2021-12-20T14:39:44.144Z"
   },
   {
    "duration": 12,
    "start_time": "2021-12-20T14:49:01.385Z"
   },
   {
    "duration": 9,
    "start_time": "2021-12-20T14:49:07.570Z"
   },
   {
    "duration": 12,
    "start_time": "2021-12-20T14:49:48.185Z"
   },
   {
    "duration": 14,
    "start_time": "2021-12-20T14:50:56.176Z"
   },
   {
    "duration": 11,
    "start_time": "2021-12-20T14:51:58.073Z"
   },
   {
    "duration": 12,
    "start_time": "2021-12-20T14:52:03.367Z"
   },
   {
    "duration": 10,
    "start_time": "2021-12-20T14:52:12.967Z"
   },
   {
    "duration": 10,
    "start_time": "2021-12-20T14:52:21.471Z"
   },
   {
    "duration": 42,
    "start_time": "2021-12-20T14:52:40.960Z"
   },
   {
    "duration": 15,
    "start_time": "2021-12-20T14:53:22.382Z"
   },
   {
    "duration": 14,
    "start_time": "2021-12-20T14:53:40.031Z"
   },
   {
    "duration": 33,
    "start_time": "2021-12-20T14:58:49.090Z"
   },
   {
    "duration": 32,
    "start_time": "2021-12-20T14:59:00.122Z"
   },
   {
    "duration": 35,
    "start_time": "2021-12-20T14:59:38.546Z"
   },
   {
    "duration": 37,
    "start_time": "2021-12-20T14:59:59.139Z"
   },
   {
    "duration": 44,
    "start_time": "2021-12-20T15:01:54.944Z"
   },
   {
    "duration": 53,
    "start_time": "2021-12-20T15:02:44.568Z"
   },
   {
    "duration": 303,
    "start_time": "2021-12-20T15:03:47.287Z"
   },
   {
    "duration": 50,
    "start_time": "2021-12-20T15:03:53.822Z"
   },
   {
    "duration": 37,
    "start_time": "2021-12-21T04:13:18.651Z"
   },
   {
    "duration": 270,
    "start_time": "2021-12-21T04:23:18.411Z"
   },
   {
    "duration": 12,
    "start_time": "2021-12-21T04:23:28.936Z"
   },
   {
    "duration": 32,
    "start_time": "2021-12-21T04:28:27.239Z"
   },
   {
    "duration": 14,
    "start_time": "2021-12-21T04:30:39.360Z"
   },
   {
    "duration": 118,
    "start_time": "2021-12-21T04:30:44.684Z"
   },
   {
    "duration": 67,
    "start_time": "2021-12-21T04:30:44.805Z"
   },
   {
    "duration": 21,
    "start_time": "2021-12-21T04:30:44.875Z"
   },
   {
    "duration": 11,
    "start_time": "2021-12-21T04:30:44.899Z"
   },
   {
    "duration": 51,
    "start_time": "2021-12-21T04:30:44.912Z"
   },
   {
    "duration": 112,
    "start_time": "2021-12-21T04:30:44.966Z"
   },
   {
    "duration": 19,
    "start_time": "2021-12-21T04:30:45.081Z"
   },
   {
    "duration": 64,
    "start_time": "2021-12-21T04:30:45.106Z"
   },
   {
    "duration": 9,
    "start_time": "2021-12-21T04:30:45.174Z"
   },
   {
    "duration": 125,
    "start_time": "2021-12-21T04:30:45.185Z"
   },
   {
    "duration": 14,
    "start_time": "2021-12-21T04:30:45.313Z"
   },
   {
    "duration": 66,
    "start_time": "2021-12-21T04:30:45.330Z"
   },
   {
    "duration": 13,
    "start_time": "2021-12-21T04:30:45.400Z"
   },
   {
    "duration": 55,
    "start_time": "2021-12-21T04:30:45.416Z"
   },
   {
    "duration": 15,
    "start_time": "2021-12-21T04:30:45.475Z"
   },
   {
    "duration": 4784,
    "start_time": "2021-12-21T04:30:45.493Z"
   },
   {
    "duration": 10,
    "start_time": "2021-12-21T04:30:50.279Z"
   },
   {
    "duration": 21,
    "start_time": "2021-12-21T04:30:50.292Z"
   },
   {
    "duration": 53,
    "start_time": "2021-12-21T04:30:50.315Z"
   },
   {
    "duration": 40,
    "start_time": "2021-12-21T04:30:50.371Z"
   },
   {
    "duration": 64,
    "start_time": "2021-12-21T04:30:50.414Z"
   },
   {
    "duration": 11,
    "start_time": "2021-12-21T04:31:02.645Z"
   },
   {
    "duration": 10,
    "start_time": "2021-12-21T04:31:17.493Z"
   },
   {
    "duration": 1213,
    "start_time": "2021-12-21T04:31:23.586Z"
   },
   {
    "duration": 98,
    "start_time": "2021-12-21T04:31:40.321Z"
   },
   {
    "duration": 70,
    "start_time": "2021-12-21T04:31:40.422Z"
   },
   {
    "duration": 20,
    "start_time": "2021-12-21T04:31:40.495Z"
   },
   {
    "duration": 53,
    "start_time": "2021-12-21T04:31:40.518Z"
   },
   {
    "duration": 10,
    "start_time": "2021-12-21T04:31:40.573Z"
   },
   {
    "duration": 90,
    "start_time": "2021-12-21T04:31:40.586Z"
   },
   {
    "duration": 13,
    "start_time": "2021-12-21T04:31:40.678Z"
   },
   {
    "duration": 14,
    "start_time": "2021-12-21T04:31:40.693Z"
   },
   {
    "duration": 55,
    "start_time": "2021-12-21T04:31:40.711Z"
   },
   {
    "duration": 94,
    "start_time": "2021-12-21T04:31:40.769Z"
   },
   {
    "duration": 10,
    "start_time": "2021-12-21T04:31:40.865Z"
   },
   {
    "duration": 23,
    "start_time": "2021-12-21T04:31:40.877Z"
   },
   {
    "duration": 60,
    "start_time": "2021-12-21T04:31:40.902Z"
   },
   {
    "duration": 10,
    "start_time": "2021-12-21T04:31:40.964Z"
   },
   {
    "duration": 10,
    "start_time": "2021-12-21T04:31:40.977Z"
   },
   {
    "duration": 5301,
    "start_time": "2021-12-21T04:31:40.990Z"
   },
   {
    "duration": 14,
    "start_time": "2021-12-21T04:31:46.295Z"
   },
   {
    "duration": 54,
    "start_time": "2021-12-21T04:31:46.312Z"
   },
   {
    "duration": 10,
    "start_time": "2021-12-21T04:31:46.368Z"
   },
   {
    "duration": 37,
    "start_time": "2021-12-21T04:31:46.380Z"
   },
   {
    "duration": 21,
    "start_time": "2021-12-21T04:31:46.463Z"
   },
   {
    "duration": 1184,
    "start_time": "2021-12-21T04:32:16.670Z"
   },
   {
    "duration": 10,
    "start_time": "2021-12-21T04:32:33.469Z"
   },
   {
    "duration": 10,
    "start_time": "2021-12-21T04:32:54.050Z"
   },
   {
    "duration": 11,
    "start_time": "2021-12-21T04:33:03.512Z"
   },
   {
    "duration": 24,
    "start_time": "2021-12-21T04:33:20.994Z"
   },
   {
    "duration": 142,
    "start_time": "2021-12-21T04:33:24.959Z"
   },
   {
    "duration": 94,
    "start_time": "2021-12-21T04:33:25.104Z"
   },
   {
    "duration": 29,
    "start_time": "2021-12-21T04:33:25.202Z"
   },
   {
    "duration": 16,
    "start_time": "2021-12-21T04:33:25.263Z"
   },
   {
    "duration": 25,
    "start_time": "2021-12-21T04:33:25.282Z"
   },
   {
    "duration": 100,
    "start_time": "2021-12-21T04:33:25.310Z"
   },
   {
    "duration": 18,
    "start_time": "2021-12-21T04:33:25.413Z"
   },
   {
    "duration": 49,
    "start_time": "2021-12-21T04:33:25.434Z"
   },
   {
    "duration": 7,
    "start_time": "2021-12-21T04:33:25.489Z"
   },
   {
    "duration": 111,
    "start_time": "2021-12-21T04:33:25.498Z"
   },
   {
    "duration": 10,
    "start_time": "2021-12-21T04:33:25.611Z"
   },
   {
    "duration": 60,
    "start_time": "2021-12-21T04:33:25.624Z"
   },
   {
    "duration": 28,
    "start_time": "2021-12-21T04:33:25.686Z"
   },
   {
    "duration": 21,
    "start_time": "2021-12-21T04:33:25.717Z"
   },
   {
    "duration": 24,
    "start_time": "2021-12-21T04:33:25.741Z"
   },
   {
    "duration": 5208,
    "start_time": "2021-12-21T04:33:25.767Z"
   },
   {
    "duration": 10,
    "start_time": "2021-12-21T04:33:30.978Z"
   },
   {
    "duration": 30,
    "start_time": "2021-12-21T04:33:30.991Z"
   },
   {
    "duration": 46,
    "start_time": "2021-12-21T04:33:31.024Z"
   },
   {
    "duration": 28,
    "start_time": "2021-12-21T04:33:31.073Z"
   },
   {
    "duration": 70,
    "start_time": "2021-12-21T04:33:31.104Z"
   },
   {
    "duration": 3863,
    "start_time": "2021-12-21T04:33:34.560Z"
   },
   {
    "duration": 10,
    "start_time": "2021-12-21T04:33:42.080Z"
   },
   {
    "duration": 17,
    "start_time": "2021-12-21T04:33:46.009Z"
   },
   {
    "duration": 11,
    "start_time": "2021-12-21T04:33:46.710Z"
   },
   {
    "duration": 22,
    "start_time": "2021-12-21T04:34:00.729Z"
   },
   {
    "duration": 21,
    "start_time": "2021-12-21T04:36:14.891Z"
   },
   {
    "duration": 21,
    "start_time": "2021-12-21T04:36:21.745Z"
   },
   {
    "duration": 11,
    "start_time": "2021-12-21T04:41:46.741Z"
   },
   {
    "duration": 19,
    "start_time": "2021-12-21T04:44:03.971Z"
   },
   {
    "duration": 23,
    "start_time": "2021-12-21T04:50:27.888Z"
   },
   {
    "duration": 296,
    "start_time": "2021-12-21T04:50:38.383Z"
   },
   {
    "duration": 27,
    "start_time": "2021-12-21T04:50:54.022Z"
   },
   {
    "duration": 285,
    "start_time": "2021-12-21T04:52:29.813Z"
   },
   {
    "duration": 271,
    "start_time": "2021-12-21T04:52:35.115Z"
   },
   {
    "duration": 14,
    "start_time": "2021-12-21T04:52:43.521Z"
   },
   {
    "duration": 255,
    "start_time": "2021-12-21T04:52:58.276Z"
   },
   {
    "duration": 242,
    "start_time": "2021-12-21T04:53:08.146Z"
   },
   {
    "duration": 408,
    "start_time": "2021-12-21T04:53:42.472Z"
   },
   {
    "duration": 251,
    "start_time": "2021-12-21T04:53:48.745Z"
   },
   {
    "duration": 551,
    "start_time": "2021-12-21T04:53:56.147Z"
   },
   {
    "duration": 427,
    "start_time": "2021-12-21T04:54:05.288Z"
   },
   {
    "duration": 253,
    "start_time": "2021-12-21T04:56:03.841Z"
   },
   {
    "duration": 14,
    "start_time": "2021-12-21T04:56:09.130Z"
   },
   {
    "duration": 13,
    "start_time": "2021-12-21T04:56:25.633Z"
   },
   {
    "duration": 16,
    "start_time": "2021-12-21T04:56:39.376Z"
   },
   {
    "duration": 31,
    "start_time": "2021-12-21T04:57:42.755Z"
   },
   {
    "duration": 31,
    "start_time": "2021-12-21T04:57:50.721Z"
   },
   {
    "duration": 7,
    "start_time": "2021-12-21T05:20:10.401Z"
   },
   {
    "duration": 14,
    "start_time": "2021-12-21T05:20:26.959Z"
   },
   {
    "duration": 7,
    "start_time": "2021-12-21T05:20:52.695Z"
   },
   {
    "duration": 7,
    "start_time": "2021-12-21T05:21:17.278Z"
   },
   {
    "duration": 7,
    "start_time": "2021-12-21T05:21:48.688Z"
   },
   {
    "duration": 14,
    "start_time": "2021-12-21T05:21:52.331Z"
   },
   {
    "duration": 7195,
    "start_time": "2021-12-21T05:22:14.455Z"
   },
   {
    "duration": 19,
    "start_time": "2021-12-21T05:22:24.982Z"
   },
   {
    "duration": 12,
    "start_time": "2021-12-21T05:22:30.252Z"
   },
   {
    "duration": 12,
    "start_time": "2021-12-21T05:22:48.831Z"
   },
   {
    "duration": 1211,
    "start_time": "2021-12-21T05:31:28.913Z"
   },
   {
    "duration": 1064,
    "start_time": "2021-12-21T05:31:49.347Z"
   },
   {
    "duration": 1163,
    "start_time": "2021-12-21T05:32:38.045Z"
   },
   {
    "duration": 1108,
    "start_time": "2021-12-21T05:32:42.724Z"
   },
   {
    "duration": 12,
    "start_time": "2021-12-21T05:33:09.194Z"
   },
   {
    "duration": 1067,
    "start_time": "2021-12-21T05:33:16.190Z"
   },
   {
    "duration": 1079,
    "start_time": "2021-12-21T05:40:27.324Z"
   },
   {
    "duration": 9,
    "start_time": "2021-12-21T05:43:04.312Z"
   },
   {
    "duration": 129,
    "start_time": "2021-12-21T05:43:19.623Z"
   },
   {
    "duration": 53,
    "start_time": "2021-12-21T05:43:19.755Z"
   },
   {
    "duration": 62,
    "start_time": "2021-12-21T05:43:19.812Z"
   },
   {
    "duration": 12,
    "start_time": "2021-12-21T05:43:19.877Z"
   },
   {
    "duration": 9,
    "start_time": "2021-12-21T05:43:19.892Z"
   },
   {
    "duration": 91,
    "start_time": "2021-12-21T05:43:19.904Z"
   },
   {
    "duration": 19,
    "start_time": "2021-12-21T05:43:19.998Z"
   },
   {
    "duration": 22,
    "start_time": "2021-12-21T05:43:20.065Z"
   },
   {
    "duration": 9,
    "start_time": "2021-12-21T05:43:20.094Z"
   },
   {
    "duration": 136,
    "start_time": "2021-12-21T05:43:20.106Z"
   },
   {
    "duration": 26,
    "start_time": "2021-12-21T05:43:20.245Z"
   },
   {
    "duration": 31,
    "start_time": "2021-12-21T05:43:20.274Z"
   },
   {
    "duration": 57,
    "start_time": "2021-12-21T05:43:20.308Z"
   },
   {
    "duration": 11,
    "start_time": "2021-12-21T05:43:20.368Z"
   },
   {
    "duration": 21,
    "start_time": "2021-12-21T05:43:20.382Z"
   },
   {
    "duration": 4980,
    "start_time": "2021-12-21T05:43:20.405Z"
   },
   {
    "duration": 10,
    "start_time": "2021-12-21T05:43:25.388Z"
   },
   {
    "duration": 34,
    "start_time": "2021-12-21T05:43:25.400Z"
   },
   {
    "duration": 9,
    "start_time": "2021-12-21T05:43:25.464Z"
   },
   {
    "duration": 32,
    "start_time": "2021-12-21T05:43:25.476Z"
   },
   {
    "duration": 1095,
    "start_time": "2021-12-21T05:43:25.510Z"
   },
   {
    "duration": 14,
    "start_time": "2021-12-21T05:43:26.608Z"
   },
   {
    "duration": 10,
    "start_time": "2021-12-21T05:43:26.624Z"
   },
   {
    "duration": 4,
    "start_time": "2021-12-21T05:44:00.723Z"
   },
   {
    "duration": 21,
    "start_time": "2021-12-21T05:47:41.615Z"
   },
   {
    "duration": 13,
    "start_time": "2021-12-21T05:47:46.034Z"
   },
   {
    "duration": 16,
    "start_time": "2021-12-21T05:49:33.816Z"
   },
   {
    "duration": 11,
    "start_time": "2021-12-21T05:51:05.620Z"
   },
   {
    "duration": 334,
    "start_time": "2021-12-22T03:46:22.131Z"
   },
   {
    "duration": 839,
    "start_time": "2021-12-22T03:46:30.364Z"
   },
   {
    "duration": 49,
    "start_time": "2021-12-22T03:46:31.206Z"
   },
   {
    "duration": 21,
    "start_time": "2021-12-22T03:46:31.259Z"
   },
   {
    "duration": 42,
    "start_time": "2021-12-22T03:46:31.283Z"
   },
   {
    "duration": 10,
    "start_time": "2021-12-22T03:46:31.327Z"
   },
   {
    "duration": 48,
    "start_time": "2021-12-22T03:46:31.340Z"
   },
   {
    "duration": 29,
    "start_time": "2021-12-22T03:46:31.390Z"
   },
   {
    "duration": 14,
    "start_time": "2021-12-22T03:46:31.421Z"
   },
   {
    "duration": 6,
    "start_time": "2021-12-22T03:46:31.439Z"
   },
   {
    "duration": 96,
    "start_time": "2021-12-22T03:46:31.448Z"
   },
   {
    "duration": 11,
    "start_time": "2021-12-22T03:46:31.546Z"
   },
   {
    "duration": 28,
    "start_time": "2021-12-22T03:46:31.559Z"
   },
   {
    "duration": 33,
    "start_time": "2021-12-22T03:46:31.590Z"
   },
   {
    "duration": 14,
    "start_time": "2021-12-22T03:46:31.625Z"
   },
   {
    "duration": 16,
    "start_time": "2021-12-22T03:46:31.642Z"
   },
   {
    "duration": 4400,
    "start_time": "2021-12-22T03:46:31.661Z"
   },
   {
    "duration": 10,
    "start_time": "2021-12-22T03:46:36.063Z"
   },
   {
    "duration": 43,
    "start_time": "2021-12-22T03:46:36.076Z"
   },
   {
    "duration": 10,
    "start_time": "2021-12-22T03:46:36.122Z"
   },
   {
    "duration": 12,
    "start_time": "2021-12-22T03:46:36.134Z"
   },
   {
    "duration": 1153,
    "start_time": "2021-12-22T03:46:36.149Z"
   },
   {
    "duration": 19,
    "start_time": "2021-12-22T03:46:37.304Z"
   },
   {
    "duration": 19,
    "start_time": "2021-12-22T03:46:37.325Z"
   },
   {
    "duration": 9,
    "start_time": "2021-12-22T03:46:37.347Z"
   },
   {
    "duration": 80,
    "start_time": "2021-12-22T03:46:37.358Z"
   },
   {
    "duration": 367,
    "start_time": "2021-12-22T03:47:50.975Z"
   },
   {
    "duration": 27,
    "start_time": "2021-12-22T03:48:11.535Z"
   },
   {
    "duration": 297,
    "start_time": "2021-12-22T03:48:43.728Z"
   },
   {
    "duration": 27,
    "start_time": "2021-12-22T03:48:59.653Z"
   },
   {
    "duration": 27,
    "start_time": "2021-12-22T03:49:06.507Z"
   },
   {
    "duration": 332,
    "start_time": "2021-12-22T03:49:39.662Z"
   },
   {
    "duration": 28,
    "start_time": "2021-12-22T03:50:06.678Z"
   },
   {
    "duration": 42,
    "start_time": "2021-12-22T03:50:36.582Z"
   },
   {
    "duration": 29,
    "start_time": "2021-12-22T03:50:46.531Z"
   },
   {
    "duration": 42,
    "start_time": "2021-12-22T03:54:19.257Z"
   },
   {
    "duration": 27,
    "start_time": "2021-12-22T03:54:27.868Z"
   },
   {
    "duration": 338,
    "start_time": "2021-12-22T03:54:45.707Z"
   },
   {
    "duration": 28,
    "start_time": "2021-12-22T03:55:04.424Z"
   },
   {
    "duration": 17,
    "start_time": "2021-12-22T03:58:39.097Z"
   },
   {
    "duration": 302,
    "start_time": "2021-12-22T03:59:56.565Z"
   },
   {
    "duration": 13,
    "start_time": "2021-12-22T04:00:18.463Z"
   },
   {
    "duration": 24,
    "start_time": "2021-12-22T04:00:46.030Z"
   },
   {
    "duration": 34,
    "start_time": "2021-12-22T04:07:02.358Z"
   },
   {
    "duration": 5848,
    "start_time": "2021-12-22T04:07:26.082Z"
   },
   {
    "duration": 34,
    "start_time": "2021-12-22T04:07:58.563Z"
   },
   {
    "duration": 776,
    "start_time": "2021-12-22T04:08:05.609Z"
   },
   {
    "duration": 26,
    "start_time": "2021-12-22T04:08:11.217Z"
   },
   {
    "duration": 14,
    "start_time": "2021-12-22T04:08:13.216Z"
   },
   {
    "duration": 31,
    "start_time": "2021-12-22T04:08:34.802Z"
   },
   {
    "duration": 36,
    "start_time": "2021-12-22T04:08:49.180Z"
   },
   {
    "duration": 27,
    "start_time": "2021-12-22T04:09:04.242Z"
   },
   {
    "duration": 15,
    "start_time": "2021-12-22T04:13:36.114Z"
   },
   {
    "duration": 15,
    "start_time": "2021-12-22T04:13:41.354Z"
   },
   {
    "duration": 25,
    "start_time": "2021-12-22T04:17:42.561Z"
   },
   {
    "duration": 13,
    "start_time": "2021-12-22T04:17:43.672Z"
   },
   {
    "duration": 303,
    "start_time": "2021-12-22T04:17:59.281Z"
   },
   {
    "duration": 27,
    "start_time": "2021-12-22T04:18:05.136Z"
   },
   {
    "duration": 24,
    "start_time": "2021-12-22T04:20:20.333Z"
   },
   {
    "duration": 27,
    "start_time": "2021-12-22T04:20:24.695Z"
   },
   {
    "duration": 14,
    "start_time": "2021-12-22T04:23:11.343Z"
   },
   {
    "duration": 29,
    "start_time": "2021-12-22T04:23:29.261Z"
   },
   {
    "duration": 14,
    "start_time": "2021-12-22T04:24:33.255Z"
   },
   {
    "duration": 14,
    "start_time": "2021-12-22T04:24:38.058Z"
   },
   {
    "duration": 13,
    "start_time": "2021-12-22T04:25:27.387Z"
   },
   {
    "duration": 322,
    "start_time": "2021-12-22T04:37:58.822Z"
   },
   {
    "duration": 28,
    "start_time": "2021-12-22T04:38:06.723Z"
   },
   {
    "duration": 38,
    "start_time": "2021-12-22T04:39:52.317Z"
   },
   {
    "duration": 27,
    "start_time": "2021-12-22T04:40:38.995Z"
   },
   {
    "duration": 4,
    "start_time": "2021-12-22T04:40:56.134Z"
   },
   {
    "duration": 14,
    "start_time": "2021-12-22T04:42:14.796Z"
   },
   {
    "duration": 288,
    "start_time": "2021-12-22T04:54:11.276Z"
   },
   {
    "duration": 28,
    "start_time": "2021-12-22T04:54:33.816Z"
   },
   {
    "duration": 309,
    "start_time": "2021-12-22T04:55:51.558Z"
   },
   {
    "duration": 13,
    "start_time": "2021-12-22T04:56:15.321Z"
   },
   {
    "duration": 121,
    "start_time": "2021-12-22T05:29:59.745Z"
   },
   {
    "duration": 60,
    "start_time": "2021-12-22T05:29:59.869Z"
   },
   {
    "duration": 20,
    "start_time": "2021-12-22T05:29:59.931Z"
   },
   {
    "duration": 11,
    "start_time": "2021-12-22T05:29:59.954Z"
   },
   {
    "duration": 9,
    "start_time": "2021-12-22T05:29:59.967Z"
   },
   {
    "duration": 73,
    "start_time": "2021-12-22T05:29:59.979Z"
   },
   {
    "duration": 12,
    "start_time": "2021-12-22T05:30:00.054Z"
   },
   {
    "duration": 48,
    "start_time": "2021-12-22T05:30:00.070Z"
   },
   {
    "duration": 8,
    "start_time": "2021-12-22T05:30:00.121Z"
   },
   {
    "duration": 66,
    "start_time": "2021-12-22T05:30:00.131Z"
   },
   {
    "duration": 26,
    "start_time": "2021-12-22T05:30:00.199Z"
   },
   {
    "duration": 29,
    "start_time": "2021-12-22T05:30:00.228Z"
   },
   {
    "duration": 13,
    "start_time": "2021-12-22T05:30:00.259Z"
   },
   {
    "duration": 13,
    "start_time": "2021-12-22T05:30:00.274Z"
   },
   {
    "duration": 33,
    "start_time": "2021-12-22T05:30:00.289Z"
   },
   {
    "duration": 4555,
    "start_time": "2021-12-22T05:30:00.324Z"
   },
   {
    "duration": 11,
    "start_time": "2021-12-22T05:30:04.881Z"
   },
   {
    "duration": 42,
    "start_time": "2021-12-22T05:30:04.895Z"
   },
   {
    "duration": 12,
    "start_time": "2021-12-22T05:30:04.939Z"
   },
   {
    "duration": 14,
    "start_time": "2021-12-22T05:30:04.954Z"
   },
   {
    "duration": 1192,
    "start_time": "2021-12-22T05:30:04.971Z"
   },
   {
    "duration": 10,
    "start_time": "2021-12-22T05:30:06.165Z"
   },
   {
    "duration": 38,
    "start_time": "2021-12-22T05:30:06.180Z"
   },
   {
    "duration": 9,
    "start_time": "2021-12-22T05:30:06.221Z"
   },
   {
    "duration": 29,
    "start_time": "2021-12-22T05:30:06.233Z"
   },
   {
    "duration": 14,
    "start_time": "2021-12-22T05:30:06.264Z"
   },
   {
    "duration": 61,
    "start_time": "2021-12-22T05:30:06.280Z"
   },
   {
    "duration": 13,
    "start_time": "2021-12-22T05:30:06.344Z"
   },
   {
    "duration": 58,
    "start_time": "2021-12-22T05:30:06.360Z"
   },
   {
    "duration": 13,
    "start_time": "2021-12-22T05:30:06.420Z"
   },
   {
    "duration": 30,
    "start_time": "2021-12-22T05:30:06.435Z"
   },
   {
    "duration": 12,
    "start_time": "2021-12-22T05:30:06.467Z"
   },
   {
    "duration": 609,
    "start_time": "2021-12-22T12:27:03.925Z"
   },
   {
    "duration": 34,
    "start_time": "2021-12-22T12:27:04.536Z"
   },
   {
    "duration": 28,
    "start_time": "2021-12-22T12:27:04.572Z"
   },
   {
    "duration": 8,
    "start_time": "2021-12-22T12:27:04.602Z"
   },
   {
    "duration": 6,
    "start_time": "2021-12-22T12:27:04.612Z"
   },
   {
    "duration": 27,
    "start_time": "2021-12-22T12:27:04.620Z"
   },
   {
    "duration": 8,
    "start_time": "2021-12-22T12:27:04.648Z"
   },
   {
    "duration": 43,
    "start_time": "2021-12-22T12:27:04.658Z"
   },
   {
    "duration": 5,
    "start_time": "2021-12-22T12:27:04.703Z"
   },
   {
    "duration": 44,
    "start_time": "2021-12-22T12:27:04.709Z"
   },
   {
    "duration": 6,
    "start_time": "2021-12-22T12:27:04.755Z"
   },
   {
    "duration": 41,
    "start_time": "2021-12-22T12:27:04.763Z"
   },
   {
    "duration": 6,
    "start_time": "2021-12-22T12:27:04.806Z"
   },
   {
    "duration": 9,
    "start_time": "2021-12-22T12:27:04.813Z"
   },
   {
    "duration": 8,
    "start_time": "2021-12-22T12:27:04.823Z"
   },
   {
    "duration": 3441,
    "start_time": "2021-12-22T12:27:04.833Z"
   },
   {
    "duration": 7,
    "start_time": "2021-12-22T12:27:08.292Z"
   },
   {
    "duration": 17,
    "start_time": "2021-12-22T12:27:08.300Z"
   },
   {
    "duration": 7,
    "start_time": "2021-12-22T12:27:08.318Z"
   },
   {
    "duration": 11,
    "start_time": "2021-12-22T12:27:08.327Z"
   },
   {
    "duration": 609,
    "start_time": "2021-12-22T12:27:08.340Z"
   },
   {
    "duration": 7,
    "start_time": "2021-12-22T12:27:08.950Z"
   },
   {
    "duration": 12,
    "start_time": "2021-12-22T12:27:08.960Z"
   },
   {
    "duration": 23,
    "start_time": "2021-12-22T12:27:08.973Z"
   },
   {
    "duration": 19,
    "start_time": "2021-12-22T12:27:08.997Z"
   },
   {
    "duration": 11,
    "start_time": "2021-12-22T12:27:09.017Z"
   },
   {
    "duration": 16,
    "start_time": "2021-12-22T12:27:09.029Z"
   },
   {
    "duration": 8,
    "start_time": "2021-12-22T12:27:09.046Z"
   },
   {
    "duration": 50,
    "start_time": "2021-12-22T12:27:09.055Z"
   },
   {
    "duration": 7,
    "start_time": "2021-12-22T12:27:09.107Z"
   },
   {
    "duration": 18,
    "start_time": "2021-12-22T12:27:09.116Z"
   },
   {
    "duration": 9,
    "start_time": "2021-12-22T12:27:09.135Z"
   },
   {
    "duration": 638,
    "start_time": "2021-12-22T12:27:17.039Z"
   },
   {
    "duration": 32,
    "start_time": "2021-12-22T12:27:17.679Z"
   },
   {
    "duration": 14,
    "start_time": "2021-12-22T12:27:17.713Z"
   },
   {
    "duration": 9,
    "start_time": "2021-12-22T12:27:17.729Z"
   },
   {
    "duration": 7,
    "start_time": "2021-12-22T12:27:17.739Z"
   },
   {
    "duration": 50,
    "start_time": "2021-12-22T12:27:17.748Z"
   },
   {
    "duration": 8,
    "start_time": "2021-12-22T12:27:17.800Z"
   },
   {
    "duration": 10,
    "start_time": "2021-12-22T12:27:17.811Z"
   },
   {
    "duration": 4,
    "start_time": "2021-12-22T12:27:17.824Z"
   },
   {
    "duration": 63,
    "start_time": "2021-12-22T12:27:17.830Z"
   },
   {
    "duration": 6,
    "start_time": "2021-12-22T12:27:17.895Z"
   },
   {
    "duration": 34,
    "start_time": "2021-12-22T12:27:17.903Z"
   },
   {
    "duration": 12,
    "start_time": "2021-12-22T12:27:17.939Z"
   },
   {
    "duration": 7,
    "start_time": "2021-12-22T12:27:17.953Z"
   },
   {
    "duration": 9,
    "start_time": "2021-12-22T12:27:17.962Z"
   },
   {
    "duration": 3379,
    "start_time": "2021-12-22T12:27:17.972Z"
   },
   {
    "duration": 7,
    "start_time": "2021-12-22T12:27:21.352Z"
   },
   {
    "duration": 35,
    "start_time": "2021-12-22T12:27:21.361Z"
   },
   {
    "duration": 18,
    "start_time": "2021-12-22T12:27:21.397Z"
   },
   {
    "duration": 21,
    "start_time": "2021-12-22T12:27:21.417Z"
   },
   {
    "duration": 608,
    "start_time": "2021-12-22T12:27:21.440Z"
   },
   {
    "duration": 7,
    "start_time": "2021-12-22T12:27:22.049Z"
   },
   {
    "duration": 29,
    "start_time": "2021-12-22T12:27:22.059Z"
   },
   {
    "duration": 31,
    "start_time": "2021-12-22T12:27:22.090Z"
   },
   {
    "duration": 22,
    "start_time": "2021-12-22T12:27:22.123Z"
   },
   {
    "duration": 23,
    "start_time": "2021-12-22T12:27:22.147Z"
   },
   {
    "duration": 25,
    "start_time": "2021-12-22T12:27:22.172Z"
   },
   {
    "duration": 8,
    "start_time": "2021-12-22T12:27:22.199Z"
   },
   {
    "duration": 44,
    "start_time": "2021-12-22T12:27:22.208Z"
   },
   {
    "duration": 9,
    "start_time": "2021-12-22T12:27:22.254Z"
   },
   {
    "duration": 29,
    "start_time": "2021-12-22T12:27:22.265Z"
   },
   {
    "duration": 8,
    "start_time": "2021-12-22T12:27:22.296Z"
   },
   {
    "duration": 891,
    "start_time": "2021-12-23T01:33:55.665Z"
   },
   {
    "duration": 49,
    "start_time": "2021-12-23T01:33:56.566Z"
   },
   {
    "duration": 48,
    "start_time": "2021-12-23T01:33:56.624Z"
   },
   {
    "duration": 15,
    "start_time": "2021-12-23T01:33:56.676Z"
   },
   {
    "duration": 14,
    "start_time": "2021-12-23T01:33:56.694Z"
   },
   {
    "duration": 83,
    "start_time": "2021-12-23T01:33:56.711Z"
   },
   {
    "duration": 14,
    "start_time": "2021-12-23T01:33:56.797Z"
   },
   {
    "duration": 16,
    "start_time": "2021-12-23T01:33:56.817Z"
   },
   {
    "duration": 38,
    "start_time": "2021-12-23T01:33:56.836Z"
   },
   {
    "duration": 65,
    "start_time": "2021-12-23T01:33:56.877Z"
   },
   {
    "duration": 11,
    "start_time": "2021-12-23T01:33:56.968Z"
   },
   {
    "duration": 28,
    "start_time": "2021-12-23T01:33:56.983Z"
   },
   {
    "duration": 13,
    "start_time": "2021-12-23T01:33:57.014Z"
   },
   {
    "duration": 12,
    "start_time": "2021-12-23T01:33:57.068Z"
   },
   {
    "duration": 12,
    "start_time": "2021-12-23T01:33:57.082Z"
   },
   {
    "duration": 4984,
    "start_time": "2021-12-23T01:33:57.097Z"
   },
   {
    "duration": 10,
    "start_time": "2021-12-23T01:34:02.084Z"
   },
   {
    "duration": 28,
    "start_time": "2021-12-23T01:34:02.097Z"
   },
   {
    "duration": 11,
    "start_time": "2021-12-23T01:34:02.127Z"
   },
   {
    "duration": 13,
    "start_time": "2021-12-23T01:34:02.168Z"
   },
   {
    "duration": 1090,
    "start_time": "2021-12-23T01:34:02.183Z"
   },
   {
    "duration": 10,
    "start_time": "2021-12-23T01:34:03.276Z"
   },
   {
    "duration": 26,
    "start_time": "2021-12-23T01:34:03.288Z"
   },
   {
    "duration": 9,
    "start_time": "2021-12-23T01:34:03.316Z"
   },
   {
    "duration": 70,
    "start_time": "2021-12-23T01:34:03.327Z"
   },
   {
    "duration": 20,
    "start_time": "2021-12-23T01:34:03.402Z"
   },
   {
    "duration": 53,
    "start_time": "2021-12-23T01:34:03.424Z"
   },
   {
    "duration": 15,
    "start_time": "2021-12-23T01:34:03.480Z"
   },
   {
    "duration": 71,
    "start_time": "2021-12-23T01:34:03.498Z"
   },
   {
    "duration": 18,
    "start_time": "2021-12-23T01:34:03.572Z"
   },
   {
    "duration": 30,
    "start_time": "2021-12-23T01:34:03.592Z"
   },
   {
    "duration": 43,
    "start_time": "2021-12-23T01:34:03.624Z"
   },
   {
    "duration": 8,
    "start_time": "2021-12-23T02:00:22.005Z"
   },
   {
    "duration": 941,
    "start_time": "2021-12-23T02:26:06.440Z"
   },
   {
    "duration": 47,
    "start_time": "2021-12-23T02:26:07.384Z"
   },
   {
    "duration": 38,
    "start_time": "2021-12-23T02:26:07.434Z"
   },
   {
    "duration": 15,
    "start_time": "2021-12-23T02:26:07.476Z"
   },
   {
    "duration": 9,
    "start_time": "2021-12-23T02:26:07.494Z"
   },
   {
    "duration": 84,
    "start_time": "2021-12-23T02:26:07.506Z"
   },
   {
    "duration": 12,
    "start_time": "2021-12-23T02:26:07.592Z"
   },
   {
    "duration": 16,
    "start_time": "2021-12-23T02:26:07.608Z"
   },
   {
    "duration": 7,
    "start_time": "2021-12-23T02:26:07.626Z"
   },
   {
    "duration": 65,
    "start_time": "2021-12-23T02:26:07.668Z"
   },
   {
    "duration": 11,
    "start_time": "2021-12-23T02:26:07.736Z"
   },
   {
    "duration": 32,
    "start_time": "2021-12-23T02:26:07.769Z"
   },
   {
    "duration": 10,
    "start_time": "2021-12-23T02:26:07.803Z"
   },
   {
    "duration": 51,
    "start_time": "2021-12-23T02:26:07.816Z"
   },
   {
    "duration": 15,
    "start_time": "2021-12-23T02:26:07.871Z"
   },
   {
    "duration": 5143,
    "start_time": "2021-12-23T02:26:07.888Z"
   },
   {
    "duration": 9,
    "start_time": "2021-12-23T02:26:13.034Z"
   },
   {
    "duration": 38,
    "start_time": "2021-12-23T02:26:13.045Z"
   },
   {
    "duration": 10,
    "start_time": "2021-12-23T02:26:13.086Z"
   },
   {
    "duration": 14,
    "start_time": "2021-12-23T02:26:13.098Z"
   },
   {
    "duration": 1133,
    "start_time": "2021-12-23T02:26:13.114Z"
   },
   {
    "duration": 17,
    "start_time": "2021-12-23T02:26:14.250Z"
   },
   {
    "duration": 22,
    "start_time": "2021-12-23T02:26:14.275Z"
   },
   {
    "duration": 10,
    "start_time": "2021-12-23T02:26:14.300Z"
   },
   {
    "duration": 76,
    "start_time": "2021-12-23T02:26:14.313Z"
   },
   {
    "duration": 19,
    "start_time": "2021-12-23T02:26:14.391Z"
   },
   {
    "duration": 26,
    "start_time": "2021-12-23T02:26:14.413Z"
   },
   {
    "duration": 14,
    "start_time": "2021-12-23T02:26:14.467Z"
   },
   {
    "duration": 30,
    "start_time": "2021-12-23T02:26:14.484Z"
   },
   {
    "duration": 14,
    "start_time": "2021-12-23T02:26:14.517Z"
   },
   {
    "duration": 34,
    "start_time": "2021-12-23T02:26:14.569Z"
   },
   {
    "duration": 13,
    "start_time": "2021-12-23T02:26:14.606Z"
   },
   {
    "duration": 805,
    "start_time": "2021-12-23T04:41:37.699Z"
   },
   {
    "duration": 49,
    "start_time": "2021-12-23T04:43:53.626Z"
   },
   {
    "duration": 27,
    "start_time": "2021-12-23T04:48:23.745Z"
   },
   {
    "duration": 8,
    "start_time": "2021-12-23T04:59:54.761Z"
   },
   {
    "duration": 346,
    "start_time": "2021-12-23T05:00:16.505Z"
   },
   {
    "duration": 24,
    "start_time": "2021-12-23T05:00:37.596Z"
   },
   {
    "duration": 20,
    "start_time": "2021-12-23T05:01:24.546Z"
   },
   {
    "duration": 90,
    "start_time": "2021-12-23T05:04:40.429Z"
   },
   {
    "duration": 247,
    "start_time": "2021-12-23T05:10:58.539Z"
   },
   {
    "duration": 22,
    "start_time": "2021-12-23T05:11:03.129Z"
   },
   {
    "duration": 16,
    "start_time": "2021-12-23T05:14:49.413Z"
   },
   {
    "duration": 15,
    "start_time": "2021-12-23T05:16:30.382Z"
   },
   {
    "duration": 17,
    "start_time": "2021-12-23T05:17:04.969Z"
   },
   {
    "duration": 1760,
    "start_time": "2021-12-23T05:18:49.676Z"
   },
   {
    "duration": 11,
    "start_time": "2021-12-23T05:18:54.588Z"
   },
   {
    "duration": 1619,
    "start_time": "2021-12-23T05:19:00.074Z"
   },
   {
    "duration": 18,
    "start_time": "2021-12-23T05:20:01.510Z"
   },
   {
    "duration": 242,
    "start_time": "2021-12-23T05:21:03.985Z"
   },
   {
    "duration": 109,
    "start_time": "2021-12-23T05:21:10.662Z"
   },
   {
    "duration": 46,
    "start_time": "2021-12-23T05:21:10.774Z"
   },
   {
    "duration": 44,
    "start_time": "2021-12-23T05:21:10.824Z"
   },
   {
    "duration": 12,
    "start_time": "2021-12-23T05:21:10.871Z"
   },
   {
    "duration": 24,
    "start_time": "2021-12-23T05:21:10.885Z"
   },
   {
    "duration": 14,
    "start_time": "2021-12-23T05:21:10.911Z"
   },
   {
    "duration": 12,
    "start_time": "2021-12-23T05:21:10.963Z"
   },
   {
    "duration": 16,
    "start_time": "2021-12-23T05:21:10.978Z"
   },
   {
    "duration": 7,
    "start_time": "2021-12-23T05:21:10.999Z"
   },
   {
    "duration": 103,
    "start_time": "2021-12-23T05:21:11.010Z"
   },
   {
    "duration": 10,
    "start_time": "2021-12-23T05:21:11.116Z"
   },
   {
    "duration": 45,
    "start_time": "2021-12-23T05:21:11.128Z"
   },
   {
    "duration": 9,
    "start_time": "2021-12-23T05:21:11.176Z"
   },
   {
    "duration": 10,
    "start_time": "2021-12-23T05:21:11.188Z"
   },
   {
    "duration": 9,
    "start_time": "2021-12-23T05:21:11.200Z"
   },
   {
    "duration": 4539,
    "start_time": "2021-12-23T05:21:11.212Z"
   },
   {
    "duration": 10,
    "start_time": "2021-12-23T05:21:15.761Z"
   },
   {
    "duration": 23,
    "start_time": "2021-12-23T05:21:15.773Z"
   },
   {
    "duration": 9,
    "start_time": "2021-12-23T05:21:15.798Z"
   },
   {
    "duration": 12,
    "start_time": "2021-12-23T05:21:15.810Z"
   },
   {
    "duration": 1100,
    "start_time": "2021-12-23T05:21:15.824Z"
   },
   {
    "duration": 9,
    "start_time": "2021-12-23T05:21:16.927Z"
   },
   {
    "duration": 39,
    "start_time": "2021-12-23T05:21:16.938Z"
   },
   {
    "duration": 9,
    "start_time": "2021-12-23T05:21:16.980Z"
   },
   {
    "duration": 28,
    "start_time": "2021-12-23T05:21:16.992Z"
   },
   {
    "duration": 45,
    "start_time": "2021-12-23T05:21:17.023Z"
   },
   {
    "duration": 29,
    "start_time": "2021-12-23T05:21:17.073Z"
   },
   {
    "duration": 14,
    "start_time": "2021-12-23T05:21:17.104Z"
   },
   {
    "duration": 63,
    "start_time": "2021-12-23T05:21:17.120Z"
   },
   {
    "duration": 13,
    "start_time": "2021-12-23T05:21:17.185Z"
   },
   {
    "duration": 27,
    "start_time": "2021-12-23T05:21:17.201Z"
   },
   {
    "duration": 41,
    "start_time": "2021-12-23T05:21:17.231Z"
   },
   {
    "duration": 14,
    "start_time": "2021-12-23T05:26:57.300Z"
   },
   {
    "duration": 13,
    "start_time": "2021-12-23T05:31:02.383Z"
   },
   {
    "duration": 14,
    "start_time": "2021-12-23T05:33:43.912Z"
   },
   {
    "duration": 136,
    "start_time": "2021-12-23T06:01:10.527Z"
   },
   {
    "duration": 50,
    "start_time": "2021-12-23T06:01:10.666Z"
   },
   {
    "duration": 58,
    "start_time": "2021-12-23T06:01:10.720Z"
   },
   {
    "duration": 11,
    "start_time": "2021-12-23T06:01:10.781Z"
   },
   {
    "duration": 24,
    "start_time": "2021-12-23T06:01:10.795Z"
   },
   {
    "duration": 51,
    "start_time": "2021-12-23T06:01:10.821Z"
   },
   {
    "duration": 13,
    "start_time": "2021-12-23T06:01:10.875Z"
   },
   {
    "duration": 15,
    "start_time": "2021-12-23T06:01:10.890Z"
   },
   {
    "duration": 54,
    "start_time": "2021-12-23T06:01:10.909Z"
   },
   {
    "duration": 62,
    "start_time": "2021-12-23T06:01:10.966Z"
   },
   {
    "duration": 10,
    "start_time": "2021-12-23T06:01:11.030Z"
   },
   {
    "duration": 23,
    "start_time": "2021-12-23T06:01:11.064Z"
   },
   {
    "duration": 10,
    "start_time": "2021-12-23T06:01:11.090Z"
   },
   {
    "duration": 11,
    "start_time": "2021-12-23T06:01:11.102Z"
   },
   {
    "duration": 10,
    "start_time": "2021-12-23T06:01:11.164Z"
   },
   {
    "duration": 4591,
    "start_time": "2021-12-23T06:01:11.177Z"
   },
   {
    "duration": 11,
    "start_time": "2021-12-23T06:01:15.771Z"
   },
   {
    "duration": 21,
    "start_time": "2021-12-23T06:01:15.784Z"
   },
   {
    "duration": 10,
    "start_time": "2021-12-23T06:01:15.808Z"
   },
   {
    "duration": 51,
    "start_time": "2021-12-23T06:01:15.820Z"
   },
   {
    "duration": 1080,
    "start_time": "2021-12-23T06:01:15.873Z"
   },
   {
    "duration": 11,
    "start_time": "2021-12-23T06:01:16.962Z"
   },
   {
    "duration": 19,
    "start_time": "2021-12-23T06:01:16.975Z"
   },
   {
    "duration": 9,
    "start_time": "2021-12-23T06:01:16.997Z"
   },
   {
    "duration": 72,
    "start_time": "2021-12-23T06:01:17.009Z"
   },
   {
    "duration": 14,
    "start_time": "2021-12-23T06:01:17.084Z"
   },
   {
    "duration": 66,
    "start_time": "2021-12-23T06:01:17.102Z"
   },
   {
    "duration": 13,
    "start_time": "2021-12-23T06:01:17.171Z"
   },
   {
    "duration": 27,
    "start_time": "2021-12-23T06:01:17.186Z"
   },
   {
    "duration": 49,
    "start_time": "2021-12-23T06:01:17.215Z"
   },
   {
    "duration": 28,
    "start_time": "2021-12-23T06:01:17.266Z"
   },
   {
    "duration": 13,
    "start_time": "2021-12-23T06:01:17.296Z"
   },
   {
    "duration": 952,
    "start_time": "2021-12-23T06:35:37.272Z"
   },
   {
    "duration": 62,
    "start_time": "2021-12-23T06:35:38.228Z"
   },
   {
    "duration": 21,
    "start_time": "2021-12-23T06:35:38.295Z"
   },
   {
    "duration": 14,
    "start_time": "2021-12-23T06:35:38.318Z"
   },
   {
    "duration": 24,
    "start_time": "2021-12-23T06:35:38.365Z"
   },
   {
    "duration": 16,
    "start_time": "2021-12-23T06:35:38.392Z"
   },
   {
    "duration": 13,
    "start_time": "2021-12-23T06:35:38.412Z"
   },
   {
    "duration": 18,
    "start_time": "2021-12-23T06:35:38.464Z"
   },
   {
    "duration": 6,
    "start_time": "2021-12-23T06:35:38.484Z"
   },
   {
    "duration": 93,
    "start_time": "2021-12-23T06:35:38.492Z"
   },
   {
    "duration": 11,
    "start_time": "2021-12-23T06:35:38.588Z"
   },
   {
    "duration": 27,
    "start_time": "2021-12-23T06:35:38.601Z"
   },
   {
    "duration": 35,
    "start_time": "2021-12-23T06:35:38.630Z"
   },
   {
    "duration": 15,
    "start_time": "2021-12-23T06:35:38.668Z"
   },
   {
    "duration": 15,
    "start_time": "2021-12-23T06:35:38.686Z"
   },
   {
    "duration": 5002,
    "start_time": "2021-12-23T06:35:38.704Z"
   },
   {
    "duration": 10,
    "start_time": "2021-12-23T06:35:43.710Z"
   },
   {
    "duration": 50,
    "start_time": "2021-12-23T06:35:43.723Z"
   },
   {
    "duration": 9,
    "start_time": "2021-12-23T06:35:43.776Z"
   },
   {
    "duration": 12,
    "start_time": "2021-12-23T06:35:43.788Z"
   },
   {
    "duration": 1171,
    "start_time": "2021-12-23T06:35:43.803Z"
   },
   {
    "duration": 9,
    "start_time": "2021-12-23T06:35:44.980Z"
   },
   {
    "duration": 21,
    "start_time": "2021-12-23T06:35:44.992Z"
   },
   {
    "duration": 45,
    "start_time": "2021-12-23T06:35:45.017Z"
   },
   {
    "duration": 28,
    "start_time": "2021-12-23T06:35:45.065Z"
   },
   {
    "duration": 20,
    "start_time": "2021-12-23T06:35:45.096Z"
   },
   {
    "duration": 59,
    "start_time": "2021-12-23T06:35:45.119Z"
   },
   {
    "duration": 12,
    "start_time": "2021-12-23T06:35:45.181Z"
   },
   {
    "duration": 26,
    "start_time": "2021-12-23T06:35:45.196Z"
   },
   {
    "duration": 47,
    "start_time": "2021-12-23T06:35:45.225Z"
   },
   {
    "duration": 35,
    "start_time": "2021-12-23T06:35:45.274Z"
   },
   {
    "duration": 14,
    "start_time": "2021-12-23T06:35:45.313Z"
   },
   {
    "duration": 837,
    "start_time": "2021-12-23T06:49:46.973Z"
   },
   {
    "duration": 59,
    "start_time": "2021-12-23T06:49:47.813Z"
   },
   {
    "duration": 20,
    "start_time": "2021-12-23T06:49:47.875Z"
   },
   {
    "duration": 12,
    "start_time": "2021-12-23T06:49:47.898Z"
   },
   {
    "duration": 62,
    "start_time": "2021-12-23T06:49:47.913Z"
   },
   {
    "duration": 20,
    "start_time": "2021-12-23T06:49:47.978Z"
   },
   {
    "duration": 17,
    "start_time": "2021-12-23T06:49:48.001Z"
   },
   {
    "duration": 47,
    "start_time": "2021-12-23T06:49:48.022Z"
   },
   {
    "duration": 6,
    "start_time": "2021-12-23T06:49:48.072Z"
   },
   {
    "duration": 84,
    "start_time": "2021-12-23T06:49:48.080Z"
   },
   {
    "duration": 9,
    "start_time": "2021-12-23T06:49:48.167Z"
   },
   {
    "duration": 25,
    "start_time": "2021-12-23T06:49:48.179Z"
   },
   {
    "duration": 9,
    "start_time": "2021-12-23T06:49:48.207Z"
   },
   {
    "duration": 46,
    "start_time": "2021-12-23T06:49:48.219Z"
   },
   {
    "duration": 15,
    "start_time": "2021-12-23T06:49:48.268Z"
   },
   {
    "duration": 4811,
    "start_time": "2021-12-23T06:49:48.286Z"
   },
   {
    "duration": 10,
    "start_time": "2021-12-23T06:49:53.099Z"
   },
   {
    "duration": 21,
    "start_time": "2021-12-23T06:49:53.111Z"
   },
   {
    "duration": 34,
    "start_time": "2021-12-23T06:49:53.134Z"
   },
   {
    "duration": 11,
    "start_time": "2021-12-23T06:49:53.171Z"
   },
   {
    "duration": 1198,
    "start_time": "2021-12-23T06:49:53.184Z"
   },
   {
    "duration": 10,
    "start_time": "2021-12-23T06:49:54.385Z"
   },
   {
    "duration": 19,
    "start_time": "2021-12-23T06:49:54.401Z"
   },
   {
    "duration": 48,
    "start_time": "2021-12-23T06:49:54.423Z"
   },
   {
    "duration": 29,
    "start_time": "2021-12-23T06:49:54.474Z"
   },
   {
    "duration": 20,
    "start_time": "2021-12-23T06:49:54.505Z"
   },
   {
    "duration": 62,
    "start_time": "2021-12-23T06:49:54.529Z"
   },
   {
    "duration": 14,
    "start_time": "2021-12-23T06:49:54.594Z"
   },
   {
    "duration": 65,
    "start_time": "2021-12-23T06:49:54.610Z"
   },
   {
    "duration": 14,
    "start_time": "2021-12-23T06:49:54.678Z"
   },
   {
    "duration": 31,
    "start_time": "2021-12-23T06:49:54.695Z"
   },
   {
    "duration": 42,
    "start_time": "2021-12-23T06:49:54.729Z"
   },
   {
    "duration": 524,
    "start_time": "2023-03-07T11:30:58.852Z"
   },
   {
    "duration": 30,
    "start_time": "2023-03-07T11:31:20.328Z"
   },
   {
    "duration": 19,
    "start_time": "2023-03-07T11:31:43.876Z"
   },
   {
    "duration": 17,
    "start_time": "2023-03-07T11:31:48.806Z"
   },
   {
    "duration": 19,
    "start_time": "2023-03-07T11:32:37.594Z"
   },
   {
    "duration": 9,
    "start_time": "2023-03-07T11:33:00.065Z"
   },
   {
    "duration": 16,
    "start_time": "2023-03-07T11:33:08.791Z"
   },
   {
    "duration": 99,
    "start_time": "2023-03-07T11:34:51.330Z"
   },
   {
    "duration": 12,
    "start_time": "2023-03-07T11:35:03.573Z"
   },
   {
    "duration": 15,
    "start_time": "2023-03-07T11:35:10.818Z"
   },
   {
    "duration": 12,
    "start_time": "2023-03-07T11:35:11.688Z"
   },
   {
    "duration": 14,
    "start_time": "2023-03-07T11:35:12.140Z"
   },
   {
    "duration": 5,
    "start_time": "2023-03-07T11:35:14.347Z"
   },
   {
    "duration": 4,
    "start_time": "2023-03-07T11:35:19.830Z"
   },
   {
    "duration": 44,
    "start_time": "2023-03-07T11:35:52.898Z"
   },
   {
    "duration": 8,
    "start_time": "2023-03-07T11:36:02.554Z"
   },
   {
    "duration": 15,
    "start_time": "2023-03-07T11:36:11.906Z"
   },
   {
    "duration": 7,
    "start_time": "2023-03-07T11:36:14.733Z"
   },
   {
    "duration": 10,
    "start_time": "2023-03-07T11:36:16.416Z"
   },
   {
    "duration": 8,
    "start_time": "2023-03-07T11:37:07.330Z"
   },
   {
    "duration": 129,
    "start_time": "2023-03-07T11:37:08.187Z"
   },
   {
    "duration": 1185,
    "start_time": "2023-03-07T11:37:14.634Z"
   },
   {
    "duration": 1189,
    "start_time": "2023-03-07T11:37:21.142Z"
   },
   {
    "duration": 1163,
    "start_time": "2023-03-07T11:37:25.076Z"
   },
   {
    "duration": 10,
    "start_time": "2023-03-07T11:37:30.110Z"
   },
   {
    "duration": 3845,
    "start_time": "2023-03-07T11:37:31.930Z"
   },
   {
    "duration": 7,
    "start_time": "2023-03-07T11:37:35.777Z"
   },
   {
    "duration": 9,
    "start_time": "2023-03-07T11:37:37.946Z"
   },
   {
    "duration": 7,
    "start_time": "2023-03-07T11:37:38.985Z"
   },
   {
    "duration": 12,
    "start_time": "2023-03-07T11:37:42.780Z"
   },
   {
    "duration": 151,
    "start_time": "2023-03-07T11:37:44.642Z"
   },
   {
    "duration": 9,
    "start_time": "2023-03-07T11:37:47.368Z"
   },
   {
    "duration": 8,
    "start_time": "2023-03-07T11:37:54.012Z"
   },
   {
    "duration": 7,
    "start_time": "2023-03-07T11:38:00.536Z"
   },
   {
    "duration": 23,
    "start_time": "2023-03-07T11:38:04.033Z"
   },
   {
    "duration": 10,
    "start_time": "2023-03-07T11:38:04.951Z"
   },
   {
    "duration": 22,
    "start_time": "2023-03-07T11:38:08.172Z"
   },
   {
    "duration": 12,
    "start_time": "2023-03-07T11:38:08.531Z"
   },
   {
    "duration": 24,
    "start_time": "2023-03-07T11:38:10.783Z"
   },
   {
    "duration": 12,
    "start_time": "2023-03-07T11:38:11.398Z"
   }
  ],
  "kernelspec": {
   "display_name": "Python 3 (ipykernel)",
   "language": "python",
   "name": "python3"
  },
  "language_info": {
   "codemirror_mode": {
    "name": "ipython",
    "version": 3
   },
   "file_extension": ".py",
   "mimetype": "text/x-python",
   "name": "python",
   "nbconvert_exporter": "python",
   "pygments_lexer": "ipython3",
   "version": "3.9.5"
  },
  "toc": {
   "base_numbering": 1,
   "nav_menu": {},
   "number_sections": true,
   "sideBar": true,
   "skip_h1_title": true,
   "title_cell": "Table of Contents",
   "title_sidebar": "Contents",
   "toc_cell": false,
   "toc_position": {},
   "toc_section_display": true,
   "toc_window_display": false
  }
 },
 "nbformat": 4,
 "nbformat_minor": 2
}
