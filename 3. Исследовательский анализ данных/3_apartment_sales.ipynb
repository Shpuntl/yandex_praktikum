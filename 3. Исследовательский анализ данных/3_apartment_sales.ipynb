{
 "cells": [
  {
   "cell_type": "markdown",
   "metadata": {
    "toc": true
   },
   "source": [
    "<h1>Содержание<span class=\"tocSkip\"></span></h1>\n",
    "<div class=\"toc\"><ul class=\"toc-item\"><li><span><a href=\"#Изучение-данных-из-файла\" data-toc-modified-id=\"Изучение-данных-из-файла-1\"><span class=\"toc-item-num\">1&nbsp;&nbsp;</span>Изучение данных из файла</a></span><ul class=\"toc-item\"><li><span><a href=\"#Вывод\" data-toc-modified-id=\"Вывод-1.1\"><span class=\"toc-item-num\">1.1&nbsp;&nbsp;</span>Вывод</a></span></li></ul></li><li><span><a href=\"#Предобработка-данных\" data-toc-modified-id=\"Предобработка-данных-2\"><span class=\"toc-item-num\">2&nbsp;&nbsp;</span>Предобработка данных</a></span></li><li><span><a href=\"#Расчёты-и-добавление-результатов-в-таблицу\" data-toc-modified-id=\"Расчёты-и-добавление-результатов-в-таблицу-3\"><span class=\"toc-item-num\">3&nbsp;&nbsp;</span>Расчёты и добавление результатов в таблицу</a></span></li><li><span><a href=\"#Исследовательский-анализ-данных\" data-toc-modified-id=\"Исследовательский-анализ-данных-4\"><span class=\"toc-item-num\">4&nbsp;&nbsp;</span>Исследовательский анализ данных</a></span><ul class=\"toc-item\"><li><span><a href=\"#Изучите-следующие-параметры:-площадь,-цена,-число-комнат,-высота-потолков.-Постройте-гистограммы-для-каждого-параметра.\" data-toc-modified-id=\"Изучите-следующие-параметры:-площадь,-цена,-число-комнат,-высота-потолков.-Постройте-гистограммы-для-каждого-параметра.-4.1\"><span class=\"toc-item-num\">4.1&nbsp;&nbsp;</span>Изучите следующие параметры: площадь, цена, число комнат, высота потолков. Постройте гистограммы для каждого параметра.</a></span></li><li><span><a href=\"#Изучите-время-продажи-квартиры.-Постройте-гистограмму.-Посчитайте-среднее-и-медиану.-Опишите,-сколько-обычно-занимает-продажа.-Когда-можно-считать,-что-продажи-прошли-очень-быстро,-а-когда-необычно-долго?\" data-toc-modified-id=\"Изучите-время-продажи-квартиры.-Постройте-гистограмму.-Посчитайте-среднее-и-медиану.-Опишите,-сколько-обычно-занимает-продажа.-Когда-можно-считать,-что-продажи-прошли-очень-быстро,-а-когда-необычно-долго?-4.2\"><span class=\"toc-item-num\">4.2&nbsp;&nbsp;</span>Изучите время продажи квартиры. Постройте гистограмму. Посчитайте среднее и медиану. Опишите, сколько обычно занимает продажа. Когда можно считать, что продажи прошли очень быстро, а когда необычно долго?</a></span></li><li><span><a href=\"#Уберите-редкие-и-выбивающиеся-значения.-Опишите,-какие-особенности-обнаружили.\" data-toc-modified-id=\"Уберите-редкие-и-выбивающиеся-значения.-Опишите,-какие-особенности-обнаружили.-4.3\"><span class=\"toc-item-num\">4.3&nbsp;&nbsp;</span>Уберите редкие и выбивающиеся значения. Опишите, какие особенности обнаружили.</a></span></li><li><span><a href=\"#Какие-факторы-больше-всего-влияют-на-стоимость-квартиры?-Изучите,-зависит-ли-цена-от-квадратного-метра,-числа-комнат,-этажа-(первого-или-последнего),-удалённости-от-центра.-Также-изучите-зависимость-от-даты-размещения:-дня-недели,-месяца-и-года.\" data-toc-modified-id=\"Какие-факторы-больше-всего-влияют-на-стоимость-квартиры?-Изучите,-зависит-ли-цена-от-квадратного-метра,-числа-комнат,-этажа-(первого-или-последнего),-удалённости-от-центра.-Также-изучите-зависимость-от-даты-размещения:-дня-недели,-месяца-и-года.-4.4\"><span class=\"toc-item-num\">4.4&nbsp;&nbsp;</span>Какие факторы больше всего влияют на стоимость квартиры? Изучите, зависит ли цена от квадратного метра, числа комнат, этажа (первого или последнего), удалённости от центра. Также изучите зависимость от даты размещения: дня недели, месяца и года.</a></span></li><li><span><a href=\"#Выберите-10-населённых-пунктов-с-наибольшим-числом-объявлений\" data-toc-modified-id=\"Выберите-10-населённых-пунктов-с-наибольшим-числом-объявлений-4.5\"><span class=\"toc-item-num\">4.5&nbsp;&nbsp;</span>Выберите 10 населённых пунктов с наибольшим числом объявлений</a></span></li><li><span><a href=\"#Изучите-предложения-квартир:-для-каждой-квартиры-есть-информация-о-расстоянии-до-центра.\" data-toc-modified-id=\"Изучите-предложения-квартир:-для-каждой-квартиры-есть-информация-о-расстоянии-до-центра.-4.6\"><span class=\"toc-item-num\">4.6&nbsp;&nbsp;</span>Изучите предложения квартир: для каждой квартиры есть информация о расстоянии до центра.</a></span></li><li><span><a href=\"#Выделите-сегмент-квартир-в-центре.-Проанализируйте-эту-территорию-и-изучите-следующие-параметры:-площадь,-цена,-число-комнат,-высота-потолков.-Также-выделите-факторы,-которые-влияют-на-стоимость-квартиры-(число-комнат,-этаж,-удалённость-от-центра,-дата-размещения-объявления).-Сделайте-выводы.-Отличаются-ли-они-от-общих-выводов-по-всему-городу?\" data-toc-modified-id=\"Выделите-сегмент-квартир-в-центре.-Проанализируйте-эту-территорию-и-изучите-следующие-параметры:-площадь,-цена,-число-комнат,-высота-потолков.-Также-выделите-факторы,-которые-влияют-на-стоимость-квартиры-(число-комнат,-этаж,-удалённость-от-центра,-дата-размещения-объявления).-Сделайте-выводы.-Отличаются-ли-они-от-общих-выводов-по-всему-городу?-4.7\"><span class=\"toc-item-num\">4.7&nbsp;&nbsp;</span>Выделите сегмент квартир в центре. Проанализируйте эту территорию и изучите следующие параметры: площадь, цена, число комнат, высота потолков. Также выделите факторы, которые влияют на стоимость квартиры (число комнат, этаж, удалённость от центра, дата размещения объявления). Сделайте выводы. Отличаются ли они от общих выводов по всему городу?</a></span></li></ul></li><li><span><a href=\"#Общий-вывод\" data-toc-modified-id=\"Общий-вывод-5\"><span class=\"toc-item-num\">5&nbsp;&nbsp;</span>Общий вывод</a></span></li><li><span><a href=\"#Чек-лист-готовности-проекта\" data-toc-modified-id=\"Чек-лист-готовности-проекта-6\"><span class=\"toc-item-num\">6&nbsp;&nbsp;</span>Чек-лист готовности проекта</a></span></li></ul></div>"
   ]
  },
  {
   "cell_type": "markdown",
   "metadata": {},
   "source": [
    "# Исследование объявлений о продаже квартир\n",
    "\n",
    "В вашем распоряжении данные сервиса Яндекс.Недвижимость — архив объявлений о продаже квартир в Санкт-Петербурге и соседних населённых пунктах за несколько лет. Нужно научиться определять рыночную стоимость объектов недвижимости. Ваша задача — установить параметры. Это позволит построить автоматизированную систему: она отследит аномалии и мошенническую деятельность. \n",
    "\n",
    "По каждой квартире на продажу доступны два вида данных. Первые вписаны пользователем, вторые получены автоматически на основе картографических данных. Например, расстояние до центра, аэропорта, ближайшего парка и водоёма. \n",
    "\n",
    "**Цель исследования:**\n",
    "\n",
    "**Ход исследования:**\n",
    "\n",
    "**Описание данных**\n",
    "\n",
    "* `airports_nearest` — расстояние до ближайшего аэропорта в метрах (м)\n",
    "* `balcony` — число балконов\n",
    "* `ceiling_height` — высота потолков (м)\n",
    "* `cityCenters_nearest` — расстояние до центра города (м)\n",
    "* `days_exposition` — сколько дней было размещено объявление (от публикации до снятия)\n",
    "* `first_day_exposition` — дата публикации\n",
    "* `floor` — этаж\n",
    "* `floors_total` — всего этажей в доме\n",
    "* `is_apartment` — апартаменты (булев тип)\n",
    "* `kitchen_area` — площадь кухни в квадратных метрах (м²)\n",
    "* `last_price` — цена на момент снятия с публикации\n",
    "* `living_area` — жилая площадь в квадратных метрах (м²)\n",
    "* `locality_name` — название населённого пункта\n",
    "* `open_plan` — свободная планировка (булев тип)\n",
    "* `parks_around3000` — число парков в радиусе 3 км\n",
    "* `parks_nearest` — расстояние до ближайшего парка (м)\n",
    "* `ponds_around3000` — число водоёмов в радиусе 3 км\n",
    "* `ponds_nearest` — расстояние до ближайшего водоёма (м)\n",
    "* `rooms` — число комнат\n",
    "* `studio` — квартира-студия (булев тип)\n",
    "* `total_area` — площадь квартиры в квадратных метрах (м²)\n",
    "* `total_images` — число фотографий квартиры в объявлении\n"
   ]
  },
  {
   "cell_type": "markdown",
   "metadata": {},
   "source": [
    "## Изучение данных из файла"
   ]
  },
  {
   "cell_type": "code",
   "execution_count": 1,
   "metadata": {},
   "outputs": [
    {
     "data": {
      "text/html": [
       "<div>\n",
       "<style scoped>\n",
       "    .dataframe tbody tr th:only-of-type {\n",
       "        vertical-align: middle;\n",
       "    }\n",
       "\n",
       "    .dataframe tbody tr th {\n",
       "        vertical-align: top;\n",
       "    }\n",
       "\n",
       "    .dataframe thead th {\n",
       "        text-align: right;\n",
       "    }\n",
       "</style>\n",
       "<table border=\"1\" class=\"dataframe\">\n",
       "  <thead>\n",
       "    <tr style=\"text-align: right;\">\n",
       "      <th></th>\n",
       "      <th>total_images\\tlast_price\\ttotal_area\\tfirst_day_exposition\\trooms\\tceiling_height\\tfloors_total\\tliving_area\\tfloor\\tis_apartment\\tstudio\\topen_plan\\tkitchen_area\\tbalcony\\tlocality_name\\tairports_nearest\\tcityCenters_nearest\\tparks_around3000\\tparks_nearest\\tponds_around3000\\tponds_nearest\\tdays_exposition</th>\n",
       "    </tr>\n",
       "  </thead>\n",
       "  <tbody>\n",
       "    <tr>\n",
       "      <th>0</th>\n",
       "      <td>20\\t13000000.0\\t108.0\\t2019-03-07T00:00:00\\t3\\...</td>\n",
       "    </tr>\n",
       "    <tr>\n",
       "      <th>1</th>\n",
       "      <td>7\\t3350000.0\\t40.4\\t2018-12-04T00:00:00\\t1\\t\\t...</td>\n",
       "    </tr>\n",
       "    <tr>\n",
       "      <th>2</th>\n",
       "      <td>10\\t5196000.0\\t56.0\\t2015-08-20T00:00:00\\t2\\t\\...</td>\n",
       "    </tr>\n",
       "    <tr>\n",
       "      <th>3</th>\n",
       "      <td>0\\t64900000.0\\t159.0\\t2015-07-24T00:00:00\\t3\\t...</td>\n",
       "    </tr>\n",
       "    <tr>\n",
       "      <th>4</th>\n",
       "      <td>2\\t10000000.0\\t100.0\\t2018-06-19T00:00:00\\t2\\t...</td>\n",
       "    </tr>\n",
       "  </tbody>\n",
       "</table>\n",
       "</div>"
      ],
      "text/plain": [
       "  total_images\\tlast_price\\ttotal_area\\tfirst_day_exposition\\trooms\\tceiling_height\\tfloors_total\\tliving_area\\tfloor\\tis_apartment\\tstudio\\topen_plan\\tkitchen_area\\tbalcony\\tlocality_name\\tairports_nearest\\tcityCenters_nearest\\tparks_around3000\\tparks_nearest\\tponds_around3000\\tponds_nearest\\tdays_exposition\n",
       "0  20\\t13000000.0\\t108.0\\t2019-03-07T00:00:00\\t3\\...                                                                                                                                                                                                                                                                  \n",
       "1  7\\t3350000.0\\t40.4\\t2018-12-04T00:00:00\\t1\\t\\t...                                                                                                                                                                                                                                                                  \n",
       "2  10\\t5196000.0\\t56.0\\t2015-08-20T00:00:00\\t2\\t\\...                                                                                                                                                                                                                                                                  \n",
       "3  0\\t64900000.0\\t159.0\\t2015-07-24T00:00:00\\t3\\t...                                                                                                                                                                                                                                                                  \n",
       "4  2\\t10000000.0\\t100.0\\t2018-06-19T00:00:00\\t2\\t...                                                                                                                                                                                                                                                                  "
      ]
     },
     "execution_count": 1,
     "metadata": {},
     "output_type": "execute_result"
    }
   ],
   "source": [
    "#импорт библиотек\n",
    "import pandas as pd\n",
    "import matplotlib.pyplot as plt\n",
    "df = pd.read_csv('/datasets/real_estate_data.csv')\n",
    "#Выведем первые строки таблицы\n",
    "df.head()"
   ]
  },
  {
   "cell_type": "code",
   "execution_count": 2,
   "metadata": {},
   "outputs": [
    {
     "name": "stdout",
     "output_type": "stream",
     "text": [
      "<class 'pandas.core.frame.DataFrame'>\n",
      "RangeIndex: 23699 entries, 0 to 23698\n",
      "Data columns (total 22 columns):\n",
      " #   Column                Non-Null Count  Dtype  \n",
      "---  ------                --------------  -----  \n",
      " 0   total_images          23699 non-null  int64  \n",
      " 1   last_price            23699 non-null  float64\n",
      " 2   total_area            23699 non-null  float64\n",
      " 3   first_day_exposition  23699 non-null  object \n",
      " 4   rooms                 23699 non-null  int64  \n",
      " 5   ceiling_height        14504 non-null  float64\n",
      " 6   floors_total          23613 non-null  float64\n",
      " 7   living_area           21796 non-null  float64\n",
      " 8   floor                 23699 non-null  int64  \n",
      " 9   is_apartment          2775 non-null   object \n",
      " 10  studio                23699 non-null  bool   \n",
      " 11  open_plan             23699 non-null  bool   \n",
      " 12  kitchen_area          21421 non-null  float64\n",
      " 13  balcony               12180 non-null  float64\n",
      " 14  locality_name         23650 non-null  object \n",
      " 15  airports_nearest      18157 non-null  float64\n",
      " 16  cityCenters_nearest   18180 non-null  float64\n",
      " 17  parks_around3000      18181 non-null  float64\n",
      " 18  parks_nearest         8079 non-null   float64\n",
      " 19  ponds_around3000      18181 non-null  float64\n",
      " 20  ponds_nearest         9110 non-null   float64\n",
      " 21  days_exposition       20518 non-null  float64\n",
      "dtypes: bool(2), float64(14), int64(3), object(3)\n",
      "memory usage: 3.7+ MB\n"
     ]
    },
    {
     "data": {
      "text/html": [
       "<div>\n",
       "<style scoped>\n",
       "    .dataframe tbody tr th:only-of-type {\n",
       "        vertical-align: middle;\n",
       "    }\n",
       "\n",
       "    .dataframe tbody tr th {\n",
       "        vertical-align: top;\n",
       "    }\n",
       "\n",
       "    .dataframe thead th {\n",
       "        text-align: right;\n",
       "    }\n",
       "</style>\n",
       "<table border=\"1\" class=\"dataframe\">\n",
       "  <thead>\n",
       "    <tr style=\"text-align: right;\">\n",
       "      <th></th>\n",
       "      <th>total_images</th>\n",
       "      <th>last_price</th>\n",
       "      <th>total_area</th>\n",
       "      <th>first_day_exposition</th>\n",
       "      <th>rooms</th>\n",
       "      <th>ceiling_height</th>\n",
       "      <th>floors_total</th>\n",
       "      <th>living_area</th>\n",
       "      <th>floor</th>\n",
       "      <th>is_apartment</th>\n",
       "      <th>...</th>\n",
       "      <th>kitchen_area</th>\n",
       "      <th>balcony</th>\n",
       "      <th>locality_name</th>\n",
       "      <th>airports_nearest</th>\n",
       "      <th>cityCenters_nearest</th>\n",
       "      <th>parks_around3000</th>\n",
       "      <th>parks_nearest</th>\n",
       "      <th>ponds_around3000</th>\n",
       "      <th>ponds_nearest</th>\n",
       "      <th>days_exposition</th>\n",
       "    </tr>\n",
       "  </thead>\n",
       "  <tbody>\n",
       "    <tr>\n",
       "      <th>0</th>\n",
       "      <td>20</td>\n",
       "      <td>13000000.0</td>\n",
       "      <td>108.0</td>\n",
       "      <td>2019-03-07T00:00:00</td>\n",
       "      <td>3</td>\n",
       "      <td>2.70</td>\n",
       "      <td>16.0</td>\n",
       "      <td>51.0</td>\n",
       "      <td>8</td>\n",
       "      <td>NaN</td>\n",
       "      <td>...</td>\n",
       "      <td>25.0</td>\n",
       "      <td>NaN</td>\n",
       "      <td>Санкт-Петербург</td>\n",
       "      <td>18863.0</td>\n",
       "      <td>16028.0</td>\n",
       "      <td>1.0</td>\n",
       "      <td>482.0</td>\n",
       "      <td>2.0</td>\n",
       "      <td>755.0</td>\n",
       "      <td>NaN</td>\n",
       "    </tr>\n",
       "    <tr>\n",
       "      <th>1</th>\n",
       "      <td>7</td>\n",
       "      <td>3350000.0</td>\n",
       "      <td>40.4</td>\n",
       "      <td>2018-12-04T00:00:00</td>\n",
       "      <td>1</td>\n",
       "      <td>NaN</td>\n",
       "      <td>11.0</td>\n",
       "      <td>18.6</td>\n",
       "      <td>1</td>\n",
       "      <td>NaN</td>\n",
       "      <td>...</td>\n",
       "      <td>11.0</td>\n",
       "      <td>2.0</td>\n",
       "      <td>посёлок Шушары</td>\n",
       "      <td>12817.0</td>\n",
       "      <td>18603.0</td>\n",
       "      <td>0.0</td>\n",
       "      <td>NaN</td>\n",
       "      <td>0.0</td>\n",
       "      <td>NaN</td>\n",
       "      <td>81.0</td>\n",
       "    </tr>\n",
       "    <tr>\n",
       "      <th>2</th>\n",
       "      <td>10</td>\n",
       "      <td>5196000.0</td>\n",
       "      <td>56.0</td>\n",
       "      <td>2015-08-20T00:00:00</td>\n",
       "      <td>2</td>\n",
       "      <td>NaN</td>\n",
       "      <td>5.0</td>\n",
       "      <td>34.3</td>\n",
       "      <td>4</td>\n",
       "      <td>NaN</td>\n",
       "      <td>...</td>\n",
       "      <td>8.3</td>\n",
       "      <td>0.0</td>\n",
       "      <td>Санкт-Петербург</td>\n",
       "      <td>21741.0</td>\n",
       "      <td>13933.0</td>\n",
       "      <td>1.0</td>\n",
       "      <td>90.0</td>\n",
       "      <td>2.0</td>\n",
       "      <td>574.0</td>\n",
       "      <td>558.0</td>\n",
       "    </tr>\n",
       "    <tr>\n",
       "      <th>3</th>\n",
       "      <td>0</td>\n",
       "      <td>64900000.0</td>\n",
       "      <td>159.0</td>\n",
       "      <td>2015-07-24T00:00:00</td>\n",
       "      <td>3</td>\n",
       "      <td>NaN</td>\n",
       "      <td>14.0</td>\n",
       "      <td>NaN</td>\n",
       "      <td>9</td>\n",
       "      <td>NaN</td>\n",
       "      <td>...</td>\n",
       "      <td>NaN</td>\n",
       "      <td>0.0</td>\n",
       "      <td>Санкт-Петербург</td>\n",
       "      <td>28098.0</td>\n",
       "      <td>6800.0</td>\n",
       "      <td>2.0</td>\n",
       "      <td>84.0</td>\n",
       "      <td>3.0</td>\n",
       "      <td>234.0</td>\n",
       "      <td>424.0</td>\n",
       "    </tr>\n",
       "    <tr>\n",
       "      <th>4</th>\n",
       "      <td>2</td>\n",
       "      <td>10000000.0</td>\n",
       "      <td>100.0</td>\n",
       "      <td>2018-06-19T00:00:00</td>\n",
       "      <td>2</td>\n",
       "      <td>3.03</td>\n",
       "      <td>14.0</td>\n",
       "      <td>32.0</td>\n",
       "      <td>13</td>\n",
       "      <td>NaN</td>\n",
       "      <td>...</td>\n",
       "      <td>41.0</td>\n",
       "      <td>NaN</td>\n",
       "      <td>Санкт-Петербург</td>\n",
       "      <td>31856.0</td>\n",
       "      <td>8098.0</td>\n",
       "      <td>2.0</td>\n",
       "      <td>112.0</td>\n",
       "      <td>1.0</td>\n",
       "      <td>48.0</td>\n",
       "      <td>121.0</td>\n",
       "    </tr>\n",
       "  </tbody>\n",
       "</table>\n",
       "<p>5 rows × 22 columns</p>\n",
       "</div>"
      ],
      "text/plain": [
       "   total_images  last_price  total_area first_day_exposition  rooms  \\\n",
       "0            20  13000000.0       108.0  2019-03-07T00:00:00      3   \n",
       "1             7   3350000.0        40.4  2018-12-04T00:00:00      1   \n",
       "2            10   5196000.0        56.0  2015-08-20T00:00:00      2   \n",
       "3             0  64900000.0       159.0  2015-07-24T00:00:00      3   \n",
       "4             2  10000000.0       100.0  2018-06-19T00:00:00      2   \n",
       "\n",
       "   ceiling_height  floors_total  living_area  floor is_apartment  ...  \\\n",
       "0            2.70          16.0         51.0      8          NaN  ...   \n",
       "1             NaN          11.0         18.6      1          NaN  ...   \n",
       "2             NaN           5.0         34.3      4          NaN  ...   \n",
       "3             NaN          14.0          NaN      9          NaN  ...   \n",
       "4            3.03          14.0         32.0     13          NaN  ...   \n",
       "\n",
       "   kitchen_area  balcony    locality_name  airports_nearest  \\\n",
       "0          25.0      NaN  Санкт-Петербург           18863.0   \n",
       "1          11.0      2.0   посёлок Шушары           12817.0   \n",
       "2           8.3      0.0  Санкт-Петербург           21741.0   \n",
       "3           NaN      0.0  Санкт-Петербург           28098.0   \n",
       "4          41.0      NaN  Санкт-Петербург           31856.0   \n",
       "\n",
       "  cityCenters_nearest  parks_around3000  parks_nearest  ponds_around3000  \\\n",
       "0             16028.0               1.0          482.0               2.0   \n",
       "1             18603.0               0.0            NaN               0.0   \n",
       "2             13933.0               1.0           90.0               2.0   \n",
       "3              6800.0               2.0           84.0               3.0   \n",
       "4              8098.0               2.0          112.0               1.0   \n",
       "\n",
       "   ponds_nearest  days_exposition  \n",
       "0          755.0              NaN  \n",
       "1            NaN             81.0  \n",
       "2          574.0            558.0  \n",
       "3          234.0            424.0  \n",
       "4           48.0            121.0  \n",
       "\n",
       "[5 rows x 22 columns]"
      ]
     },
     "execution_count": 2,
     "metadata": {},
     "output_type": "execute_result"
    }
   ],
   "source": [
    "#Данные склеились, поэтому разделим их параметром sep='\\t'\n",
    "df = pd.read_csv('/datasets/real_estate_data.csv', sep='\\t')\n",
    "#Получим первые строки и общую информацию по таблице:\n",
    "df.info()\n",
    "df.head()"
   ]
  },
  {
   "cell_type": "markdown",
   "metadata": {},
   "source": [
    "### Вывод"
   ]
  },
  {
   "cell_type": "markdown",
   "metadata": {},
   "source": [
    "Данные изучены и имеются следующие замечания:\n",
    "* `cityCenters_nearest` - поменять название на `city_centers_nearest`\n",
    "\n",
    "* `first_day_exposition` - неправильный формат, поменять на date\n",
    "* `days_expostition` - поменяем на int \n",
    "* `balcony` - уберем пропуски и поменяем float на int, скорее всего из-за отсутствия балконов ничего не указали\n",
    "* `is_apartment` - приведем к bool, скорее всего продавцы не указали жилая ли это квартира или апартаменты, в силу своего незнания\n",
    "* `ceiling_height` - уберем пропуски, скорее всего не поставили из-за незнания\n",
    "* `floors_total` - уберем пропуски, приведем к int, должно быть целым числом, скорее всего не заполнили это поле, т.к живущие на последнем этаже, указывали только его, обозначая и свой этаж и этажность в целом\n",
    "* `living_area`, `kitchen_area` - уберем пропуски, появились они вероятнее всего потому что были необязательны к заполнению, а высчитывать руками площадь мало кто хочет. Так же нужно соотнести эти показатели со студией, ведь там непонятно что есть жилая площадь, а что кухня.\n",
    "* `parks_around3000`, `ponds_around3000`, `ponds_nearest`, `parks_nearest`, `airports_nearest` - здесь есть проблемы, но трогать их не будем, они нам не понадобятся\n",
    "* `city_centers_nearest` - есть пропуски, связано наверняка с тем, что достоверно неизвестно что значит центр города, да и городов много, где-то система не просчитала расстояние до центра. Нам понядобится только питер, найдем его руками\n",
    "* `loсality_name`, заполнить пропуски не сможем, т.к неизвестно"
   ]
  },
  {
   "cell_type": "markdown",
   "metadata": {},
   "source": [
    "## Предобработка данных"
   ]
  },
  {
   "cell_type": "markdown",
   "metadata": {},
   "source": [
    "***`days_exposition`***\n",
    "* С days_expostion ничего сделать нельзя, поменять тип данных не получится, потому что имеются пропуски, а пропуски не стоит заменять т.к достоверно неизвестно когда объявление было снято именно с сайта. Медиана/среднее здесь тоже не подойдут. Можно было бы посмотреть на квартиры с теми же параметрами, но опять же достоверно неизвестно что это за квартиры: где-то хороший ремонт, а где-то не очень и тд. Это все влияет на время продажи, Поэтому оставляем этот столбец как есть"
   ]
  },
  {
   "cell_type": "code",
   "execution_count": 3,
   "metadata": {},
   "outputs": [
    {
     "name": "stdout",
     "output_type": "stream",
     "text": [
      "<class 'pandas.core.frame.DataFrame'>\n",
      "Int64Index: 23613 entries, 0 to 23698\n",
      "Data columns (total 22 columns):\n",
      " #   Column                Non-Null Count  Dtype         \n",
      "---  ------                --------------  -----         \n",
      " 0   total_images          23613 non-null  int64         \n",
      " 1   last_price            23613 non-null  int64         \n",
      " 2   total_area            23613 non-null  float64       \n",
      " 3   first_day_exposition  23613 non-null  datetime64[ns]\n",
      " 4   rooms                 23613 non-null  int64         \n",
      " 5   ceiling_height        23613 non-null  float64       \n",
      " 6   floors_total          23613 non-null  int64         \n",
      " 7   living_area           21743 non-null  float64       \n",
      " 8   floor                 23613 non-null  int64         \n",
      " 9   is_apartment          23613 non-null  bool          \n",
      " 10  studio                23613 non-null  bool          \n",
      " 11  open_plan             23613 non-null  bool          \n",
      " 12  kitchen_area          21382 non-null  float64       \n",
      " 13  balcony               23613 non-null  int64         \n",
      " 14  locality_name         23565 non-null  object        \n",
      " 15  airports_nearest      18081 non-null  float64       \n",
      " 16  city_centers_nearest  18104 non-null  float64       \n",
      " 17  parks_around3000      18105 non-null  float64       \n",
      " 18  parks_nearest         8045 non-null   float64       \n",
      " 19  ponds_around3000      18105 non-null  float64       \n",
      " 20  ponds_nearest         9061 non-null   float64       \n",
      " 21  days_exposition       20441 non-null  float64       \n",
      "dtypes: bool(3), datetime64[ns](1), float64(11), int64(6), object(1)\n",
      "memory usage: 3.7+ MB\n"
     ]
    }
   ],
   "source": [
    "#Приведем к змеиному регистру сityCenters_nearest\n",
    "df = df.rename(columns = {'cityCenters_nearest':'city_centers_nearest'})\n",
    "\n",
    "#Переведем в формат date колонку first_day_esposition, приводим в формат без времени, т.к время не указано\n",
    "df['first_day_exposition'] = pd.to_datetime(df['first_day_exposition'], format = '%Y-%m-%d')\n",
    "\n",
    "#Поменяем формат в balcony, пропущенные значения поменяем на 0\n",
    "df['balcony'] = df['balcony'].fillna(0).astype(int)\n",
    "\n",
    "#Т.к апартаментов из целого списка всего 50, заменим пропуски на false и тип bool, если продавец не знает апартаменты у него\n",
    "#или жилая квартира, то скорее всего квартира, т.к по моему мнению трудно не знать, что купил апартаменты\n",
    "df['is_apartment'] = df['is_apartment'].fillna(False).astype(bool)\n",
    "\n",
    "#В высоте потолков есть слишком большие значения, оставим для работы с выбросами, а пропуски заменим на медианные значения,\n",
    "#Т.к медиана наименее чувствительна к выбросам\n",
    "df['ceiling_height'] = df['ceiling_height'].fillna(df['ceiling_height'].median())\n",
    "\n",
    "#Изменим цену на тип int для удобства просмотра\n",
    "df['last_price'] = df['last_price'].astype('int')\n",
    "\n",
    "#Рассмотрим пропуски в  floors_total детальнее:\n",
    "df['floors_total'].isna().value_counts()\n",
    "#Всего 86 пропусков, слишком мало и можно просто удалить, ни на что это не повлияет\n",
    "df.dropna(subset=['floors_total'], inplace=True)\n",
    "df['floors_total'] = df['floors_total'].astype(int)\n",
    "\n",
    "df.info()"
   ]
  },
  {
   "cell_type": "markdown",
   "metadata": {},
   "source": [
    "Рассмотрим `kitchen_area` и `living_area`"
   ]
  },
  {
   "cell_type": "code",
   "execution_count": 4,
   "metadata": {},
   "outputs": [
    {
     "name": "stdout",
     "output_type": "stream",
     "text": [
      "Пропуски в kitchen_area: 2231\n",
      "Пропуски в living_area: 1870\n"
     ]
    }
   ],
   "source": [
    "print('Пропуски в kitchen_area:', df['kitchen_area'].isnull().sum())\n",
    "print('Пропуски в living_area:', df['living_area'].isnull().sum())"
   ]
  },
  {
   "cell_type": "markdown",
   "metadata": {},
   "source": [
    "Пропуски есть, но заполнять их средним/медианой было бы неправильно, в нашей выборке у нас разные города и везде разные квартиры, от мелкой однушки до  большого коттеджа, соответственно и кухни везде разные. Я думаю лучше будет оставить как есть, но проверим еще `studio`"
   ]
  },
  {
   "cell_type": "code",
   "execution_count": 5,
   "metadata": {},
   "outputs": [
    {
     "data": {
      "text/plain": [
       "kitchen_area    146\n",
       "living_area       7\n",
       "dtype: int64"
      ]
     },
     "execution_count": 5,
     "metadata": {},
     "output_type": "execute_result"
    }
   ],
   "source": [
    "df.query('studio == True')[['kitchen_area', 'living_area']].isnull().sum()"
   ]
  },
  {
   "cell_type": "markdown",
   "metadata": {},
   "source": [
    "Совсем мало пропусков относится к студиям, оставляем как есть."
   ]
  },
  {
   "cell_type": "markdown",
   "metadata": {},
   "source": [
    "## Расчёты и добавление результатов в таблицу"
   ]
  },
  {
   "cell_type": "markdown",
   "metadata": {},
   "source": [
    "1. Цена квадратного метра;\n",
    "2. День недели, месяц и год публикации объявления;\n",
    "3. Этаж квартиры; варианты — первый, последний, другой;\n",
    "4. соотношение жилой и общей площади, а также отношение площади кухни к общей."
   ]
  },
  {
   "cell_type": "markdown",
   "metadata": {},
   "source": [
    "**Рассчитаем цену квадратного метра. Это основная метрика при работе с квартирами.**"
   ]
  },
  {
   "cell_type": "code",
   "execution_count": 6,
   "metadata": {},
   "outputs": [
    {
     "data": {
      "text/plain": [
       "0        120370.370370\n",
       "1         82920.792079\n",
       "2         92785.714286\n",
       "3        408176.100629\n",
       "4        100000.000000\n",
       "             ...      \n",
       "23694     72490.845228\n",
       "23695     52542.372881\n",
       "23696     44091.710758\n",
       "23697    149511.400651\n",
       "23698     41795.665635\n",
       "Name: price_per_metre, Length: 23613, dtype: float64"
      ]
     },
     "execution_count": 6,
     "metadata": {},
     "output_type": "execute_result"
    }
   ],
   "source": [
    "df['price_per_metre'] = df['last_price'] / df['total_area']\n",
    "df['price_per_metre']"
   ]
  },
  {
   "cell_type": "markdown",
   "metadata": {},
   "source": [
    "**Добавим столбцы: день недели, месяц и год публикации.**"
   ]
  },
  {
   "cell_type": "code",
   "execution_count": 7,
   "metadata": {},
   "outputs": [
    {
     "data": {
      "text/html": [
       "<div>\n",
       "<style scoped>\n",
       "    .dataframe tbody tr th:only-of-type {\n",
       "        vertical-align: middle;\n",
       "    }\n",
       "\n",
       "    .dataframe tbody tr th {\n",
       "        vertical-align: top;\n",
       "    }\n",
       "\n",
       "    .dataframe thead th {\n",
       "        text-align: right;\n",
       "    }\n",
       "</style>\n",
       "<table border=\"1\" class=\"dataframe\">\n",
       "  <thead>\n",
       "    <tr style=\"text-align: right;\">\n",
       "      <th></th>\n",
       "      <th>total_images</th>\n",
       "      <th>last_price</th>\n",
       "      <th>total_area</th>\n",
       "      <th>first_day_exposition</th>\n",
       "      <th>rooms</th>\n",
       "      <th>ceiling_height</th>\n",
       "      <th>floors_total</th>\n",
       "      <th>living_area</th>\n",
       "      <th>floor</th>\n",
       "      <th>is_apartment</th>\n",
       "      <th>...</th>\n",
       "      <th>city_centers_nearest</th>\n",
       "      <th>parks_around3000</th>\n",
       "      <th>parks_nearest</th>\n",
       "      <th>ponds_around3000</th>\n",
       "      <th>ponds_nearest</th>\n",
       "      <th>days_exposition</th>\n",
       "      <th>price_per_metre</th>\n",
       "      <th>weekday_exposition</th>\n",
       "      <th>month_exposition</th>\n",
       "      <th>year_exposition</th>\n",
       "    </tr>\n",
       "  </thead>\n",
       "  <tbody>\n",
       "    <tr>\n",
       "      <th>0</th>\n",
       "      <td>20</td>\n",
       "      <td>13000000</td>\n",
       "      <td>108.0</td>\n",
       "      <td>2019-03-07</td>\n",
       "      <td>3</td>\n",
       "      <td>2.70</td>\n",
       "      <td>16</td>\n",
       "      <td>51.0</td>\n",
       "      <td>8</td>\n",
       "      <td>False</td>\n",
       "      <td>...</td>\n",
       "      <td>16028.0</td>\n",
       "      <td>1.0</td>\n",
       "      <td>482.0</td>\n",
       "      <td>2.0</td>\n",
       "      <td>755.0</td>\n",
       "      <td>NaN</td>\n",
       "      <td>120370.370370</td>\n",
       "      <td>3</td>\n",
       "      <td>3</td>\n",
       "      <td>2019</td>\n",
       "    </tr>\n",
       "    <tr>\n",
       "      <th>1</th>\n",
       "      <td>7</td>\n",
       "      <td>3350000</td>\n",
       "      <td>40.4</td>\n",
       "      <td>2018-12-04</td>\n",
       "      <td>1</td>\n",
       "      <td>2.65</td>\n",
       "      <td>11</td>\n",
       "      <td>18.6</td>\n",
       "      <td>1</td>\n",
       "      <td>False</td>\n",
       "      <td>...</td>\n",
       "      <td>18603.0</td>\n",
       "      <td>0.0</td>\n",
       "      <td>NaN</td>\n",
       "      <td>0.0</td>\n",
       "      <td>NaN</td>\n",
       "      <td>81.0</td>\n",
       "      <td>82920.792079</td>\n",
       "      <td>1</td>\n",
       "      <td>12</td>\n",
       "      <td>2018</td>\n",
       "    </tr>\n",
       "    <tr>\n",
       "      <th>2</th>\n",
       "      <td>10</td>\n",
       "      <td>5196000</td>\n",
       "      <td>56.0</td>\n",
       "      <td>2015-08-20</td>\n",
       "      <td>2</td>\n",
       "      <td>2.65</td>\n",
       "      <td>5</td>\n",
       "      <td>34.3</td>\n",
       "      <td>4</td>\n",
       "      <td>False</td>\n",
       "      <td>...</td>\n",
       "      <td>13933.0</td>\n",
       "      <td>1.0</td>\n",
       "      <td>90.0</td>\n",
       "      <td>2.0</td>\n",
       "      <td>574.0</td>\n",
       "      <td>558.0</td>\n",
       "      <td>92785.714286</td>\n",
       "      <td>3</td>\n",
       "      <td>8</td>\n",
       "      <td>2015</td>\n",
       "    </tr>\n",
       "    <tr>\n",
       "      <th>3</th>\n",
       "      <td>0</td>\n",
       "      <td>64900000</td>\n",
       "      <td>159.0</td>\n",
       "      <td>2015-07-24</td>\n",
       "      <td>3</td>\n",
       "      <td>2.65</td>\n",
       "      <td>14</td>\n",
       "      <td>NaN</td>\n",
       "      <td>9</td>\n",
       "      <td>False</td>\n",
       "      <td>...</td>\n",
       "      <td>6800.0</td>\n",
       "      <td>2.0</td>\n",
       "      <td>84.0</td>\n",
       "      <td>3.0</td>\n",
       "      <td>234.0</td>\n",
       "      <td>424.0</td>\n",
       "      <td>408176.100629</td>\n",
       "      <td>4</td>\n",
       "      <td>7</td>\n",
       "      <td>2015</td>\n",
       "    </tr>\n",
       "    <tr>\n",
       "      <th>4</th>\n",
       "      <td>2</td>\n",
       "      <td>10000000</td>\n",
       "      <td>100.0</td>\n",
       "      <td>2018-06-19</td>\n",
       "      <td>2</td>\n",
       "      <td>3.03</td>\n",
       "      <td>14</td>\n",
       "      <td>32.0</td>\n",
       "      <td>13</td>\n",
       "      <td>False</td>\n",
       "      <td>...</td>\n",
       "      <td>8098.0</td>\n",
       "      <td>2.0</td>\n",
       "      <td>112.0</td>\n",
       "      <td>1.0</td>\n",
       "      <td>48.0</td>\n",
       "      <td>121.0</td>\n",
       "      <td>100000.000000</td>\n",
       "      <td>1</td>\n",
       "      <td>6</td>\n",
       "      <td>2018</td>\n",
       "    </tr>\n",
       "  </tbody>\n",
       "</table>\n",
       "<p>5 rows × 26 columns</p>\n",
       "</div>"
      ],
      "text/plain": [
       "   total_images  last_price  total_area first_day_exposition  rooms  \\\n",
       "0            20    13000000       108.0           2019-03-07      3   \n",
       "1             7     3350000        40.4           2018-12-04      1   \n",
       "2            10     5196000        56.0           2015-08-20      2   \n",
       "3             0    64900000       159.0           2015-07-24      3   \n",
       "4             2    10000000       100.0           2018-06-19      2   \n",
       "\n",
       "   ceiling_height  floors_total  living_area  floor  is_apartment  ...  \\\n",
       "0            2.70            16         51.0      8         False  ...   \n",
       "1            2.65            11         18.6      1         False  ...   \n",
       "2            2.65             5         34.3      4         False  ...   \n",
       "3            2.65            14          NaN      9         False  ...   \n",
       "4            3.03            14         32.0     13         False  ...   \n",
       "\n",
       "   city_centers_nearest  parks_around3000  parks_nearest  ponds_around3000  \\\n",
       "0               16028.0               1.0          482.0               2.0   \n",
       "1               18603.0               0.0            NaN               0.0   \n",
       "2               13933.0               1.0           90.0               2.0   \n",
       "3                6800.0               2.0           84.0               3.0   \n",
       "4                8098.0               2.0          112.0               1.0   \n",
       "\n",
       "  ponds_nearest  days_exposition  price_per_metre  weekday_exposition  \\\n",
       "0         755.0              NaN    120370.370370                   3   \n",
       "1           NaN             81.0     82920.792079                   1   \n",
       "2         574.0            558.0     92785.714286                   3   \n",
       "3         234.0            424.0    408176.100629                   4   \n",
       "4          48.0            121.0    100000.000000                   1   \n",
       "\n",
       "   month_exposition  year_exposition  \n",
       "0                 3             2019  \n",
       "1                12             2018  \n",
       "2                 8             2015  \n",
       "3                 7             2015  \n",
       "4                 6             2018  \n",
       "\n",
       "[5 rows x 26 columns]"
      ]
     },
     "execution_count": 7,
     "metadata": {},
     "output_type": "execute_result"
    }
   ],
   "source": [
    "#Cтолбец дня недели\n",
    "df['weekday_exposition'] = df['first_day_exposition'].dt.weekday\n",
    "\n",
    "#Cтолбец месяца\n",
    "df['month_exposition'] = df['first_day_exposition'].dt.month\n",
    "\n",
    "#Столбец года\n",
    "df['year_exposition'] = df['first_day_exposition'].dt.year\n",
    "df.head()"
   ]
  },
  {
   "cell_type": "markdown",
   "metadata": {},
   "source": [
    "**Составим категоризацию для этажей.**"
   ]
  },
  {
   "cell_type": "code",
   "execution_count": 8,
   "metadata": {},
   "outputs": [
    {
     "data": {
      "text/html": [
       "<div>\n",
       "<style scoped>\n",
       "    .dataframe tbody tr th:only-of-type {\n",
       "        vertical-align: middle;\n",
       "    }\n",
       "\n",
       "    .dataframe tbody tr th {\n",
       "        vertical-align: top;\n",
       "    }\n",
       "\n",
       "    .dataframe thead th {\n",
       "        text-align: right;\n",
       "    }\n",
       "</style>\n",
       "<table border=\"1\" class=\"dataframe\">\n",
       "  <thead>\n",
       "    <tr style=\"text-align: right;\">\n",
       "      <th></th>\n",
       "      <th>total_images</th>\n",
       "      <th>last_price</th>\n",
       "      <th>total_area</th>\n",
       "      <th>first_day_exposition</th>\n",
       "      <th>rooms</th>\n",
       "      <th>ceiling_height</th>\n",
       "      <th>floors_total</th>\n",
       "      <th>living_area</th>\n",
       "      <th>floor</th>\n",
       "      <th>is_apartment</th>\n",
       "      <th>...</th>\n",
       "      <th>parks_around3000</th>\n",
       "      <th>parks_nearest</th>\n",
       "      <th>ponds_around3000</th>\n",
       "      <th>ponds_nearest</th>\n",
       "      <th>days_exposition</th>\n",
       "      <th>price_per_metre</th>\n",
       "      <th>weekday_exposition</th>\n",
       "      <th>month_exposition</th>\n",
       "      <th>year_exposition</th>\n",
       "      <th>floors_category</th>\n",
       "    </tr>\n",
       "  </thead>\n",
       "  <tbody>\n",
       "    <tr>\n",
       "      <th>0</th>\n",
       "      <td>20</td>\n",
       "      <td>13000000</td>\n",
       "      <td>108.0</td>\n",
       "      <td>2019-03-07</td>\n",
       "      <td>3</td>\n",
       "      <td>2.70</td>\n",
       "      <td>16</td>\n",
       "      <td>51.0</td>\n",
       "      <td>8</td>\n",
       "      <td>False</td>\n",
       "      <td>...</td>\n",
       "      <td>1.0</td>\n",
       "      <td>482.0</td>\n",
       "      <td>2.0</td>\n",
       "      <td>755.0</td>\n",
       "      <td>NaN</td>\n",
       "      <td>120370.370370</td>\n",
       "      <td>3</td>\n",
       "      <td>3</td>\n",
       "      <td>2019</td>\n",
       "      <td>другой</td>\n",
       "    </tr>\n",
       "    <tr>\n",
       "      <th>1</th>\n",
       "      <td>7</td>\n",
       "      <td>3350000</td>\n",
       "      <td>40.4</td>\n",
       "      <td>2018-12-04</td>\n",
       "      <td>1</td>\n",
       "      <td>2.65</td>\n",
       "      <td>11</td>\n",
       "      <td>18.6</td>\n",
       "      <td>1</td>\n",
       "      <td>False</td>\n",
       "      <td>...</td>\n",
       "      <td>0.0</td>\n",
       "      <td>NaN</td>\n",
       "      <td>0.0</td>\n",
       "      <td>NaN</td>\n",
       "      <td>81.0</td>\n",
       "      <td>82920.792079</td>\n",
       "      <td>1</td>\n",
       "      <td>12</td>\n",
       "      <td>2018</td>\n",
       "      <td>первый</td>\n",
       "    </tr>\n",
       "    <tr>\n",
       "      <th>2</th>\n",
       "      <td>10</td>\n",
       "      <td>5196000</td>\n",
       "      <td>56.0</td>\n",
       "      <td>2015-08-20</td>\n",
       "      <td>2</td>\n",
       "      <td>2.65</td>\n",
       "      <td>5</td>\n",
       "      <td>34.3</td>\n",
       "      <td>4</td>\n",
       "      <td>False</td>\n",
       "      <td>...</td>\n",
       "      <td>1.0</td>\n",
       "      <td>90.0</td>\n",
       "      <td>2.0</td>\n",
       "      <td>574.0</td>\n",
       "      <td>558.0</td>\n",
       "      <td>92785.714286</td>\n",
       "      <td>3</td>\n",
       "      <td>8</td>\n",
       "      <td>2015</td>\n",
       "      <td>другой</td>\n",
       "    </tr>\n",
       "    <tr>\n",
       "      <th>3</th>\n",
       "      <td>0</td>\n",
       "      <td>64900000</td>\n",
       "      <td>159.0</td>\n",
       "      <td>2015-07-24</td>\n",
       "      <td>3</td>\n",
       "      <td>2.65</td>\n",
       "      <td>14</td>\n",
       "      <td>NaN</td>\n",
       "      <td>9</td>\n",
       "      <td>False</td>\n",
       "      <td>...</td>\n",
       "      <td>2.0</td>\n",
       "      <td>84.0</td>\n",
       "      <td>3.0</td>\n",
       "      <td>234.0</td>\n",
       "      <td>424.0</td>\n",
       "      <td>408176.100629</td>\n",
       "      <td>4</td>\n",
       "      <td>7</td>\n",
       "      <td>2015</td>\n",
       "      <td>другой</td>\n",
       "    </tr>\n",
       "    <tr>\n",
       "      <th>4</th>\n",
       "      <td>2</td>\n",
       "      <td>10000000</td>\n",
       "      <td>100.0</td>\n",
       "      <td>2018-06-19</td>\n",
       "      <td>2</td>\n",
       "      <td>3.03</td>\n",
       "      <td>14</td>\n",
       "      <td>32.0</td>\n",
       "      <td>13</td>\n",
       "      <td>False</td>\n",
       "      <td>...</td>\n",
       "      <td>2.0</td>\n",
       "      <td>112.0</td>\n",
       "      <td>1.0</td>\n",
       "      <td>48.0</td>\n",
       "      <td>121.0</td>\n",
       "      <td>100000.000000</td>\n",
       "      <td>1</td>\n",
       "      <td>6</td>\n",
       "      <td>2018</td>\n",
       "      <td>другой</td>\n",
       "    </tr>\n",
       "  </tbody>\n",
       "</table>\n",
       "<p>5 rows × 27 columns</p>\n",
       "</div>"
      ],
      "text/plain": [
       "   total_images  last_price  total_area first_day_exposition  rooms  \\\n",
       "0            20    13000000       108.0           2019-03-07      3   \n",
       "1             7     3350000        40.4           2018-12-04      1   \n",
       "2            10     5196000        56.0           2015-08-20      2   \n",
       "3             0    64900000       159.0           2015-07-24      3   \n",
       "4             2    10000000       100.0           2018-06-19      2   \n",
       "\n",
       "   ceiling_height  floors_total  living_area  floor  is_apartment  ...  \\\n",
       "0            2.70            16         51.0      8         False  ...   \n",
       "1            2.65            11         18.6      1         False  ...   \n",
       "2            2.65             5         34.3      4         False  ...   \n",
       "3            2.65            14          NaN      9         False  ...   \n",
       "4            3.03            14         32.0     13         False  ...   \n",
       "\n",
       "   parks_around3000  parks_nearest  ponds_around3000  ponds_nearest  \\\n",
       "0               1.0          482.0               2.0          755.0   \n",
       "1               0.0            NaN               0.0            NaN   \n",
       "2               1.0           90.0               2.0          574.0   \n",
       "3               2.0           84.0               3.0          234.0   \n",
       "4               2.0          112.0               1.0           48.0   \n",
       "\n",
       "  days_exposition  price_per_metre  weekday_exposition  month_exposition  \\\n",
       "0             NaN    120370.370370                   3                 3   \n",
       "1            81.0     82920.792079                   1                12   \n",
       "2           558.0     92785.714286                   3                 8   \n",
       "3           424.0    408176.100629                   4                 7   \n",
       "4           121.0    100000.000000                   1                 6   \n",
       "\n",
       "   year_exposition  floors_category  \n",
       "0             2019           другой  \n",
       "1             2018           первый  \n",
       "2             2015           другой  \n",
       "3             2015           другой  \n",
       "4             2018           другой  \n",
       "\n",
       "[5 rows x 27 columns]"
      ]
     },
     "execution_count": 8,
     "metadata": {},
     "output_type": "execute_result"
    }
   ],
   "source": [
    "#Функция категоризации по этажам\n",
    "def floor_category(row):\n",
    "    if row['floor'] == 1:\n",
    "        return 'первый'\n",
    "    elif row['floor'] == row['floors_total']:\n",
    "        return 'последний'\n",
    "    else:\n",
    "        return 'другой'\n",
    "df['floors_category'] = df.apply(floor_category, axis=1)\n",
    "df.head()"
   ]
  },
  {
   "cell_type": "markdown",
   "metadata": {},
   "source": [
    "**Создадим отношение жилой площади к общей и кухонной площади к общей.**"
   ]
  },
  {
   "cell_type": "code",
   "execution_count": 9,
   "metadata": {},
   "outputs": [
    {
     "data": {
      "text/html": [
       "<div>\n",
       "<style scoped>\n",
       "    .dataframe tbody tr th:only-of-type {\n",
       "        vertical-align: middle;\n",
       "    }\n",
       "\n",
       "    .dataframe tbody tr th {\n",
       "        vertical-align: top;\n",
       "    }\n",
       "\n",
       "    .dataframe thead th {\n",
       "        text-align: right;\n",
       "    }\n",
       "</style>\n",
       "<table border=\"1\" class=\"dataframe\">\n",
       "  <thead>\n",
       "    <tr style=\"text-align: right;\">\n",
       "      <th></th>\n",
       "      <th>total_images</th>\n",
       "      <th>last_price</th>\n",
       "      <th>total_area</th>\n",
       "      <th>first_day_exposition</th>\n",
       "      <th>rooms</th>\n",
       "      <th>ceiling_height</th>\n",
       "      <th>floors_total</th>\n",
       "      <th>living_area</th>\n",
       "      <th>floor</th>\n",
       "      <th>is_apartment</th>\n",
       "      <th>...</th>\n",
       "      <th>ponds_around3000</th>\n",
       "      <th>ponds_nearest</th>\n",
       "      <th>days_exposition</th>\n",
       "      <th>price_per_metre</th>\n",
       "      <th>weekday_exposition</th>\n",
       "      <th>month_exposition</th>\n",
       "      <th>year_exposition</th>\n",
       "      <th>floors_category</th>\n",
       "      <th>useful_area_ratio</th>\n",
       "      <th>kitchen_area_ratio</th>\n",
       "    </tr>\n",
       "  </thead>\n",
       "  <tbody>\n",
       "    <tr>\n",
       "      <th>0</th>\n",
       "      <td>20</td>\n",
       "      <td>13000000</td>\n",
       "      <td>108.0</td>\n",
       "      <td>2019-03-07</td>\n",
       "      <td>3</td>\n",
       "      <td>2.70</td>\n",
       "      <td>16</td>\n",
       "      <td>51.0</td>\n",
       "      <td>8</td>\n",
       "      <td>False</td>\n",
       "      <td>...</td>\n",
       "      <td>2.0</td>\n",
       "      <td>755.0</td>\n",
       "      <td>NaN</td>\n",
       "      <td>120370.370370</td>\n",
       "      <td>3</td>\n",
       "      <td>3</td>\n",
       "      <td>2019</td>\n",
       "      <td>другой</td>\n",
       "      <td>0.472222</td>\n",
       "      <td>0.231481</td>\n",
       "    </tr>\n",
       "    <tr>\n",
       "      <th>1</th>\n",
       "      <td>7</td>\n",
       "      <td>3350000</td>\n",
       "      <td>40.4</td>\n",
       "      <td>2018-12-04</td>\n",
       "      <td>1</td>\n",
       "      <td>2.65</td>\n",
       "      <td>11</td>\n",
       "      <td>18.6</td>\n",
       "      <td>1</td>\n",
       "      <td>False</td>\n",
       "      <td>...</td>\n",
       "      <td>0.0</td>\n",
       "      <td>NaN</td>\n",
       "      <td>81.0</td>\n",
       "      <td>82920.792079</td>\n",
       "      <td>1</td>\n",
       "      <td>12</td>\n",
       "      <td>2018</td>\n",
       "      <td>первый</td>\n",
       "      <td>0.460396</td>\n",
       "      <td>0.272277</td>\n",
       "    </tr>\n",
       "    <tr>\n",
       "      <th>2</th>\n",
       "      <td>10</td>\n",
       "      <td>5196000</td>\n",
       "      <td>56.0</td>\n",
       "      <td>2015-08-20</td>\n",
       "      <td>2</td>\n",
       "      <td>2.65</td>\n",
       "      <td>5</td>\n",
       "      <td>34.3</td>\n",
       "      <td>4</td>\n",
       "      <td>False</td>\n",
       "      <td>...</td>\n",
       "      <td>2.0</td>\n",
       "      <td>574.0</td>\n",
       "      <td>558.0</td>\n",
       "      <td>92785.714286</td>\n",
       "      <td>3</td>\n",
       "      <td>8</td>\n",
       "      <td>2015</td>\n",
       "      <td>другой</td>\n",
       "      <td>0.612500</td>\n",
       "      <td>0.148214</td>\n",
       "    </tr>\n",
       "    <tr>\n",
       "      <th>3</th>\n",
       "      <td>0</td>\n",
       "      <td>64900000</td>\n",
       "      <td>159.0</td>\n",
       "      <td>2015-07-24</td>\n",
       "      <td>3</td>\n",
       "      <td>2.65</td>\n",
       "      <td>14</td>\n",
       "      <td>NaN</td>\n",
       "      <td>9</td>\n",
       "      <td>False</td>\n",
       "      <td>...</td>\n",
       "      <td>3.0</td>\n",
       "      <td>234.0</td>\n",
       "      <td>424.0</td>\n",
       "      <td>408176.100629</td>\n",
       "      <td>4</td>\n",
       "      <td>7</td>\n",
       "      <td>2015</td>\n",
       "      <td>другой</td>\n",
       "      <td>NaN</td>\n",
       "      <td>NaN</td>\n",
       "    </tr>\n",
       "    <tr>\n",
       "      <th>4</th>\n",
       "      <td>2</td>\n",
       "      <td>10000000</td>\n",
       "      <td>100.0</td>\n",
       "      <td>2018-06-19</td>\n",
       "      <td>2</td>\n",
       "      <td>3.03</td>\n",
       "      <td>14</td>\n",
       "      <td>32.0</td>\n",
       "      <td>13</td>\n",
       "      <td>False</td>\n",
       "      <td>...</td>\n",
       "      <td>1.0</td>\n",
       "      <td>48.0</td>\n",
       "      <td>121.0</td>\n",
       "      <td>100000.000000</td>\n",
       "      <td>1</td>\n",
       "      <td>6</td>\n",
       "      <td>2018</td>\n",
       "      <td>другой</td>\n",
       "      <td>0.320000</td>\n",
       "      <td>0.410000</td>\n",
       "    </tr>\n",
       "  </tbody>\n",
       "</table>\n",
       "<p>5 rows × 29 columns</p>\n",
       "</div>"
      ],
      "text/plain": [
       "   total_images  last_price  total_area first_day_exposition  rooms  \\\n",
       "0            20    13000000       108.0           2019-03-07      3   \n",
       "1             7     3350000        40.4           2018-12-04      1   \n",
       "2            10     5196000        56.0           2015-08-20      2   \n",
       "3             0    64900000       159.0           2015-07-24      3   \n",
       "4             2    10000000       100.0           2018-06-19      2   \n",
       "\n",
       "   ceiling_height  floors_total  living_area  floor  is_apartment  ...  \\\n",
       "0            2.70            16         51.0      8         False  ...   \n",
       "1            2.65            11         18.6      1         False  ...   \n",
       "2            2.65             5         34.3      4         False  ...   \n",
       "3            2.65            14          NaN      9         False  ...   \n",
       "4            3.03            14         32.0     13         False  ...   \n",
       "\n",
       "   ponds_around3000  ponds_nearest  days_exposition  price_per_metre  \\\n",
       "0               2.0          755.0              NaN    120370.370370   \n",
       "1               0.0            NaN             81.0     82920.792079   \n",
       "2               2.0          574.0            558.0     92785.714286   \n",
       "3               3.0          234.0            424.0    408176.100629   \n",
       "4               1.0           48.0            121.0    100000.000000   \n",
       "\n",
       "  weekday_exposition  month_exposition  year_exposition  floors_category  \\\n",
       "0                  3                 3             2019           другой   \n",
       "1                  1                12             2018           первый   \n",
       "2                  3                 8             2015           другой   \n",
       "3                  4                 7             2015           другой   \n",
       "4                  1                 6             2018           другой   \n",
       "\n",
       "   useful_area_ratio  kitchen_area_ratio  \n",
       "0           0.472222            0.231481  \n",
       "1           0.460396            0.272277  \n",
       "2           0.612500            0.148214  \n",
       "3                NaN                 NaN  \n",
       "4           0.320000            0.410000  \n",
       "\n",
       "[5 rows x 29 columns]"
      ]
     },
     "execution_count": 9,
     "metadata": {},
     "output_type": "execute_result"
    }
   ],
   "source": [
    "#Прежде чем создавать отношение жилой площади к общей, заполним пропуски в \n",
    "#Cтолбец соотношения жилой площади к общей\n",
    "df['useful_area_ratio'] = df['living_area'] / df['total_area']\n",
    "\n",
    "#Cтолбец отношения площади кухни к общей\n",
    "df['kitchen_area_ratio'] = df['kitchen_area'] / df['total_area']\n",
    "df.head()"
   ]
  },
  {
   "cell_type": "markdown",
   "metadata": {},
   "source": [
    "## Исследовательский анализ данных"
   ]
  },
  {
   "cell_type": "markdown",
   "metadata": {},
   "source": [
    "### Изучите следующие параметры: площадь, цена, число комнат, высота потолков. Постройте гистограммы для каждого параметра."
   ]
  },
  {
   "cell_type": "markdown",
   "metadata": {},
   "source": [
    "**Изучим площадь.**"
   ]
  },
  {
   "cell_type": "code",
   "execution_count": 10,
   "metadata": {},
   "outputs": [
    {
     "data": {
      "text/plain": [
       "Text(0.5, 0, 'Площадь')"
      ]
     },
     "execution_count": 10,
     "metadata": {},
     "output_type": "execute_result"
    },
    {
     "data": {
      "image/png": "[encoded data removed]",
      "text/plain": [
       "<Figure size 360x216 with 1 Axes>"
      ]
     },
     "metadata": {
      "needs_background": "light"
     },
     "output_type": "display_data"
    }
   ],
   "source": [
    "df['total_area'].hist(bins=100, grid=True, figsize=(5,3))\n",
    "plt.ylabel(\"Частота\")\n",
    "plt.xlabel(\"Площадь\")"
   ]
  },
  {
   "cell_type": "code",
   "execution_count": 11,
   "metadata": {},
   "outputs": [
    {
     "data": {
      "text/plain": [
       "count    23613.000000\n",
       "mean        60.340678\n",
       "std         35.648988\n",
       "min         12.000000\n",
       "25%         40.000000\n",
       "50%         52.000000\n",
       "75%         69.800000\n",
       "max        900.000000\n",
       "Name: total_area, dtype: float64"
      ]
     },
     "execution_count": 11,
     "metadata": {},
     "output_type": "execute_result"
    },
    {
     "data": {
      "image/png": "[encoded data removed]",
      "text/plain": [
       "<Figure size 360x216 with 1 Axes>"
      ]
     },
     "metadata": {
      "needs_background": "light"
     },
     "output_type": "display_data"
    }
   ],
   "source": [
    "df['total_area'].hist(bins=100, range=(0,300), grid=True, figsize=(5,3))\n",
    "plt.ylabel(\"Частота\")\n",
    "plt.xlabel(\"Площадь\")\n",
    "df['total_area'].describe()"
   ]
  },
  {
   "cell_type": "markdown",
   "metadata": {},
   "source": [
    "Больше всех квартир находяться в районе от 30 до 65 кв.м. Выбросы сыше 300 кв.м. обусловлены либо большими планировками либо отдельными частными домами."
   ]
  },
  {
   "cell_type": "markdown",
   "metadata": {},
   "source": [
    "**Изучим цены.**"
   ]
  },
  {
   "cell_type": "code",
   "execution_count": 12,
   "metadata": {},
   "outputs": [
    {
     "data": {
      "text/plain": [
       "count    2.361300e+04\n",
       "mean     6.540555e+06\n",
       "std      1.090172e+07\n",
       "min      1.219000e+04\n",
       "25%      3.400000e+06\n",
       "50%      4.650000e+06\n",
       "75%      6.799000e+06\n",
       "max      7.630000e+08\n",
       "Name: last_price, dtype: float64"
      ]
     },
     "execution_count": 12,
     "metadata": {},
     "output_type": "execute_result"
    },
    {
     "data": {
      "image/png": "[encoded data removed]",
      "text/plain": [
       "<Figure size 432x288 with 1 Axes>"
      ]
     },
     "metadata": {
      "needs_background": "light"
     },
     "output_type": "display_data"
    }
   ],
   "source": [
    "df['last_price'].hist(bins=100, range=(0,15000000), grid=True)\n",
    "plt.ylabel(\"Частота\")\n",
    "plt.xlabel(\"Цена\")\n",
    "df['last_price'].describe()"
   ]
  },
  {
   "cell_type": "markdown",
   "metadata": {},
   "source": [
    "Видим нормальное распределение, больше всех квартир находяться в районе от 3.3 млн до 6 млн."
   ]
  },
  {
   "cell_type": "markdown",
   "metadata": {},
   "source": [
    "**Изучим число комнат.**"
   ]
  },
  {
   "cell_type": "code",
   "execution_count": 13,
   "metadata": {},
   "outputs": [
    {
     "data": {
      "text/plain": [
       "count    23613.000000\n",
       "mean         2.071147\n",
       "std          1.078380\n",
       "min          0.000000\n",
       "25%          1.000000\n",
       "50%          2.000000\n",
       "75%          3.000000\n",
       "max         19.000000\n",
       "Name: rooms, dtype: float64"
      ]
     },
     "execution_count": 13,
     "metadata": {},
     "output_type": "execute_result"
    },
    {
     "data": {
      "image/png": "[encoded data removed]",
      "text/plain": [
       "<Figure size 360x216 with 1 Axes>"
      ]
     },
     "metadata": {
      "needs_background": "light"
     },
     "output_type": "display_data"
    }
   ],
   "source": [
    "df['rooms'].hist(bins=30, grid=True, figsize=(5,3),range=(0,9))\n",
    "plt.ylabel(\"Частота\")\n",
    "plt.xlabel(\"Число комнат\")\n",
    "df['rooms'].describe()"
   ]
  },
  {
   "cell_type": "markdown",
   "metadata": {},
   "source": [
    "На рынке, в основном, представлены 2-х и 3-х комнатные квартиры, больше всего однокомнтатных, но есть и лоты по 19 комнат, скорее всего это частные дома."
   ]
  },
  {
   "cell_type": "markdown",
   "metadata": {},
   "source": [
    "**Изучим высоту потолков.**"
   ]
  },
  {
   "cell_type": "code",
   "execution_count": 14,
   "metadata": {},
   "outputs": [
    {
     "data": {
      "text/plain": [
       "count    23613.000000\n",
       "mean         2.724581\n",
       "std          0.990085\n",
       "min          1.000000\n",
       "25%          2.600000\n",
       "50%          2.650000\n",
       "75%          2.700000\n",
       "max        100.000000\n",
       "Name: ceiling_height, dtype: float64"
      ]
     },
     "execution_count": 14,
     "metadata": {},
     "output_type": "execute_result"
    },
    {
     "data": {
      "image/png": "[encoded data removed]",
      "text/plain": [
       "<Figure size 432x288 with 1 Axes>"
      ]
     },
     "metadata": {
      "needs_background": "light"
     },
     "output_type": "display_data"
    }
   ],
   "source": [
    "df['ceiling_height'].hist(bins=100, grid=True, range=(2,5))\n",
    "plt.ylabel(\"Частота\")\n",
    "plt.xlabel(\"Высота потолков\")\n",
    "df['ceiling_height'].describe()\n",
    "#df['ceiling_height'].value_counts().head(10)"
   ]
  },
  {
   "cell_type": "markdown",
   "metadata": {},
   "source": [
    "Больше всего потолков с высотой 2.6-2.7 м, в среднем представлены потолки ~2.7 м."
   ]
  },
  {
   "cell_type": "markdown",
   "metadata": {},
   "source": [
    "### Изучите время продажи квартиры. Постройте гистограмму. Посчитайте среднее и медиану. Опишите, сколько обычно занимает продажа. Когда можно считать, что продажи прошли очень быстро, а когда необычно долго?"
   ]
  },
  {
   "cell_type": "code",
   "execution_count": 15,
   "metadata": {},
   "outputs": [
    {
     "data": {
      "text/plain": [
       "count    20441.000000\n",
       "mean       180.884839\n",
       "std        219.685543\n",
       "min          1.000000\n",
       "25%         45.000000\n",
       "50%         95.000000\n",
       "75%        232.000000\n",
       "max       1580.000000\n",
       "Name: days_exposition, dtype: float64"
      ]
     },
     "execution_count": 15,
     "metadata": {},
     "output_type": "execute_result"
    },
    {
     "data": {
      "image/png": "[encoded data removed]",
      "text/plain": [
       "<Figure size 432x288 with 1 Axes>"
      ]
     },
     "metadata": {
      "needs_background": "light"
     },
     "output_type": "display_data"
    }
   ],
   "source": [
    "#Изучим гистограмму\n",
    "df['days_exposition'].hist(bins=100)\n",
    "df['days_exposition'].describe()\n",
    "#df[df['days_exposition']!=0]['days_exposition'].value_counts().head(10)"
   ]
  },
  {
   "cell_type": "markdown",
   "metadata": {},
   "source": [
    "Наблюдаем положительное распределение, но есть некоторые выбивающиеся значения, рассмотрим их детальнее ниже"
   ]
  },
  {
   "cell_type": "markdown",
   "metadata": {},
   "source": [
    "Основное время продажи до 232 дней, но скорее всего есть выбросы, изучим детальнее. Нужно понять, точно ли снятие с публикацией, является продажей."
   ]
  },
  {
   "cell_type": "code",
   "execution_count": 16,
   "metadata": {},
   "outputs": [
    {
     "data": {
      "text/plain": [
       "45.0    880\n",
       "60.0    538\n",
       "7.0     234\n",
       "30.0    208\n",
       "90.0    201\n",
       "4.0     176\n",
       "3.0     157\n",
       "5.0     152\n",
       "14.0    147\n",
       "9.0     143\n",
       "Name: days_exposition, dtype: int64"
      ]
     },
     "execution_count": 16,
     "metadata": {},
     "output_type": "execute_result"
    },
    {
     "data": {
      "image/png": "[encoded data removed]",
      "text/plain": [
       "<Figure size 432x288 with 1 Axes>"
      ]
     },
     "metadata": {
      "needs_background": "light"
     },
     "output_type": "display_data"
    }
   ],
   "source": [
    "df['days_exposition'].hist(bins=60, range=(0,360))\n",
    "df['days_exposition'].value_counts().head(10)"
   ]
  },
  {
   "cell_type": "markdown",
   "metadata": {},
   "source": [
    "Обратим внимание на ярковыраженные отклонения, это 45, 60 и 90, это не реальная продажа, т.к через это время снимаются объявления, по условию публикации. В процессе очистим данные от этих выбросов, они нам мешают. Есть еще 7 и 30, но они не портят картину"
   ]
  },
  {
   "cell_type": "markdown",
   "metadata": {},
   "source": [
    "Ответы на вопросы:\n",
    "\n",
    "Посчитайте среднее и медиану. Среднее значение - 180 дня. Медианное - 95 дней.\n",
    "Опишите, сколько обычно занимает продажа. Обычно квартира продается за 45-200 дней, продажи квартир могут затянуться до 200-360 дней. Текущий диапазон находится в хорошей зоне в 1-4 месяца.\n",
    "Когда можно считать, что продажи прошли очень быстро, а когда необычно долго? Быстрые продажи - странный фактор, скорее всего это не стандартная продажа. Считаю быстрые продажи до 45 дней. Долгие продажи те, которые длятся больше года."
   ]
  },
  {
   "cell_type": "markdown",
   "metadata": {},
   "source": [
    "### Уберите редкие и выбивающиеся значения. Опишите, какие особенности обнаружили."
   ]
  },
  {
   "cell_type": "code",
   "execution_count": 17,
   "metadata": {},
   "outputs": [
    {
     "data": {
      "text/plain": [
       "count    19903.000000\n",
       "mean       184.152490\n",
       "std        221.722042\n",
       "min          1.000000\n",
       "25%         44.000000\n",
       "50%        100.000000\n",
       "75%        238.000000\n",
       "max       1580.000000\n",
       "Name: days_exposition, dtype: float64"
      ]
     },
     "execution_count": 17,
     "metadata": {},
     "output_type": "execute_result"
    },
    {
     "data": {
      "image/png": "[encoded data removed]",
      "text/plain": [
       "<Figure size 432x288 with 1 Axes>"
      ]
     },
     "metadata": {
      "needs_background": "light"
     },
     "output_type": "display_data"
    }
   ],
   "source": [
    "#Отфильтруем данные от аномалий и запишем их в новый датафрейм good_data\n",
    "good_data = df.query('days_exposition != 45 and days_exposition != 60 and days_exposition != 90 and days_exposition != 0')\n",
    "\n",
    "\n",
    "#Гистограмма\n",
    "good_data['days_exposition'].hist(bins=60, range=(0,360))\n",
    "\n",
    "#good_data['days_exposition'].value_counts()\n",
    "good_data['days_exposition'].describe()"
   ]
  },
  {
   "cell_type": "markdown",
   "metadata": {},
   "source": [
    "Получили положительное распределение распределение, медиана приблизилась к среднему."
   ]
  },
  {
   "cell_type": "code",
   "execution_count": 18,
   "metadata": {},
   "outputs": [
    {
     "data": {
      "text/html": [
       "<div>\n",
       "<style scoped>\n",
       "    .dataframe tbody tr th:only-of-type {\n",
       "        vertical-align: middle;\n",
       "    }\n",
       "\n",
       "    .dataframe tbody tr th {\n",
       "        vertical-align: top;\n",
       "    }\n",
       "\n",
       "    .dataframe thead th {\n",
       "        text-align: right;\n",
       "    }\n",
       "</style>\n",
       "<table border=\"1\" class=\"dataframe\">\n",
       "  <thead>\n",
       "    <tr style=\"text-align: right;\">\n",
       "      <th></th>\n",
       "      <th>total_images</th>\n",
       "      <th>last_price</th>\n",
       "      <th>total_area</th>\n",
       "      <th>rooms</th>\n",
       "      <th>ceiling_height</th>\n",
       "      <th>floors_total</th>\n",
       "      <th>living_area</th>\n",
       "      <th>floor</th>\n",
       "      <th>kitchen_area</th>\n",
       "      <th>balcony</th>\n",
       "      <th>...</th>\n",
       "      <th>parks_nearest</th>\n",
       "      <th>ponds_around3000</th>\n",
       "      <th>ponds_nearest</th>\n",
       "      <th>days_exposition</th>\n",
       "      <th>price_per_metre</th>\n",
       "      <th>weekday_exposition</th>\n",
       "      <th>month_exposition</th>\n",
       "      <th>year_exposition</th>\n",
       "      <th>useful_area_ratio</th>\n",
       "      <th>kitchen_area_ratio</th>\n",
       "    </tr>\n",
       "  </thead>\n",
       "  <tbody>\n",
       "    <tr>\n",
       "      <th>count</th>\n",
       "      <td>23613.000000</td>\n",
       "      <td>2.156400e+04</td>\n",
       "      <td>22374.000000</td>\n",
       "      <td>23613.000000</td>\n",
       "      <td>20642.000000</td>\n",
       "      <td>23613.000000</td>\n",
       "      <td>21743.000000</td>\n",
       "      <td>23613.000000</td>\n",
       "      <td>21382.000000</td>\n",
       "      <td>23613.000000</td>\n",
       "      <td>...</td>\n",
       "      <td>8045.000000</td>\n",
       "      <td>18105.000000</td>\n",
       "      <td>9061.000000</td>\n",
       "      <td>18778.000000</td>\n",
       "      <td>2.361300e+04</td>\n",
       "      <td>23613.000000</td>\n",
       "      <td>23613.000000</td>\n",
       "      <td>23613.000000</td>\n",
       "      <td>21743.000000</td>\n",
       "      <td>21382.000000</td>\n",
       "    </tr>\n",
       "    <tr>\n",
       "      <th>mean</th>\n",
       "      <td>9.874518</td>\n",
       "      <td>4.839129e+06</td>\n",
       "      <td>54.346138</td>\n",
       "      <td>2.014102</td>\n",
       "      <td>2.631148</td>\n",
       "      <td>10.673824</td>\n",
       "      <td>34.462781</td>\n",
       "      <td>5.877313</td>\n",
       "      <td>10.564128</td>\n",
       "      <td>0.593063</td>\n",
       "      <td>...</td>\n",
       "      <td>490.554630</td>\n",
       "      <td>0.770119</td>\n",
       "      <td>518.209469</td>\n",
       "      <td>128.763606</td>\n",
       "      <td>9.939748e+04</td>\n",
       "      <td>2.568035</td>\n",
       "      <td>6.400076</td>\n",
       "      <td>2017.368102</td>\n",
       "      <td>0.564948</td>\n",
       "      <td>0.187324</td>\n",
       "    </tr>\n",
       "    <tr>\n",
       "      <th>std</th>\n",
       "      <td>5.681541</td>\n",
       "      <td>2.217292e+06</td>\n",
       "      <td>19.349696</td>\n",
       "      <td>0.986747</td>\n",
       "      <td>0.081415</td>\n",
       "      <td>6.597173</td>\n",
       "      <td>22.037433</td>\n",
       "      <td>4.873539</td>\n",
       "      <td>5.904316</td>\n",
       "      <td>0.960307</td>\n",
       "      <td>...</td>\n",
       "      <td>341.336698</td>\n",
       "      <td>0.939075</td>\n",
       "      <td>277.887489</td>\n",
       "      <td>121.588319</td>\n",
       "      <td>5.035802e+04</td>\n",
       "      <td>1.788565</td>\n",
       "      <td>3.493160</td>\n",
       "      <td>1.039383</td>\n",
       "      <td>0.105294</td>\n",
       "      <td>0.072976</td>\n",
       "    </tr>\n",
       "    <tr>\n",
       "      <th>min</th>\n",
       "      <td>0.000000</td>\n",
       "      <td>1.219000e+04</td>\n",
       "      <td>12.000000</td>\n",
       "      <td>0.000000</td>\n",
       "      <td>2.460000</td>\n",
       "      <td>1.000000</td>\n",
       "      <td>2.000000</td>\n",
       "      <td>1.000000</td>\n",
       "      <td>1.300000</td>\n",
       "      <td>0.000000</td>\n",
       "      <td>...</td>\n",
       "      <td>1.000000</td>\n",
       "      <td>0.000000</td>\n",
       "      <td>13.000000</td>\n",
       "      <td>1.000000</td>\n",
       "      <td>1.118349e+02</td>\n",
       "      <td>0.000000</td>\n",
       "      <td>1.000000</td>\n",
       "      <td>2014.000000</td>\n",
       "      <td>0.021583</td>\n",
       "      <td>0.025381</td>\n",
       "    </tr>\n",
       "    <tr>\n",
       "      <th>25%</th>\n",
       "      <td>6.000000</td>\n",
       "      <td>3.300000e+06</td>\n",
       "      <td>39.400000</td>\n",
       "      <td>1.000000</td>\n",
       "      <td>2.600000</td>\n",
       "      <td>5.000000</td>\n",
       "      <td>18.600000</td>\n",
       "      <td>2.000000</td>\n",
       "      <td>7.000000</td>\n",
       "      <td>0.000000</td>\n",
       "      <td>...</td>\n",
       "      <td>288.000000</td>\n",
       "      <td>0.000000</td>\n",
       "      <td>294.000000</td>\n",
       "      <td>41.000000</td>\n",
       "      <td>7.656250e+04</td>\n",
       "      <td>1.000000</td>\n",
       "      <td>3.000000</td>\n",
       "      <td>2017.000000</td>\n",
       "      <td>0.495546</td>\n",
       "      <td>0.133333</td>\n",
       "    </tr>\n",
       "    <tr>\n",
       "      <th>50%</th>\n",
       "      <td>9.000000</td>\n",
       "      <td>4.400000e+06</td>\n",
       "      <td>50.100000</td>\n",
       "      <td>2.000000</td>\n",
       "      <td>2.650000</td>\n",
       "      <td>9.000000</td>\n",
       "      <td>30.000000</td>\n",
       "      <td>4.000000</td>\n",
       "      <td>9.100000</td>\n",
       "      <td>0.000000</td>\n",
       "      <td>...</td>\n",
       "      <td>455.000000</td>\n",
       "      <td>1.000000</td>\n",
       "      <td>503.000000</td>\n",
       "      <td>85.000000</td>\n",
       "      <td>9.500000e+04</td>\n",
       "      <td>3.000000</td>\n",
       "      <td>6.000000</td>\n",
       "      <td>2017.000000</td>\n",
       "      <td>0.568182</td>\n",
       "      <td>0.172348</td>\n",
       "    </tr>\n",
       "    <tr>\n",
       "      <th>75%</th>\n",
       "      <td>14.000000</td>\n",
       "      <td>6.000000e+06</td>\n",
       "      <td>65.600000</td>\n",
       "      <td>3.000000</td>\n",
       "      <td>2.650000</td>\n",
       "      <td>16.000000</td>\n",
       "      <td>42.300000</td>\n",
       "      <td>8.000000</td>\n",
       "      <td>12.000000</td>\n",
       "      <td>1.000000</td>\n",
       "      <td>...</td>\n",
       "      <td>612.000000</td>\n",
       "      <td>1.000000</td>\n",
       "      <td>730.000000</td>\n",
       "      <td>183.000000</td>\n",
       "      <td>1.142061e+05</td>\n",
       "      <td>4.000000</td>\n",
       "      <td>10.000000</td>\n",
       "      <td>2018.000000</td>\n",
       "      <td>0.637956</td>\n",
       "      <td>0.232428</td>\n",
       "    </tr>\n",
       "    <tr>\n",
       "      <th>max</th>\n",
       "      <td>50.000000</td>\n",
       "      <td>1.189440e+07</td>\n",
       "      <td>114.400000</td>\n",
       "      <td>5.000000</td>\n",
       "      <td>2.850000</td>\n",
       "      <td>60.000000</td>\n",
       "      <td>409.700000</td>\n",
       "      <td>33.000000</td>\n",
       "      <td>112.000000</td>\n",
       "      <td>5.000000</td>\n",
       "      <td>...</td>\n",
       "      <td>3190.000000</td>\n",
       "      <td>3.000000</td>\n",
       "      <td>1344.000000</td>\n",
       "      <td>512.000000</td>\n",
       "      <td>1.907500e+06</td>\n",
       "      <td>6.000000</td>\n",
       "      <td>12.000000</td>\n",
       "      <td>2019.000000</td>\n",
       "      <td>1.000000</td>\n",
       "      <td>0.787879</td>\n",
       "    </tr>\n",
       "  </tbody>\n",
       "</table>\n",
       "<p>8 rows × 23 columns</p>\n",
       "</div>"
      ],
      "text/plain": [
       "       total_images    last_price    total_area         rooms  ceiling_height  \\\n",
       "count  23613.000000  2.156400e+04  22374.000000  23613.000000    20642.000000   \n",
       "mean       9.874518  4.839129e+06     54.346138      2.014102        2.631148   \n",
       "std        5.681541  2.217292e+06     19.349696      0.986747        0.081415   \n",
       "min        0.000000  1.219000e+04     12.000000      0.000000        2.460000   \n",
       "25%        6.000000  3.300000e+06     39.400000      1.000000        2.600000   \n",
       "50%        9.000000  4.400000e+06     50.100000      2.000000        2.650000   \n",
       "75%       14.000000  6.000000e+06     65.600000      3.000000        2.650000   \n",
       "max       50.000000  1.189440e+07    114.400000      5.000000        2.850000   \n",
       "\n",
       "       floors_total   living_area         floor  kitchen_area       balcony  \\\n",
       "count  23613.000000  21743.000000  23613.000000  21382.000000  23613.000000   \n",
       "mean      10.673824     34.462781      5.877313     10.564128      0.593063   \n",
       "std        6.597173     22.037433      4.873539      5.904316      0.960307   \n",
       "min        1.000000      2.000000      1.000000      1.300000      0.000000   \n",
       "25%        5.000000     18.600000      2.000000      7.000000      0.000000   \n",
       "50%        9.000000     30.000000      4.000000      9.100000      0.000000   \n",
       "75%       16.000000     42.300000      8.000000     12.000000      1.000000   \n",
       "max       60.000000    409.700000     33.000000    112.000000      5.000000   \n",
       "\n",
       "       ...  parks_nearest  ponds_around3000  ponds_nearest  days_exposition  \\\n",
       "count  ...    8045.000000      18105.000000    9061.000000     18778.000000   \n",
       "mean   ...     490.554630          0.770119     518.209469       128.763606   \n",
       "std    ...     341.336698          0.939075     277.887489       121.588319   \n",
       "min    ...       1.000000          0.000000      13.000000         1.000000   \n",
       "25%    ...     288.000000          0.000000     294.000000        41.000000   \n",
       "50%    ...     455.000000          1.000000     503.000000        85.000000   \n",
       "75%    ...     612.000000          1.000000     730.000000       183.000000   \n",
       "max    ...    3190.000000          3.000000    1344.000000       512.000000   \n",
       "\n",
       "       price_per_metre  weekday_exposition  month_exposition  year_exposition  \\\n",
       "count     2.361300e+04        23613.000000      23613.000000     23613.000000   \n",
       "mean      9.939748e+04            2.568035          6.400076      2017.368102   \n",
       "std       5.035802e+04            1.788565          3.493160         1.039383   \n",
       "min       1.118349e+02            0.000000          1.000000      2014.000000   \n",
       "25%       7.656250e+04            1.000000          3.000000      2017.000000   \n",
       "50%       9.500000e+04            3.000000          6.000000      2017.000000   \n",
       "75%       1.142061e+05            4.000000         10.000000      2018.000000   \n",
       "max       1.907500e+06            6.000000         12.000000      2019.000000   \n",
       "\n",
       "       useful_area_ratio  kitchen_area_ratio  \n",
       "count       21743.000000        21382.000000  \n",
       "mean            0.564948            0.187324  \n",
       "std             0.105294            0.072976  \n",
       "min             0.021583            0.025381  \n",
       "25%             0.495546            0.133333  \n",
       "50%             0.568182            0.172348  \n",
       "75%             0.637956            0.232428  \n",
       "max             1.000000            0.787879  \n",
       "\n",
       "[8 rows x 23 columns]"
      ]
     },
     "execution_count": 18,
     "metadata": {},
     "output_type": "execute_result"
    }
   ],
   "source": [
    "# Функция для подсчёта границ с учетом 1.5 размаха\n",
    "def quartile_range(df, column):\n",
    "    q1 = df[column].quantile(0.25)\n",
    "    q3 = df[column].quantile(0.75)\n",
    "    iqr = q3 - q1\n",
    "    dfq = df.loc[(df[column] < q3 + 1.5*iqr) & (df[column] > q1 - 1.5*iqr), column]\n",
    "    return dfq\n",
    "# Столбцы с выбросами\n",
    "list_features = ['last_price', 'total_area', 'days_exposition', 'ceiling_height', 'rooms']\n",
    "for col in list_features:\n",
    "    df[col] = quartile_range(df, col)\n",
    "\n",
    "# Возвращаем в целочисленный тип число комнат\n",
    "df['rooms'] = df['rooms'].fillna(0).astype(int)\n",
    "\n",
    "# Изучаем, есть ли выбивающиеся значения\n",
    "df.describe()"
   ]
  },
  {
   "cell_type": "markdown",
   "metadata": {},
   "source": [
    "Получили данные лишенные выбросов, на основе 1.5 размаха"
   ]
  },
  {
   "cell_type": "markdown",
   "metadata": {},
   "source": [
    "### Какие факторы больше всего влияют на стоимость квартиры? Изучите, зависит ли цена от квадратного метра, числа комнат, этажа (первого или последнего), удалённости от центра. Также изучите зависимость от даты размещения: дня недели, месяца и года."
   ]
  },
  {
   "cell_type": "code",
   "execution_count": 19,
   "metadata": {},
   "outputs": [
    {
     "data": {
      "image/png": "[encoded data removed]",
      "text/plain": [
       "<Figure size 360x360 with 1 Axes>"
      ]
     },
     "metadata": {
      "needs_background": "light"
     },
     "output_type": "display_data"
    },
    {
     "name": "stdout",
     "output_type": "stream",
     "text": [
      "Корреляция цены и площади: \n",
      "\n",
      "            last_price  total_area\n",
      "last_price    1.000000    0.905269\n",
      "total_area    0.905269    1.000000 \n",
      "\n"
     ]
    },
    {
     "data": {
      "image/png": "[encoded data removed]",
      "text/plain": [
       "<Figure size 360x360 with 1 Axes>"
      ]
     },
     "metadata": {
      "needs_background": "light"
     },
     "output_type": "display_data"
    },
    {
     "name": "stdout",
     "output_type": "stream",
     "text": [
      "Корреляция цены и числа комнат: \n",
      "\n",
      "            last_price     rooms\n",
      "last_price    1.000000  0.537864\n",
      "rooms         0.537864  1.000000 \n",
      "\n"
     ]
    },
    {
     "data": {
      "image/png": "[encoded data removed]",
      "text/plain": [
       "<Figure size 360x360 with 1 Axes>"
      ]
     },
     "metadata": {
      "needs_background": "light"
     },
     "output_type": "display_data"
    },
    {
     "name": "stdout",
     "output_type": "stream",
     "text": [
      "Корреляция цены и удалённости от центра: \n",
      "\n",
      "                      city_centers_nearest  last_price\n",
      "city_centers_nearest               1.00000     0.71167\n",
      "last_price                         0.71167     1.00000 \n",
      "\n"
     ]
    },
    {
     "data": {
      "image/png": "[encoded data removed]",
      "text/plain": [
       "<Figure size 360x360 with 1 Axes>"
      ]
     },
     "metadata": {
      "needs_background": "light"
     },
     "output_type": "display_data"
    }
   ],
   "source": [
    "#Зависимость цены от площади\n",
    "(\n",
    "    df.pivot_table(index='total_area', values='last_price')\n",
    "    .plot(grid=True, style='o', figsize=(5, 5))\n",
    ")\n",
    "plt.show()\n",
    "print('Корреляция цены и площади:','\\n')\n",
    "print(df.pivot_table(index='floor', values=['total_area', 'last_price']).corr(),'\\n')\n",
    "# Зависимость цены от числа комнат\n",
    "(\n",
    "    df.pivot_table(index='rooms', values='last_price')\n",
    "    .plot(grid=True, style='o-', figsize=(5, 5))\n",
    ")\n",
    "plt.show()\n",
    "print('Корреляция цены и числа комнат:','\\n')\n",
    "print(df.query('rooms > 0').pivot_table(index='floor', values=['rooms', 'last_price']).corr(),'\\n')\n",
    "\n",
    "# Зависимость цены от удалённости от центра\n",
    "(\n",
    "    df.pivot_table(index='city_centers_nearest', values='last_price')\n",
    "    .plot(grid=True, style='o', figsize=(5, 5))\n",
    ")\n",
    "plt.show()\n",
    "print('Корреляция цены и удалённости от центра:','\\n')\n",
    "print(df.pivot_table(index='floor', values=['city_centers_nearest', 'last_price']).corr(),'\\n')\n",
    "\n",
    "# Зависимость цены от этажа\n",
    "(\n",
    "    df.pivot_table(index='floors_category', values='last_price', aggfunc='median')\n",
    "    .plot(grid=True, style='o-', figsize=(5, 5))\n",
    ")\n",
    "plt.show()"
   ]
  },
  {
   "cell_type": "markdown",
   "metadata": {},
   "source": [
    "**Вывод**\n",
    "* Площадь напрямую влияет на стоимость, чем больше площадь, тем выше цена, корреляция высока\n",
    "* К-во комнат, также влияет на цену, но зависимость ниже чем у площади\n",
    "* Удаленность от центра довольно сильно влияет на стоимость квартиры, ближе к центру самое дорогое жилье\n",
    "* Этажность также влияет на стоимость, дешевле всего покупать на первом этаже, чуть дороже на последнем, но дороже всего вне первого и последнего этажа."
   ]
  },
  {
   "cell_type": "code",
   "execution_count": 20,
   "metadata": {},
   "outputs": [
    {
     "data": {
      "image/png": "[encoded data removed]",
      "text/plain": [
       "<Figure size 360x360 with 1 Axes>"
      ]
     },
     "metadata": {
      "needs_background": "light"
     },
     "output_type": "display_data"
    },
    {
     "data": {
      "image/png": "[encoded data removed]",
      "text/plain": [
       "<Figure size 720x360 with 1 Axes>"
      ]
     },
     "metadata": {
      "needs_background": "light"
     },
     "output_type": "display_data"
    },
    {
     "data": {
      "image/png": "[encoded data removed]",
      "text/plain": [
       "<Figure size 360x360 with 1 Axes>"
      ]
     },
     "metadata": {
      "needs_background": "light"
     },
     "output_type": "display_data"
    }
   ],
   "source": [
    "# Зависимость от дня размещения\n",
    "(\n",
    "    df.pivot_table(index='weekday_exposition', values='last_price')\n",
    "    .plot(grid=True, style='o-', figsize=(5, 5))\n",
    ")\n",
    "plt.show()\n",
    "# Зависимость от месяца размещения\n",
    "(\n",
    "    df.pivot_table(index='month_exposition', values='last_price')\n",
    "    .plot(grid=True, style='o-', xlim=(1,12), figsize=(10, 5))\n",
    ")\n",
    "plt.show()\n",
    "# Зависимость от года размещения\n",
    "(\n",
    "    df.pivot_table(index='year_exposition', values='last_price')\n",
    "    .plot(grid=True, style='o-', figsize=(5, 5))\n",
    ")\n",
    "plt.show()"
   ]
  },
  {
   "cell_type": "markdown",
   "metadata": {},
   "source": [
    "**Вывод**\n",
    "* Дороже всего квартиры, опубликованные во вторник, дешевле в субботу\n",
    "* Самые дорогие квартиры в апреле и сентябре, дешевле всего в июне (связано с отпусками), в остальные месяцы все стандартно, но немного дорожают к концу года\n",
    "* Квартиры очень сильно подешевели в 2016-2018 годах, что, вероятно, вызвано некоторым кризисом 2014-2015 годов. В 2019 году цены снова стали повышаться, т.к. экономика и зарплаты скорее на подъёме.\n"
   ]
  },
  {
   "cell_type": "markdown",
   "metadata": {},
   "source": [
    "### Выберите 10 населённых пунктов с наибольшим числом объявлений"
   ]
  },
  {
   "cell_type": "code",
   "execution_count": 21,
   "metadata": {},
   "outputs": [
    {
     "data": {
      "text/plain": [
       "Санкт-Петербург      15651\n",
       "посёлок Мурино         520\n",
       "посёлок Шушары         439\n",
       "Всеволожск             398\n",
       "Пушкин                 369\n",
       "Колпино                338\n",
       "посёлок Парголово      327\n",
       "Гатчина                307\n",
       "деревня Кудрово        299\n",
       "Выборг                 237\n",
       "Name: locality_name, dtype: int64"
      ]
     },
     "execution_count": 21,
     "metadata": {},
     "output_type": "execute_result"
    }
   ],
   "source": [
    "# 10 населенных пунктов с наибольшим числом объявлений\n",
    "city_ten = df['locality_name'].value_counts().head(10)\n",
    "city_ten\n"
   ]
  },
  {
   "cell_type": "code",
   "execution_count": 22,
   "metadata": {},
   "outputs": [
    {
     "data": {
      "text/html": [
       "<div>\n",
       "<style scoped>\n",
       "    .dataframe tbody tr th:only-of-type {\n",
       "        vertical-align: middle;\n",
       "    }\n",
       "\n",
       "    .dataframe tbody tr th {\n",
       "        vertical-align: top;\n",
       "    }\n",
       "\n",
       "    .dataframe thead th {\n",
       "        text-align: right;\n",
       "    }\n",
       "</style>\n",
       "<table border=\"1\" class=\"dataframe\">\n",
       "  <thead>\n",
       "    <tr style=\"text-align: right;\">\n",
       "      <th></th>\n",
       "      <th>price_per_metre</th>\n",
       "    </tr>\n",
       "    <tr>\n",
       "      <th>locality_name</th>\n",
       "      <th></th>\n",
       "    </tr>\n",
       "  </thead>\n",
       "  <tbody>\n",
       "    <tr>\n",
       "      <th>Санкт-Петербург</th>\n",
       "      <td>114868</td>\n",
       "    </tr>\n",
       "    <tr>\n",
       "      <th>Пушкин</th>\n",
       "      <td>103125</td>\n",
       "    </tr>\n",
       "    <tr>\n",
       "      <th>деревня Кудрово</th>\n",
       "      <td>92473</td>\n",
       "    </tr>\n",
       "    <tr>\n",
       "      <th>посёлок Парголово</th>\n",
       "      <td>90175</td>\n",
       "    </tr>\n",
       "    <tr>\n",
       "      <th>посёлок Мурино</th>\n",
       "      <td>85673</td>\n",
       "    </tr>\n",
       "    <tr>\n",
       "      <th>посёлок Шушары</th>\n",
       "      <td>78551</td>\n",
       "    </tr>\n",
       "    <tr>\n",
       "      <th>Колпино</th>\n",
       "      <td>75424</td>\n",
       "    </tr>\n",
       "    <tr>\n",
       "      <th>Гатчина</th>\n",
       "      <td>68746</td>\n",
       "    </tr>\n",
       "    <tr>\n",
       "      <th>Всеволожск</th>\n",
       "      <td>68654</td>\n",
       "    </tr>\n",
       "    <tr>\n",
       "      <th>Выборг</th>\n",
       "      <td>58141</td>\n",
       "    </tr>\n",
       "  </tbody>\n",
       "</table>\n",
       "</div>"
      ],
      "text/plain": [
       "                   price_per_metre\n",
       "locality_name                     \n",
       "Санкт-Петербург             114868\n",
       "Пушкин                      103125\n",
       "деревня Кудрово              92473\n",
       "посёлок Парголово            90175\n",
       "посёлок Мурино               85673\n",
       "посёлок Шушары               78551\n",
       "Колпино                      75424\n",
       "Гатчина                      68746\n",
       "Всеволожск                   68654\n",
       "Выборг                       58141"
      ]
     },
     "execution_count": 22,
     "metadata": {},
     "output_type": "execute_result"
    }
   ],
   "source": [
    "#Средняя цена по этим населенным пунктам\n",
    "city_sm_price = (\n",
    "    df.query('locality_name in (@city_ten.index)')\n",
    "    .pivot_table(values='price_per_metre', index='locality_name',)\n",
    "    .astype(int)\n",
    ")\n",
    "city_sm_price.sort_values('price_per_metre', ascending=False)"
   ]
  },
  {
   "cell_type": "markdown",
   "metadata": {},
   "source": [
    "**Вывод**\n",
    "* Самая низкая средняя цена - Выборг\n",
    "* Самая высокая средняя цена - Санкт-Петербург"
   ]
  },
  {
   "cell_type": "markdown",
   "metadata": {},
   "source": [
    "### Изучите предложения квартир: для каждой квартиры есть информация о расстоянии до центра. "
   ]
  },
  {
   "cell_type": "code",
   "execution_count": 23,
   "metadata": {},
   "outputs": [
    {
     "data": {
      "text/plain": [
       "0        16\n",
       "1        18\n",
       "2        13\n",
       "3         6\n",
       "4         8\n",
       "         ..\n",
       "23694     4\n",
       "23695    13\n",
       "23696    13\n",
       "23697    10\n",
       "23698    13\n",
       "Name: center_km, Length: 23613, dtype: int64"
      ]
     },
     "execution_count": 23,
     "metadata": {},
     "output_type": "execute_result"
    },
    {
     "data": {
      "image/png": "[encoded data removed]",
      "text/plain": [
       "<Figure size 720x360 with 1 Axes>"
      ]
     },
     "metadata": {
      "needs_background": "light"
     },
     "output_type": "display_data"
    }
   ],
   "source": [
    "#Столбец с расстоянием до центра в км\n",
    "df['center_km'] = df['city_centers_nearest'] / 1000\n",
    "\n",
    "df['center_km'] = df['center_km'].fillna(df['center_km'].median()).astype(int)\n",
    "#Выбираем Санкт-Петербург, смотрим на график, где указана средняя стоимость для каждого км\n",
    "(\n",
    "    df.query('locality_name == \"Санкт-Петербург\"')\n",
    "    .pivot_table(index='center_km', values='last_price')\n",
    "    .plot(grid=True, style='o-', xlim=(0,15), figsize=(10, 5))\n",
    ")\n",
    "plt.ylabel(\"Средняя стоимость\")\n",
    "plt.xlabel(\"Расстояние\")\n",
    "df['center_km']"
   ]
  },
  {
   "cell_type": "markdown",
   "metadata": {},
   "source": [
    "Центром города считаю значение до 8, дальше идет сильное снижение и минимум колебаний"
   ]
  },
  {
   "cell_type": "markdown",
   "metadata": {},
   "source": [
    "### Выделите сегмент квартир в центре. Проанализируйте эту территорию и изучите следующие параметры: площадь, цена, число комнат, высота потолков. Также выделите факторы, которые влияют на стоимость квартиры (число комнат, этаж, удалённость от центра, дата размещения объявления). Сделайте выводы. Отличаются ли они от общих выводов по всему городу?"
   ]
  },
  {
   "cell_type": "code",
   "execution_count": 24,
   "metadata": {},
   "outputs": [
    {
     "data": {
      "text/plain": [
       "count    3506.000000\n",
       "mean       67.388172\n",
       "std        22.585093\n",
       "min        12.000000\n",
       "25%        48.000000\n",
       "50%        66.250000\n",
       "75%        85.000000\n",
       "max       114.400000\n",
       "Name: total_area, dtype: float64"
      ]
     },
     "execution_count": 24,
     "metadata": {},
     "output_type": "execute_result"
    },
    {
     "data": {
      "image/png": "[encoded data removed]",
      "text/plain": [
       "<Figure size 720x720 with 1 Axes>"
      ]
     },
     "metadata": {
      "needs_background": "light"
     },
     "output_type": "display_data"
    }
   ],
   "source": [
    "spb_center = df.query('(locality_name == \"Санкт-Петербург\") & (center_km <= 8)')\n",
    "\n",
    "# Изучаем площадь\n",
    "\n",
    "spb_center['total_area'].hist(bins=30, range=(25,300), figsize=(10,10))\n",
    "plt.ylabel(\"Частота\")\n",
    "plt.xlabel(\"Площадь\")\n",
    "spb_center['total_area'].describe()"
   ]
  },
  {
   "cell_type": "markdown",
   "metadata": {},
   "source": [
    "Большинство квартир менее 100 кв.м, в среднем от 50 до 86 кв.м"
   ]
  },
  {
   "cell_type": "code",
   "execution_count": 25,
   "metadata": {},
   "outputs": [
    {
     "data": {
      "text/plain": [
       "count    2.986000e+03\n",
       "mean     7.178564e+06\n",
       "std      2.249921e+06\n",
       "min      1.600000e+06\n",
       "25%      5.499250e+06\n",
       "50%      7.000000e+06\n",
       "75%      8.900000e+06\n",
       "max      1.189440e+07\n",
       "Name: last_price, dtype: float64"
      ]
     },
     "execution_count": 25,
     "metadata": {},
     "output_type": "execute_result"
    },
    {
     "data": {
      "image/png": "[encoded data removed]",
      "text/plain": [
       "<Figure size 432x288 with 1 Axes>"
      ]
     },
     "metadata": {
      "needs_background": "light"
     },
     "output_type": "display_data"
    }
   ],
   "source": [
    "# Изучаем стоимость\n",
    "#spb_center['last_price'].hist(bins=100, range(0, 15000000))\n",
    "spb_center['last_price'].hist(bins=100, range=(0,12000000), grid=True)\n",
    "plt.ylabel(\"Частота\")\n",
    "plt.xlabel(\"Цена\")\n",
    "spb_center['last_price'].describe()"
   ]
  },
  {
   "cell_type": "markdown",
   "metadata": {},
   "source": [
    "Квартиры в центре города стоят дороже, в основном цены варьируются от 5.5 до 8.9 млн.р, против 3.3-6 млн.р по всему городу. Средняя стоимость квартиры 7 млн.р."
   ]
  },
  {
   "cell_type": "code",
   "execution_count": 26,
   "metadata": {},
   "outputs": [
    {
     "data": {
      "text/plain": [
       "count    4372.000000\n",
       "mean        2.459286\n",
       "std         1.181702\n",
       "min         0.000000\n",
       "25%         2.000000\n",
       "50%         2.000000\n",
       "75%         3.000000\n",
       "max         5.000000\n",
       "Name: rooms, dtype: float64"
      ]
     },
     "execution_count": 26,
     "metadata": {},
     "output_type": "execute_result"
    },
    {
     "data": {
      "image/png": "[encoded data removed]",
      "text/plain": [
       "<Figure size 360x216 with 1 Axes>"
      ]
     },
     "metadata": {
      "needs_background": "light"
     },
     "output_type": "display_data"
    }
   ],
   "source": [
    "# Изучаем число комнат\n",
    "spb_center['rooms'].hist(bins=30, grid=True, figsize=(5,3),range=(0,5))\n",
    "plt.ylabel(\"Частота\")\n",
    "plt.xlabel(\"Комнаты\")\n",
    "spb_center['rooms'].describe()"
   ]
  },
  {
   "cell_type": "markdown",
   "metadata": {},
   "source": [
    "В центре города в основном представлены 2-х и 3-х комнатные квартиры, однушек вдвое меньше и почти столько же, сколько 4-х комнатных, студий в цетре города продается меньше всего"
   ]
  },
  {
   "cell_type": "code",
   "execution_count": 27,
   "metadata": {},
   "outputs": [
    {
     "data": {
      "text/plain": [
       "count    2445.000000\n",
       "mean        2.658748\n",
       "std         0.074683\n",
       "min         2.460000\n",
       "25%         2.650000\n",
       "50%         2.650000\n",
       "75%         2.650000\n",
       "max         2.850000\n",
       "Name: ceiling_height, dtype: float64"
      ]
     },
     "execution_count": 27,
     "metadata": {},
     "output_type": "execute_result"
    },
    {
     "data": {
      "image/png": "[encoded data removed]",
      "text/plain": [
       "<Figure size 432x288 with 1 Axes>"
      ]
     },
     "metadata": {
      "needs_background": "light"
     },
     "output_type": "display_data"
    }
   ],
   "source": [
    "#Изучаем высоту потолков\n",
    "spb_center['ceiling_height'].hist(bins=100, grid=True, range=(2.5, 3))\n",
    "plt.ylabel(\"Частота\")\n",
    "plt.xlabel(\"Высота потолков\")\n",
    "spb_center['ceiling_height'].describe()"
   ]
  },
  {
   "cell_type": "markdown",
   "metadata": {},
   "source": [
    "В центре в основном все потолки 2.7-2.8 м., достаточно часто встречаются 3 м.\n",
    "Средняя - 2.7, медиана - 2.7"
   ]
  },
  {
   "cell_type": "code",
   "execution_count": 28,
   "metadata": {},
   "outputs": [
    {
     "name": "stdout",
     "output_type": "stream",
     "text": [
      "Корреляция цены и числа комнат: \n",
      "\n",
      "            last_price     rooms\n",
      "last_price    1.000000  0.396459\n",
      "rooms         0.396459  1.000000\n"
     ]
    },
    {
     "data": {
      "image/png": "[encoded data removed]",
      "text/plain": [
       "<Figure size 432x288 with 1 Axes>"
      ]
     },
     "metadata": {
      "needs_background": "light"
     },
     "output_type": "display_data"
    }
   ],
   "source": [
    "# Зависимость цены от числа комнат\n",
    "(\n",
    "    spb_center.query('(rooms > 0)').pivot_table(index='rooms', values='last_price')\n",
    "    .plot(grid=True, style='o-')\n",
    ")\n",
    "plt.ylabel(\"Цена\")\n",
    "plt.xlabel(\"Комнаты\")\n",
    "print('Корреляция цены и числа комнат:','\\n')\n",
    "print(spb_center.query('(rooms > 0)').pivot_table(index='floor', values=['rooms', 'last_price']).corr())"
   ]
  },
  {
   "cell_type": "markdown",
   "metadata": {},
   "source": [
    "* Зависимость цены от числа комнат совсем маленькая, комнатность не сильно влияет на стоимость квартиры"
   ]
  },
  {
   "cell_type": "code",
   "execution_count": 29,
   "metadata": {},
   "outputs": [
    {
     "name": "stdout",
     "output_type": "stream",
     "text": [
      "Корреляция цены и числа комнат: \n",
      "\n",
      "            last_price     rooms\n",
      "last_price    1.000000  0.396459\n",
      "rooms         0.396459  1.000000\n"
     ]
    },
    {
     "data": {
      "image/png": "[encoded data removed]",
      "text/plain": [
       "<Figure size 432x288 with 1 Axes>"
      ]
     },
     "metadata": {
      "needs_background": "light"
     },
     "output_type": "display_data"
    }
   ],
   "source": [
    "# Зависимость цены за метр от числа комнат\n",
    "(\n",
    "    spb_center.query('(rooms > 0)').pivot_table(index='rooms', values='price_per_metre')\n",
    "    .plot(grid=True, style='o-')\n",
    ")\n",
    "plt.ylabel(\"Цена за метр\")\n",
    "plt.xlabel(\"Комнаты\")\n",
    "print('Корреляция цены и числа комнат:','\\n')\n",
    "print(spb_center.query('(rooms > 0)').pivot_table(index='floor', values=['rooms', 'last_price']).corr())"
   ]
  },
  {
   "cell_type": "markdown",
   "metadata": {},
   "source": [
    "Дороже всего выходят однокомнатные квартиры, двушки самые дешевые"
   ]
  },
  {
   "cell_type": "code",
   "execution_count": 30,
   "metadata": {},
   "outputs": [
    {
     "data": {
      "text/plain": [
       "Text(0.5, 0, 'Этаж')"
      ]
     },
     "execution_count": 30,
     "metadata": {},
     "output_type": "execute_result"
    },
    {
     "data": {
      "image/png": "[encoded data removed]",
      "text/plain": [
       "<Figure size 432x288 with 1 Axes>"
      ]
     },
     "metadata": {
      "needs_background": "light"
     },
     "output_type": "display_data"
    }
   ],
   "source": [
    "# Зависимость цены от этажа\n",
    "(\n",
    "    spb_center.pivot_table(index='floors_category', values='last_price', aggfunc='median')\n",
    "    .plot(grid=True, style='o-')\n",
    ")\n",
    "plt.ylabel(\"Цена\")\n",
    "plt.xlabel(\"Этаж\")"
   ]
  },
  {
   "cell_type": "markdown",
   "metadata": {},
   "source": [
    "Здесь уже немного иначе: \n",
    "* последний этаж стоит почти столько же, сколко и другие этажи\n",
    "* первый по прежнему самый дешевый"
   ]
  },
  {
   "cell_type": "code",
   "execution_count": 31,
   "metadata": {},
   "outputs": [
    {
     "data": {
      "image/png": "[encoded data removed]",
      "text/plain": [
       "<Figure size 432x288 with 1 Axes>"
      ]
     },
     "metadata": {
      "needs_background": "light"
     },
     "output_type": "display_data"
    },
    {
     "name": "stdout",
     "output_type": "stream",
     "text": [
      "Корреляция цены и удалённости от центра: \n",
      "\n",
      "                      city_centers_nearest  last_price\n",
      "city_centers_nearest              1.000000    0.101228\n",
      "last_price                        0.101228    1.000000 \n",
      "\n"
     ]
    }
   ],
   "source": [
    "\n",
    "# Зависимость цены от удалённости от центра\n",
    "(\n",
    "    spb_center.pivot_table(index='city_centers_nearest', values='last_price', aggfunc='median')\n",
    "    .plot(grid=True, style='o')\n",
    ")\n",
    "plt.show()\n",
    "print('Корреляция цены и удалённости от центра:','\\n')\n",
    "print(spb_center.pivot_table(index='floor', values=['city_centers_nearest', 'last_price']).corr(),'\\n')"
   ]
  },
  {
   "cell_type": "markdown",
   "metadata": {},
   "source": [
    "Зависимости почти нет, отдаляясь цены не дорожают, просто предложений больше, это связано с точкой, за которую принимают центр города"
   ]
  },
  {
   "cell_type": "code",
   "execution_count": 32,
   "metadata": {},
   "outputs": [
    {
     "data": {
      "text/plain": [
       "Text(0.5, 0, 'День размещения')"
      ]
     },
     "execution_count": 32,
     "metadata": {},
     "output_type": "execute_result"
    },
    {
     "data": {
      "image/png": "[encoded data removed]",
      "text/plain": [
       "<Figure size 360x360 with 1 Axes>"
      ]
     },
     "metadata": {
      "needs_background": "light"
     },
     "output_type": "display_data"
    }
   ],
   "source": [
    "# Зависимость от дня размещения\n",
    "(\n",
    "    spb_center.pivot_table(index='weekday_exposition', values='last_price')\n",
    "    .plot(grid=True, style='o-', figsize=(5, 5))\n",
    ")\n",
    "plt.ylabel(\"Цена\")\n",
    "plt.xlabel(\"День размещения\")"
   ]
  },
  {
   "cell_type": "markdown",
   "metadata": {},
   "source": [
    "Ситуация немного  отличается от общей выборки:\n",
    "* Самые дорогие объявления в воскресенье, ранее были во вторник\n",
    "* Самые дешевые так и остались в субботу"
   ]
  },
  {
   "cell_type": "code",
   "execution_count": 33,
   "metadata": {},
   "outputs": [
    {
     "data": {
      "text/plain": [
       "Text(0.5, 0, 'Месяц размещения')"
      ]
     },
     "execution_count": 33,
     "metadata": {},
     "output_type": "execute_result"
    },
    {
     "data": {
      "image/png": "[encoded data removed]",
      "text/plain": [
       "<Figure size 720x360 with 1 Axes>"
      ]
     },
     "metadata": {
      "needs_background": "light"
     },
     "output_type": "display_data"
    }
   ],
   "source": [
    "# Зависимость от месяца размещения\n",
    "(\n",
    "    spb_center.pivot_table(index='month_exposition', values='last_price')\n",
    "    .plot(grid=True, style='o-', xlim=(1,12), figsize=(10, 5))\n",
    ")\n",
    "plt.ylabel(\"Цена\")\n",
    "plt.xlabel(\"Месяц размещения\")"
   ]
  },
  {
   "cell_type": "markdown",
   "metadata": {},
   "source": [
    "Ситуация немного отличается от общей выборки:\n",
    "* Самые дорогие цены остаются только  в сентябре, апрель сравнялся со средним значением\n",
    "* Самые дешевые цены поменялись на декабрь"
   ]
  },
  {
   "cell_type": "code",
   "execution_count": 36,
   "metadata": {},
   "outputs": [
    {
     "data": {
      "text/plain": [
       "Text(0.5, 0, 'Год размещения')"
      ]
     },
     "execution_count": 36,
     "metadata": {},
     "output_type": "execute_result"
    },
    {
     "data": {
      "image/png": "[encoded data removed]",
      "text/plain": [
       "<Figure size 360x360 with 1 Axes>"
      ]
     },
     "metadata": {
      "needs_background": "light"
     },
     "output_type": "display_data"
    }
   ],
   "source": [
    "# Зависимость от года размещения\n",
    "(\n",
    "    spb_center.pivot_table(index='year_exposition', values='last_price')\n",
    "    .plot(grid=True, style='o-', figsize=(5, 5))\n",
    ")\n",
    "plt.ylabel(\"Цена\")\n",
    "plt.xlabel(\"Год размещения\")"
   ]
  },
  {
   "cell_type": "markdown",
   "metadata": {},
   "source": [
    "Цены на квартиры в центре падали с 14 по 17 год и оставались такими же на протяжении года, только к 19 году видим рост.\n",
    "Ситуация похожа на ситуацию по всему городу."
   ]
  },
  {
   "cell_type": "markdown",
   "metadata": {},
   "source": [
    "## Общий вывод"
   ]
  },
  {
   "cell_type": "markdown",
   "metadata": {},
   "source": [
    "**Срок продажи квартиры**\n",
    "\n",
    "Чаще всего квартиру продают за 95 дней. Если меньше 45 дней, то это быстро, если дольше 232 дней - это долго.\n",
    "Есть большое число квартир, проданных всего за несколько дней после публикации.\n",
    "Также есть варианты, которые продавались несколько десятков месяцев.\n",
    "\n",
    "**Факторы, влияющие на стоимость**\n",
    "\n",
    "На стоимость больше влияет площадь квартиры, нежели число комнат. Т.е. могут быть дорогие квартиры с малым числом комнат, но где комнаты просторные.\n",
    "Первый этаж значительно дешевле остальных вариантов. Также стоимость квартиры на последнем этаже ниже, чем на остальных, кроме первого.\n",
    "\n",
    "**Стоимость квадратного метра в топ-10 населённых пунктов**\n",
    "\n",
    "Дороже всего квадратный метр в Санкт-Петербурге - 114848\n",
    "Дешевле всего квадратный метр в Выборге - 58141\n",
    "Факторы, влияющие на стоимость в центре Санкт-Петербурга\n",
    "\n",
    "В центре города практически нет разницы, насколько квартира удалена от условного центра города.\n",
    "В центре города последний этаж практически не влияет на стоимость квартиры, в отличие от остального города.\n",
    "В центре есть очень дорогие однокомнатные квартиры\n",
    "Экономическая ситуация в стране мало влияет на элитную недвижимость в центре"
   ]
  },
  {
   "cell_type": "markdown",
   "metadata": {},
   "source": [
    "## Чек-лист готовности проекта\n",
    "\n",
    "Поставьте 'x' в выполненных пунктах. Далее нажмите Shift+Enter."
   ]
  },
  {
   "cell_type": "markdown",
   "metadata": {},
   "source": [
    "- [x]  открыт файл\n",
    "- [x]  файлы изучены (выведены первые строки, метод info())\n",
    "- [x]  определены пропущенные значения\n",
    "- [x]  заполнены пропущенные значения\n",
    "- [x]  есть пояснение, какие пропущенные значения обнаружены\n",
    "- [x]  изменены типы данных\n",
    "- [x]  есть пояснение, в каких столбцах изменены типы и почему\n",
    "- [x]  посчитано и добавлено в таблицу: цена квадратного метра\n",
    "- [x]  посчитано и добавлено в таблицу: день недели, месяц и год публикации объявления\n",
    "- [x]  посчитано и добавлено в таблицу: этаж квартиры; варианты — первый, последний, другой\n",
    "- [x]  посчитано и добавлено в таблицу: соотношение жилой и общей площади, а также отношение площади кухни к общей\n",
    "- [x]  изучены следующие параметры: площадь, цена, число комнат, высота потолков\n",
    "- [x]  построены гистограммы для каждого параметра\n",
    "- [x]  выполнено задание: \"Изучите время продажи квартиры. Постройте гистограмму. Посчитайте среднее и медиану. Опишите, сколько обычно занимает продажа. Когда можно считать, что продажи прошли очень быстро, а когда необычно долго?\"\n",
    "- [x]  выполнено задание: \"Уберите редкие и выбивающиеся значения. Опишите, какие особенности обнаружили.\"\n",
    "- [x]  выполнено задание: \"Какие факторы больше всего влияют на стоимость квартиры? Изучите, зависит ли цена от квадратного метра, числа комнат, этажа (первого или последнего), удалённости от центра. Также изучите зависимость от даты размещения: дня недели, месяца и года. \"Выберите 10 населённых пунктов с наибольшим числом объявлений. Посчитайте среднюю цену квадратного метра в этих населённых пунктах. Выделите населённые пункты с самой высокой и низкой стоимостью жилья. Эти данные можно найти по имени в столбце '*locality_name'*. \"\n",
    "- [x]  выполнено задание: \"Изучите предложения квартир: для каждой квартиры есть информация о расстоянии до центра. Выделите квартиры в Санкт-Петербурге (*'locality_name'*). Ваша задача — выяснить, какая область входит в центр. Создайте столбец с расстоянием до центра в километрах: округлите до целых значений. После этого посчитайте среднюю цену для каждого километра. Постройте график: он должен показывать, как цена зависит от удалённости от центра. Определите границу, где график сильно меняется — это и будет центральная зона. \"\n",
    "- [x]  выполнено задание: \"Выделите сегмент квартир в центре. Проанализируйте эту территорию и изучите следующие параметры: площадь, цена, число комнат, высота потолков. Также выделите факторы, которые влияют на стоимость квартиры (число комнат, этаж, удалённость от центра, дата размещения объявления). Сделайте выводы. Отличаются ли они от общих выводов по всему городу?\"\n",
    "- [x]  в каждом этапе есть выводы\n",
    "- [X]  есть общий вывод"
   ]
  }
 ],
 "metadata": {
  "ExecuteTimeLog": [
   {
    "duration": 264,
    "start_time": "2022-01-13T13:29:28.407Z"
   },
   {
    "duration": 726,
    "start_time": "2022-01-13T13:29:33.200Z"
   },
   {
    "duration": 72,
    "start_time": "2022-01-13T13:31:45.927Z"
   },
   {
    "duration": 310,
    "start_time": "2022-01-13T13:31:59.191Z"
   },
   {
    "duration": 77,
    "start_time": "2022-01-13T13:32:02.612Z"
   },
   {
    "duration": 64,
    "start_time": "2022-01-13T13:32:27.199Z"
   },
   {
    "duration": 82,
    "start_time": "2022-01-13T13:34:51.549Z"
   },
   {
    "duration": 63,
    "start_time": "2022-01-13T13:34:55.605Z"
   },
   {
    "duration": 926,
    "start_time": "2022-01-13T13:34:59.333Z"
   },
   {
    "duration": 90,
    "start_time": "2022-01-13T13:35:27.173Z"
   },
   {
    "duration": 76,
    "start_time": "2022-01-13T13:37:42.116Z"
   },
   {
    "duration": 77,
    "start_time": "2022-01-13T13:37:49.451Z"
   },
   {
    "duration": 79,
    "start_time": "2022-01-13T13:37:54.115Z"
   },
   {
    "duration": 109,
    "start_time": "2022-01-13T13:37:57.202Z"
   },
   {
    "duration": 91,
    "start_time": "2022-01-13T13:38:25.611Z"
   },
   {
    "duration": 86,
    "start_time": "2022-01-13T13:38:52.186Z"
   },
   {
    "duration": 277,
    "start_time": "2022-01-13T13:40:39.232Z"
   },
   {
    "duration": 77,
    "start_time": "2022-01-13T13:40:43.280Z"
   },
   {
    "duration": 100,
    "start_time": "2022-01-13T13:40:52.992Z"
   },
   {
    "duration": 153,
    "start_time": "2022-01-13T13:41:42.919Z"
   },
   {
    "duration": 98,
    "start_time": "2022-01-13T13:41:48.912Z"
   },
   {
    "duration": 3,
    "start_time": "2022-01-13T13:46:40.908Z"
   },
   {
    "duration": 78,
    "start_time": "2022-01-13T13:46:49.187Z"
   },
   {
    "duration": 316,
    "start_time": "2022-01-13T14:36:31.462Z"
   },
   {
    "duration": 96,
    "start_time": "2022-01-13T14:36:37.078Z"
   },
   {
    "duration": 100,
    "start_time": "2022-01-13T14:36:45.693Z"
   },
   {
    "duration": 244,
    "start_time": "2022-01-25T15:11:28.469Z"
   },
   {
    "duration": 185,
    "start_time": "2022-01-25T15:11:56.925Z"
   },
   {
    "duration": 714,
    "start_time": "2022-01-25T15:12:00.780Z"
   },
   {
    "duration": 4814,
    "start_time": "2022-01-25T15:12:05.269Z"
   },
   {
    "duration": 4799,
    "start_time": "2022-01-25T15:12:40.036Z"
   },
   {
    "duration": 4818,
    "start_time": "2022-01-25T15:12:59.517Z"
   },
   {
    "duration": 6062,
    "start_time": "2022-01-25T15:13:12.036Z"
   },
   {
    "duration": 69,
    "start_time": "2022-01-25T15:13:19.652Z"
   },
   {
    "duration": 107,
    "start_time": "2022-01-25T15:13:19.723Z"
   },
   {
    "duration": 6,
    "start_time": "2022-01-25T15:13:19.832Z"
   },
   {
    "duration": 8,
    "start_time": "2022-01-25T15:13:35.908Z"
   },
   {
    "duration": 613,
    "start_time": "2022-01-26T03:58:23.716Z"
   },
   {
    "duration": 79,
    "start_time": "2022-01-26T03:58:24.330Z"
   },
   {
    "duration": 5,
    "start_time": "2022-01-26T03:58:24.411Z"
   },
   {
    "duration": 255,
    "start_time": "2022-01-26T04:16:38.329Z"
   },
   {
    "duration": 4,
    "start_time": "2022-01-26T04:16:43.301Z"
   },
   {
    "duration": 7,
    "start_time": "2022-01-26T04:20:26.948Z"
   },
   {
    "duration": 9,
    "start_time": "2022-01-26T04:20:36.255Z"
   },
   {
    "duration": 7,
    "start_time": "2022-01-26T04:20:55.395Z"
   },
   {
    "duration": 6,
    "start_time": "2022-01-26T04:24:37.812Z"
   },
   {
    "duration": 10,
    "start_time": "2022-01-26T04:29:13.827Z"
   },
   {
    "duration": 5346,
    "start_time": "2022-01-26T04:30:46.916Z"
   },
   {
    "duration": 14,
    "start_time": "2022-01-26T04:32:21.160Z"
   },
   {
    "duration": 64,
    "start_time": "2022-01-26T04:34:10.846Z"
   },
   {
    "duration": 651,
    "start_time": "2022-01-26T04:34:28.332Z"
   },
   {
    "duration": 62,
    "start_time": "2022-01-26T04:34:34.380Z"
   },
   {
    "duration": 60,
    "start_time": "2022-01-26T04:34:44.732Z"
   },
   {
    "duration": 83,
    "start_time": "2022-01-26T04:34:44.795Z"
   },
   {
    "duration": 70,
    "start_time": "2022-01-26T04:34:44.880Z"
   },
   {
    "duration": 19,
    "start_time": "2022-01-26T04:35:29.265Z"
   },
   {
    "duration": 68,
    "start_time": "2022-01-26T04:35:32.441Z"
   },
   {
    "duration": 19,
    "start_time": "2022-01-26T04:35:46.903Z"
   },
   {
    "duration": 11,
    "start_time": "2022-01-26T04:35:53.298Z"
   },
   {
    "duration": 13,
    "start_time": "2022-01-26T04:37:37.117Z"
   },
   {
    "duration": 18,
    "start_time": "2022-01-26T04:38:16.959Z"
   },
   {
    "duration": 15,
    "start_time": "2022-01-26T04:41:47.873Z"
   },
   {
    "duration": 11,
    "start_time": "2022-01-26T04:42:05.541Z"
   },
   {
    "duration": 26,
    "start_time": "2022-01-26T04:42:42.664Z"
   },
   {
    "duration": 30,
    "start_time": "2022-01-26T04:43:03.838Z"
   },
   {
    "duration": 14,
    "start_time": "2022-01-26T04:43:53.005Z"
   },
   {
    "duration": 22,
    "start_time": "2022-01-26T04:44:48.655Z"
   },
   {
    "duration": 19,
    "start_time": "2022-01-26T04:45:20.412Z"
   },
   {
    "duration": 14,
    "start_time": "2022-01-26T04:45:43.772Z"
   },
   {
    "duration": 70,
    "start_time": "2022-01-26T04:49:44.885Z"
   },
   {
    "duration": 13,
    "start_time": "2022-01-26T04:49:53.432Z"
   },
   {
    "duration": 222,
    "start_time": "2022-01-26T04:50:26.859Z"
   },
   {
    "duration": 15,
    "start_time": "2022-01-26T04:50:30.241Z"
   },
   {
    "duration": 20,
    "start_time": "2022-01-26T04:50:52.146Z"
   },
   {
    "duration": 15,
    "start_time": "2022-01-26T04:50:55.194Z"
   },
   {
    "duration": 15,
    "start_time": "2022-01-26T04:51:00.236Z"
   },
   {
    "duration": 18,
    "start_time": "2022-01-26T04:51:10.636Z"
   },
   {
    "duration": 17,
    "start_time": "2022-01-26T04:51:19.701Z"
   },
   {
    "duration": 20,
    "start_time": "2022-01-26T04:51:31.423Z"
   },
   {
    "duration": 218,
    "start_time": "2022-01-26T04:52:53.572Z"
   },
   {
    "duration": 217,
    "start_time": "2022-01-26T04:53:01.145Z"
   },
   {
    "duration": 246,
    "start_time": "2022-01-26T06:46:21.420Z"
   },
   {
    "duration": 14,
    "start_time": "2022-01-26T06:46:25.425Z"
   },
   {
    "duration": 40,
    "start_time": "2022-01-26T06:46:33.076Z"
   },
   {
    "duration": 215,
    "start_time": "2022-01-26T06:55:43.925Z"
   },
   {
    "duration": 232,
    "start_time": "2022-01-26T06:58:05.179Z"
   },
   {
    "duration": 23,
    "start_time": "2022-01-26T07:14:17.201Z"
   },
   {
    "duration": 22,
    "start_time": "2022-01-26T07:14:26.230Z"
   },
   {
    "duration": 42,
    "start_time": "2022-01-26T07:15:01.414Z"
   },
   {
    "duration": 20,
    "start_time": "2022-01-26T07:15:05.934Z"
   },
   {
    "duration": 10,
    "start_time": "2022-01-26T07:22:29.041Z"
   },
   {
    "duration": 208,
    "start_time": "2022-01-26T07:27:14.149Z"
   },
   {
    "duration": 40,
    "start_time": "2022-01-26T07:27:23.661Z"
   },
   {
    "duration": 17,
    "start_time": "2022-01-26T07:31:08.900Z"
   },
   {
    "duration": 21,
    "start_time": "2022-01-26T07:40:35.835Z"
   },
   {
    "duration": 21,
    "start_time": "2022-01-26T07:44:05.624Z"
   },
   {
    "duration": 25,
    "start_time": "2022-01-26T07:48:07.709Z"
   },
   {
    "duration": 20,
    "start_time": "2022-01-26T07:48:36.645Z"
   },
   {
    "duration": 22,
    "start_time": "2022-01-26T07:50:04.636Z"
   },
   {
    "duration": 25,
    "start_time": "2022-01-26T07:52:26.835Z"
   },
   {
    "duration": 41,
    "start_time": "2022-01-26T07:53:09.690Z"
   },
   {
    "duration": 19,
    "start_time": "2022-01-26T07:53:12.898Z"
   },
   {
    "duration": 10,
    "start_time": "2022-01-26T08:17:29.009Z"
   },
   {
    "duration": 7,
    "start_time": "2022-01-26T08:18:56.573Z"
   },
   {
    "duration": 208,
    "start_time": "2022-01-26T08:23:26.962Z"
   },
   {
    "duration": 12,
    "start_time": "2022-01-26T08:23:42.458Z"
   },
   {
    "duration": 31,
    "start_time": "2022-01-26T08:23:53.001Z"
   },
   {
    "duration": 207,
    "start_time": "2022-01-26T08:25:48.257Z"
   },
   {
    "duration": 29,
    "start_time": "2022-01-26T08:25:51.328Z"
   },
   {
    "duration": 31,
    "start_time": "2022-01-26T08:25:56.040Z"
   },
   {
    "duration": 31,
    "start_time": "2022-01-26T08:26:03.865Z"
   },
   {
    "duration": 32,
    "start_time": "2022-01-26T08:26:58.769Z"
   },
   {
    "duration": 3,
    "start_time": "2022-01-26T08:35:44.417Z"
   },
   {
    "duration": 982,
    "start_time": "2022-01-26T08:50:48.269Z"
   },
   {
    "duration": 601,
    "start_time": "2022-01-26T08:50:53.110Z"
   },
   {
    "duration": 6,
    "start_time": "2022-01-26T08:54:49.594Z"
   },
   {
    "duration": 23,
    "start_time": "2022-01-26T09:05:11.107Z"
   },
   {
    "duration": 787,
    "start_time": "2022-01-26T09:26:14.682Z"
   },
   {
    "duration": 327,
    "start_time": "2022-01-26T09:36:00.772Z"
   },
   {
    "duration": 338,
    "start_time": "2022-01-26T09:36:39.964Z"
   },
   {
    "duration": 382,
    "start_time": "2022-01-26T09:36:47.859Z"
   },
   {
    "duration": 226,
    "start_time": "2022-01-26T09:37:04.347Z"
   },
   {
    "duration": 255,
    "start_time": "2022-01-26T09:37:36.506Z"
   },
   {
    "duration": 230,
    "start_time": "2022-01-26T09:37:44.674Z"
   },
   {
    "duration": 204,
    "start_time": "2022-01-26T09:37:48.442Z"
   },
   {
    "duration": 381,
    "start_time": "2022-01-26T09:38:29.242Z"
   },
   {
    "duration": 324,
    "start_time": "2022-01-26T09:40:25.864Z"
   },
   {
    "duration": 412,
    "start_time": "2022-01-26T09:40:36.267Z"
   },
   {
    "duration": 334,
    "start_time": "2022-01-26T09:40:52.898Z"
   },
   {
    "duration": 308,
    "start_time": "2022-01-26T09:40:59.282Z"
   },
   {
    "duration": 312,
    "start_time": "2022-01-26T09:42:42.334Z"
   },
   {
    "duration": 426,
    "start_time": "2022-01-26T09:43:03.893Z"
   },
   {
    "duration": 303,
    "start_time": "2022-01-26T09:43:32.183Z"
   },
   {
    "duration": 447,
    "start_time": "2022-01-26T09:43:39.078Z"
   },
   {
    "duration": 314,
    "start_time": "2022-01-26T10:00:24.049Z"
   },
   {
    "duration": 306,
    "start_time": "2022-01-26T10:03:35.871Z"
   },
   {
    "duration": 312,
    "start_time": "2022-01-26T10:03:42.174Z"
   },
   {
    "duration": 295,
    "start_time": "2022-01-26T10:03:46.398Z"
   },
   {
    "duration": 446,
    "start_time": "2022-01-26T10:03:48.735Z"
   },
   {
    "duration": 61,
    "start_time": "2022-01-26T10:03:54.352Z"
   },
   {
    "duration": 95,
    "start_time": "2022-01-26T10:03:54.414Z"
   },
   {
    "duration": 30,
    "start_time": "2022-01-26T10:03:54.511Z"
   },
   {
    "duration": 22,
    "start_time": "2022-01-26T10:03:54.543Z"
   },
   {
    "duration": 32,
    "start_time": "2022-01-26T10:03:54.567Z"
   },
   {
    "duration": 643,
    "start_time": "2022-01-26T10:03:54.601Z"
   },
   {
    "duration": 32,
    "start_time": "2022-01-26T10:03:55.246Z"
   },
   {
    "duration": 347,
    "start_time": "2022-01-26T10:03:55.280Z"
   },
   {
    "duration": 338,
    "start_time": "2022-01-26T10:03:55.629Z"
   },
   {
    "duration": 310,
    "start_time": "2022-01-26T10:04:35.734Z"
   },
   {
    "duration": 63,
    "start_time": "2022-01-26T10:04:40.895Z"
   },
   {
    "duration": 86,
    "start_time": "2022-01-26T10:04:40.960Z"
   },
   {
    "duration": 41,
    "start_time": "2022-01-26T10:04:41.048Z"
   },
   {
    "duration": 8,
    "start_time": "2022-01-26T10:04:41.091Z"
   },
   {
    "duration": 65,
    "start_time": "2022-01-26T10:04:41.100Z"
   },
   {
    "duration": 762,
    "start_time": "2022-01-26T10:04:41.167Z"
   },
   {
    "duration": 36,
    "start_time": "2022-01-26T10:04:41.931Z"
   },
   {
    "duration": 333,
    "start_time": "2022-01-26T10:04:41.969Z"
   },
   {
    "duration": 336,
    "start_time": "2022-01-26T10:04:42.304Z"
   },
   {
    "duration": 336,
    "start_time": "2022-01-26T10:05:10.278Z"
   },
   {
    "duration": 342,
    "start_time": "2022-01-26T10:05:21.638Z"
   },
   {
    "duration": 468,
    "start_time": "2022-01-26T10:05:39.238Z"
   },
   {
    "duration": 327,
    "start_time": "2022-01-26T10:05:56.703Z"
   },
   {
    "duration": 313,
    "start_time": "2022-01-26T10:06:41.100Z"
   },
   {
    "duration": 312,
    "start_time": "2022-01-26T10:06:44.461Z"
   },
   {
    "duration": 325,
    "start_time": "2022-01-26T10:06:46.877Z"
   },
   {
    "duration": 353,
    "start_time": "2022-01-26T10:06:49.700Z"
   },
   {
    "duration": 450,
    "start_time": "2022-01-26T10:07:08.780Z"
   },
   {
    "duration": 320,
    "start_time": "2022-01-26T10:07:11.820Z"
   },
   {
    "duration": 349,
    "start_time": "2022-01-26T10:07:20.892Z"
   },
   {
    "duration": 342,
    "start_time": "2022-01-26T10:07:55.204Z"
   },
   {
    "duration": 372,
    "start_time": "2022-01-26T10:08:06.461Z"
   },
   {
    "duration": 510,
    "start_time": "2022-01-26T10:08:09.539Z"
   },
   {
    "duration": 337,
    "start_time": "2022-01-26T10:09:53.975Z"
   },
   {
    "duration": 62,
    "start_time": "2022-01-26T10:10:30.115Z"
   },
   {
    "duration": 95,
    "start_time": "2022-01-26T10:10:30.180Z"
   },
   {
    "duration": 31,
    "start_time": "2022-01-26T10:10:30.277Z"
   },
   {
    "duration": 7,
    "start_time": "2022-01-26T10:10:30.310Z"
   },
   {
    "duration": 66,
    "start_time": "2022-01-26T10:10:30.319Z"
   },
   {
    "duration": 647,
    "start_time": "2022-01-26T10:10:30.387Z"
   },
   {
    "duration": 39,
    "start_time": "2022-01-26T10:10:31.036Z"
   },
   {
    "duration": 322,
    "start_time": "2022-01-26T10:10:31.077Z"
   },
   {
    "duration": 362,
    "start_time": "2022-01-26T10:10:31.401Z"
   },
   {
    "duration": 352,
    "start_time": "2022-01-26T10:11:50.889Z"
   },
   {
    "duration": 533,
    "start_time": "2022-01-26T10:13:28.551Z"
   },
   {
    "duration": 395,
    "start_time": "2022-01-26T10:14:40.758Z"
   },
   {
    "duration": 357,
    "start_time": "2022-01-26T10:19:26.170Z"
   },
   {
    "duration": 85,
    "start_time": "2022-01-26T10:19:46.210Z"
   },
   {
    "duration": 112,
    "start_time": "2022-01-26T10:19:46.297Z"
   },
   {
    "duration": 27,
    "start_time": "2022-01-26T10:19:46.411Z"
   },
   {
    "duration": 28,
    "start_time": "2022-01-26T10:19:46.440Z"
   },
   {
    "duration": 41,
    "start_time": "2022-01-26T10:19:46.471Z"
   },
   {
    "duration": 800,
    "start_time": "2022-01-26T10:19:46.514Z"
   },
   {
    "duration": 25,
    "start_time": "2022-01-26T10:19:47.316Z"
   },
   {
    "duration": 327,
    "start_time": "2022-01-26T10:19:47.343Z"
   },
   {
    "duration": 364,
    "start_time": "2022-01-26T10:19:47.672Z"
   },
   {
    "duration": 540,
    "start_time": "2022-01-26T10:19:54.120Z"
   },
   {
    "duration": 368,
    "start_time": "2022-01-26T10:19:56.329Z"
   },
   {
    "duration": 65,
    "start_time": "2022-01-26T10:20:14.563Z"
   },
   {
    "duration": 101,
    "start_time": "2022-01-26T10:20:14.630Z"
   },
   {
    "duration": 49,
    "start_time": "2022-01-26T10:20:14.734Z"
   },
   {
    "duration": 9,
    "start_time": "2022-01-26T10:20:14.786Z"
   },
   {
    "duration": 74,
    "start_time": "2022-01-26T10:20:14.797Z"
   },
   {
    "duration": 625,
    "start_time": "2022-01-26T10:20:14.874Z"
   },
   {
    "duration": 26,
    "start_time": "2022-01-26T10:20:15.501Z"
   },
   {
    "duration": 339,
    "start_time": "2022-01-26T10:20:15.529Z"
   },
   {
    "duration": 382,
    "start_time": "2022-01-26T10:20:15.870Z"
   },
   {
    "duration": 345,
    "start_time": "2022-01-26T10:21:27.320Z"
   },
   {
    "duration": 516,
    "start_time": "2022-01-26T10:22:47.247Z"
   },
   {
    "duration": 350,
    "start_time": "2022-01-26T10:22:51.222Z"
   },
   {
    "duration": 309,
    "start_time": "2022-01-26T10:25:11.405Z"
   },
   {
    "duration": 319,
    "start_time": "2022-01-26T10:25:20.653Z"
   },
   {
    "duration": 307,
    "start_time": "2022-01-26T10:25:30.117Z"
   },
   {
    "duration": 205,
    "start_time": "2022-01-26T10:25:50.348Z"
   },
   {
    "duration": 328,
    "start_time": "2022-01-26T10:26:08.203Z"
   },
   {
    "duration": 196,
    "start_time": "2022-01-26T10:26:25.260Z"
   },
   {
    "duration": 228,
    "start_time": "2022-01-26T10:26:28.620Z"
   },
   {
    "duration": 209,
    "start_time": "2022-01-26T10:27:44.251Z"
   },
   {
    "duration": 387,
    "start_time": "2022-01-26T10:33:11.039Z"
   },
   {
    "duration": 188,
    "start_time": "2022-01-26T10:33:18.184Z"
   },
   {
    "duration": 204,
    "start_time": "2022-01-26T10:33:30.335Z"
   },
   {
    "duration": 204,
    "start_time": "2022-01-26T10:38:30.267Z"
   },
   {
    "duration": 214,
    "start_time": "2022-01-26T10:38:56.019Z"
   },
   {
    "duration": 213,
    "start_time": "2022-01-26T10:39:21.026Z"
   },
   {
    "duration": 237,
    "start_time": "2022-01-26T10:40:45.369Z"
   },
   {
    "duration": 248,
    "start_time": "2022-01-26T10:40:52.867Z"
   },
   {
    "duration": 207,
    "start_time": "2022-01-26T10:40:58.409Z"
   },
   {
    "duration": 223,
    "start_time": "2022-01-26T10:41:08.649Z"
   },
   {
    "duration": 219,
    "start_time": "2022-01-26T10:41:16.041Z"
   },
   {
    "duration": 246,
    "start_time": "2022-01-26T10:41:21.041Z"
   },
   {
    "duration": 316,
    "start_time": "2022-01-26T10:41:24.289Z"
   },
   {
    "duration": 398,
    "start_time": "2022-01-26T10:41:29.697Z"
   },
   {
    "duration": 208,
    "start_time": "2022-01-26T10:41:36.553Z"
   },
   {
    "duration": 221,
    "start_time": "2022-01-26T10:41:42.825Z"
   },
   {
    "duration": 215,
    "start_time": "2022-01-26T10:41:46.561Z"
   },
   {
    "duration": 196,
    "start_time": "2022-01-26T10:41:53.899Z"
   },
   {
    "duration": 201,
    "start_time": "2022-01-26T10:41:57.905Z"
   },
   {
    "duration": 195,
    "start_time": "2022-01-26T10:42:02.113Z"
   },
   {
    "duration": 191,
    "start_time": "2022-01-26T10:42:23.384Z"
   },
   {
    "duration": 183,
    "start_time": "2022-01-26T10:42:31.680Z"
   },
   {
    "duration": 332,
    "start_time": "2022-01-26T10:43:00.056Z"
   },
   {
    "duration": 201,
    "start_time": "2022-01-26T10:43:39.224Z"
   },
   {
    "duration": 215,
    "start_time": "2022-01-26T10:43:50.551Z"
   },
   {
    "duration": 353,
    "start_time": "2022-01-26T11:38:28.534Z"
   },
   {
    "duration": 711,
    "start_time": "2022-01-26T11:43:03.874Z"
   },
   {
    "duration": 349,
    "start_time": "2022-01-26T11:43:16.958Z"
   },
   {
    "duration": 361,
    "start_time": "2022-01-26T11:43:31.638Z"
   },
   {
    "duration": 234,
    "start_time": "2022-01-26T11:45:58.996Z"
   },
   {
    "duration": 274,
    "start_time": "2022-01-26T11:49:49.474Z"
   },
   {
    "duration": 245,
    "start_time": "2022-01-26T11:50:05.442Z"
   },
   {
    "duration": 637,
    "start_time": "2022-01-26T11:50:43.881Z"
   },
   {
    "duration": 512,
    "start_time": "2022-01-26T11:50:51.521Z"
   },
   {
    "duration": 265,
    "start_time": "2022-01-26T11:51:57.841Z"
   },
   {
    "duration": 246,
    "start_time": "2022-01-26T11:52:10.056Z"
   },
   {
    "duration": 245,
    "start_time": "2022-01-26T11:52:16.784Z"
   },
   {
    "duration": 261,
    "start_time": "2022-01-26T11:52:37.615Z"
   },
   {
    "duration": 272,
    "start_time": "2022-01-26T11:53:08.207Z"
   },
   {
    "duration": 548,
    "start_time": "2022-01-26T11:54:46.273Z"
   },
   {
    "duration": 353,
    "start_time": "2022-01-26T11:54:52.677Z"
   },
   {
    "duration": 405,
    "start_time": "2022-01-26T11:55:03.653Z"
   },
   {
    "duration": 345,
    "start_time": "2022-01-26T11:57:56.033Z"
   },
   {
    "duration": 588,
    "start_time": "2022-01-26T12:12:29.976Z"
   },
   {
    "duration": 253,
    "start_time": "2022-01-26T12:12:35.984Z"
   },
   {
    "duration": 330,
    "start_time": "2022-01-26T14:54:29.110Z"
   },
   {
    "duration": 249,
    "start_time": "2022-01-26T14:55:57.629Z"
   },
   {
    "duration": 244,
    "start_time": "2022-01-26T15:12:38.256Z"
   },
   {
    "duration": 300,
    "start_time": "2022-01-26T15:12:46.496Z"
   },
   {
    "duration": 243,
    "start_time": "2022-01-26T15:12:58.144Z"
   },
   {
    "duration": 281,
    "start_time": "2022-01-26T15:18:30.879Z"
   },
   {
    "duration": 629,
    "start_time": "2022-01-27T06:13:22.090Z"
   },
   {
    "duration": 73,
    "start_time": "2022-01-27T06:13:22.721Z"
   },
   {
    "duration": 36,
    "start_time": "2022-01-27T06:13:22.796Z"
   },
   {
    "duration": 6,
    "start_time": "2022-01-27T06:13:22.833Z"
   },
   {
    "duration": 26,
    "start_time": "2022-01-27T06:13:22.841Z"
   },
   {
    "duration": 546,
    "start_time": "2022-01-27T06:13:22.869Z"
   },
   {
    "duration": 26,
    "start_time": "2022-01-27T06:13:23.416Z"
   },
   {
    "duration": 363,
    "start_time": "2022-01-27T06:13:23.444Z"
   },
   {
    "duration": 305,
    "start_time": "2022-01-27T06:13:23.808Z"
   },
   {
    "duration": 185,
    "start_time": "2022-01-27T06:13:24.115Z"
   },
   {
    "duration": 293,
    "start_time": "2022-01-27T06:13:24.301Z"
   },
   {
    "duration": 293,
    "start_time": "2022-01-27T06:13:24.595Z"
   },
   {
    "duration": 239,
    "start_time": "2022-01-27T06:13:24.890Z"
   },
   {
    "duration": 3,
    "start_time": "2022-01-27T06:13:25.131Z"
   },
   {
    "duration": 337,
    "start_time": "2022-01-27T06:13:49.781Z"
   },
   {
    "duration": 278,
    "start_time": "2022-01-27T06:13:57.598Z"
   },
   {
    "duration": 282,
    "start_time": "2022-01-27T06:14:06.134Z"
   },
   {
    "duration": 645,
    "start_time": "2022-01-27T06:29:11.623Z"
   },
   {
    "duration": 563,
    "start_time": "2022-01-27T06:29:22.083Z"
   },
   {
    "duration": 383,
    "start_time": "2022-01-27T06:29:27.122Z"
   },
   {
    "duration": 402,
    "start_time": "2022-01-27T06:29:38.219Z"
   },
   {
    "duration": 439,
    "start_time": "2022-01-27T06:30:24.282Z"
   },
   {
    "duration": 439,
    "start_time": "2022-01-27T06:31:16.873Z"
   },
   {
    "duration": 343,
    "start_time": "2022-01-27T06:32:22.953Z"
   },
   {
    "duration": 5087,
    "start_time": "2022-01-27T06:35:18.983Z"
   },
   {
    "duration": 97,
    "start_time": "2022-01-27T06:35:54.759Z"
   },
   {
    "duration": 54,
    "start_time": "2022-01-27T06:36:13.480Z"
   },
   {
    "duration": 72,
    "start_time": "2022-01-27T06:36:13.536Z"
   },
   {
    "duration": 32,
    "start_time": "2022-01-27T06:36:13.609Z"
   },
   {
    "duration": 6,
    "start_time": "2022-01-27T06:36:13.643Z"
   },
   {
    "duration": 32,
    "start_time": "2022-01-27T06:36:13.651Z"
   },
   {
    "duration": 546,
    "start_time": "2022-01-27T06:36:13.685Z"
   },
   {
    "duration": 21,
    "start_time": "2022-01-27T06:36:14.232Z"
   },
   {
    "duration": 351,
    "start_time": "2022-01-27T06:36:14.255Z"
   },
   {
    "duration": 315,
    "start_time": "2022-01-27T06:36:14.608Z"
   },
   {
    "duration": 175,
    "start_time": "2022-01-27T06:36:14.924Z"
   },
   {
    "duration": 391,
    "start_time": "2022-01-27T06:36:15.100Z"
   },
   {
    "duration": 300,
    "start_time": "2022-01-27T06:36:15.493Z"
   },
   {
    "duration": 250,
    "start_time": "2022-01-27T06:36:15.795Z"
   },
   {
    "duration": 113,
    "start_time": "2022-01-27T06:36:16.046Z"
   },
   {
    "duration": 58,
    "start_time": "2022-01-27T06:38:00.062Z"
   },
   {
    "duration": 74,
    "start_time": "2022-01-27T06:38:00.121Z"
   },
   {
    "duration": 40,
    "start_time": "2022-01-27T06:38:00.197Z"
   },
   {
    "duration": 5,
    "start_time": "2022-01-27T06:38:00.239Z"
   },
   {
    "duration": 32,
    "start_time": "2022-01-27T06:38:00.246Z"
   },
   {
    "duration": 631,
    "start_time": "2022-01-27T06:38:00.280Z"
   },
   {
    "duration": 29,
    "start_time": "2022-01-27T06:38:00.913Z"
   },
   {
    "duration": 314,
    "start_time": "2022-01-27T06:38:00.944Z"
   },
   {
    "duration": 353,
    "start_time": "2022-01-27T06:38:01.261Z"
   },
   {
    "duration": 197,
    "start_time": "2022-01-27T06:38:01.616Z"
   },
   {
    "duration": 314,
    "start_time": "2022-01-27T06:38:01.815Z"
   },
   {
    "duration": 307,
    "start_time": "2022-01-27T06:38:02.130Z"
   },
   {
    "duration": 344,
    "start_time": "2022-01-27T06:38:02.439Z"
   },
   {
    "duration": 118,
    "start_time": "2022-01-27T06:38:02.784Z"
   },
   {
    "duration": 308,
    "start_time": "2022-01-27T06:41:03.321Z"
   },
   {
    "duration": 302,
    "start_time": "2022-01-27T06:41:47.738Z"
   },
   {
    "duration": 281,
    "start_time": "2022-01-27T06:42:21.848Z"
   },
   {
    "duration": 320,
    "start_time": "2022-01-27T06:43:01.434Z"
   },
   {
    "duration": 261,
    "start_time": "2022-01-27T06:43:03.946Z"
   },
   {
    "duration": 73,
    "start_time": "2022-01-27T06:43:04.209Z"
   },
   {
    "duration": 25,
    "start_time": "2022-01-27T06:43:04.284Z"
   },
   {
    "duration": 18,
    "start_time": "2022-01-27T06:43:04.310Z"
   },
   {
    "duration": 27,
    "start_time": "2022-01-27T06:43:04.329Z"
   },
   {
    "duration": 556,
    "start_time": "2022-01-27T06:43:04.357Z"
   },
   {
    "duration": 24,
    "start_time": "2022-01-27T06:43:04.915Z"
   },
   {
    "duration": 293,
    "start_time": "2022-01-27T06:43:04.941Z"
   },
   {
    "duration": 319,
    "start_time": "2022-01-27T06:43:05.236Z"
   },
   {
    "duration": 172,
    "start_time": "2022-01-27T06:43:05.557Z"
   },
   {
    "duration": 347,
    "start_time": "2022-01-27T06:43:05.730Z"
   },
   {
    "duration": 304,
    "start_time": "2022-01-27T06:43:06.078Z"
   },
   {
    "duration": 247,
    "start_time": "2022-01-27T06:43:06.384Z"
   },
   {
    "duration": 697,
    "start_time": "2022-01-27T06:43:06.632Z"
   },
   {
    "duration": 109,
    "start_time": "2022-01-27T06:43:07.331Z"
   },
   {
    "duration": 669,
    "start_time": "2022-01-27T06:45:38.958Z"
   },
   {
    "duration": 308,
    "start_time": "2022-01-27T06:46:26.566Z"
   },
   {
    "duration": 226,
    "start_time": "2022-01-27T06:46:41.493Z"
   },
   {
    "duration": 238,
    "start_time": "2022-01-27T06:47:04.926Z"
   },
   {
    "duration": 2,
    "start_time": "2022-01-27T07:02:53.769Z"
   },
   {
    "duration": 113,
    "start_time": "2022-01-27T07:11:33.561Z"
   },
   {
    "duration": 299,
    "start_time": "2022-01-27T07:12:33.201Z"
   },
   {
    "duration": 226,
    "start_time": "2022-01-27T07:12:44.162Z"
   },
   {
    "duration": 101,
    "start_time": "2022-01-27T07:13:36.841Z"
   },
   {
    "duration": 172,
    "start_time": "2022-01-27T07:13:40.977Z"
   },
   {
    "duration": -163,
    "start_time": "2022-01-27T07:18:57.668Z"
   },
   {
    "duration": 7260,
    "start_time": "2022-01-27T07:19:03.316Z"
   },
   {
    "duration": 8012,
    "start_time": "2022-01-27T07:19:19.021Z"
   },
   {
    "duration": 8724,
    "start_time": "2022-01-27T07:19:38.709Z"
   },
   {
    "duration": 5,
    "start_time": "2022-01-27T07:26:13.471Z"
   },
   {
    "duration": 3,
    "start_time": "2022-01-27T07:26:31.862Z"
   },
   {
    "duration": 143,
    "start_time": "2022-01-27T07:26:38.790Z"
   },
   {
    "duration": 182,
    "start_time": "2022-01-27T07:26:44.830Z"
   },
   {
    "duration": 176,
    "start_time": "2022-01-27T07:26:57.630Z"
   },
   {
    "duration": 776,
    "start_time": "2022-01-27T07:28:18.446Z"
   },
   {
    "duration": 660,
    "start_time": "2022-01-27T07:28:32.973Z"
   },
   {
    "duration": 908,
    "start_time": "2022-01-27T07:28:43.325Z"
   },
   {
    "duration": 723,
    "start_time": "2022-01-27T07:30:01.900Z"
   },
   {
    "duration": 281,
    "start_time": "2022-01-27T07:52:08.092Z"
   },
   {
    "duration": 282,
    "start_time": "2022-01-27T07:52:14.700Z"
   },
   {
    "duration": 579,
    "start_time": "2022-01-27T07:52:48.859Z"
   },
   {
    "duration": 31,
    "start_time": "2022-01-27T07:55:50.272Z"
   },
   {
    "duration": 500,
    "start_time": "2022-01-27T07:55:54.800Z"
   },
   {
    "duration": 286,
    "start_time": "2022-01-27T08:06:14.976Z"
   },
   {
    "duration": 278,
    "start_time": "2022-01-27T08:06:40.319Z"
   },
   {
    "duration": 22,
    "start_time": "2022-01-27T08:06:45.808Z"
   },
   {
    "duration": 107,
    "start_time": "2022-01-27T08:07:22.360Z"
   },
   {
    "duration": 99,
    "start_time": "2022-01-27T08:07:32.775Z"
   },
   {
    "duration": 20,
    "start_time": "2022-01-27T08:07:36.167Z"
   },
   {
    "duration": 20,
    "start_time": "2022-01-27T08:09:07.582Z"
   },
   {
    "duration": 19,
    "start_time": "2022-01-27T08:11:39.773Z"
   },
   {
    "duration": 20,
    "start_time": "2022-01-27T08:13:27.035Z"
   },
   {
    "duration": 19,
    "start_time": "2022-01-27T08:16:56.944Z"
   },
   {
    "duration": 327,
    "start_time": "2022-01-27T08:17:49.656Z"
   },
   {
    "duration": 329,
    "start_time": "2022-01-27T08:17:52.936Z"
   },
   {
    "duration": 5,
    "start_time": "2022-01-27T08:17:58.352Z"
   },
   {
    "duration": 6,
    "start_time": "2022-01-27T08:18:02.535Z"
   },
   {
    "duration": 8,
    "start_time": "2022-01-27T08:18:10.199Z"
   },
   {
    "duration": 7,
    "start_time": "2022-01-27T08:18:27.791Z"
   },
   {
    "duration": 7,
    "start_time": "2022-01-27T08:18:38.831Z"
   },
   {
    "duration": 17,
    "start_time": "2022-01-27T08:19:47.846Z"
   },
   {
    "duration": 17,
    "start_time": "2022-01-27T08:19:52.174Z"
   },
   {
    "duration": 17,
    "start_time": "2022-01-27T08:20:07.974Z"
   },
   {
    "duration": 17,
    "start_time": "2022-01-27T08:23:09.412Z"
   },
   {
    "duration": 17,
    "start_time": "2022-01-27T08:24:23.899Z"
   },
   {
    "duration": 14,
    "start_time": "2022-01-27T08:24:40.986Z"
   },
   {
    "duration": 19,
    "start_time": "2022-01-27T08:24:44.187Z"
   },
   {
    "duration": 18,
    "start_time": "2022-01-27T08:24:50.586Z"
   },
   {
    "duration": 18,
    "start_time": "2022-01-27T08:24:54.354Z"
   },
   {
    "duration": 18,
    "start_time": "2022-01-27T08:24:56.578Z"
   },
   {
    "duration": 23,
    "start_time": "2022-01-27T08:24:59.403Z"
   },
   {
    "duration": 18,
    "start_time": "2022-01-27T08:25:01.602Z"
   },
   {
    "duration": 287,
    "start_time": "2022-01-27T08:28:50.511Z"
   },
   {
    "duration": 4,
    "start_time": "2022-01-27T08:28:55.080Z"
   },
   {
    "duration": 9,
    "start_time": "2022-01-27T08:30:17.614Z"
   },
   {
    "duration": 96,
    "start_time": "2022-01-27T08:43:14.636Z"
   },
   {
    "duration": 150,
    "start_time": "2022-01-27T08:43:21.826Z"
   },
   {
    "duration": 97,
    "start_time": "2022-01-27T08:44:23.556Z"
   },
   {
    "duration": 284,
    "start_time": "2022-01-27T08:44:40.755Z"
   },
   {
    "duration": 280,
    "start_time": "2022-01-27T08:45:05.675Z"
   },
   {
    "duration": 205,
    "start_time": "2022-01-27T08:45:46.882Z"
   },
   {
    "duration": 299,
    "start_time": "2022-01-27T08:58:00.961Z"
   },
   {
    "duration": 10,
    "start_time": "2022-01-27T08:58:04.073Z"
   },
   {
    "duration": 299,
    "start_time": "2022-01-27T08:58:55.736Z"
   },
   {
    "duration": 441,
    "start_time": "2022-01-27T08:59:04.624Z"
   },
   {
    "duration": 509,
    "start_time": "2022-01-27T08:59:35.656Z"
   },
   {
    "duration": 380,
    "start_time": "2022-01-27T08:59:52.289Z"
   },
   {
    "duration": 424,
    "start_time": "2022-01-27T09:07:07.051Z"
   },
   {
    "duration": 263,
    "start_time": "2022-01-27T09:07:10.378Z"
   },
   {
    "duration": 266,
    "start_time": "2022-01-27T09:07:13.953Z"
   },
   {
    "duration": 536,
    "start_time": "2022-01-27T09:07:55.921Z"
   },
   {
    "duration": 108,
    "start_time": "2022-01-27T09:08:04.265Z"
   },
   {
    "duration": 316,
    "start_time": "2022-01-27T09:08:20.529Z"
   },
   {
    "duration": 518,
    "start_time": "2022-01-27T09:08:38.169Z"
   },
   {
    "duration": 270,
    "start_time": "2022-01-27T09:08:51.409Z"
   },
   {
    "duration": 306,
    "start_time": "2022-01-27T09:29:18.754Z"
   },
   {
    "duration": 381,
    "start_time": "2022-01-27T09:29:38.025Z"
   },
   {
    "duration": 639,
    "start_time": "2022-01-27T09:29:56.360Z"
   },
   {
    "duration": 527,
    "start_time": "2022-01-27T09:30:04.233Z"
   },
   {
    "duration": 267,
    "start_time": "2022-01-27T09:31:44.137Z"
   },
   {
    "duration": 321,
    "start_time": "2022-01-27T09:32:23.543Z"
   },
   {
    "duration": -175,
    "start_time": "2022-01-27T09:32:41.603Z"
   },
   {
    "duration": 386,
    "start_time": "2022-01-27T09:32:47.182Z"
   },
   {
    "duration": 302,
    "start_time": "2022-01-27T09:33:31.062Z"
   },
   {
    "duration": -177,
    "start_time": "2022-01-27T09:35:31.455Z"
   },
   {
    "duration": 179,
    "start_time": "2022-01-27T09:39:14.489Z"
   },
   {
    "duration": 215,
    "start_time": "2022-01-27T09:45:32.613Z"
   },
   {
    "duration": 181,
    "start_time": "2022-01-27T09:45:40.156Z"
   },
   {
    "duration": 180,
    "start_time": "2022-01-27T09:47:07.564Z"
   },
   {
    "duration": 327,
    "start_time": "2022-01-27T09:47:16.531Z"
   },
   {
    "duration": 303,
    "start_time": "2022-01-27T10:15:19.285Z"
   },
   {
    "duration": 442,
    "start_time": "2022-01-27T10:15:37.185Z"
   },
   {
    "duration": 244,
    "start_time": "2022-01-27T10:15:44.637Z"
   },
   {
    "duration": 300,
    "start_time": "2022-01-27T10:16:08.268Z"
   },
   {
    "duration": 517,
    "start_time": "2022-01-27T10:16:29.588Z"
   },
   {
    "duration": 234,
    "start_time": "2022-01-27T10:16:42.179Z"
   },
   {
    "duration": 187,
    "start_time": "2022-01-27T10:17:34.746Z"
   },
   {
    "duration": 528,
    "start_time": "2022-01-27T10:17:48.650Z"
   },
   {
    "duration": 737,
    "start_time": "2022-01-27T10:17:52.290Z"
   },
   {
    "duration": 314,
    "start_time": "2022-01-27T10:18:50.064Z"
   },
   {
    "duration": 98,
    "start_time": "2022-01-27T10:22:31.030Z"
   },
   {
    "duration": 294,
    "start_time": "2022-01-27T10:22:52.686Z"
   },
   {
    "duration": 5107,
    "start_time": "2022-01-27T10:23:12.733Z"
   },
   {
    "duration": 372,
    "start_time": "2022-01-27T10:23:31.013Z"
   },
   {
    "duration": 315,
    "start_time": "2022-01-27T10:25:35.435Z"
   },
   {
    "duration": 278,
    "start_time": "2022-01-27T10:25:52.236Z"
   },
   {
    "duration": 334,
    "start_time": "2022-01-27T10:25:55.426Z"
   },
   {
    "duration": 302,
    "start_time": "2022-01-27T10:25:59.890Z"
   },
   {
    "duration": 308,
    "start_time": "2022-01-27T10:26:18.993Z"
   },
   {
    "duration": 320,
    "start_time": "2022-01-27T10:26:50.433Z"
   },
   {
    "duration": 427,
    "start_time": "2022-01-27T10:27:04.985Z"
   },
   {
    "duration": 420,
    "start_time": "2022-01-27T10:27:22.240Z"
   },
   {
    "duration": 181,
    "start_time": "2022-01-27T10:27:55.384Z"
   },
   {
    "duration": 189,
    "start_time": "2022-01-27T10:28:15.343Z"
   },
   {
    "duration": 247,
    "start_time": "2022-01-27T10:42:49.061Z"
   },
   {
    "duration": 181,
    "start_time": "2022-01-27T11:21:22.543Z"
   },
   {
    "duration": 174,
    "start_time": "2022-01-27T11:24:45.116Z"
   },
   {
    "duration": 275,
    "start_time": "2022-01-27T11:25:25.051Z"
   },
   {
    "duration": 156,
    "start_time": "2022-01-27T11:25:52.227Z"
   },
   {
    "duration": 76,
    "start_time": "2022-01-27T11:37:24.134Z"
   },
   {
    "duration": 123,
    "start_time": "2022-01-27T11:37:24.212Z"
   },
   {
    "duration": 40,
    "start_time": "2022-01-27T11:37:24.337Z"
   },
   {
    "duration": 8,
    "start_time": "2022-01-27T11:37:24.380Z"
   },
   {
    "duration": 67,
    "start_time": "2022-01-27T11:37:24.390Z"
   },
   {
    "duration": 550,
    "start_time": "2022-01-27T11:37:24.459Z"
   },
   {
    "duration": 30,
    "start_time": "2022-01-27T11:37:25.010Z"
   },
   {
    "duration": 287,
    "start_time": "2022-01-27T11:37:25.043Z"
   },
   {
    "duration": 323,
    "start_time": "2022-01-27T11:37:25.332Z"
   },
   {
    "duration": 179,
    "start_time": "2022-01-27T11:37:25.657Z"
   },
   {
    "duration": 489,
    "start_time": "2022-01-27T11:37:25.838Z"
   },
   {
    "duration": 309,
    "start_time": "2022-01-27T11:37:26.329Z"
   },
   {
    "duration": 255,
    "start_time": "2022-01-27T11:37:26.640Z"
   },
   {
    "duration": 246,
    "start_time": "2022-01-27T11:37:26.897Z"
   },
   {
    "duration": 115,
    "start_time": "2022-01-27T11:37:27.145Z"
   },
   {
    "duration": 816,
    "start_time": "2022-01-27T11:37:27.261Z"
   },
   {
    "duration": 838,
    "start_time": "2022-01-27T11:37:28.079Z"
   },
   {
    "duration": 11,
    "start_time": "2022-01-27T11:37:28.919Z"
   },
   {
    "duration": 22,
    "start_time": "2022-01-27T11:37:28.932Z"
   },
   {
    "duration": 263,
    "start_time": "2022-01-27T11:37:28.956Z"
   },
   {
    "duration": 278,
    "start_time": "2022-01-27T11:37:29.221Z"
   },
   {
    "duration": 310,
    "start_time": "2022-01-27T11:37:29.500Z"
   },
   {
    "duration": 217,
    "start_time": "2022-01-27T11:37:29.813Z"
   },
   {
    "duration": 351,
    "start_time": "2022-01-27T11:37:30.032Z"
   },
   {
    "duration": 420,
    "start_time": "2022-01-27T11:37:30.385Z"
   },
   {
    "duration": 256,
    "start_time": "2022-01-27T11:37:30.807Z"
   },
   {
    "duration": 294,
    "start_time": "2022-01-27T11:37:31.064Z"
   },
   {
    "duration": 191,
    "start_time": "2022-01-27T11:42:51.774Z"
   },
   {
    "duration": 307,
    "start_time": "2022-01-27T11:42:57.102Z"
   },
   {
    "duration": 185,
    "start_time": "2022-01-27T11:43:01.590Z"
   },
   {
    "duration": 233,
    "start_time": "2022-01-27T11:43:06.270Z"
   },
   {
    "duration": 153,
    "start_time": "2022-01-27T11:43:29.069Z"
   },
   {
    "duration": 54,
    "start_time": "2022-01-27T11:44:15.784Z"
   },
   {
    "duration": 76,
    "start_time": "2022-01-27T11:44:15.840Z"
   },
   {
    "duration": 35,
    "start_time": "2022-01-27T11:44:15.918Z"
   },
   {
    "duration": 6,
    "start_time": "2022-01-27T11:44:15.955Z"
   },
   {
    "duration": 29,
    "start_time": "2022-01-27T11:44:15.963Z"
   },
   {
    "duration": 570,
    "start_time": "2022-01-27T11:44:15.995Z"
   },
   {
    "duration": 21,
    "start_time": "2022-01-27T11:44:16.566Z"
   },
   {
    "duration": 371,
    "start_time": "2022-01-27T11:44:16.590Z"
   },
   {
    "duration": 549,
    "start_time": "2022-01-27T11:44:16.964Z"
   },
   {
    "duration": 183,
    "start_time": "2022-01-27T11:44:17.515Z"
   },
   {
    "duration": 297,
    "start_time": "2022-01-27T11:44:17.700Z"
   },
   {
    "duration": 311,
    "start_time": "2022-01-27T11:44:17.999Z"
   },
   {
    "duration": 248,
    "start_time": "2022-01-27T11:44:18.312Z"
   },
   {
    "duration": 238,
    "start_time": "2022-01-27T11:44:18.562Z"
   },
   {
    "duration": 204,
    "start_time": "2022-01-27T11:44:18.801Z"
   },
   {
    "duration": 733,
    "start_time": "2022-01-27T11:44:19.006Z"
   },
   {
    "duration": 558,
    "start_time": "2022-01-27T11:44:19.740Z"
   },
   {
    "duration": 8,
    "start_time": "2022-01-27T11:44:20.299Z"
   },
   {
    "duration": 37,
    "start_time": "2022-01-27T11:44:20.309Z"
   },
   {
    "duration": 328,
    "start_time": "2022-01-27T11:44:20.348Z"
   },
   {
    "duration": 282,
    "start_time": "2022-01-27T11:44:20.678Z"
   },
   {
    "duration": 310,
    "start_time": "2022-01-27T11:44:20.962Z"
   },
   {
    "duration": 284,
    "start_time": "2022-01-27T11:44:21.274Z"
   },
   {
    "duration": 300,
    "start_time": "2022-01-27T11:44:21.560Z"
   },
   {
    "duration": 206,
    "start_time": "2022-01-27T11:44:21.861Z"
   },
   {
    "duration": 263,
    "start_time": "2022-01-27T11:44:22.069Z"
   },
   {
    "duration": 291,
    "start_time": "2022-01-27T11:44:22.334Z"
   },
   {
    "duration": 257,
    "start_time": "2022-01-27T11:45:12.556Z"
   },
   {
    "duration": 54,
    "start_time": "2022-01-27T11:45:16.768Z"
   },
   {
    "duration": 74,
    "start_time": "2022-01-27T11:45:16.824Z"
   },
   {
    "duration": 38,
    "start_time": "2022-01-27T11:45:16.900Z"
   },
   {
    "duration": 6,
    "start_time": "2022-01-27T11:45:16.940Z"
   },
   {
    "duration": 31,
    "start_time": "2022-01-27T11:45:16.947Z"
   },
   {
    "duration": 561,
    "start_time": "2022-01-27T11:45:16.980Z"
   },
   {
    "duration": 22,
    "start_time": "2022-01-27T11:45:17.543Z"
   },
   {
    "duration": 303,
    "start_time": "2022-01-27T11:45:17.567Z"
   },
   {
    "duration": 406,
    "start_time": "2022-01-27T11:45:17.872Z"
   },
   {
    "duration": 176,
    "start_time": "2022-01-27T11:45:18.280Z"
   },
   {
    "duration": 302,
    "start_time": "2022-01-27T11:45:18.457Z"
   },
   {
    "duration": 319,
    "start_time": "2022-01-27T11:45:18.761Z"
   },
   {
    "duration": 266,
    "start_time": "2022-01-27T11:45:19.082Z"
   },
   {
    "duration": 249,
    "start_time": "2022-01-27T11:45:19.350Z"
   },
   {
    "duration": 247,
    "start_time": "2022-01-27T11:45:19.601Z"
   },
   {
    "duration": 1187,
    "start_time": "2022-01-27T11:45:19.849Z"
   },
   {
    "duration": 834,
    "start_time": "2022-01-27T11:45:21.038Z"
   },
   {
    "duration": 11,
    "start_time": "2022-01-27T11:45:21.874Z"
   },
   {
    "duration": 41,
    "start_time": "2022-01-27T11:45:21.887Z"
   },
   {
    "duration": 213,
    "start_time": "2022-01-27T11:45:21.929Z"
   },
   {
    "duration": 268,
    "start_time": "2022-01-27T11:45:22.144Z"
   },
   {
    "duration": 300,
    "start_time": "2022-01-27T11:45:22.413Z"
   },
   {
    "duration": 280,
    "start_time": "2022-01-27T11:45:22.716Z"
   },
   {
    "duration": 314,
    "start_time": "2022-01-27T11:45:22.997Z"
   },
   {
    "duration": 181,
    "start_time": "2022-01-27T11:45:23.313Z"
   },
   {
    "duration": 168,
    "start_time": "2022-01-27T11:45:23.496Z"
   },
   {
    "duration": 318,
    "start_time": "2022-01-27T11:45:23.666Z"
   },
   {
    "duration": 174,
    "start_time": "2022-01-27T11:46:06.755Z"
   },
   {
    "duration": 211,
    "start_time": "2022-01-27T11:46:13.245Z"
   },
   {
    "duration": 326,
    "start_time": "2022-01-27T11:46:59.995Z"
   },
   {
    "duration": 294,
    "start_time": "2022-01-27T11:47:12.834Z"
   },
   {
    "duration": 295,
    "start_time": "2022-01-27T11:47:33.435Z"
   },
   {
    "duration": 30,
    "start_time": "2022-01-27T11:48:10.299Z"
   },
   {
    "duration": 269,
    "start_time": "2022-01-27T11:48:21.082Z"
   },
   {
    "duration": 596,
    "start_time": "2022-01-27T11:48:23.354Z"
   },
   {
    "duration": 8,
    "start_time": "2022-01-27T11:48:32.329Z"
   },
   {
    "duration": 275,
    "start_time": "2022-01-27T11:48:49.746Z"
   },
   {
    "duration": 194,
    "start_time": "2022-01-27T11:48:57.522Z"
   },
   {
    "duration": 206,
    "start_time": "2022-01-27T11:49:07.457Z"
   },
   {
    "duration": 173,
    "start_time": "2022-01-27T11:59:26.090Z"
   },
   {
    "duration": 309,
    "start_time": "2022-01-27T12:06:39.931Z"
   },
   {
    "duration": 290,
    "start_time": "2022-01-27T12:07:02.972Z"
   },
   {
    "duration": 172,
    "start_time": "2022-01-27T12:07:07.683Z"
   },
   {
    "duration": 427,
    "start_time": "2022-01-27T12:07:15.795Z"
   },
   {
    "duration": 275,
    "start_time": "2022-01-27T12:07:18.067Z"
   },
   {
    "duration": 706,
    "start_time": "2022-01-27T19:14:43.993Z"
   },
   {
    "duration": 74,
    "start_time": "2022-01-27T19:14:44.701Z"
   },
   {
    "duration": 39,
    "start_time": "2022-01-27T19:14:44.777Z"
   },
   {
    "duration": 6,
    "start_time": "2022-01-27T19:14:44.818Z"
   },
   {
    "duration": 26,
    "start_time": "2022-01-27T19:14:44.826Z"
   },
   {
    "duration": 566,
    "start_time": "2022-01-27T19:14:44.853Z"
   },
   {
    "duration": 21,
    "start_time": "2022-01-27T19:14:45.421Z"
   },
   {
    "duration": 349,
    "start_time": "2022-01-27T19:14:45.443Z"
   },
   {
    "duration": 341,
    "start_time": "2022-01-27T19:14:45.794Z"
   },
   {
    "duration": 198,
    "start_time": "2022-01-27T19:14:46.136Z"
   },
   {
    "duration": 324,
    "start_time": "2022-01-27T19:14:46.336Z"
   },
   {
    "duration": 341,
    "start_time": "2022-01-27T19:14:46.662Z"
   },
   {
    "duration": 268,
    "start_time": "2022-01-27T19:14:47.005Z"
   },
   {
    "duration": 321,
    "start_time": "2022-01-27T19:14:47.274Z"
   },
   {
    "duration": 119,
    "start_time": "2022-01-27T19:14:47.596Z"
   },
   {
    "duration": 777,
    "start_time": "2022-01-27T19:14:47.716Z"
   },
   {
    "duration": 555,
    "start_time": "2022-01-27T19:14:48.495Z"
   },
   {
    "duration": 7,
    "start_time": "2022-01-27T19:14:49.051Z"
   },
   {
    "duration": 19,
    "start_time": "2022-01-27T19:14:49.059Z"
   },
   {
    "duration": 220,
    "start_time": "2022-01-27T19:14:49.080Z"
   },
   {
    "duration": 278,
    "start_time": "2022-01-27T19:14:49.302Z"
   },
   {
    "duration": 367,
    "start_time": "2022-01-27T19:14:49.582Z"
   },
   {
    "duration": 219,
    "start_time": "2022-01-27T19:14:49.950Z"
   },
   {
    "duration": 320,
    "start_time": "2022-01-27T19:14:50.171Z"
   },
   {
    "duration": 198,
    "start_time": "2022-01-27T19:14:50.493Z"
   },
   {
    "duration": 200,
    "start_time": "2022-01-27T19:14:50.693Z"
   },
   {
    "duration": 175,
    "start_time": "2022-01-27T19:14:50.896Z"
   },
   {
    "duration": 221,
    "start_time": "2022-01-27T19:14:51.072Z"
   },
   {
    "duration": 204,
    "start_time": "2022-01-27T19:14:51.295Z"
   },
   {
    "duration": 226,
    "start_time": "2022-01-27T19:14:51.501Z"
   },
   {
    "duration": 188,
    "start_time": "2022-01-27T19:14:51.729Z"
   },
   {
    "duration": 697,
    "start_time": "2022-01-28T11:20:10.663Z"
   },
   {
    "duration": 1036,
    "start_time": "2022-01-28T11:20:14.399Z"
   },
   {
    "duration": 113,
    "start_time": "2022-01-28T11:20:15.437Z"
   },
   {
    "duration": 42,
    "start_time": "2022-01-28T11:20:15.559Z"
   },
   {
    "duration": 15,
    "start_time": "2022-01-28T11:20:15.604Z"
   },
   {
    "duration": 72,
    "start_time": "2022-01-28T11:20:15.621Z"
   },
   {
    "duration": 1004,
    "start_time": "2022-01-28T11:20:15.695Z"
   },
   {
    "duration": 38,
    "start_time": "2022-01-28T11:20:16.701Z"
   },
   {
    "duration": 586,
    "start_time": "2022-01-28T11:20:16.743Z"
   },
   {
    "duration": 566,
    "start_time": "2022-01-28T11:20:17.333Z"
   },
   {
    "duration": 345,
    "start_time": "2022-01-28T11:20:17.902Z"
   },
   {
    "duration": 685,
    "start_time": "2022-01-28T11:20:18.250Z"
   },
   {
    "duration": 733,
    "start_time": "2022-01-28T11:20:18.938Z"
   },
   {
    "duration": 477,
    "start_time": "2022-01-28T11:20:19.674Z"
   },
   {
    "duration": 523,
    "start_time": "2022-01-28T11:20:20.154Z"
   },
   {
    "duration": 191,
    "start_time": "2022-01-28T11:20:20.680Z"
   },
   {
    "duration": 1394,
    "start_time": "2022-01-28T11:20:20.873Z"
   },
   {
    "duration": 918,
    "start_time": "2022-01-28T11:20:22.269Z"
   },
   {
    "duration": 12,
    "start_time": "2022-01-28T11:20:23.189Z"
   },
   {
    "duration": 30,
    "start_time": "2022-01-28T11:20:23.203Z"
   },
   {
    "duration": 377,
    "start_time": "2022-01-28T11:20:23.235Z"
   },
   {
    "duration": 482,
    "start_time": "2022-01-28T11:20:23.614Z"
   },
   {
    "duration": 596,
    "start_time": "2022-01-28T11:20:24.098Z"
   },
   {
    "duration": 384,
    "start_time": "2022-01-28T11:20:24.699Z"
   },
   {
    "duration": 595,
    "start_time": "2022-01-28T11:20:25.086Z"
   },
   {
    "duration": 340,
    "start_time": "2022-01-28T11:20:25.684Z"
   },
   {
    "duration": 336,
    "start_time": "2022-01-28T11:20:26.027Z"
   },
   {
    "duration": 285,
    "start_time": "2022-01-28T11:20:26.365Z"
   },
   {
    "duration": 356,
    "start_time": "2022-01-28T11:20:26.653Z"
   },
   {
    "duration": 356,
    "start_time": "2022-01-28T11:20:27.011Z"
   },
   {
    "duration": 384,
    "start_time": "2022-01-28T11:20:27.369Z"
   },
   {
    "duration": 362,
    "start_time": "2022-01-28T11:20:27.760Z"
   },
   {
    "duration": 621,
    "start_time": "2022-01-28T11:20:39.927Z"
   },
   {
    "duration": 554,
    "start_time": "2022-01-28T11:21:01.591Z"
   },
   {
    "duration": 543,
    "start_time": "2022-01-28T11:21:05.927Z"
   },
   {
    "duration": 569,
    "start_time": "2022-01-28T11:21:17.254Z"
   },
   {
    "duration": 27,
    "start_time": "2022-01-28T11:23:38.957Z"
   },
   {
    "duration": 101,
    "start_time": "2022-01-28T11:25:33.524Z"
   },
   {
    "duration": 105,
    "start_time": "2022-01-28T11:25:38.516Z"
   },
   {
    "duration": 497,
    "start_time": "2022-01-28T11:26:26.147Z"
   },
   {
    "duration": 383,
    "start_time": "2022-01-28T11:26:48.147Z"
   },
   {
    "duration": 348,
    "start_time": "2022-01-28T11:27:42.514Z"
   },
   {
    "duration": 301,
    "start_time": "2022-01-31T06:02:54.325Z"
   },
   {
    "duration": 699,
    "start_time": "2022-01-31T06:02:57.644Z"
   },
   {
    "duration": 71,
    "start_time": "2022-01-31T06:02:58.345Z"
   },
   {
    "duration": 28,
    "start_time": "2022-01-31T06:02:58.418Z"
   },
   {
    "duration": 24,
    "start_time": "2022-01-31T06:02:58.448Z"
   },
   {
    "duration": 26,
    "start_time": "2022-01-31T06:02:58.474Z"
   },
   {
    "duration": 544,
    "start_time": "2022-01-31T06:02:58.502Z"
   },
   {
    "duration": 36,
    "start_time": "2022-01-31T06:02:59.048Z"
   },
   {
    "duration": 318,
    "start_time": "2022-01-31T06:02:59.087Z"
   },
   {
    "duration": 304,
    "start_time": "2022-01-31T06:02:59.407Z"
   },
   {
    "duration": 176,
    "start_time": "2022-01-31T06:02:59.713Z"
   },
   {
    "duration": 300,
    "start_time": "2022-01-31T06:02:59.891Z"
   },
   {
    "duration": 333,
    "start_time": "2022-01-31T06:03:00.193Z"
   },
   {
    "duration": 250,
    "start_time": "2022-01-31T06:03:00.528Z"
   },
   {
    "duration": 349,
    "start_time": "2022-01-31T06:03:00.779Z"
   },
   {
    "duration": 128,
    "start_time": "2022-01-31T06:03:01.130Z"
   },
   {
    "duration": 738,
    "start_time": "2022-01-31T06:03:01.260Z"
   },
   {
    "duration": 512,
    "start_time": "2022-01-31T06:03:02.000Z"
   },
   {
    "duration": 8,
    "start_time": "2022-01-31T06:03:02.513Z"
   },
   {
    "duration": 20,
    "start_time": "2022-01-31T06:03:02.522Z"
   },
   {
    "duration": 207,
    "start_time": "2022-01-31T06:03:02.543Z"
   },
   {
    "duration": 265,
    "start_time": "2022-01-31T06:03:02.752Z"
   },
   {
    "duration": 357,
    "start_time": "2022-01-31T06:03:03.019Z"
   },
   {
    "duration": 185,
    "start_time": "2022-01-31T06:03:03.379Z"
   },
   {
    "duration": 273,
    "start_time": "2022-01-31T06:03:03.565Z"
   },
   {
    "duration": 293,
    "start_time": "2022-01-31T06:03:03.839Z"
   },
   {
    "duration": -219,
    "start_time": "2022-01-31T06:03:04.353Z"
   },
   {
    "duration": -221,
    "start_time": "2022-01-31T06:03:04.356Z"
   },
   {
    "duration": -224,
    "start_time": "2022-01-31T06:03:04.359Z"
   },
   {
    "duration": -235,
    "start_time": "2022-01-31T06:03:04.371Z"
   },
   {
    "duration": -238,
    "start_time": "2022-01-31T06:03:04.375Z"
   },
   {
    "duration": -240,
    "start_time": "2022-01-31T06:03:04.378Z"
   },
   {
    "duration": 6,
    "start_time": "2022-01-31T06:24:01.652Z"
   },
   {
    "duration": 59,
    "start_time": "2022-01-31T06:24:11.019Z"
   },
   {
    "duration": 100,
    "start_time": "2022-01-31T06:24:11.080Z"
   },
   {
    "duration": 26,
    "start_time": "2022-01-31T06:24:11.182Z"
   },
   {
    "duration": 7,
    "start_time": "2022-01-31T06:24:11.210Z"
   },
   {
    "duration": 27,
    "start_time": "2022-01-31T06:24:11.218Z"
   },
   {
    "duration": 584,
    "start_time": "2022-01-31T06:24:11.271Z"
   },
   {
    "duration": 29,
    "start_time": "2022-01-31T06:24:11.856Z"
   },
   {
    "duration": 279,
    "start_time": "2022-01-31T06:24:11.888Z"
   },
   {
    "duration": 313,
    "start_time": "2022-01-31T06:24:12.171Z"
   },
   {
    "duration": 233,
    "start_time": "2022-01-31T06:24:12.486Z"
   },
   {
    "duration": 320,
    "start_time": "2022-01-31T06:24:12.721Z"
   },
   {
    "duration": 428,
    "start_time": "2022-01-31T06:24:13.043Z"
   },
   {
    "duration": 343,
    "start_time": "2022-01-31T06:24:13.474Z"
   },
   {
    "duration": 243,
    "start_time": "2022-01-31T06:24:13.818Z"
   },
   {
    "duration": 117,
    "start_time": "2022-01-31T06:24:14.063Z"
   },
   {
    "duration": 793,
    "start_time": "2022-01-31T06:24:14.181Z"
   },
   {
    "duration": 530,
    "start_time": "2022-01-31T06:24:14.976Z"
   },
   {
    "duration": 7,
    "start_time": "2022-01-31T06:24:15.508Z"
   },
   {
    "duration": 19,
    "start_time": "2022-01-31T06:24:15.517Z"
   },
   {
    "duration": 218,
    "start_time": "2022-01-31T06:24:15.538Z"
   },
   {
    "duration": 265,
    "start_time": "2022-01-31T06:24:15.758Z"
   },
   {
    "duration": 296,
    "start_time": "2022-01-31T06:24:16.025Z"
   },
   {
    "duration": 180,
    "start_time": "2022-01-31T06:24:16.324Z"
   },
   {
    "duration": 366,
    "start_time": "2022-01-31T06:24:16.505Z"
   },
   {
    "duration": 285,
    "start_time": "2022-01-31T06:24:16.873Z"
   },
   {
    "duration": -264,
    "start_time": "2022-01-31T06:24:17.424Z"
   },
   {
    "duration": -270,
    "start_time": "2022-01-31T06:24:17.432Z"
   },
   {
    "duration": -274,
    "start_time": "2022-01-31T06:24:17.437Z"
   },
   {
    "duration": -278,
    "start_time": "2022-01-31T06:24:17.442Z"
   },
   {
    "duration": -280,
    "start_time": "2022-01-31T06:24:17.446Z"
   },
   {
    "duration": -283,
    "start_time": "2022-01-31T06:24:17.450Z"
   },
   {
    "duration": 87,
    "start_time": "2022-01-31T06:25:21.851Z"
   },
   {
    "duration": 464,
    "start_time": "2022-01-31T06:25:43.235Z"
   },
   {
    "duration": 295,
    "start_time": "2022-01-31T06:27:35.444Z"
   },
   {
    "duration": 289,
    "start_time": "2022-01-31T06:27:41.553Z"
   },
   {
    "duration": 292,
    "start_time": "2022-01-31T06:27:51.672Z"
   },
   {
    "duration": 268,
    "start_time": "2022-01-31T06:28:09.193Z"
   },
   {
    "duration": 364,
    "start_time": "2022-01-31T06:28:16.977Z"
   },
   {
    "duration": 302,
    "start_time": "2022-01-31T06:29:56.782Z"
   },
   {
    "duration": 166,
    "start_time": "2022-01-31T06:33:41.109Z"
   },
   {
    "duration": 305,
    "start_time": "2022-01-31T06:33:43.373Z"
   },
   {
    "duration": 318,
    "start_time": "2022-01-31T06:33:55.964Z"
   },
   {
    "duration": 312,
    "start_time": "2022-01-31T06:38:37.073Z"
   },
   {
    "duration": 368,
    "start_time": "2022-01-31T06:38:40.529Z"
   },
   {
    "duration": 336,
    "start_time": "2022-01-31T06:39:01.873Z"
   },
   {
    "duration": 1024,
    "start_time": "2022-01-31T06:53:39.334Z"
   },
   {
    "duration": 190,
    "start_time": "2022-01-31T07:01:52.976Z"
   },
   {
    "duration": 189,
    "start_time": "2022-01-31T07:03:28.582Z"
   },
   {
    "duration": 190,
    "start_time": "2022-01-31T07:03:32.030Z"
   },
   {
    "duration": 311,
    "start_time": "2022-01-31T08:09:46.566Z"
   },
   {
    "duration": 7391,
    "start_time": "2022-01-31T08:09:58.484Z"
   },
   {
    "duration": 6810,
    "start_time": "2022-01-31T08:10:14.228Z"
   },
   {
    "duration": 183,
    "start_time": "2022-01-31T08:10:32.868Z"
   },
   {
    "duration": 236,
    "start_time": "2022-01-31T08:10:46.259Z"
   },
   {
    "duration": 165,
    "start_time": "2022-01-31T08:11:37.411Z"
   },
   {
    "duration": 161,
    "start_time": "2022-01-31T08:11:43.923Z"
   },
   {
    "duration": 57,
    "start_time": "2022-01-31T08:11:48.266Z"
   },
   {
    "duration": 82,
    "start_time": "2022-01-31T08:11:48.325Z"
   },
   {
    "duration": 26,
    "start_time": "2022-01-31T08:11:48.408Z"
   },
   {
    "duration": 5,
    "start_time": "2022-01-31T08:11:48.436Z"
   },
   {
    "duration": 50,
    "start_time": "2022-01-31T08:11:48.443Z"
   },
   {
    "duration": 524,
    "start_time": "2022-01-31T08:11:48.495Z"
   },
   {
    "duration": 20,
    "start_time": "2022-01-31T08:11:49.021Z"
   },
   {
    "duration": 277,
    "start_time": "2022-01-31T08:11:49.043Z"
   },
   {
    "duration": 280,
    "start_time": "2022-01-31T08:11:49.322Z"
   },
   {
    "duration": 363,
    "start_time": "2022-01-31T08:11:49.603Z"
   },
   {
    "duration": 174,
    "start_time": "2022-01-31T08:11:49.971Z"
   },
   {
    "duration": 290,
    "start_time": "2022-01-31T08:11:50.147Z"
   },
   {
    "duration": 297,
    "start_time": "2022-01-31T08:11:50.439Z"
   },
   {
    "duration": 250,
    "start_time": "2022-01-31T08:11:50.737Z"
   },
   {
    "duration": 241,
    "start_time": "2022-01-31T08:11:50.988Z"
   },
   {
    "duration": 109,
    "start_time": "2022-01-31T08:11:51.231Z"
   },
   {
    "duration": 783,
    "start_time": "2022-01-31T08:11:51.341Z"
   },
   {
    "duration": 507,
    "start_time": "2022-01-31T08:11:52.125Z"
   },
   {
    "duration": 7,
    "start_time": "2022-01-31T08:11:52.634Z"
   },
   {
    "duration": 30,
    "start_time": "2022-01-31T08:11:52.642Z"
   },
   {
    "duration": 177,
    "start_time": "2022-01-31T08:11:52.673Z"
   },
   {
    "duration": 344,
    "start_time": "2022-01-31T08:11:52.852Z"
   },
   {
    "duration": -291,
    "start_time": "2022-01-31T08:11:53.489Z"
   },
   {
    "duration": -300,
    "start_time": "2022-01-31T08:11:53.499Z"
   },
   {
    "duration": -306,
    "start_time": "2022-01-31T08:11:53.506Z"
   },
   {
    "duration": -313,
    "start_time": "2022-01-31T08:11:53.514Z"
   },
   {
    "duration": -318,
    "start_time": "2022-01-31T08:11:53.519Z"
   },
   {
    "duration": -327,
    "start_time": "2022-01-31T08:11:53.529Z"
   },
   {
    "duration": -331,
    "start_time": "2022-01-31T08:11:53.534Z"
   },
   {
    "duration": -333,
    "start_time": "2022-01-31T08:11:53.537Z"
   },
   {
    "duration": -342,
    "start_time": "2022-01-31T08:11:53.547Z"
   },
   {
    "duration": -345,
    "start_time": "2022-01-31T08:11:53.551Z"
   },
   {
    "duration": 93,
    "start_time": "2022-01-31T08:12:45.827Z"
   },
   {
    "duration": 190,
    "start_time": "2022-01-31T08:12:52.051Z"
   },
   {
    "duration": 198,
    "start_time": "2022-01-31T08:13:06.794Z"
   },
   {
    "duration": 56,
    "start_time": "2022-01-31T08:14:03.981Z"
   },
   {
    "duration": 71,
    "start_time": "2022-01-31T08:14:04.039Z"
   },
   {
    "duration": 24,
    "start_time": "2022-01-31T08:14:04.112Z"
   },
   {
    "duration": 5,
    "start_time": "2022-01-31T08:14:04.138Z"
   },
   {
    "duration": 45,
    "start_time": "2022-01-31T08:14:04.145Z"
   },
   {
    "duration": 600,
    "start_time": "2022-01-31T08:14:04.192Z"
   },
   {
    "duration": 22,
    "start_time": "2022-01-31T08:14:04.793Z"
   },
   {
    "duration": 280,
    "start_time": "2022-01-31T08:14:04.816Z"
   },
   {
    "duration": 295,
    "start_time": "2022-01-31T08:14:05.098Z"
   },
   {
    "duration": 313,
    "start_time": "2022-01-31T08:14:05.395Z"
   },
   {
    "duration": 183,
    "start_time": "2022-01-31T08:14:05.709Z"
   },
   {
    "duration": 288,
    "start_time": "2022-01-31T08:14:05.893Z"
   },
   {
    "duration": 372,
    "start_time": "2022-01-31T08:14:06.183Z"
   },
   {
    "duration": 234,
    "start_time": "2022-01-31T08:14:06.556Z"
   },
   {
    "duration": 234,
    "start_time": "2022-01-31T08:14:06.791Z"
   },
   {
    "duration": 108,
    "start_time": "2022-01-31T08:14:07.027Z"
   },
   {
    "duration": 698,
    "start_time": "2022-01-31T08:14:07.137Z"
   },
   {
    "duration": 600,
    "start_time": "2022-01-31T08:14:07.837Z"
   },
   {
    "duration": 7,
    "start_time": "2022-01-31T08:14:08.438Z"
   },
   {
    "duration": 26,
    "start_time": "2022-01-31T08:14:08.446Z"
   },
   {
    "duration": 198,
    "start_time": "2022-01-31T08:14:08.474Z"
   },
   {
    "duration": 255,
    "start_time": "2022-01-31T08:14:08.673Z"
   },
   {
    "duration": 275,
    "start_time": "2022-01-31T08:14:08.929Z"
   },
   {
    "duration": 176,
    "start_time": "2022-01-31T08:14:09.205Z"
   },
   {
    "duration": 274,
    "start_time": "2022-01-31T08:14:09.382Z"
   },
   {
    "duration": 291,
    "start_time": "2022-01-31T08:14:09.657Z"
   },
   {
    "duration": -261,
    "start_time": "2022-01-31T08:14:10.211Z"
   },
   {
    "duration": -263,
    "start_time": "2022-01-31T08:14:10.214Z"
   },
   {
    "duration": -265,
    "start_time": "2022-01-31T08:14:10.217Z"
   },
   {
    "duration": -267,
    "start_time": "2022-01-31T08:14:10.219Z"
   },
   {
    "duration": -276,
    "start_time": "2022-01-31T08:14:10.229Z"
   },
   {
    "duration": -279,
    "start_time": "2022-01-31T08:14:10.232Z"
   },
   {
    "duration": 273,
    "start_time": "2022-01-31T08:14:44.881Z"
   },
   {
    "duration": 112,
    "start_time": "2022-01-31T08:15:13.864Z"
   },
   {
    "duration": 281,
    "start_time": "2022-01-31T08:15:32.496Z"
   },
   {
    "duration": 241,
    "start_time": "2022-01-31T08:15:45.449Z"
   },
   {
    "duration": 398,
    "start_time": "2022-01-31T08:16:15.071Z"
   },
   {
    "duration": 266,
    "start_time": "2022-01-31T08:16:20.455Z"
   },
   {
    "duration": 88,
    "start_time": "2022-01-31T08:16:24.935Z"
   },
   {
    "duration": 66,
    "start_time": "2022-01-31T08:18:20.509Z"
   },
   {
    "duration": 107,
    "start_time": "2022-01-31T08:18:20.577Z"
   },
   {
    "duration": 26,
    "start_time": "2022-01-31T08:18:20.687Z"
   },
   {
    "duration": 6,
    "start_time": "2022-01-31T08:18:20.715Z"
   },
   {
    "duration": 50,
    "start_time": "2022-01-31T08:18:20.723Z"
   },
   {
    "duration": 630,
    "start_time": "2022-01-31T08:18:20.775Z"
   },
   {
    "duration": 19,
    "start_time": "2022-01-31T08:18:21.407Z"
   },
   {
    "duration": 285,
    "start_time": "2022-01-31T08:18:21.428Z"
   },
   {
    "duration": 286,
    "start_time": "2022-01-31T08:18:21.715Z"
   },
   {
    "duration": 308,
    "start_time": "2022-01-31T08:18:22.003Z"
   },
   {
    "duration": 175,
    "start_time": "2022-01-31T08:18:22.313Z"
   },
   {
    "duration": 307,
    "start_time": "2022-01-31T08:18:22.490Z"
   },
   {
    "duration": 388,
    "start_time": "2022-01-31T08:18:22.798Z"
   },
   {
    "duration": 245,
    "start_time": "2022-01-31T08:18:23.187Z"
   },
   {
    "duration": 246,
    "start_time": "2022-01-31T08:18:23.433Z"
   },
   {
    "duration": 106,
    "start_time": "2022-01-31T08:18:23.680Z"
   },
   {
    "duration": 698,
    "start_time": "2022-01-31T08:18:23.788Z"
   },
   {
    "duration": 510,
    "start_time": "2022-01-31T08:18:24.487Z"
   },
   {
    "duration": 7,
    "start_time": "2022-01-31T08:18:24.998Z"
   },
   {
    "duration": 24,
    "start_time": "2022-01-31T08:18:25.006Z"
   },
   {
    "duration": 272,
    "start_time": "2022-01-31T08:18:25.032Z"
   },
   {
    "duration": -266,
    "start_time": "2022-01-31T08:18:25.573Z"
   },
   {
    "duration": -268,
    "start_time": "2022-01-31T08:18:25.576Z"
   },
   {
    "duration": -273,
    "start_time": "2022-01-31T08:18:25.581Z"
   },
   {
    "duration": -275,
    "start_time": "2022-01-31T08:18:25.584Z"
   },
   {
    "duration": -279,
    "start_time": "2022-01-31T08:18:25.589Z"
   },
   {
    "duration": -281,
    "start_time": "2022-01-31T08:18:25.592Z"
   },
   {
    "duration": -284,
    "start_time": "2022-01-31T08:18:25.596Z"
   },
   {
    "duration": -286,
    "start_time": "2022-01-31T08:18:25.599Z"
   },
   {
    "duration": -288,
    "start_time": "2022-01-31T08:18:25.602Z"
   },
   {
    "duration": -290,
    "start_time": "2022-01-31T08:18:25.605Z"
   },
   {
    "duration": -294,
    "start_time": "2022-01-31T08:18:25.609Z"
   },
   {
    "duration": 288,
    "start_time": "2022-01-31T08:18:44.813Z"
   },
   {
    "duration": 59,
    "start_time": "2022-01-31T08:18:59.988Z"
   },
   {
    "duration": 72,
    "start_time": "2022-01-31T08:19:00.048Z"
   },
   {
    "duration": 26,
    "start_time": "2022-01-31T08:19:00.122Z"
   },
   {
    "duration": 25,
    "start_time": "2022-01-31T08:19:00.150Z"
   },
   {
    "duration": 28,
    "start_time": "2022-01-31T08:19:00.176Z"
   },
   {
    "duration": 550,
    "start_time": "2022-01-31T08:19:00.205Z"
   },
   {
    "duration": 29,
    "start_time": "2022-01-31T08:19:00.757Z"
   },
   {
    "duration": 291,
    "start_time": "2022-01-31T08:19:00.789Z"
   },
   {
    "duration": 300,
    "start_time": "2022-01-31T08:19:01.082Z"
   },
   {
    "duration": 319,
    "start_time": "2022-01-31T08:19:01.383Z"
   },
   {
    "duration": 175,
    "start_time": "2022-01-31T08:19:01.704Z"
   },
   {
    "duration": 376,
    "start_time": "2022-01-31T08:19:01.880Z"
   },
   {
    "duration": 306,
    "start_time": "2022-01-31T08:19:02.258Z"
   },
   {
    "duration": 238,
    "start_time": "2022-01-31T08:19:02.566Z"
   },
   {
    "duration": 243,
    "start_time": "2022-01-31T08:19:02.806Z"
   },
   {
    "duration": 111,
    "start_time": "2022-01-31T08:19:03.050Z"
   },
   {
    "duration": 798,
    "start_time": "2022-01-31T08:19:03.163Z"
   },
   {
    "duration": 512,
    "start_time": "2022-01-31T08:19:03.962Z"
   },
   {
    "duration": 7,
    "start_time": "2022-01-31T08:19:04.476Z"
   },
   {
    "duration": 53,
    "start_time": "2022-01-31T08:19:04.485Z"
   },
   {
    "duration": 202,
    "start_time": "2022-01-31T08:19:04.540Z"
   },
   {
    "duration": 275,
    "start_time": "2022-01-31T08:19:04.744Z"
   },
   {
    "duration": 286,
    "start_time": "2022-01-31T08:19:05.022Z"
   },
   {
    "duration": 182,
    "start_time": "2022-01-31T08:19:05.309Z"
   },
   {
    "duration": 287,
    "start_time": "2022-01-31T08:19:05.493Z"
   },
   {
    "duration": 297,
    "start_time": "2022-01-31T08:19:05.782Z"
   },
   {
    "duration": -269,
    "start_time": "2022-01-31T08:19:06.350Z"
   },
   {
    "duration": -272,
    "start_time": "2022-01-31T08:19:06.353Z"
   },
   {
    "duration": -274,
    "start_time": "2022-01-31T08:19:06.356Z"
   },
   {
    "duration": -278,
    "start_time": "2022-01-31T08:19:06.361Z"
   },
   {
    "duration": -280,
    "start_time": "2022-01-31T08:19:06.364Z"
   },
   {
    "duration": -282,
    "start_time": "2022-01-31T08:19:06.367Z"
   },
   {
    "duration": 285,
    "start_time": "2022-01-31T08:21:49.195Z"
   },
   {
    "duration": 278,
    "start_time": "2022-01-31T08:22:01.642Z"
   },
   {
    "duration": 301,
    "start_time": "2022-01-31T08:22:58.410Z"
   },
   {
    "duration": 218,
    "start_time": "2022-01-31T08:23:06.666Z"
   },
   {
    "duration": 284,
    "start_time": "2022-01-31T08:23:42.682Z"
   },
   {
    "duration": 180,
    "start_time": "2022-01-31T08:23:59.793Z"
   },
   {
    "duration": 203,
    "start_time": "2022-01-31T08:25:08.697Z"
   },
   {
    "duration": 287,
    "start_time": "2022-01-31T08:30:27.700Z"
   },
   {
    "duration": 780,
    "start_time": "2022-01-31T08:30:44.076Z"
   },
   {
    "duration": 84,
    "start_time": "2022-01-31T08:30:52.804Z"
   },
   {
    "duration": 844,
    "start_time": "2022-01-31T08:30:56.701Z"
   },
   {
    "duration": 380,
    "start_time": "2022-01-31T08:32:23.179Z"
   },
   {
    "duration": 306,
    "start_time": "2022-01-31T08:32:35.387Z"
   },
   {
    "duration": 285,
    "start_time": "2022-01-31T08:36:07.832Z"
   },
   {
    "duration": 173,
    "start_time": "2022-01-31T08:43:31.931Z"
   },
   {
    "duration": 58,
    "start_time": "2022-01-31T08:43:35.834Z"
   },
   {
    "duration": 97,
    "start_time": "2022-01-31T08:43:35.894Z"
   },
   {
    "duration": 29,
    "start_time": "2022-01-31T08:43:35.993Z"
   },
   {
    "duration": 8,
    "start_time": "2022-01-31T08:43:36.024Z"
   },
   {
    "duration": 58,
    "start_time": "2022-01-31T08:43:36.034Z"
   },
   {
    "duration": 556,
    "start_time": "2022-01-31T08:43:36.094Z"
   },
   {
    "duration": 34,
    "start_time": "2022-01-31T08:43:36.652Z"
   },
   {
    "duration": 290,
    "start_time": "2022-01-31T08:43:36.688Z"
   },
   {
    "duration": 376,
    "start_time": "2022-01-31T08:43:36.981Z"
   },
   {
    "duration": 320,
    "start_time": "2022-01-31T08:43:37.359Z"
   },
   {
    "duration": 183,
    "start_time": "2022-01-31T08:43:37.681Z"
   },
   {
    "duration": 308,
    "start_time": "2022-01-31T08:43:37.866Z"
   },
   {
    "duration": 315,
    "start_time": "2022-01-31T08:43:38.176Z"
   },
   {
    "duration": 249,
    "start_time": "2022-01-31T08:43:38.492Z"
   },
   {
    "duration": 351,
    "start_time": "2022-01-31T08:43:38.742Z"
   },
   {
    "duration": 112,
    "start_time": "2022-01-31T08:43:39.095Z"
   },
   {
    "duration": 719,
    "start_time": "2022-01-31T08:43:39.209Z"
   },
   {
    "duration": 525,
    "start_time": "2022-01-31T08:43:39.930Z"
   },
   {
    "duration": 7,
    "start_time": "2022-01-31T08:43:40.456Z"
   },
   {
    "duration": 16,
    "start_time": "2022-01-31T08:43:40.472Z"
   },
   {
    "duration": 223,
    "start_time": "2022-01-31T08:43:40.490Z"
   },
   {
    "duration": 283,
    "start_time": "2022-01-31T08:43:40.715Z"
   },
   {
    "duration": 412,
    "start_time": "2022-01-31T08:43:41.001Z"
   },
   {
    "duration": 204,
    "start_time": "2022-01-31T08:43:41.415Z"
   },
   {
    "duration": 316,
    "start_time": "2022-01-31T08:43:41.621Z"
   },
   {
    "duration": 185,
    "start_time": "2022-01-31T08:43:41.939Z"
   },
   {
    "duration": 206,
    "start_time": "2022-01-31T08:43:42.126Z"
   },
   {
    "duration": 177,
    "start_time": "2022-01-31T08:43:42.334Z"
   },
   {
    "duration": 209,
    "start_time": "2022-01-31T08:43:42.513Z"
   },
   {
    "duration": 183,
    "start_time": "2022-01-31T08:43:42.724Z"
   },
   {
    "duration": 227,
    "start_time": "2022-01-31T08:43:42.908Z"
   },
   {
    "duration": 189,
    "start_time": "2022-01-31T08:43:43.137Z"
   },
   {
    "duration": 93,
    "start_time": "2022-01-31T08:44:17.524Z"
   },
   {
    "duration": 172,
    "start_time": "2022-01-31T08:44:21.794Z"
   },
   {
    "duration": 172,
    "start_time": "2022-01-31T08:44:37.688Z"
   },
   {
    "duration": 301,
    "start_time": "2022-01-31T08:45:18.609Z"
   },
   {
    "duration": 174,
    "start_time": "2022-01-31T09:42:25.679Z"
   },
   {
    "duration": 188,
    "start_time": "2022-01-31T09:42:44.973Z"
   },
   {
    "duration": 205,
    "start_time": "2022-01-31T09:42:47.133Z"
   },
   {
    "duration": 297,
    "start_time": "2022-01-31T09:43:01.822Z"
   },
   {
    "duration": 329,
    "start_time": "2022-01-31T09:43:31.077Z"
   },
   {
    "duration": 331,
    "start_time": "2022-01-31T09:43:36.718Z"
   },
   {
    "duration": 218,
    "start_time": "2022-01-31T09:43:42.796Z"
   },
   {
    "duration": 163,
    "start_time": "2022-01-31T09:44:01.437Z"
   },
   {
    "duration": 194,
    "start_time": "2022-01-31T09:44:22.997Z"
   },
   {
    "duration": 178,
    "start_time": "2022-01-31T09:44:54.853Z"
   },
   {
    "duration": 319,
    "start_time": "2022-01-31T09:45:11.524Z"
   },
   {
    "duration": 394,
    "start_time": "2022-01-31T09:45:23.893Z"
   },
   {
    "duration": 185,
    "start_time": "2022-01-31T09:45:45.908Z"
   },
   {
    "duration": 260,
    "start_time": "2022-01-31T09:57:18.811Z"
   },
   {
    "duration": 212,
    "start_time": "2022-01-31T09:58:20.442Z"
   },
   {
    "duration": 337,
    "start_time": "2022-01-31T10:27:31.493Z"
   },
   {
    "duration": 103,
    "start_time": "2022-01-31T11:52:25.999Z"
   },
   {
    "duration": 81,
    "start_time": "2022-01-31T11:52:31.291Z"
   },
   {
    "duration": 83,
    "start_time": "2022-01-31T11:52:34.565Z"
   },
   {
    "duration": 103,
    "start_time": "2022-01-31T11:52:36.803Z"
   },
   {
    "duration": 60,
    "start_time": "2022-01-31T11:52:39.955Z"
   },
   {
    "duration": 78,
    "start_time": "2022-01-31T11:52:40.219Z"
   },
   {
    "duration": 91,
    "start_time": "2022-01-31T11:52:40.470Z"
   },
   {
    "duration": -624,
    "start_time": "2022-01-31T11:52:41.188Z"
   },
   {
    "duration": -626,
    "start_time": "2022-01-31T11:52:41.191Z"
   },
   {
    "duration": -629,
    "start_time": "2022-01-31T11:52:41.195Z"
   },
   {
    "duration": -631,
    "start_time": "2022-01-31T11:52:41.198Z"
   },
   {
    "duration": -637,
    "start_time": "2022-01-31T11:52:41.204Z"
   },
   {
    "duration": -639,
    "start_time": "2022-01-31T11:52:41.207Z"
   },
   {
    "duration": -641,
    "start_time": "2022-01-31T11:52:41.210Z"
   },
   {
    "duration": -643,
    "start_time": "2022-01-31T11:52:41.213Z"
   },
   {
    "duration": -645,
    "start_time": "2022-01-31T11:52:41.216Z"
   },
   {
    "duration": -649,
    "start_time": "2022-01-31T11:52:41.221Z"
   },
   {
    "duration": -651,
    "start_time": "2022-01-31T11:52:41.224Z"
   },
   {
    "duration": -652,
    "start_time": "2022-01-31T11:52:41.226Z"
   },
   {
    "duration": -655,
    "start_time": "2022-01-31T11:52:41.230Z"
   },
   {
    "duration": -657,
    "start_time": "2022-01-31T11:52:41.233Z"
   },
   {
    "duration": -660,
    "start_time": "2022-01-31T11:52:41.237Z"
   },
   {
    "duration": -662,
    "start_time": "2022-01-31T11:52:41.240Z"
   },
   {
    "duration": -665,
    "start_time": "2022-01-31T11:52:41.244Z"
   },
   {
    "duration": -669,
    "start_time": "2022-01-31T11:52:41.249Z"
   },
   {
    "duration": 297,
    "start_time": "2022-01-31T11:52:40.791Z"
   },
   {
    "duration": -212,
    "start_time": "2022-01-31T11:52:41.303Z"
   },
   {
    "duration": -216,
    "start_time": "2022-01-31T11:52:41.308Z"
   },
   {
    "duration": -218,
    "start_time": "2022-01-31T11:52:41.311Z"
   },
   {
    "duration": -221,
    "start_time": "2022-01-31T11:52:41.314Z"
   },
   {
    "duration": -223,
    "start_time": "2022-01-31T11:52:41.317Z"
   },
   {
    "duration": -228,
    "start_time": "2022-01-31T11:52:41.323Z"
   },
   {
    "duration": -264,
    "start_time": "2022-01-31T11:52:41.360Z"
   },
   {
    "duration": -266,
    "start_time": "2022-01-31T11:52:41.363Z"
   },
   {
    "duration": -268,
    "start_time": "2022-01-31T11:52:41.366Z"
   },
   {
    "duration": -272,
    "start_time": "2022-01-31T11:52:41.371Z"
   },
   {
    "duration": 24,
    "start_time": "2022-01-31T11:52:53.133Z"
   },
   {
    "duration": 15,
    "start_time": "2022-01-31T11:52:59.508Z"
   },
   {
    "duration": 37,
    "start_time": "2022-01-31T11:53:09.213Z"
   },
   {
    "duration": 14,
    "start_time": "2022-01-31T11:55:12.450Z"
   },
   {
    "duration": 18,
    "start_time": "2022-01-31T11:55:25.185Z"
   },
   {
    "duration": 18,
    "start_time": "2022-01-31T11:57:12.816Z"
   },
   {
    "duration": 17,
    "start_time": "2022-01-31T11:57:17.063Z"
   },
   {
    "duration": 16,
    "start_time": "2022-01-31T11:57:28.784Z"
   },
   {
    "duration": 326,
    "start_time": "2022-01-31T11:58:17.271Z"
   },
   {
    "duration": 264,
    "start_time": "2022-01-31T11:58:21.983Z"
   },
   {
    "duration": 14,
    "start_time": "2022-01-31T11:59:23.719Z"
   },
   {
    "duration": 14,
    "start_time": "2022-01-31T13:02:46.408Z"
   },
   {
    "duration": 274,
    "start_time": "2022-01-31T13:15:56.621Z"
   },
   {
    "duration": 15,
    "start_time": "2022-01-31T13:16:18.036Z"
   },
   {
    "duration": 22,
    "start_time": "2022-01-31T13:16:21.404Z"
   },
   {
    "duration": 18,
    "start_time": "2022-01-31T13:17:30.317Z"
   },
   {
    "duration": 20,
    "start_time": "2022-01-31T13:17:35.371Z"
   },
   {
    "duration": 13,
    "start_time": "2022-01-31T13:17:55.084Z"
   },
   {
    "duration": 14,
    "start_time": "2022-01-31T13:17:58.611Z"
   },
   {
    "duration": 1277,
    "start_time": "2022-01-31T13:18:07.282Z"
   },
   {
    "duration": 24,
    "start_time": "2022-01-31T13:18:14.258Z"
   },
   {
    "duration": 46,
    "start_time": "2022-01-31T13:19:07.698Z"
   },
   {
    "duration": 20,
    "start_time": "2022-01-31T13:19:15.483Z"
   },
   {
    "duration": 58,
    "start_time": "2022-01-31T13:19:19.775Z"
   },
   {
    "duration": 80,
    "start_time": "2022-01-31T13:19:19.835Z"
   },
   {
    "duration": 60,
    "start_time": "2022-01-31T13:19:19.917Z"
   },
   {
    "duration": 7,
    "start_time": "2022-01-31T13:19:19.979Z"
   },
   {
    "duration": 28,
    "start_time": "2022-01-31T13:19:19.987Z"
   },
   {
    "duration": 678,
    "start_time": "2022-01-31T13:19:20.017Z"
   },
   {
    "duration": 34,
    "start_time": "2022-01-31T13:19:20.697Z"
   },
   {
    "duration": 302,
    "start_time": "2022-01-31T13:19:20.734Z"
   },
   {
    "duration": 410,
    "start_time": "2022-01-31T13:19:21.038Z"
   },
   {
    "duration": 324,
    "start_time": "2022-01-31T13:19:21.450Z"
   },
   {
    "duration": 189,
    "start_time": "2022-01-31T13:19:21.775Z"
   },
   {
    "duration": 311,
    "start_time": "2022-01-31T13:19:21.966Z"
   },
   {
    "duration": 322,
    "start_time": "2022-01-31T13:19:22.279Z"
   },
   {
    "duration": 371,
    "start_time": "2022-01-31T13:19:22.602Z"
   },
   {
    "duration": 394,
    "start_time": "2022-01-31T13:19:22.974Z"
   },
   {
    "duration": 163,
    "start_time": "2022-01-31T13:19:23.370Z"
   },
   {
    "duration": 718,
    "start_time": "2022-01-31T13:19:23.534Z"
   },
   {
    "duration": 526,
    "start_time": "2022-01-31T13:19:24.253Z"
   },
   {
    "duration": 7,
    "start_time": "2022-01-31T13:19:24.781Z"
   },
   {
    "duration": 39,
    "start_time": "2022-01-31T13:19:24.790Z"
   },
   {
    "duration": 217,
    "start_time": "2022-01-31T13:19:24.831Z"
   },
   {
    "duration": 277,
    "start_time": "2022-01-31T13:19:25.050Z"
   },
   {
    "duration": 302,
    "start_time": "2022-01-31T13:19:25.331Z"
   },
   {
    "duration": 203,
    "start_time": "2022-01-31T13:19:25.635Z"
   },
   {
    "duration": 436,
    "start_time": "2022-01-31T13:19:25.840Z"
   },
   {
    "duration": 193,
    "start_time": "2022-01-31T13:19:26.278Z"
   },
   {
    "duration": 212,
    "start_time": "2022-01-31T13:19:26.473Z"
   },
   {
    "duration": 167,
    "start_time": "2022-01-31T13:19:26.686Z"
   },
   {
    "duration": 208,
    "start_time": "2022-01-31T13:19:26.855Z"
   },
   {
    "duration": 185,
    "start_time": "2022-01-31T13:19:27.071Z"
   },
   {
    "duration": 235,
    "start_time": "2022-01-31T13:19:27.257Z"
   },
   {
    "duration": 194,
    "start_time": "2022-01-31T13:19:27.494Z"
   },
   {
    "duration": 347,
    "start_time": "2022-01-31T13:19:34.930Z"
   },
   {
    "duration": 577,
    "start_time": "2022-01-31T13:20:22.826Z"
   },
   {
    "duration": 288,
    "start_time": "2022-01-31T13:20:37.408Z"
   },
   {
    "duration": 269,
    "start_time": "2022-01-31T13:20:55.416Z"
   },
   {
    "duration": 62,
    "start_time": "2022-01-31T13:21:02.694Z"
   },
   {
    "duration": 82,
    "start_time": "2022-01-31T13:21:02.758Z"
   },
   {
    "duration": 41,
    "start_time": "2022-01-31T13:21:02.843Z"
   },
   {
    "duration": 7,
    "start_time": "2022-01-31T13:21:02.887Z"
   },
   {
    "duration": 28,
    "start_time": "2022-01-31T13:21:02.896Z"
   },
   {
    "duration": 574,
    "start_time": "2022-01-31T13:21:02.925Z"
   },
   {
    "duration": 21,
    "start_time": "2022-01-31T13:21:03.501Z"
   },
   {
    "duration": 284,
    "start_time": "2022-01-31T13:21:03.524Z"
   },
   {
    "duration": 399,
    "start_time": "2022-01-31T13:21:03.810Z"
   },
   {
    "duration": 323,
    "start_time": "2022-01-31T13:21:04.211Z"
   },
   {
    "duration": 175,
    "start_time": "2022-01-31T13:21:04.536Z"
   },
   {
    "duration": 310,
    "start_time": "2022-01-31T13:21:04.713Z"
   },
   {
    "duration": 329,
    "start_time": "2022-01-31T13:21:05.024Z"
   },
   {
    "duration": 255,
    "start_time": "2022-01-31T13:21:05.354Z"
   },
   {
    "duration": 241,
    "start_time": "2022-01-31T13:21:05.611Z"
   },
   {
    "duration": 110,
    "start_time": "2022-01-31T13:21:05.853Z"
   },
   {
    "duration": 866,
    "start_time": "2022-01-31T13:21:05.964Z"
   },
   {
    "duration": 537,
    "start_time": "2022-01-31T13:21:06.831Z"
   },
   {
    "duration": 8,
    "start_time": "2022-01-31T13:21:07.371Z"
   },
   {
    "duration": 17,
    "start_time": "2022-01-31T13:21:07.381Z"
   },
   {
    "duration": 239,
    "start_time": "2022-01-31T13:21:07.400Z"
   },
   {
    "duration": 280,
    "start_time": "2022-01-31T13:21:07.640Z"
   },
   {
    "duration": 313,
    "start_time": "2022-01-31T13:21:07.923Z"
   },
   {
    "duration": 195,
    "start_time": "2022-01-31T13:21:08.238Z"
   },
   {
    "duration": 298,
    "start_time": "2022-01-31T13:21:08.434Z"
   },
   {
    "duration": 193,
    "start_time": "2022-01-31T13:21:08.733Z"
   },
   {
    "duration": 189,
    "start_time": "2022-01-31T13:21:08.927Z"
   },
   {
    "duration": 163,
    "start_time": "2022-01-31T13:21:09.118Z"
   },
   {
    "duration": 334,
    "start_time": "2022-01-31T13:21:09.282Z"
   },
   {
    "duration": 184,
    "start_time": "2022-01-31T13:21:09.617Z"
   },
   {
    "duration": 217,
    "start_time": "2022-01-31T13:21:09.803Z"
   },
   {
    "duration": 189,
    "start_time": "2022-01-31T13:21:10.022Z"
   },
   {
    "duration": 295,
    "start_time": "2022-01-31T13:21:20.591Z"
   },
   {
    "duration": 288,
    "start_time": "2022-01-31T13:21:40.167Z"
   },
   {
    "duration": 294,
    "start_time": "2022-01-31T13:21:50.432Z"
   },
   {
    "duration": 60,
    "start_time": "2022-01-31T13:21:54.726Z"
   },
   {
    "duration": 103,
    "start_time": "2022-01-31T13:21:54.788Z"
   },
   {
    "duration": 24,
    "start_time": "2022-01-31T13:21:54.894Z"
   },
   {
    "duration": 7,
    "start_time": "2022-01-31T13:21:54.921Z"
   },
   {
    "duration": 76,
    "start_time": "2022-01-31T13:21:54.930Z"
   },
   {
    "duration": 920,
    "start_time": "2022-01-31T13:21:55.008Z"
   },
   {
    "duration": 43,
    "start_time": "2022-01-31T13:21:55.930Z"
   },
   {
    "duration": 456,
    "start_time": "2022-01-31T13:21:55.976Z"
   },
   {
    "duration": 479,
    "start_time": "2022-01-31T13:21:56.434Z"
   },
   {
    "duration": 526,
    "start_time": "2022-01-31T13:21:56.915Z"
   },
   {
    "duration": 366,
    "start_time": "2022-01-31T13:21:57.444Z"
   },
   {
    "duration": 300,
    "start_time": "2022-01-31T13:21:57.811Z"
   },
   {
    "duration": 316,
    "start_time": "2022-01-31T13:21:58.113Z"
   },
   {
    "duration": 255,
    "start_time": "2022-01-31T13:21:58.431Z"
   },
   {
    "duration": 244,
    "start_time": "2022-01-31T13:21:58.688Z"
   },
   {
    "duration": 109,
    "start_time": "2022-01-31T13:21:58.933Z"
   },
   {
    "duration": 706,
    "start_time": "2022-01-31T13:21:59.044Z"
   },
   {
    "duration": 650,
    "start_time": "2022-01-31T13:21:59.752Z"
   },
   {
    "duration": 9,
    "start_time": "2022-01-31T13:22:00.404Z"
   },
   {
    "duration": 22,
    "start_time": "2022-01-31T13:22:00.415Z"
   },
   {
    "duration": 391,
    "start_time": "2022-01-31T13:22:00.439Z"
   },
   {
    "duration": 434,
    "start_time": "2022-01-31T13:22:00.832Z"
   },
   {
    "duration": 381,
    "start_time": "2022-01-31T13:22:01.274Z"
   },
   {
    "duration": 207,
    "start_time": "2022-01-31T13:22:01.657Z"
   },
   {
    "duration": 297,
    "start_time": "2022-01-31T13:22:01.865Z"
   },
   {
    "duration": 190,
    "start_time": "2022-01-31T13:22:02.163Z"
   },
   {
    "duration": 189,
    "start_time": "2022-01-31T13:22:02.354Z"
   },
   {
    "duration": 168,
    "start_time": "2022-01-31T13:22:02.544Z"
   },
   {
    "duration": 277,
    "start_time": "2022-01-31T13:22:02.713Z"
   },
   {
    "duration": 279,
    "start_time": "2022-01-31T13:22:02.992Z"
   },
   {
    "duration": 213,
    "start_time": "2022-01-31T13:22:03.273Z"
   },
   {
    "duration": 196,
    "start_time": "2022-01-31T13:22:03.488Z"
   },
   {
    "duration": 277,
    "start_time": "2022-01-31T13:23:17.510Z"
   },
   {
    "duration": 278,
    "start_time": "2022-01-31T13:23:32.270Z"
   },
   {
    "duration": 306,
    "start_time": "2022-01-31T13:23:37.790Z"
   },
   {
    "duration": 268,
    "start_time": "2022-01-31T13:24:08.318Z"
   },
   {
    "duration": 57,
    "start_time": "2022-01-31T13:24:11.380Z"
   },
   {
    "duration": 79,
    "start_time": "2022-01-31T13:24:11.438Z"
   },
   {
    "duration": 21,
    "start_time": "2022-01-31T13:24:11.519Z"
   },
   {
    "duration": 34,
    "start_time": "2022-01-31T13:24:11.542Z"
   },
   {
    "duration": 29,
    "start_time": "2022-01-31T13:24:11.577Z"
   },
   {
    "duration": 697,
    "start_time": "2022-01-31T13:24:11.608Z"
   },
   {
    "duration": 20,
    "start_time": "2022-01-31T13:24:12.307Z"
   },
   {
    "duration": 290,
    "start_time": "2022-01-31T13:24:12.329Z"
   },
   {
    "duration": 289,
    "start_time": "2022-01-31T13:24:12.621Z"
   },
   {
    "duration": 314,
    "start_time": "2022-01-31T13:24:12.912Z"
   },
   {
    "duration": 181,
    "start_time": "2022-01-31T13:24:13.228Z"
   },
   {
    "duration": 289,
    "start_time": "2022-01-31T13:24:13.411Z"
   },
   {
    "duration": 308,
    "start_time": "2022-01-31T13:24:13.702Z"
   },
   {
    "duration": 386,
    "start_time": "2022-01-31T13:24:14.012Z"
   },
   {
    "duration": 240,
    "start_time": "2022-01-31T13:24:14.400Z"
   },
   {
    "duration": 106,
    "start_time": "2022-01-31T13:24:14.642Z"
   },
   {
    "duration": 779,
    "start_time": "2022-01-31T13:24:14.750Z"
   },
   {
    "duration": 522,
    "start_time": "2022-01-31T13:24:15.530Z"
   },
   {
    "duration": 7,
    "start_time": "2022-01-31T13:24:16.054Z"
   },
   {
    "duration": 25,
    "start_time": "2022-01-31T13:24:16.062Z"
   },
   {
    "duration": 229,
    "start_time": "2022-01-31T13:24:16.088Z"
   },
   {
    "duration": 272,
    "start_time": "2022-01-31T13:24:16.319Z"
   },
   {
    "duration": 305,
    "start_time": "2022-01-31T13:24:16.594Z"
   },
   {
    "duration": 200,
    "start_time": "2022-01-31T13:24:16.901Z"
   },
   {
    "duration": 317,
    "start_time": "2022-01-31T13:24:17.103Z"
   },
   {
    "duration": 350,
    "start_time": "2022-01-31T13:24:17.421Z"
   },
   {
    "duration": 200,
    "start_time": "2022-01-31T13:24:17.773Z"
   },
   {
    "duration": 169,
    "start_time": "2022-01-31T13:24:17.975Z"
   },
   {
    "duration": 219,
    "start_time": "2022-01-31T13:24:18.146Z"
   },
   {
    "duration": 188,
    "start_time": "2022-01-31T13:24:18.372Z"
   },
   {
    "duration": 219,
    "start_time": "2022-01-31T13:24:18.562Z"
   },
   {
    "duration": 196,
    "start_time": "2022-01-31T13:24:18.783Z"
   },
   {
    "duration": 304,
    "start_time": "2022-01-31T13:24:44.253Z"
   },
   {
    "duration": 325,
    "start_time": "2022-01-31T13:25:08.343Z"
   },
   {
    "duration": 500,
    "start_time": "2022-01-31T13:25:17.757Z"
   },
   {
    "duration": 58,
    "start_time": "2022-01-31T13:25:24.731Z"
   },
   {
    "duration": 101,
    "start_time": "2022-01-31T13:25:24.791Z"
   },
   {
    "duration": 359,
    "start_time": "2022-01-31T13:25:24.894Z"
   },
   {
    "duration": -196,
    "start_time": "2022-01-31T13:25:25.451Z"
   },
   {
    "duration": -209,
    "start_time": "2022-01-31T13:25:25.465Z"
   },
   {
    "duration": -212,
    "start_time": "2022-01-31T13:25:25.469Z"
   },
   {
    "duration": -216,
    "start_time": "2022-01-31T13:25:25.474Z"
   },
   {
    "duration": -219,
    "start_time": "2022-01-31T13:25:25.478Z"
   },
   {
    "duration": -222,
    "start_time": "2022-01-31T13:25:25.482Z"
   },
   {
    "duration": -224,
    "start_time": "2022-01-31T13:25:25.485Z"
   },
   {
    "duration": -227,
    "start_time": "2022-01-31T13:25:25.489Z"
   },
   {
    "duration": -230,
    "start_time": "2022-01-31T13:25:25.493Z"
   },
   {
    "duration": -232,
    "start_time": "2022-01-31T13:25:25.496Z"
   },
   {
    "duration": -235,
    "start_time": "2022-01-31T13:25:25.500Z"
   },
   {
    "duration": -237,
    "start_time": "2022-01-31T13:25:25.503Z"
   },
   {
    "duration": -243,
    "start_time": "2022-01-31T13:25:25.510Z"
   },
   {
    "duration": -246,
    "start_time": "2022-01-31T13:25:25.514Z"
   },
   {
    "duration": -249,
    "start_time": "2022-01-31T13:25:25.517Z"
   },
   {
    "duration": -251,
    "start_time": "2022-01-31T13:25:25.520Z"
   },
   {
    "duration": -255,
    "start_time": "2022-01-31T13:25:25.525Z"
   },
   {
    "duration": -257,
    "start_time": "2022-01-31T13:25:25.528Z"
   },
   {
    "duration": -260,
    "start_time": "2022-01-31T13:25:25.532Z"
   },
   {
    "duration": -261,
    "start_time": "2022-01-31T13:25:25.534Z"
   },
   {
    "duration": -264,
    "start_time": "2022-01-31T13:25:25.538Z"
   },
   {
    "duration": -266,
    "start_time": "2022-01-31T13:25:25.541Z"
   },
   {
    "duration": -268,
    "start_time": "2022-01-31T13:25:25.544Z"
   },
   {
    "duration": -270,
    "start_time": "2022-01-31T13:25:25.547Z"
   },
   {
    "duration": -272,
    "start_time": "2022-01-31T13:25:25.550Z"
   },
   {
    "duration": -274,
    "start_time": "2022-01-31T13:25:25.553Z"
   },
   {
    "duration": -278,
    "start_time": "2022-01-31T13:25:25.557Z"
   },
   {
    "duration": -288,
    "start_time": "2022-01-31T13:25:25.568Z"
   },
   {
    "duration": -291,
    "start_time": "2022-01-31T13:25:25.572Z"
   },
   {
    "duration": 14,
    "start_time": "2022-01-31T13:25:44.652Z"
   },
   {
    "duration": 19,
    "start_time": "2022-01-31T13:25:48.148Z"
   },
   {
    "duration": 832,
    "start_time": "2022-01-31T13:28:34.537Z"
   },
   {
    "duration": 60,
    "start_time": "2022-01-31T13:28:50.297Z"
   },
   {
    "duration": 74,
    "start_time": "2022-01-31T13:28:50.359Z"
   },
   {
    "duration": 46,
    "start_time": "2022-01-31T13:28:50.435Z"
   },
   {
    "duration": 6,
    "start_time": "2022-01-31T13:28:50.482Z"
   },
   {
    "duration": 31,
    "start_time": "2022-01-31T13:28:50.489Z"
   },
   {
    "duration": 558,
    "start_time": "2022-01-31T13:28:50.521Z"
   },
   {
    "duration": 21,
    "start_time": "2022-01-31T13:28:51.080Z"
   },
   {
    "duration": 286,
    "start_time": "2022-01-31T13:28:51.103Z"
   },
   {
    "duration": 291,
    "start_time": "2022-01-31T13:28:51.391Z"
   },
   {
    "duration": 455,
    "start_time": "2022-01-31T13:28:51.684Z"
   },
   {
    "duration": 180,
    "start_time": "2022-01-31T13:28:52.140Z"
   },
   {
    "duration": 290,
    "start_time": "2022-01-31T13:28:52.321Z"
   },
   {
    "duration": 310,
    "start_time": "2022-01-31T13:28:52.613Z"
   },
   {
    "duration": 257,
    "start_time": "2022-01-31T13:28:52.924Z"
   },
   {
    "duration": 251,
    "start_time": "2022-01-31T13:28:53.183Z"
   },
   {
    "duration": 108,
    "start_time": "2022-01-31T13:28:53.436Z"
   },
   {
    "duration": 706,
    "start_time": "2022-01-31T13:28:53.546Z"
   },
   {
    "duration": 536,
    "start_time": "2022-01-31T13:28:54.254Z"
   },
   {
    "duration": 6,
    "start_time": "2022-01-31T13:28:54.792Z"
   },
   {
    "duration": 20,
    "start_time": "2022-01-31T13:28:54.800Z"
   },
   {
    "duration": 386,
    "start_time": "2022-01-31T13:28:54.821Z"
   },
   {
    "duration": 278,
    "start_time": "2022-01-31T13:28:55.208Z"
   },
   {
    "duration": 315,
    "start_time": "2022-01-31T13:28:55.488Z"
   },
   {
    "duration": 199,
    "start_time": "2022-01-31T13:28:55.805Z"
   },
   {
    "duration": 307,
    "start_time": "2022-01-31T13:28:56.006Z"
   },
   {
    "duration": 191,
    "start_time": "2022-01-31T13:28:56.315Z"
   },
   {
    "duration": 197,
    "start_time": "2022-01-31T13:28:56.508Z"
   },
   {
    "duration": 167,
    "start_time": "2022-01-31T13:28:56.706Z"
   },
   {
    "duration": 207,
    "start_time": "2022-01-31T13:28:56.875Z"
   },
   {
    "duration": 189,
    "start_time": "2022-01-31T13:28:57.084Z"
   },
   {
    "duration": 212,
    "start_time": "2022-01-31T13:28:57.275Z"
   },
   {
    "duration": 188,
    "start_time": "2022-01-31T13:28:57.489Z"
   },
   {
    "duration": 5,
    "start_time": "2022-01-31T13:33:11.734Z"
   },
   {
    "duration": 274,
    "start_time": "2022-01-31T13:33:20.902Z"
   },
   {
    "duration": 14,
    "start_time": "2022-01-31T13:33:27.118Z"
   },
   {
    "duration": 39,
    "start_time": "2022-01-31T13:34:36.493Z"
   },
   {
    "duration": 41,
    "start_time": "2022-01-31T13:35:09.149Z"
   },
   {
    "duration": 57,
    "start_time": "2022-01-31T13:35:19.363Z"
   },
   {
    "duration": 101,
    "start_time": "2022-01-31T13:35:19.422Z"
   },
   {
    "duration": 55,
    "start_time": "2022-01-31T13:35:19.525Z"
   },
   {
    "duration": 26,
    "start_time": "2022-01-31T13:35:19.582Z"
   },
   {
    "duration": 5,
    "start_time": "2022-01-31T13:35:19.610Z"
   },
   {
    "duration": 55,
    "start_time": "2022-01-31T13:35:19.617Z"
   },
   {
    "duration": 588,
    "start_time": "2022-01-31T13:35:19.673Z"
   },
   {
    "duration": 26,
    "start_time": "2022-01-31T13:35:20.264Z"
   },
   {
    "duration": 469,
    "start_time": "2022-01-31T13:35:20.292Z"
   },
   {
    "duration": 310,
    "start_time": "2022-01-31T13:35:20.763Z"
   },
   {
    "duration": 320,
    "start_time": "2022-01-31T13:35:21.075Z"
   },
   {
    "duration": 179,
    "start_time": "2022-01-31T13:35:21.397Z"
   },
   {
    "duration": 287,
    "start_time": "2022-01-31T13:35:21.578Z"
   },
   {
    "duration": 305,
    "start_time": "2022-01-31T13:35:21.871Z"
   },
   {
    "duration": 242,
    "start_time": "2022-01-31T13:35:22.177Z"
   },
   {
    "duration": 239,
    "start_time": "2022-01-31T13:35:22.421Z"
   },
   {
    "duration": 295,
    "start_time": "2022-01-31T13:35:22.661Z"
   },
   {
    "duration": 723,
    "start_time": "2022-01-31T13:35:22.957Z"
   },
   {
    "duration": 524,
    "start_time": "2022-01-31T13:35:23.682Z"
   },
   {
    "duration": 7,
    "start_time": "2022-01-31T13:35:24.208Z"
   },
   {
    "duration": 18,
    "start_time": "2022-01-31T13:35:24.217Z"
   },
   {
    "duration": 228,
    "start_time": "2022-01-31T13:35:24.237Z"
   },
   {
    "duration": 269,
    "start_time": "2022-01-31T13:35:24.468Z"
   },
   {
    "duration": 294,
    "start_time": "2022-01-31T13:35:24.739Z"
   },
   {
    "duration": 198,
    "start_time": "2022-01-31T13:35:25.035Z"
   },
   {
    "duration": 302,
    "start_time": "2022-01-31T13:35:25.235Z"
   },
   {
    "duration": 182,
    "start_time": "2022-01-31T13:35:25.539Z"
   },
   {
    "duration": 206,
    "start_time": "2022-01-31T13:35:25.723Z"
   },
   {
    "duration": 181,
    "start_time": "2022-01-31T13:35:25.931Z"
   },
   {
    "duration": 207,
    "start_time": "2022-01-31T13:35:26.114Z"
   },
   {
    "duration": 195,
    "start_time": "2022-01-31T13:35:26.323Z"
   },
   {
    "duration": 224,
    "start_time": "2022-01-31T13:35:26.520Z"
   },
   {
    "duration": 196,
    "start_time": "2022-01-31T13:35:26.746Z"
   },
   {
    "duration": 31,
    "start_time": "2022-01-31T13:37:26.715Z"
   },
   {
    "duration": 266,
    "start_time": "2022-01-31T13:50:47.874Z"
   },
   {
    "duration": 308,
    "start_time": "2022-01-31T13:51:06.249Z"
   },
   {
    "duration": 57,
    "start_time": "2022-01-31T13:51:08.368Z"
   },
   {
    "duration": 83,
    "start_time": "2022-01-31T13:51:08.427Z"
   },
   {
    "duration": 26,
    "start_time": "2022-01-31T13:51:08.512Z"
   },
   {
    "duration": 5,
    "start_time": "2022-01-31T13:51:08.540Z"
   },
   {
    "duration": 52,
    "start_time": "2022-01-31T13:51:08.546Z"
   },
   {
    "duration": 728,
    "start_time": "2022-01-31T13:51:08.599Z"
   },
   {
    "duration": 20,
    "start_time": "2022-01-31T13:51:09.328Z"
   },
   {
    "duration": 283,
    "start_time": "2022-01-31T13:51:09.351Z"
   },
   {
    "duration": 291,
    "start_time": "2022-01-31T13:51:09.636Z"
   },
   {
    "duration": 310,
    "start_time": "2022-01-31T13:51:09.928Z"
   },
   {
    "duration": 180,
    "start_time": "2022-01-31T13:51:10.240Z"
   },
   {
    "duration": 395,
    "start_time": "2022-01-31T13:51:10.422Z"
   },
   {
    "duration": 303,
    "start_time": "2022-01-31T13:51:10.818Z"
   },
   {
    "duration": 254,
    "start_time": "2022-01-31T13:51:11.122Z"
   },
   {
    "duration": 251,
    "start_time": "2022-01-31T13:51:11.377Z"
   },
   {
    "duration": 293,
    "start_time": "2022-01-31T13:51:11.630Z"
   },
   {
    "duration": 714,
    "start_time": "2022-01-31T13:51:11.925Z"
   },
   {
    "duration": 734,
    "start_time": "2022-01-31T13:51:12.640Z"
   },
   {
    "duration": 8,
    "start_time": "2022-01-31T13:51:13.375Z"
   },
   {
    "duration": 19,
    "start_time": "2022-01-31T13:51:13.384Z"
   },
   {
    "duration": 233,
    "start_time": "2022-01-31T13:51:13.404Z"
   },
   {
    "duration": 273,
    "start_time": "2022-01-31T13:51:13.639Z"
   },
   {
    "duration": 306,
    "start_time": "2022-01-31T13:51:13.915Z"
   },
   {
    "duration": 191,
    "start_time": "2022-01-31T13:51:14.223Z"
   },
   {
    "duration": 314,
    "start_time": "2022-01-31T13:51:14.416Z"
   },
   {
    "duration": 190,
    "start_time": "2022-01-31T13:51:14.732Z"
   },
   {
    "duration": 196,
    "start_time": "2022-01-31T13:51:14.924Z"
   },
   {
    "duration": 161,
    "start_time": "2022-01-31T13:51:15.121Z"
   },
   {
    "duration": 205,
    "start_time": "2022-01-31T13:51:15.284Z"
   },
   {
    "duration": 184,
    "start_time": "2022-01-31T13:51:15.491Z"
   },
   {
    "duration": 219,
    "start_time": "2022-01-31T13:51:15.676Z"
   },
   {
    "duration": 190,
    "start_time": "2022-01-31T13:51:15.897Z"
   },
   {
    "duration": 290,
    "start_time": "2022-01-31T13:51:20.104Z"
   },
   {
    "duration": 281,
    "start_time": "2022-01-31T13:51:26.064Z"
   },
   {
    "duration": 340,
    "start_time": "2022-01-31T13:51:48.361Z"
   },
   {
    "duration": 281,
    "start_time": "2022-01-31T13:51:50.968Z"
   },
   {
    "duration": 62,
    "start_time": "2022-01-31T13:51:56.535Z"
   },
   {
    "duration": 98,
    "start_time": "2022-01-31T13:51:56.599Z"
   },
   {
    "duration": 21,
    "start_time": "2022-01-31T13:51:56.699Z"
   },
   {
    "duration": 5,
    "start_time": "2022-01-31T13:51:56.722Z"
   },
   {
    "duration": 51,
    "start_time": "2022-01-31T13:51:56.729Z"
   },
   {
    "duration": 746,
    "start_time": "2022-01-31T13:51:56.782Z"
   },
   {
    "duration": 22,
    "start_time": "2022-01-31T13:51:57.530Z"
   },
   {
    "duration": 287,
    "start_time": "2022-01-31T13:51:57.571Z"
   },
   {
    "duration": 295,
    "start_time": "2022-01-31T13:51:57.860Z"
   },
   {
    "duration": 330,
    "start_time": "2022-01-31T13:51:58.157Z"
   },
   {
    "duration": 186,
    "start_time": "2022-01-31T13:51:58.489Z"
   },
   {
    "duration": 399,
    "start_time": "2022-01-31T13:51:58.677Z"
   },
   {
    "duration": 297,
    "start_time": "2022-01-31T13:51:59.077Z"
   },
   {
    "duration": 245,
    "start_time": "2022-01-31T13:51:59.375Z"
   },
   {
    "duration": 252,
    "start_time": "2022-01-31T13:51:59.621Z"
   },
   {
    "duration": 115,
    "start_time": "2022-01-31T13:51:59.874Z"
   },
   {
    "duration": 923,
    "start_time": "2022-01-31T13:51:59.991Z"
   },
   {
    "duration": 547,
    "start_time": "2022-01-31T13:52:00.915Z"
   },
   {
    "duration": 12,
    "start_time": "2022-01-31T13:52:01.464Z"
   },
   {
    "duration": 22,
    "start_time": "2022-01-31T13:52:01.477Z"
   },
   {
    "duration": 250,
    "start_time": "2022-01-31T13:52:01.500Z"
   },
   {
    "duration": 276,
    "start_time": "2022-01-31T13:52:01.751Z"
   },
   {
    "duration": 313,
    "start_time": "2022-01-31T13:52:02.029Z"
   },
   {
    "duration": 182,
    "start_time": "2022-01-31T13:52:02.344Z"
   },
   {
    "duration": 408,
    "start_time": "2022-01-31T13:52:02.528Z"
   },
   {
    "duration": 220,
    "start_time": "2022-01-31T13:52:02.938Z"
   },
   {
    "duration": 196,
    "start_time": "2022-01-31T13:52:03.160Z"
   },
   {
    "duration": 168,
    "start_time": "2022-01-31T13:52:03.358Z"
   },
   {
    "duration": 205,
    "start_time": "2022-01-31T13:52:03.528Z"
   },
   {
    "duration": 190,
    "start_time": "2022-01-31T13:52:03.734Z"
   },
   {
    "duration": 218,
    "start_time": "2022-01-31T13:52:03.926Z"
   },
   {
    "duration": 184,
    "start_time": "2022-01-31T13:52:04.146Z"
   },
   {
    "duration": 269,
    "start_time": "2022-01-31T13:52:14.872Z"
   },
   {
    "duration": 294,
    "start_time": "2022-01-31T13:52:23.216Z"
   },
   {
    "duration": 316,
    "start_time": "2022-01-31T13:52:25.231Z"
   },
   {
    "duration": 22,
    "start_time": "2022-01-31T13:52:31.264Z"
   },
   {
    "duration": 20,
    "start_time": "2022-01-31T13:52:48.463Z"
   },
   {
    "duration": 279,
    "start_time": "2022-01-31T13:53:18.975Z"
   },
   {
    "duration": 18,
    "start_time": "2022-01-31T13:53:21.344Z"
   },
   {
    "duration": 18,
    "start_time": "2022-01-31T13:53:26.727Z"
   },
   {
    "duration": 16,
    "start_time": "2022-01-31T13:54:16.095Z"
   },
   {
    "duration": 33,
    "start_time": "2022-01-31T13:54:19.022Z"
   },
   {
    "duration": 89,
    "start_time": "2022-01-31T14:00:29.369Z"
   },
   {
    "duration": 28,
    "start_time": "2022-01-31T14:00:36.737Z"
   },
   {
    "duration": 22,
    "start_time": "2022-01-31T14:00:43.282Z"
   },
   {
    "duration": 13,
    "start_time": "2022-01-31T14:12:49.632Z"
   },
   {
    "duration": 14,
    "start_time": "2022-01-31T14:12:55.481Z"
   },
   {
    "duration": 281,
    "start_time": "2022-01-31T14:13:09.777Z"
   },
   {
    "duration": 15,
    "start_time": "2022-01-31T14:13:14.575Z"
   },
   {
    "duration": 319,
    "start_time": "2022-01-31T14:13:23.456Z"
   },
   {
    "duration": 267,
    "start_time": "2022-01-31T14:13:30.615Z"
   },
   {
    "duration": 284,
    "start_time": "2022-01-31T14:21:04.778Z"
   },
   {
    "duration": 5,
    "start_time": "2022-01-31T14:21:14.241Z"
   },
   {
    "duration": 60,
    "start_time": "2022-01-31T14:21:36.648Z"
   },
   {
    "duration": 98,
    "start_time": "2022-01-31T14:21:36.709Z"
   },
   {
    "duration": 5,
    "start_time": "2022-01-31T14:21:36.809Z"
   },
   {
    "duration": 56,
    "start_time": "2022-01-31T14:21:36.816Z"
   },
   {
    "duration": 6,
    "start_time": "2022-01-31T14:21:36.874Z"
   },
   {
    "duration": 30,
    "start_time": "2022-01-31T14:21:36.881Z"
   },
   {
    "duration": 763,
    "start_time": "2022-01-31T14:21:36.912Z"
   },
   {
    "duration": 22,
    "start_time": "2022-01-31T14:21:37.677Z"
   },
   {
    "duration": 312,
    "start_time": "2022-01-31T14:21:37.700Z"
   },
   {
    "duration": 312,
    "start_time": "2022-01-31T14:21:38.014Z"
   },
   {
    "duration": 316,
    "start_time": "2022-01-31T14:21:38.328Z"
   },
   {
    "duration": 183,
    "start_time": "2022-01-31T14:21:38.646Z"
   },
   {
    "duration": 307,
    "start_time": "2022-01-31T14:21:38.831Z"
   },
   {
    "duration": 305,
    "start_time": "2022-01-31T14:21:39.140Z"
   },
   {
    "duration": 238,
    "start_time": "2022-01-31T14:21:39.446Z"
   },
   {
    "duration": 257,
    "start_time": "2022-01-31T14:21:39.685Z"
   },
   {
    "duration": 108,
    "start_time": "2022-01-31T14:21:39.944Z"
   },
   {
    "duration": 718,
    "start_time": "2022-01-31T14:21:40.053Z"
   },
   {
    "duration": 544,
    "start_time": "2022-01-31T14:21:40.773Z"
   },
   {
    "duration": 10,
    "start_time": "2022-01-31T14:21:41.319Z"
   },
   {
    "duration": 44,
    "start_time": "2022-01-31T14:21:41.331Z"
   },
   {
    "duration": 466,
    "start_time": "2022-01-31T14:21:41.376Z"
   },
   {
    "duration": 269,
    "start_time": "2022-01-31T14:21:41.845Z"
   },
   {
    "duration": 310,
    "start_time": "2022-01-31T14:21:42.116Z"
   },
   {
    "duration": 188,
    "start_time": "2022-01-31T14:21:42.428Z"
   },
   {
    "duration": 301,
    "start_time": "2022-01-31T14:21:42.618Z"
   },
   {
    "duration": 196,
    "start_time": "2022-01-31T14:21:42.920Z"
   },
   {
    "duration": 193,
    "start_time": "2022-01-31T14:21:43.118Z"
   },
   {
    "duration": 165,
    "start_time": "2022-01-31T14:21:43.312Z"
   },
   {
    "duration": 206,
    "start_time": "2022-01-31T14:21:43.478Z"
   },
   {
    "duration": 192,
    "start_time": "2022-01-31T14:21:43.685Z"
   },
   {
    "duration": 214,
    "start_time": "2022-01-31T14:21:43.879Z"
   },
   {
    "duration": 178,
    "start_time": "2022-01-31T14:21:44.095Z"
   },
   {
    "duration": 32,
    "start_time": "2022-01-31T14:21:57.329Z"
   },
   {
    "duration": 278,
    "start_time": "2022-01-31T14:54:33.799Z"
   },
   {
    "duration": 282,
    "start_time": "2022-01-31T14:54:49.544Z"
   },
   {
    "duration": 23,
    "start_time": "2022-01-31T14:54:54.176Z"
   },
   {
    "duration": 23,
    "start_time": "2022-01-31T14:54:56.368Z"
   },
   {
    "duration": 284,
    "start_time": "2022-01-31T14:55:46.511Z"
   },
   {
    "duration": 56,
    "start_time": "2022-01-31T14:55:55.927Z"
   },
   {
    "duration": 86,
    "start_time": "2022-01-31T14:55:57.383Z"
   },
   {
    "duration": 30,
    "start_time": "2022-01-31T14:56:01.087Z"
   },
   {
    "duration": 10,
    "start_time": "2022-01-31T14:56:41.423Z"
   },
   {
    "duration": 10,
    "start_time": "2022-01-31T15:01:43.106Z"
   },
   {
    "duration": 31,
    "start_time": "2022-01-31T15:01:59.281Z"
   },
   {
    "duration": -211,
    "start_time": "2022-01-31T15:02:19.612Z"
   },
   {
    "duration": 10,
    "start_time": "2022-01-31T15:02:19.434Z"
   },
   {
    "duration": 40,
    "start_time": "2022-01-31T15:05:24.408Z"
   },
   {
    "duration": 300,
    "start_time": "2022-01-31T15:25:17.616Z"
   },
   {
    "duration": 60,
    "start_time": "2022-01-31T15:25:57.919Z"
   },
   {
    "duration": 75,
    "start_time": "2022-01-31T15:25:57.981Z"
   },
   {
    "duration": 41,
    "start_time": "2022-01-31T15:25:58.058Z"
   },
   {
    "duration": 22,
    "start_time": "2022-01-31T15:25:58.101Z"
   },
   {
    "duration": 54,
    "start_time": "2022-01-31T15:25:58.125Z"
   },
   {
    "duration": 541,
    "start_time": "2022-01-31T15:25:58.181Z"
   },
   {
    "duration": 20,
    "start_time": "2022-01-31T15:25:58.723Z"
   },
   {
    "duration": 282,
    "start_time": "2022-01-31T15:25:58.745Z"
   },
   {
    "duration": 491,
    "start_time": "2022-01-31T15:25:59.029Z"
   },
   {
    "duration": 309,
    "start_time": "2022-01-31T15:25:59.521Z"
   },
   {
    "duration": 173,
    "start_time": "2022-01-31T15:25:59.832Z"
   },
   {
    "duration": 324,
    "start_time": "2022-01-31T15:26:00.007Z"
   },
   {
    "duration": 318,
    "start_time": "2022-01-31T15:26:00.332Z"
   },
   {
    "duration": 253,
    "start_time": "2022-01-31T15:26:00.651Z"
   },
   {
    "duration": 262,
    "start_time": "2022-01-31T15:26:00.906Z"
   },
   {
    "duration": 119,
    "start_time": "2022-01-31T15:26:01.169Z"
   },
   {
    "duration": 736,
    "start_time": "2022-01-31T15:26:01.290Z"
   },
   {
    "duration": 521,
    "start_time": "2022-01-31T15:26:02.027Z"
   },
   {
    "duration": 6,
    "start_time": "2022-01-31T15:26:02.550Z"
   },
   {
    "duration": 28,
    "start_time": "2022-01-31T15:26:02.558Z"
   },
   {
    "duration": 293,
    "start_time": "2022-01-31T15:26:02.587Z"
   },
   {
    "duration": 329,
    "start_time": "2022-01-31T15:26:02.881Z"
   },
   {
    "duration": 540,
    "start_time": "2022-01-31T15:26:03.213Z"
   },
   {
    "duration": 223,
    "start_time": "2022-01-31T15:26:03.755Z"
   },
   {
    "duration": 310,
    "start_time": "2022-01-31T15:26:03.979Z"
   },
   {
    "duration": 195,
    "start_time": "2022-01-31T15:26:04.290Z"
   },
   {
    "duration": 197,
    "start_time": "2022-01-31T15:26:04.487Z"
   },
   {
    "duration": 173,
    "start_time": "2022-01-31T15:26:04.685Z"
   },
   {
    "duration": 199,
    "start_time": "2022-01-31T15:26:04.860Z"
   },
   {
    "duration": 198,
    "start_time": "2022-01-31T15:26:05.060Z"
   },
   {
    "duration": 223,
    "start_time": "2022-01-31T15:26:05.260Z"
   },
   {
    "duration": 192,
    "start_time": "2022-01-31T15:26:05.484Z"
   },
   {
    "duration": 283,
    "start_time": "2022-01-31T15:27:25.990Z"
   },
   {
    "duration": 181,
    "start_time": "2022-01-31T15:30:39.987Z"
   },
   {
    "duration": 188,
    "start_time": "2022-01-31T15:31:01.075Z"
   },
   {
    "duration": 176,
    "start_time": "2022-01-31T15:31:19.804Z"
   },
   {
    "duration": 287,
    "start_time": "2022-01-31T15:31:43.531Z"
   },
   {
    "duration": 4,
    "start_time": "2022-01-31T15:34:42.592Z"
   },
   {
    "duration": 4,
    "start_time": "2022-01-31T15:35:09.232Z"
   },
   {
    "duration": 4,
    "start_time": "2022-01-31T15:35:25.128Z"
   },
   {
    "duration": 10,
    "start_time": "2022-01-31T15:38:59.732Z"
   },
   {
    "duration": 8,
    "start_time": "2022-01-31T15:39:33.733Z"
   },
   {
    "duration": 9,
    "start_time": "2022-01-31T15:39:40.356Z"
   },
   {
    "duration": 9,
    "start_time": "2022-01-31T15:40:14.892Z"
   },
   {
    "duration": 1804,
    "start_time": "2022-01-31T15:40:26.811Z"
   },
   {
    "duration": 11,
    "start_time": "2022-01-31T15:40:29.988Z"
   },
   {
    "duration": 9,
    "start_time": "2022-01-31T15:40:33.355Z"
   },
   {
    "duration": 1072,
    "start_time": "2022-02-01T13:12:41.023Z"
   },
   {
    "duration": 150,
    "start_time": "2022-02-01T13:12:42.098Z"
   },
   {
    "duration": 62,
    "start_time": "2022-02-01T13:12:42.252Z"
   },
   {
    "duration": 9,
    "start_time": "2022-02-01T13:12:42.317Z"
   },
   {
    "duration": 21,
    "start_time": "2022-02-01T13:12:42.350Z"
   },
   {
    "duration": 12,
    "start_time": "2022-02-01T13:12:42.374Z"
   },
   {
    "duration": 94,
    "start_time": "2022-02-01T13:12:42.389Z"
   },
   {
    "duration": 1552,
    "start_time": "2022-02-01T13:12:42.488Z"
   },
   {
    "duration": 39,
    "start_time": "2022-02-01T13:12:44.053Z"
   },
   {
    "duration": 632,
    "start_time": "2022-02-01T13:12:44.094Z"
   },
   {
    "duration": 570,
    "start_time": "2022-02-01T13:12:44.729Z"
   },
   {
    "duration": 617,
    "start_time": "2022-02-01T13:12:45.302Z"
   },
   {
    "duration": 349,
    "start_time": "2022-02-01T13:12:45.922Z"
   },
   {
    "duration": 588,
    "start_time": "2022-02-01T13:12:46.274Z"
   },
   {
    "duration": 598,
    "start_time": "2022-02-01T13:12:46.865Z"
   },
   {
    "duration": 658,
    "start_time": "2022-02-01T13:12:47.466Z"
   },
   {
    "duration": 588,
    "start_time": "2022-02-01T13:12:48.127Z"
   },
   {
    "duration": 238,
    "start_time": "2022-02-01T13:12:48.717Z"
   },
   {
    "duration": 1335,
    "start_time": "2022-02-01T13:12:48.957Z"
   },
   {
    "duration": 965,
    "start_time": "2022-02-01T13:12:50.294Z"
   },
   {
    "duration": 12,
    "start_time": "2022-02-01T13:12:51.262Z"
   },
   {
    "duration": 29,
    "start_time": "2022-02-01T13:12:51.276Z"
   },
   {
    "duration": 414,
    "start_time": "2022-02-01T13:12:51.310Z"
   },
   {
    "duration": 536,
    "start_time": "2022-02-01T13:12:51.727Z"
   },
   {
    "duration": 666,
    "start_time": "2022-02-01T13:12:52.266Z"
   },
   {
    "duration": 388,
    "start_time": "2022-02-01T13:12:52.935Z"
   },
   {
    "duration": 623,
    "start_time": "2022-02-01T13:12:53.326Z"
   },
   {
    "duration": 385,
    "start_time": "2022-02-01T13:12:53.952Z"
   },
   {
    "duration": 372,
    "start_time": "2022-02-01T13:12:54.339Z"
   },
   {
    "duration": 293,
    "start_time": "2022-02-01T13:12:54.713Z"
   },
   {
    "duration": 379,
    "start_time": "2022-02-01T13:12:55.009Z"
   },
   {
    "duration": 361,
    "start_time": "2022-02-01T13:12:55.390Z"
   },
   {
    "duration": 530,
    "start_time": "2022-02-01T13:12:55.756Z"
   },
   {
    "duration": 448,
    "start_time": "2022-02-01T13:12:56.289Z"
   },
   {
    "duration": 21,
    "start_time": "2022-02-01T13:21:59.477Z"
   },
   {
    "duration": 24,
    "start_time": "2022-02-01T13:22:57.681Z"
   },
   {
    "duration": 25,
    "start_time": "2022-02-01T13:24:38.321Z"
   },
   {
    "duration": 524,
    "start_time": "2022-02-01T14:03:42.694Z"
   },
   {
    "duration": 1174,
    "start_time": "2022-02-01T14:03:45.076Z"
   },
   {
    "duration": 136,
    "start_time": "2022-02-01T14:03:46.256Z"
   },
   {
    "duration": 76,
    "start_time": "2022-02-01T14:03:46.396Z"
   },
   {
    "duration": 11,
    "start_time": "2022-02-01T14:03:46.476Z"
   },
   {
    "duration": 21,
    "start_time": "2022-02-01T14:03:46.490Z"
   },
   {
    "duration": 325,
    "start_time": "2022-02-01T14:03:46.514Z"
   },
   {
    "duration": -184,
    "start_time": "2022-02-01T14:03:47.028Z"
   },
   {
    "duration": -187,
    "start_time": "2022-02-01T14:03:47.033Z"
   },
   {
    "duration": -197,
    "start_time": "2022-02-01T14:03:47.045Z"
   },
   {
    "duration": -196,
    "start_time": "2022-02-01T14:03:47.049Z"
   },
   {
    "duration": -200,
    "start_time": "2022-02-01T14:03:47.055Z"
   },
   {
    "duration": -201,
    "start_time": "2022-02-01T14:03:47.058Z"
   },
   {
    "duration": -203,
    "start_time": "2022-02-01T14:03:47.062Z"
   },
   {
    "duration": -204,
    "start_time": "2022-02-01T14:03:47.066Z"
   },
   {
    "duration": -209,
    "start_time": "2022-02-01T14:03:47.072Z"
   },
   {
    "duration": -216,
    "start_time": "2022-02-01T14:03:47.081Z"
   },
   {
    "duration": -221,
    "start_time": "2022-02-01T14:03:47.087Z"
   },
   {
    "duration": -223,
    "start_time": "2022-02-01T14:03:47.091Z"
   },
   {
    "duration": -225,
    "start_time": "2022-02-01T14:03:47.094Z"
   },
   {
    "duration": -229,
    "start_time": "2022-02-01T14:03:47.099Z"
   },
   {
    "duration": -234,
    "start_time": "2022-02-01T14:03:47.105Z"
   },
   {
    "duration": -254,
    "start_time": "2022-02-01T14:03:47.127Z"
   },
   {
    "duration": -257,
    "start_time": "2022-02-01T14:03:47.131Z"
   },
   {
    "duration": -270,
    "start_time": "2022-02-01T14:03:47.145Z"
   },
   {
    "duration": -274,
    "start_time": "2022-02-01T14:03:47.150Z"
   },
   {
    "duration": -292,
    "start_time": "2022-02-01T14:03:47.169Z"
   },
   {
    "duration": -302,
    "start_time": "2022-02-01T14:03:47.180Z"
   },
   {
    "duration": -304,
    "start_time": "2022-02-01T14:03:47.184Z"
   },
   {
    "duration": -313,
    "start_time": "2022-02-01T14:03:47.194Z"
   },
   {
    "duration": -322,
    "start_time": "2022-02-01T14:03:47.204Z"
   },
   {
    "duration": -326,
    "start_time": "2022-02-01T14:03:47.214Z"
   },
   {
    "duration": -327,
    "start_time": "2022-02-01T14:03:47.217Z"
   },
   {
    "duration": -336,
    "start_time": "2022-02-01T14:03:47.228Z"
   },
   {
    "duration": -338,
    "start_time": "2022-02-01T14:03:47.232Z"
   },
   {
    "duration": -290,
    "start_time": "2022-02-01T14:03:47.238Z"
   },
   {
    "duration": 12,
    "start_time": "2022-02-01T14:04:04.314Z"
   },
   {
    "duration": 117,
    "start_time": "2022-02-01T14:10:40.766Z"
   },
   {
    "duration": 168,
    "start_time": "2022-02-01T14:10:40.886Z"
   },
   {
    "duration": 56,
    "start_time": "2022-02-01T14:10:41.060Z"
   },
   {
    "duration": 36,
    "start_time": "2022-02-01T14:10:41.119Z"
   },
   {
    "duration": 31,
    "start_time": "2022-02-01T14:10:41.159Z"
   },
   {
    "duration": 13,
    "start_time": "2022-02-01T14:10:41.194Z"
   },
   {
    "duration": 10,
    "start_time": "2022-02-01T14:10:41.210Z"
   },
   {
    "duration": 61,
    "start_time": "2022-02-01T14:10:41.259Z"
   },
   {
    "duration": 1340,
    "start_time": "2022-02-01T14:10:41.323Z"
   },
   {
    "duration": 41,
    "start_time": "2022-02-01T14:10:42.666Z"
   },
   {
    "duration": 623,
    "start_time": "2022-02-01T14:10:42.711Z"
   },
   {
    "duration": 580,
    "start_time": "2022-02-01T14:10:43.337Z"
   },
   {
    "duration": 966,
    "start_time": "2022-02-01T14:10:43.921Z"
   },
   {
    "duration": 511,
    "start_time": "2022-02-01T14:10:44.890Z"
   },
   {
    "duration": 636,
    "start_time": "2022-02-01T14:10:45.403Z"
   },
   {
    "duration": 617,
    "start_time": "2022-02-01T14:10:46.041Z"
   },
   {
    "duration": 592,
    "start_time": "2022-02-01T14:10:46.663Z"
   },
   {
    "duration": 540,
    "start_time": "2022-02-01T14:10:47.258Z"
   },
   {
    "duration": 206,
    "start_time": "2022-02-01T14:10:47.801Z"
   },
   {
    "duration": 1760,
    "start_time": "2022-02-01T14:10:48.009Z"
   },
   {
    "duration": 1163,
    "start_time": "2022-02-01T14:10:49.773Z"
   },
   {
    "duration": 18,
    "start_time": "2022-02-01T14:10:50.939Z"
   },
   {
    "duration": 48,
    "start_time": "2022-02-01T14:10:50.962Z"
   },
   {
    "duration": 606,
    "start_time": "2022-02-01T14:10:51.013Z"
   },
   {
    "duration": 679,
    "start_time": "2022-02-01T14:10:51.623Z"
   },
   {
    "duration": 778,
    "start_time": "2022-02-01T14:10:52.305Z"
   },
   {
    "duration": 513,
    "start_time": "2022-02-01T14:10:53.086Z"
   },
   {
    "duration": 638,
    "start_time": "2022-02-01T14:10:53.603Z"
   },
   {
    "duration": 489,
    "start_time": "2022-02-01T14:10:54.248Z"
   },
   {
    "duration": 356,
    "start_time": "2022-02-01T14:10:54.748Z"
   },
   {
    "duration": 311,
    "start_time": "2022-02-01T14:10:55.106Z"
   },
   {
    "duration": 378,
    "start_time": "2022-02-01T14:10:55.419Z"
   },
   {
    "duration": 363,
    "start_time": "2022-02-01T14:10:55.799Z"
   },
   {
    "duration": 474,
    "start_time": "2022-02-01T14:10:56.165Z"
   },
   {
    "duration": 123,
    "start_time": "2022-02-01T14:10:56.648Z"
   },
   {
    "duration": 148,
    "start_time": "2022-02-01T14:14:58.073Z"
   },
   {
    "duration": 168,
    "start_time": "2022-02-01T14:15:00.586Z"
   },
   {
    "duration": 176,
    "start_time": "2022-02-01T14:15:06.762Z"
   },
   {
    "duration": 77,
    "start_time": "2022-02-01T14:15:13.266Z"
   },
   {
    "duration": 134,
    "start_time": "2022-02-01T14:15:13.345Z"
   },
   {
    "duration": 46,
    "start_time": "2022-02-01T14:15:13.482Z"
   },
   {
    "duration": 30,
    "start_time": "2022-02-01T14:15:13.530Z"
   },
   {
    "duration": 19,
    "start_time": "2022-02-01T14:15:13.562Z"
   },
   {
    "duration": 11,
    "start_time": "2022-02-01T14:15:13.584Z"
   },
   {
    "duration": 9,
    "start_time": "2022-02-01T14:15:13.598Z"
   },
   {
    "duration": 75,
    "start_time": "2022-02-01T14:15:13.610Z"
   },
   {
    "duration": 1035,
    "start_time": "2022-02-01T14:15:13.689Z"
   },
   {
    "duration": 50,
    "start_time": "2022-02-01T14:15:14.726Z"
   },
   {
    "duration": 646,
    "start_time": "2022-02-01T14:15:14.778Z"
   },
   {
    "duration": 617,
    "start_time": "2022-02-01T14:15:15.427Z"
   },
   {
    "duration": 630,
    "start_time": "2022-02-01T14:15:16.046Z"
   },
   {
    "duration": 385,
    "start_time": "2022-02-01T14:15:16.679Z"
   },
   {
    "duration": 839,
    "start_time": "2022-02-01T14:15:17.068Z"
   },
   {
    "duration": 598,
    "start_time": "2022-02-01T14:15:17.911Z"
   },
   {
    "duration": 542,
    "start_time": "2022-02-01T14:15:18.512Z"
   },
   {
    "duration": 503,
    "start_time": "2022-02-01T14:15:19.061Z"
   },
   {
    "duration": 199,
    "start_time": "2022-02-01T14:15:19.567Z"
   },
   {
    "duration": 1456,
    "start_time": "2022-02-01T14:15:19.768Z"
   },
   {
    "duration": 1256,
    "start_time": "2022-02-01T14:15:21.227Z"
   },
   {
    "duration": 13,
    "start_time": "2022-02-01T14:15:22.487Z"
   },
   {
    "duration": 59,
    "start_time": "2022-02-01T14:15:22.507Z"
   },
   {
    "duration": 409,
    "start_time": "2022-02-01T14:15:22.570Z"
   },
   {
    "duration": 521,
    "start_time": "2022-02-01T14:15:22.982Z"
   },
   {
    "duration": 606,
    "start_time": "2022-02-01T14:15:23.505Z"
   },
   {
    "duration": 480,
    "start_time": "2022-02-01T14:15:24.114Z"
   },
   {
    "duration": 697,
    "start_time": "2022-02-01T14:15:24.598Z"
   },
   {
    "duration": 457,
    "start_time": "2022-02-01T14:15:25.298Z"
   },
   {
    "duration": 352,
    "start_time": "2022-02-01T14:15:25.758Z"
   },
   {
    "duration": 315,
    "start_time": "2022-02-01T14:15:26.113Z"
   },
   {
    "duration": 372,
    "start_time": "2022-02-01T14:15:26.430Z"
   },
   {
    "duration": 360,
    "start_time": "2022-02-01T14:15:26.804Z"
   },
   {
    "duration": 400,
    "start_time": "2022-02-01T14:15:27.169Z"
   },
   {
    "duration": 84,
    "start_time": "2022-02-01T14:15:27.571Z"
   },
   {
    "duration": 161,
    "start_time": "2022-02-01T14:15:31.409Z"
   },
   {
    "duration": 178,
    "start_time": "2022-02-01T14:16:34.072Z"
   },
   {
    "duration": 91,
    "start_time": "2022-02-01T14:22:07.961Z"
   },
   {
    "duration": 893,
    "start_time": "2023-03-07T11:44:43.184Z"
   },
   {
    "duration": 111,
    "start_time": "2023-03-07T11:44:52.090Z"
   },
   {
    "duration": 34,
    "start_time": "2023-03-07T11:45:21.652Z"
   },
   {
    "duration": 6,
    "start_time": "2023-03-07T11:45:25.743Z"
   },
   {
    "duration": 10,
    "start_time": "2023-03-07T11:45:27.084Z"
   },
   {
    "duration": 8,
    "start_time": "2023-03-07T11:47:43.051Z"
   },
   {
    "duration": 29,
    "start_time": "2023-03-07T11:47:56.390Z"
   },
   {
    "duration": 364,
    "start_time": "2023-03-07T11:48:01.828Z"
   },
   {
    "duration": 23,
    "start_time": "2023-03-07T11:48:08.006Z"
   },
   {
    "duration": 274,
    "start_time": "2023-03-07T11:48:16.422Z"
   },
   {
    "duration": 219,
    "start_time": "2023-03-07T11:48:17.245Z"
   },
   {
    "duration": 283,
    "start_time": "2023-03-07T11:48:22.683Z"
   },
   {
    "duration": 135,
    "start_time": "2023-03-07T11:48:32.141Z"
   },
   {
    "duration": 244,
    "start_time": "2023-03-07T11:48:37.505Z"
   },
   {
    "duration": 243,
    "start_time": "2023-03-07T11:48:46.479Z"
   },
   {
    "duration": 231,
    "start_time": "2023-03-07T11:48:52.479Z"
   },
   {
    "duration": 281,
    "start_time": "2023-03-07T11:49:04.215Z"
   },
   {
    "duration": 107,
    "start_time": "2023-03-07T11:49:12.239Z"
   },
   {
    "duration": 611,
    "start_time": "2023-03-07T11:49:16.102Z"
   },
   {
    "duration": 422,
    "start_time": "2023-03-07T11:49:18.030Z"
   },
   {
    "duration": 7,
    "start_time": "2023-03-07T11:49:29.996Z"
   },
   {
    "duration": 16,
    "start_time": "2023-03-07T11:49:30.905Z"
   },
   {
    "duration": 158,
    "start_time": "2023-03-07T11:49:37.349Z"
   },
   {
    "duration": 156,
    "start_time": "2023-03-07T11:49:44.344Z"
   },
   {
    "duration": 312,
    "start_time": "2023-03-07T11:49:47.273Z"
   },
   {
    "duration": 156,
    "start_time": "2023-03-07T11:49:51.003Z"
   },
   {
    "duration": 218,
    "start_time": "2023-03-07T11:49:54.777Z"
   },
   {
    "duration": 144,
    "start_time": "2023-03-07T11:49:57.056Z"
   },
   {
    "duration": 146,
    "start_time": "2023-03-07T11:50:00.520Z"
   },
   {
    "duration": 130,
    "start_time": "2023-03-07T11:50:03.678Z"
   },
   {
    "duration": 141,
    "start_time": "2023-03-07T11:50:06.363Z"
   },
   {
    "duration": 151,
    "start_time": "2023-03-07T11:50:11.996Z"
   },
   {
    "duration": 194,
    "start_time": "2023-03-07T11:50:16.079Z"
   },
   {
    "duration": 80,
    "start_time": "2023-03-07T11:50:20.716Z"
   },
   {
    "duration": 71,
    "start_time": "2023-03-07T11:50:27.366Z"
   },
   {
    "duration": 214,
    "start_time": "2023-03-07T11:51:06.365Z"
   }
  ],
  "kernelspec": {
   "display_name": "Python 3 (ipykernel)",
   "language": "python",
   "name": "python3"
  },
  "language_info": {
   "codemirror_mode": {
    "name": "ipython",
    "version": 3
   },
   "file_extension": ".py",
   "mimetype": "text/x-python",
   "name": "python",
   "nbconvert_exporter": "python",
   "pygments_lexer": "ipython3",
   "version": "3.9.5"
  },
  "toc": {
   "base_numbering": 1,
   "nav_menu": {},
   "number_sections": true,
   "sideBar": true,
   "skip_h1_title": true,
   "title_cell": "Содержание",
   "title_sidebar": "Contents",
   "toc_cell": true,
   "toc_position": {
    "height": "calc(100% - 180px)",
    "left": "10px",
    "top": "150px",
    "width": "165px"
   },
   "toc_section_display": true,
   "toc_window_display": true
  }
 },
 "nbformat": 4,
 "nbformat_minor": 2
}
