{
 "cells": [
  {
   "cell_type": "markdown",
   "metadata": {},
   "source": [
    "# Выявление определяющих успешность игры закономерностей"
   ]
  },
  {
   "cell_type": "markdown",
   "metadata": {},
   "source": [
    "**Задача:**\n",
    "<br>Проанализировать данные и выявить потенциально популярный продукт\n"
   ]
  },
  {
   "cell_type": "markdown",
   "metadata": {},
   "source": [
    "**Описание данных:**"
   ]
  },
  {
   "cell_type": "markdown",
   "metadata": {},
   "source": [
    "* `Name` — название игры\n",
    "* `Platform` — платформа\n",
    "* `Year_of_Release` — год выпуска\n",
    "* `Genre` — жанр игры\n",
    "* `NA_sales` — продажи в Северной Америке (миллионы проданных копий)\n",
    "* `EU_sales` — продажи в Европе (миллионы проданных копий)\n",
    "* `JP_sales` — продажи в Японии (миллионы проданных копий)\n",
    "* `Other_sales` — продажи в других странах (миллионы проданных копий)\n",
    "* `Critic_Score` — оценка критиков (максимум 100)\n",
    "* `User_Score` — оценка пользователей (максимум 10)\n",
    "* `Rating` — рейтинг от организации ESRB (англ. Entertainment Software Rating Board). Эта ассоциация определяет рейтинг компьютерных игр и присваивает им подходящую возрастную категорию.\n",
    "Данные за 2016 год могут быть неполными.\n",
    "\n",
    "**Ход исследования**\n",
    "Исследование пройдет в 3 этапа:\n",
    "1. Обзор данных.\n",
    "2. Предобработка данных.\n",
    "3. Исследовательский анализ.\n",
    "4. Портрет пользователя каждого региона\n",
    "5. Проверка гипотез"
   ]
  },
  {
   "cell_type": "markdown",
   "metadata": {},
   "source": [
    "## Общая информация о данных"
   ]
  },
  {
   "cell_type": "markdown",
   "metadata": {},
   "source": [
    "### Получение данных"
   ]
  },
  {
   "cell_type": "code",
   "execution_count": 1,
   "metadata": {},
   "outputs": [],
   "source": [
    "import pandas as pd\n",
    "import numpy as np\n",
    "import seaborn as sns\n",
    "import math\n",
    "import matplotlib.pyplot as plt\n",
    "from scipy import stats as st\n",
    "df = pd.read_csv('/datasets/games.csv')"
   ]
  },
  {
   "cell_type": "code",
   "execution_count": 2,
   "metadata": {},
   "outputs": [
    {
     "name": "stdout",
     "output_type": "stream",
     "text": [
      "<class 'pandas.core.frame.DataFrame'>\n",
      "RangeIndex: 16715 entries, 0 to 16714\n",
      "Data columns (total 11 columns):\n",
      " #   Column           Non-Null Count  Dtype  \n",
      "---  ------           --------------  -----  \n",
      " 0   Name             16713 non-null  object \n",
      " 1   Platform         16715 non-null  object \n",
      " 2   Year_of_Release  16446 non-null  float64\n",
      " 3   Genre            16713 non-null  object \n",
      " 4   NA_sales         16715 non-null  float64\n",
      " 5   EU_sales         16715 non-null  float64\n",
      " 6   JP_sales         16715 non-null  float64\n",
      " 7   Other_sales      16715 non-null  float64\n",
      " 8   Critic_Score     8137 non-null   float64\n",
      " 9   User_Score       10014 non-null  object \n",
      " 10  Rating           9949 non-null   object \n",
      "dtypes: float64(6), object(5)\n",
      "memory usage: 1.4+ MB\n"
     ]
    },
    {
     "data": {
      "text/html": [
       "<div>\n",
       "<style scoped>\n",
       "    .dataframe tbody tr th:only-of-type {\n",
       "        vertical-align: middle;\n",
       "    }\n",
       "\n",
       "    .dataframe tbody tr th {\n",
       "        vertical-align: top;\n",
       "    }\n",
       "\n",
       "    .dataframe thead th {\n",
       "        text-align: right;\n",
       "    }\n",
       "</style>\n",
       "<table border=\"1\" class=\"dataframe\">\n",
       "  <thead>\n",
       "    <tr style=\"text-align: right;\">\n",
       "      <th></th>\n",
       "      <th>Name</th>\n",
       "      <th>Platform</th>\n",
       "      <th>Year_of_Release</th>\n",
       "      <th>Genre</th>\n",
       "      <th>NA_sales</th>\n",
       "      <th>EU_sales</th>\n",
       "      <th>JP_sales</th>\n",
       "      <th>Other_sales</th>\n",
       "      <th>Critic_Score</th>\n",
       "      <th>User_Score</th>\n",
       "      <th>Rating</th>\n",
       "    </tr>\n",
       "  </thead>\n",
       "  <tbody>\n",
       "    <tr>\n",
       "      <th>0</th>\n",
       "      <td>Wii Sports</td>\n",
       "      <td>Wii</td>\n",
       "      <td>2006.0</td>\n",
       "      <td>Sports</td>\n",
       "      <td>41.36</td>\n",
       "      <td>28.96</td>\n",
       "      <td>3.77</td>\n",
       "      <td>8.45</td>\n",
       "      <td>76.0</td>\n",
       "      <td>8</td>\n",
       "      <td>E</td>\n",
       "    </tr>\n",
       "    <tr>\n",
       "      <th>1</th>\n",
       "      <td>Super Mario Bros.</td>\n",
       "      <td>NES</td>\n",
       "      <td>1985.0</td>\n",
       "      <td>Platform</td>\n",
       "      <td>29.08</td>\n",
       "      <td>3.58</td>\n",
       "      <td>6.81</td>\n",
       "      <td>0.77</td>\n",
       "      <td>NaN</td>\n",
       "      <td>NaN</td>\n",
       "      <td>NaN</td>\n",
       "    </tr>\n",
       "    <tr>\n",
       "      <th>2</th>\n",
       "      <td>Mario Kart Wii</td>\n",
       "      <td>Wii</td>\n",
       "      <td>2008.0</td>\n",
       "      <td>Racing</td>\n",
       "      <td>15.68</td>\n",
       "      <td>12.76</td>\n",
       "      <td>3.79</td>\n",
       "      <td>3.29</td>\n",
       "      <td>82.0</td>\n",
       "      <td>8.3</td>\n",
       "      <td>E</td>\n",
       "    </tr>\n",
       "    <tr>\n",
       "      <th>3</th>\n",
       "      <td>Wii Sports Resort</td>\n",
       "      <td>Wii</td>\n",
       "      <td>2009.0</td>\n",
       "      <td>Sports</td>\n",
       "      <td>15.61</td>\n",
       "      <td>10.93</td>\n",
       "      <td>3.28</td>\n",
       "      <td>2.95</td>\n",
       "      <td>80.0</td>\n",
       "      <td>8</td>\n",
       "      <td>E</td>\n",
       "    </tr>\n",
       "    <tr>\n",
       "      <th>4</th>\n",
       "      <td>Pokemon Red/Pokemon Blue</td>\n",
       "      <td>GB</td>\n",
       "      <td>1996.0</td>\n",
       "      <td>Role-Playing</td>\n",
       "      <td>11.27</td>\n",
       "      <td>8.89</td>\n",
       "      <td>10.22</td>\n",
       "      <td>1.00</td>\n",
       "      <td>NaN</td>\n",
       "      <td>NaN</td>\n",
       "      <td>NaN</td>\n",
       "    </tr>\n",
       "  </tbody>\n",
       "</table>\n",
       "</div>"
      ],
      "text/plain": [
       "                       Name Platform  Year_of_Release         Genre  NA_sales  \\\n",
       "0                Wii Sports      Wii           2006.0        Sports     41.36   \n",
       "1         Super Mario Bros.      NES           1985.0      Platform     29.08   \n",
       "2            Mario Kart Wii      Wii           2008.0        Racing     15.68   \n",
       "3         Wii Sports Resort      Wii           2009.0        Sports     15.61   \n",
       "4  Pokemon Red/Pokemon Blue       GB           1996.0  Role-Playing     11.27   \n",
       "\n",
       "   EU_sales  JP_sales  Other_sales  Critic_Score User_Score Rating  \n",
       "0     28.96      3.77         8.45          76.0          8      E  \n",
       "1      3.58      6.81         0.77           NaN        NaN    NaN  \n",
       "2     12.76      3.79         3.29          82.0        8.3      E  \n",
       "3     10.93      3.28         2.95          80.0          8      E  \n",
       "4      8.89     10.22         1.00           NaN        NaN    NaN  "
      ]
     },
     "execution_count": 2,
     "metadata": {},
     "output_type": "execute_result"
    }
   ],
   "source": [
    "df.info()\n",
    "df.head()"
   ]
  },
  {
   "cell_type": "markdown",
   "metadata": {},
   "source": [
    "Просмотрев данные сделаем следующие выводы и шаги:\n",
    "* Приведем название столбцов к нижнему регистру\n",
    "* `Year_of_Release` - поменяем тип данных на int, разберемся с пропусками\n",
    "* `Name` - посмотрим куда потерялись 2 названия \n",
    "* `Critic_Score`/ `User_Score` - почему так много пропусков и чем заменить. `User_score` поменяем тип данных на float\n",
    "* `Rating` - найдем причину пропусков"
   ]
  },
  {
   "cell_type": "markdown",
   "metadata": {},
   "source": [
    "## Предобработка данных"
   ]
  },
  {
   "cell_type": "markdown",
   "metadata": {},
   "source": [
    "### Подготовка данных"
   ]
  },
  {
   "cell_type": "markdown",
   "metadata": {},
   "source": [
    "#### Приведение к нижнему регистру"
   ]
  },
  {
   "cell_type": "code",
   "execution_count": 3,
   "metadata": {},
   "outputs": [
    {
     "data": {
      "text/plain": [
       "Index(['name', 'platform', 'year_of_release', 'genre', 'na_sales', 'eu_sales',\n",
       "       'jp_sales', 'other_sales', 'critic_score', 'user_score', 'rating'],\n",
       "      dtype='object')"
      ]
     },
     "execution_count": 3,
     "metadata": {},
     "output_type": "execute_result"
    }
   ],
   "source": [
    "df.columns = df.columns.str.lower()\n",
    "df.columns"
   ]
  },
  {
   "cell_type": "markdown",
   "metadata": {},
   "source": [
    "#### Изменение типов данных"
   ]
  },
  {
   "cell_type": "markdown",
   "metadata": {},
   "source": [
    "* `year_of_release` на `int`, т.к там прописан только год без лишних данных"
   ]
  },
  {
   "cell_type": "code",
   "execution_count": 4,
   "metadata": {},
   "outputs": [],
   "source": [
    "df['year_of_release'] = df['year_of_release'].astype('Int64')"
   ]
  },
  {
   "cell_type": "markdown",
   "metadata": {},
   "source": [
    "* Поменяем тип данных в `user_score`, т.к там не только целые числа\n",
    "* Перед этим уберем `tbd` т.к аббревиатура значит, что информация не определена, поэтому меняем на NaN"
   ]
  },
  {
   "cell_type": "code",
   "execution_count": 5,
   "metadata": {},
   "outputs": [
    {
     "name": "stdout",
     "output_type": "stream",
     "text": [
      "<class 'pandas.core.frame.DataFrame'>\n",
      "RangeIndex: 16715 entries, 0 to 16714\n",
      "Data columns (total 11 columns):\n",
      " #   Column           Non-Null Count  Dtype  \n",
      "---  ------           --------------  -----  \n",
      " 0   name             16713 non-null  object \n",
      " 1   platform         16715 non-null  object \n",
      " 2   year_of_release  16446 non-null  Int64  \n",
      " 3   genre            16713 non-null  object \n",
      " 4   na_sales         16715 non-null  float64\n",
      " 5   eu_sales         16715 non-null  float64\n",
      " 6   jp_sales         16715 non-null  float64\n",
      " 7   other_sales      16715 non-null  float64\n",
      " 8   critic_score     8137 non-null   float64\n",
      " 9   user_score       7590 non-null   float64\n",
      " 10  rating           9949 non-null   object \n",
      "dtypes: Int64(1), float64(6), object(4)\n",
      "memory usage: 1.4+ MB\n"
     ]
    },
    {
     "data": {
      "text/html": [
       "<div>\n",
       "<style scoped>\n",
       "    .dataframe tbody tr th:only-of-type {\n",
       "        vertical-align: middle;\n",
       "    }\n",
       "\n",
       "    .dataframe tbody tr th {\n",
       "        vertical-align: top;\n",
       "    }\n",
       "\n",
       "    .dataframe thead th {\n",
       "        text-align: right;\n",
       "    }\n",
       "</style>\n",
       "<table border=\"1\" class=\"dataframe\">\n",
       "  <thead>\n",
       "    <tr style=\"text-align: right;\">\n",
       "      <th></th>\n",
       "      <th>name</th>\n",
       "      <th>platform</th>\n",
       "      <th>year_of_release</th>\n",
       "      <th>genre</th>\n",
       "      <th>na_sales</th>\n",
       "      <th>eu_sales</th>\n",
       "      <th>jp_sales</th>\n",
       "      <th>other_sales</th>\n",
       "      <th>critic_score</th>\n",
       "      <th>user_score</th>\n",
       "      <th>rating</th>\n",
       "    </tr>\n",
       "  </thead>\n",
       "  <tbody>\n",
       "    <tr>\n",
       "      <th>0</th>\n",
       "      <td>Wii Sports</td>\n",
       "      <td>Wii</td>\n",
       "      <td>2006</td>\n",
       "      <td>Sports</td>\n",
       "      <td>41.36</td>\n",
       "      <td>28.96</td>\n",
       "      <td>3.77</td>\n",
       "      <td>8.45</td>\n",
       "      <td>76.0</td>\n",
       "      <td>8.0</td>\n",
       "      <td>E</td>\n",
       "    </tr>\n",
       "    <tr>\n",
       "      <th>1</th>\n",
       "      <td>Super Mario Bros.</td>\n",
       "      <td>NES</td>\n",
       "      <td>1985</td>\n",
       "      <td>Platform</td>\n",
       "      <td>29.08</td>\n",
       "      <td>3.58</td>\n",
       "      <td>6.81</td>\n",
       "      <td>0.77</td>\n",
       "      <td>NaN</td>\n",
       "      <td>NaN</td>\n",
       "      <td>NaN</td>\n",
       "    </tr>\n",
       "    <tr>\n",
       "      <th>2</th>\n",
       "      <td>Mario Kart Wii</td>\n",
       "      <td>Wii</td>\n",
       "      <td>2008</td>\n",
       "      <td>Racing</td>\n",
       "      <td>15.68</td>\n",
       "      <td>12.76</td>\n",
       "      <td>3.79</td>\n",
       "      <td>3.29</td>\n",
       "      <td>82.0</td>\n",
       "      <td>8.3</td>\n",
       "      <td>E</td>\n",
       "    </tr>\n",
       "    <tr>\n",
       "      <th>3</th>\n",
       "      <td>Wii Sports Resort</td>\n",
       "      <td>Wii</td>\n",
       "      <td>2009</td>\n",
       "      <td>Sports</td>\n",
       "      <td>15.61</td>\n",
       "      <td>10.93</td>\n",
       "      <td>3.28</td>\n",
       "      <td>2.95</td>\n",
       "      <td>80.0</td>\n",
       "      <td>8.0</td>\n",
       "      <td>E</td>\n",
       "    </tr>\n",
       "    <tr>\n",
       "      <th>4</th>\n",
       "      <td>Pokemon Red/Pokemon Blue</td>\n",
       "      <td>GB</td>\n",
       "      <td>1996</td>\n",
       "      <td>Role-Playing</td>\n",
       "      <td>11.27</td>\n",
       "      <td>8.89</td>\n",
       "      <td>10.22</td>\n",
       "      <td>1.00</td>\n",
       "      <td>NaN</td>\n",
       "      <td>NaN</td>\n",
       "      <td>NaN</td>\n",
       "    </tr>\n",
       "  </tbody>\n",
       "</table>\n",
       "</div>"
      ],
      "text/plain": [
       "                       name platform  year_of_release         genre  na_sales  \\\n",
       "0                Wii Sports      Wii             2006        Sports     41.36   \n",
       "1         Super Mario Bros.      NES             1985      Platform     29.08   \n",
       "2            Mario Kart Wii      Wii             2008        Racing     15.68   \n",
       "3         Wii Sports Resort      Wii             2009        Sports     15.61   \n",
       "4  Pokemon Red/Pokemon Blue       GB             1996  Role-Playing     11.27   \n",
       "\n",
       "   eu_sales  jp_sales  other_sales  critic_score  user_score rating  \n",
       "0     28.96      3.77         8.45          76.0         8.0      E  \n",
       "1      3.58      6.81         0.77           NaN         NaN    NaN  \n",
       "2     12.76      3.79         3.29          82.0         8.3      E  \n",
       "3     10.93      3.28         2.95          80.0         8.0      E  \n",
       "4      8.89     10.22         1.00           NaN         NaN    NaN  "
      ]
     },
     "execution_count": 5,
     "metadata": {},
     "output_type": "execute_result"
    }
   ],
   "source": [
    "df['user_score'] = df['user_score'].replace('tbd', np.nan).astype(float)\n",
    "df.info()\n",
    "df.head()"
   ]
  },
  {
   "cell_type": "markdown",
   "metadata": {},
   "source": [
    "#### Обработка пропусков"
   ]
  },
  {
   "cell_type": "markdown",
   "metadata": {},
   "source": [
    "##### Изучим пропуски в столбце `name`"
   ]
  },
  {
   "cell_type": "code",
   "execution_count": 6,
   "metadata": {},
   "outputs": [
    {
     "data": {
      "text/plain": [
       "2"
      ]
     },
     "execution_count": 6,
     "metadata": {},
     "output_type": "execute_result"
    }
   ],
   "source": [
    "#Пропуски\n",
    "df['name'].isna().sum()"
   ]
  },
  {
   "cell_type": "code",
   "execution_count": 7,
   "metadata": {},
   "outputs": [
    {
     "data": {
      "text/plain": [
       "0.00011965300628178283"
      ]
     },
     "execution_count": 7,
     "metadata": {},
     "output_type": "execute_result"
    }
   ],
   "source": [
    "#Процент пропущенных значений\n",
    "df['name'].isna().mean()"
   ]
  },
  {
   "cell_type": "code",
   "execution_count": 8,
   "metadata": {
    "scrolled": true
   },
   "outputs": [
    {
     "data": {
      "text/html": [
       "<div>\n",
       "<style scoped>\n",
       "    .dataframe tbody tr th:only-of-type {\n",
       "        vertical-align: middle;\n",
       "    }\n",
       "\n",
       "    .dataframe tbody tr th {\n",
       "        vertical-align: top;\n",
       "    }\n",
       "\n",
       "    .dataframe thead th {\n",
       "        text-align: right;\n",
       "    }\n",
       "</style>\n",
       "<table border=\"1\" class=\"dataframe\">\n",
       "  <thead>\n",
       "    <tr style=\"text-align: right;\">\n",
       "      <th></th>\n",
       "      <th>name</th>\n",
       "      <th>platform</th>\n",
       "      <th>year_of_release</th>\n",
       "      <th>genre</th>\n",
       "      <th>na_sales</th>\n",
       "      <th>eu_sales</th>\n",
       "      <th>jp_sales</th>\n",
       "      <th>other_sales</th>\n",
       "      <th>critic_score</th>\n",
       "      <th>user_score</th>\n",
       "      <th>rating</th>\n",
       "    </tr>\n",
       "  </thead>\n",
       "  <tbody>\n",
       "    <tr>\n",
       "      <th>659</th>\n",
       "      <td>NaN</td>\n",
       "      <td>GEN</td>\n",
       "      <td>1993</td>\n",
       "      <td>NaN</td>\n",
       "      <td>1.78</td>\n",
       "      <td>0.53</td>\n",
       "      <td>0.00</td>\n",
       "      <td>0.08</td>\n",
       "      <td>NaN</td>\n",
       "      <td>NaN</td>\n",
       "      <td>NaN</td>\n",
       "    </tr>\n",
       "    <tr>\n",
       "      <th>14244</th>\n",
       "      <td>NaN</td>\n",
       "      <td>GEN</td>\n",
       "      <td>1993</td>\n",
       "      <td>NaN</td>\n",
       "      <td>0.00</td>\n",
       "      <td>0.00</td>\n",
       "      <td>0.03</td>\n",
       "      <td>0.00</td>\n",
       "      <td>NaN</td>\n",
       "      <td>NaN</td>\n",
       "      <td>NaN</td>\n",
       "    </tr>\n",
       "  </tbody>\n",
       "</table>\n",
       "</div>"
      ],
      "text/plain": [
       "      name platform  year_of_release genre  na_sales  eu_sales  jp_sales  \\\n",
       "659    NaN      GEN             1993   NaN      1.78      0.53      0.00   \n",
       "14244  NaN      GEN             1993   NaN      0.00      0.00      0.03   \n",
       "\n",
       "       other_sales  critic_score  user_score rating  \n",
       "659           0.08           NaN         NaN    NaN  \n",
       "14244         0.00           NaN         NaN    NaN  "
      ]
     },
     "execution_count": 8,
     "metadata": {},
     "output_type": "execute_result"
    }
   ],
   "source": [
    "#Посмотрим на строки с пропусками\n",
    "df[df['name'].isna()]"
   ]
  },
  {
   "cell_type": "markdown",
   "metadata": {},
   "source": [
    "Строки почти не имеют данных, от них можно просто избавиться, ничего страшного не произойдет, слишком маленький процент пропущенных значений"
   ]
  },
  {
   "cell_type": "code",
   "execution_count": 9,
   "metadata": {},
   "outputs": [
    {
     "data": {
      "text/plain": [
       "0"
      ]
     },
     "execution_count": 9,
     "metadata": {},
     "output_type": "execute_result"
    }
   ],
   "source": [
    "#Удалим строки\n",
    "df = df.dropna(subset=['name'])\n",
    "df['name'].isna().sum()"
   ]
  },
  {
   "cell_type": "markdown",
   "metadata": {},
   "source": [
    "##### Изучим пропуски в столбце `year_of_release`"
   ]
  },
  {
   "cell_type": "code",
   "execution_count": 10,
   "metadata": {},
   "outputs": [
    {
     "data": {
      "text/plain": [
       "269"
      ]
     },
     "execution_count": 10,
     "metadata": {},
     "output_type": "execute_result"
    }
   ],
   "source": [
    "#Пропуски\n",
    "df['year_of_release'].isna().sum()"
   ]
  },
  {
   "cell_type": "code",
   "execution_count": 11,
   "metadata": {},
   "outputs": [
    {
     "data": {
      "text/plain": [
       "0.016095255190570215"
      ]
     },
     "execution_count": 11,
     "metadata": {},
     "output_type": "execute_result"
    }
   ],
   "source": [
    "#Процент пропущенных значений\n",
    "df['year_of_release'].isna().mean()"
   ]
  },
  {
   "cell_type": "code",
   "execution_count": 12,
   "metadata": {},
   "outputs": [
    {
     "data": {
      "text/html": [
       "<div>\n",
       "<style scoped>\n",
       "    .dataframe tbody tr th:only-of-type {\n",
       "        vertical-align: middle;\n",
       "    }\n",
       "\n",
       "    .dataframe tbody tr th {\n",
       "        vertical-align: top;\n",
       "    }\n",
       "\n",
       "    .dataframe thead th {\n",
       "        text-align: right;\n",
       "    }\n",
       "</style>\n",
       "<table border=\"1\" class=\"dataframe\">\n",
       "  <thead>\n",
       "    <tr style=\"text-align: right;\">\n",
       "      <th></th>\n",
       "      <th>name</th>\n",
       "      <th>platform</th>\n",
       "      <th>year_of_release</th>\n",
       "      <th>genre</th>\n",
       "      <th>na_sales</th>\n",
       "      <th>eu_sales</th>\n",
       "      <th>jp_sales</th>\n",
       "      <th>other_sales</th>\n",
       "      <th>critic_score</th>\n",
       "      <th>user_score</th>\n",
       "      <th>rating</th>\n",
       "    </tr>\n",
       "  </thead>\n",
       "  <tbody>\n",
       "    <tr>\n",
       "      <th>183</th>\n",
       "      <td>Madden NFL 2004</td>\n",
       "      <td>PS2</td>\n",
       "      <td>&lt;NA&gt;</td>\n",
       "      <td>Sports</td>\n",
       "      <td>4.26</td>\n",
       "      <td>0.26</td>\n",
       "      <td>0.01</td>\n",
       "      <td>0.71</td>\n",
       "      <td>94.0</td>\n",
       "      <td>8.5</td>\n",
       "      <td>E</td>\n",
       "    </tr>\n",
       "    <tr>\n",
       "      <th>377</th>\n",
       "      <td>FIFA Soccer 2004</td>\n",
       "      <td>PS2</td>\n",
       "      <td>&lt;NA&gt;</td>\n",
       "      <td>Sports</td>\n",
       "      <td>0.59</td>\n",
       "      <td>2.36</td>\n",
       "      <td>0.04</td>\n",
       "      <td>0.51</td>\n",
       "      <td>84.0</td>\n",
       "      <td>6.4</td>\n",
       "      <td>E</td>\n",
       "    </tr>\n",
       "    <tr>\n",
       "      <th>456</th>\n",
       "      <td>LEGO Batman: The Videogame</td>\n",
       "      <td>Wii</td>\n",
       "      <td>&lt;NA&gt;</td>\n",
       "      <td>Action</td>\n",
       "      <td>1.80</td>\n",
       "      <td>0.97</td>\n",
       "      <td>0.00</td>\n",
       "      <td>0.29</td>\n",
       "      <td>74.0</td>\n",
       "      <td>7.9</td>\n",
       "      <td>E10+</td>\n",
       "    </tr>\n",
       "    <tr>\n",
       "      <th>475</th>\n",
       "      <td>wwe Smackdown vs. Raw 2006</td>\n",
       "      <td>PS2</td>\n",
       "      <td>&lt;NA&gt;</td>\n",
       "      <td>Fighting</td>\n",
       "      <td>1.57</td>\n",
       "      <td>1.02</td>\n",
       "      <td>0.00</td>\n",
       "      <td>0.41</td>\n",
       "      <td>NaN</td>\n",
       "      <td>NaN</td>\n",
       "      <td>NaN</td>\n",
       "    </tr>\n",
       "    <tr>\n",
       "      <th>609</th>\n",
       "      <td>Space Invaders</td>\n",
       "      <td>2600</td>\n",
       "      <td>&lt;NA&gt;</td>\n",
       "      <td>Shooter</td>\n",
       "      <td>2.36</td>\n",
       "      <td>0.14</td>\n",
       "      <td>0.00</td>\n",
       "      <td>0.03</td>\n",
       "      <td>NaN</td>\n",
       "      <td>NaN</td>\n",
       "      <td>NaN</td>\n",
       "    </tr>\n",
       "  </tbody>\n",
       "</table>\n",
       "</div>"
      ],
      "text/plain": [
       "                           name platform  year_of_release     genre  na_sales  \\\n",
       "183             Madden NFL 2004      PS2             <NA>    Sports      4.26   \n",
       "377            FIFA Soccer 2004      PS2             <NA>    Sports      0.59   \n",
       "456  LEGO Batman: The Videogame      Wii             <NA>    Action      1.80   \n",
       "475  wwe Smackdown vs. Raw 2006      PS2             <NA>  Fighting      1.57   \n",
       "609              Space Invaders     2600             <NA>   Shooter      2.36   \n",
       "\n",
       "     eu_sales  jp_sales  other_sales  critic_score  user_score rating  \n",
       "183      0.26      0.01         0.71          94.0         8.5      E  \n",
       "377      2.36      0.04         0.51          84.0         6.4      E  \n",
       "456      0.97      0.00         0.29          74.0         7.9   E10+  \n",
       "475      1.02      0.00         0.41           NaN         NaN    NaN  \n",
       "609      0.14      0.00         0.03           NaN         NaN    NaN  "
      ]
     },
     "execution_count": 12,
     "metadata": {},
     "output_type": "execute_result"
    }
   ],
   "source": [
    "#Посмотрим на строки с пропусками\n",
    "df[df['year_of_release'].isna()].head()"
   ]
  },
  {
   "cell_type": "markdown",
   "metadata": {},
   "source": [
    "Аналогичная ситуация:\n",
    "* Пропущенные значения составляют 1.6%, что не является существенным, поэтому тоже их удалим"
   ]
  },
  {
   "cell_type": "code",
   "execution_count": 13,
   "metadata": {},
   "outputs": [
    {
     "data": {
      "text/plain": [
       "0"
      ]
     },
     "execution_count": 13,
     "metadata": {},
     "output_type": "execute_result"
    }
   ],
   "source": [
    "#Удалим строки\n",
    "df = df.dropna(subset=['year_of_release'])\n",
    "df['year_of_release'].isna().sum()"
   ]
  },
  {
   "cell_type": "markdown",
   "metadata": {},
   "source": [
    "##### Изучим пропуски в столбцах `critic_score` и `user_score`"
   ]
  },
  {
   "cell_type": "code",
   "execution_count": 14,
   "metadata": {},
   "outputs": [
    {
     "data": {
      "text/plain": [
       "8461"
      ]
     },
     "execution_count": 14,
     "metadata": {},
     "output_type": "execute_result"
    }
   ],
   "source": [
    "#Пропуски в critic_score\n",
    "df['critic_score'].isna().sum()"
   ]
  },
  {
   "cell_type": "code",
   "execution_count": 15,
   "metadata": {},
   "outputs": [
    {
     "data": {
      "text/plain": [
       "0.5145341765993675"
      ]
     },
     "execution_count": 15,
     "metadata": {},
     "output_type": "execute_result"
    }
   ],
   "source": [
    "#Процент пропущенных значений в critic_score\n",
    "df['critic_score'].isna().mean()"
   ]
  },
  {
   "cell_type": "code",
   "execution_count": 16,
   "metadata": {},
   "outputs": [
    {
     "data": {
      "text/plain": [
       "8981"
      ]
     },
     "execution_count": 16,
     "metadata": {},
     "output_type": "execute_result"
    }
   ],
   "source": [
    "#Пропуски в user_score\n",
    "df['user_score'].isna().sum()"
   ]
  },
  {
   "cell_type": "code",
   "execution_count": 17,
   "metadata": {},
   "outputs": [
    {
     "data": {
      "text/plain": [
       "0.5461566528825104"
      ]
     },
     "execution_count": 17,
     "metadata": {},
     "output_type": "execute_result"
    }
   ],
   "source": [
    "#Процент пропущенных значений в user_score\n",
    "df['user_score'].isna().mean()"
   ]
  },
  {
   "cell_type": "markdown",
   "metadata": {},
   "source": [
    "Процент пропусков слишком велик, трогать их не будем, т.к это отразиться на выводах."
   ]
  },
  {
   "cell_type": "markdown",
   "metadata": {},
   "source": [
    "##### Изучим пропуски в столбце `rating`"
   ]
  },
  {
   "cell_type": "code",
   "execution_count": 18,
   "metadata": {},
   "outputs": [
    {
     "data": {
      "text/plain": [
       "6676"
      ]
     },
     "execution_count": 18,
     "metadata": {},
     "output_type": "execute_result"
    }
   ],
   "source": [
    "#Пропуски в rating\n",
    "df['rating'].isna().sum()"
   ]
  },
  {
   "cell_type": "code",
   "execution_count": 19,
   "metadata": {},
   "outputs": [
    {
     "data": {
      "text/plain": [
       "0.40598394551204087"
      ]
     },
     "execution_count": 19,
     "metadata": {},
     "output_type": "execute_result"
    }
   ],
   "source": [
    "#Процент пропущенных значений в rating\n",
    "df['rating'].isna().mean()"
   ]
  },
  {
   "cell_type": "markdown",
   "metadata": {},
   "source": [
    "40% пропусков, очень много, поставим заглушку в виде tbd, что значит неопределено"
   ]
  },
  {
   "cell_type": "code",
   "execution_count": 20,
   "metadata": {},
   "outputs": [],
   "source": [
    "df['rating'] = df['rating'].fillna('tbd')"
   ]
  },
  {
   "cell_type": "code",
   "execution_count": 21,
   "metadata": {},
   "outputs": [
    {
     "data": {
      "text/plain": [
       "0"
      ]
     },
     "execution_count": 21,
     "metadata": {},
     "output_type": "execute_result"
    }
   ],
   "source": [
    "df['rating'].isna().sum()"
   ]
  },
  {
   "cell_type": "code",
   "execution_count": 22,
   "metadata": {
    "scrolled": true
   },
   "outputs": [
    {
     "name": "stdout",
     "output_type": "stream",
     "text": [
      "<class 'pandas.core.frame.DataFrame'>\n",
      "Int64Index: 16444 entries, 0 to 16714\n",
      "Data columns (total 11 columns):\n",
      " #   Column           Non-Null Count  Dtype  \n",
      "---  ------           --------------  -----  \n",
      " 0   name             16444 non-null  object \n",
      " 1   platform         16444 non-null  object \n",
      " 2   year_of_release  16444 non-null  Int64  \n",
      " 3   genre            16444 non-null  object \n",
      " 4   na_sales         16444 non-null  float64\n",
      " 5   eu_sales         16444 non-null  float64\n",
      " 6   jp_sales         16444 non-null  float64\n",
      " 7   other_sales      16444 non-null  float64\n",
      " 8   critic_score     7983 non-null   float64\n",
      " 9   user_score       7463 non-null   float64\n",
      " 10  rating           16444 non-null  object \n",
      "dtypes: Int64(1), float64(6), object(4)\n",
      "memory usage: 1.5+ MB\n"
     ]
    },
    {
     "data": {
      "text/html": [
       "<div>\n",
       "<style scoped>\n",
       "    .dataframe tbody tr th:only-of-type {\n",
       "        vertical-align: middle;\n",
       "    }\n",
       "\n",
       "    .dataframe tbody tr th {\n",
       "        vertical-align: top;\n",
       "    }\n",
       "\n",
       "    .dataframe thead th {\n",
       "        text-align: right;\n",
       "    }\n",
       "</style>\n",
       "<table border=\"1\" class=\"dataframe\">\n",
       "  <thead>\n",
       "    <tr style=\"text-align: right;\">\n",
       "      <th></th>\n",
       "      <th>name</th>\n",
       "      <th>platform</th>\n",
       "      <th>year_of_release</th>\n",
       "      <th>genre</th>\n",
       "      <th>na_sales</th>\n",
       "      <th>eu_sales</th>\n",
       "      <th>jp_sales</th>\n",
       "      <th>other_sales</th>\n",
       "      <th>critic_score</th>\n",
       "      <th>user_score</th>\n",
       "      <th>rating</th>\n",
       "    </tr>\n",
       "  </thead>\n",
       "  <tbody>\n",
       "    <tr>\n",
       "      <th>0</th>\n",
       "      <td>Wii Sports</td>\n",
       "      <td>Wii</td>\n",
       "      <td>2006</td>\n",
       "      <td>Sports</td>\n",
       "      <td>41.36</td>\n",
       "      <td>28.96</td>\n",
       "      <td>3.77</td>\n",
       "      <td>8.45</td>\n",
       "      <td>76.0</td>\n",
       "      <td>8.0</td>\n",
       "      <td>E</td>\n",
       "    </tr>\n",
       "    <tr>\n",
       "      <th>1</th>\n",
       "      <td>Super Mario Bros.</td>\n",
       "      <td>NES</td>\n",
       "      <td>1985</td>\n",
       "      <td>Platform</td>\n",
       "      <td>29.08</td>\n",
       "      <td>3.58</td>\n",
       "      <td>6.81</td>\n",
       "      <td>0.77</td>\n",
       "      <td>NaN</td>\n",
       "      <td>NaN</td>\n",
       "      <td>tbd</td>\n",
       "    </tr>\n",
       "    <tr>\n",
       "      <th>2</th>\n",
       "      <td>Mario Kart Wii</td>\n",
       "      <td>Wii</td>\n",
       "      <td>2008</td>\n",
       "      <td>Racing</td>\n",
       "      <td>15.68</td>\n",
       "      <td>12.76</td>\n",
       "      <td>3.79</td>\n",
       "      <td>3.29</td>\n",
       "      <td>82.0</td>\n",
       "      <td>8.3</td>\n",
       "      <td>E</td>\n",
       "    </tr>\n",
       "    <tr>\n",
       "      <th>3</th>\n",
       "      <td>Wii Sports Resort</td>\n",
       "      <td>Wii</td>\n",
       "      <td>2009</td>\n",
       "      <td>Sports</td>\n",
       "      <td>15.61</td>\n",
       "      <td>10.93</td>\n",
       "      <td>3.28</td>\n",
       "      <td>2.95</td>\n",
       "      <td>80.0</td>\n",
       "      <td>8.0</td>\n",
       "      <td>E</td>\n",
       "    </tr>\n",
       "    <tr>\n",
       "      <th>4</th>\n",
       "      <td>Pokemon Red/Pokemon Blue</td>\n",
       "      <td>GB</td>\n",
       "      <td>1996</td>\n",
       "      <td>Role-Playing</td>\n",
       "      <td>11.27</td>\n",
       "      <td>8.89</td>\n",
       "      <td>10.22</td>\n",
       "      <td>1.00</td>\n",
       "      <td>NaN</td>\n",
       "      <td>NaN</td>\n",
       "      <td>tbd</td>\n",
       "    </tr>\n",
       "    <tr>\n",
       "      <th>5</th>\n",
       "      <td>Tetris</td>\n",
       "      <td>GB</td>\n",
       "      <td>1989</td>\n",
       "      <td>Puzzle</td>\n",
       "      <td>23.20</td>\n",
       "      <td>2.26</td>\n",
       "      <td>4.22</td>\n",
       "      <td>0.58</td>\n",
       "      <td>NaN</td>\n",
       "      <td>NaN</td>\n",
       "      <td>tbd</td>\n",
       "    </tr>\n",
       "    <tr>\n",
       "      <th>6</th>\n",
       "      <td>New Super Mario Bros.</td>\n",
       "      <td>DS</td>\n",
       "      <td>2006</td>\n",
       "      <td>Platform</td>\n",
       "      <td>11.28</td>\n",
       "      <td>9.14</td>\n",
       "      <td>6.50</td>\n",
       "      <td>2.88</td>\n",
       "      <td>89.0</td>\n",
       "      <td>8.5</td>\n",
       "      <td>E</td>\n",
       "    </tr>\n",
       "    <tr>\n",
       "      <th>7</th>\n",
       "      <td>Wii Play</td>\n",
       "      <td>Wii</td>\n",
       "      <td>2006</td>\n",
       "      <td>Misc</td>\n",
       "      <td>13.96</td>\n",
       "      <td>9.18</td>\n",
       "      <td>2.93</td>\n",
       "      <td>2.84</td>\n",
       "      <td>58.0</td>\n",
       "      <td>6.6</td>\n",
       "      <td>E</td>\n",
       "    </tr>\n",
       "    <tr>\n",
       "      <th>8</th>\n",
       "      <td>New Super Mario Bros. Wii</td>\n",
       "      <td>Wii</td>\n",
       "      <td>2009</td>\n",
       "      <td>Platform</td>\n",
       "      <td>14.44</td>\n",
       "      <td>6.94</td>\n",
       "      <td>4.70</td>\n",
       "      <td>2.24</td>\n",
       "      <td>87.0</td>\n",
       "      <td>8.4</td>\n",
       "      <td>E</td>\n",
       "    </tr>\n",
       "    <tr>\n",
       "      <th>9</th>\n",
       "      <td>Duck Hunt</td>\n",
       "      <td>NES</td>\n",
       "      <td>1984</td>\n",
       "      <td>Shooter</td>\n",
       "      <td>26.93</td>\n",
       "      <td>0.63</td>\n",
       "      <td>0.28</td>\n",
       "      <td>0.47</td>\n",
       "      <td>NaN</td>\n",
       "      <td>NaN</td>\n",
       "      <td>tbd</td>\n",
       "    </tr>\n",
       "    <tr>\n",
       "      <th>10</th>\n",
       "      <td>Nintendogs</td>\n",
       "      <td>DS</td>\n",
       "      <td>2005</td>\n",
       "      <td>Simulation</td>\n",
       "      <td>9.05</td>\n",
       "      <td>10.95</td>\n",
       "      <td>1.93</td>\n",
       "      <td>2.74</td>\n",
       "      <td>NaN</td>\n",
       "      <td>NaN</td>\n",
       "      <td>tbd</td>\n",
       "    </tr>\n",
       "    <tr>\n",
       "      <th>11</th>\n",
       "      <td>Mario Kart DS</td>\n",
       "      <td>DS</td>\n",
       "      <td>2005</td>\n",
       "      <td>Racing</td>\n",
       "      <td>9.71</td>\n",
       "      <td>7.47</td>\n",
       "      <td>4.13</td>\n",
       "      <td>1.90</td>\n",
       "      <td>91.0</td>\n",
       "      <td>8.6</td>\n",
       "      <td>E</td>\n",
       "    </tr>\n",
       "    <tr>\n",
       "      <th>12</th>\n",
       "      <td>Pokemon Gold/Pokemon Silver</td>\n",
       "      <td>GB</td>\n",
       "      <td>1999</td>\n",
       "      <td>Role-Playing</td>\n",
       "      <td>9.00</td>\n",
       "      <td>6.18</td>\n",
       "      <td>7.20</td>\n",
       "      <td>0.71</td>\n",
       "      <td>NaN</td>\n",
       "      <td>NaN</td>\n",
       "      <td>tbd</td>\n",
       "    </tr>\n",
       "    <tr>\n",
       "      <th>13</th>\n",
       "      <td>Wii Fit</td>\n",
       "      <td>Wii</td>\n",
       "      <td>2007</td>\n",
       "      <td>Sports</td>\n",
       "      <td>8.92</td>\n",
       "      <td>8.03</td>\n",
       "      <td>3.60</td>\n",
       "      <td>2.15</td>\n",
       "      <td>80.0</td>\n",
       "      <td>7.7</td>\n",
       "      <td>E</td>\n",
       "    </tr>\n",
       "    <tr>\n",
       "      <th>14</th>\n",
       "      <td>Kinect Adventures!</td>\n",
       "      <td>X360</td>\n",
       "      <td>2010</td>\n",
       "      <td>Misc</td>\n",
       "      <td>15.00</td>\n",
       "      <td>4.89</td>\n",
       "      <td>0.24</td>\n",
       "      <td>1.69</td>\n",
       "      <td>61.0</td>\n",
       "      <td>6.3</td>\n",
       "      <td>E</td>\n",
       "    </tr>\n",
       "    <tr>\n",
       "      <th>15</th>\n",
       "      <td>Wii Fit Plus</td>\n",
       "      <td>Wii</td>\n",
       "      <td>2009</td>\n",
       "      <td>Sports</td>\n",
       "      <td>9.01</td>\n",
       "      <td>8.49</td>\n",
       "      <td>2.53</td>\n",
       "      <td>1.77</td>\n",
       "      <td>80.0</td>\n",
       "      <td>7.4</td>\n",
       "      <td>E</td>\n",
       "    </tr>\n",
       "    <tr>\n",
       "      <th>16</th>\n",
       "      <td>Grand Theft Auto V</td>\n",
       "      <td>PS3</td>\n",
       "      <td>2013</td>\n",
       "      <td>Action</td>\n",
       "      <td>7.02</td>\n",
       "      <td>9.09</td>\n",
       "      <td>0.98</td>\n",
       "      <td>3.96</td>\n",
       "      <td>97.0</td>\n",
       "      <td>8.2</td>\n",
       "      <td>M</td>\n",
       "    </tr>\n",
       "    <tr>\n",
       "      <th>17</th>\n",
       "      <td>Grand Theft Auto: San Andreas</td>\n",
       "      <td>PS2</td>\n",
       "      <td>2004</td>\n",
       "      <td>Action</td>\n",
       "      <td>9.43</td>\n",
       "      <td>0.40</td>\n",
       "      <td>0.41</td>\n",
       "      <td>10.57</td>\n",
       "      <td>95.0</td>\n",
       "      <td>9.0</td>\n",
       "      <td>M</td>\n",
       "    </tr>\n",
       "    <tr>\n",
       "      <th>18</th>\n",
       "      <td>Super Mario World</td>\n",
       "      <td>SNES</td>\n",
       "      <td>1990</td>\n",
       "      <td>Platform</td>\n",
       "      <td>12.78</td>\n",
       "      <td>3.75</td>\n",
       "      <td>3.54</td>\n",
       "      <td>0.55</td>\n",
       "      <td>NaN</td>\n",
       "      <td>NaN</td>\n",
       "      <td>tbd</td>\n",
       "    </tr>\n",
       "    <tr>\n",
       "      <th>19</th>\n",
       "      <td>Brain Age: Train Your Brain in Minutes a Day</td>\n",
       "      <td>DS</td>\n",
       "      <td>2005</td>\n",
       "      <td>Misc</td>\n",
       "      <td>4.74</td>\n",
       "      <td>9.20</td>\n",
       "      <td>4.16</td>\n",
       "      <td>2.04</td>\n",
       "      <td>77.0</td>\n",
       "      <td>7.9</td>\n",
       "      <td>E</td>\n",
       "    </tr>\n",
       "  </tbody>\n",
       "</table>\n",
       "</div>"
      ],
      "text/plain": [
       "                                            name platform  year_of_release  \\\n",
       "0                                     Wii Sports      Wii             2006   \n",
       "1                              Super Mario Bros.      NES             1985   \n",
       "2                                 Mario Kart Wii      Wii             2008   \n",
       "3                              Wii Sports Resort      Wii             2009   \n",
       "4                       Pokemon Red/Pokemon Blue       GB             1996   \n",
       "5                                         Tetris       GB             1989   \n",
       "6                          New Super Mario Bros.       DS             2006   \n",
       "7                                       Wii Play      Wii             2006   \n",
       "8                      New Super Mario Bros. Wii      Wii             2009   \n",
       "9                                      Duck Hunt      NES             1984   \n",
       "10                                    Nintendogs       DS             2005   \n",
       "11                                 Mario Kart DS       DS             2005   \n",
       "12                   Pokemon Gold/Pokemon Silver       GB             1999   \n",
       "13                                       Wii Fit      Wii             2007   \n",
       "14                            Kinect Adventures!     X360             2010   \n",
       "15                                  Wii Fit Plus      Wii             2009   \n",
       "16                            Grand Theft Auto V      PS3             2013   \n",
       "17                 Grand Theft Auto: San Andreas      PS2             2004   \n",
       "18                             Super Mario World     SNES             1990   \n",
       "19  Brain Age: Train Your Brain in Minutes a Day       DS             2005   \n",
       "\n",
       "           genre  na_sales  eu_sales  jp_sales  other_sales  critic_score  \\\n",
       "0         Sports     41.36     28.96      3.77         8.45          76.0   \n",
       "1       Platform     29.08      3.58      6.81         0.77           NaN   \n",
       "2         Racing     15.68     12.76      3.79         3.29          82.0   \n",
       "3         Sports     15.61     10.93      3.28         2.95          80.0   \n",
       "4   Role-Playing     11.27      8.89     10.22         1.00           NaN   \n",
       "5         Puzzle     23.20      2.26      4.22         0.58           NaN   \n",
       "6       Platform     11.28      9.14      6.50         2.88          89.0   \n",
       "7           Misc     13.96      9.18      2.93         2.84          58.0   \n",
       "8       Platform     14.44      6.94      4.70         2.24          87.0   \n",
       "9        Shooter     26.93      0.63      0.28         0.47           NaN   \n",
       "10    Simulation      9.05     10.95      1.93         2.74           NaN   \n",
       "11        Racing      9.71      7.47      4.13         1.90          91.0   \n",
       "12  Role-Playing      9.00      6.18      7.20         0.71           NaN   \n",
       "13        Sports      8.92      8.03      3.60         2.15          80.0   \n",
       "14          Misc     15.00      4.89      0.24         1.69          61.0   \n",
       "15        Sports      9.01      8.49      2.53         1.77          80.0   \n",
       "16        Action      7.02      9.09      0.98         3.96          97.0   \n",
       "17        Action      9.43      0.40      0.41        10.57          95.0   \n",
       "18      Platform     12.78      3.75      3.54         0.55           NaN   \n",
       "19          Misc      4.74      9.20      4.16         2.04          77.0   \n",
       "\n",
       "    user_score rating  \n",
       "0          8.0      E  \n",
       "1          NaN    tbd  \n",
       "2          8.3      E  \n",
       "3          8.0      E  \n",
       "4          NaN    tbd  \n",
       "5          NaN    tbd  \n",
       "6          8.5      E  \n",
       "7          6.6      E  \n",
       "8          8.4      E  \n",
       "9          NaN    tbd  \n",
       "10         NaN    tbd  \n",
       "11         8.6      E  \n",
       "12         NaN    tbd  \n",
       "13         7.7      E  \n",
       "14         6.3      E  \n",
       "15         7.4      E  \n",
       "16         8.2      M  \n",
       "17         9.0      M  \n",
       "18         NaN    tbd  \n",
       "19         7.9      E  "
      ]
     },
     "execution_count": 22,
     "metadata": {},
     "output_type": "execute_result"
    }
   ],
   "source": [
    "df.info()\n",
    "df.head(20)"
   ]
  },
  {
   "cell_type": "markdown",
   "metadata": {},
   "source": [
    "### Суммарные продажи во всех регионах"
   ]
  },
  {
   "cell_type": "markdown",
   "metadata": {},
   "source": [
    "Создадим столбец с суммарными продажами"
   ]
  },
  {
   "cell_type": "code",
   "execution_count": 23,
   "metadata": {},
   "outputs": [
    {
     "data": {
      "text/html": [
       "<div>\n",
       "<style scoped>\n",
       "    .dataframe tbody tr th:only-of-type {\n",
       "        vertical-align: middle;\n",
       "    }\n",
       "\n",
       "    .dataframe tbody tr th {\n",
       "        vertical-align: top;\n",
       "    }\n",
       "\n",
       "    .dataframe thead th {\n",
       "        text-align: right;\n",
       "    }\n",
       "</style>\n",
       "<table border=\"1\" class=\"dataframe\">\n",
       "  <thead>\n",
       "    <tr style=\"text-align: right;\">\n",
       "      <th></th>\n",
       "      <th>name</th>\n",
       "      <th>platform</th>\n",
       "      <th>year_of_release</th>\n",
       "      <th>genre</th>\n",
       "      <th>na_sales</th>\n",
       "      <th>eu_sales</th>\n",
       "      <th>jp_sales</th>\n",
       "      <th>other_sales</th>\n",
       "      <th>critic_score</th>\n",
       "      <th>user_score</th>\n",
       "      <th>rating</th>\n",
       "      <th>all_sales</th>\n",
       "    </tr>\n",
       "  </thead>\n",
       "  <tbody>\n",
       "    <tr>\n",
       "      <th>0</th>\n",
       "      <td>Wii Sports</td>\n",
       "      <td>Wii</td>\n",
       "      <td>2006</td>\n",
       "      <td>Sports</td>\n",
       "      <td>41.36</td>\n",
       "      <td>28.96</td>\n",
       "      <td>3.77</td>\n",
       "      <td>8.45</td>\n",
       "      <td>76.0</td>\n",
       "      <td>8.0</td>\n",
       "      <td>E</td>\n",
       "      <td>82.54</td>\n",
       "    </tr>\n",
       "    <tr>\n",
       "      <th>1</th>\n",
       "      <td>Super Mario Bros.</td>\n",
       "      <td>NES</td>\n",
       "      <td>1985</td>\n",
       "      <td>Platform</td>\n",
       "      <td>29.08</td>\n",
       "      <td>3.58</td>\n",
       "      <td>6.81</td>\n",
       "      <td>0.77</td>\n",
       "      <td>NaN</td>\n",
       "      <td>NaN</td>\n",
       "      <td>tbd</td>\n",
       "      <td>40.24</td>\n",
       "    </tr>\n",
       "    <tr>\n",
       "      <th>2</th>\n",
       "      <td>Mario Kart Wii</td>\n",
       "      <td>Wii</td>\n",
       "      <td>2008</td>\n",
       "      <td>Racing</td>\n",
       "      <td>15.68</td>\n",
       "      <td>12.76</td>\n",
       "      <td>3.79</td>\n",
       "      <td>3.29</td>\n",
       "      <td>82.0</td>\n",
       "      <td>8.3</td>\n",
       "      <td>E</td>\n",
       "      <td>35.52</td>\n",
       "    </tr>\n",
       "    <tr>\n",
       "      <th>3</th>\n",
       "      <td>Wii Sports Resort</td>\n",
       "      <td>Wii</td>\n",
       "      <td>2009</td>\n",
       "      <td>Sports</td>\n",
       "      <td>15.61</td>\n",
       "      <td>10.93</td>\n",
       "      <td>3.28</td>\n",
       "      <td>2.95</td>\n",
       "      <td>80.0</td>\n",
       "      <td>8.0</td>\n",
       "      <td>E</td>\n",
       "      <td>32.77</td>\n",
       "    </tr>\n",
       "    <tr>\n",
       "      <th>4</th>\n",
       "      <td>Pokemon Red/Pokemon Blue</td>\n",
       "      <td>GB</td>\n",
       "      <td>1996</td>\n",
       "      <td>Role-Playing</td>\n",
       "      <td>11.27</td>\n",
       "      <td>8.89</td>\n",
       "      <td>10.22</td>\n",
       "      <td>1.00</td>\n",
       "      <td>NaN</td>\n",
       "      <td>NaN</td>\n",
       "      <td>tbd</td>\n",
       "      <td>31.38</td>\n",
       "    </tr>\n",
       "    <tr>\n",
       "      <th>...</th>\n",
       "      <td>...</td>\n",
       "      <td>...</td>\n",
       "      <td>...</td>\n",
       "      <td>...</td>\n",
       "      <td>...</td>\n",
       "      <td>...</td>\n",
       "      <td>...</td>\n",
       "      <td>...</td>\n",
       "      <td>...</td>\n",
       "      <td>...</td>\n",
       "      <td>...</td>\n",
       "      <td>...</td>\n",
       "    </tr>\n",
       "    <tr>\n",
       "      <th>16710</th>\n",
       "      <td>Samurai Warriors: Sanada Maru</td>\n",
       "      <td>PS3</td>\n",
       "      <td>2016</td>\n",
       "      <td>Action</td>\n",
       "      <td>0.00</td>\n",
       "      <td>0.00</td>\n",
       "      <td>0.01</td>\n",
       "      <td>0.00</td>\n",
       "      <td>NaN</td>\n",
       "      <td>NaN</td>\n",
       "      <td>tbd</td>\n",
       "      <td>0.01</td>\n",
       "    </tr>\n",
       "    <tr>\n",
       "      <th>16711</th>\n",
       "      <td>LMA Manager 2007</td>\n",
       "      <td>X360</td>\n",
       "      <td>2006</td>\n",
       "      <td>Sports</td>\n",
       "      <td>0.00</td>\n",
       "      <td>0.01</td>\n",
       "      <td>0.00</td>\n",
       "      <td>0.00</td>\n",
       "      <td>NaN</td>\n",
       "      <td>NaN</td>\n",
       "      <td>tbd</td>\n",
       "      <td>0.01</td>\n",
       "    </tr>\n",
       "    <tr>\n",
       "      <th>16712</th>\n",
       "      <td>Haitaka no Psychedelica</td>\n",
       "      <td>PSV</td>\n",
       "      <td>2016</td>\n",
       "      <td>Adventure</td>\n",
       "      <td>0.00</td>\n",
       "      <td>0.00</td>\n",
       "      <td>0.01</td>\n",
       "      <td>0.00</td>\n",
       "      <td>NaN</td>\n",
       "      <td>NaN</td>\n",
       "      <td>tbd</td>\n",
       "      <td>0.01</td>\n",
       "    </tr>\n",
       "    <tr>\n",
       "      <th>16713</th>\n",
       "      <td>Spirits &amp; Spells</td>\n",
       "      <td>GBA</td>\n",
       "      <td>2003</td>\n",
       "      <td>Platform</td>\n",
       "      <td>0.01</td>\n",
       "      <td>0.00</td>\n",
       "      <td>0.00</td>\n",
       "      <td>0.00</td>\n",
       "      <td>NaN</td>\n",
       "      <td>NaN</td>\n",
       "      <td>tbd</td>\n",
       "      <td>0.01</td>\n",
       "    </tr>\n",
       "    <tr>\n",
       "      <th>16714</th>\n",
       "      <td>Winning Post 8 2016</td>\n",
       "      <td>PSV</td>\n",
       "      <td>2016</td>\n",
       "      <td>Simulation</td>\n",
       "      <td>0.00</td>\n",
       "      <td>0.00</td>\n",
       "      <td>0.01</td>\n",
       "      <td>0.00</td>\n",
       "      <td>NaN</td>\n",
       "      <td>NaN</td>\n",
       "      <td>tbd</td>\n",
       "      <td>0.01</td>\n",
       "    </tr>\n",
       "  </tbody>\n",
       "</table>\n",
       "<p>16444 rows × 12 columns</p>\n",
       "</div>"
      ],
      "text/plain": [
       "                                name platform  year_of_release         genre  \\\n",
       "0                         Wii Sports      Wii             2006        Sports   \n",
       "1                  Super Mario Bros.      NES             1985      Platform   \n",
       "2                     Mario Kart Wii      Wii             2008        Racing   \n",
       "3                  Wii Sports Resort      Wii             2009        Sports   \n",
       "4           Pokemon Red/Pokemon Blue       GB             1996  Role-Playing   \n",
       "...                              ...      ...              ...           ...   \n",
       "16710  Samurai Warriors: Sanada Maru      PS3             2016        Action   \n",
       "16711               LMA Manager 2007     X360             2006        Sports   \n",
       "16712        Haitaka no Psychedelica      PSV             2016     Adventure   \n",
       "16713               Spirits & Spells      GBA             2003      Platform   \n",
       "16714            Winning Post 8 2016      PSV             2016    Simulation   \n",
       "\n",
       "       na_sales  eu_sales  jp_sales  other_sales  critic_score  user_score  \\\n",
       "0         41.36     28.96      3.77         8.45          76.0         8.0   \n",
       "1         29.08      3.58      6.81         0.77           NaN         NaN   \n",
       "2         15.68     12.76      3.79         3.29          82.0         8.3   \n",
       "3         15.61     10.93      3.28         2.95          80.0         8.0   \n",
       "4         11.27      8.89     10.22         1.00           NaN         NaN   \n",
       "...         ...       ...       ...          ...           ...         ...   \n",
       "16710      0.00      0.00      0.01         0.00           NaN         NaN   \n",
       "16711      0.00      0.01      0.00         0.00           NaN         NaN   \n",
       "16712      0.00      0.00      0.01         0.00           NaN         NaN   \n",
       "16713      0.01      0.00      0.00         0.00           NaN         NaN   \n",
       "16714      0.00      0.00      0.01         0.00           NaN         NaN   \n",
       "\n",
       "      rating  all_sales  \n",
       "0          E      82.54  \n",
       "1        tbd      40.24  \n",
       "2          E      35.52  \n",
       "3          E      32.77  \n",
       "4        tbd      31.38  \n",
       "...      ...        ...  \n",
       "16710    tbd       0.01  \n",
       "16711    tbd       0.01  \n",
       "16712    tbd       0.01  \n",
       "16713    tbd       0.01  \n",
       "16714    tbd       0.01  \n",
       "\n",
       "[16444 rows x 12 columns]"
      ]
     },
     "execution_count": 23,
     "metadata": {},
     "output_type": "execute_result"
    }
   ],
   "source": [
    "df['all_sales'] = df['na_sales'] + df['eu_sales'] + df['jp_sales'] + df['other_sales']\n",
    "df"
   ]
  },
  {
   "cell_type": "markdown",
   "metadata": {},
   "source": [
    "Данные обрабоботаны, пропуски заполнены, типы изменены"
   ]
  },
  {
   "cell_type": "markdown",
   "metadata": {},
   "source": [
    "## Исследовательский анализ"
   ]
  },
  {
   "cell_type": "markdown",
   "metadata": {},
   "source": [
    "### Количество игр по годам\n",
    "Посмотрите, сколько игр выпускалось в разные годы. Важны ли данные за все периоды?"
   ]
  },
  {
   "cell_type": "code",
   "execution_count": 24,
   "metadata": {},
   "outputs": [
    {
     "data": {
      "text/html": [
       "<div>\n",
       "<style scoped>\n",
       "    .dataframe tbody tr th:only-of-type {\n",
       "        vertical-align: middle;\n",
       "    }\n",
       "\n",
       "    .dataframe tbody tr th {\n",
       "        vertical-align: top;\n",
       "    }\n",
       "\n",
       "    .dataframe thead th {\n",
       "        text-align: right;\n",
       "    }\n",
       "</style>\n",
       "<table border=\"1\" class=\"dataframe\">\n",
       "  <thead>\n",
       "    <tr style=\"text-align: right;\">\n",
       "      <th></th>\n",
       "      <th>year</th>\n",
       "      <th>quan</th>\n",
       "    </tr>\n",
       "  </thead>\n",
       "  <tbody>\n",
       "    <tr>\n",
       "      <th>0</th>\n",
       "      <td>1980</td>\n",
       "      <td>9</td>\n",
       "    </tr>\n",
       "    <tr>\n",
       "      <th>1</th>\n",
       "      <td>1981</td>\n",
       "      <td>46</td>\n",
       "    </tr>\n",
       "    <tr>\n",
       "      <th>2</th>\n",
       "      <td>1982</td>\n",
       "      <td>36</td>\n",
       "    </tr>\n",
       "    <tr>\n",
       "      <th>3</th>\n",
       "      <td>1983</td>\n",
       "      <td>17</td>\n",
       "    </tr>\n",
       "    <tr>\n",
       "      <th>4</th>\n",
       "      <td>1984</td>\n",
       "      <td>14</td>\n",
       "    </tr>\n",
       "  </tbody>\n",
       "</table>\n",
       "</div>"
      ],
      "text/plain": [
       "   year  quan\n",
       "0  1980     9\n",
       "1  1981    46\n",
       "2  1982    36\n",
       "3  1983    17\n",
       "4  1984    14"
      ]
     },
     "execution_count": 24,
     "metadata": {},
     "output_type": "execute_result"
    }
   ],
   "source": [
    "#Сгруппируем к-во релизов по годам\n",
    "release = df.groupby('year_of_release')['name'].count().reset_index()\n",
    "release.columns = ['year', 'quan']\n",
    "release.head()"
   ]
  },
  {
   "cell_type": "code",
   "execution_count": 25,
   "metadata": {},
   "outputs": [
    {
     "data": {
      "image/png": "[encoded data removed]",
      "text/plain": [
       "<Figure size 1080x360 with 1 Axes>"
      ]
     },
     "metadata": {
      "needs_background": "light"
     },
     "output_type": "display_data"
    }
   ],
   "source": [
    "#Построим график\n",
    "plt.figure(figsize = (15, 5))\n",
    "plt.bar(release['year'], release['quan'])\n",
    "plt.grid()\n",
    "plt.title('Количество релизов по годам')\n",
    "plt.xlabel('Год')\n",
    "plt.ylabel('Кол-во релизов');"
   ]
  },
  {
   "cell_type": "markdown",
   "metadata": {},
   "source": [
    "До 1994 года наблюдается низкая активность по релизам, а потом резкий скачок. Пик приходится на 2008 и 2009 год, а вот в 2012 году график падает вдвое и оставшееся время держится почти на одном уровне."
   ]
  },
  {
   "cell_type": "markdown",
   "metadata": {},
   "source": [
    "### Изменение продаж по платформам\n",
    "Посмотрите, как менялись продажи по платформам. Выберите платформы с наибольшими суммарными продажами и постройте распределение по годам. За какой характерный срок появляются новые и исчезают старые платформы?"
   ]
  },
  {
   "cell_type": "code",
   "execution_count": 26,
   "metadata": {},
   "outputs": [
    {
     "data": {
      "text/html": [
       "<div>\n",
       "<style scoped>\n",
       "    .dataframe tbody tr th:only-of-type {\n",
       "        vertical-align: middle;\n",
       "    }\n",
       "\n",
       "    .dataframe tbody tr th {\n",
       "        vertical-align: top;\n",
       "    }\n",
       "\n",
       "    .dataframe thead th {\n",
       "        text-align: right;\n",
       "    }\n",
       "</style>\n",
       "<table border=\"1\" class=\"dataframe\">\n",
       "  <thead>\n",
       "    <tr style=\"text-align: right;\">\n",
       "      <th></th>\n",
       "      <th>name</th>\n",
       "      <th>platform</th>\n",
       "      <th>year_of_release</th>\n",
       "      <th>genre</th>\n",
       "      <th>na_sales</th>\n",
       "      <th>eu_sales</th>\n",
       "      <th>jp_sales</th>\n",
       "      <th>other_sales</th>\n",
       "      <th>critic_score</th>\n",
       "      <th>user_score</th>\n",
       "      <th>rating</th>\n",
       "      <th>all_sales</th>\n",
       "    </tr>\n",
       "  </thead>\n",
       "  <tbody>\n",
       "    <tr>\n",
       "      <th>0</th>\n",
       "      <td>Wii Sports</td>\n",
       "      <td>Wii</td>\n",
       "      <td>2006</td>\n",
       "      <td>Sports</td>\n",
       "      <td>41.36</td>\n",
       "      <td>28.96</td>\n",
       "      <td>3.77</td>\n",
       "      <td>8.45</td>\n",
       "      <td>76.0</td>\n",
       "      <td>8.0</td>\n",
       "      <td>E</td>\n",
       "      <td>82.54</td>\n",
       "    </tr>\n",
       "    <tr>\n",
       "      <th>1</th>\n",
       "      <td>Super Mario Bros.</td>\n",
       "      <td>NES</td>\n",
       "      <td>1985</td>\n",
       "      <td>Platform</td>\n",
       "      <td>29.08</td>\n",
       "      <td>3.58</td>\n",
       "      <td>6.81</td>\n",
       "      <td>0.77</td>\n",
       "      <td>NaN</td>\n",
       "      <td>NaN</td>\n",
       "      <td>tbd</td>\n",
       "      <td>40.24</td>\n",
       "    </tr>\n",
       "    <tr>\n",
       "      <th>2</th>\n",
       "      <td>Mario Kart Wii</td>\n",
       "      <td>Wii</td>\n",
       "      <td>2008</td>\n",
       "      <td>Racing</td>\n",
       "      <td>15.68</td>\n",
       "      <td>12.76</td>\n",
       "      <td>3.79</td>\n",
       "      <td>3.29</td>\n",
       "      <td>82.0</td>\n",
       "      <td>8.3</td>\n",
       "      <td>E</td>\n",
       "      <td>35.52</td>\n",
       "    </tr>\n",
       "    <tr>\n",
       "      <th>3</th>\n",
       "      <td>Wii Sports Resort</td>\n",
       "      <td>Wii</td>\n",
       "      <td>2009</td>\n",
       "      <td>Sports</td>\n",
       "      <td>15.61</td>\n",
       "      <td>10.93</td>\n",
       "      <td>3.28</td>\n",
       "      <td>2.95</td>\n",
       "      <td>80.0</td>\n",
       "      <td>8.0</td>\n",
       "      <td>E</td>\n",
       "      <td>32.77</td>\n",
       "    </tr>\n",
       "    <tr>\n",
       "      <th>4</th>\n",
       "      <td>Pokemon Red/Pokemon Blue</td>\n",
       "      <td>GB</td>\n",
       "      <td>1996</td>\n",
       "      <td>Role-Playing</td>\n",
       "      <td>11.27</td>\n",
       "      <td>8.89</td>\n",
       "      <td>10.22</td>\n",
       "      <td>1.00</td>\n",
       "      <td>NaN</td>\n",
       "      <td>NaN</td>\n",
       "      <td>tbd</td>\n",
       "      <td>31.38</td>\n",
       "    </tr>\n",
       "  </tbody>\n",
       "</table>\n",
       "</div>"
      ],
      "text/plain": [
       "                       name platform  year_of_release         genre  na_sales  \\\n",
       "0                Wii Sports      Wii             2006        Sports     41.36   \n",
       "1         Super Mario Bros.      NES             1985      Platform     29.08   \n",
       "2            Mario Kart Wii      Wii             2008        Racing     15.68   \n",
       "3         Wii Sports Resort      Wii             2009        Sports     15.61   \n",
       "4  Pokemon Red/Pokemon Blue       GB             1996  Role-Playing     11.27   \n",
       "\n",
       "   eu_sales  jp_sales  other_sales  critic_score  user_score rating  all_sales  \n",
       "0     28.96      3.77         8.45          76.0         8.0      E      82.54  \n",
       "1      3.58      6.81         0.77           NaN         NaN    tbd      40.24  \n",
       "2     12.76      3.79         3.29          82.0         8.3      E      35.52  \n",
       "3     10.93      3.28         2.95          80.0         8.0      E      32.77  \n",
       "4      8.89     10.22         1.00           NaN         NaN    tbd      31.38  "
      ]
     },
     "execution_count": 26,
     "metadata": {},
     "output_type": "execute_result"
    }
   ],
   "source": [
    "df.head()"
   ]
  },
  {
   "cell_type": "code",
   "execution_count": 27,
   "metadata": {
    "scrolled": true
   },
   "outputs": [
    {
     "data": {
      "text/html": [
       "<div>\n",
       "<style scoped>\n",
       "    .dataframe tbody tr th:only-of-type {\n",
       "        vertical-align: middle;\n",
       "    }\n",
       "\n",
       "    .dataframe tbody tr th {\n",
       "        vertical-align: top;\n",
       "    }\n",
       "\n",
       "    .dataframe thead th {\n",
       "        text-align: right;\n",
       "    }\n",
       "</style>\n",
       "<table border=\"1\" class=\"dataframe\">\n",
       "  <thead>\n",
       "    <tr style=\"text-align: right;\">\n",
       "      <th></th>\n",
       "      <th>platform</th>\n",
       "      <th>all_sales</th>\n",
       "    </tr>\n",
       "  </thead>\n",
       "  <tbody>\n",
       "    <tr>\n",
       "      <th>0</th>\n",
       "      <td>PS2</td>\n",
       "      <td>1233.56</td>\n",
       "    </tr>\n",
       "    <tr>\n",
       "      <th>1</th>\n",
       "      <td>X360</td>\n",
       "      <td>961.24</td>\n",
       "    </tr>\n",
       "    <tr>\n",
       "      <th>2</th>\n",
       "      <td>PS3</td>\n",
       "      <td>931.34</td>\n",
       "    </tr>\n",
       "    <tr>\n",
       "      <th>3</th>\n",
       "      <td>Wii</td>\n",
       "      <td>891.18</td>\n",
       "    </tr>\n",
       "    <tr>\n",
       "      <th>4</th>\n",
       "      <td>DS</td>\n",
       "      <td>802.78</td>\n",
       "    </tr>\n",
       "  </tbody>\n",
       "</table>\n",
       "</div>"
      ],
      "text/plain": [
       "  platform  all_sales\n",
       "0      PS2    1233.56\n",
       "1     X360     961.24\n",
       "2      PS3     931.34\n",
       "3      Wii     891.18\n",
       "4       DS     802.78"
      ]
     },
     "execution_count": 27,
     "metadata": {},
     "output_type": "execute_result"
    }
   ],
   "source": [
    "#Сгруппируемся по платформам исходя из продаж по всем регионам\n",
    "platform = (df\n",
    "            #.query('year_of_release >= 1994')\n",
    "            .groupby('platform')['all_sales']\n",
    "            .sum().sort_values(ascending=False)\n",
    "           )\n",
    "# Возьемм 5 топ платформ\n",
    "pltf_top = platform.head().reset_index()\n",
    "pltf_top\n",
    "pltf_top_dict = pltf_top['platform'].unique()\n",
    "pltf_top"
   ]
  },
  {
   "cell_type": "markdown",
   "metadata": {},
   "source": [
    "Выберем 5 платформ c наибольшими продажами по всем регионам и построим график"
   ]
  },
  {
   "cell_type": "code",
   "execution_count": 28,
   "metadata": {
    "scrolled": false
   },
   "outputs": [
    {
     "data": {
      "image/png": "[encoded data removed]",
      "text/plain": [
       "<Figure size 1440x720 with 1 Axes>"
      ]
     },
     "metadata": {
      "needs_background": "light"
     },
     "output_type": "display_data"
    }
   ],
   "source": [
    "for i in pltf_top_dict:\n",
    "    (df\n",
    "        .query('platform == @i')['year_of_release']\n",
    "        .plot(kind='hist', label=i, grid=True, bins=100, alpha=0.4, legend=True, figsize=(20, 10))\n",
    "    )\n",
    "    plt.title('Продажи платформ по годам')\n",
    "    plt.ylabel('Объем продаж')\n",
    "    plt.xlabel('Год')\n",
    "    #plt.show()\n"
   ]
  },
  {
   "cell_type": "markdown",
   "metadata": {},
   "source": [
    "По каждому графику нормальное распределение, очень сильно выбивается платформа DS, слишком уж сильно она стрельнула в 2007/2008 году, но также быстро закончилась.\n",
    "В среднем пик приходится на 5 год существования платформы\n",
    "\n",
    "<ds> Рассчитаем срок жизни каждой платформы\n",
    "   "
   ]
  },
  {
   "cell_type": "code",
   "execution_count": 29,
   "metadata": {
    "scrolled": true
   },
   "outputs": [
    {
     "data": {
      "text/html": [
       "<div>\n",
       "<style scoped>\n",
       "    .dataframe tbody tr th:only-of-type {\n",
       "        vertical-align: middle;\n",
       "    }\n",
       "\n",
       "    .dataframe tbody tr th {\n",
       "        vertical-align: top;\n",
       "    }\n",
       "\n",
       "    .dataframe thead th {\n",
       "        text-align: right;\n",
       "    }\n",
       "</style>\n",
       "<table border=\"1\" class=\"dataframe\">\n",
       "  <thead>\n",
       "    <tr style=\"text-align: right;\">\n",
       "      <th></th>\n",
       "      <th>min</th>\n",
       "      <th>max</th>\n",
       "      <th>lifetime</th>\n",
       "    </tr>\n",
       "    <tr>\n",
       "      <th>platform</th>\n",
       "      <th></th>\n",
       "      <th></th>\n",
       "      <th></th>\n",
       "    </tr>\n",
       "  </thead>\n",
       "  <tbody>\n",
       "    <tr>\n",
       "      <th>PC</th>\n",
       "      <td>1985</td>\n",
       "      <td>2016</td>\n",
       "      <td>31</td>\n",
       "    </tr>\n",
       "    <tr>\n",
       "      <th>DS</th>\n",
       "      <td>1985</td>\n",
       "      <td>2013</td>\n",
       "      <td>28</td>\n",
       "    </tr>\n",
       "    <tr>\n",
       "      <th>GB</th>\n",
       "      <td>1988</td>\n",
       "      <td>2001</td>\n",
       "      <td>13</td>\n",
       "    </tr>\n",
       "    <tr>\n",
       "      <th>X360</th>\n",
       "      <td>2005</td>\n",
       "      <td>2016</td>\n",
       "      <td>11</td>\n",
       "    </tr>\n",
       "    <tr>\n",
       "      <th>PSP</th>\n",
       "      <td>2004</td>\n",
       "      <td>2015</td>\n",
       "      <td>11</td>\n",
       "    </tr>\n",
       "    <tr>\n",
       "      <th>PS2</th>\n",
       "      <td>2000</td>\n",
       "      <td>2011</td>\n",
       "      <td>11</td>\n",
       "    </tr>\n",
       "    <tr>\n",
       "      <th>NES</th>\n",
       "      <td>1983</td>\n",
       "      <td>1994</td>\n",
       "      <td>11</td>\n",
       "    </tr>\n",
       "    <tr>\n",
       "      <th>DC</th>\n",
       "      <td>1998</td>\n",
       "      <td>2008</td>\n",
       "      <td>10</td>\n",
       "    </tr>\n",
       "    <tr>\n",
       "      <th>Wii</th>\n",
       "      <td>2006</td>\n",
       "      <td>2016</td>\n",
       "      <td>10</td>\n",
       "    </tr>\n",
       "    <tr>\n",
       "      <th>PS3</th>\n",
       "      <td>2006</td>\n",
       "      <td>2016</td>\n",
       "      <td>10</td>\n",
       "    </tr>\n",
       "    <tr>\n",
       "      <th>2600</th>\n",
       "      <td>1980</td>\n",
       "      <td>1989</td>\n",
       "      <td>9</td>\n",
       "    </tr>\n",
       "    <tr>\n",
       "      <th>SNES</th>\n",
       "      <td>1990</td>\n",
       "      <td>1999</td>\n",
       "      <td>9</td>\n",
       "    </tr>\n",
       "    <tr>\n",
       "      <th>PS</th>\n",
       "      <td>1994</td>\n",
       "      <td>2003</td>\n",
       "      <td>9</td>\n",
       "    </tr>\n",
       "    <tr>\n",
       "      <th>XB</th>\n",
       "      <td>2000</td>\n",
       "      <td>2008</td>\n",
       "      <td>8</td>\n",
       "    </tr>\n",
       "    <tr>\n",
       "      <th>GBA</th>\n",
       "      <td>2000</td>\n",
       "      <td>2007</td>\n",
       "      <td>7</td>\n",
       "    </tr>\n",
       "    <tr>\n",
       "      <th>GC</th>\n",
       "      <td>2001</td>\n",
       "      <td>2007</td>\n",
       "      <td>6</td>\n",
       "    </tr>\n",
       "    <tr>\n",
       "      <th>N64</th>\n",
       "      <td>1996</td>\n",
       "      <td>2002</td>\n",
       "      <td>6</td>\n",
       "    </tr>\n",
       "    <tr>\n",
       "      <th>3DS</th>\n",
       "      <td>2011</td>\n",
       "      <td>2016</td>\n",
       "      <td>5</td>\n",
       "    </tr>\n",
       "    <tr>\n",
       "      <th>PSV</th>\n",
       "      <td>2011</td>\n",
       "      <td>2016</td>\n",
       "      <td>5</td>\n",
       "    </tr>\n",
       "    <tr>\n",
       "      <th>SAT</th>\n",
       "      <td>1994</td>\n",
       "      <td>1999</td>\n",
       "      <td>5</td>\n",
       "    </tr>\n",
       "    <tr>\n",
       "      <th>WiiU</th>\n",
       "      <td>2012</td>\n",
       "      <td>2016</td>\n",
       "      <td>4</td>\n",
       "    </tr>\n",
       "    <tr>\n",
       "      <th>GEN</th>\n",
       "      <td>1990</td>\n",
       "      <td>1994</td>\n",
       "      <td>4</td>\n",
       "    </tr>\n",
       "    <tr>\n",
       "      <th>NG</th>\n",
       "      <td>1993</td>\n",
       "      <td>1996</td>\n",
       "      <td>3</td>\n",
       "    </tr>\n",
       "    <tr>\n",
       "      <th>XOne</th>\n",
       "      <td>2013</td>\n",
       "      <td>2016</td>\n",
       "      <td>3</td>\n",
       "    </tr>\n",
       "    <tr>\n",
       "      <th>PS4</th>\n",
       "      <td>2013</td>\n",
       "      <td>2016</td>\n",
       "      <td>3</td>\n",
       "    </tr>\n",
       "    <tr>\n",
       "      <th>WS</th>\n",
       "      <td>1999</td>\n",
       "      <td>2001</td>\n",
       "      <td>2</td>\n",
       "    </tr>\n",
       "    <tr>\n",
       "      <th>3DO</th>\n",
       "      <td>1994</td>\n",
       "      <td>1995</td>\n",
       "      <td>1</td>\n",
       "    </tr>\n",
       "    <tr>\n",
       "      <th>SCD</th>\n",
       "      <td>1993</td>\n",
       "      <td>1994</td>\n",
       "      <td>1</td>\n",
       "    </tr>\n",
       "    <tr>\n",
       "      <th>TG16</th>\n",
       "      <td>1995</td>\n",
       "      <td>1995</td>\n",
       "      <td>0</td>\n",
       "    </tr>\n",
       "    <tr>\n",
       "      <th>PCFX</th>\n",
       "      <td>1996</td>\n",
       "      <td>1996</td>\n",
       "      <td>0</td>\n",
       "    </tr>\n",
       "    <tr>\n",
       "      <th>GG</th>\n",
       "      <td>1992</td>\n",
       "      <td>1992</td>\n",
       "      <td>0</td>\n",
       "    </tr>\n",
       "  </tbody>\n",
       "</table>\n",
       "</div>"
      ],
      "text/plain": [
       "           min   max  lifetime\n",
       "platform                      \n",
       "PC        1985  2016        31\n",
       "DS        1985  2013        28\n",
       "GB        1988  2001        13\n",
       "X360      2005  2016        11\n",
       "PSP       2004  2015        11\n",
       "PS2       2000  2011        11\n",
       "NES       1983  1994        11\n",
       "DC        1998  2008        10\n",
       "Wii       2006  2016        10\n",
       "PS3       2006  2016        10\n",
       "2600      1980  1989         9\n",
       "SNES      1990  1999         9\n",
       "PS        1994  2003         9\n",
       "XB        2000  2008         8\n",
       "GBA       2000  2007         7\n",
       "GC        2001  2007         6\n",
       "N64       1996  2002         6\n",
       "3DS       2011  2016         5\n",
       "PSV       2011  2016         5\n",
       "SAT       1994  1999         5\n",
       "WiiU      2012  2016         4\n",
       "GEN       1990  1994         4\n",
       "NG        1993  1996         3\n",
       "XOne      2013  2016         3\n",
       "PS4       2013  2016         3\n",
       "WS        1999  2001         2\n",
       "3DO       1994  1995         1\n",
       "SCD       1993  1994         1\n",
       "TG16      1995  1995         0\n",
       "PCFX      1996  1996         0\n",
       "GG        1992  1992         0"
      ]
     },
     "execution_count": 29,
     "metadata": {},
     "output_type": "execute_result"
    }
   ],
   "source": [
    "life_time_pl = df.groupby('platform')['year_of_release'].agg(['min', 'max'])\n",
    "life_time_pl['lifetime'] = (life_time_pl['max'] - life_time_pl['min'])\n",
    "life_time_pl.sort_values(by = 'lifetime', ascending=False)\n",
    "#life_time_pl.describe()"
   ]
  },
  {
   "cell_type": "code",
   "execution_count": 30,
   "metadata": {},
   "outputs": [
    {
     "data": {
      "text/plain": [
       "Text(0, 0.5, 'Кол-во релизов')"
      ]
     },
     "execution_count": 30,
     "metadata": {},
     "output_type": "execute_result"
    },
    {
     "data": {
      "image/png": "[encoded data removed]",
      "text/plain": [
       "<Figure size 432x288 with 1 Axes>"
      ]
     },
     "metadata": {
      "needs_background": "light"
     },
     "output_type": "display_data"
    }
   ],
   "source": [
    "#plt.figure(figsize = (15, 5))\n",
    "life_time_pl['lifetime'].sort_values(ascending=False).plot()\n",
    "plt.grid()\n",
    "plt.title('Количество релизов по годам')\n",
    "plt.xlabel('Год')\n",
    "plt.ylabel('Кол-во релизов')"
   ]
  },
  {
   "cell_type": "markdown",
   "metadata": {},
   "source": [
    "Средний период жизни платформы 7-10 лет, с такой периодичностью они сменяют друг друга.\n",
    "\n",
    "Можно выделить из списка платформ - \"PC\" (компьютеры, наверное), они хоть и не в топах по выручке, но актуальны во все времена.\n",
    "    \n",
    "<ds>Также надо отметить,что платформа \"DS\" просуществовала очень длго - до 2013 года."
   ]
  },
  {
   "cell_type": "markdown",
   "metadata": {},
   "source": [
    "### Данные за актуальный период\n",
    "Возьмите данные за соответствующий актуальный период. Актуальный период определите самостоятельно в результате исследования предыдущих вопросов. Основной фактор — эти данные помогут построить прогноз на 2017 год."
   ]
  },
  {
   "cell_type": "markdown",
   "metadata": {},
   "source": [
    "Так как с 2009 по - 2016 наблюдается сокращения рынка, возьмем этот период и проанализируем данные исходя из этой тенденции.\n",
    "\n",
    "Так же в выборку попадут только актуальные платформы на 2016 год"
   ]
  },
  {
   "cell_type": "code",
   "execution_count": 31,
   "metadata": {
    "scrolled": false
   },
   "outputs": [
    {
     "data": {
      "text/html": [
       "<div>\n",
       "<style scoped>\n",
       "    .dataframe tbody tr th:only-of-type {\n",
       "        vertical-align: middle;\n",
       "    }\n",
       "\n",
       "    .dataframe tbody tr th {\n",
       "        vertical-align: top;\n",
       "    }\n",
       "\n",
       "    .dataframe thead th {\n",
       "        text-align: right;\n",
       "    }\n",
       "</style>\n",
       "<table border=\"1\" class=\"dataframe\">\n",
       "  <thead>\n",
       "    <tr style=\"text-align: right;\">\n",
       "      <th></th>\n",
       "      <th>name</th>\n",
       "      <th>platform</th>\n",
       "      <th>year_of_release</th>\n",
       "      <th>genre</th>\n",
       "      <th>na_sales</th>\n",
       "      <th>eu_sales</th>\n",
       "      <th>jp_sales</th>\n",
       "      <th>other_sales</th>\n",
       "      <th>critic_score</th>\n",
       "      <th>user_score</th>\n",
       "      <th>rating</th>\n",
       "      <th>all_sales</th>\n",
       "    </tr>\n",
       "  </thead>\n",
       "  <tbody>\n",
       "    <tr>\n",
       "      <th>16</th>\n",
       "      <td>Grand Theft Auto V</td>\n",
       "      <td>PS3</td>\n",
       "      <td>2013</td>\n",
       "      <td>Action</td>\n",
       "      <td>7.02</td>\n",
       "      <td>9.09</td>\n",
       "      <td>0.98</td>\n",
       "      <td>3.96</td>\n",
       "      <td>97.0</td>\n",
       "      <td>8.2</td>\n",
       "      <td>M</td>\n",
       "      <td>21.05</td>\n",
       "    </tr>\n",
       "    <tr>\n",
       "      <th>23</th>\n",
       "      <td>Grand Theft Auto V</td>\n",
       "      <td>X360</td>\n",
       "      <td>2013</td>\n",
       "      <td>Action</td>\n",
       "      <td>9.66</td>\n",
       "      <td>5.14</td>\n",
       "      <td>0.06</td>\n",
       "      <td>1.41</td>\n",
       "      <td>97.0</td>\n",
       "      <td>8.1</td>\n",
       "      <td>M</td>\n",
       "      <td>16.27</td>\n",
       "    </tr>\n",
       "    <tr>\n",
       "      <th>31</th>\n",
       "      <td>Call of Duty: Black Ops 3</td>\n",
       "      <td>PS4</td>\n",
       "      <td>2015</td>\n",
       "      <td>Shooter</td>\n",
       "      <td>6.03</td>\n",
       "      <td>5.86</td>\n",
       "      <td>0.36</td>\n",
       "      <td>2.38</td>\n",
       "      <td>NaN</td>\n",
       "      <td>NaN</td>\n",
       "      <td>tbd</td>\n",
       "      <td>14.63</td>\n",
       "    </tr>\n",
       "    <tr>\n",
       "      <th>33</th>\n",
       "      <td>Pokemon X/Pokemon Y</td>\n",
       "      <td>3DS</td>\n",
       "      <td>2013</td>\n",
       "      <td>Role-Playing</td>\n",
       "      <td>5.28</td>\n",
       "      <td>4.19</td>\n",
       "      <td>4.35</td>\n",
       "      <td>0.78</td>\n",
       "      <td>NaN</td>\n",
       "      <td>NaN</td>\n",
       "      <td>tbd</td>\n",
       "      <td>14.60</td>\n",
       "    </tr>\n",
       "    <tr>\n",
       "      <th>42</th>\n",
       "      <td>Grand Theft Auto V</td>\n",
       "      <td>PS4</td>\n",
       "      <td>2014</td>\n",
       "      <td>Action</td>\n",
       "      <td>3.96</td>\n",
       "      <td>6.31</td>\n",
       "      <td>0.38</td>\n",
       "      <td>1.97</td>\n",
       "      <td>97.0</td>\n",
       "      <td>8.3</td>\n",
       "      <td>M</td>\n",
       "      <td>12.62</td>\n",
       "    </tr>\n",
       "    <tr>\n",
       "      <th>...</th>\n",
       "      <td>...</td>\n",
       "      <td>...</td>\n",
       "      <td>...</td>\n",
       "      <td>...</td>\n",
       "      <td>...</td>\n",
       "      <td>...</td>\n",
       "      <td>...</td>\n",
       "      <td>...</td>\n",
       "      <td>...</td>\n",
       "      <td>...</td>\n",
       "      <td>...</td>\n",
       "      <td>...</td>\n",
       "    </tr>\n",
       "    <tr>\n",
       "      <th>16703</th>\n",
       "      <td>Strawberry Nauts</td>\n",
       "      <td>PSV</td>\n",
       "      <td>2016</td>\n",
       "      <td>Adventure</td>\n",
       "      <td>0.00</td>\n",
       "      <td>0.00</td>\n",
       "      <td>0.01</td>\n",
       "      <td>0.00</td>\n",
       "      <td>NaN</td>\n",
       "      <td>NaN</td>\n",
       "      <td>tbd</td>\n",
       "      <td>0.01</td>\n",
       "    </tr>\n",
       "    <tr>\n",
       "      <th>16707</th>\n",
       "      <td>Aiyoku no Eustia</td>\n",
       "      <td>PSV</td>\n",
       "      <td>2014</td>\n",
       "      <td>Misc</td>\n",
       "      <td>0.00</td>\n",
       "      <td>0.00</td>\n",
       "      <td>0.01</td>\n",
       "      <td>0.00</td>\n",
       "      <td>NaN</td>\n",
       "      <td>NaN</td>\n",
       "      <td>tbd</td>\n",
       "      <td>0.01</td>\n",
       "    </tr>\n",
       "    <tr>\n",
       "      <th>16710</th>\n",
       "      <td>Samurai Warriors: Sanada Maru</td>\n",
       "      <td>PS3</td>\n",
       "      <td>2016</td>\n",
       "      <td>Action</td>\n",
       "      <td>0.00</td>\n",
       "      <td>0.00</td>\n",
       "      <td>0.01</td>\n",
       "      <td>0.00</td>\n",
       "      <td>NaN</td>\n",
       "      <td>NaN</td>\n",
       "      <td>tbd</td>\n",
       "      <td>0.01</td>\n",
       "    </tr>\n",
       "    <tr>\n",
       "      <th>16712</th>\n",
       "      <td>Haitaka no Psychedelica</td>\n",
       "      <td>PSV</td>\n",
       "      <td>2016</td>\n",
       "      <td>Adventure</td>\n",
       "      <td>0.00</td>\n",
       "      <td>0.00</td>\n",
       "      <td>0.01</td>\n",
       "      <td>0.00</td>\n",
       "      <td>NaN</td>\n",
       "      <td>NaN</td>\n",
       "      <td>tbd</td>\n",
       "      <td>0.01</td>\n",
       "    </tr>\n",
       "    <tr>\n",
       "      <th>16714</th>\n",
       "      <td>Winning Post 8 2016</td>\n",
       "      <td>PSV</td>\n",
       "      <td>2016</td>\n",
       "      <td>Simulation</td>\n",
       "      <td>0.00</td>\n",
       "      <td>0.00</td>\n",
       "      <td>0.01</td>\n",
       "      <td>0.00</td>\n",
       "      <td>NaN</td>\n",
       "      <td>NaN</td>\n",
       "      <td>tbd</td>\n",
       "      <td>0.01</td>\n",
       "    </tr>\n",
       "  </tbody>\n",
       "</table>\n",
       "<p>2233 rows × 12 columns</p>\n",
       "</div>"
      ],
      "text/plain": [
       "                                name platform  year_of_release         genre  \\\n",
       "16                Grand Theft Auto V      PS3             2013        Action   \n",
       "23                Grand Theft Auto V     X360             2013        Action   \n",
       "31         Call of Duty: Black Ops 3      PS4             2015       Shooter   \n",
       "33               Pokemon X/Pokemon Y      3DS             2013  Role-Playing   \n",
       "42                Grand Theft Auto V      PS4             2014        Action   \n",
       "...                              ...      ...              ...           ...   \n",
       "16703               Strawberry Nauts      PSV             2016     Adventure   \n",
       "16707               Aiyoku no Eustia      PSV             2014          Misc   \n",
       "16710  Samurai Warriors: Sanada Maru      PS3             2016        Action   \n",
       "16712        Haitaka no Psychedelica      PSV             2016     Adventure   \n",
       "16714            Winning Post 8 2016      PSV             2016    Simulation   \n",
       "\n",
       "       na_sales  eu_sales  jp_sales  other_sales  critic_score  user_score  \\\n",
       "16         7.02      9.09      0.98         3.96          97.0         8.2   \n",
       "23         9.66      5.14      0.06         1.41          97.0         8.1   \n",
       "31         6.03      5.86      0.36         2.38           NaN         NaN   \n",
       "33         5.28      4.19      4.35         0.78           NaN         NaN   \n",
       "42         3.96      6.31      0.38         1.97          97.0         8.3   \n",
       "...         ...       ...       ...          ...           ...         ...   \n",
       "16703      0.00      0.00      0.01         0.00           NaN         NaN   \n",
       "16707      0.00      0.00      0.01         0.00           NaN         NaN   \n",
       "16710      0.00      0.00      0.01         0.00           NaN         NaN   \n",
       "16712      0.00      0.00      0.01         0.00           NaN         NaN   \n",
       "16714      0.00      0.00      0.01         0.00           NaN         NaN   \n",
       "\n",
       "      rating  all_sales  \n",
       "16         M      21.05  \n",
       "23         M      16.27  \n",
       "31       tbd      14.63  \n",
       "33       tbd      14.60  \n",
       "42         M      12.62  \n",
       "...      ...        ...  \n",
       "16703    tbd       0.01  \n",
       "16707    tbd       0.01  \n",
       "16710    tbd       0.01  \n",
       "16712    tbd       0.01  \n",
       "16714    tbd       0.01  \n",
       "\n",
       "[2233 rows x 12 columns]"
      ]
     },
     "execution_count": 31,
     "metadata": {},
     "output_type": "execute_result"
    }
   ],
   "source": [
    "#Создадим таблицу с периодом 2013-2016\n",
    "df_period = df[df['year_of_release'] >= 2013]\n",
    "df_period"
   ]
  },
  {
   "cell_type": "markdown",
   "metadata": {},
   "source": [
    "### Потенциально прибыльные платформы"
   ]
  },
  {
   "cell_type": "code",
   "execution_count": 32,
   "metadata": {},
   "outputs": [
    {
     "data": {
      "image/png": "[encoded data removed]",
      "text/plain": [
       "<Figure size 1080x576 with 2 Axes>"
      ]
     },
     "metadata": {},
     "output_type": "display_data"
    }
   ],
   "source": [
    "#Тепловая карта по продажам платформ за год\n",
    "df_pivot = df_period.pivot_table(index = 'platform', columns='year_of_release', values='all_sales', aggfunc='sum').T\n",
    "sns.set(rc = {'figure.figsize':(15,8)})\n",
    "sns.heatmap(df_pivot, vmax=60, annot=True);\n"
   ]
  },
  {
   "cell_type": "markdown",
   "metadata": {},
   "source": [
    "Однозначно стоит развивать XOne и PS4, не стоит забывать про 3DS, она приносит больше всего из этого списка после XOne/PS4,\n",
    "также оставим WiiU, эта консоль немного, но приносит и оставим PC, пусть на нем уже мало кто играет в сравнении с консолями, но все-таки играют.\n",
    "А в целом видно, что все платформы падают, но PS4 и XOne существуют только 4 года, а исходя из прошлых данных пик приходится на 5 год, так что еще все в переди"
   ]
  },
  {
   "cell_type": "code",
   "execution_count": 33,
   "metadata": {},
   "outputs": [
    {
     "data": {
      "text/html": [
       "<div>\n",
       "<style scoped>\n",
       "    .dataframe tbody tr th:only-of-type {\n",
       "        vertical-align: middle;\n",
       "    }\n",
       "\n",
       "    .dataframe tbody tr th {\n",
       "        vertical-align: top;\n",
       "    }\n",
       "\n",
       "    .dataframe thead th {\n",
       "        text-align: right;\n",
       "    }\n",
       "</style>\n",
       "<table border=\"1\" class=\"dataframe\">\n",
       "  <thead>\n",
       "    <tr style=\"text-align: right;\">\n",
       "      <th></th>\n",
       "      <th>name</th>\n",
       "      <th>platform</th>\n",
       "      <th>year_of_release</th>\n",
       "      <th>genre</th>\n",
       "      <th>na_sales</th>\n",
       "      <th>eu_sales</th>\n",
       "      <th>jp_sales</th>\n",
       "      <th>other_sales</th>\n",
       "      <th>critic_score</th>\n",
       "      <th>user_score</th>\n",
       "      <th>rating</th>\n",
       "      <th>all_sales</th>\n",
       "    </tr>\n",
       "  </thead>\n",
       "  <tbody>\n",
       "    <tr>\n",
       "      <th>31</th>\n",
       "      <td>Call of Duty: Black Ops 3</td>\n",
       "      <td>PS4</td>\n",
       "      <td>2015</td>\n",
       "      <td>Shooter</td>\n",
       "      <td>6.03</td>\n",
       "      <td>5.86</td>\n",
       "      <td>0.36</td>\n",
       "      <td>2.38</td>\n",
       "      <td>NaN</td>\n",
       "      <td>NaN</td>\n",
       "      <td>tbd</td>\n",
       "      <td>14.63</td>\n",
       "    </tr>\n",
       "    <tr>\n",
       "      <th>33</th>\n",
       "      <td>Pokemon X/Pokemon Y</td>\n",
       "      <td>3DS</td>\n",
       "      <td>2013</td>\n",
       "      <td>Role-Playing</td>\n",
       "      <td>5.28</td>\n",
       "      <td>4.19</td>\n",
       "      <td>4.35</td>\n",
       "      <td>0.78</td>\n",
       "      <td>NaN</td>\n",
       "      <td>NaN</td>\n",
       "      <td>tbd</td>\n",
       "      <td>14.60</td>\n",
       "    </tr>\n",
       "    <tr>\n",
       "      <th>42</th>\n",
       "      <td>Grand Theft Auto V</td>\n",
       "      <td>PS4</td>\n",
       "      <td>2014</td>\n",
       "      <td>Action</td>\n",
       "      <td>3.96</td>\n",
       "      <td>6.31</td>\n",
       "      <td>0.38</td>\n",
       "      <td>1.97</td>\n",
       "      <td>97.0</td>\n",
       "      <td>8.3</td>\n",
       "      <td>M</td>\n",
       "      <td>12.62</td>\n",
       "    </tr>\n",
       "    <tr>\n",
       "      <th>47</th>\n",
       "      <td>Pokemon Omega Ruby/Pokemon Alpha Sapphire</td>\n",
       "      <td>3DS</td>\n",
       "      <td>2014</td>\n",
       "      <td>Role-Playing</td>\n",
       "      <td>4.35</td>\n",
       "      <td>3.49</td>\n",
       "      <td>3.10</td>\n",
       "      <td>0.74</td>\n",
       "      <td>NaN</td>\n",
       "      <td>NaN</td>\n",
       "      <td>tbd</td>\n",
       "      <td>11.68</td>\n",
       "    </tr>\n",
       "    <tr>\n",
       "      <th>77</th>\n",
       "      <td>FIFA 16</td>\n",
       "      <td>PS4</td>\n",
       "      <td>2015</td>\n",
       "      <td>Sports</td>\n",
       "      <td>1.12</td>\n",
       "      <td>6.12</td>\n",
       "      <td>0.06</td>\n",
       "      <td>1.28</td>\n",
       "      <td>82.0</td>\n",
       "      <td>4.3</td>\n",
       "      <td>E</td>\n",
       "      <td>8.58</td>\n",
       "    </tr>\n",
       "    <tr>\n",
       "      <th>...</th>\n",
       "      <td>...</td>\n",
       "      <td>...</td>\n",
       "      <td>...</td>\n",
       "      <td>...</td>\n",
       "      <td>...</td>\n",
       "      <td>...</td>\n",
       "      <td>...</td>\n",
       "      <td>...</td>\n",
       "      <td>...</td>\n",
       "      <td>...</td>\n",
       "      <td>...</td>\n",
       "      <td>...</td>\n",
       "    </tr>\n",
       "    <tr>\n",
       "      <th>16660</th>\n",
       "      <td>Prison Architect</td>\n",
       "      <td>XOne</td>\n",
       "      <td>2016</td>\n",
       "      <td>Action</td>\n",
       "      <td>0.01</td>\n",
       "      <td>0.00</td>\n",
       "      <td>0.00</td>\n",
       "      <td>0.00</td>\n",
       "      <td>74.0</td>\n",
       "      <td>6.7</td>\n",
       "      <td>tbd</td>\n",
       "      <td>0.01</td>\n",
       "    </tr>\n",
       "    <tr>\n",
       "      <th>16668</th>\n",
       "      <td>Fujiko F. Fujio Characters: Great Assembly! Sl...</td>\n",
       "      <td>3DS</td>\n",
       "      <td>2014</td>\n",
       "      <td>Action</td>\n",
       "      <td>0.00</td>\n",
       "      <td>0.00</td>\n",
       "      <td>0.01</td>\n",
       "      <td>0.00</td>\n",
       "      <td>NaN</td>\n",
       "      <td>NaN</td>\n",
       "      <td>tbd</td>\n",
       "      <td>0.01</td>\n",
       "    </tr>\n",
       "    <tr>\n",
       "      <th>16672</th>\n",
       "      <td>Metal Gear Solid V: The Definitive Experience</td>\n",
       "      <td>XOne</td>\n",
       "      <td>2016</td>\n",
       "      <td>Action</td>\n",
       "      <td>0.01</td>\n",
       "      <td>0.00</td>\n",
       "      <td>0.00</td>\n",
       "      <td>0.00</td>\n",
       "      <td>NaN</td>\n",
       "      <td>NaN</td>\n",
       "      <td>M</td>\n",
       "      <td>0.01</td>\n",
       "    </tr>\n",
       "    <tr>\n",
       "      <th>16677</th>\n",
       "      <td>Aikatsu Stars! My Special Appeal</td>\n",
       "      <td>3DS</td>\n",
       "      <td>2016</td>\n",
       "      <td>Action</td>\n",
       "      <td>0.00</td>\n",
       "      <td>0.00</td>\n",
       "      <td>0.01</td>\n",
       "      <td>0.00</td>\n",
       "      <td>NaN</td>\n",
       "      <td>NaN</td>\n",
       "      <td>tbd</td>\n",
       "      <td>0.01</td>\n",
       "    </tr>\n",
       "    <tr>\n",
       "      <th>16692</th>\n",
       "      <td>Metal Gear Solid V: Ground Zeroes</td>\n",
       "      <td>PC</td>\n",
       "      <td>2014</td>\n",
       "      <td>Action</td>\n",
       "      <td>0.00</td>\n",
       "      <td>0.01</td>\n",
       "      <td>0.00</td>\n",
       "      <td>0.00</td>\n",
       "      <td>80.0</td>\n",
       "      <td>7.6</td>\n",
       "      <td>M</td>\n",
       "      <td>0.01</td>\n",
       "    </tr>\n",
       "  </tbody>\n",
       "</table>\n",
       "<p>1246 rows × 12 columns</p>\n",
       "</div>"
      ],
      "text/plain": [
       "                                                    name platform  \\\n",
       "31                             Call of Duty: Black Ops 3      PS4   \n",
       "33                                   Pokemon X/Pokemon Y      3DS   \n",
       "42                                    Grand Theft Auto V      PS4   \n",
       "47             Pokemon Omega Ruby/Pokemon Alpha Sapphire      3DS   \n",
       "77                                               FIFA 16      PS4   \n",
       "...                                                  ...      ...   \n",
       "16660                                   Prison Architect     XOne   \n",
       "16668  Fujiko F. Fujio Characters: Great Assembly! Sl...      3DS   \n",
       "16672      Metal Gear Solid V: The Definitive Experience     XOne   \n",
       "16677                   Aikatsu Stars! My Special Appeal      3DS   \n",
       "16692                  Metal Gear Solid V: Ground Zeroes       PC   \n",
       "\n",
       "       year_of_release         genre  na_sales  eu_sales  jp_sales  \\\n",
       "31                2015       Shooter      6.03      5.86      0.36   \n",
       "33                2013  Role-Playing      5.28      4.19      4.35   \n",
       "42                2014        Action      3.96      6.31      0.38   \n",
       "47                2014  Role-Playing      4.35      3.49      3.10   \n",
       "77                2015        Sports      1.12      6.12      0.06   \n",
       "...                ...           ...       ...       ...       ...   \n",
       "16660             2016        Action      0.01      0.00      0.00   \n",
       "16668             2014        Action      0.00      0.00      0.01   \n",
       "16672             2016        Action      0.01      0.00      0.00   \n",
       "16677             2016        Action      0.00      0.00      0.01   \n",
       "16692             2014        Action      0.00      0.01      0.00   \n",
       "\n",
       "       other_sales  critic_score  user_score rating  all_sales  \n",
       "31            2.38           NaN         NaN    tbd      14.63  \n",
       "33            0.78           NaN         NaN    tbd      14.60  \n",
       "42            1.97          97.0         8.3      M      12.62  \n",
       "47            0.74           NaN         NaN    tbd      11.68  \n",
       "77            1.28          82.0         4.3      E       8.58  \n",
       "...            ...           ...         ...    ...        ...  \n",
       "16660         0.00          74.0         6.7    tbd       0.01  \n",
       "16668         0.00           NaN         NaN    tbd       0.01  \n",
       "16672         0.00           NaN         NaN      M       0.01  \n",
       "16677         0.00           NaN         NaN    tbd       0.01  \n",
       "16692         0.00          80.0         7.6      M       0.01  \n",
       "\n",
       "[1246 rows x 12 columns]"
      ]
     },
     "execution_count": 33,
     "metadata": {},
     "output_type": "execute_result"
    }
   ],
   "source": [
    "#Оставим жизнеспособные платформы\n",
    "df_period\n",
    "top_pltf = df_period.query('platform == [\"XOne\", \"PS4\", \"3DS\", \"WiiU\", \"PC\"]')\n",
    "top_pltf"
   ]
  },
  {
   "cell_type": "markdown",
   "metadata": {},
   "source": [
    "Итог:\n",
    "* XOne и PS4 однозначно нужно развивать, у них, конечно, наблюдается спад по продажам, но они даже не дошли до середины своего жизненного цикла, который составляет 10-11 лет\n",
    "* 3DS тоже стоит рассматривать, эта платформа тоже приносит неплохо денег, больше чем все остальные после XOne/PS4, но не слишком сильно акцентироваться на ней, т.к средний срок жизни подходит к концу, на 2017 хватит\n",
    "* WiiU и PC тоже можно оставить и осторожно их развивать"
   ]
  },
  {
   "cell_type": "markdown",
   "metadata": {},
   "source": [
    "### Boxplot по глобальным продажам, в разбивке по платформам\n",
    "Постройте график «ящик с усами» по глобальным продажам игр в разбивке по платформам. Опишите результат."
   ]
  },
  {
   "cell_type": "code",
   "execution_count": 34,
   "metadata": {},
   "outputs": [
    {
     "data": {
      "text/html": [
       "<div>\n",
       "<style scoped>\n",
       "    .dataframe tbody tr th:only-of-type {\n",
       "        vertical-align: middle;\n",
       "    }\n",
       "\n",
       "    .dataframe tbody tr th {\n",
       "        vertical-align: top;\n",
       "    }\n",
       "\n",
       "    .dataframe thead th {\n",
       "        text-align: right;\n",
       "    }\n",
       "</style>\n",
       "<table border=\"1\" class=\"dataframe\">\n",
       "  <thead>\n",
       "    <tr style=\"text-align: right;\">\n",
       "      <th></th>\n",
       "      <th>count</th>\n",
       "      <th>mean</th>\n",
       "      <th>std</th>\n",
       "      <th>min</th>\n",
       "      <th>25%</th>\n",
       "      <th>50%</th>\n",
       "      <th>75%</th>\n",
       "      <th>max</th>\n",
       "    </tr>\n",
       "    <tr>\n",
       "      <th>platform</th>\n",
       "      <th></th>\n",
       "      <th></th>\n",
       "      <th></th>\n",
       "      <th></th>\n",
       "      <th></th>\n",
       "      <th></th>\n",
       "      <th></th>\n",
       "      <th></th>\n",
       "    </tr>\n",
       "  </thead>\n",
       "  <tbody>\n",
       "    <tr>\n",
       "      <th>3DS</th>\n",
       "      <td>303.0</td>\n",
       "      <td>0.472772</td>\n",
       "      <td>1.381347</td>\n",
       "      <td>0.01</td>\n",
       "      <td>0.04</td>\n",
       "      <td>0.09</td>\n",
       "      <td>0.280</td>\n",
       "      <td>14.60</td>\n",
       "    </tr>\n",
       "    <tr>\n",
       "      <th>PC</th>\n",
       "      <td>189.0</td>\n",
       "      <td>0.208624</td>\n",
       "      <td>0.352304</td>\n",
       "      <td>0.01</td>\n",
       "      <td>0.03</td>\n",
       "      <td>0.08</td>\n",
       "      <td>0.230</td>\n",
       "      <td>3.05</td>\n",
       "    </tr>\n",
       "    <tr>\n",
       "      <th>PS4</th>\n",
       "      <td>392.0</td>\n",
       "      <td>0.801378</td>\n",
       "      <td>1.609456</td>\n",
       "      <td>0.01</td>\n",
       "      <td>0.06</td>\n",
       "      <td>0.20</td>\n",
       "      <td>0.730</td>\n",
       "      <td>14.63</td>\n",
       "    </tr>\n",
       "    <tr>\n",
       "      <th>WiiU</th>\n",
       "      <td>115.0</td>\n",
       "      <td>0.562000</td>\n",
       "      <td>1.038778</td>\n",
       "      <td>0.01</td>\n",
       "      <td>0.06</td>\n",
       "      <td>0.20</td>\n",
       "      <td>0.595</td>\n",
       "      <td>7.09</td>\n",
       "    </tr>\n",
       "    <tr>\n",
       "      <th>XOne</th>\n",
       "      <td>247.0</td>\n",
       "      <td>0.645020</td>\n",
       "      <td>1.036139</td>\n",
       "      <td>0.01</td>\n",
       "      <td>0.06</td>\n",
       "      <td>0.22</td>\n",
       "      <td>0.685</td>\n",
       "      <td>7.39</td>\n",
       "    </tr>\n",
       "  </tbody>\n",
       "</table>\n",
       "</div>"
      ],
      "text/plain": [
       "          count      mean       std   min   25%   50%    75%    max\n",
       "platform                                                           \n",
       "3DS       303.0  0.472772  1.381347  0.01  0.04  0.09  0.280  14.60\n",
       "PC        189.0  0.208624  0.352304  0.01  0.03  0.08  0.230   3.05\n",
       "PS4       392.0  0.801378  1.609456  0.01  0.06  0.20  0.730  14.63\n",
       "WiiU      115.0  0.562000  1.038778  0.01  0.06  0.20  0.595   7.09\n",
       "XOne      247.0  0.645020  1.036139  0.01  0.06  0.22  0.685   7.39"
      ]
     },
     "execution_count": 34,
     "metadata": {},
     "output_type": "execute_result"
    }
   ],
   "source": [
    "top_pltf.groupby('platform')['all_sales'].describe()"
   ]
  },
  {
   "cell_type": "code",
   "execution_count": 35,
   "metadata": {},
   "outputs": [
    {
     "data": {
      "image/png": "[encoded data removed]",
      "text/plain": [
       "<Figure size 1440x1080 with 1 Axes>"
      ]
     },
     "metadata": {},
     "output_type": "display_data"
    }
   ],
   "source": [
    "plt.figure(figsize=(20,15))\n",
    "\n",
    "sns.boxplot(data=top_pltf, x='platform', y='all_sales')\n",
    "plt.title('Ящик с усами', fontsize=15)\n",
    "plt.xlabel('Платформа', fontsize=12)\n",
    "plt.ylabel('Глобальные продажи',fontsize=12);"
   ]
  },
  {
   "cell_type": "code",
   "execution_count": 36,
   "metadata": {},
   "outputs": [
    {
     "data": {
      "text/plain": [
       "name                                       platform\n",
       "Call of Duty: Black Ops 3                  PS4         14.63\n",
       "Pokemon X/Pokemon Y                        3DS         14.60\n",
       "Grand Theft Auto V                         PS4         12.62\n",
       "Pokemon Omega Ruby/Pokemon Alpha Sapphire  3DS         11.68\n",
       "FIFA 16                                    PS4          8.58\n",
       "Star Wars Battlefront (2015)               PS4          7.98\n",
       "Call of Duty: Advanced Warfare             PS4          7.66\n",
       "FIFA 17                                    PS4          7.60\n",
       "Super Smash Bros. for Wii U and 3DS        3DS          7.55\n",
       "Call of Duty: Black Ops 3                  XOne         7.39\n",
       "Fallout 4                                  PS4          7.17\n",
       "Pokemon Sun/Moon                           3DS          7.14\n",
       "Mario Kart 8                               WiiU         7.09\n",
       "FIFA 15                                    PS4          6.08\n",
       "Destiny                                    PS4          5.64\n",
       "Name: all_sales, dtype: float64"
      ]
     },
     "execution_count": 36,
     "metadata": {},
     "output_type": "execute_result"
    }
   ],
   "source": [
    "top_pltf.groupby(['name', 'platform'])['all_sales'].sum().sort_values(ascending=False).head(15)"
   ]
  },
  {
   "cell_type": "code",
   "execution_count": 37,
   "metadata": {},
   "outputs": [
    {
     "data": {
      "text/plain": [
       "platform\n",
       "3DS     143.25\n",
       "PC       39.43\n",
       "PS4     314.14\n",
       "WiiU     64.63\n",
       "XOne    159.32\n",
       "Name: all_sales, dtype: float64"
      ]
     },
     "execution_count": 37,
     "metadata": {},
     "output_type": "execute_result"
    }
   ],
   "source": [
    "top_pltf.groupby('platform')['all_sales'].describe()\n",
    "top_pltf.groupby('platform')['all_sales'].sum()"
   ]
  },
  {
   "cell_type": "markdown",
   "metadata": {},
   "source": [
    "Остается тройка победителей PS4, WiiU и XOne, медианные значения у них практически одинаковые, а вот средние сильно отличаются, это связано с бестселлерами/эксклюзивов, которые кажутся выбросами"
   ]
  },
  {
   "cell_type": "markdown",
   "metadata": {},
   "source": [
    "### Влияние отзывов на продажи внутри 1 платформы\n",
    "Посмотрите, как влияют на продажи внутри одной популярной платформы отзывы пользователей и критиков. Постройте диаграмму рассеяния и посчитайте корреляцию между отзывами и продажами. Сформулируйте выводы."
   ]
  },
  {
   "cell_type": "code",
   "execution_count": 38,
   "metadata": {},
   "outputs": [
    {
     "data": {
      "text/plain": [
       "-0.031957110204556376"
      ]
     },
     "execution_count": 38,
     "metadata": {},
     "output_type": "execute_result"
    }
   ],
   "source": [
    "#Возьмем самую популярную платформу PS4 и сделаем таблицу только с ней\n",
    "ps4_df = df[df['platform'] == 'PS4']\n",
    "ps4_df\n",
    "#Корреляция между оценками пользователей и продажами\n",
    "ps4_df['user_score'].corr(ps4_df['all_sales'])"
   ]
  },
  {
   "cell_type": "code",
   "execution_count": 39,
   "metadata": {},
   "outputs": [
    {
     "data": {
      "image/png": "[encoded data removed]",
      "text/plain": [
       "<Figure size 864x432 with 1 Axes>"
      ]
     },
     "metadata": {},
     "output_type": "display_data"
    }
   ],
   "source": [
    "#Построим диагрымму рассеяния\n",
    "plt.figure(figsize=(12,6))\n",
    "sns.scatterplot(x='user_score', y='all_sales', data=ps4_df)\n",
    "plt.title('Оценки пользователей');"
   ]
  },
  {
   "cell_type": "markdown",
   "metadata": {},
   "source": [
    "* Корреляции отсутствует, на покупателей не влияют отзывы пользователей."
   ]
  },
  {
   "cell_type": "code",
   "execution_count": 40,
   "metadata": {},
   "outputs": [
    {
     "data": {
      "text/plain": [
       "0.40656790206178095"
      ]
     },
     "execution_count": 40,
     "metadata": {},
     "output_type": "execute_result"
    }
   ],
   "source": [
    "#Корреляция между оценками пользователей и продажами\n",
    "ps4_df['critic_score'].corr(ps4_df['all_sales'])"
   ]
  },
  {
   "cell_type": "code",
   "execution_count": 41,
   "metadata": {},
   "outputs": [
    {
     "data": {
      "image/png": "[encoded data removed]",
      "text/plain": [
       "<Figure size 864x432 with 1 Axes>"
      ]
     },
     "metadata": {},
     "output_type": "display_data"
    }
   ],
   "source": [
    "#Построим диагрымму рассеяния\n",
    "plt.figure(figsize=(12,6))\n",
    "sns.scatterplot(x='critic_score', y='all_sales', data=ps4_df)\n",
    "plt.title('Оценки критиков');"
   ]
  },
  {
   "cell_type": "markdown",
   "metadata": {},
   "source": [
    "* А вот отзывы критиков немного, но влияют на выбор игры, но все равно не очень сильно"
   ]
  },
  {
   "cell_type": "markdown",
   "metadata": {},
   "source": [
    "### Продажи игр на других платформах"
   ]
  },
  {
   "cell_type": "markdown",
   "metadata": {},
   "source": [
    "Возьмем ранее отобранные платформы и посмотрим как у них обстоят дела"
   ]
  },
  {
   "cell_type": "code",
   "execution_count": 42,
   "metadata": {},
   "outputs": [
    {
     "data": {
      "text/plain": [
       "0.40656790206178095"
      ]
     },
     "execution_count": 42,
     "metadata": {},
     "output_type": "execute_result"
    }
   ],
   "source": [
    "df[df['platform'] == 'PS4']['critic_score'].corr(df[df['platform'] == 'PS4']['all_sales'])"
   ]
  },
  {
   "cell_type": "code",
   "execution_count": 43,
   "metadata": {
    "scrolled": false
   },
   "outputs": [
    {
     "data": {
      "image/png": "[encoded data removed]",
      "text/plain": [
       "<Figure size 1080x432 with 2 Axes>"
      ]
     },
     "metadata": {},
     "output_type": "display_data"
    },
    {
     "data": {
      "image/png": "[encoded data removed]",
      "text/plain": [
       "<Figure size 1080x432 with 2 Axes>"
      ]
     },
     "metadata": {},
     "output_type": "display_data"
    },
    {
     "data": {
      "image/png": "[encoded data removed]",
      "text/plain": [
       "<Figure size 1080x432 with 2 Axes>"
      ]
     },
     "metadata": {},
     "output_type": "display_data"
    },
    {
     "data": {
      "image/png": "[encoded data removed]",
      "text/plain": [
       "<Figure size 1080x432 with 2 Axes>"
      ]
     },
     "metadata": {},
     "output_type": "display_data"
    },
    {
     "data": {
      "image/png": "[encoded data removed]",
      "text/plain": [
       "<Figure size 1080x432 with 2 Axes>"
      ]
     },
     "metadata": {},
     "output_type": "display_data"
    }
   ],
   "source": [
    "top_dict = top_pltf['platform'].unique()\n",
    "for i in top_dict:\n",
    "    f, ax = plt.subplots(1 ,2, figsize=(15,6))\n",
    "    sns.scatterplot(x='user_score', y='all_sales', data=df[df['platform'] == i], ax=ax[0])\n",
    "    sns.scatterplot(x='critic_score', y='all_sales', data=df[df['platform'] == i], ax=ax[1])\n",
    "    ax[0].set(xlabel='Оценка пользователей')\n",
    "    ax[1].set(xlabel='Оценка критиков')\n",
    "    ax[0].set(ylabel='Количество продаж')\n",
    "    ax[1].set(ylabel='Количество продаж')\n",
    "    plt.suptitle(i) "
   ]
  },
  {
   "cell_type": "code",
   "execution_count": 44,
   "metadata": {},
   "outputs": [
    {
     "name": "stdout",
     "output_type": "stream",
     "text": [
      "Корреляция c оценкой критиков PS4: 0.40656790206178095\n",
      "Корреляция c оценкой пользователей PS4: -0.031957110204556376\n",
      "\n",
      "Корреляция c оценкой критиков 3DS: 0.3487397305984834\n",
      "Корреляция c оценкой пользователей 3DS: 0.22207843643390882\n",
      "\n",
      "Корреляция c оценкой критиков XOne: 0.4169983280084017\n",
      "Корреляция c оценкой пользователей XOne: -0.06892505328279414\n",
      "\n",
      "Корреляция c оценкой критиков WiiU: 0.34837976012017485\n",
      "Корреляция c оценкой пользователей WiiU: 0.4002190202148617\n",
      "\n",
      "Корреляция c оценкой критиков PC: 0.257394718400985\n",
      "Корреляция c оценкой пользователей PC: 0.012904741611451175\n",
      "\n"
     ]
    }
   ],
   "source": [
    "# Корреляция\n",
    "for i in top_dict:\n",
    "    print('Корреляция c оценкой критиков ' + i+':',\n",
    "          df[df['platform'] == i]['critic_score'].corr(df[df['platform'] == i]['all_sales']))\n",
    "    print('Корреляция c оценкой пользователей ' + i+':',\n",
    "          df[df['platform'] == i]['user_score'].corr(df[df['platform'] == i]['all_sales']))\n",
    "    print()"
   ]
  },
  {
   "cell_type": "markdown",
   "metadata": {},
   "source": [
    "По остальным примерно такая же ситуация:\n",
    "* Оценки критиков совсем не сильно влияют на выбор\n",
    "* Оценки пользователей почти не влияют на выбор\n",
    "* Исключением стала платформа Wiiu, тут и критики и пользователи в равной степени влияют на выбор\n",
    "\n",
    "Оценки критиков все-таки больше вляют на выбор клиента"
   ]
  },
  {
   "cell_type": "markdown",
   "metadata": {},
   "source": [
    "### Распределение игр по жанрам"
   ]
  },
  {
   "cell_type": "code",
   "execution_count": 45,
   "metadata": {},
   "outputs": [
    {
     "data": {
      "image/png": "[encoded data removed]",
      "text/plain": [
       "<Figure size 1080x576 with 1 Axes>"
      ]
     },
     "metadata": {},
     "output_type": "display_data"
    }
   ],
   "source": [
    "genre_sales = df_period.groupby('genre')['all_sales'].describe().reset_index().sort_values('50%', ascending=False)\n",
    "genre_sales.groupby('genre')['50%'].sum().sort_values(ascending=False)\n",
    "plt.title('Распределение по жанрам')\n",
    "sns.barplot(x='genre', y='50%', data=genre_sales)\n",
    "plt.xlabel('Жанр')\n",
    "plt.ylabel('Медианные продажи');"
   ]
  },
  {
   "cell_type": "markdown",
   "metadata": {},
   "source": [
    "* Наиболее прибыльными жанрами являются `Shooter`, `Sports`, `Platform`, среди которых шутеры являются самимыми прибыльными\n",
    "* Самыми неприбыльными жанром является `Adventure`\n",
    "* Остальные приблизительно равны"
   ]
  },
  {
   "cell_type": "code",
   "execution_count": 46,
   "metadata": {},
   "outputs": [],
   "source": [
    "genre_sales = df_period.groupby('genre')['all_sales'].sum().reset_index()\n",
    "\n",
    "#genre_sales.as"
   ]
  },
  {
   "cell_type": "code",
   "execution_count": 47,
   "metadata": {},
   "outputs": [
    {
     "data": {
      "image/png": "[encoded data removed]",
      "text/plain": [
       "<Figure size 1080x576 with 1 Axes>"
      ]
     },
     "metadata": {},
     "output_type": "display_data"
    }
   ],
   "source": [
    "genre_sales = df_period.groupby('genre')['all_sales'].sum().reset_index().sort_values('all_sales', ascending=False)\n",
    "plt.title('Распределение по жанрам')\n",
    "sns.barplot(x='genre', y='all_sales', data=genre_sales)\n",
    "plt.xlabel('Жанр')\n",
    "plt.ylabel('Продажи');"
   ]
  },
  {
   "cell_type": "markdown",
   "metadata": {},
   "source": [
    "* Сильнее всего, по к-ву, продаж выделятся `Action` and `Shooter`, это связано с массовостью жанра\n",
    "* Хуже всего продатся `Puzzle`, не очень любят на приставке пазлы решать"
   ]
  },
  {
   "cell_type": "markdown",
   "metadata": {},
   "source": [
    "### Вывод по исследовательскому анализу"
   ]
  },
  {
   "cell_type": "markdown",
   "metadata": {},
   "source": [
    "* Количество игр на игровые приставки и компьютеры начало расти с большой скоростью с 93 года до 2009 года. С 2008 года, после того как массово начали создавать мобильные приложения и мобильные игры, произошел резкий спад разработок игр на игровые платформы.\n",
    "* Самые популярные игровые платформы за весь период : Sony PlayStation 2, Xbox 360, Sony Playstation 3, Nintendo WII, Nintendo DS.\n",
    "* Средняя жизнь игровой платформы составляет 10 лет. Пик продаж наступает примерно через 5 лет после выхода приставки.\n",
    "* Nintendo WII как быстро появился также быстро и потух. Возможно потому что появился прям перед выходом мобильных приложений и игр.\n",
    "* У всех платформ наблюдается взаимосвязь между продажами и оценками критиков и пользователей. Заметнее всего корреляция между оценками критиков и продажами. Это значит для людей мнение критиков важнее мнения других пользователей"
   ]
  },
  {
   "cell_type": "markdown",
   "metadata": {},
   "source": [
    "## Портрет пользователя каждого региона\n",
    "Определите для пользователя каждого региона (NA, EU, JP):\n",
    "* Самые популярные платформы (топ-5). Опишите различия в долях продаж.\n",
    "* Самые популярные жанры (топ-5). Поясните разницу.\n",
    "* Влияет ли рейтинг ESRB на продажи в отдельном регионе?"
   ]
  },
  {
   "cell_type": "markdown",
   "metadata": {},
   "source": [
    "Напишем функцию, которая будет строит сводные таблицы и чертить графики по требуемому региону"
   ]
  },
  {
   "cell_type": "code",
   "execution_count": 48,
   "metadata": {
    "scrolled": false
   },
   "outputs": [],
   "source": [
    "df_dict = ['platform', 'genre', 'rating']\n",
    "def pivot_plot(row, title):\n",
    "    f, ax = plt.subplots(1 ,3, figsize=(20, 6))\n",
    "    for i in df_dict:\n",
    "        pivot = (df_period.pivot_table(index=i, values = row, aggfunc='sum')\n",
    "                   .sort_values(by = row, ascending=False)\n",
    "                .reset_index())\n",
    "        pivot['ratio'] = pivot[row] / pivot[row].sum()\n",
    "        display(pivot)\n",
    "        sns.barplot(x=i, y=row, data=pivot, ax=ax[df_dict.index(i)])\n",
    "        ax[df_dict.index(i)].tick_params(axis='x', rotation=90)\n",
    "        f.suptitle(title, fontsize=25)"
   ]
  },
  {
   "cell_type": "markdown",
   "metadata": {},
   "source": [
    "### Портрет пользователя региона NA"
   ]
  },
  {
   "cell_type": "code",
   "execution_count": 49,
   "metadata": {},
   "outputs": [
    {
     "data": {
      "text/html": [
       "<div>\n",
       "<style scoped>\n",
       "    .dataframe tbody tr th:only-of-type {\n",
       "        vertical-align: middle;\n",
       "    }\n",
       "\n",
       "    .dataframe tbody tr th {\n",
       "        vertical-align: top;\n",
       "    }\n",
       "\n",
       "    .dataframe thead th {\n",
       "        text-align: right;\n",
       "    }\n",
       "</style>\n",
       "<table border=\"1\" class=\"dataframe\">\n",
       "  <thead>\n",
       "    <tr style=\"text-align: right;\">\n",
       "      <th></th>\n",
       "      <th>platform</th>\n",
       "      <th>na_sales</th>\n",
       "      <th>ratio</th>\n",
       "    </tr>\n",
       "  </thead>\n",
       "  <tbody>\n",
       "    <tr>\n",
       "      <th>0</th>\n",
       "      <td>PS4</td>\n",
       "      <td>108.74</td>\n",
       "      <td>0.248429</td>\n",
       "    </tr>\n",
       "    <tr>\n",
       "      <th>1</th>\n",
       "      <td>XOne</td>\n",
       "      <td>93.12</td>\n",
       "      <td>0.212744</td>\n",
       "    </tr>\n",
       "    <tr>\n",
       "      <th>2</th>\n",
       "      <td>X360</td>\n",
       "      <td>81.66</td>\n",
       "      <td>0.186562</td>\n",
       "    </tr>\n",
       "    <tr>\n",
       "      <th>3</th>\n",
       "      <td>PS3</td>\n",
       "      <td>63.50</td>\n",
       "      <td>0.145073</td>\n",
       "    </tr>\n",
       "    <tr>\n",
       "      <th>4</th>\n",
       "      <td>3DS</td>\n",
       "      <td>38.20</td>\n",
       "      <td>0.087272</td>\n",
       "    </tr>\n",
       "    <tr>\n",
       "      <th>5</th>\n",
       "      <td>WiiU</td>\n",
       "      <td>29.21</td>\n",
       "      <td>0.066734</td>\n",
       "    </tr>\n",
       "    <tr>\n",
       "      <th>6</th>\n",
       "      <td>PC</td>\n",
       "      <td>11.11</td>\n",
       "      <td>0.025382</td>\n",
       "    </tr>\n",
       "    <tr>\n",
       "      <th>7</th>\n",
       "      <td>Wii</td>\n",
       "      <td>6.56</td>\n",
       "      <td>0.014987</td>\n",
       "    </tr>\n",
       "    <tr>\n",
       "      <th>8</th>\n",
       "      <td>PSV</td>\n",
       "      <td>5.04</td>\n",
       "      <td>0.011514</td>\n",
       "    </tr>\n",
       "    <tr>\n",
       "      <th>9</th>\n",
       "      <td>DS</td>\n",
       "      <td>0.57</td>\n",
       "      <td>0.001302</td>\n",
       "    </tr>\n",
       "    <tr>\n",
       "      <th>10</th>\n",
       "      <td>PSP</td>\n",
       "      <td>0.00</td>\n",
       "      <td>0.000000</td>\n",
       "    </tr>\n",
       "  </tbody>\n",
       "</table>\n",
       "</div>"
      ],
      "text/plain": [
       "   platform  na_sales     ratio\n",
       "0       PS4    108.74  0.248429\n",
       "1      XOne     93.12  0.212744\n",
       "2      X360     81.66  0.186562\n",
       "3       PS3     63.50  0.145073\n",
       "4       3DS     38.20  0.087272\n",
       "5      WiiU     29.21  0.066734\n",
       "6        PC     11.11  0.025382\n",
       "7       Wii      6.56  0.014987\n",
       "8       PSV      5.04  0.011514\n",
       "9        DS      0.57  0.001302\n",
       "10      PSP      0.00  0.000000"
      ]
     },
     "metadata": {},
     "output_type": "display_data"
    },
    {
     "data": {
      "text/html": [
       "<div>\n",
       "<style scoped>\n",
       "    .dataframe tbody tr th:only-of-type {\n",
       "        vertical-align: middle;\n",
       "    }\n",
       "\n",
       "    .dataframe tbody tr th {\n",
       "        vertical-align: top;\n",
       "    }\n",
       "\n",
       "    .dataframe thead th {\n",
       "        text-align: right;\n",
       "    }\n",
       "</style>\n",
       "<table border=\"1\" class=\"dataframe\">\n",
       "  <thead>\n",
       "    <tr style=\"text-align: right;\">\n",
       "      <th></th>\n",
       "      <th>genre</th>\n",
       "      <th>na_sales</th>\n",
       "      <th>ratio</th>\n",
       "    </tr>\n",
       "  </thead>\n",
       "  <tbody>\n",
       "    <tr>\n",
       "      <th>0</th>\n",
       "      <td>Action</td>\n",
       "      <td>126.05</td>\n",
       "      <td>0.287976</td>\n",
       "    </tr>\n",
       "    <tr>\n",
       "      <th>1</th>\n",
       "      <td>Shooter</td>\n",
       "      <td>109.74</td>\n",
       "      <td>0.250714</td>\n",
       "    </tr>\n",
       "    <tr>\n",
       "      <th>2</th>\n",
       "      <td>Sports</td>\n",
       "      <td>65.27</td>\n",
       "      <td>0.149117</td>\n",
       "    </tr>\n",
       "    <tr>\n",
       "      <th>3</th>\n",
       "      <td>Role-Playing</td>\n",
       "      <td>46.40</td>\n",
       "      <td>0.106006</td>\n",
       "    </tr>\n",
       "    <tr>\n",
       "      <th>4</th>\n",
       "      <td>Misc</td>\n",
       "      <td>27.49</td>\n",
       "      <td>0.062804</td>\n",
       "    </tr>\n",
       "    <tr>\n",
       "      <th>5</th>\n",
       "      <td>Platform</td>\n",
       "      <td>18.14</td>\n",
       "      <td>0.041443</td>\n",
       "    </tr>\n",
       "    <tr>\n",
       "      <th>6</th>\n",
       "      <td>Fighting</td>\n",
       "      <td>15.55</td>\n",
       "      <td>0.035526</td>\n",
       "    </tr>\n",
       "    <tr>\n",
       "      <th>7</th>\n",
       "      <td>Racing</td>\n",
       "      <td>12.96</td>\n",
       "      <td>0.029609</td>\n",
       "    </tr>\n",
       "    <tr>\n",
       "      <th>8</th>\n",
       "      <td>Adventure</td>\n",
       "      <td>7.14</td>\n",
       "      <td>0.016312</td>\n",
       "    </tr>\n",
       "    <tr>\n",
       "      <th>9</th>\n",
       "      <td>Simulation</td>\n",
       "      <td>4.86</td>\n",
       "      <td>0.011103</td>\n",
       "    </tr>\n",
       "    <tr>\n",
       "      <th>10</th>\n",
       "      <td>Strategy</td>\n",
       "      <td>3.28</td>\n",
       "      <td>0.007494</td>\n",
       "    </tr>\n",
       "    <tr>\n",
       "      <th>11</th>\n",
       "      <td>Puzzle</td>\n",
       "      <td>0.83</td>\n",
       "      <td>0.001896</td>\n",
       "    </tr>\n",
       "  </tbody>\n",
       "</table>\n",
       "</div>"
      ],
      "text/plain": [
       "           genre  na_sales     ratio\n",
       "0         Action    126.05  0.287976\n",
       "1        Shooter    109.74  0.250714\n",
       "2         Sports     65.27  0.149117\n",
       "3   Role-Playing     46.40  0.106006\n",
       "4           Misc     27.49  0.062804\n",
       "5       Platform     18.14  0.041443\n",
       "6       Fighting     15.55  0.035526\n",
       "7         Racing     12.96  0.029609\n",
       "8      Adventure      7.14  0.016312\n",
       "9     Simulation      4.86  0.011103\n",
       "10      Strategy      3.28  0.007494\n",
       "11        Puzzle      0.83  0.001896"
      ]
     },
     "metadata": {},
     "output_type": "display_data"
    },
    {
     "data": {
      "text/html": [
       "<div>\n",
       "<style scoped>\n",
       "    .dataframe tbody tr th:only-of-type {\n",
       "        vertical-align: middle;\n",
       "    }\n",
       "\n",
       "    .dataframe tbody tr th {\n",
       "        vertical-align: top;\n",
       "    }\n",
       "\n",
       "    .dataframe thead th {\n",
       "        text-align: right;\n",
       "    }\n",
       "</style>\n",
       "<table border=\"1\" class=\"dataframe\">\n",
       "  <thead>\n",
       "    <tr style=\"text-align: right;\">\n",
       "      <th></th>\n",
       "      <th>rating</th>\n",
       "      <th>na_sales</th>\n",
       "      <th>ratio</th>\n",
       "    </tr>\n",
       "  </thead>\n",
       "  <tbody>\n",
       "    <tr>\n",
       "      <th>0</th>\n",
       "      <td>M</td>\n",
       "      <td>165.21</td>\n",
       "      <td>0.377442</td>\n",
       "    </tr>\n",
       "    <tr>\n",
       "      <th>1</th>\n",
       "      <td>tbd</td>\n",
       "      <td>89.42</td>\n",
       "      <td>0.204291</td>\n",
       "    </tr>\n",
       "    <tr>\n",
       "      <th>2</th>\n",
       "      <td>E</td>\n",
       "      <td>79.05</td>\n",
       "      <td>0.180599</td>\n",
       "    </tr>\n",
       "    <tr>\n",
       "      <th>3</th>\n",
       "      <td>E10+</td>\n",
       "      <td>54.24</td>\n",
       "      <td>0.123918</td>\n",
       "    </tr>\n",
       "    <tr>\n",
       "      <th>4</th>\n",
       "      <td>T</td>\n",
       "      <td>49.79</td>\n",
       "      <td>0.113751</td>\n",
       "    </tr>\n",
       "  </tbody>\n",
       "</table>\n",
       "</div>"
      ],
      "text/plain": [
       "  rating  na_sales     ratio\n",
       "0      M    165.21  0.377442\n",
       "1    tbd     89.42  0.204291\n",
       "2      E     79.05  0.180599\n",
       "3   E10+     54.24  0.123918\n",
       "4      T     49.79  0.113751"
      ]
     },
     "metadata": {},
     "output_type": "display_data"
    },
    {
     "data": {
      "image/png": "[encoded data removed]",
      "text/plain": [
       "<Figure size 1440x432 with 3 Axes>"
      ]
     },
     "metadata": {},
     "output_type": "display_data"
    }
   ],
   "source": [
    "pivot_plot('na_sales', 'Продажи по платформам, жанру, рейтингу ')"
   ]
  },
  {
   "cell_type": "markdown",
   "metadata": {},
   "source": [
    "**Популярными платформами в NA являются X360, PS3, Wii, DS, PS4 с долями 28%, 20%, 16%, 8% и 7% соответственно.**\n",
    "* Самыми популярные платформы это X360, PS3 которые занимают почти 50% рынка, следом идет Wii и новые поколения XBox и PS.\n",
    "* Т.к XOne and PS4 еще даже не дошли своего пика, можно смело предположить что со временем они станут первыми.\n",
    "* Также в этом регионе лидирует X360, поэтому можно предположить, что XOne станет лидером\n",
    "\n",
    "**Популярными жанрами в NA являются Action, Shooter, Sports, Misc, Role_Playing с долями 24%, 19%, 15%, 11% и 9% соответственно.** \n",
    "\n",
    "**В Северной Америке отдают предпочтение играм категории М (от 17) и Е(для всех), доля продаж которых составляет 57% по всему региону. Свазяно это наверное с тем, что в совсем детские игры неинтересно играть**"
   ]
  },
  {
   "cell_type": "markdown",
   "metadata": {},
   "source": [
    "### Портрет пользователя региона  EU"
   ]
  },
  {
   "cell_type": "code",
   "execution_count": 50,
   "metadata": {},
   "outputs": [
    {
     "data": {
      "text/html": [
       "<div>\n",
       "<style scoped>\n",
       "    .dataframe tbody tr th:only-of-type {\n",
       "        vertical-align: middle;\n",
       "    }\n",
       "\n",
       "    .dataframe tbody tr th {\n",
       "        vertical-align: top;\n",
       "    }\n",
       "\n",
       "    .dataframe thead th {\n",
       "        text-align: right;\n",
       "    }\n",
       "</style>\n",
       "<table border=\"1\" class=\"dataframe\">\n",
       "  <thead>\n",
       "    <tr style=\"text-align: right;\">\n",
       "      <th></th>\n",
       "      <th>platform</th>\n",
       "      <th>eu_sales</th>\n",
       "      <th>ratio</th>\n",
       "    </tr>\n",
       "  </thead>\n",
       "  <tbody>\n",
       "    <tr>\n",
       "      <th>0</th>\n",
       "      <td>PS4</td>\n",
       "      <td>141.09</td>\n",
       "      <td>0.359712</td>\n",
       "    </tr>\n",
       "    <tr>\n",
       "      <th>1</th>\n",
       "      <td>PS3</td>\n",
       "      <td>67.81</td>\n",
       "      <td>0.172883</td>\n",
       "    </tr>\n",
       "    <tr>\n",
       "      <th>2</th>\n",
       "      <td>XOne</td>\n",
       "      <td>51.59</td>\n",
       "      <td>0.131530</td>\n",
       "    </tr>\n",
       "    <tr>\n",
       "      <th>3</th>\n",
       "      <td>X360</td>\n",
       "      <td>42.52</td>\n",
       "      <td>0.108406</td>\n",
       "    </tr>\n",
       "    <tr>\n",
       "      <th>4</th>\n",
       "      <td>3DS</td>\n",
       "      <td>30.96</td>\n",
       "      <td>0.078933</td>\n",
       "    </tr>\n",
       "    <tr>\n",
       "      <th>5</th>\n",
       "      <td>PC</td>\n",
       "      <td>25.36</td>\n",
       "      <td>0.064656</td>\n",
       "    </tr>\n",
       "    <tr>\n",
       "      <th>6</th>\n",
       "      <td>WiiU</td>\n",
       "      <td>19.85</td>\n",
       "      <td>0.050608</td>\n",
       "    </tr>\n",
       "    <tr>\n",
       "      <th>7</th>\n",
       "      <td>PSV</td>\n",
       "      <td>6.10</td>\n",
       "      <td>0.015552</td>\n",
       "    </tr>\n",
       "    <tr>\n",
       "      <th>8</th>\n",
       "      <td>Wii</td>\n",
       "      <td>5.93</td>\n",
       "      <td>0.015119</td>\n",
       "    </tr>\n",
       "    <tr>\n",
       "      <th>9</th>\n",
       "      <td>DS</td>\n",
       "      <td>0.85</td>\n",
       "      <td>0.002167</td>\n",
       "    </tr>\n",
       "    <tr>\n",
       "      <th>10</th>\n",
       "      <td>PSP</td>\n",
       "      <td>0.17</td>\n",
       "      <td>0.000433</td>\n",
       "    </tr>\n",
       "  </tbody>\n",
       "</table>\n",
       "</div>"
      ],
      "text/plain": [
       "   platform  eu_sales     ratio\n",
       "0       PS4    141.09  0.359712\n",
       "1       PS3     67.81  0.172883\n",
       "2      XOne     51.59  0.131530\n",
       "3      X360     42.52  0.108406\n",
       "4       3DS     30.96  0.078933\n",
       "5        PC     25.36  0.064656\n",
       "6      WiiU     19.85  0.050608\n",
       "7       PSV      6.10  0.015552\n",
       "8       Wii      5.93  0.015119\n",
       "9        DS      0.85  0.002167\n",
       "10      PSP      0.17  0.000433"
      ]
     },
     "metadata": {},
     "output_type": "display_data"
    },
    {
     "data": {
      "text/html": [
       "<div>\n",
       "<style scoped>\n",
       "    .dataframe tbody tr th:only-of-type {\n",
       "        vertical-align: middle;\n",
       "    }\n",
       "\n",
       "    .dataframe tbody tr th {\n",
       "        vertical-align: top;\n",
       "    }\n",
       "\n",
       "    .dataframe thead th {\n",
       "        text-align: right;\n",
       "    }\n",
       "</style>\n",
       "<table border=\"1\" class=\"dataframe\">\n",
       "  <thead>\n",
       "    <tr style=\"text-align: right;\">\n",
       "      <th></th>\n",
       "      <th>genre</th>\n",
       "      <th>eu_sales</th>\n",
       "      <th>ratio</th>\n",
       "    </tr>\n",
       "  </thead>\n",
       "  <tbody>\n",
       "    <tr>\n",
       "      <th>0</th>\n",
       "      <td>Action</td>\n",
       "      <td>118.13</td>\n",
       "      <td>0.301175</td>\n",
       "    </tr>\n",
       "    <tr>\n",
       "      <th>1</th>\n",
       "      <td>Shooter</td>\n",
       "      <td>87.86</td>\n",
       "      <td>0.224001</td>\n",
       "    </tr>\n",
       "    <tr>\n",
       "      <th>2</th>\n",
       "      <td>Sports</td>\n",
       "      <td>60.52</td>\n",
       "      <td>0.154297</td>\n",
       "    </tr>\n",
       "    <tr>\n",
       "      <th>3</th>\n",
       "      <td>Role-Playing</td>\n",
       "      <td>36.97</td>\n",
       "      <td>0.094256</td>\n",
       "    </tr>\n",
       "    <tr>\n",
       "      <th>4</th>\n",
       "      <td>Racing</td>\n",
       "      <td>20.19</td>\n",
       "      <td>0.051475</td>\n",
       "    </tr>\n",
       "    <tr>\n",
       "      <th>5</th>\n",
       "      <td>Misc</td>\n",
       "      <td>20.04</td>\n",
       "      <td>0.051092</td>\n",
       "    </tr>\n",
       "    <tr>\n",
       "      <th>6</th>\n",
       "      <td>Platform</td>\n",
       "      <td>15.58</td>\n",
       "      <td>0.039722</td>\n",
       "    </tr>\n",
       "    <tr>\n",
       "      <th>7</th>\n",
       "      <td>Simulation</td>\n",
       "      <td>10.92</td>\n",
       "      <td>0.027841</td>\n",
       "    </tr>\n",
       "    <tr>\n",
       "      <th>8</th>\n",
       "      <td>Fighting</td>\n",
       "      <td>8.55</td>\n",
       "      <td>0.021798</td>\n",
       "    </tr>\n",
       "    <tr>\n",
       "      <th>9</th>\n",
       "      <td>Adventure</td>\n",
       "      <td>8.25</td>\n",
       "      <td>0.021034</td>\n",
       "    </tr>\n",
       "    <tr>\n",
       "      <th>10</th>\n",
       "      <td>Strategy</td>\n",
       "      <td>4.22</td>\n",
       "      <td>0.010759</td>\n",
       "    </tr>\n",
       "    <tr>\n",
       "      <th>11</th>\n",
       "      <td>Puzzle</td>\n",
       "      <td>1.00</td>\n",
       "      <td>0.002550</td>\n",
       "    </tr>\n",
       "  </tbody>\n",
       "</table>\n",
       "</div>"
      ],
      "text/plain": [
       "           genre  eu_sales     ratio\n",
       "0         Action    118.13  0.301175\n",
       "1        Shooter     87.86  0.224001\n",
       "2         Sports     60.52  0.154297\n",
       "3   Role-Playing     36.97  0.094256\n",
       "4         Racing     20.19  0.051475\n",
       "5           Misc     20.04  0.051092\n",
       "6       Platform     15.58  0.039722\n",
       "7     Simulation     10.92  0.027841\n",
       "8       Fighting      8.55  0.021798\n",
       "9      Adventure      8.25  0.021034\n",
       "10      Strategy      4.22  0.010759\n",
       "11        Puzzle      1.00  0.002550"
      ]
     },
     "metadata": {},
     "output_type": "display_data"
    },
    {
     "data": {
      "text/html": [
       "<div>\n",
       "<style scoped>\n",
       "    .dataframe tbody tr th:only-of-type {\n",
       "        vertical-align: middle;\n",
       "    }\n",
       "\n",
       "    .dataframe tbody tr th {\n",
       "        vertical-align: top;\n",
       "    }\n",
       "\n",
       "    .dataframe thead th {\n",
       "        text-align: right;\n",
       "    }\n",
       "</style>\n",
       "<table border=\"1\" class=\"dataframe\">\n",
       "  <thead>\n",
       "    <tr style=\"text-align: right;\">\n",
       "      <th></th>\n",
       "      <th>rating</th>\n",
       "      <th>eu_sales</th>\n",
       "      <th>ratio</th>\n",
       "    </tr>\n",
       "  </thead>\n",
       "  <tbody>\n",
       "    <tr>\n",
       "      <th>0</th>\n",
       "      <td>M</td>\n",
       "      <td>145.32</td>\n",
       "      <td>0.370497</td>\n",
       "    </tr>\n",
       "    <tr>\n",
       "      <th>1</th>\n",
       "      <td>E</td>\n",
       "      <td>83.36</td>\n",
       "      <td>0.212528</td>\n",
       "    </tr>\n",
       "    <tr>\n",
       "      <th>2</th>\n",
       "      <td>tbd</td>\n",
       "      <td>78.91</td>\n",
       "      <td>0.201183</td>\n",
       "    </tr>\n",
       "    <tr>\n",
       "      <th>3</th>\n",
       "      <td>E10+</td>\n",
       "      <td>42.69</td>\n",
       "      <td>0.108839</td>\n",
       "    </tr>\n",
       "    <tr>\n",
       "      <th>4</th>\n",
       "      <td>T</td>\n",
       "      <td>41.95</td>\n",
       "      <td>0.106953</td>\n",
       "    </tr>\n",
       "  </tbody>\n",
       "</table>\n",
       "</div>"
      ],
      "text/plain": [
       "  rating  eu_sales     ratio\n",
       "0      M    145.32  0.370497\n",
       "1      E     83.36  0.212528\n",
       "2    tbd     78.91  0.201183\n",
       "3   E10+     42.69  0.108839\n",
       "4      T     41.95  0.106953"
      ]
     },
     "metadata": {},
     "output_type": "display_data"
    },
    {
     "data": {
      "image/png": "[encoded data removed]",
      "text/plain": [
       "<Figure size 1440x432 with 3 Axes>"
      ]
     },
     "metadata": {},
     "output_type": "display_data"
    }
   ],
   "source": [
    "pivot_plot('eu_sales', 'Продажи по платформам, жанру, рейтингу ')"
   ]
  },
  {
   "cell_type": "markdown",
   "metadata": {},
   "source": [
    "**Популярными платформами в EU являются PS3, X360, PS4, Wii, PC,  с долями 25%, 19%, 14%, 12% и 8% соответственно.**\n",
    "* В этом регионе также популярны платформы PS, X360 и Wii, только в топ 5 тут добавился PC\n",
    "* В Европе очень любят платформы PS, они занимают 1 и 3 место в общем рейтинге, а вот XBox немного меньше\n",
    "\n",
    "**Популярными жанрами в NA являются Action, Shooter, Sports, Misc, Role_Playing с долями 26%, 19%, 15%, 8% и 8% соответственно.**\n",
    "* Сутация такая же как и с Северной Америкой\n",
    "\n",
    "**В Европе отдают предпочтение играм категории М (от 17) и Е(для всех), доля продаж которых составляет 56% по всему региону. Свазяно это наверное с тем, что в совсем детские игры неинтересно играть**"
   ]
  },
  {
   "cell_type": "markdown",
   "metadata": {},
   "source": [
    "### Портрет пользователя региона  JP"
   ]
  },
  {
   "cell_type": "code",
   "execution_count": 51,
   "metadata": {},
   "outputs": [
    {
     "data": {
      "text/html": [
       "<div>\n",
       "<style scoped>\n",
       "    .dataframe tbody tr th:only-of-type {\n",
       "        vertical-align: middle;\n",
       "    }\n",
       "\n",
       "    .dataframe tbody tr th {\n",
       "        vertical-align: top;\n",
       "    }\n",
       "\n",
       "    .dataframe thead th {\n",
       "        text-align: right;\n",
       "    }\n",
       "</style>\n",
       "<table border=\"1\" class=\"dataframe\">\n",
       "  <thead>\n",
       "    <tr style=\"text-align: right;\">\n",
       "      <th></th>\n",
       "      <th>platform</th>\n",
       "      <th>jp_sales</th>\n",
       "      <th>ratio</th>\n",
       "    </tr>\n",
       "  </thead>\n",
       "  <tbody>\n",
       "    <tr>\n",
       "      <th>0</th>\n",
       "      <td>3DS</td>\n",
       "      <td>67.81</td>\n",
       "      <td>0.481674</td>\n",
       "    </tr>\n",
       "    <tr>\n",
       "      <th>1</th>\n",
       "      <td>PS3</td>\n",
       "      <td>23.35</td>\n",
       "      <td>0.165862</td>\n",
       "    </tr>\n",
       "    <tr>\n",
       "      <th>2</th>\n",
       "      <td>PSV</td>\n",
       "      <td>18.59</td>\n",
       "      <td>0.132050</td>\n",
       "    </tr>\n",
       "    <tr>\n",
       "      <th>3</th>\n",
       "      <td>PS4</td>\n",
       "      <td>15.96</td>\n",
       "      <td>0.113368</td>\n",
       "    </tr>\n",
       "    <tr>\n",
       "      <th>4</th>\n",
       "      <td>WiiU</td>\n",
       "      <td>10.88</td>\n",
       "      <td>0.077284</td>\n",
       "    </tr>\n",
       "    <tr>\n",
       "      <th>5</th>\n",
       "      <td>PSP</td>\n",
       "      <td>3.29</td>\n",
       "      <td>0.023370</td>\n",
       "    </tr>\n",
       "    <tr>\n",
       "      <th>6</th>\n",
       "      <td>X360</td>\n",
       "      <td>0.51</td>\n",
       "      <td>0.003623</td>\n",
       "    </tr>\n",
       "    <tr>\n",
       "      <th>7</th>\n",
       "      <td>XOne</td>\n",
       "      <td>0.34</td>\n",
       "      <td>0.002415</td>\n",
       "    </tr>\n",
       "    <tr>\n",
       "      <th>8</th>\n",
       "      <td>Wii</td>\n",
       "      <td>0.05</td>\n",
       "      <td>0.000355</td>\n",
       "    </tr>\n",
       "    <tr>\n",
       "      <th>9</th>\n",
       "      <td>DS</td>\n",
       "      <td>0.00</td>\n",
       "      <td>0.000000</td>\n",
       "    </tr>\n",
       "    <tr>\n",
       "      <th>10</th>\n",
       "      <td>PC</td>\n",
       "      <td>0.00</td>\n",
       "      <td>0.000000</td>\n",
       "    </tr>\n",
       "  </tbody>\n",
       "</table>\n",
       "</div>"
      ],
      "text/plain": [
       "   platform  jp_sales     ratio\n",
       "0       3DS     67.81  0.481674\n",
       "1       PS3     23.35  0.165862\n",
       "2       PSV     18.59  0.132050\n",
       "3       PS4     15.96  0.113368\n",
       "4      WiiU     10.88  0.077284\n",
       "5       PSP      3.29  0.023370\n",
       "6      X360      0.51  0.003623\n",
       "7      XOne      0.34  0.002415\n",
       "8       Wii      0.05  0.000355\n",
       "9        DS      0.00  0.000000\n",
       "10       PC      0.00  0.000000"
      ]
     },
     "metadata": {},
     "output_type": "display_data"
    },
    {
     "data": {
      "text/html": [
       "<div>\n",
       "<style scoped>\n",
       "    .dataframe tbody tr th:only-of-type {\n",
       "        vertical-align: middle;\n",
       "    }\n",
       "\n",
       "    .dataframe tbody tr th {\n",
       "        vertical-align: top;\n",
       "    }\n",
       "\n",
       "    .dataframe thead th {\n",
       "        text-align: right;\n",
       "    }\n",
       "</style>\n",
       "<table border=\"1\" class=\"dataframe\">\n",
       "  <thead>\n",
       "    <tr style=\"text-align: right;\">\n",
       "      <th></th>\n",
       "      <th>genre</th>\n",
       "      <th>jp_sales</th>\n",
       "      <th>ratio</th>\n",
       "    </tr>\n",
       "  </thead>\n",
       "  <tbody>\n",
       "    <tr>\n",
       "      <th>0</th>\n",
       "      <td>Role-Playing</td>\n",
       "      <td>51.04</td>\n",
       "      <td>0.362551</td>\n",
       "    </tr>\n",
       "    <tr>\n",
       "      <th>1</th>\n",
       "      <td>Action</td>\n",
       "      <td>40.49</td>\n",
       "      <td>0.287612</td>\n",
       "    </tr>\n",
       "    <tr>\n",
       "      <th>2</th>\n",
       "      <td>Misc</td>\n",
       "      <td>9.20</td>\n",
       "      <td>0.065350</td>\n",
       "    </tr>\n",
       "    <tr>\n",
       "      <th>3</th>\n",
       "      <td>Fighting</td>\n",
       "      <td>7.65</td>\n",
       "      <td>0.054340</td>\n",
       "    </tr>\n",
       "    <tr>\n",
       "      <th>4</th>\n",
       "      <td>Shooter</td>\n",
       "      <td>6.61</td>\n",
       "      <td>0.046953</td>\n",
       "    </tr>\n",
       "    <tr>\n",
       "      <th>5</th>\n",
       "      <td>Adventure</td>\n",
       "      <td>5.82</td>\n",
       "      <td>0.041341</td>\n",
       "    </tr>\n",
       "    <tr>\n",
       "      <th>6</th>\n",
       "      <td>Sports</td>\n",
       "      <td>5.41</td>\n",
       "      <td>0.038429</td>\n",
       "    </tr>\n",
       "    <tr>\n",
       "      <th>7</th>\n",
       "      <td>Platform</td>\n",
       "      <td>4.79</td>\n",
       "      <td>0.034025</td>\n",
       "    </tr>\n",
       "    <tr>\n",
       "      <th>8</th>\n",
       "      <td>Simulation</td>\n",
       "      <td>4.52</td>\n",
       "      <td>0.032107</td>\n",
       "    </tr>\n",
       "    <tr>\n",
       "      <th>9</th>\n",
       "      <td>Racing</td>\n",
       "      <td>2.30</td>\n",
       "      <td>0.016338</td>\n",
       "    </tr>\n",
       "    <tr>\n",
       "      <th>10</th>\n",
       "      <td>Strategy</td>\n",
       "      <td>1.77</td>\n",
       "      <td>0.012573</td>\n",
       "    </tr>\n",
       "    <tr>\n",
       "      <th>11</th>\n",
       "      <td>Puzzle</td>\n",
       "      <td>1.18</td>\n",
       "      <td>0.008382</td>\n",
       "    </tr>\n",
       "  </tbody>\n",
       "</table>\n",
       "</div>"
      ],
      "text/plain": [
       "           genre  jp_sales     ratio\n",
       "0   Role-Playing     51.04  0.362551\n",
       "1         Action     40.49  0.287612\n",
       "2           Misc      9.20  0.065350\n",
       "3       Fighting      7.65  0.054340\n",
       "4        Shooter      6.61  0.046953\n",
       "5      Adventure      5.82  0.041341\n",
       "6         Sports      5.41  0.038429\n",
       "7       Platform      4.79  0.034025\n",
       "8     Simulation      4.52  0.032107\n",
       "9         Racing      2.30  0.016338\n",
       "10      Strategy      1.77  0.012573\n",
       "11        Puzzle      1.18  0.008382"
      ]
     },
     "metadata": {},
     "output_type": "display_data"
    },
    {
     "data": {
      "text/html": [
       "<div>\n",
       "<style scoped>\n",
       "    .dataframe tbody tr th:only-of-type {\n",
       "        vertical-align: middle;\n",
       "    }\n",
       "\n",
       "    .dataframe tbody tr th {\n",
       "        vertical-align: top;\n",
       "    }\n",
       "\n",
       "    .dataframe thead th {\n",
       "        text-align: right;\n",
       "    }\n",
       "</style>\n",
       "<table border=\"1\" class=\"dataframe\">\n",
       "  <thead>\n",
       "    <tr style=\"text-align: right;\">\n",
       "      <th></th>\n",
       "      <th>rating</th>\n",
       "      <th>jp_sales</th>\n",
       "      <th>ratio</th>\n",
       "    </tr>\n",
       "  </thead>\n",
       "  <tbody>\n",
       "    <tr>\n",
       "      <th>0</th>\n",
       "      <td>tbd</td>\n",
       "      <td>85.05</td>\n",
       "      <td>0.604134</td>\n",
       "    </tr>\n",
       "    <tr>\n",
       "      <th>1</th>\n",
       "      <td>T</td>\n",
       "      <td>20.59</td>\n",
       "      <td>0.146257</td>\n",
       "    </tr>\n",
       "    <tr>\n",
       "      <th>2</th>\n",
       "      <td>E</td>\n",
       "      <td>15.14</td>\n",
       "      <td>0.107544</td>\n",
       "    </tr>\n",
       "    <tr>\n",
       "      <th>3</th>\n",
       "      <td>M</td>\n",
       "      <td>14.11</td>\n",
       "      <td>0.100227</td>\n",
       "    </tr>\n",
       "    <tr>\n",
       "      <th>4</th>\n",
       "      <td>E10+</td>\n",
       "      <td>5.89</td>\n",
       "      <td>0.041838</td>\n",
       "    </tr>\n",
       "  </tbody>\n",
       "</table>\n",
       "</div>"
      ],
      "text/plain": [
       "  rating  jp_sales     ratio\n",
       "0    tbd     85.05  0.604134\n",
       "1      T     20.59  0.146257\n",
       "2      E     15.14  0.107544\n",
       "3      M     14.11  0.100227\n",
       "4   E10+      5.89  0.041838"
      ]
     },
     "metadata": {},
     "output_type": "display_data"
    },
    {
     "data": {
      "image/png": "[encoded data removed]",
      "text/plain": [
       "<Figure size 1440x432 with 3 Axes>"
      ]
     },
     "metadata": {},
     "output_type": "display_data"
    }
   ],
   "source": [
    "pivot_plot('jp_sales', 'Продажи по платформам, жанру, рейтингу ')"
   ]
  },
  {
   "cell_type": "markdown",
   "metadata": {},
   "source": [
    "**Популярными платформами в EU являются 3DS, PS3, DS, PSP, Wii,  с долями 27%, 18%, 14%, 13% и 9% соответственно.**\n",
    "* В Японии совсем другая ситуация, в этом регионе предпочтение отдают \"карманным\" платформам, но также не забывают про PS, сонька там тоже популярна, а вот популярная в других региона XBox не пользуется популярностью в Японии\n",
    "* В Европе очень любят платформы DS, они занимают 1 и 3 место в общем рейтинге\n",
    "\n",
    "**Популярными жанрами в NA являются Role-Playing, Action, Misc, Sports, Platform с долями 33%, 23%, 8%, 7% и 5% соответственно.**\n",
    "* В Японии очень любят ролевые Role_playing and Action\n",
    "\n",
    "**В Японии рейтинг не влияет на продажи игр, да и у 54% игр он не определён**"
   ]
  },
  {
   "cell_type": "markdown",
   "metadata": {},
   "source": [
    "## Проверка гипотез"
   ]
  },
  {
   "cell_type": "markdown",
   "metadata": {},
   "source": [
    "### Средние пользовательские рейтинги платформ Xbox One и PC одинаковые"
   ]
  },
  {
   "cell_type": "markdown",
   "metadata": {},
   "source": [
    "Проверка гипотез начинается с формулировки нулевой гипотезы H0:\n",
    "* H0  — cредние пользовательские рейтинги платформ Xbox One и PC различаются.\n",
    "\n",
    "Отвергнув/подтвердив ее мы ответим на требуемый вопрос\n",
    "\n",
    "Исходя из H0 формулируется альтернативная гипотеза H1. Это утверждение, которое принимается верным, если отбрасывается H0:\n",
    "* H1 — cредние пользовательские рейтинги платформ Xbox One и PC одинаковые.\n",
    "\n",
    "Имеем две генеральные совокупности cредние пользовательские рейтинги платформ `XOne` и `PC`, поэтому будем сравнивать средние двух генеральных совокупностей между собой методом scipy.stats.ttest_ind()\n",
    "\n",
    "Пороговое значение:\n",
    "* alpha = 1%"
   ]
  },
  {
   "cell_type": "code",
   "execution_count": 52,
   "metadata": {},
   "outputs": [
    {
     "name": "stdout",
     "output_type": "stream",
     "text": [
      "1.9069968429360695\n",
      "3.035892752408881\n"
     ]
    }
   ],
   "source": [
    "#Средние рейтинги по платформам за актуальный период\n",
    "ur_xone = df_period[df_period['platform'] == 'XOne']['user_score']\n",
    "ur_pc = df_period[df_period['platform'] == 'PC']['user_score']\n",
    "#Проверим дисперсии выборок чтобы корректно определить атрибут equal_val в Т–тесте.\n",
    "print(ur_xone.var())\n",
    "print(ur_pc.var())"
   ]
  },
  {
   "cell_type": "code",
   "execution_count": 53,
   "metadata": {},
   "outputs": [
    {
     "data": {
      "text/plain": [
       "99       NaN\n",
       "165      7.9\n",
       "179      5.4\n",
       "242      6.4\n",
       "270      6.2\n",
       "        ... \n",
       "16630    8.2\n",
       "16643    6.6\n",
       "16645    NaN\n",
       "16660    6.7\n",
       "16672    NaN\n",
       "Name: user_score, Length: 247, dtype: float64"
      ]
     },
     "execution_count": 53,
     "metadata": {},
     "output_type": "execute_result"
    }
   ],
   "source": [
    "ur_xone"
   ]
  },
  {
   "cell_type": "markdown",
   "metadata": {},
   "source": [
    "Дисперсии разные, атрибут `equal_val = False`"
   ]
  },
  {
   "cell_type": "code",
   "execution_count": 54,
   "metadata": {},
   "outputs": [
    {
     "name": "stdout",
     "output_type": "stream",
     "text": [
      "p-значение: 0.14759594013430463\n",
      "Не получилось отвергнуть нулевую гипотезу\n"
     ]
    }
   ],
   "source": [
    "alpha = .01\n",
    "\n",
    "results = st.ttest_ind(\n",
    "    ur_xone.dropna(), \n",
    "    ur_pc.dropna(), \n",
    "    equal_var=False)\n",
    "\n",
    "print('p-значение:', results.pvalue)\n",
    "\n",
    "if (results.pvalue < alpha):\n",
    "    print(\"Отвергаем нулевую гипотезу\")\n",
    "else:\n",
    "    print(\"Не получилось отвергнуть нулевую гипотезу\")"
   ]
  },
  {
   "cell_type": "code",
   "execution_count": 55,
   "metadata": {},
   "outputs": [
    {
     "name": "stdout",
     "output_type": "stream",
     "text": [
      "6.521428571428572\n",
      "6.269677419354839\n"
     ]
    }
   ],
   "source": [
    "print(ur_xone.mean())\n",
    "print(ur_pc.mean())"
   ]
  },
  {
   "cell_type": "markdown",
   "metadata": {},
   "source": [
    "Значение p-value равно чуть меньше 3%. Таким образом, не получилось опровергнуть Нулевую гипотезу. То есть, с вероятностью в 3% можно получить различность рейтингов двух платформ"
   ]
  },
  {
   "cell_type": "markdown",
   "metadata": {},
   "source": [
    "### Средние пользовательские рейтинги жанров Action  и Sports разные."
   ]
  },
  {
   "cell_type": "markdown",
   "metadata": {},
   "source": [
    "Проверка гипотез начинается с формулировки нулевой гипотезы H0:\n",
    "* H0  — cредние пользовательские рейтинги платформ Action и Sports одинаковые.\n",
    "\n",
    "Отвергнув/подтвердив ее мы ответим на требуемый вопрос\n",
    "\n",
    "Исходя из H0 формулируется альтернативная гипотеза H1. Это утверждение, которое принимается верным, если отбрасывается H0:\n",
    "* H1 — cредние пользовательские рейтинги платформ Action и Sports разные.\n",
    "\n",
    "Имеем две генеральные совокупности cредние пользовательские рейтинги жанров `Action` и `Sports`, поэтому будем сравнивать средние двух генеральных совокупностей между собой методом scipy.stats.ttest_ind()\n",
    "\n",
    "Пороговое значение:\n",
    "* alpha = 1%"
   ]
  },
  {
   "cell_type": "code",
   "execution_count": 56,
   "metadata": {},
   "outputs": [
    {
     "name": "stdout",
     "output_type": "stream",
     "text": [
      "1.9069968429360695\n",
      "3.035892752408881\n"
     ]
    }
   ],
   "source": [
    "#Средние рейтинги по жанрам за актуальный период\n",
    "ur_action = df_period[df_period['genre'] == 'Action']['user_score']\n",
    "ur_sports = df_period[df_period['genre'] == 'Sports']['user_score']\n",
    "#Проверим дисперсии выборок чтобы корректно определить атрибут equal_val в Т–тесте.\n",
    "print(ur_xone.var())\n",
    "print(ur_pc.var())"
   ]
  },
  {
   "cell_type": "markdown",
   "metadata": {},
   "source": [
    "Дисперсии разные, атрибут `equal_val = False`"
   ]
  },
  {
   "cell_type": "code",
   "execution_count": 57,
   "metadata": {},
   "outputs": [
    {
     "name": "stdout",
     "output_type": "stream",
     "text": [
      "p-значение: 1.4460039700704315e-20\n",
      "Отвергаем нулевую гипотезу\n"
     ]
    }
   ],
   "source": [
    "alpha = .01\n",
    "\n",
    "results = st.ttest_ind(\n",
    "    ur_action.dropna(), \n",
    "    ur_sports.dropna(), \n",
    "    equal_var=False)\n",
    "\n",
    "print('p-значение:', results.pvalue)\n",
    "\n",
    "if (results.pvalue < alpha):\n",
    "    print(\"Отвергаем нулевую гипотезу\")\n",
    "else:\n",
    "    print(\"Не получилось отвергнуть нулевую гипотезу\")"
   ]
  },
  {
   "cell_type": "markdown",
   "metadata": {},
   "source": [
    " Получив p-value, мы отвергли Нулевую гипотезу. Таким образом, у нас практически нет вероятности получить одинакове средние рейнтинги по двум жанрам."
   ]
  },
  {
   "cell_type": "markdown",
   "metadata": {},
   "source": [
    "### Вывод\n",
    "Проверили гипотезы по ТЗ:\n",
    "\n",
    "- Гипотеза: \"Средние пользовательские рейтинги платформ Xbox one и PC одинаковые\". Отвергаем гипотезу.\n",
    "- Гипотеза: \"Средние пользовательские рейтинги жанров Action и Sports разные\". Подтверждаем гипотезу."
   ]
  },
  {
   "cell_type": "markdown",
   "metadata": {},
   "source": [
    "## Вывод"
   ]
  },
  {
   "cell_type": "markdown",
   "metadata": {},
   "source": [
    "* Перед анализом данных, мы подготовили наши данные, привели к правильным данным столбцы, привели к нижнему регистру таблицы и сами названия колонок и Привели к правильным типам данных необходимые столбцы.\n",
    "* Проведя анализ, мы выявили, что количество игр на игровые приставки и компьютеры начало расти с большой скоростью с 90х до 2008 года. С 2008 года после того как массово начали создавать мобильные приложения и мобильные игры, произошел резкий спад разработок консольных игр\n",
    "* За весь период консольных приставок самые популярные оказались: PS2, X360, PS3, WII, DS, PS\n",
    "* Также мы выявили, что средняя продолжительность жизни игровой приставки составляет 7-10 лет. Самый пик продаж наступает примерно через 5 лет после выпуска консоли\n",
    "* Мы выявили, что оценки критиков совсем не сильно влияют на выбор, а оценки пользователей почти не влияют на выбор. Исключением стала платформа Wiiu, тут и критики и пользователи в равной степени влияют на выбор\n",
    "* Так же определили, что самый популярный жанр за все время это Экшн. На последнем месте стратегии\n",
    "* После мы составили портреты пользователей каждого региона.\n",
    "\n",
    "* Выяснили, что в Северной америке самые популярные жанры это Action, Sports, Shooter. Игровые приставки : X360, PS3 и WII. А по рейтингу игр люди предпочитают игры с рейтингами: \"для всех\", \"от 13 и выше\" и \"от 17 и выше\".\n",
    "* В Европе же, популярные жанры точно такие же как и в Северной Америке. Но приставки предпочитают по следующей очередности: PS3, X360, PS4. В Европе очень любят PS. Рейтинг такой-же как и в NA\n",
    "* В Японии люди предпочитают игровые приставки: 3DS, PS3 и DS. А жанры игры : Role-playing, Action и Sports. Рейтинг игр слабо распространен в Японии.\n",
    "\n",
    "Исходя из всех данных предполагаем, что лучше всего продавать игры для таких приставок как Sony Playstation 4 и XOne, но и не стоит забывать про WiiU\n",
    "\n",
    "Жанр необходимо выбирать Shooter/Action и выбирать игры с рейтингом \"от 17 и выше\", тогда продажи будут значительно больше, чем если продавать другие игры."
   ]
  }
 ],
 "metadata": {
  "ExecuteTimeLog": [
   {
    "duration": 732,
    "start_time": "2022-02-14T08:56:01.596Z"
   },
   {
    "duration": 1551,
    "start_time": "2022-02-14T08:56:52.985Z"
   },
   {
    "duration": 40,
    "start_time": "2022-02-14T08:57:25.394Z"
   },
   {
    "duration": 18,
    "start_time": "2022-02-14T08:57:39.074Z"
   },
   {
    "duration": 12,
    "start_time": "2022-02-14T08:57:53.937Z"
   },
   {
    "duration": 22,
    "start_time": "2022-02-14T08:57:57.665Z"
   },
   {
    "duration": 6,
    "start_time": "2022-02-14T09:13:08.174Z"
   },
   {
    "duration": 10,
    "start_time": "2022-02-14T09:15:24.388Z"
   },
   {
    "duration": 11,
    "start_time": "2022-02-14T09:19:50.035Z"
   },
   {
    "duration": 1829,
    "start_time": "2022-02-14T09:20:09.322Z"
   },
   {
    "duration": 14,
    "start_time": "2022-02-14T09:20:22.529Z"
   },
   {
    "duration": 228,
    "start_time": "2022-02-14T09:26:30.213Z"
   },
   {
    "duration": 223,
    "start_time": "2022-02-14T09:26:32.181Z"
   },
   {
    "duration": 221,
    "start_time": "2022-02-14T09:26:36.502Z"
   },
   {
    "duration": 9,
    "start_time": "2022-02-14T09:26:42.885Z"
   },
   {
    "duration": 16,
    "start_time": "2022-02-14T09:26:46.509Z"
   },
   {
    "duration": 255,
    "start_time": "2022-02-14T09:28:20.510Z"
   },
   {
    "duration": 213,
    "start_time": "2022-02-14T09:28:25.053Z"
   },
   {
    "duration": 238,
    "start_time": "2022-02-14T09:28:28.117Z"
   },
   {
    "duration": 6,
    "start_time": "2022-02-14T09:28:30.309Z"
   },
   {
    "duration": 4,
    "start_time": "2022-02-14T09:28:52.822Z"
   },
   {
    "duration": 22,
    "start_time": "2022-02-14T09:28:55.828Z"
   },
   {
    "duration": 4,
    "start_time": "2022-02-14T09:29:01.467Z"
   },
   {
    "duration": 227,
    "start_time": "2022-02-14T09:31:13.891Z"
   },
   {
    "duration": 22,
    "start_time": "2022-02-14T09:31:18.938Z"
   },
   {
    "duration": 29,
    "start_time": "2022-02-14T09:31:24.930Z"
   },
   {
    "duration": 25,
    "start_time": "2022-02-14T09:31:29.762Z"
   },
   {
    "duration": 21,
    "start_time": "2022-02-14T09:31:43.298Z"
   },
   {
    "duration": 13,
    "start_time": "2022-02-14T09:31:57.521Z"
   },
   {
    "duration": 23,
    "start_time": "2022-02-14T09:32:08.074Z"
   },
   {
    "duration": 10,
    "start_time": "2022-02-14T09:36:16.622Z"
   },
   {
    "duration": 220,
    "start_time": "2022-02-14T09:38:03.574Z"
   },
   {
    "duration": 220,
    "start_time": "2022-02-14T09:38:07.173Z"
   },
   {
    "duration": 308,
    "start_time": "2022-02-14T09:43:52.648Z"
   },
   {
    "duration": 5,
    "start_time": "2022-02-14T09:43:57.495Z"
   },
   {
    "duration": 12,
    "start_time": "2022-02-14T09:44:07.335Z"
   },
   {
    "duration": 14,
    "start_time": "2022-02-14T09:44:32.368Z"
   },
   {
    "duration": 13,
    "start_time": "2022-02-14T09:44:40.319Z"
   },
   {
    "duration": 14,
    "start_time": "2022-02-14T09:44:52.439Z"
   },
   {
    "duration": 3,
    "start_time": "2022-02-14T09:46:41.262Z"
   },
   {
    "duration": 10,
    "start_time": "2022-02-14T09:47:45.950Z"
   },
   {
    "duration": 229,
    "start_time": "2022-02-14T09:48:06.677Z"
   },
   {
    "duration": 8,
    "start_time": "2022-02-14T09:48:52.588Z"
   },
   {
    "duration": 9,
    "start_time": "2022-02-14T10:05:54.981Z"
   },
   {
    "duration": 10,
    "start_time": "2022-02-14T10:24:54.449Z"
   },
   {
    "duration": 13,
    "start_time": "2022-02-14T10:25:07.912Z"
   },
   {
    "duration": 15,
    "start_time": "2022-02-14T10:25:14.872Z"
   },
   {
    "duration": 4,
    "start_time": "2022-02-14T10:26:27.632Z"
   },
   {
    "duration": 15,
    "start_time": "2022-02-14T10:26:30.583Z"
   },
   {
    "duration": 59,
    "start_time": "2022-02-14T10:26:32.883Z"
   },
   {
    "duration": 22,
    "start_time": "2022-02-14T10:26:32.944Z"
   },
   {
    "duration": 32,
    "start_time": "2022-02-14T10:26:32.968Z"
   },
   {
    "duration": 15,
    "start_time": "2022-02-14T10:26:33.002Z"
   },
   {
    "duration": 22,
    "start_time": "2022-02-14T10:26:33.019Z"
   },
   {
    "duration": 8,
    "start_time": "2022-02-14T10:26:33.043Z"
   },
   {
    "duration": 14,
    "start_time": "2022-02-14T10:26:33.053Z"
   },
   {
    "duration": 23,
    "start_time": "2022-02-14T10:27:42.335Z"
   },
   {
    "duration": 6,
    "start_time": "2022-02-14T10:32:34.723Z"
   },
   {
    "duration": 24,
    "start_time": "2022-02-14T10:54:00.070Z"
   },
   {
    "duration": 17,
    "start_time": "2022-02-14T10:54:14.610Z"
   },
   {
    "duration": 17,
    "start_time": "2022-02-14T10:54:17.930Z"
   },
   {
    "duration": 26,
    "start_time": "2022-02-14T10:54:54.178Z"
   },
   {
    "duration": 7,
    "start_time": "2022-02-14T11:19:17.830Z"
   },
   {
    "duration": 6,
    "start_time": "2022-02-14T11:19:21.239Z"
   },
   {
    "duration": 6,
    "start_time": "2022-02-14T11:19:25.022Z"
   },
   {
    "duration": 16,
    "start_time": "2022-02-14T11:19:38.934Z"
   },
   {
    "duration": 14,
    "start_time": "2022-02-14T11:19:49.573Z"
   },
   {
    "duration": 15,
    "start_time": "2022-02-14T11:21:56.694Z"
   },
   {
    "duration": 233,
    "start_time": "2022-02-14T11:23:02.004Z"
   },
   {
    "duration": 8,
    "start_time": "2022-02-14T11:23:07.973Z"
   },
   {
    "duration": 13,
    "start_time": "2022-02-14T11:23:14.851Z"
   },
   {
    "duration": 11,
    "start_time": "2022-02-14T11:23:25.276Z"
   },
   {
    "duration": 4,
    "start_time": "2022-02-14T11:24:23.131Z"
   },
   {
    "duration": 21,
    "start_time": "2022-02-14T11:26:53.465Z"
   },
   {
    "duration": 16,
    "start_time": "2022-02-14T11:27:05.163Z"
   },
   {
    "duration": 6,
    "start_time": "2022-02-14T11:29:41.767Z"
   },
   {
    "duration": 38,
    "start_time": "2022-02-14T11:29:48.681Z"
   },
   {
    "duration": 21,
    "start_time": "2022-02-14T11:29:48.721Z"
   },
   {
    "duration": 12,
    "start_time": "2022-02-14T11:29:48.743Z"
   },
   {
    "duration": 7,
    "start_time": "2022-02-14T11:29:48.757Z"
   },
   {
    "duration": 38,
    "start_time": "2022-02-14T11:29:48.766Z"
   },
   {
    "duration": 5,
    "start_time": "2022-02-14T11:29:48.806Z"
   },
   {
    "duration": 15,
    "start_time": "2022-02-14T11:29:48.813Z"
   },
   {
    "duration": 10,
    "start_time": "2022-02-14T11:29:48.830Z"
   },
   {
    "duration": 5,
    "start_time": "2022-02-14T11:29:48.842Z"
   },
   {
    "duration": 16,
    "start_time": "2022-02-14T11:29:48.849Z"
   },
   {
    "duration": 42,
    "start_time": "2022-02-14T11:30:16.512Z"
   },
   {
    "duration": 20,
    "start_time": "2022-02-14T11:30:16.555Z"
   },
   {
    "duration": 4,
    "start_time": "2022-02-14T11:30:16.577Z"
   },
   {
    "duration": 7,
    "start_time": "2022-02-14T11:30:16.583Z"
   },
   {
    "duration": 31,
    "start_time": "2022-02-14T11:30:16.592Z"
   },
   {
    "duration": 438,
    "start_time": "2022-02-14T11:30:16.624Z"
   },
   {
    "duration": -202,
    "start_time": "2022-02-14T11:30:17.267Z"
   },
   {
    "duration": -205,
    "start_time": "2022-02-14T11:30:17.271Z"
   },
   {
    "duration": -206,
    "start_time": "2022-02-14T11:30:17.273Z"
   },
   {
    "duration": -206,
    "start_time": "2022-02-14T11:30:17.274Z"
   },
   {
    "duration": 38,
    "start_time": "2022-02-14T11:30:57.871Z"
   },
   {
    "duration": 20,
    "start_time": "2022-02-14T11:30:57.911Z"
   },
   {
    "duration": 4,
    "start_time": "2022-02-14T11:30:57.933Z"
   },
   {
    "duration": 7,
    "start_time": "2022-02-14T11:30:57.939Z"
   },
   {
    "duration": 25,
    "start_time": "2022-02-14T11:30:57.948Z"
   },
   {
    "duration": 5,
    "start_time": "2022-02-14T11:30:57.999Z"
   },
   {
    "duration": 15,
    "start_time": "2022-02-14T11:30:58.006Z"
   },
   {
    "duration": 11,
    "start_time": "2022-02-14T11:30:58.023Z"
   },
   {
    "duration": 3,
    "start_time": "2022-02-14T11:30:58.036Z"
   },
   {
    "duration": 16,
    "start_time": "2022-02-14T11:30:58.041Z"
   },
   {
    "duration": 39,
    "start_time": "2022-02-14T11:31:19.423Z"
   },
   {
    "duration": 21,
    "start_time": "2022-02-14T11:31:19.464Z"
   },
   {
    "duration": 5,
    "start_time": "2022-02-14T11:31:19.487Z"
   },
   {
    "duration": 8,
    "start_time": "2022-02-14T11:31:19.493Z"
   },
   {
    "duration": 30,
    "start_time": "2022-02-14T11:31:19.502Z"
   },
   {
    "duration": 5,
    "start_time": "2022-02-14T11:31:19.534Z"
   },
   {
    "duration": 24,
    "start_time": "2022-02-14T11:31:19.540Z"
   },
   {
    "duration": 16,
    "start_time": "2022-02-14T11:31:19.567Z"
   },
   {
    "duration": 16,
    "start_time": "2022-02-14T11:31:19.585Z"
   },
   {
    "duration": 26,
    "start_time": "2022-02-14T11:31:19.602Z"
   },
   {
    "duration": 6,
    "start_time": "2022-02-14T11:37:32.745Z"
   },
   {
    "duration": 41,
    "start_time": "2022-02-14T11:37:37.514Z"
   },
   {
    "duration": 20,
    "start_time": "2022-02-14T11:37:37.557Z"
   },
   {
    "duration": 4,
    "start_time": "2022-02-14T11:37:37.579Z"
   },
   {
    "duration": 6,
    "start_time": "2022-02-14T11:37:37.584Z"
   },
   {
    "duration": 31,
    "start_time": "2022-02-14T11:37:37.592Z"
   },
   {
    "duration": 6,
    "start_time": "2022-02-14T11:37:37.624Z"
   },
   {
    "duration": 16,
    "start_time": "2022-02-14T11:37:37.632Z"
   },
   {
    "duration": 12,
    "start_time": "2022-02-14T11:37:37.650Z"
   },
   {
    "duration": 5,
    "start_time": "2022-02-14T11:37:37.664Z"
   },
   {
    "duration": 40,
    "start_time": "2022-02-14T11:37:37.671Z"
   },
   {
    "duration": 43,
    "start_time": "2022-02-14T11:37:56.803Z"
   },
   {
    "duration": 24,
    "start_time": "2022-02-14T11:37:56.848Z"
   },
   {
    "duration": 4,
    "start_time": "2022-02-14T11:37:56.875Z"
   },
   {
    "duration": 20,
    "start_time": "2022-02-14T11:37:56.881Z"
   },
   {
    "duration": 26,
    "start_time": "2022-02-14T11:37:56.903Z"
   },
   {
    "duration": 5,
    "start_time": "2022-02-14T11:37:56.931Z"
   },
   {
    "duration": 9,
    "start_time": "2022-02-14T11:37:56.938Z"
   },
   {
    "duration": 14,
    "start_time": "2022-02-14T11:37:56.949Z"
   },
   {
    "duration": 39,
    "start_time": "2022-02-14T11:37:56.966Z"
   },
   {
    "duration": 4,
    "start_time": "2022-02-14T11:37:57.007Z"
   },
   {
    "duration": 20,
    "start_time": "2022-02-14T11:37:57.013Z"
   },
   {
    "duration": 4,
    "start_time": "2022-02-14T11:38:11.745Z"
   },
   {
    "duration": 6,
    "start_time": "2022-02-14T11:40:25.782Z"
   },
   {
    "duration": 39,
    "start_time": "2022-02-14T11:40:29.376Z"
   },
   {
    "duration": 20,
    "start_time": "2022-02-14T11:40:29.417Z"
   },
   {
    "duration": 4,
    "start_time": "2022-02-14T11:40:29.439Z"
   },
   {
    "duration": 6,
    "start_time": "2022-02-14T11:40:29.445Z"
   },
   {
    "duration": 25,
    "start_time": "2022-02-14T11:40:29.453Z"
   },
   {
    "duration": 5,
    "start_time": "2022-02-14T11:40:29.499Z"
   },
   {
    "duration": 8,
    "start_time": "2022-02-14T11:40:29.505Z"
   },
   {
    "duration": 14,
    "start_time": "2022-02-14T11:40:29.515Z"
   },
   {
    "duration": 10,
    "start_time": "2022-02-14T11:40:29.531Z"
   },
   {
    "duration": 4,
    "start_time": "2022-02-14T11:40:29.543Z"
   },
   {
    "duration": 8,
    "start_time": "2022-02-14T11:40:29.549Z"
   },
   {
    "duration": 51,
    "start_time": "2022-02-14T11:40:29.558Z"
   },
   {
    "duration": 10,
    "start_time": "2022-02-14T11:41:42.965Z"
   },
   {
    "duration": 10,
    "start_time": "2022-02-14T11:41:55.245Z"
   },
   {
    "duration": 5,
    "start_time": "2022-02-14T11:42:37.925Z"
   },
   {
    "duration": 5,
    "start_time": "2022-02-14T11:43:23.004Z"
   },
   {
    "duration": 5,
    "start_time": "2022-02-14T11:43:23.732Z"
   },
   {
    "duration": 5,
    "start_time": "2022-02-14T11:49:18.104Z"
   },
   {
    "duration": 5,
    "start_time": "2022-02-14T11:49:19.568Z"
   },
   {
    "duration": 5,
    "start_time": "2022-02-14T11:49:39.063Z"
   },
   {
    "duration": 4,
    "start_time": "2022-02-14T11:49:40.911Z"
   },
   {
    "duration": 5,
    "start_time": "2022-02-14T11:49:42.617Z"
   },
   {
    "duration": 5,
    "start_time": "2022-02-14T11:49:44.231Z"
   },
   {
    "duration": 5,
    "start_time": "2022-02-14T11:51:25.774Z"
   },
   {
    "duration": 7,
    "start_time": "2022-02-14T11:51:30.215Z"
   },
   {
    "duration": 12,
    "start_time": "2022-02-14T11:51:41.126Z"
   },
   {
    "duration": 339,
    "start_time": "2022-02-14T11:52:01.269Z"
   },
   {
    "duration": 21,
    "start_time": "2022-02-14T11:52:08.573Z"
   },
   {
    "duration": 26,
    "start_time": "2022-02-14T12:00:15.519Z"
   },
   {
    "duration": 10,
    "start_time": "2022-02-14T12:00:25.519Z"
   },
   {
    "duration": 244,
    "start_time": "2022-02-14T12:00:30.990Z"
   },
   {
    "duration": 15,
    "start_time": "2022-02-14T12:00:33.910Z"
   },
   {
    "duration": 40,
    "start_time": "2022-02-14T12:00:43.145Z"
   },
   {
    "duration": 21,
    "start_time": "2022-02-14T12:00:43.187Z"
   },
   {
    "duration": 5,
    "start_time": "2022-02-14T12:00:43.210Z"
   },
   {
    "duration": 19,
    "start_time": "2022-02-14T12:00:43.217Z"
   },
   {
    "duration": 39,
    "start_time": "2022-02-14T12:00:43.238Z"
   },
   {
    "duration": 5,
    "start_time": "2022-02-14T12:00:43.279Z"
   },
   {
    "duration": 16,
    "start_time": "2022-02-14T12:00:43.285Z"
   },
   {
    "duration": 26,
    "start_time": "2022-02-14T12:00:43.304Z"
   },
   {
    "duration": 10,
    "start_time": "2022-02-14T12:00:43.332Z"
   },
   {
    "duration": 12,
    "start_time": "2022-02-14T12:00:43.343Z"
   },
   {
    "duration": 17,
    "start_time": "2022-02-14T12:00:43.356Z"
   },
   {
    "duration": 26,
    "start_time": "2022-02-14T12:00:43.374Z"
   },
   {
    "duration": 6,
    "start_time": "2022-02-14T12:00:43.402Z"
   },
   {
    "duration": 15,
    "start_time": "2022-02-14T12:00:43.409Z"
   },
   {
    "duration": 11,
    "start_time": "2022-02-14T12:00:43.426Z"
   },
   {
    "duration": 8,
    "start_time": "2022-02-14T12:00:43.438Z"
   },
   {
    "duration": 22,
    "start_time": "2022-02-14T12:00:43.447Z"
   },
   {
    "duration": 36,
    "start_time": "2022-02-14T12:00:43.471Z"
   },
   {
    "duration": 9,
    "start_time": "2022-02-14T12:00:43.508Z"
   },
   {
    "duration": 2,
    "start_time": "2022-02-14T12:01:46.382Z"
   },
   {
    "duration": 10,
    "start_time": "2022-02-14T12:02:21.341Z"
   },
   {
    "duration": 39,
    "start_time": "2022-02-14T12:02:28.255Z"
   },
   {
    "duration": 21,
    "start_time": "2022-02-14T12:02:28.296Z"
   },
   {
    "duration": 5,
    "start_time": "2022-02-14T12:02:28.319Z"
   },
   {
    "duration": 6,
    "start_time": "2022-02-14T12:02:28.326Z"
   },
   {
    "duration": 26,
    "start_time": "2022-02-14T12:02:28.334Z"
   },
   {
    "duration": 38,
    "start_time": "2022-02-14T12:02:28.363Z"
   },
   {
    "duration": 8,
    "start_time": "2022-02-14T12:02:28.404Z"
   },
   {
    "duration": 16,
    "start_time": "2022-02-14T12:02:28.414Z"
   },
   {
    "duration": 10,
    "start_time": "2022-02-14T12:02:28.432Z"
   },
   {
    "duration": 8,
    "start_time": "2022-02-14T12:02:28.444Z"
   },
   {
    "duration": 7,
    "start_time": "2022-02-14T12:02:28.453Z"
   },
   {
    "duration": 56,
    "start_time": "2022-02-14T12:02:28.462Z"
   },
   {
    "duration": 12,
    "start_time": "2022-02-14T12:02:28.520Z"
   },
   {
    "duration": 4,
    "start_time": "2022-02-14T12:02:28.534Z"
   },
   {
    "duration": 6,
    "start_time": "2022-02-14T12:02:28.540Z"
   },
   {
    "duration": 9,
    "start_time": "2022-02-14T12:02:28.547Z"
   },
   {
    "duration": 10,
    "start_time": "2022-02-14T12:02:28.558Z"
   },
   {
    "duration": 32,
    "start_time": "2022-02-14T12:02:28.570Z"
   },
   {
    "duration": 3,
    "start_time": "2022-02-14T12:02:28.604Z"
   },
   {
    "duration": 13,
    "start_time": "2022-02-14T12:02:28.609Z"
   },
   {
    "duration": 5673,
    "start_time": "2022-02-14T12:03:09.932Z"
   },
   {
    "duration": 11,
    "start_time": "2022-02-14T12:03:27.810Z"
   },
   {
    "duration": 1594,
    "start_time": "2022-02-14T12:03:58.107Z"
   },
   {
    "duration": 10,
    "start_time": "2022-02-14T12:04:14.460Z"
   },
   {
    "duration": 12,
    "start_time": "2022-02-14T12:04:33.380Z"
   },
   {
    "duration": 6,
    "start_time": "2022-02-14T12:09:10.471Z"
   },
   {
    "duration": 5,
    "start_time": "2022-02-14T12:09:12.296Z"
   },
   {
    "duration": 8,
    "start_time": "2022-02-14T13:38:07.102Z"
   },
   {
    "duration": 14,
    "start_time": "2022-02-14T13:41:10.043Z"
   },
   {
    "duration": 220,
    "start_time": "2022-02-14T13:41:53.257Z"
   },
   {
    "duration": 19,
    "start_time": "2022-02-14T13:42:11.601Z"
   },
   {
    "duration": 17,
    "start_time": "2022-02-14T13:42:26.148Z"
   },
   {
    "duration": 18,
    "start_time": "2022-02-14T13:42:33.057Z"
   },
   {
    "duration": 18,
    "start_time": "2022-02-14T13:42:38.945Z"
   },
   {
    "duration": 17,
    "start_time": "2022-02-14T13:42:47.939Z"
   },
   {
    "duration": 14,
    "start_time": "2022-02-14T13:42:59.890Z"
   },
   {
    "duration": 17,
    "start_time": "2022-02-14T13:43:04.881Z"
   },
   {
    "duration": 12,
    "start_time": "2022-02-14T13:50:11.828Z"
   },
   {
    "duration": 5,
    "start_time": "2022-02-14T13:50:18.803Z"
   },
   {
    "duration": 18,
    "start_time": "2022-02-14T13:50:22.610Z"
   },
   {
    "duration": 486,
    "start_time": "2022-02-14T14:00:01.099Z"
   },
   {
    "duration": 715,
    "start_time": "2022-02-14T14:00:07.019Z"
   },
   {
    "duration": 42,
    "start_time": "2022-02-14T14:00:10.185Z"
   },
   {
    "duration": 25,
    "start_time": "2022-02-14T14:00:10.229Z"
   },
   {
    "duration": 5,
    "start_time": "2022-02-14T14:00:10.257Z"
   },
   {
    "duration": 34,
    "start_time": "2022-02-14T14:00:10.264Z"
   },
   {
    "duration": 36,
    "start_time": "2022-02-14T14:00:10.300Z"
   },
   {
    "duration": 5,
    "start_time": "2022-02-14T14:00:10.338Z"
   },
   {
    "duration": 16,
    "start_time": "2022-02-14T14:00:10.345Z"
   },
   {
    "duration": 19,
    "start_time": "2022-02-14T14:00:10.364Z"
   },
   {
    "duration": 28,
    "start_time": "2022-02-14T14:00:10.386Z"
   },
   {
    "duration": 9,
    "start_time": "2022-02-14T14:00:10.417Z"
   },
   {
    "duration": 14,
    "start_time": "2022-02-14T14:00:10.428Z"
   },
   {
    "duration": 39,
    "start_time": "2022-02-14T14:00:10.445Z"
   },
   {
    "duration": 12,
    "start_time": "2022-02-14T14:00:10.487Z"
   },
   {
    "duration": 26,
    "start_time": "2022-02-14T14:00:10.501Z"
   },
   {
    "duration": 17,
    "start_time": "2022-02-14T14:00:10.529Z"
   },
   {
    "duration": 12,
    "start_time": "2022-02-14T14:00:10.547Z"
   },
   {
    "duration": 33,
    "start_time": "2022-02-14T14:00:10.561Z"
   },
   {
    "duration": 21,
    "start_time": "2022-02-14T14:00:10.596Z"
   },
   {
    "duration": 15,
    "start_time": "2022-02-14T14:00:10.619Z"
   },
   {
    "duration": 23,
    "start_time": "2022-02-14T14:00:10.635Z"
   },
   {
    "duration": 36,
    "start_time": "2022-02-14T14:00:10.659Z"
   },
   {
    "duration": 37,
    "start_time": "2022-02-14T14:00:10.696Z"
   },
   {
    "duration": 20,
    "start_time": "2022-02-14T14:00:10.736Z"
   },
   {
    "duration": 9136,
    "start_time": "2022-02-14T14:00:16.229Z"
   },
   {
    "duration": 756,
    "start_time": "2022-02-14T14:01:00.886Z"
   },
   {
    "duration": 27,
    "start_time": "2022-02-14T14:01:01.644Z"
   },
   {
    "duration": 5,
    "start_time": "2022-02-14T14:01:01.673Z"
   },
   {
    "duration": 10,
    "start_time": "2022-02-14T14:01:01.680Z"
   },
   {
    "duration": 33,
    "start_time": "2022-02-14T14:01:01.692Z"
   },
   {
    "duration": 5,
    "start_time": "2022-02-14T14:01:01.727Z"
   },
   {
    "duration": 12,
    "start_time": "2022-02-14T14:01:01.734Z"
   },
   {
    "duration": 25,
    "start_time": "2022-02-14T14:01:01.748Z"
   },
   {
    "duration": 30,
    "start_time": "2022-02-14T14:01:01.777Z"
   },
   {
    "duration": 9,
    "start_time": "2022-02-14T14:01:01.810Z"
   },
   {
    "duration": 17,
    "start_time": "2022-02-14T14:01:01.821Z"
   },
   {
    "duration": 33,
    "start_time": "2022-02-14T14:01:01.840Z"
   },
   {
    "duration": 30,
    "start_time": "2022-02-14T14:01:01.876Z"
   },
   {
    "duration": 11,
    "start_time": "2022-02-14T14:01:01.909Z"
   },
   {
    "duration": 33,
    "start_time": "2022-02-14T14:01:01.922Z"
   },
   {
    "duration": 30,
    "start_time": "2022-02-14T14:01:01.957Z"
   },
   {
    "duration": 34,
    "start_time": "2022-02-14T14:01:01.989Z"
   },
   {
    "duration": 35,
    "start_time": "2022-02-14T14:01:02.026Z"
   },
   {
    "duration": 19,
    "start_time": "2022-02-14T14:01:02.063Z"
   },
   {
    "duration": 33,
    "start_time": "2022-02-14T14:01:02.084Z"
   },
   {
    "duration": 24,
    "start_time": "2022-02-14T14:01:02.119Z"
   },
   {
    "duration": 9174,
    "start_time": "2022-02-14T14:01:02.145Z"
   },
   {
    "duration": 14,
    "start_time": "2022-02-14T14:01:11.321Z"
   },
   {
    "duration": 763,
    "start_time": "2022-02-14T14:02:05.601Z"
   },
   {
    "duration": 25,
    "start_time": "2022-02-14T14:02:06.367Z"
   },
   {
    "duration": 5,
    "start_time": "2022-02-14T14:02:06.397Z"
   },
   {
    "duration": 12,
    "start_time": "2022-02-14T14:02:06.403Z"
   },
   {
    "duration": 28,
    "start_time": "2022-02-14T14:02:06.417Z"
   },
   {
    "duration": 5,
    "start_time": "2022-02-14T14:02:06.447Z"
   },
   {
    "duration": 9,
    "start_time": "2022-02-14T14:02:06.453Z"
   },
   {
    "duration": 35,
    "start_time": "2022-02-14T14:02:06.465Z"
   },
   {
    "duration": 11,
    "start_time": "2022-02-14T14:02:06.502Z"
   },
   {
    "duration": 5,
    "start_time": "2022-02-14T14:02:06.514Z"
   },
   {
    "duration": 17,
    "start_time": "2022-02-14T14:02:06.521Z"
   },
   {
    "duration": 21,
    "start_time": "2022-02-14T14:02:06.540Z"
   },
   {
    "duration": 15,
    "start_time": "2022-02-14T14:02:06.563Z"
   },
   {
    "duration": 22,
    "start_time": "2022-02-14T14:02:06.580Z"
   },
   {
    "duration": 10,
    "start_time": "2022-02-14T14:02:06.603Z"
   },
   {
    "duration": 6,
    "start_time": "2022-02-14T14:02:06.614Z"
   },
   {
    "duration": 7,
    "start_time": "2022-02-14T14:02:06.621Z"
   },
   {
    "duration": 18,
    "start_time": "2022-02-14T14:02:06.630Z"
   },
   {
    "duration": 6,
    "start_time": "2022-02-14T14:02:06.650Z"
   },
   {
    "duration": 10,
    "start_time": "2022-02-14T14:02:06.658Z"
   },
   {
    "duration": 32,
    "start_time": "2022-02-14T14:02:06.670Z"
   },
   {
    "duration": 298,
    "start_time": "2022-02-14T14:02:06.704Z"
   },
   {
    "duration": -203,
    "start_time": "2022-02-14T14:02:07.207Z"
   },
   {
    "duration": 9085,
    "start_time": "2022-02-14T14:02:16.423Z"
   },
   {
    "duration": 52,
    "start_time": "2022-02-14T14:13:22.667Z"
   },
   {
    "duration": 22,
    "start_time": "2022-02-14T14:13:22.721Z"
   },
   {
    "duration": 5,
    "start_time": "2022-02-14T14:13:22.745Z"
   },
   {
    "duration": 15,
    "start_time": "2022-02-14T14:13:22.752Z"
   },
   {
    "duration": 42,
    "start_time": "2022-02-14T14:13:22.769Z"
   },
   {
    "duration": 6,
    "start_time": "2022-02-14T14:13:22.813Z"
   },
   {
    "duration": 9,
    "start_time": "2022-02-14T14:13:22.821Z"
   },
   {
    "duration": 16,
    "start_time": "2022-02-14T14:13:22.833Z"
   },
   {
    "duration": 14,
    "start_time": "2022-02-14T14:13:22.852Z"
   },
   {
    "duration": 5,
    "start_time": "2022-02-14T14:13:22.899Z"
   },
   {
    "duration": 6,
    "start_time": "2022-02-14T14:13:22.906Z"
   },
   {
    "duration": 19,
    "start_time": "2022-02-14T14:13:22.913Z"
   },
   {
    "duration": 12,
    "start_time": "2022-02-14T14:13:22.934Z"
   },
   {
    "duration": 6,
    "start_time": "2022-02-14T14:13:22.948Z"
   },
   {
    "duration": 44,
    "start_time": "2022-02-14T14:13:22.957Z"
   },
   {
    "duration": 6,
    "start_time": "2022-02-14T14:13:23.003Z"
   },
   {
    "duration": 7,
    "start_time": "2022-02-14T14:13:23.012Z"
   },
   {
    "duration": 14,
    "start_time": "2022-02-14T14:13:23.021Z"
   },
   {
    "duration": 7,
    "start_time": "2022-02-14T14:13:23.037Z"
   },
   {
    "duration": 55,
    "start_time": "2022-02-14T14:13:23.046Z"
   },
   {
    "duration": 7,
    "start_time": "2022-02-14T14:13:23.103Z"
   },
   {
    "duration": 33,
    "start_time": "2022-02-14T14:13:23.112Z"
   },
   {
    "duration": 7,
    "start_time": "2022-02-14T14:15:43.667Z"
   },
   {
    "duration": 23,
    "start_time": "2022-02-14T14:15:50.404Z"
   },
   {
    "duration": 8,
    "start_time": "2022-02-14T14:16:39.939Z"
   },
   {
    "duration": 233,
    "start_time": "2022-02-14T14:23:58.743Z"
   },
   {
    "duration": 9278,
    "start_time": "2022-02-14T14:25:23.164Z"
   },
   {
    "duration": 70,
    "start_time": "2022-02-14T14:34:54.581Z"
   },
   {
    "duration": 6,
    "start_time": "2022-02-14T14:34:57.870Z"
   },
   {
    "duration": 6,
    "start_time": "2022-02-14T14:35:30.566Z"
   },
   {
    "duration": 11,
    "start_time": "2022-02-14T14:35:55.228Z"
   },
   {
    "duration": 10,
    "start_time": "2022-02-14T14:35:58.948Z"
   },
   {
    "duration": 25,
    "start_time": "2022-02-14T14:36:05.564Z"
   },
   {
    "duration": 6,
    "start_time": "2022-02-14T14:38:47.411Z"
   },
   {
    "duration": 26,
    "start_time": "2022-02-14T14:38:50.233Z"
   },
   {
    "duration": 6,
    "start_time": "2022-02-14T14:40:34.777Z"
   },
   {
    "duration": 36,
    "start_time": "2022-02-14T14:40:36.473Z"
   },
   {
    "duration": 51,
    "start_time": "2022-02-14T14:47:20.966Z"
   },
   {
    "duration": 21,
    "start_time": "2022-02-14T14:47:21.019Z"
   },
   {
    "duration": 5,
    "start_time": "2022-02-14T14:47:21.042Z"
   },
   {
    "duration": 23,
    "start_time": "2022-02-14T14:47:21.049Z"
   },
   {
    "duration": 49,
    "start_time": "2022-02-14T14:47:21.074Z"
   },
   {
    "duration": 5,
    "start_time": "2022-02-14T14:47:21.125Z"
   },
   {
    "duration": 35,
    "start_time": "2022-02-14T14:47:21.131Z"
   },
   {
    "duration": 23,
    "start_time": "2022-02-14T14:47:21.169Z"
   },
   {
    "duration": 37,
    "start_time": "2022-02-14T14:47:21.194Z"
   },
   {
    "duration": 24,
    "start_time": "2022-02-14T14:47:21.233Z"
   },
   {
    "duration": 18,
    "start_time": "2022-02-14T14:47:21.259Z"
   },
   {
    "duration": 41,
    "start_time": "2022-02-14T14:47:21.279Z"
   },
   {
    "duration": 13,
    "start_time": "2022-02-14T14:47:21.321Z"
   },
   {
    "duration": 4,
    "start_time": "2022-02-14T14:47:21.336Z"
   },
   {
    "duration": 6,
    "start_time": "2022-02-14T14:47:21.342Z"
   },
   {
    "duration": 7,
    "start_time": "2022-02-14T14:47:21.350Z"
   },
   {
    "duration": 8,
    "start_time": "2022-02-14T14:47:21.359Z"
   },
   {
    "duration": 30,
    "start_time": "2022-02-14T14:47:21.368Z"
   },
   {
    "duration": 6,
    "start_time": "2022-02-14T14:47:21.400Z"
   },
   {
    "duration": 8,
    "start_time": "2022-02-14T14:47:21.408Z"
   },
   {
    "duration": 24,
    "start_time": "2022-02-14T14:47:21.417Z"
   },
   {
    "duration": 28,
    "start_time": "2022-02-14T14:47:21.443Z"
   },
   {
    "duration": 5496,
    "start_time": "2022-02-14T14:49:34.084Z"
   },
   {
    "duration": 22,
    "start_time": "2022-02-14T14:49:47.585Z"
   },
   {
    "duration": 6,
    "start_time": "2022-02-14T14:50:16.873Z"
   },
   {
    "duration": 22,
    "start_time": "2022-02-14T14:50:21.041Z"
   },
   {
    "duration": 26,
    "start_time": "2022-02-14T14:50:59.232Z"
   },
   {
    "duration": 24,
    "start_time": "2022-02-14T14:51:34.112Z"
   },
   {
    "duration": 23,
    "start_time": "2022-02-14T14:51:36.871Z"
   },
   {
    "duration": 26,
    "start_time": "2022-02-14T14:51:40.823Z"
   },
   {
    "duration": 25,
    "start_time": "2022-02-14T14:52:29.471Z"
   },
   {
    "duration": 23,
    "start_time": "2022-02-14T14:52:32.367Z"
   },
   {
    "duration": 24,
    "start_time": "2022-02-14T14:52:34.663Z"
   },
   {
    "duration": 26,
    "start_time": "2022-02-14T14:53:08.567Z"
   },
   {
    "duration": 26,
    "start_time": "2022-02-14T14:54:14.008Z"
   },
   {
    "duration": 248,
    "start_time": "2022-02-14T14:55:00.270Z"
   },
   {
    "duration": 29,
    "start_time": "2022-02-14T14:55:03.605Z"
   },
   {
    "duration": 38,
    "start_time": "2022-02-14T14:57:11.836Z"
   },
   {
    "duration": 5,
    "start_time": "2022-02-14T14:58:37.154Z"
   },
   {
    "duration": 6,
    "start_time": "2022-02-14T14:58:55.475Z"
   },
   {
    "duration": 15,
    "start_time": "2022-02-14T14:58:59.698Z"
   },
   {
    "duration": 11,
    "start_time": "2022-02-14T14:59:07.715Z"
   },
   {
    "duration": 6,
    "start_time": "2022-02-14T14:59:11.145Z"
   },
   {
    "duration": 5,
    "start_time": "2022-02-14T14:59:14.714Z"
   },
   {
    "duration": 15,
    "start_time": "2022-02-14T14:59:17.154Z"
   },
   {
    "duration": 17,
    "start_time": "2022-02-14T14:59:34.202Z"
   },
   {
    "duration": 42,
    "start_time": "2022-02-14T14:59:38.053Z"
   },
   {
    "duration": 23,
    "start_time": "2022-02-14T14:59:38.097Z"
   },
   {
    "duration": 5,
    "start_time": "2022-02-14T14:59:38.123Z"
   },
   {
    "duration": 11,
    "start_time": "2022-02-14T14:59:38.130Z"
   },
   {
    "duration": 27,
    "start_time": "2022-02-14T14:59:38.143Z"
   },
   {
    "duration": 6,
    "start_time": "2022-02-14T14:59:38.198Z"
   },
   {
    "duration": 11,
    "start_time": "2022-02-14T14:59:38.206Z"
   },
   {
    "duration": 17,
    "start_time": "2022-02-14T14:59:38.219Z"
   },
   {
    "duration": 11,
    "start_time": "2022-02-14T14:59:38.239Z"
   },
   {
    "duration": 5,
    "start_time": "2022-02-14T14:59:38.252Z"
   },
   {
    "duration": 41,
    "start_time": "2022-02-14T14:59:38.259Z"
   },
   {
    "duration": 17,
    "start_time": "2022-02-14T14:59:38.302Z"
   },
   {
    "duration": 14,
    "start_time": "2022-02-14T14:59:38.321Z"
   },
   {
    "duration": 5,
    "start_time": "2022-02-14T14:59:38.337Z"
   },
   {
    "duration": 12,
    "start_time": "2022-02-14T14:59:38.344Z"
   },
   {
    "duration": 11,
    "start_time": "2022-02-14T14:59:38.358Z"
   },
   {
    "duration": 33,
    "start_time": "2022-02-14T14:59:38.370Z"
   },
   {
    "duration": 13,
    "start_time": "2022-02-14T14:59:38.405Z"
   },
   {
    "duration": 6,
    "start_time": "2022-02-14T14:59:38.419Z"
   },
   {
    "duration": 8,
    "start_time": "2022-02-14T14:59:38.427Z"
   },
   {
    "duration": 31,
    "start_time": "2022-02-14T14:59:38.437Z"
   },
   {
    "duration": 32,
    "start_time": "2022-02-14T14:59:38.470Z"
   },
   {
    "duration": 15,
    "start_time": "2022-02-14T14:59:38.504Z"
   },
   {
    "duration": 20,
    "start_time": "2022-02-14T15:00:22.737Z"
   },
   {
    "duration": 6,
    "start_time": "2022-02-14T15:00:24.769Z"
   },
   {
    "duration": 15,
    "start_time": "2022-02-14T15:00:28.921Z"
   },
   {
    "duration": 19,
    "start_time": "2022-02-14T15:00:41.417Z"
   },
   {
    "duration": 20,
    "start_time": "2022-02-14T15:00:57.432Z"
   },
   {
    "duration": 251,
    "start_time": "2022-02-14T15:01:44.928Z"
   },
   {
    "duration": 11,
    "start_time": "2022-02-14T15:01:49.080Z"
   },
   {
    "duration": 6,
    "start_time": "2022-02-14T15:01:50.935Z"
   },
   {
    "duration": 20,
    "start_time": "2022-02-14T15:01:53.056Z"
   },
   {
    "duration": 40,
    "start_time": "2022-02-14T15:01:55.666Z"
   },
   {
    "duration": 20,
    "start_time": "2022-02-14T15:01:55.708Z"
   },
   {
    "duration": 5,
    "start_time": "2022-02-14T15:01:55.730Z"
   },
   {
    "duration": 7,
    "start_time": "2022-02-14T15:01:55.736Z"
   },
   {
    "duration": 27,
    "start_time": "2022-02-14T15:01:55.745Z"
   },
   {
    "duration": 28,
    "start_time": "2022-02-14T15:01:55.773Z"
   },
   {
    "duration": 8,
    "start_time": "2022-02-14T15:01:55.803Z"
   },
   {
    "duration": 34,
    "start_time": "2022-02-14T15:01:55.813Z"
   },
   {
    "duration": 21,
    "start_time": "2022-02-14T15:01:55.849Z"
   },
   {
    "duration": 13,
    "start_time": "2022-02-14T15:01:55.872Z"
   },
   {
    "duration": 17,
    "start_time": "2022-02-14T15:01:55.887Z"
   },
   {
    "duration": 39,
    "start_time": "2022-02-14T15:01:55.906Z"
   },
   {
    "duration": 20,
    "start_time": "2022-02-14T15:01:55.947Z"
   },
   {
    "duration": 15,
    "start_time": "2022-02-14T15:01:55.970Z"
   },
   {
    "duration": 23,
    "start_time": "2022-02-14T15:01:55.986Z"
   },
   {
    "duration": 13,
    "start_time": "2022-02-14T15:01:56.011Z"
   },
   {
    "duration": 25,
    "start_time": "2022-02-14T15:01:56.026Z"
   },
   {
    "duration": 15,
    "start_time": "2022-02-14T15:01:56.053Z"
   },
   {
    "duration": 13,
    "start_time": "2022-02-14T15:01:56.070Z"
   },
   {
    "duration": 22,
    "start_time": "2022-02-14T15:01:56.085Z"
   },
   {
    "duration": 38,
    "start_time": "2022-02-14T15:01:56.108Z"
   },
   {
    "duration": 7,
    "start_time": "2022-02-14T15:01:56.148Z"
   },
   {
    "duration": 27,
    "start_time": "2022-02-14T15:01:56.158Z"
   },
   {
    "duration": 9,
    "start_time": "2022-02-14T15:02:09.080Z"
   },
   {
    "duration": 10,
    "start_time": "2022-02-14T15:02:59.631Z"
   },
   {
    "duration": 10,
    "start_time": "2022-02-14T15:03:06.958Z"
   },
   {
    "duration": 202,
    "start_time": "2022-02-14T15:03:10.959Z"
   },
   {
    "duration": 205,
    "start_time": "2022-02-14T15:03:14.303Z"
   },
   {
    "duration": 227,
    "start_time": "2022-02-14T15:03:18.174Z"
   },
   {
    "duration": 40,
    "start_time": "2022-02-14T15:03:20.970Z"
   },
   {
    "duration": 21,
    "start_time": "2022-02-14T15:03:21.012Z"
   },
   {
    "duration": 5,
    "start_time": "2022-02-14T15:03:21.036Z"
   },
   {
    "duration": 9,
    "start_time": "2022-02-14T15:03:21.043Z"
   },
   {
    "duration": 49,
    "start_time": "2022-02-14T15:03:21.054Z"
   },
   {
    "duration": 6,
    "start_time": "2022-02-14T15:03:21.104Z"
   },
   {
    "duration": 21,
    "start_time": "2022-02-14T15:03:21.112Z"
   },
   {
    "duration": 22,
    "start_time": "2022-02-14T15:03:21.137Z"
   },
   {
    "duration": 15,
    "start_time": "2022-02-14T15:03:21.162Z"
   },
   {
    "duration": 21,
    "start_time": "2022-02-14T15:03:21.179Z"
   },
   {
    "duration": 13,
    "start_time": "2022-02-14T15:03:21.202Z"
   },
   {
    "duration": 27,
    "start_time": "2022-02-14T15:03:21.217Z"
   },
   {
    "duration": 19,
    "start_time": "2022-02-14T15:03:21.246Z"
   },
   {
    "duration": 19,
    "start_time": "2022-02-14T15:03:21.266Z"
   },
   {
    "duration": 28,
    "start_time": "2022-02-14T15:03:21.287Z"
   },
   {
    "duration": 15,
    "start_time": "2022-02-14T15:03:21.317Z"
   },
   {
    "duration": 21,
    "start_time": "2022-02-14T15:03:21.334Z"
   },
   {
    "duration": 27,
    "start_time": "2022-02-14T15:03:21.357Z"
   },
   {
    "duration": 24,
    "start_time": "2022-02-14T15:03:21.386Z"
   },
   {
    "duration": 24,
    "start_time": "2022-02-14T15:03:21.412Z"
   },
   {
    "duration": 19,
    "start_time": "2022-02-14T15:03:21.438Z"
   },
   {
    "duration": 230,
    "start_time": "2022-02-14T15:03:21.459Z"
   },
   {
    "duration": -234,
    "start_time": "2022-02-14T15:03:21.926Z"
   },
   {
    "duration": 248,
    "start_time": "2022-02-14T15:03:26.848Z"
   },
   {
    "duration": 54,
    "start_time": "2022-02-14T15:03:30.385Z"
   },
   {
    "duration": 28,
    "start_time": "2022-02-14T15:03:30.441Z"
   },
   {
    "duration": 27,
    "start_time": "2022-02-14T15:03:30.471Z"
   },
   {
    "duration": 10,
    "start_time": "2022-02-14T15:03:30.501Z"
   },
   {
    "duration": 40,
    "start_time": "2022-02-14T15:03:30.513Z"
   },
   {
    "duration": 6,
    "start_time": "2022-02-14T15:03:30.555Z"
   },
   {
    "duration": 25,
    "start_time": "2022-02-14T15:03:30.562Z"
   },
   {
    "duration": 21,
    "start_time": "2022-02-14T15:03:30.590Z"
   },
   {
    "duration": 13,
    "start_time": "2022-02-14T15:03:30.614Z"
   },
   {
    "duration": 6,
    "start_time": "2022-02-14T15:03:30.629Z"
   },
   {
    "duration": 15,
    "start_time": "2022-02-14T15:03:30.637Z"
   },
   {
    "duration": 37,
    "start_time": "2022-02-14T15:03:30.654Z"
   },
   {
    "duration": 23,
    "start_time": "2022-02-14T15:03:30.698Z"
   },
   {
    "duration": 15,
    "start_time": "2022-02-14T15:03:30.723Z"
   },
   {
    "duration": 14,
    "start_time": "2022-02-14T15:03:30.739Z"
   },
   {
    "duration": 12,
    "start_time": "2022-02-14T15:03:30.755Z"
   },
   {
    "duration": 15,
    "start_time": "2022-02-14T15:03:30.769Z"
   },
   {
    "duration": 22,
    "start_time": "2022-02-14T15:03:30.785Z"
   },
   {
    "duration": 5,
    "start_time": "2022-02-14T15:03:30.809Z"
   },
   {
    "duration": 13,
    "start_time": "2022-02-14T15:03:30.816Z"
   },
   {
    "duration": 15,
    "start_time": "2022-02-14T15:03:30.831Z"
   },
   {
    "duration": 13,
    "start_time": "2022-02-14T15:03:30.848Z"
   },
   {
    "duration": 21,
    "start_time": "2022-02-14T15:03:30.864Z"
   },
   {
    "duration": 10,
    "start_time": "2022-02-14T15:04:06.174Z"
   },
   {
    "duration": 12,
    "start_time": "2022-02-14T15:04:24.583Z"
   },
   {
    "duration": 13,
    "start_time": "2022-02-14T15:04:37.286Z"
   },
   {
    "duration": 387,
    "start_time": "2022-02-15T09:20:04.565Z"
   },
   {
    "duration": 640,
    "start_time": "2022-02-15T09:30:24.898Z"
   },
   {
    "duration": 22,
    "start_time": "2022-02-15T09:30:25.540Z"
   },
   {
    "duration": 5,
    "start_time": "2022-02-15T09:30:25.565Z"
   },
   {
    "duration": 7,
    "start_time": "2022-02-15T09:30:25.572Z"
   },
   {
    "duration": 31,
    "start_time": "2022-02-15T09:30:25.580Z"
   },
   {
    "duration": 4,
    "start_time": "2022-02-15T09:30:25.613Z"
   },
   {
    "duration": 18,
    "start_time": "2022-02-15T09:30:25.619Z"
   },
   {
    "duration": 25,
    "start_time": "2022-02-15T09:30:25.639Z"
   },
   {
    "duration": 9,
    "start_time": "2022-02-15T09:30:25.666Z"
   },
   {
    "duration": 4,
    "start_time": "2022-02-15T09:30:25.676Z"
   },
   {
    "duration": 8,
    "start_time": "2022-02-15T09:30:25.682Z"
   },
   {
    "duration": 21,
    "start_time": "2022-02-15T09:30:25.691Z"
   },
   {
    "duration": 9,
    "start_time": "2022-02-15T09:30:25.713Z"
   },
   {
    "duration": 35,
    "start_time": "2022-02-15T09:30:25.724Z"
   },
   {
    "duration": 5,
    "start_time": "2022-02-15T09:30:25.760Z"
   },
   {
    "duration": 9,
    "start_time": "2022-02-15T09:30:25.766Z"
   },
   {
    "duration": 13,
    "start_time": "2022-02-15T09:30:25.777Z"
   },
   {
    "duration": 19,
    "start_time": "2022-02-15T09:30:25.791Z"
   },
   {
    "duration": 16,
    "start_time": "2022-02-15T09:30:25.811Z"
   },
   {
    "duration": 23,
    "start_time": "2022-02-15T09:30:25.828Z"
   },
   {
    "duration": 210,
    "start_time": "2022-02-15T09:30:25.852Z"
   },
   {
    "duration": -201,
    "start_time": "2022-02-15T09:30:26.265Z"
   },
   {
    "duration": -202,
    "start_time": "2022-02-15T09:30:26.267Z"
   },
   {
    "duration": 17,
    "start_time": "2022-02-15T09:30:42.527Z"
   },
   {
    "duration": 5,
    "start_time": "2022-02-15T09:30:45.743Z"
   },
   {
    "duration": 18,
    "start_time": "2022-02-15T09:30:48.270Z"
   },
   {
    "duration": 35,
    "start_time": "2022-02-15T09:31:03.137Z"
   },
   {
    "duration": 20,
    "start_time": "2022-02-15T09:31:03.174Z"
   },
   {
    "duration": 5,
    "start_time": "2022-02-15T09:31:03.197Z"
   },
   {
    "duration": 6,
    "start_time": "2022-02-15T09:31:03.205Z"
   },
   {
    "duration": 51,
    "start_time": "2022-02-15T09:31:03.213Z"
   },
   {
    "duration": 6,
    "start_time": "2022-02-15T09:31:03.266Z"
   },
   {
    "duration": 8,
    "start_time": "2022-02-15T09:31:03.274Z"
   },
   {
    "duration": 15,
    "start_time": "2022-02-15T09:31:03.284Z"
   },
   {
    "duration": 13,
    "start_time": "2022-02-15T09:31:03.301Z"
   },
   {
    "duration": 5,
    "start_time": "2022-02-15T09:31:03.315Z"
   },
   {
    "duration": 39,
    "start_time": "2022-02-15T09:31:03.321Z"
   },
   {
    "duration": 16,
    "start_time": "2022-02-15T09:31:03.362Z"
   },
   {
    "duration": 9,
    "start_time": "2022-02-15T09:31:03.380Z"
   },
   {
    "duration": 4,
    "start_time": "2022-02-15T09:31:03.391Z"
   },
   {
    "duration": 7,
    "start_time": "2022-02-15T09:31:03.397Z"
   },
   {
    "duration": 8,
    "start_time": "2022-02-15T09:31:03.405Z"
   },
   {
    "duration": 4,
    "start_time": "2022-02-15T09:31:03.415Z"
   },
   {
    "duration": 45,
    "start_time": "2022-02-15T09:31:03.421Z"
   },
   {
    "duration": 4,
    "start_time": "2022-02-15T09:31:03.468Z"
   },
   {
    "duration": 7,
    "start_time": "2022-02-15T09:31:03.474Z"
   },
   {
    "duration": 21,
    "start_time": "2022-02-15T09:31:03.483Z"
   },
   {
    "duration": 5,
    "start_time": "2022-02-15T09:31:03.506Z"
   },
   {
    "duration": 48,
    "start_time": "2022-02-15T09:31:03.513Z"
   },
   {
    "duration": 7,
    "start_time": "2022-02-15T09:31:33.542Z"
   },
   {
    "duration": 36,
    "start_time": "2022-02-15T09:31:38.313Z"
   },
   {
    "duration": 19,
    "start_time": "2022-02-15T09:31:38.351Z"
   },
   {
    "duration": 4,
    "start_time": "2022-02-15T09:31:38.372Z"
   },
   {
    "duration": 7,
    "start_time": "2022-02-15T09:31:38.377Z"
   },
   {
    "duration": 26,
    "start_time": "2022-02-15T09:31:38.385Z"
   },
   {
    "duration": 4,
    "start_time": "2022-02-15T09:31:38.412Z"
   },
   {
    "duration": 7,
    "start_time": "2022-02-15T09:31:38.417Z"
   },
   {
    "duration": 37,
    "start_time": "2022-02-15T09:31:38.426Z"
   },
   {
    "duration": 9,
    "start_time": "2022-02-15T09:31:38.466Z"
   },
   {
    "duration": 4,
    "start_time": "2022-02-15T09:31:38.477Z"
   },
   {
    "duration": 5,
    "start_time": "2022-02-15T09:31:38.483Z"
   },
   {
    "duration": 15,
    "start_time": "2022-02-15T09:31:38.490Z"
   },
   {
    "duration": 8,
    "start_time": "2022-02-15T09:31:38.507Z"
   },
   {
    "duration": 4,
    "start_time": "2022-02-15T09:31:38.517Z"
   },
   {
    "duration": 40,
    "start_time": "2022-02-15T09:31:38.523Z"
   },
   {
    "duration": 23,
    "start_time": "2022-02-15T09:31:38.565Z"
   },
   {
    "duration": 7,
    "start_time": "2022-02-15T09:31:38.590Z"
   },
   {
    "duration": 13,
    "start_time": "2022-02-15T09:31:38.599Z"
   },
   {
    "duration": 5,
    "start_time": "2022-02-15T09:31:38.614Z"
   },
   {
    "duration": 8,
    "start_time": "2022-02-15T09:31:38.621Z"
   },
   {
    "duration": 9,
    "start_time": "2022-02-15T09:31:38.631Z"
   },
   {
    "duration": 6,
    "start_time": "2022-02-15T09:31:38.659Z"
   },
   {
    "duration": 19,
    "start_time": "2022-02-15T09:31:38.666Z"
   },
   {
    "duration": 4,
    "start_time": "2022-02-15T09:31:55.054Z"
   },
   {
    "duration": 5,
    "start_time": "2022-02-15T09:31:57.013Z"
   },
   {
    "duration": 16,
    "start_time": "2022-02-15T09:31:59.654Z"
   },
   {
    "duration": 25,
    "start_time": "2022-02-15T09:51:40.255Z"
   },
   {
    "duration": 47,
    "start_time": "2022-02-15T09:57:03.922Z"
   },
   {
    "duration": 3358,
    "start_time": "2022-02-15T10:10:06.582Z"
   },
   {
    "duration": 5,
    "start_time": "2022-02-15T10:10:20.093Z"
   },
   {
    "duration": 7,
    "start_time": "2022-02-15T10:10:25.518Z"
   },
   {
    "duration": 7,
    "start_time": "2022-02-15T10:11:00.413Z"
   },
   {
    "duration": 22,
    "start_time": "2022-02-15T10:11:13.693Z"
   },
   {
    "duration": 397,
    "start_time": "2022-02-15T10:14:25.627Z"
   },
   {
    "duration": 12,
    "start_time": "2022-02-15T10:14:32.883Z"
   },
   {
    "duration": 9,
    "start_time": "2022-02-15T10:14:55.075Z"
   },
   {
    "duration": 9,
    "start_time": "2022-02-15T10:14:59.299Z"
   },
   {
    "duration": 384,
    "start_time": "2022-02-15T10:45:37.328Z"
   },
   {
    "duration": 1023,
    "start_time": "2022-02-15T10:45:43.030Z"
   },
   {
    "duration": 32,
    "start_time": "2022-02-15T10:45:44.056Z"
   },
   {
    "duration": 6,
    "start_time": "2022-02-15T10:45:44.091Z"
   },
   {
    "duration": 6,
    "start_time": "2022-02-15T10:45:44.111Z"
   },
   {
    "duration": 34,
    "start_time": "2022-02-15T10:45:44.119Z"
   },
   {
    "duration": 7,
    "start_time": "2022-02-15T10:45:44.155Z"
   },
   {
    "duration": 7,
    "start_time": "2022-02-15T10:45:44.164Z"
   },
   {
    "duration": 20,
    "start_time": "2022-02-15T10:45:44.212Z"
   },
   {
    "duration": 15,
    "start_time": "2022-02-15T10:45:44.236Z"
   },
   {
    "duration": 6,
    "start_time": "2022-02-15T10:45:44.253Z"
   },
   {
    "duration": 51,
    "start_time": "2022-02-15T10:45:44.261Z"
   },
   {
    "duration": 21,
    "start_time": "2022-02-15T10:45:44.315Z"
   },
   {
    "duration": 15,
    "start_time": "2022-02-15T10:45:44.338Z"
   },
   {
    "duration": 5,
    "start_time": "2022-02-15T10:45:44.355Z"
   },
   {
    "duration": 51,
    "start_time": "2022-02-15T10:45:44.362Z"
   },
   {
    "duration": 8,
    "start_time": "2022-02-15T10:45:44.416Z"
   },
   {
    "duration": 12,
    "start_time": "2022-02-15T10:45:44.426Z"
   },
   {
    "duration": 15,
    "start_time": "2022-02-15T10:45:44.440Z"
   },
   {
    "duration": 7,
    "start_time": "2022-02-15T10:45:44.457Z"
   },
   {
    "duration": 47,
    "start_time": "2022-02-15T10:45:44.466Z"
   },
   {
    "duration": 6,
    "start_time": "2022-02-15T10:45:44.515Z"
   },
   {
    "duration": 7,
    "start_time": "2022-02-15T10:45:44.524Z"
   },
   {
    "duration": 33,
    "start_time": "2022-02-15T10:45:44.533Z"
   },
   {
    "duration": 78,
    "start_time": "2022-02-15T10:45:44.568Z"
   },
   {
    "duration": 604,
    "start_time": "2022-02-15T10:45:44.648Z"
   },
   {
    "duration": 305,
    "start_time": "2022-02-15T10:47:44.440Z"
   },
   {
    "duration": 12,
    "start_time": "2022-02-15T10:48:10.086Z"
   },
   {
    "duration": 18,
    "start_time": "2022-02-15T10:48:13.358Z"
   },
   {
    "duration": 14,
    "start_time": "2022-02-15T10:49:00.318Z"
   },
   {
    "duration": 18,
    "start_time": "2022-02-15T10:49:12.821Z"
   },
   {
    "duration": 374,
    "start_time": "2022-02-15T10:50:01.741Z"
   },
   {
    "duration": 326,
    "start_time": "2022-02-15T10:50:13.173Z"
   },
   {
    "duration": 284,
    "start_time": "2022-02-15T10:50:48.660Z"
   },
   {
    "duration": 435,
    "start_time": "2022-02-15T10:50:59.428Z"
   },
   {
    "duration": 522,
    "start_time": "2022-02-15T10:51:06.180Z"
   },
   {
    "duration": 422,
    "start_time": "2022-02-15T10:51:09.804Z"
   },
   {
    "duration": 436,
    "start_time": "2022-02-15T10:51:12.164Z"
   },
   {
    "duration": 1006,
    "start_time": "2022-02-15T12:07:25.608Z"
   },
   {
    "duration": 47,
    "start_time": "2022-02-15T12:07:26.618Z"
   },
   {
    "duration": 8,
    "start_time": "2022-02-15T12:07:26.668Z"
   },
   {
    "duration": 34,
    "start_time": "2022-02-15T12:07:26.679Z"
   },
   {
    "duration": 47,
    "start_time": "2022-02-15T12:07:26.716Z"
   },
   {
    "duration": 8,
    "start_time": "2022-02-15T12:07:26.766Z"
   },
   {
    "duration": 38,
    "start_time": "2022-02-15T12:07:26.776Z"
   },
   {
    "duration": 22,
    "start_time": "2022-02-15T12:07:26.816Z"
   },
   {
    "duration": 14,
    "start_time": "2022-02-15T12:07:26.845Z"
   },
   {
    "duration": 6,
    "start_time": "2022-02-15T12:07:26.863Z"
   },
   {
    "duration": 8,
    "start_time": "2022-02-15T12:07:26.911Z"
   },
   {
    "duration": 23,
    "start_time": "2022-02-15T12:07:26.921Z"
   },
   {
    "duration": 15,
    "start_time": "2022-02-15T12:07:26.947Z"
   },
   {
    "duration": 50,
    "start_time": "2022-02-15T12:07:26.965Z"
   },
   {
    "duration": 6,
    "start_time": "2022-02-15T12:07:27.017Z"
   },
   {
    "duration": 6,
    "start_time": "2022-02-15T12:07:27.026Z"
   },
   {
    "duration": 7,
    "start_time": "2022-02-15T12:07:27.034Z"
   },
   {
    "duration": 20,
    "start_time": "2022-02-15T12:07:27.043Z"
   },
   {
    "duration": 49,
    "start_time": "2022-02-15T12:07:27.065Z"
   },
   {
    "duration": 15,
    "start_time": "2022-02-15T12:07:27.116Z"
   },
   {
    "duration": 6,
    "start_time": "2022-02-15T12:07:27.134Z"
   },
   {
    "duration": 7,
    "start_time": "2022-02-15T12:07:27.142Z"
   },
   {
    "duration": 67,
    "start_time": "2022-02-15T12:07:27.151Z"
   },
   {
    "duration": 47,
    "start_time": "2022-02-15T12:07:27.220Z"
   },
   {
    "duration": 20,
    "start_time": "2022-02-15T12:07:27.270Z"
   },
   {
    "duration": 547,
    "start_time": "2022-02-15T12:07:27.293Z"
   },
   {
    "duration": 355,
    "start_time": "2022-02-15T12:07:32.930Z"
   },
   {
    "duration": 447,
    "start_time": "2022-02-15T12:07:41.754Z"
   },
   {
    "duration": 747,
    "start_time": "2022-02-15T12:08:20.306Z"
   },
   {
    "duration": 516,
    "start_time": "2022-02-15T12:08:25.826Z"
   },
   {
    "duration": 462,
    "start_time": "2022-02-15T12:08:36.154Z"
   },
   {
    "duration": 464,
    "start_time": "2022-02-15T12:13:10.830Z"
   },
   {
    "duration": 480,
    "start_time": "2022-02-15T12:13:29.255Z"
   },
   {
    "duration": 531,
    "start_time": "2022-02-15T12:13:40.358Z"
   },
   {
    "duration": 17,
    "start_time": "2022-02-15T12:31:35.849Z"
   },
   {
    "duration": 19,
    "start_time": "2022-02-15T12:33:16.471Z"
   },
   {
    "duration": 6,
    "start_time": "2022-02-15T12:33:35.350Z"
   },
   {
    "duration": 10,
    "start_time": "2022-02-15T12:33:38.558Z"
   },
   {
    "duration": 132,
    "start_time": "2022-02-15T12:33:45.294Z"
   },
   {
    "duration": 9,
    "start_time": "2022-02-15T12:33:48.718Z"
   },
   {
    "duration": 9,
    "start_time": "2022-02-15T12:33:54.543Z"
   },
   {
    "duration": 11,
    "start_time": "2022-02-15T12:34:10.630Z"
   },
   {
    "duration": 11,
    "start_time": "2022-02-15T12:34:18.198Z"
   },
   {
    "duration": 10,
    "start_time": "2022-02-15T12:34:21.422Z"
   },
   {
    "duration": 5054,
    "start_time": "2022-02-15T12:35:35.000Z"
   },
   {
    "duration": 3899,
    "start_time": "2022-02-15T12:35:41.069Z"
   },
   {
    "duration": 247,
    "start_time": "2022-02-15T13:35:36.115Z"
   },
   {
    "duration": 663,
    "start_time": "2022-02-15T13:35:44.007Z"
   },
   {
    "duration": 21,
    "start_time": "2022-02-15T13:35:44.672Z"
   },
   {
    "duration": 4,
    "start_time": "2022-02-15T13:35:44.694Z"
   },
   {
    "duration": 12,
    "start_time": "2022-02-15T13:35:44.700Z"
   },
   {
    "duration": 26,
    "start_time": "2022-02-15T13:35:44.714Z"
   },
   {
    "duration": 4,
    "start_time": "2022-02-15T13:35:44.742Z"
   },
   {
    "duration": 5,
    "start_time": "2022-02-15T13:35:44.747Z"
   },
   {
    "duration": 12,
    "start_time": "2022-02-15T13:35:44.754Z"
   },
   {
    "duration": 8,
    "start_time": "2022-02-15T13:35:44.767Z"
   },
   {
    "duration": 3,
    "start_time": "2022-02-15T13:35:44.776Z"
   },
   {
    "duration": 34,
    "start_time": "2022-02-15T13:35:44.780Z"
   },
   {
    "duration": 14,
    "start_time": "2022-02-15T13:35:44.816Z"
   },
   {
    "duration": 8,
    "start_time": "2022-02-15T13:35:44.831Z"
   },
   {
    "duration": 4,
    "start_time": "2022-02-15T13:35:44.841Z"
   },
   {
    "duration": 5,
    "start_time": "2022-02-15T13:35:44.847Z"
   },
   {
    "duration": 5,
    "start_time": "2022-02-15T13:35:44.853Z"
   },
   {
    "duration": 7,
    "start_time": "2022-02-15T13:35:44.860Z"
   },
   {
    "duration": 49,
    "start_time": "2022-02-15T13:35:44.869Z"
   },
   {
    "duration": 16,
    "start_time": "2022-02-15T13:35:44.920Z"
   },
   {
    "duration": 19,
    "start_time": "2022-02-15T13:35:44.938Z"
   },
   {
    "duration": 19,
    "start_time": "2022-02-15T13:35:44.959Z"
   },
   {
    "duration": 27,
    "start_time": "2022-02-15T13:35:44.980Z"
   },
   {
    "duration": 53,
    "start_time": "2022-02-15T13:35:45.009Z"
   },
   {
    "duration": 22,
    "start_time": "2022-02-15T13:35:45.063Z"
   },
   {
    "duration": 12,
    "start_time": "2022-02-15T13:35:45.086Z"
   },
   {
    "duration": 316,
    "start_time": "2022-02-15T13:35:45.100Z"
   },
   {
    "duration": 13,
    "start_time": "2022-02-15T13:35:45.417Z"
   },
   {
    "duration": 30,
    "start_time": "2022-02-15T13:35:45.431Z"
   },
   {
    "duration": 7,
    "start_time": "2022-02-15T13:38:26.185Z"
   },
   {
    "duration": 603,
    "start_time": "2022-02-15T13:41:41.159Z"
   },
   {
    "duration": 192,
    "start_time": "2022-02-15T13:42:02.591Z"
   },
   {
    "duration": 217,
    "start_time": "2022-02-15T13:43:24.717Z"
   },
   {
    "duration": 215,
    "start_time": "2022-02-15T13:43:37.230Z"
   },
   {
    "duration": 12,
    "start_time": "2022-02-15T13:51:26.575Z"
   },
   {
    "duration": 37,
    "start_time": "2022-02-15T13:51:29.571Z"
   },
   {
    "duration": 58,
    "start_time": "2022-02-15T13:51:29.610Z"
   },
   {
    "duration": 5,
    "start_time": "2022-02-15T13:51:29.670Z"
   },
   {
    "duration": 5,
    "start_time": "2022-02-15T13:51:29.676Z"
   },
   {
    "duration": 48,
    "start_time": "2022-02-15T13:51:29.682Z"
   },
   {
    "duration": 5,
    "start_time": "2022-02-15T13:51:29.732Z"
   },
   {
    "duration": 8,
    "start_time": "2022-02-15T13:51:29.739Z"
   },
   {
    "duration": 12,
    "start_time": "2022-02-15T13:51:29.749Z"
   },
   {
    "duration": 10,
    "start_time": "2022-02-15T13:51:29.764Z"
   },
   {
    "duration": 4,
    "start_time": "2022-02-15T13:51:29.775Z"
   },
   {
    "duration": 5,
    "start_time": "2022-02-15T13:51:29.812Z"
   },
   {
    "duration": 14,
    "start_time": "2022-02-15T13:51:29.819Z"
   },
   {
    "duration": 8,
    "start_time": "2022-02-15T13:51:29.834Z"
   },
   {
    "duration": 4,
    "start_time": "2022-02-15T13:51:29.843Z"
   },
   {
    "duration": 5,
    "start_time": "2022-02-15T13:51:29.849Z"
   },
   {
    "duration": 4,
    "start_time": "2022-02-15T13:51:29.855Z"
   },
   {
    "duration": 5,
    "start_time": "2022-02-15T13:51:29.860Z"
   },
   {
    "duration": 47,
    "start_time": "2022-02-15T13:51:29.866Z"
   },
   {
    "duration": 5,
    "start_time": "2022-02-15T13:51:29.914Z"
   },
   {
    "duration": 5,
    "start_time": "2022-02-15T13:51:29.921Z"
   },
   {
    "duration": 5,
    "start_time": "2022-02-15T13:51:29.927Z"
   },
   {
    "duration": 6,
    "start_time": "2022-02-15T13:51:29.933Z"
   },
   {
    "duration": 21,
    "start_time": "2022-02-15T13:51:29.942Z"
   },
   {
    "duration": 54,
    "start_time": "2022-02-15T13:51:29.965Z"
   },
   {
    "duration": 13,
    "start_time": "2022-02-15T13:51:30.021Z"
   },
   {
    "duration": 314,
    "start_time": "2022-02-15T13:51:30.035Z"
   },
   {
    "duration": 13,
    "start_time": "2022-02-15T13:51:30.351Z"
   },
   {
    "duration": 12,
    "start_time": "2022-02-15T13:51:30.366Z"
   },
   {
    "duration": 369,
    "start_time": "2022-02-15T13:51:30.379Z"
   },
   {
    "duration": 70,
    "start_time": "2022-02-15T14:04:26.925Z"
   },
   {
    "duration": 11,
    "start_time": "2022-02-15T14:04:33.861Z"
   },
   {
    "duration": 6021,
    "start_time": "2022-02-15T14:04:51.277Z"
   },
   {
    "duration": 11,
    "start_time": "2022-02-15T14:05:21.613Z"
   },
   {
    "duration": 7340,
    "start_time": "2022-02-15T14:06:18.676Z"
   },
   {
    "duration": 11,
    "start_time": "2022-02-15T14:07:03.492Z"
   },
   {
    "duration": 14,
    "start_time": "2022-02-15T14:07:22.003Z"
   },
   {
    "duration": 10,
    "start_time": "2022-02-15T14:07:26.571Z"
   },
   {
    "duration": 14,
    "start_time": "2022-02-15T14:09:00.154Z"
   },
   {
    "duration": 12,
    "start_time": "2022-02-15T14:09:16.522Z"
   },
   {
    "duration": 12,
    "start_time": "2022-02-15T14:09:25.906Z"
   },
   {
    "duration": 10,
    "start_time": "2022-02-15T14:09:42.362Z"
   },
   {
    "duration": 12,
    "start_time": "2022-02-15T14:10:06.130Z"
   },
   {
    "duration": 11,
    "start_time": "2022-02-15T14:10:09.240Z"
   },
   {
    "duration": 219,
    "start_time": "2022-02-15T14:11:58.632Z"
   },
   {
    "duration": 445,
    "start_time": "2022-02-15T14:12:07.575Z"
   },
   {
    "duration": 2,
    "start_time": "2022-02-15T14:13:04.855Z"
   },
   {
    "duration": 24,
    "start_time": "2022-02-15T14:13:10.950Z"
   },
   {
    "duration": 208,
    "start_time": "2022-02-15T14:13:52.935Z"
   },
   {
    "duration": 222,
    "start_time": "2022-02-15T14:13:59.902Z"
   },
   {
    "duration": 32,
    "start_time": "2022-02-15T14:14:06.873Z"
   },
   {
    "duration": 19,
    "start_time": "2022-02-15T14:14:06.907Z"
   },
   {
    "duration": 4,
    "start_time": "2022-02-15T14:14:06.928Z"
   },
   {
    "duration": 5,
    "start_time": "2022-02-15T14:14:06.934Z"
   },
   {
    "duration": 24,
    "start_time": "2022-02-15T14:14:06.940Z"
   },
   {
    "duration": 4,
    "start_time": "2022-02-15T14:14:06.966Z"
   },
   {
    "duration": 40,
    "start_time": "2022-02-15T14:14:06.972Z"
   },
   {
    "duration": 13,
    "start_time": "2022-02-15T14:14:07.014Z"
   },
   {
    "duration": 9,
    "start_time": "2022-02-15T14:14:07.029Z"
   },
   {
    "duration": 4,
    "start_time": "2022-02-15T14:14:07.039Z"
   },
   {
    "duration": 10,
    "start_time": "2022-02-15T14:14:07.045Z"
   },
   {
    "duration": 11,
    "start_time": "2022-02-15T14:14:07.057Z"
   },
   {
    "duration": 8,
    "start_time": "2022-02-15T14:14:07.070Z"
   },
   {
    "duration": 33,
    "start_time": "2022-02-15T14:14:07.079Z"
   },
   {
    "duration": 4,
    "start_time": "2022-02-15T14:14:07.113Z"
   },
   {
    "duration": 5,
    "start_time": "2022-02-15T14:14:07.119Z"
   },
   {
    "duration": 5,
    "start_time": "2022-02-15T14:14:07.125Z"
   },
   {
    "duration": 12,
    "start_time": "2022-02-15T14:14:07.131Z"
   },
   {
    "duration": 4,
    "start_time": "2022-02-15T14:14:07.145Z"
   },
   {
    "duration": 8,
    "start_time": "2022-02-15T14:14:07.150Z"
   },
   {
    "duration": 8,
    "start_time": "2022-02-15T14:14:07.159Z"
   },
   {
    "duration": 7,
    "start_time": "2022-02-15T14:14:07.168Z"
   },
   {
    "duration": 49,
    "start_time": "2022-02-15T14:14:07.178Z"
   },
   {
    "duration": 21,
    "start_time": "2022-02-15T14:14:07.229Z"
   },
   {
    "duration": 12,
    "start_time": "2022-02-15T14:14:07.251Z"
   },
   {
    "duration": 313,
    "start_time": "2022-02-15T14:14:07.265Z"
   },
   {
    "duration": 12,
    "start_time": "2022-02-15T14:14:07.580Z"
   },
   {
    "duration": 24,
    "start_time": "2022-02-15T14:14:07.594Z"
   },
   {
    "duration": 218,
    "start_time": "2022-02-15T14:14:07.619Z"
   },
   {
    "duration": 21,
    "start_time": "2022-02-15T14:14:14.561Z"
   },
   {
    "duration": 18,
    "start_time": "2022-02-15T14:14:21.030Z"
   },
   {
    "duration": 22,
    "start_time": "2022-02-15T14:14:25.430Z"
   },
   {
    "duration": 16,
    "start_time": "2022-02-15T14:15:37.038Z"
   },
   {
    "duration": 14,
    "start_time": "2022-02-15T14:15:55.559Z"
   },
   {
    "duration": 14,
    "start_time": "2022-02-15T14:17:16.803Z"
   },
   {
    "duration": 225,
    "start_time": "2022-02-15T14:17:38.387Z"
   },
   {
    "duration": 228,
    "start_time": "2022-02-15T14:17:43.540Z"
   },
   {
    "duration": 285,
    "start_time": "2022-02-15T14:17:45.859Z"
   },
   {
    "duration": 13,
    "start_time": "2022-02-15T14:17:48.427Z"
   },
   {
    "duration": 10,
    "start_time": "2022-02-15T14:21:13.748Z"
   },
   {
    "duration": 12,
    "start_time": "2022-02-15T14:21:21.938Z"
   },
   {
    "duration": 229,
    "start_time": "2022-02-15T14:33:17.400Z"
   },
   {
    "duration": 430,
    "start_time": "2022-02-15T14:33:23.960Z"
   },
   {
    "duration": 1440,
    "start_time": "2022-02-15T14:33:35.826Z"
   },
   {
    "duration": 1456,
    "start_time": "2022-02-15T14:42:19.865Z"
   },
   {
    "duration": 65,
    "start_time": "2022-02-15T14:42:53.432Z"
   },
   {
    "duration": 1597,
    "start_time": "2022-02-15T14:43:16.681Z"
   },
   {
    "duration": 1591,
    "start_time": "2022-02-15T14:43:28.680Z"
   },
   {
    "duration": 1402,
    "start_time": "2022-02-15T14:43:36.128Z"
   },
   {
    "duration": 1261,
    "start_time": "2022-02-15T14:43:40.072Z"
   },
   {
    "duration": 1388,
    "start_time": "2022-02-15T14:43:44.280Z"
   },
   {
    "duration": 1343,
    "start_time": "2022-02-15T14:43:49.792Z"
   },
   {
    "duration": 1426,
    "start_time": "2022-02-15T14:43:53.400Z"
   },
   {
    "duration": 1304,
    "start_time": "2022-02-15T14:43:57.832Z"
   },
   {
    "duration": 483,
    "start_time": "2022-02-15T14:44:02.080Z"
   },
   {
    "duration": 447,
    "start_time": "2022-02-15T14:53:13.841Z"
   },
   {
    "duration": 1524,
    "start_time": "2022-02-15T14:53:21.425Z"
   },
   {
    "duration": 885,
    "start_time": "2022-02-15T14:53:27.648Z"
   },
   {
    "duration": 851,
    "start_time": "2022-02-15T14:53:45.184Z"
   },
   {
    "duration": 986,
    "start_time": "2022-02-15T14:53:51.544Z"
   },
   {
    "duration": 863,
    "start_time": "2022-02-15T14:53:59.352Z"
   },
   {
    "duration": 825,
    "start_time": "2022-02-15T14:54:12.824Z"
   },
   {
    "duration": 995,
    "start_time": "2022-02-15T14:54:18.984Z"
   },
   {
    "duration": 940,
    "start_time": "2022-02-15T14:54:27.136Z"
   },
   {
    "duration": 958,
    "start_time": "2022-02-15T14:54:31.688Z"
   },
   {
    "duration": 968,
    "start_time": "2022-02-15T14:54:37.416Z"
   },
   {
    "duration": 551,
    "start_time": "2022-02-15T14:54:41.577Z"
   },
   {
    "duration": 532,
    "start_time": "2022-02-15T14:55:10.936Z"
   },
   {
    "duration": 541,
    "start_time": "2022-02-15T14:55:24.231Z"
   },
   {
    "duration": 572,
    "start_time": "2022-02-15T14:57:26.742Z"
   },
   {
    "duration": 596,
    "start_time": "2022-02-15T14:58:53.125Z"
   },
   {
    "duration": 651,
    "start_time": "2022-02-15T14:58:57.398Z"
   },
   {
    "duration": 12,
    "start_time": "2022-02-15T14:59:05.678Z"
   },
   {
    "duration": 543,
    "start_time": "2022-02-15T14:59:08.350Z"
   },
   {
    "duration": 15,
    "start_time": "2022-02-15T15:13:00.555Z"
   },
   {
    "duration": 13,
    "start_time": "2022-02-15T15:13:06.708Z"
   },
   {
    "duration": 23,
    "start_time": "2022-02-15T15:14:31.433Z"
   },
   {
    "duration": 37,
    "start_time": "2022-02-15T15:14:55.073Z"
   },
   {
    "duration": 34,
    "start_time": "2022-02-15T15:15:31.625Z"
   },
   {
    "duration": 652,
    "start_time": "2022-02-15T15:17:26.687Z"
   },
   {
    "duration": 683,
    "start_time": "2022-02-15T15:18:05.159Z"
   },
   {
    "duration": 641,
    "start_time": "2022-02-15T15:18:17.902Z"
   },
   {
    "duration": 249,
    "start_time": "2022-02-15T15:19:28.126Z"
   },
   {
    "duration": 221,
    "start_time": "2022-02-15T15:19:34.493Z"
   },
   {
    "duration": 7,
    "start_time": "2022-02-15T15:19:45.333Z"
   },
   {
    "duration": 2042,
    "start_time": "2022-02-15T15:19:57.413Z"
   },
   {
    "duration": 74,
    "start_time": "2022-02-15T15:20:41.660Z"
   },
   {
    "duration": 666,
    "start_time": "2022-02-15T15:20:45.437Z"
   },
   {
    "duration": 527,
    "start_time": "2022-02-15T15:20:58.127Z"
   },
   {
    "duration": 10,
    "start_time": "2022-02-15T15:21:43.020Z"
   },
   {
    "duration": 543,
    "start_time": "2022-02-15T15:21:44.995Z"
   },
   {
    "duration": 247,
    "start_time": "2022-02-15T15:23:16.018Z"
   },
   {
    "duration": 436,
    "start_time": "2022-02-15T15:23:22.253Z"
   },
   {
    "duration": 287,
    "start_time": "2022-02-15T15:23:48.810Z"
   },
   {
    "duration": 354,
    "start_time": "2022-02-15T15:24:00.922Z"
   },
   {
    "duration": 532,
    "start_time": "2022-02-15T15:24:07.650Z"
   },
   {
    "duration": 338,
    "start_time": "2022-02-15T15:24:17.776Z"
   },
   {
    "duration": 10,
    "start_time": "2022-02-15T15:24:41.516Z"
   },
   {
    "duration": 1550,
    "start_time": "2022-02-15T15:25:00.369Z"
   },
   {
    "duration": 3125,
    "start_time": "2022-02-15T15:25:09.945Z"
   },
   {
    "duration": 1547,
    "start_time": "2022-02-15T15:26:05.312Z"
   },
   {
    "duration": 2962,
    "start_time": "2022-02-15T15:26:51.464Z"
   },
   {
    "duration": 1652,
    "start_time": "2022-02-15T15:27:20.448Z"
   },
   {
    "duration": 1617,
    "start_time": "2022-02-15T15:27:32.303Z"
   },
   {
    "duration": 1474,
    "start_time": "2022-02-15T15:27:38.448Z"
   },
   {
    "duration": 13,
    "start_time": "2022-02-15T15:32:25.077Z"
   },
   {
    "duration": 236,
    "start_time": "2022-02-15T15:33:03.188Z"
   },
   {
    "duration": 16,
    "start_time": "2022-02-15T15:33:08.035Z"
   },
   {
    "duration": 15,
    "start_time": "2022-02-15T15:33:12.971Z"
   },
   {
    "duration": 227,
    "start_time": "2022-02-15T15:33:58.614Z"
   },
   {
    "duration": 10,
    "start_time": "2022-02-15T15:34:05.827Z"
   },
   {
    "duration": 15,
    "start_time": "2022-02-15T15:34:14.131Z"
   },
   {
    "duration": 16,
    "start_time": "2022-02-15T15:34:30.189Z"
   },
   {
    "duration": 17,
    "start_time": "2022-02-15T15:34:34.186Z"
   },
   {
    "duration": 16,
    "start_time": "2022-02-15T15:34:54.138Z"
   },
   {
    "duration": 16,
    "start_time": "2022-02-15T15:34:58.674Z"
   },
   {
    "duration": 236,
    "start_time": "2022-02-15T15:35:13.842Z"
   },
   {
    "duration": 225,
    "start_time": "2022-02-15T15:35:16.921Z"
   },
   {
    "duration": 18,
    "start_time": "2022-02-15T15:35:41.625Z"
   },
   {
    "duration": 17,
    "start_time": "2022-02-15T15:35:45.393Z"
   },
   {
    "duration": 25,
    "start_time": "2022-02-15T15:36:01.209Z"
   },
   {
    "duration": 75,
    "start_time": "2022-02-15T15:36:11.586Z"
   },
   {
    "duration": 256,
    "start_time": "2022-02-15T15:36:13.537Z"
   },
   {
    "duration": 16,
    "start_time": "2022-02-15T15:36:22.985Z"
   },
   {
    "duration": 15,
    "start_time": "2022-02-15T15:36:32.489Z"
   },
   {
    "duration": 17,
    "start_time": "2022-02-15T15:37:03.021Z"
   },
   {
    "duration": 19,
    "start_time": "2022-02-15T15:37:22.008Z"
   },
   {
    "duration": 24,
    "start_time": "2022-02-15T15:37:28.272Z"
   },
   {
    "duration": 164,
    "start_time": "2022-02-16T05:53:46.992Z"
   },
   {
    "duration": 614,
    "start_time": "2022-02-16T05:53:49.861Z"
   },
   {
    "duration": 21,
    "start_time": "2022-02-16T05:53:50.476Z"
   },
   {
    "duration": 4,
    "start_time": "2022-02-16T05:53:50.498Z"
   },
   {
    "duration": 7,
    "start_time": "2022-02-16T05:53:50.503Z"
   },
   {
    "duration": 31,
    "start_time": "2022-02-16T05:53:50.511Z"
   },
   {
    "duration": 5,
    "start_time": "2022-02-16T05:53:50.543Z"
   },
   {
    "duration": 9,
    "start_time": "2022-02-16T05:53:50.549Z"
   },
   {
    "duration": 14,
    "start_time": "2022-02-16T05:53:50.560Z"
   },
   {
    "duration": 13,
    "start_time": "2022-02-16T05:53:50.576Z"
   },
   {
    "duration": 3,
    "start_time": "2022-02-16T05:53:50.591Z"
   },
   {
    "duration": 7,
    "start_time": "2022-02-16T05:53:50.596Z"
   },
   {
    "duration": 34,
    "start_time": "2022-02-16T05:53:50.604Z"
   },
   {
    "duration": 7,
    "start_time": "2022-02-16T05:53:50.640Z"
   },
   {
    "duration": 3,
    "start_time": "2022-02-16T05:53:50.649Z"
   },
   {
    "duration": 5,
    "start_time": "2022-02-16T05:53:50.653Z"
   },
   {
    "duration": 9,
    "start_time": "2022-02-16T05:53:50.660Z"
   },
   {
    "duration": 7,
    "start_time": "2022-02-16T05:53:50.670Z"
   },
   {
    "duration": 12,
    "start_time": "2022-02-16T05:53:50.678Z"
   },
   {
    "duration": 4,
    "start_time": "2022-02-16T05:53:50.692Z"
   },
   {
    "duration": 34,
    "start_time": "2022-02-16T05:53:50.697Z"
   },
   {
    "duration": 4,
    "start_time": "2022-02-16T05:53:50.732Z"
   },
   {
    "duration": 6,
    "start_time": "2022-02-16T05:53:50.738Z"
   },
   {
    "duration": 24,
    "start_time": "2022-02-16T05:53:50.747Z"
   },
   {
    "duration": 19,
    "start_time": "2022-02-16T05:53:50.773Z"
   },
   {
    "duration": 37,
    "start_time": "2022-02-16T05:53:50.793Z"
   },
   {
    "duration": 300,
    "start_time": "2022-02-16T05:53:50.832Z"
   },
   {
    "duration": 13,
    "start_time": "2022-02-16T05:53:51.133Z"
   },
   {
    "duration": 13,
    "start_time": "2022-02-16T05:53:51.148Z"
   },
   {
    "duration": 1338,
    "start_time": "2022-02-16T05:53:51.163Z"
   },
   {
    "duration": 27,
    "start_time": "2022-02-16T05:53:52.503Z"
   },
   {
    "duration": 211,
    "start_time": "2022-02-16T05:53:52.532Z"
   },
   {
    "duration": 142,
    "start_time": "2022-02-16T05:54:04.818Z"
   },
   {
    "duration": 160,
    "start_time": "2022-02-16T05:54:55.457Z"
   },
   {
    "duration": 136,
    "start_time": "2022-02-16T05:54:59.505Z"
   },
   {
    "duration": 165,
    "start_time": "2022-02-16T05:55:29.753Z"
   },
   {
    "duration": 144,
    "start_time": "2022-02-16T05:56:38.128Z"
   },
   {
    "duration": 130,
    "start_time": "2022-02-16T05:58:42.727Z"
   },
   {
    "duration": 132,
    "start_time": "2022-02-16T05:59:02.798Z"
   },
   {
    "duration": 242,
    "start_time": "2022-02-16T05:59:19.926Z"
   },
   {
    "duration": 154,
    "start_time": "2022-02-16T05:59:47.686Z"
   },
   {
    "duration": 3783,
    "start_time": "2022-02-16T06:00:11.637Z"
   },
   {
    "duration": 147,
    "start_time": "2022-02-16T06:00:34.749Z"
   },
   {
    "duration": 18,
    "start_time": "2022-02-16T06:05:21.466Z"
   },
   {
    "duration": 19,
    "start_time": "2022-02-16T06:06:06.258Z"
   },
   {
    "duration": 17,
    "start_time": "2022-02-16T06:06:26.073Z"
   },
   {
    "duration": 23,
    "start_time": "2022-02-16T06:06:34.312Z"
   },
   {
    "duration": 17,
    "start_time": "2022-02-16T06:07:33.192Z"
   },
   {
    "duration": 211,
    "start_time": "2022-02-16T06:27:37.383Z"
   },
   {
    "duration": 10,
    "start_time": "2022-02-16T06:36:42.303Z"
   },
   {
    "duration": 12,
    "start_time": "2022-02-16T06:41:10.157Z"
   },
   {
    "duration": 141,
    "start_time": "2022-02-16T06:41:21.604Z"
   },
   {
    "duration": 140,
    "start_time": "2022-02-16T06:41:27.468Z"
   },
   {
    "duration": 4,
    "start_time": "2022-02-16T06:41:40.404Z"
   },
   {
    "duration": 21,
    "start_time": "2022-02-16T06:41:45.116Z"
   },
   {
    "duration": 6,
    "start_time": "2022-02-16T09:27:16.902Z"
   },
   {
    "duration": 10,
    "start_time": "2022-02-16T09:27:21.407Z"
   },
   {
    "duration": 10,
    "start_time": "2022-02-16T09:27:51.015Z"
   },
   {
    "duration": 21,
    "start_time": "2022-02-16T09:30:05.661Z"
   },
   {
    "duration": 31,
    "start_time": "2022-02-16T09:30:19.678Z"
   },
   {
    "duration": 24,
    "start_time": "2022-02-16T09:30:46.268Z"
   },
   {
    "duration": 352,
    "start_time": "2022-02-16T09:36:18.991Z"
   },
   {
    "duration": 25,
    "start_time": "2022-02-16T09:36:29.551Z"
   },
   {
    "duration": 22,
    "start_time": "2022-02-16T09:36:32.848Z"
   },
   {
    "duration": 32,
    "start_time": "2022-02-16T09:36:37.356Z"
   },
   {
    "duration": 19,
    "start_time": "2022-02-16T09:36:37.390Z"
   },
   {
    "duration": 6,
    "start_time": "2022-02-16T09:36:37.412Z"
   },
   {
    "duration": 4,
    "start_time": "2022-02-16T09:36:37.430Z"
   },
   {
    "duration": 31,
    "start_time": "2022-02-16T09:36:37.436Z"
   },
   {
    "duration": 6,
    "start_time": "2022-02-16T09:36:37.469Z"
   },
   {
    "duration": 7,
    "start_time": "2022-02-16T09:36:37.478Z"
   },
   {
    "duration": 14,
    "start_time": "2022-02-16T09:36:37.488Z"
   },
   {
    "duration": 36,
    "start_time": "2022-02-16T09:36:37.504Z"
   },
   {
    "duration": 6,
    "start_time": "2022-02-16T09:36:37.542Z"
   },
   {
    "duration": 7,
    "start_time": "2022-02-16T09:36:37.550Z"
   },
   {
    "duration": 15,
    "start_time": "2022-02-16T09:36:37.559Z"
   },
   {
    "duration": 11,
    "start_time": "2022-02-16T09:36:37.576Z"
   },
   {
    "duration": 4,
    "start_time": "2022-02-16T09:36:37.590Z"
   },
   {
    "duration": 4,
    "start_time": "2022-02-16T09:36:37.631Z"
   },
   {
    "duration": 11,
    "start_time": "2022-02-16T09:36:37.637Z"
   },
   {
    "duration": 9,
    "start_time": "2022-02-16T09:36:37.650Z"
   },
   {
    "duration": 18,
    "start_time": "2022-02-16T09:36:37.661Z"
   },
   {
    "duration": 5,
    "start_time": "2022-02-16T09:36:37.681Z"
   },
   {
    "duration": 23,
    "start_time": "2022-02-16T09:36:37.688Z"
   },
   {
    "duration": 19,
    "start_time": "2022-02-16T09:36:37.713Z"
   },
   {
    "duration": 10,
    "start_time": "2022-02-16T09:36:37.734Z"
   },
   {
    "duration": 32,
    "start_time": "2022-02-16T09:36:37.747Z"
   },
   {
    "duration": 21,
    "start_time": "2022-02-16T09:36:37.781Z"
   },
   {
    "duration": 33,
    "start_time": "2022-02-16T09:36:37.803Z"
   },
   {
    "duration": 305,
    "start_time": "2022-02-16T09:36:37.837Z"
   },
   {
    "duration": 13,
    "start_time": "2022-02-16T09:36:38.144Z"
   },
   {
    "duration": 17,
    "start_time": "2022-02-16T09:36:38.159Z"
   },
   {
    "duration": 1395,
    "start_time": "2022-02-16T09:36:38.178Z"
   },
   {
    "duration": 16,
    "start_time": "2022-02-16T09:36:39.575Z"
   },
   {
    "duration": 172,
    "start_time": "2022-02-16T09:36:39.593Z"
   },
   {
    "duration": 20,
    "start_time": "2022-02-16T09:36:39.766Z"
   },
   {
    "duration": 23,
    "start_time": "2022-02-16T09:36:39.787Z"
   },
   {
    "duration": 24,
    "start_time": "2022-02-16T09:36:46.871Z"
   },
   {
    "duration": 30,
    "start_time": "2022-02-16T09:36:51.210Z"
   },
   {
    "duration": 19,
    "start_time": "2022-02-16T09:36:51.242Z"
   },
   {
    "duration": 5,
    "start_time": "2022-02-16T09:36:51.264Z"
   },
   {
    "duration": 7,
    "start_time": "2022-02-16T09:36:51.271Z"
   },
   {
    "duration": 51,
    "start_time": "2022-02-16T09:36:51.280Z"
   },
   {
    "duration": 5,
    "start_time": "2022-02-16T09:36:51.333Z"
   },
   {
    "duration": 7,
    "start_time": "2022-02-16T09:36:51.340Z"
   },
   {
    "duration": 15,
    "start_time": "2022-02-16T09:36:51.349Z"
   },
   {
    "duration": 9,
    "start_time": "2022-02-16T09:36:51.367Z"
   },
   {
    "duration": 10,
    "start_time": "2022-02-16T09:36:51.378Z"
   },
   {
    "duration": 12,
    "start_time": "2022-02-16T09:36:51.389Z"
   },
   {
    "duration": 40,
    "start_time": "2022-02-16T09:36:51.402Z"
   },
   {
    "duration": 15,
    "start_time": "2022-02-16T09:36:51.444Z"
   },
   {
    "duration": 4,
    "start_time": "2022-02-16T09:36:51.461Z"
   },
   {
    "duration": 7,
    "start_time": "2022-02-16T09:36:51.467Z"
   },
   {
    "duration": 10,
    "start_time": "2022-02-16T09:36:51.475Z"
   },
   {
    "duration": 14,
    "start_time": "2022-02-16T09:36:51.487Z"
   },
   {
    "duration": 16,
    "start_time": "2022-02-16T09:36:51.503Z"
   },
   {
    "duration": 13,
    "start_time": "2022-02-16T09:36:51.520Z"
   },
   {
    "duration": 8,
    "start_time": "2022-02-16T09:36:51.535Z"
   },
   {
    "duration": 8,
    "start_time": "2022-02-16T09:36:51.545Z"
   },
   {
    "duration": 14,
    "start_time": "2022-02-16T09:36:51.555Z"
   },
   {
    "duration": 43,
    "start_time": "2022-02-16T09:36:51.572Z"
   },
   {
    "duration": 20,
    "start_time": "2022-02-16T09:36:51.617Z"
   },
   {
    "duration": 11,
    "start_time": "2022-02-16T09:36:51.639Z"
   },
   {
    "duration": 309,
    "start_time": "2022-02-16T09:36:51.652Z"
   },
   {
    "duration": 12,
    "start_time": "2022-02-16T09:36:51.963Z"
   },
   {
    "duration": 15,
    "start_time": "2022-02-16T09:36:51.976Z"
   },
   {
    "duration": 1439,
    "start_time": "2022-02-16T09:36:51.992Z"
   },
   {
    "duration": 17,
    "start_time": "2022-02-16T09:36:53.433Z"
   },
   {
    "duration": 173,
    "start_time": "2022-02-16T09:36:53.451Z"
   },
   {
    "duration": 22,
    "start_time": "2022-02-16T09:36:53.625Z"
   },
   {
    "duration": 24,
    "start_time": "2022-02-16T09:36:53.648Z"
   },
   {
    "duration": 41,
    "start_time": "2022-02-16T09:46:15.902Z"
   },
   {
    "duration": 30,
    "start_time": "2022-02-16T09:47:14.190Z"
   },
   {
    "duration": 553,
    "start_time": "2022-02-16T09:47:16.615Z"
   },
   {
    "duration": 231,
    "start_time": "2022-02-16T09:48:14.480Z"
   },
   {
    "duration": 139,
    "start_time": "2022-02-16T09:48:29.165Z"
   },
   {
    "duration": 30,
    "start_time": "2022-02-16T09:48:35.923Z"
   },
   {
    "duration": 19,
    "start_time": "2022-02-16T09:48:35.955Z"
   },
   {
    "duration": 4,
    "start_time": "2022-02-16T09:48:35.976Z"
   },
   {
    "duration": 10,
    "start_time": "2022-02-16T09:48:35.982Z"
   },
   {
    "duration": 57,
    "start_time": "2022-02-16T09:48:35.994Z"
   },
   {
    "duration": 6,
    "start_time": "2022-02-16T09:48:36.053Z"
   },
   {
    "duration": 21,
    "start_time": "2022-02-16T09:48:36.061Z"
   },
   {
    "duration": 16,
    "start_time": "2022-02-16T09:48:36.084Z"
   },
   {
    "duration": 12,
    "start_time": "2022-02-16T09:48:36.102Z"
   },
   {
    "duration": 18,
    "start_time": "2022-02-16T09:48:36.116Z"
   },
   {
    "duration": 7,
    "start_time": "2022-02-16T09:48:36.136Z"
   },
   {
    "duration": 17,
    "start_time": "2022-02-16T09:48:36.145Z"
   },
   {
    "duration": 12,
    "start_time": "2022-02-16T09:48:36.164Z"
   },
   {
    "duration": 10,
    "start_time": "2022-02-16T09:48:36.178Z"
   },
   {
    "duration": 8,
    "start_time": "2022-02-16T09:48:36.190Z"
   },
   {
    "duration": 31,
    "start_time": "2022-02-16T09:48:36.200Z"
   },
   {
    "duration": 5,
    "start_time": "2022-02-16T09:48:36.233Z"
   },
   {
    "duration": 16,
    "start_time": "2022-02-16T09:48:36.240Z"
   },
   {
    "duration": 6,
    "start_time": "2022-02-16T09:48:36.258Z"
   },
   {
    "duration": 10,
    "start_time": "2022-02-16T09:48:36.265Z"
   },
   {
    "duration": 22,
    "start_time": "2022-02-16T09:48:36.276Z"
   },
   {
    "duration": 8,
    "start_time": "2022-02-16T09:48:36.300Z"
   },
   {
    "duration": 36,
    "start_time": "2022-02-16T09:48:36.311Z"
   },
   {
    "duration": 24,
    "start_time": "2022-02-16T09:48:36.349Z"
   },
   {
    "duration": 12,
    "start_time": "2022-02-16T09:48:36.375Z"
   },
   {
    "duration": 306,
    "start_time": "2022-02-16T09:48:36.389Z"
   },
   {
    "duration": 14,
    "start_time": "2022-02-16T09:48:36.696Z"
   },
   {
    "duration": 25,
    "start_time": "2022-02-16T09:48:36.712Z"
   },
   {
    "duration": 1547,
    "start_time": "2022-02-16T09:48:36.739Z"
   },
   {
    "duration": 16,
    "start_time": "2022-02-16T09:48:38.288Z"
   },
   {
    "duration": 173,
    "start_time": "2022-02-16T09:48:38.306Z"
   },
   {
    "duration": 22,
    "start_time": "2022-02-16T09:48:38.480Z"
   },
   {
    "duration": 33,
    "start_time": "2022-02-16T09:48:38.503Z"
   },
   {
    "duration": 397,
    "start_time": "2022-02-16T09:48:50.645Z"
   },
   {
    "duration": 1057,
    "start_time": "2022-02-16T09:50:00.812Z"
   },
   {
    "duration": 1597,
    "start_time": "2022-02-16T09:51:08.827Z"
   },
   {
    "duration": 837,
    "start_time": "2022-02-16T09:51:49.884Z"
   },
   {
    "duration": 464,
    "start_time": "2022-02-16T09:52:29.307Z"
   },
   {
    "duration": 21,
    "start_time": "2022-02-16T09:52:59.050Z"
   },
   {
    "duration": 448,
    "start_time": "2022-02-16T09:53:01.251Z"
   },
   {
    "duration": 390,
    "start_time": "2022-02-16T09:54:28.458Z"
   },
   {
    "duration": 423,
    "start_time": "2022-02-16T09:54:41.192Z"
   },
   {
    "duration": 453,
    "start_time": "2022-02-16T09:55:03.536Z"
   },
   {
    "duration": 470,
    "start_time": "2022-02-16T09:55:39.432Z"
   },
   {
    "duration": 449,
    "start_time": "2022-02-16T09:58:30.271Z"
   },
   {
    "duration": 488,
    "start_time": "2022-02-16T09:58:34.582Z"
   },
   {
    "duration": 13,
    "start_time": "2022-02-16T09:58:53.246Z"
   },
   {
    "duration": 579,
    "start_time": "2022-02-16T09:59:16.317Z"
   },
   {
    "duration": 442,
    "start_time": "2022-02-16T09:59:34.565Z"
   },
   {
    "duration": 456,
    "start_time": "2022-02-16T10:00:15.077Z"
   },
   {
    "duration": 467,
    "start_time": "2022-02-16T10:00:24.548Z"
   },
   {
    "duration": 461,
    "start_time": "2022-02-16T10:00:27.620Z"
   },
   {
    "duration": 435,
    "start_time": "2022-02-16T10:00:49.364Z"
   },
   {
    "duration": 485,
    "start_time": "2022-02-16T10:01:13.204Z"
   },
   {
    "duration": 455,
    "start_time": "2022-02-16T10:01:24.243Z"
   },
   {
    "duration": 448,
    "start_time": "2022-02-16T10:01:39.251Z"
   },
   {
    "duration": 480,
    "start_time": "2022-02-16T10:18:27.695Z"
   },
   {
    "duration": 157,
    "start_time": "2022-02-16T10:18:31.646Z"
   },
   {
    "duration": 43,
    "start_time": "2022-02-16T10:18:43.391Z"
   },
   {
    "duration": 48,
    "start_time": "2022-02-16T10:18:50.094Z"
   },
   {
    "duration": 654,
    "start_time": "2022-02-16T10:18:55.765Z"
   },
   {
    "duration": 679,
    "start_time": "2022-02-16T10:19:03.006Z"
   },
   {
    "duration": 270,
    "start_time": "2022-02-16T10:57:23.689Z"
   },
   {
    "duration": 10,
    "start_time": "2022-02-16T11:20:00.664Z"
   },
   {
    "duration": 10,
    "start_time": "2022-02-16T11:20:14.199Z"
   },
   {
    "duration": 5,
    "start_time": "2022-02-16T11:20:21.983Z"
   },
   {
    "duration": 148,
    "start_time": "2022-02-16T11:20:35.081Z"
   },
   {
    "duration": 158,
    "start_time": "2022-02-16T11:20:42.143Z"
   },
   {
    "duration": 140,
    "start_time": "2022-02-16T11:20:53.511Z"
   },
   {
    "duration": 138,
    "start_time": "2022-02-16T11:20:58.543Z"
   },
   {
    "duration": 31,
    "start_time": "2022-02-16T11:21:00.555Z"
   },
   {
    "duration": 18,
    "start_time": "2022-02-16T11:21:00.588Z"
   },
   {
    "duration": 22,
    "start_time": "2022-02-16T11:21:00.608Z"
   },
   {
    "duration": 9,
    "start_time": "2022-02-16T11:21:00.632Z"
   },
   {
    "duration": 35,
    "start_time": "2022-02-16T11:21:00.642Z"
   },
   {
    "duration": 22,
    "start_time": "2022-02-16T11:21:00.679Z"
   },
   {
    "duration": 34,
    "start_time": "2022-02-16T11:21:00.703Z"
   },
   {
    "duration": 42,
    "start_time": "2022-02-16T11:21:00.739Z"
   },
   {
    "duration": 13,
    "start_time": "2022-02-16T11:21:00.783Z"
   },
   {
    "duration": 11,
    "start_time": "2022-02-16T11:21:00.797Z"
   },
   {
    "duration": 19,
    "start_time": "2022-02-16T11:21:00.810Z"
   },
   {
    "duration": 23,
    "start_time": "2022-02-16T11:21:00.831Z"
   },
   {
    "duration": 21,
    "start_time": "2022-02-16T11:21:00.856Z"
   },
   {
    "duration": 16,
    "start_time": "2022-02-16T11:21:00.879Z"
   },
   {
    "duration": 21,
    "start_time": "2022-02-16T11:21:00.896Z"
   },
   {
    "duration": 12,
    "start_time": "2022-02-16T11:21:00.918Z"
   },
   {
    "duration": 13,
    "start_time": "2022-02-16T11:21:00.932Z"
   },
   {
    "duration": 34,
    "start_time": "2022-02-16T11:21:00.946Z"
   },
   {
    "duration": 21,
    "start_time": "2022-02-16T11:21:00.982Z"
   },
   {
    "duration": 24,
    "start_time": "2022-02-16T11:21:01.005Z"
   },
   {
    "duration": 14,
    "start_time": "2022-02-16T11:21:01.031Z"
   },
   {
    "duration": 19,
    "start_time": "2022-02-16T11:21:01.047Z"
   },
   {
    "duration": 33,
    "start_time": "2022-02-16T11:21:01.070Z"
   },
   {
    "duration": 21,
    "start_time": "2022-02-16T11:21:01.105Z"
   },
   {
    "duration": 14,
    "start_time": "2022-02-16T11:21:01.128Z"
   },
   {
    "duration": 381,
    "start_time": "2022-02-16T11:21:01.144Z"
   },
   {
    "duration": 13,
    "start_time": "2022-02-16T11:21:01.530Z"
   },
   {
    "duration": 24,
    "start_time": "2022-02-16T11:21:01.545Z"
   },
   {
    "duration": 1547,
    "start_time": "2022-02-16T11:21:01.571Z"
   },
   {
    "duration": 24,
    "start_time": "2022-02-16T11:21:03.120Z"
   },
   {
    "duration": 266,
    "start_time": "2022-02-16T11:21:03.145Z"
   },
   {
    "duration": 33,
    "start_time": "2022-02-16T11:21:03.413Z"
   },
   {
    "duration": 648,
    "start_time": "2022-02-16T11:21:03.448Z"
   },
   {
    "duration": 11,
    "start_time": "2022-02-16T11:21:04.098Z"
   },
   {
    "duration": 53,
    "start_time": "2022-02-16T11:21:04.111Z"
   },
   {
    "duration": -202,
    "start_time": "2022-02-16T11:21:04.367Z"
   },
   {
    "duration": 34,
    "start_time": "2022-02-16T11:21:17.066Z"
   },
   {
    "duration": 21,
    "start_time": "2022-02-16T11:21:17.102Z"
   },
   {
    "duration": 5,
    "start_time": "2022-02-16T11:21:17.125Z"
   },
   {
    "duration": 6,
    "start_time": "2022-02-16T11:21:17.132Z"
   },
   {
    "duration": 23,
    "start_time": "2022-02-16T11:21:17.139Z"
   },
   {
    "duration": 4,
    "start_time": "2022-02-16T11:21:17.164Z"
   },
   {
    "duration": 8,
    "start_time": "2022-02-16T11:21:17.170Z"
   },
   {
    "duration": 14,
    "start_time": "2022-02-16T11:21:17.180Z"
   },
   {
    "duration": 43,
    "start_time": "2022-02-16T11:21:17.196Z"
   },
   {
    "duration": 8,
    "start_time": "2022-02-16T11:21:17.241Z"
   },
   {
    "duration": 5,
    "start_time": "2022-02-16T11:21:17.251Z"
   },
   {
    "duration": 15,
    "start_time": "2022-02-16T11:21:17.258Z"
   },
   {
    "duration": 9,
    "start_time": "2022-02-16T11:21:17.274Z"
   },
   {
    "duration": 4,
    "start_time": "2022-02-16T11:21:17.284Z"
   },
   {
    "duration": 40,
    "start_time": "2022-02-16T11:21:17.290Z"
   },
   {
    "duration": 4,
    "start_time": "2022-02-16T11:21:17.332Z"
   },
   {
    "duration": 8,
    "start_time": "2022-02-16T11:21:17.338Z"
   },
   {
    "duration": 14,
    "start_time": "2022-02-16T11:21:17.348Z"
   },
   {
    "duration": 4,
    "start_time": "2022-02-16T11:21:17.364Z"
   },
   {
    "duration": 8,
    "start_time": "2022-02-16T11:21:17.370Z"
   },
   {
    "duration": 7,
    "start_time": "2022-02-16T11:21:17.379Z"
   },
   {
    "duration": 8,
    "start_time": "2022-02-16T11:21:17.388Z"
   },
   {
    "duration": 45,
    "start_time": "2022-02-16T11:21:17.398Z"
   },
   {
    "duration": 20,
    "start_time": "2022-02-16T11:21:17.444Z"
   },
   {
    "duration": 14,
    "start_time": "2022-02-16T11:21:17.466Z"
   },
   {
    "duration": 384,
    "start_time": "2022-02-16T11:21:17.482Z"
   },
   {
    "duration": 13,
    "start_time": "2022-02-16T11:21:17.868Z"
   },
   {
    "duration": 12,
    "start_time": "2022-02-16T11:21:17.882Z"
   },
   {
    "duration": 1616,
    "start_time": "2022-02-16T11:21:17.895Z"
   },
   {
    "duration": 21,
    "start_time": "2022-02-16T11:21:19.512Z"
   },
   {
    "duration": 268,
    "start_time": "2022-02-16T11:21:19.535Z"
   },
   {
    "duration": 28,
    "start_time": "2022-02-16T11:21:19.805Z"
   },
   {
    "duration": 687,
    "start_time": "2022-02-16T11:21:19.835Z"
   },
   {
    "duration": 3,
    "start_time": "2022-02-16T11:21:20.524Z"
   },
   {
    "duration": 46,
    "start_time": "2022-02-16T11:21:20.530Z"
   },
   {
    "duration": -202,
    "start_time": "2022-02-16T11:21:20.779Z"
   },
   {
    "duration": 32,
    "start_time": "2022-02-16T11:21:27.522Z"
   },
   {
    "duration": 20,
    "start_time": "2022-02-16T11:21:27.556Z"
   },
   {
    "duration": 4,
    "start_time": "2022-02-16T11:21:27.578Z"
   },
   {
    "duration": 14,
    "start_time": "2022-02-16T11:21:27.583Z"
   },
   {
    "duration": 54,
    "start_time": "2022-02-16T11:21:27.598Z"
   },
   {
    "duration": 5,
    "start_time": "2022-02-16T11:21:27.653Z"
   },
   {
    "duration": 12,
    "start_time": "2022-02-16T11:21:27.659Z"
   },
   {
    "duration": 18,
    "start_time": "2022-02-16T11:21:27.673Z"
   },
   {
    "duration": 11,
    "start_time": "2022-02-16T11:21:27.693Z"
   },
   {
    "duration": 26,
    "start_time": "2022-02-16T11:21:27.705Z"
   },
   {
    "duration": 5,
    "start_time": "2022-02-16T11:21:27.732Z"
   },
   {
    "duration": 17,
    "start_time": "2022-02-16T11:21:27.739Z"
   },
   {
    "duration": 12,
    "start_time": "2022-02-16T11:21:27.757Z"
   },
   {
    "duration": 4,
    "start_time": "2022-02-16T11:21:27.770Z"
   },
   {
    "duration": 6,
    "start_time": "2022-02-16T11:21:27.776Z"
   },
   {
    "duration": 7,
    "start_time": "2022-02-16T11:21:27.784Z"
   },
   {
    "duration": 38,
    "start_time": "2022-02-16T11:21:27.793Z"
   },
   {
    "duration": 11,
    "start_time": "2022-02-16T11:21:27.833Z"
   },
   {
    "duration": 5,
    "start_time": "2022-02-16T11:21:27.846Z"
   },
   {
    "duration": 10,
    "start_time": "2022-02-16T11:21:27.852Z"
   },
   {
    "duration": 8,
    "start_time": "2022-02-16T11:21:27.863Z"
   },
   {
    "duration": 8,
    "start_time": "2022-02-16T11:21:27.873Z"
   },
   {
    "duration": 46,
    "start_time": "2022-02-16T11:21:27.884Z"
   },
   {
    "duration": 23,
    "start_time": "2022-02-16T11:21:27.932Z"
   },
   {
    "duration": 19,
    "start_time": "2022-02-16T11:21:27.956Z"
   },
   {
    "duration": 386,
    "start_time": "2022-02-16T11:21:27.977Z"
   },
   {
    "duration": 14,
    "start_time": "2022-02-16T11:21:28.365Z"
   },
   {
    "duration": 13,
    "start_time": "2022-02-16T11:21:28.380Z"
   },
   {
    "duration": 1700,
    "start_time": "2022-02-16T11:21:28.395Z"
   },
   {
    "duration": 18,
    "start_time": "2022-02-16T11:21:30.097Z"
   },
   {
    "duration": 271,
    "start_time": "2022-02-16T11:21:30.117Z"
   },
   {
    "duration": 23,
    "start_time": "2022-02-16T11:21:30.390Z"
   },
   {
    "duration": 694,
    "start_time": "2022-02-16T11:21:30.429Z"
   },
   {
    "duration": 11,
    "start_time": "2022-02-16T11:21:31.130Z"
   },
   {
    "duration": 55,
    "start_time": "2022-02-16T11:21:31.143Z"
   },
   {
    "duration": -164,
    "start_time": "2022-02-16T11:21:31.364Z"
   },
   {
    "duration": 41,
    "start_time": "2022-02-16T11:22:07.554Z"
   },
   {
    "duration": 21,
    "start_time": "2022-02-16T11:22:07.597Z"
   },
   {
    "duration": 11,
    "start_time": "2022-02-16T11:22:07.621Z"
   },
   {
    "duration": 8,
    "start_time": "2022-02-16T11:22:07.634Z"
   },
   {
    "duration": 37,
    "start_time": "2022-02-16T11:22:07.644Z"
   },
   {
    "duration": 6,
    "start_time": "2022-02-16T11:22:07.683Z"
   },
   {
    "duration": 13,
    "start_time": "2022-02-16T11:22:07.690Z"
   },
   {
    "duration": 36,
    "start_time": "2022-02-16T11:22:07.706Z"
   },
   {
    "duration": 13,
    "start_time": "2022-02-16T11:22:07.744Z"
   },
   {
    "duration": 5,
    "start_time": "2022-02-16T11:22:07.759Z"
   },
   {
    "duration": 5,
    "start_time": "2022-02-16T11:22:07.766Z"
   },
   {
    "duration": 16,
    "start_time": "2022-02-16T11:22:07.772Z"
   },
   {
    "duration": 9,
    "start_time": "2022-02-16T11:22:07.789Z"
   },
   {
    "duration": 12,
    "start_time": "2022-02-16T11:22:07.831Z"
   },
   {
    "duration": 10,
    "start_time": "2022-02-16T11:22:07.845Z"
   },
   {
    "duration": 14,
    "start_time": "2022-02-16T11:22:07.856Z"
   },
   {
    "duration": 11,
    "start_time": "2022-02-16T11:22:07.872Z"
   },
   {
    "duration": 12,
    "start_time": "2022-02-16T11:22:07.884Z"
   },
   {
    "duration": 6,
    "start_time": "2022-02-16T11:22:07.898Z"
   },
   {
    "duration": 11,
    "start_time": "2022-02-16T11:22:07.906Z"
   },
   {
    "duration": 12,
    "start_time": "2022-02-16T11:22:07.919Z"
   },
   {
    "duration": 5,
    "start_time": "2022-02-16T11:22:07.932Z"
   },
   {
    "duration": 22,
    "start_time": "2022-02-16T11:22:07.940Z"
   },
   {
    "duration": 21,
    "start_time": "2022-02-16T11:22:07.964Z"
   },
   {
    "duration": 13,
    "start_time": "2022-02-16T11:22:07.986Z"
   },
   {
    "duration": 405,
    "start_time": "2022-02-16T11:22:08.031Z"
   },
   {
    "duration": 20,
    "start_time": "2022-02-16T11:22:08.438Z"
   },
   {
    "duration": 22,
    "start_time": "2022-02-16T11:22:08.460Z"
   },
   {
    "duration": 1689,
    "start_time": "2022-02-16T11:22:08.484Z"
   },
   {
    "duration": 17,
    "start_time": "2022-02-16T11:22:10.175Z"
   },
   {
    "duration": 276,
    "start_time": "2022-02-16T11:22:10.194Z"
   },
   {
    "duration": 20,
    "start_time": "2022-02-16T11:22:10.472Z"
   },
   {
    "duration": 725,
    "start_time": "2022-02-16T11:22:10.494Z"
   },
   {
    "duration": 12,
    "start_time": "2022-02-16T11:22:11.221Z"
   },
   {
    "duration": 52,
    "start_time": "2022-02-16T11:22:11.234Z"
   },
   {
    "duration": -162,
    "start_time": "2022-02-16T11:22:11.450Z"
   },
   {
    "duration": 142,
    "start_time": "2022-02-16T11:22:28.006Z"
   },
   {
    "duration": 30,
    "start_time": "2022-02-16T11:22:30.074Z"
   },
   {
    "duration": 18,
    "start_time": "2022-02-16T11:22:30.106Z"
   },
   {
    "duration": 8,
    "start_time": "2022-02-16T11:22:30.126Z"
   },
   {
    "duration": 16,
    "start_time": "2022-02-16T11:22:30.136Z"
   },
   {
    "duration": 37,
    "start_time": "2022-02-16T11:22:30.154Z"
   },
   {
    "duration": 5,
    "start_time": "2022-02-16T11:22:30.193Z"
   },
   {
    "duration": 22,
    "start_time": "2022-02-16T11:22:30.200Z"
   },
   {
    "duration": 20,
    "start_time": "2022-02-16T11:22:30.225Z"
   },
   {
    "duration": 10,
    "start_time": "2022-02-16T11:22:30.247Z"
   },
   {
    "duration": 19,
    "start_time": "2022-02-16T11:22:30.259Z"
   },
   {
    "duration": 14,
    "start_time": "2022-02-16T11:22:30.280Z"
   },
   {
    "duration": 41,
    "start_time": "2022-02-16T11:22:30.296Z"
   },
   {
    "duration": 9,
    "start_time": "2022-02-16T11:22:30.339Z"
   },
   {
    "duration": 11,
    "start_time": "2022-02-16T11:22:30.350Z"
   },
   {
    "duration": 12,
    "start_time": "2022-02-16T11:22:30.363Z"
   },
   {
    "duration": 9,
    "start_time": "2022-02-16T11:22:30.376Z"
   },
   {
    "duration": 6,
    "start_time": "2022-02-16T11:22:30.386Z"
   },
   {
    "duration": 20,
    "start_time": "2022-02-16T11:22:30.393Z"
   },
   {
    "duration": 17,
    "start_time": "2022-02-16T11:22:30.415Z"
   },
   {
    "duration": 6,
    "start_time": "2022-02-16T11:22:30.433Z"
   },
   {
    "duration": 7,
    "start_time": "2022-02-16T11:22:30.440Z"
   },
   {
    "duration": 23,
    "start_time": "2022-02-16T11:22:30.448Z"
   },
   {
    "duration": 28,
    "start_time": "2022-02-16T11:22:30.474Z"
   },
   {
    "duration": 33,
    "start_time": "2022-02-16T11:22:30.504Z"
   },
   {
    "duration": 13,
    "start_time": "2022-02-16T11:22:30.539Z"
   },
   {
    "duration": 389,
    "start_time": "2022-02-16T11:22:30.554Z"
   },
   {
    "duration": 13,
    "start_time": "2022-02-16T11:22:30.944Z"
   },
   {
    "duration": 25,
    "start_time": "2022-02-16T11:22:30.960Z"
   },
   {
    "duration": 1671,
    "start_time": "2022-02-16T11:22:30.987Z"
   },
   {
    "duration": 17,
    "start_time": "2022-02-16T11:22:32.659Z"
   },
   {
    "duration": 273,
    "start_time": "2022-02-16T11:22:32.678Z"
   },
   {
    "duration": 20,
    "start_time": "2022-02-16T11:22:32.952Z"
   },
   {
    "duration": 750,
    "start_time": "2022-02-16T11:22:32.974Z"
   },
   {
    "duration": 3,
    "start_time": "2022-02-16T11:22:33.730Z"
   },
   {
    "duration": 6,
    "start_time": "2022-02-16T11:22:33.735Z"
   },
   {
    "duration": 142,
    "start_time": "2022-02-16T11:22:37.117Z"
   },
   {
    "duration": 29,
    "start_time": "2022-02-16T11:22:39.914Z"
   },
   {
    "duration": 19,
    "start_time": "2022-02-16T11:22:39.945Z"
   },
   {
    "duration": 4,
    "start_time": "2022-02-16T11:22:39.966Z"
   },
   {
    "duration": 5,
    "start_time": "2022-02-16T11:22:39.971Z"
   },
   {
    "duration": 55,
    "start_time": "2022-02-16T11:22:39.978Z"
   },
   {
    "duration": 5,
    "start_time": "2022-02-16T11:22:40.035Z"
   },
   {
    "duration": 8,
    "start_time": "2022-02-16T11:22:40.041Z"
   },
   {
    "duration": 13,
    "start_time": "2022-02-16T11:22:40.052Z"
   },
   {
    "duration": 10,
    "start_time": "2022-02-16T11:22:40.067Z"
   },
   {
    "duration": 4,
    "start_time": "2022-02-16T11:22:40.079Z"
   },
   {
    "duration": 5,
    "start_time": "2022-02-16T11:22:40.085Z"
   },
   {
    "duration": 49,
    "start_time": "2022-02-16T11:22:40.091Z"
   },
   {
    "duration": 9,
    "start_time": "2022-02-16T11:22:40.141Z"
   },
   {
    "duration": 5,
    "start_time": "2022-02-16T11:22:40.151Z"
   },
   {
    "duration": 10,
    "start_time": "2022-02-16T11:22:40.157Z"
   },
   {
    "duration": 7,
    "start_time": "2022-02-16T11:22:40.168Z"
   },
   {
    "duration": 6,
    "start_time": "2022-02-16T11:22:40.176Z"
   },
   {
    "duration": 12,
    "start_time": "2022-02-16T11:22:40.184Z"
   },
   {
    "duration": 34,
    "start_time": "2022-02-16T11:22:40.198Z"
   },
   {
    "duration": 6,
    "start_time": "2022-02-16T11:22:40.234Z"
   },
   {
    "duration": 6,
    "start_time": "2022-02-16T11:22:40.242Z"
   },
   {
    "duration": 7,
    "start_time": "2022-02-16T11:22:40.249Z"
   },
   {
    "duration": 24,
    "start_time": "2022-02-16T11:22:40.259Z"
   },
   {
    "duration": 49,
    "start_time": "2022-02-16T11:22:40.285Z"
   },
   {
    "duration": 13,
    "start_time": "2022-02-16T11:22:40.336Z"
   },
   {
    "duration": 389,
    "start_time": "2022-02-16T11:22:40.351Z"
   },
   {
    "duration": 13,
    "start_time": "2022-02-16T11:22:40.742Z"
   },
   {
    "duration": 18,
    "start_time": "2022-02-16T11:22:40.757Z"
   },
   {
    "duration": 1712,
    "start_time": "2022-02-16T11:22:40.776Z"
   },
   {
    "duration": 18,
    "start_time": "2022-02-16T11:22:42.489Z"
   },
   {
    "duration": 285,
    "start_time": "2022-02-16T11:22:42.508Z"
   },
   {
    "duration": 20,
    "start_time": "2022-02-16T11:22:42.795Z"
   },
   {
    "duration": 708,
    "start_time": "2022-02-16T11:22:42.816Z"
   },
   {
    "duration": 142,
    "start_time": "2022-02-16T11:22:43.526Z"
   },
   {
    "duration": -183,
    "start_time": "2022-02-16T11:22:43.852Z"
   },
   {
    "duration": 35,
    "start_time": "2022-02-16T11:23:01.458Z"
   },
   {
    "duration": 20,
    "start_time": "2022-02-16T11:23:01.494Z"
   },
   {
    "duration": 4,
    "start_time": "2022-02-16T11:23:01.516Z"
   },
   {
    "duration": 17,
    "start_time": "2022-02-16T11:23:01.522Z"
   },
   {
    "duration": 36,
    "start_time": "2022-02-16T11:23:01.541Z"
   },
   {
    "duration": 5,
    "start_time": "2022-02-16T11:23:01.578Z"
   },
   {
    "duration": 23,
    "start_time": "2022-02-16T11:23:01.584Z"
   },
   {
    "duration": 17,
    "start_time": "2022-02-16T11:23:01.610Z"
   },
   {
    "duration": 10,
    "start_time": "2022-02-16T11:23:01.630Z"
   },
   {
    "duration": 4,
    "start_time": "2022-02-16T11:23:01.642Z"
   },
   {
    "duration": 9,
    "start_time": "2022-02-16T11:23:01.647Z"
   },
   {
    "duration": 19,
    "start_time": "2022-02-16T11:23:01.657Z"
   },
   {
    "duration": 18,
    "start_time": "2022-02-16T11:23:01.678Z"
   },
   {
    "duration": 6,
    "start_time": "2022-02-16T11:23:01.697Z"
   },
   {
    "duration": 26,
    "start_time": "2022-02-16T11:23:01.705Z"
   },
   {
    "duration": 7,
    "start_time": "2022-02-16T11:23:01.733Z"
   },
   {
    "duration": 6,
    "start_time": "2022-02-16T11:23:01.742Z"
   },
   {
    "duration": 13,
    "start_time": "2022-02-16T11:23:01.749Z"
   },
   {
    "duration": 4,
    "start_time": "2022-02-16T11:23:01.764Z"
   },
   {
    "duration": 7,
    "start_time": "2022-02-16T11:23:01.769Z"
   },
   {
    "duration": 6,
    "start_time": "2022-02-16T11:23:01.777Z"
   },
   {
    "duration": 8,
    "start_time": "2022-02-16T11:23:01.785Z"
   },
   {
    "duration": 53,
    "start_time": "2022-02-16T11:23:01.796Z"
   },
   {
    "duration": 21,
    "start_time": "2022-02-16T11:23:01.850Z"
   },
   {
    "duration": 12,
    "start_time": "2022-02-16T11:23:01.873Z"
   },
   {
    "duration": 385,
    "start_time": "2022-02-16T11:23:01.887Z"
   },
   {
    "duration": 13,
    "start_time": "2022-02-16T11:23:02.274Z"
   },
   {
    "duration": 12,
    "start_time": "2022-02-16T11:23:02.289Z"
   },
   {
    "duration": 1637,
    "start_time": "2022-02-16T11:23:02.303Z"
   },
   {
    "duration": 17,
    "start_time": "2022-02-16T11:23:03.942Z"
   },
   {
    "duration": 272,
    "start_time": "2022-02-16T11:23:03.961Z"
   },
   {
    "duration": 21,
    "start_time": "2022-02-16T11:23:04.235Z"
   },
   {
    "duration": 669,
    "start_time": "2022-02-16T11:23:04.257Z"
   },
   {
    "duration": 10,
    "start_time": "2022-02-16T11:23:04.930Z"
   },
   {
    "duration": 12,
    "start_time": "2022-02-16T11:23:04.941Z"
   },
   {
    "duration": 11,
    "start_time": "2022-02-16T11:23:07.125Z"
   },
   {
    "duration": 9,
    "start_time": "2022-02-16T11:25:37.579Z"
   },
   {
    "duration": 5,
    "start_time": "2022-02-16T11:26:19.210Z"
   },
   {
    "duration": 7,
    "start_time": "2022-02-16T11:26:22.874Z"
   },
   {
    "duration": 300,
    "start_time": "2022-02-16T11:26:39.546Z"
   },
   {
    "duration": 5,
    "start_time": "2022-02-16T11:27:37.010Z"
   },
   {
    "duration": 5,
    "start_time": "2022-02-16T11:27:42.625Z"
   },
   {
    "duration": 6,
    "start_time": "2022-02-16T11:27:45.649Z"
   },
   {
    "duration": 138,
    "start_time": "2022-02-16T11:29:41.424Z"
   },
   {
    "duration": 161,
    "start_time": "2022-02-16T11:29:51.256Z"
   },
   {
    "duration": 437,
    "start_time": "2022-02-16T11:30:04.935Z"
   },
   {
    "duration": 133,
    "start_time": "2022-02-16T11:30:23.384Z"
   },
   {
    "duration": 140,
    "start_time": "2022-02-16T11:30:41.271Z"
   },
   {
    "duration": 455,
    "start_time": "2022-02-16T11:30:51.871Z"
   },
   {
    "duration": 146,
    "start_time": "2022-02-16T11:36:46.139Z"
   },
   {
    "duration": 160,
    "start_time": "2022-02-16T11:36:52.179Z"
   },
   {
    "duration": 140,
    "start_time": "2022-02-16T11:36:57.779Z"
   },
   {
    "duration": 149,
    "start_time": "2022-02-16T11:37:20.491Z"
   },
   {
    "duration": 21,
    "start_time": "2022-02-16T11:37:30.434Z"
   },
   {
    "duration": 145,
    "start_time": "2022-02-16T11:37:57.818Z"
   },
   {
    "duration": 18,
    "start_time": "2022-02-16T11:39:54.304Z"
   },
   {
    "duration": 134,
    "start_time": "2022-02-16T11:40:40.760Z"
   },
   {
    "duration": 6,
    "start_time": "2022-02-16T11:41:55.719Z"
   },
   {
    "duration": 22,
    "start_time": "2022-02-16T11:42:01.214Z"
   },
   {
    "duration": 23,
    "start_time": "2022-02-16T11:42:29.255Z"
   },
   {
    "duration": 22,
    "start_time": "2022-02-16T11:42:53.918Z"
   },
   {
    "duration": 314,
    "start_time": "2022-02-16T11:43:10.718Z"
   },
   {
    "duration": 33,
    "start_time": "2022-02-16T11:44:57.748Z"
   },
   {
    "duration": 41,
    "start_time": "2022-02-16T11:46:33.747Z"
   },
   {
    "duration": 29,
    "start_time": "2022-02-16T11:47:47.066Z"
   },
   {
    "duration": 33,
    "start_time": "2022-02-16T11:47:50.657Z"
   },
   {
    "duration": 7,
    "start_time": "2022-02-16T11:48:48.937Z"
   },
   {
    "duration": 8,
    "start_time": "2022-02-16T11:48:56.296Z"
   },
   {
    "duration": 30,
    "start_time": "2022-02-16T11:49:09.369Z"
   },
   {
    "duration": 24,
    "start_time": "2022-02-16T11:49:47.880Z"
   },
   {
    "duration": 21,
    "start_time": "2022-02-16T11:59:18.305Z"
   },
   {
    "duration": 704,
    "start_time": "2022-02-16T11:59:27.193Z"
   },
   {
    "duration": 6,
    "start_time": "2022-02-16T11:59:30.129Z"
   },
   {
    "duration": 25,
    "start_time": "2022-02-16T11:59:44.169Z"
   },
   {
    "duration": 23,
    "start_time": "2022-02-16T12:00:03.328Z"
   },
   {
    "duration": 448,
    "start_time": "2022-02-16T12:01:10.872Z"
   },
   {
    "duration": 564,
    "start_time": "2022-02-16T12:01:17.215Z"
   },
   {
    "duration": 489,
    "start_time": "2022-02-16T12:01:22.991Z"
   },
   {
    "duration": 390,
    "start_time": "2022-02-16T12:08:45.930Z"
   },
   {
    "duration": 500,
    "start_time": "2022-02-16T12:08:50.586Z"
   },
   {
    "duration": 486,
    "start_time": "2022-02-16T12:09:35.658Z"
   },
   {
    "duration": 490,
    "start_time": "2022-02-16T12:09:43.050Z"
   },
   {
    "duration": 511,
    "start_time": "2022-02-16T12:09:47.969Z"
   },
   {
    "duration": 494,
    "start_time": "2022-02-16T12:09:53.313Z"
   },
   {
    "duration": 729,
    "start_time": "2022-02-16T12:10:02.129Z"
   },
   {
    "duration": 134,
    "start_time": "2022-02-16T12:10:32.049Z"
   },
   {
    "duration": 642,
    "start_time": "2022-02-16T12:10:58.690Z"
   },
   {
    "duration": 360,
    "start_time": "2022-02-16T12:11:52.144Z"
   },
   {
    "duration": 1188,
    "start_time": "2022-02-16T12:12:00.759Z"
   },
   {
    "duration": 294,
    "start_time": "2022-02-16T12:12:06.845Z"
   },
   {
    "duration": 434,
    "start_time": "2022-02-16T12:12:12.863Z"
   },
   {
    "duration": 575,
    "start_time": "2022-02-16T12:12:16.655Z"
   },
   {
    "duration": 622,
    "start_time": "2022-02-16T12:12:27.583Z"
   },
   {
    "duration": 619,
    "start_time": "2022-02-16T12:12:39.744Z"
   },
   {
    "duration": 499,
    "start_time": "2022-02-16T12:12:44.008Z"
   },
   {
    "duration": 625,
    "start_time": "2022-02-16T12:17:03.011Z"
   },
   {
    "duration": 490,
    "start_time": "2022-02-16T12:20:34.630Z"
   },
   {
    "duration": 13,
    "start_time": "2022-02-16T12:21:20.728Z"
   },
   {
    "duration": 7,
    "start_time": "2022-02-16T12:21:34.832Z"
   },
   {
    "duration": 1720,
    "start_time": "2022-02-16T12:21:45.968Z"
   },
   {
    "duration": 6,
    "start_time": "2022-02-16T12:23:01.158Z"
   },
   {
    "duration": 154,
    "start_time": "2022-02-16T12:23:22.223Z"
   },
   {
    "duration": 8,
    "start_time": "2022-02-16T12:23:31.990Z"
   },
   {
    "duration": 8,
    "start_time": "2022-02-16T12:23:39.110Z"
   },
   {
    "duration": 10,
    "start_time": "2022-02-16T12:23:49.823Z"
   },
   {
    "duration": 8,
    "start_time": "2022-02-16T12:23:58.118Z"
   },
   {
    "duration": 12,
    "start_time": "2022-02-16T12:24:05.947Z"
   },
   {
    "duration": 9,
    "start_time": "2022-02-16T12:24:11.958Z"
   },
   {
    "duration": 9,
    "start_time": "2022-02-16T12:24:15.950Z"
   },
   {
    "duration": 9,
    "start_time": "2022-02-16T12:24:18.398Z"
   },
   {
    "duration": 198,
    "start_time": "2022-02-16T12:24:38.454Z"
   },
   {
    "duration": 11,
    "start_time": "2022-02-16T12:24:43.789Z"
   },
   {
    "duration": 154,
    "start_time": "2022-02-16T12:24:59.958Z"
   },
   {
    "duration": 10,
    "start_time": "2022-02-16T12:25:07.278Z"
   },
   {
    "duration": 10,
    "start_time": "2022-02-16T12:25:43.309Z"
   },
   {
    "duration": 18,
    "start_time": "2022-02-16T12:30:42.273Z"
   },
   {
    "duration": 10,
    "start_time": "2022-02-16T12:30:53.257Z"
   },
   {
    "duration": 10,
    "start_time": "2022-02-16T12:31:01.257Z"
   },
   {
    "duration": 23,
    "start_time": "2022-02-16T13:00:26.819Z"
   },
   {
    "duration": 22,
    "start_time": "2022-02-16T14:34:54.849Z"
   },
   {
    "duration": 4,
    "start_time": "2022-02-16T14:35:14.713Z"
   },
   {
    "duration": 22,
    "start_time": "2022-02-16T14:38:56.566Z"
   },
   {
    "duration": 431,
    "start_time": "2022-02-16T14:39:26.750Z"
   },
   {
    "duration": 21,
    "start_time": "2022-02-16T14:40:13.334Z"
   },
   {
    "duration": 392,
    "start_time": "2022-02-16T14:40:36.972Z"
   },
   {
    "duration": 161,
    "start_time": "2022-02-16T14:41:00.125Z"
   },
   {
    "duration": 383,
    "start_time": "2022-02-16T14:41:07.077Z"
   },
   {
    "duration": 8,
    "start_time": "2022-02-16T15:08:04.785Z"
   },
   {
    "duration": 21,
    "start_time": "2022-02-16T15:08:13.048Z"
   },
   {
    "duration": 3058,
    "start_time": "2022-02-16T15:08:36.840Z"
   },
   {
    "duration": 896,
    "start_time": "2022-02-16T15:08:48.281Z"
   },
   {
    "duration": 126,
    "start_time": "2022-02-16T15:08:52.743Z"
   },
   {
    "duration": 481,
    "start_time": "2022-02-16T15:09:02.527Z"
   },
   {
    "duration": 35,
    "start_time": "2022-02-16T15:09:55.643Z"
   },
   {
    "duration": 18,
    "start_time": "2022-02-16T15:09:55.680Z"
   },
   {
    "duration": 4,
    "start_time": "2022-02-16T15:09:55.700Z"
   },
   {
    "duration": 7,
    "start_time": "2022-02-16T15:09:55.706Z"
   },
   {
    "duration": 34,
    "start_time": "2022-02-16T15:09:55.715Z"
   },
   {
    "duration": 5,
    "start_time": "2022-02-16T15:09:55.750Z"
   },
   {
    "duration": 8,
    "start_time": "2022-02-16T15:09:55.757Z"
   },
   {
    "duration": 18,
    "start_time": "2022-02-16T15:09:55.768Z"
   },
   {
    "duration": 10,
    "start_time": "2022-02-16T15:09:55.788Z"
   },
   {
    "duration": 32,
    "start_time": "2022-02-16T15:09:55.800Z"
   },
   {
    "duration": 7,
    "start_time": "2022-02-16T15:09:55.834Z"
   },
   {
    "duration": 16,
    "start_time": "2022-02-16T15:09:55.843Z"
   },
   {
    "duration": 11,
    "start_time": "2022-02-16T15:09:55.860Z"
   },
   {
    "duration": 5,
    "start_time": "2022-02-16T15:09:55.873Z"
   },
   {
    "duration": 5,
    "start_time": "2022-02-16T15:09:55.880Z"
   },
   {
    "duration": 7,
    "start_time": "2022-02-16T15:09:55.887Z"
   },
   {
    "duration": 36,
    "start_time": "2022-02-16T15:09:55.895Z"
   },
   {
    "duration": 5,
    "start_time": "2022-02-16T15:09:55.933Z"
   },
   {
    "duration": 13,
    "start_time": "2022-02-16T15:09:55.939Z"
   },
   {
    "duration": 10,
    "start_time": "2022-02-16T15:09:55.954Z"
   },
   {
    "duration": 8,
    "start_time": "2022-02-16T15:09:55.965Z"
   },
   {
    "duration": 24,
    "start_time": "2022-02-16T15:09:55.974Z"
   },
   {
    "duration": 42,
    "start_time": "2022-02-16T15:09:56.001Z"
   },
   {
    "duration": 12,
    "start_time": "2022-02-16T15:09:56.044Z"
   },
   {
    "duration": 385,
    "start_time": "2022-02-16T15:09:56.058Z"
   },
   {
    "duration": 13,
    "start_time": "2022-02-16T15:09:56.444Z"
   },
   {
    "duration": 15,
    "start_time": "2022-02-16T15:09:56.458Z"
   },
   {
    "duration": 1747,
    "start_time": "2022-02-16T15:09:56.474Z"
   },
   {
    "duration": 22,
    "start_time": "2022-02-16T15:09:58.222Z"
   },
   {
    "duration": 9168,
    "start_time": "2022-02-16T15:09:58.246Z"
   },
   {
    "duration": 31,
    "start_time": "2022-02-16T15:10:07.416Z"
   },
   {
    "duration": 676,
    "start_time": "2022-02-16T15:10:07.449Z"
   },
   {
    "duration": 25,
    "start_time": "2022-02-16T15:10:08.129Z"
   },
   {
    "duration": 23,
    "start_time": "2022-02-16T15:10:08.156Z"
   },
   {
    "duration": 492,
    "start_time": "2022-02-16T15:10:08.180Z"
   },
   {
    "duration": 10,
    "start_time": "2022-02-16T15:10:08.674Z"
   },
   {
    "duration": 23,
    "start_time": "2022-02-16T15:10:08.686Z"
   },
   {
    "duration": 497,
    "start_time": "2022-02-16T15:10:08.711Z"
   },
   {
    "duration": -362,
    "start_time": "2022-02-16T15:10:09.572Z"
   },
   {
    "duration": 414,
    "start_time": "2022-02-16T15:10:16.758Z"
   },
   {
    "duration": 22,
    "start_time": "2022-02-16T15:10:52.054Z"
   },
   {
    "duration": 435,
    "start_time": "2022-02-16T15:11:47.854Z"
   },
   {
    "duration": 8,
    "start_time": "2022-02-16T15:12:46.212Z"
   },
   {
    "duration": 403,
    "start_time": "2022-02-16T15:14:54.067Z"
   },
   {
    "duration": 5,
    "start_time": "2022-02-16T15:17:01.345Z"
   },
   {
    "duration": 400,
    "start_time": "2022-02-16T15:17:11.483Z"
   },
   {
    "duration": 20,
    "start_time": "2022-02-16T15:25:21.442Z"
   },
   {
    "duration": 132,
    "start_time": "2022-02-16T15:29:11.136Z"
   },
   {
    "duration": 155,
    "start_time": "2022-02-16T15:29:14.935Z"
   },
   {
    "duration": 4,
    "start_time": "2022-02-16T15:29:25.305Z"
   },
   {
    "duration": 4,
    "start_time": "2022-02-16T15:29:39.079Z"
   },
   {
    "duration": 265,
    "start_time": "2022-02-17T05:50:56.710Z"
   },
   {
    "duration": 1280,
    "start_time": "2022-02-17T05:51:01.011Z"
   },
   {
    "duration": 28,
    "start_time": "2022-02-17T05:51:02.293Z"
   },
   {
    "duration": 11,
    "start_time": "2022-02-17T05:51:02.325Z"
   },
   {
    "duration": 18,
    "start_time": "2022-02-17T05:51:02.338Z"
   },
   {
    "duration": 32,
    "start_time": "2022-02-17T05:51:02.358Z"
   },
   {
    "duration": 5,
    "start_time": "2022-02-17T05:51:02.392Z"
   },
   {
    "duration": 9,
    "start_time": "2022-02-17T05:51:02.408Z"
   },
   {
    "duration": 31,
    "start_time": "2022-02-17T05:51:02.420Z"
   },
   {
    "duration": 28,
    "start_time": "2022-02-17T05:51:02.453Z"
   },
   {
    "duration": 7,
    "start_time": "2022-02-17T05:51:02.483Z"
   },
   {
    "duration": 14,
    "start_time": "2022-02-17T05:51:02.492Z"
   },
   {
    "duration": 23,
    "start_time": "2022-02-17T05:51:02.509Z"
   },
   {
    "duration": 11,
    "start_time": "2022-02-17T05:51:02.534Z"
   },
   {
    "duration": 13,
    "start_time": "2022-02-17T05:51:02.547Z"
   },
   {
    "duration": 11,
    "start_time": "2022-02-17T05:51:02.562Z"
   },
   {
    "duration": 11,
    "start_time": "2022-02-17T05:51:02.576Z"
   },
   {
    "duration": 19,
    "start_time": "2022-02-17T05:51:02.590Z"
   },
   {
    "duration": 8,
    "start_time": "2022-02-17T05:51:02.611Z"
   },
   {
    "duration": 18,
    "start_time": "2022-02-17T05:51:02.620Z"
   },
   {
    "duration": 35,
    "start_time": "2022-02-17T05:51:02.640Z"
   },
   {
    "duration": 25,
    "start_time": "2022-02-17T05:51:02.677Z"
   },
   {
    "duration": 36,
    "start_time": "2022-02-17T05:51:02.703Z"
   },
   {
    "duration": 34,
    "start_time": "2022-02-17T05:51:02.742Z"
   },
   {
    "duration": 19,
    "start_time": "2022-02-17T05:51:02.779Z"
   },
   {
    "duration": 342,
    "start_time": "2022-02-17T05:51:02.806Z"
   },
   {
    "duration": 18,
    "start_time": "2022-02-17T05:51:03.151Z"
   },
   {
    "duration": 31,
    "start_time": "2022-02-17T05:51:03.171Z"
   },
   {
    "duration": 1583,
    "start_time": "2022-02-17T05:51:03.203Z"
   },
   {
    "duration": 29,
    "start_time": "2022-02-17T05:51:04.788Z"
   },
   {
    "duration": 188,
    "start_time": "2022-02-17T05:51:04.819Z"
   },
   {
    "duration": 24,
    "start_time": "2022-02-17T05:51:05.009Z"
   },
   {
    "duration": 745,
    "start_time": "2022-02-17T05:51:05.035Z"
   },
   {
    "duration": 37,
    "start_time": "2022-02-17T05:51:05.782Z"
   },
   {
    "duration": 26,
    "start_time": "2022-02-17T05:51:05.821Z"
   },
   {
    "duration": 558,
    "start_time": "2022-02-17T05:51:05.849Z"
   },
   {
    "duration": 11,
    "start_time": "2022-02-17T05:51:06.409Z"
   },
   {
    "duration": 26,
    "start_time": "2022-02-17T05:51:06.422Z"
   },
   {
    "duration": 8,
    "start_time": "2022-02-17T05:51:06.450Z"
   },
   {
    "duration": 553,
    "start_time": "2022-02-17T05:51:06.459Z"
   },
   {
    "duration": 6,
    "start_time": "2022-02-17T05:51:07.015Z"
   },
   {
    "duration": 499,
    "start_time": "2022-02-17T05:51:07.023Z"
   },
   {
    "duration": 5,
    "start_time": "2022-02-17T05:51:07.524Z"
   },
   {
    "duration": 252,
    "start_time": "2022-02-17T05:52:18.453Z"
   },
   {
    "duration": 202,
    "start_time": "2022-02-17T05:52:40.380Z"
   },
   {
    "duration": 2336,
    "start_time": "2022-02-17T05:52:44.492Z"
   },
   {
    "duration": 1648,
    "start_time": "2022-02-17T05:53:42.124Z"
   },
   {
    "duration": 2211,
    "start_time": "2022-02-17T05:54:11.468Z"
   },
   {
    "duration": 595,
    "start_time": "2022-02-17T05:54:54.933Z"
   },
   {
    "duration": 2507,
    "start_time": "2022-02-17T05:54:59.882Z"
   },
   {
    "duration": 2391,
    "start_time": "2022-02-17T05:55:22.786Z"
   },
   {
    "duration": 2237,
    "start_time": "2022-02-17T05:55:38.370Z"
   },
   {
    "duration": 2352,
    "start_time": "2022-02-17T05:55:59.674Z"
   },
   {
    "duration": 2328,
    "start_time": "2022-02-17T05:56:04.129Z"
   },
   {
    "duration": 205,
    "start_time": "2022-02-17T05:56:34.299Z"
   },
   {
    "duration": 204,
    "start_time": "2022-02-17T05:56:41.121Z"
   },
   {
    "duration": 2180,
    "start_time": "2022-02-17T05:56:48.145Z"
   },
   {
    "duration": 649,
    "start_time": "2022-02-17T06:52:43.358Z"
   },
   {
    "duration": 583,
    "start_time": "2022-02-17T06:52:54.478Z"
   },
   {
    "duration": 640,
    "start_time": "2022-02-17T06:53:00.662Z"
   },
   {
    "duration": 2330,
    "start_time": "2022-02-17T06:53:10.901Z"
   },
   {
    "duration": 230,
    "start_time": "2022-02-17T06:53:34.909Z"
   },
   {
    "duration": 199,
    "start_time": "2022-02-17T07:01:08.329Z"
   },
   {
    "duration": 10,
    "start_time": "2022-02-17T07:01:15.929Z"
   },
   {
    "duration": 11,
    "start_time": "2022-02-17T07:01:26.975Z"
   },
   {
    "duration": 2217,
    "start_time": "2022-02-17T07:01:35.761Z"
   },
   {
    "duration": 2204,
    "start_time": "2022-02-17T07:01:47.930Z"
   },
   {
    "duration": 2502,
    "start_time": "2022-02-17T07:02:01.200Z"
   },
   {
    "duration": 2293,
    "start_time": "2022-02-17T07:03:48.695Z"
   },
   {
    "duration": 2456,
    "start_time": "2022-02-17T07:03:54.255Z"
   },
   {
    "duration": 228,
    "start_time": "2022-02-17T07:10:00.859Z"
   },
   {
    "duration": 2971,
    "start_time": "2022-02-17T07:10:40.698Z"
   },
   {
    "duration": 3854,
    "start_time": "2022-02-17T07:13:00.834Z"
   },
   {
    "duration": 2896,
    "start_time": "2022-02-17T07:13:12.279Z"
   },
   {
    "duration": 2782,
    "start_time": "2022-02-17T07:13:18.351Z"
   },
   {
    "duration": 4048,
    "start_time": "2022-02-17T07:13:25.476Z"
   },
   {
    "duration": 966,
    "start_time": "2022-02-17T07:14:25.847Z"
   },
   {
    "duration": 786,
    "start_time": "2022-02-17T07:14:34.418Z"
   },
   {
    "duration": 779,
    "start_time": "2022-02-17T07:14:38.390Z"
   },
   {
    "duration": 65,
    "start_time": "2022-02-17T07:15:11.648Z"
   },
   {
    "duration": 4308,
    "start_time": "2022-02-17T07:15:25.569Z"
   },
   {
    "duration": 4081,
    "start_time": "2022-02-17T07:15:55.613Z"
   },
   {
    "duration": 3884,
    "start_time": "2022-02-17T07:18:42.731Z"
   },
   {
    "duration": 3891,
    "start_time": "2022-02-17T07:18:58.195Z"
   },
   {
    "duration": 3907,
    "start_time": "2022-02-17T07:19:15.980Z"
   },
   {
    "duration": 3763,
    "start_time": "2022-02-17T07:19:27.119Z"
   },
   {
    "duration": 857,
    "start_time": "2022-02-17T07:20:58.354Z"
   },
   {
    "duration": 774,
    "start_time": "2022-02-17T07:21:09.326Z"
   },
   {
    "duration": 4469,
    "start_time": "2022-02-17T07:21:18.879Z"
   },
   {
    "duration": 4358,
    "start_time": "2022-02-17T07:21:25.601Z"
   },
   {
    "duration": 3896,
    "start_time": "2022-02-17T07:21:39.650Z"
   },
   {
    "duration": 729,
    "start_time": "2022-02-17T07:21:44.084Z"
   },
   {
    "duration": 779,
    "start_time": "2022-02-17T07:25:50.486Z"
   },
   {
    "duration": 763,
    "start_time": "2022-02-17T07:25:56.846Z"
   },
   {
    "duration": 4183,
    "start_time": "2022-02-17T07:26:04.408Z"
   },
   {
    "duration": 880,
    "start_time": "2022-02-17T07:26:55.021Z"
   },
   {
    "duration": 4183,
    "start_time": "2022-02-17T07:26:58.493Z"
   },
   {
    "duration": 4282,
    "start_time": "2022-02-17T07:34:47.440Z"
   },
   {
    "duration": 3959,
    "start_time": "2022-02-17T07:34:54.983Z"
   },
   {
    "duration": 4079,
    "start_time": "2022-02-17T07:35:20.081Z"
   },
   {
    "duration": 4128,
    "start_time": "2022-02-17T07:35:25.895Z"
   },
   {
    "duration": 3813,
    "start_time": "2022-02-17T07:35:31.799Z"
   },
   {
    "duration": 3985,
    "start_time": "2022-02-17T07:36:04.763Z"
   },
   {
    "duration": 3987,
    "start_time": "2022-02-17T07:36:10.496Z"
   },
   {
    "duration": 4132,
    "start_time": "2022-02-17T07:36:31.494Z"
   },
   {
    "duration": 924,
    "start_time": "2022-02-17T07:36:51.151Z"
   },
   {
    "duration": 993,
    "start_time": "2022-02-17T07:36:58.165Z"
   },
   {
    "duration": 4243,
    "start_time": "2022-02-17T07:37:03.190Z"
   },
   {
    "duration": 4352,
    "start_time": "2022-02-17T07:37:22.998Z"
   },
   {
    "duration": 87,
    "start_time": "2022-02-17T07:37:38.286Z"
   },
   {
    "duration": 3993,
    "start_time": "2022-02-17T07:37:49.102Z"
   },
   {
    "duration": 4212,
    "start_time": "2022-02-17T07:37:57.765Z"
   },
   {
    "duration": 4061,
    "start_time": "2022-02-17T07:39:35.723Z"
   },
   {
    "duration": 4108,
    "start_time": "2022-02-17T07:39:42.579Z"
   },
   {
    "duration": 5,
    "start_time": "2022-02-17T07:42:26.200Z"
   },
   {
    "duration": 21,
    "start_time": "2022-02-17T07:43:30.337Z"
   },
   {
    "duration": 4,
    "start_time": "2022-02-17T07:43:37.645Z"
   },
   {
    "duration": 6,
    "start_time": "2022-02-17T07:43:48.640Z"
   },
   {
    "duration": 7,
    "start_time": "2022-02-17T07:43:54.185Z"
   },
   {
    "duration": 5,
    "start_time": "2022-02-17T07:44:04.928Z"
   },
   {
    "duration": 4,
    "start_time": "2022-02-17T07:44:18.352Z"
   },
   {
    "duration": 399,
    "start_time": "2022-02-17T08:01:28.562Z"
   },
   {
    "duration": 4,
    "start_time": "2022-02-17T08:01:36.772Z"
   },
   {
    "duration": 1327,
    "start_time": "2022-02-17T08:04:09.382Z"
   },
   {
    "duration": 1055,
    "start_time": "2022-02-17T08:06:01.664Z"
   },
   {
    "duration": 1022,
    "start_time": "2022-02-17T08:06:13.688Z"
   },
   {
    "duration": 1050,
    "start_time": "2022-02-17T08:06:22.592Z"
   },
   {
    "duration": 973,
    "start_time": "2022-02-17T08:06:30.997Z"
   },
   {
    "duration": 4073,
    "start_time": "2022-02-17T08:06:35.383Z"
   },
   {
    "duration": 941,
    "start_time": "2022-02-17T08:07:24.440Z"
   },
   {
    "duration": 894,
    "start_time": "2022-02-17T08:07:30.231Z"
   },
   {
    "duration": 1109,
    "start_time": "2022-02-17T08:07:34.279Z"
   },
   {
    "duration": 1161,
    "start_time": "2022-02-17T08:07:38.887Z"
   },
   {
    "duration": 4087,
    "start_time": "2022-02-17T08:08:27.961Z"
   },
   {
    "duration": 4283,
    "start_time": "2022-02-17T08:08:51.605Z"
   },
   {
    "duration": 1189,
    "start_time": "2022-02-17T08:11:12.134Z"
   },
   {
    "duration": 946,
    "start_time": "2022-02-17T08:11:22.316Z"
   },
   {
    "duration": 4112,
    "start_time": "2022-02-17T08:11:28.388Z"
   },
   {
    "duration": 4175,
    "start_time": "2022-02-17T08:11:49.804Z"
   },
   {
    "duration": 936,
    "start_time": "2022-02-17T08:12:18.596Z"
   },
   {
    "duration": 4088,
    "start_time": "2022-02-17T08:13:24.958Z"
   },
   {
    "duration": 4115,
    "start_time": "2022-02-17T08:13:40.402Z"
   },
   {
    "duration": 1120,
    "start_time": "2022-02-17T08:14:28.857Z"
   },
   {
    "duration": 939,
    "start_time": "2022-02-17T08:14:38.242Z"
   },
   {
    "duration": 4133,
    "start_time": "2022-02-17T08:14:43.029Z"
   },
   {
    "duration": 4269,
    "start_time": "2022-02-17T08:16:34.879Z"
   },
   {
    "duration": 89,
    "start_time": "2022-02-17T10:02:49.972Z"
   },
   {
    "duration": 4271,
    "start_time": "2022-02-17T10:02:59.922Z"
   },
   {
    "duration": 4032,
    "start_time": "2022-02-17T10:03:11.874Z"
   },
   {
    "duration": 4205,
    "start_time": "2022-02-17T10:03:50.953Z"
   },
   {
    "duration": 4217,
    "start_time": "2022-02-17T10:04:06.450Z"
   },
   {
    "duration": 4371,
    "start_time": "2022-02-17T10:06:16.712Z"
   },
   {
    "duration": 4210,
    "start_time": "2022-02-17T10:06:45.161Z"
   },
   {
    "duration": 1072,
    "start_time": "2022-02-17T10:08:02.079Z"
   },
   {
    "duration": 1260,
    "start_time": "2022-02-17T10:08:06.966Z"
   },
   {
    "duration": 4356,
    "start_time": "2022-02-17T10:08:10.359Z"
   },
   {
    "duration": 4014,
    "start_time": "2022-02-17T10:28:15.743Z"
   },
   {
    "duration": 64,
    "start_time": "2022-02-17T10:28:43.302Z"
   },
   {
    "duration": 69,
    "start_time": "2022-02-17T10:29:04.943Z"
   },
   {
    "duration": 8,
    "start_time": "2022-02-17T10:38:41.854Z"
   },
   {
    "duration": 317,
    "start_time": "2022-02-17T10:39:40.925Z"
   },
   {
    "duration": 592,
    "start_time": "2022-02-17T10:39:53.269Z"
   },
   {
    "duration": 8,
    "start_time": "2022-02-17T10:41:23.469Z"
   },
   {
    "duration": 8,
    "start_time": "2022-02-17T10:41:36.989Z"
   },
   {
    "duration": 13,
    "start_time": "2022-02-17T10:41:43.300Z"
   },
   {
    "duration": 8,
    "start_time": "2022-02-17T10:42:13.916Z"
   },
   {
    "duration": 658,
    "start_time": "2022-02-17T10:42:37.875Z"
   },
   {
    "duration": 14,
    "start_time": "2022-02-17T10:42:39.908Z"
   },
   {
    "duration": 373,
    "start_time": "2022-02-17T10:43:03.260Z"
   },
   {
    "duration": 594,
    "start_time": "2022-02-17T10:43:24.483Z"
   },
   {
    "duration": 410,
    "start_time": "2022-02-17T10:43:39.003Z"
   },
   {
    "duration": 614,
    "start_time": "2022-02-17T10:43:56.938Z"
   },
   {
    "duration": 420,
    "start_time": "2022-02-17T10:44:20.290Z"
   },
   {
    "duration": 22,
    "start_time": "2022-02-17T12:05:07.501Z"
   },
   {
    "duration": 23,
    "start_time": "2022-02-17T12:50:45.586Z"
   },
   {
    "duration": 8,
    "start_time": "2022-02-17T12:50:59.849Z"
   },
   {
    "duration": 6,
    "start_time": "2022-02-17T12:53:01.104Z"
   },
   {
    "duration": 33,
    "start_time": "2022-02-17T12:53:05.920Z"
   },
   {
    "duration": 15,
    "start_time": "2022-02-17T14:04:04.547Z"
   },
   {
    "duration": 22,
    "start_time": "2022-02-17T14:04:09.969Z"
   },
   {
    "duration": 35,
    "start_time": "2022-02-17T14:04:23.793Z"
   },
   {
    "duration": 19,
    "start_time": "2022-02-17T14:04:29.785Z"
   },
   {
    "duration": 17,
    "start_time": "2022-02-17T14:04:38.841Z"
   },
   {
    "duration": 23,
    "start_time": "2022-02-17T14:04:46.624Z"
   },
   {
    "duration": 23,
    "start_time": "2022-02-17T14:14:57.490Z"
   },
   {
    "duration": 229,
    "start_time": "2022-02-17T14:15:25.744Z"
   },
   {
    "duration": 17,
    "start_time": "2022-02-17T14:15:30.648Z"
   },
   {
    "duration": 19,
    "start_time": "2022-02-17T14:21:09.190Z"
   },
   {
    "duration": -174,
    "start_time": "2022-02-17T14:22:32.836Z"
   },
   {
    "duration": 5365,
    "start_time": "2022-02-17T14:22:35.298Z"
   },
   {
    "duration": 20,
    "start_time": "2022-02-17T14:22:43.863Z"
   },
   {
    "duration": 20,
    "start_time": "2022-02-17T14:23:04.301Z"
   },
   {
    "duration": 21,
    "start_time": "2022-02-17T14:23:26.900Z"
   },
   {
    "duration": 233,
    "start_time": "2022-02-17T14:24:42.557Z"
   },
   {
    "duration": 217,
    "start_time": "2022-02-17T14:24:47.308Z"
   },
   {
    "duration": 19,
    "start_time": "2022-02-17T14:24:56.124Z"
   },
   {
    "duration": 23,
    "start_time": "2022-02-17T14:25:10.092Z"
   },
   {
    "duration": 307,
    "start_time": "2022-02-17T14:25:27.509Z"
   },
   {
    "duration": 69,
    "start_time": "2022-02-17T14:25:41.020Z"
   },
   {
    "duration": 20,
    "start_time": "2022-02-17T14:29:17.745Z"
   },
   {
    "duration": -167,
    "start_time": "2022-02-17T14:32:34.509Z"
   },
   {
    "duration": 47,
    "start_time": "2022-02-17T14:32:41.539Z"
   },
   {
    "duration": 27,
    "start_time": "2022-02-17T14:32:41.588Z"
   },
   {
    "duration": 5,
    "start_time": "2022-02-17T14:32:41.618Z"
   },
   {
    "duration": 10,
    "start_time": "2022-02-17T14:32:41.625Z"
   },
   {
    "duration": 37,
    "start_time": "2022-02-17T14:32:41.636Z"
   },
   {
    "duration": 37,
    "start_time": "2022-02-17T14:32:41.674Z"
   },
   {
    "duration": 12,
    "start_time": "2022-02-17T14:32:41.713Z"
   },
   {
    "duration": 28,
    "start_time": "2022-02-17T14:32:41.728Z"
   },
   {
    "duration": 16,
    "start_time": "2022-02-17T14:32:41.758Z"
   },
   {
    "duration": 33,
    "start_time": "2022-02-17T14:32:41.776Z"
   },
   {
    "duration": 13,
    "start_time": "2022-02-17T14:32:41.811Z"
   },
   {
    "duration": 33,
    "start_time": "2022-02-17T14:32:41.826Z"
   },
   {
    "duration": 15,
    "start_time": "2022-02-17T14:32:41.861Z"
   },
   {
    "duration": 5,
    "start_time": "2022-02-17T14:32:41.878Z"
   },
   {
    "duration": 25,
    "start_time": "2022-02-17T14:32:41.885Z"
   },
   {
    "duration": 8,
    "start_time": "2022-02-17T14:32:41.912Z"
   },
   {
    "duration": 7,
    "start_time": "2022-02-17T14:32:41.922Z"
   },
   {
    "duration": 13,
    "start_time": "2022-02-17T14:32:41.931Z"
   },
   {
    "duration": 9,
    "start_time": "2022-02-17T14:32:41.946Z"
   },
   {
    "duration": 14,
    "start_time": "2022-02-17T14:32:41.957Z"
   },
   {
    "duration": 45,
    "start_time": "2022-02-17T14:32:41.973Z"
   },
   {
    "duration": 35,
    "start_time": "2022-02-17T14:32:42.021Z"
   },
   {
    "duration": 47,
    "start_time": "2022-02-17T14:32:42.060Z"
   },
   {
    "duration": 16,
    "start_time": "2022-02-17T14:32:42.110Z"
   },
   {
    "duration": 462,
    "start_time": "2022-02-17T14:32:42.128Z"
   },
   {
    "duration": 24,
    "start_time": "2022-02-17T14:32:42.592Z"
   },
   {
    "duration": 21,
    "start_time": "2022-02-17T14:32:42.618Z"
   },
   {
    "duration": 1678,
    "start_time": "2022-02-17T14:32:42.641Z"
   },
   {
    "duration": 23,
    "start_time": "2022-02-17T14:32:44.322Z"
   },
   {
    "duration": 355,
    "start_time": "2022-02-17T14:32:44.348Z"
   },
   {
    "duration": 25,
    "start_time": "2022-02-17T14:32:44.705Z"
   },
   {
    "duration": 971,
    "start_time": "2022-02-17T14:32:44.732Z"
   },
   {
    "duration": 28,
    "start_time": "2022-02-17T14:32:45.708Z"
   },
   {
    "duration": 26,
    "start_time": "2022-02-17T14:32:45.738Z"
   },
   {
    "duration": 640,
    "start_time": "2022-02-17T14:32:45.767Z"
   },
   {
    "duration": 14,
    "start_time": "2022-02-17T14:32:46.409Z"
   },
   {
    "duration": 24,
    "start_time": "2022-02-17T14:32:46.425Z"
   },
   {
    "duration": 9,
    "start_time": "2022-02-17T14:32:46.450Z"
   },
   {
    "duration": 555,
    "start_time": "2022-02-17T14:32:46.461Z"
   },
   {
    "duration": 7,
    "start_time": "2022-02-17T14:32:47.018Z"
   },
   {
    "duration": 497,
    "start_time": "2022-02-17T14:32:47.027Z"
   },
   {
    "duration": 11,
    "start_time": "2022-02-17T14:32:47.526Z"
   },
   {
    "duration": 3991,
    "start_time": "2022-02-17T14:32:47.539Z"
   },
   {
    "duration": 56,
    "start_time": "2022-02-17T14:32:51.532Z"
   },
   {
    "duration": 433,
    "start_time": "2022-02-17T14:32:51.590Z"
   },
   {
    "duration": 15,
    "start_time": "2022-02-17T14:32:52.025Z"
   },
   {
    "duration": 19,
    "start_time": "2022-02-17T14:32:52.042Z"
   },
   {
    "duration": 13,
    "start_time": "2022-02-17T14:35:13.316Z"
   },
   {
    "duration": 20,
    "start_time": "2022-02-17T14:35:20.043Z"
   },
   {
    "duration": 332,
    "start_time": "2022-02-17T14:35:50.123Z"
   },
   {
    "duration": 726,
    "start_time": "2022-02-17T14:36:09.642Z"
   },
   {
    "duration": 219,
    "start_time": "2022-02-17T14:36:15.346Z"
   },
   {
    "duration": 13,
    "start_time": "2022-02-17T14:37:14.418Z"
   },
   {
    "duration": 17,
    "start_time": "2022-02-17T14:37:29.418Z"
   },
   {
    "duration": 18,
    "start_time": "2022-02-17T14:38:00.321Z"
   },
   {
    "duration": 18,
    "start_time": "2022-02-17T14:38:33.552Z"
   },
   {
    "duration": 336,
    "start_time": "2022-02-17T14:38:59.664Z"
   },
   {
    "duration": 324,
    "start_time": "2022-02-17T14:39:45.119Z"
   },
   {
    "duration": 311,
    "start_time": "2022-02-17T14:41:38.621Z"
   },
   {
    "duration": 19,
    "start_time": "2022-02-17T14:41:40.398Z"
   },
   {
    "duration": 18,
    "start_time": "2022-02-17T14:42:09.423Z"
   },
   {
    "duration": 29,
    "start_time": "2022-02-17T14:42:16.269Z"
   },
   {
    "duration": 20,
    "start_time": "2022-02-17T14:42:22.164Z"
   },
   {
    "duration": 21,
    "start_time": "2022-02-17T14:42:25.325Z"
   },
   {
    "duration": 847,
    "start_time": "2022-02-17T14:43:09.844Z"
   },
   {
    "duration": 692,
    "start_time": "2022-02-17T14:43:16.101Z"
   },
   {
    "duration": 72,
    "start_time": "2022-02-17T14:44:36.875Z"
   },
   {
    "duration": 82,
    "start_time": "2022-02-17T14:44:42.236Z"
   },
   {
    "duration": 98,
    "start_time": "2022-02-17T14:44:45.179Z"
   },
   {
    "duration": 70,
    "start_time": "2022-02-17T14:44:48.098Z"
   },
   {
    "duration": 67,
    "start_time": "2022-02-17T14:45:12.043Z"
   },
   {
    "duration": 759,
    "start_time": "2022-02-17T14:45:18.795Z"
   },
   {
    "duration": 515,
    "start_time": "2022-02-17T14:45:25.450Z"
   },
   {
    "duration": 1537,
    "start_time": "2022-02-17T14:45:37.243Z"
   },
   {
    "duration": 897,
    "start_time": "2022-02-17T14:45:54.634Z"
   },
   {
    "duration": 468,
    "start_time": "2022-02-17T14:46:00.658Z"
   },
   {
    "duration": 444,
    "start_time": "2022-02-17T14:46:16.194Z"
   },
   {
    "duration": 31,
    "start_time": "2022-02-17T14:48:20.632Z"
   },
   {
    "duration": 31,
    "start_time": "2022-02-17T14:48:57.471Z"
   },
   {
    "duration": 31,
    "start_time": "2022-02-17T14:49:03.216Z"
   },
   {
    "duration": 567,
    "start_time": "2022-02-17T14:50:03.070Z"
   },
   {
    "duration": 553,
    "start_time": "2022-02-17T14:50:31.495Z"
   },
   {
    "duration": 803,
    "start_time": "2022-02-17T14:52:38.741Z"
   },
   {
    "duration": 580,
    "start_time": "2022-02-17T14:52:44.556Z"
   },
   {
    "duration": 43,
    "start_time": "2022-02-17T15:23:53.319Z"
   },
   {
    "duration": 48,
    "start_time": "2022-02-17T15:24:11.629Z"
   },
   {
    "duration": 53,
    "start_time": "2022-02-17T15:24:26.029Z"
   },
   {
    "duration": 38,
    "start_time": "2022-02-17T15:24:30.084Z"
   },
   {
    "duration": 46,
    "start_time": "2022-02-17T15:24:53.316Z"
   },
   {
    "duration": 221,
    "start_time": "2022-02-17T15:25:18.636Z"
   },
   {
    "duration": 217,
    "start_time": "2022-02-17T15:25:44.220Z"
   },
   {
    "duration": 45,
    "start_time": "2022-02-17T15:26:09.676Z"
   },
   {
    "duration": 451,
    "start_time": "2022-02-17T15:26:16.475Z"
   },
   {
    "duration": 369,
    "start_time": "2022-02-17T15:26:45.786Z"
   },
   {
    "duration": 703,
    "start_time": "2022-02-17T15:27:46.666Z"
   },
   {
    "duration": 49,
    "start_time": "2022-02-17T15:30:00.169Z"
   },
   {
    "duration": 204,
    "start_time": "2022-02-17T15:30:07.416Z"
   },
   {
    "duration": 397,
    "start_time": "2022-02-17T15:30:15.960Z"
   },
   {
    "duration": 246,
    "start_time": "2022-02-18T05:52:39.572Z"
   },
   {
    "duration": 1212,
    "start_time": "2022-02-18T05:52:43.499Z"
   },
   {
    "duration": 23,
    "start_time": "2022-02-18T05:52:44.713Z"
   },
   {
    "duration": 5,
    "start_time": "2022-02-18T05:52:44.738Z"
   },
   {
    "duration": 7,
    "start_time": "2022-02-18T05:52:44.744Z"
   },
   {
    "duration": 25,
    "start_time": "2022-02-18T05:52:44.752Z"
   },
   {
    "duration": 5,
    "start_time": "2022-02-18T05:52:44.779Z"
   },
   {
    "duration": 35,
    "start_time": "2022-02-18T05:52:44.785Z"
   },
   {
    "duration": 14,
    "start_time": "2022-02-18T05:52:44.824Z"
   },
   {
    "duration": 13,
    "start_time": "2022-02-18T05:52:44.840Z"
   },
   {
    "duration": 4,
    "start_time": "2022-02-18T05:52:44.855Z"
   },
   {
    "duration": 6,
    "start_time": "2022-02-18T05:52:44.861Z"
   },
   {
    "duration": 16,
    "start_time": "2022-02-18T05:52:44.869Z"
   },
   {
    "duration": 37,
    "start_time": "2022-02-18T05:52:44.886Z"
   },
   {
    "duration": 4,
    "start_time": "2022-02-18T05:52:44.925Z"
   },
   {
    "duration": 10,
    "start_time": "2022-02-18T05:52:44.931Z"
   },
   {
    "duration": 6,
    "start_time": "2022-02-18T05:52:44.943Z"
   },
   {
    "duration": 9,
    "start_time": "2022-02-18T05:52:44.950Z"
   },
   {
    "duration": 12,
    "start_time": "2022-02-18T05:52:44.960Z"
   },
   {
    "duration": 9,
    "start_time": "2022-02-18T05:52:44.974Z"
   },
   {
    "duration": 6,
    "start_time": "2022-02-18T05:52:44.985Z"
   },
   {
    "duration": 27,
    "start_time": "2022-02-18T05:52:44.993Z"
   },
   {
    "duration": 27,
    "start_time": "2022-02-18T05:52:45.022Z"
   },
   {
    "duration": 24,
    "start_time": "2022-02-18T05:52:45.053Z"
   },
   {
    "duration": 41,
    "start_time": "2022-02-18T05:52:45.079Z"
   },
   {
    "duration": 335,
    "start_time": "2022-02-18T05:52:45.121Z"
   },
   {
    "duration": 15,
    "start_time": "2022-02-18T05:52:45.457Z"
   },
   {
    "duration": 17,
    "start_time": "2022-02-18T05:52:45.474Z"
   },
   {
    "duration": 1496,
    "start_time": "2022-02-18T05:52:45.493Z"
   },
   {
    "duration": 32,
    "start_time": "2022-02-18T05:52:46.991Z"
   },
   {
    "duration": 172,
    "start_time": "2022-02-18T05:52:47.024Z"
   },
   {
    "duration": 29,
    "start_time": "2022-02-18T05:52:47.198Z"
   },
   {
    "duration": 939,
    "start_time": "2022-02-18T05:52:47.229Z"
   },
   {
    "duration": 25,
    "start_time": "2022-02-18T05:52:48.169Z"
   },
   {
    "duration": 36,
    "start_time": "2022-02-18T05:52:48.195Z"
   },
   {
    "duration": 521,
    "start_time": "2022-02-18T05:52:48.233Z"
   },
   {
    "duration": 10,
    "start_time": "2022-02-18T05:52:48.756Z"
   },
   {
    "duration": 21,
    "start_time": "2022-02-18T05:52:48.768Z"
   },
   {
    "duration": 28,
    "start_time": "2022-02-18T05:52:48.790Z"
   },
   {
    "duration": 440,
    "start_time": "2022-02-18T05:52:48.820Z"
   },
   {
    "duration": 5,
    "start_time": "2022-02-18T05:52:49.262Z"
   },
   {
    "duration": 674,
    "start_time": "2022-02-18T05:52:49.268Z"
   },
   {
    "duration": 9,
    "start_time": "2022-02-18T05:52:49.944Z"
   },
   {
    "duration": 3986,
    "start_time": "2022-02-18T05:52:49.954Z"
   },
   {
    "duration": 48,
    "start_time": "2022-02-18T05:52:53.942Z"
   },
   {
    "duration": 391,
    "start_time": "2022-02-18T05:52:53.992Z"
   },
   {
    "duration": 14,
    "start_time": "2022-02-18T05:52:54.385Z"
   },
   {
    "duration": 55,
    "start_time": "2022-02-18T05:52:54.401Z"
   },
   {
    "duration": 357,
    "start_time": "2022-02-18T05:52:54.458Z"
   },
   {
    "duration": 524,
    "start_time": "2022-02-18T05:52:54.819Z"
   },
   {
    "duration": 85,
    "start_time": "2022-02-18T05:53:14.396Z"
   },
   {
    "duration": 82,
    "start_time": "2022-02-18T05:53:20.732Z"
   },
   {
    "duration": 507,
    "start_time": "2022-02-18T05:53:25.124Z"
   },
   {
    "duration": 68,
    "start_time": "2022-02-18T05:53:31.381Z"
   },
   {
    "duration": 247,
    "start_time": "2022-02-18T05:53:37.244Z"
   },
   {
    "duration": 497,
    "start_time": "2022-02-18T05:53:43.204Z"
   },
   {
    "duration": 569,
    "start_time": "2022-02-18T05:54:08.309Z"
   },
   {
    "duration": 555,
    "start_time": "2022-02-18T05:54:13.188Z"
   },
   {
    "duration": 499,
    "start_time": "2022-02-18T05:54:20.468Z"
   },
   {
    "duration": 543,
    "start_time": "2022-02-18T05:54:25.995Z"
   },
   {
    "duration": 494,
    "start_time": "2022-02-18T05:54:52.555Z"
   },
   {
    "duration": 43,
    "start_time": "2022-02-18T05:55:23.156Z"
   },
   {
    "duration": 521,
    "start_time": "2022-02-18T05:56:03.299Z"
   },
   {
    "duration": 660,
    "start_time": "2022-02-18T05:56:50.162Z"
   },
   {
    "duration": 571,
    "start_time": "2022-02-18T05:56:59.202Z"
   },
   {
    "duration": 475,
    "start_time": "2022-02-18T05:57:17.586Z"
   },
   {
    "duration": 657,
    "start_time": "2022-02-18T05:57:35.082Z"
   },
   {
    "duration": 523,
    "start_time": "2022-02-18T05:57:42.674Z"
   },
   {
    "duration": 462,
    "start_time": "2022-02-18T05:57:49.705Z"
   },
   {
    "duration": 477,
    "start_time": "2022-02-18T05:57:58.368Z"
   },
   {
    "duration": 488,
    "start_time": "2022-02-18T05:58:05.210Z"
   },
   {
    "duration": 755,
    "start_time": "2022-02-18T05:58:27.905Z"
   },
   {
    "duration": 8,
    "start_time": "2022-02-18T05:59:13.104Z"
   },
   {
    "duration": 568,
    "start_time": "2022-02-18T06:00:14.607Z"
   },
   {
    "duration": 865,
    "start_time": "2022-02-18T06:27:59.066Z"
   },
   {
    "duration": 520,
    "start_time": "2022-02-18T06:28:08.475Z"
   },
   {
    "duration": 8,
    "start_time": "2022-02-18T06:28:34.842Z"
   },
   {
    "duration": 114,
    "start_time": "2022-02-18T06:28:53.546Z"
   },
   {
    "duration": 109,
    "start_time": "2022-02-18T06:28:59.178Z"
   },
   {
    "duration": 82,
    "start_time": "2022-02-18T06:29:14.225Z"
   },
   {
    "duration": 149,
    "start_time": "2022-02-18T06:29:21.336Z"
   },
   {
    "duration": 81,
    "start_time": "2022-02-18T06:30:15.368Z"
   },
   {
    "duration": 35,
    "start_time": "2022-02-18T06:30:35.669Z"
   },
   {
    "duration": 20,
    "start_time": "2022-02-18T06:30:35.705Z"
   },
   {
    "duration": 4,
    "start_time": "2022-02-18T06:30:35.727Z"
   },
   {
    "duration": 18,
    "start_time": "2022-02-18T06:30:35.733Z"
   },
   {
    "duration": 25,
    "start_time": "2022-02-18T06:30:35.753Z"
   },
   {
    "duration": 5,
    "start_time": "2022-02-18T06:30:35.780Z"
   },
   {
    "duration": 5,
    "start_time": "2022-02-18T06:30:35.820Z"
   },
   {
    "duration": 19,
    "start_time": "2022-02-18T06:30:35.828Z"
   },
   {
    "duration": 11,
    "start_time": "2022-02-18T06:30:35.849Z"
   },
   {
    "duration": 4,
    "start_time": "2022-02-18T06:30:35.862Z"
   },
   {
    "duration": 7,
    "start_time": "2022-02-18T06:30:35.868Z"
   },
   {
    "duration": 15,
    "start_time": "2022-02-18T06:30:35.877Z"
   },
   {
    "duration": 31,
    "start_time": "2022-02-18T06:30:35.894Z"
   },
   {
    "duration": 5,
    "start_time": "2022-02-18T06:30:35.926Z"
   },
   {
    "duration": 8,
    "start_time": "2022-02-18T06:30:35.932Z"
   },
   {
    "duration": 10,
    "start_time": "2022-02-18T06:30:35.942Z"
   },
   {
    "duration": 11,
    "start_time": "2022-02-18T06:30:35.953Z"
   },
   {
    "duration": 10,
    "start_time": "2022-02-18T06:30:35.966Z"
   },
   {
    "duration": 9,
    "start_time": "2022-02-18T06:30:35.978Z"
   },
   {
    "duration": 11,
    "start_time": "2022-02-18T06:30:35.989Z"
   },
   {
    "duration": 20,
    "start_time": "2022-02-18T06:30:36.001Z"
   },
   {
    "duration": 28,
    "start_time": "2022-02-18T06:30:36.023Z"
   },
   {
    "duration": 22,
    "start_time": "2022-02-18T06:30:36.056Z"
   },
   {
    "duration": 46,
    "start_time": "2022-02-18T06:30:36.080Z"
   },
   {
    "duration": 416,
    "start_time": "2022-02-18T06:30:36.128Z"
   },
   {
    "duration": 14,
    "start_time": "2022-02-18T06:30:36.546Z"
   },
   {
    "duration": 16,
    "start_time": "2022-02-18T06:30:36.561Z"
   },
   {
    "duration": 1760,
    "start_time": "2022-02-18T06:30:36.579Z"
   },
   {
    "duration": 19,
    "start_time": "2022-02-18T06:30:38.341Z"
   },
   {
    "duration": 301,
    "start_time": "2022-02-18T06:30:38.362Z"
   },
   {
    "duration": 24,
    "start_time": "2022-02-18T06:30:38.665Z"
   },
   {
    "duration": 793,
    "start_time": "2022-02-18T06:30:38.691Z"
   },
   {
    "duration": 33,
    "start_time": "2022-02-18T06:30:39.486Z"
   },
   {
    "duration": 30,
    "start_time": "2022-02-18T06:30:39.521Z"
   },
   {
    "duration": 568,
    "start_time": "2022-02-18T06:30:39.553Z"
   },
   {
    "duration": 11,
    "start_time": "2022-02-18T06:30:40.123Z"
   },
   {
    "duration": 21,
    "start_time": "2022-02-18T06:30:40.136Z"
   },
   {
    "duration": 7,
    "start_time": "2022-02-18T06:30:40.159Z"
   },
   {
    "duration": 518,
    "start_time": "2022-02-18T06:30:40.168Z"
   },
   {
    "duration": 5,
    "start_time": "2022-02-18T06:30:40.688Z"
   },
   {
    "duration": 519,
    "start_time": "2022-02-18T06:30:40.695Z"
   },
   {
    "duration": 10,
    "start_time": "2022-02-18T06:30:41.218Z"
   },
   {
    "duration": 3869,
    "start_time": "2022-02-18T06:30:41.230Z"
   },
   {
    "duration": 61,
    "start_time": "2022-02-18T06:30:45.101Z"
   },
   {
    "duration": 401,
    "start_time": "2022-02-18T06:30:45.164Z"
   },
   {
    "duration": 16,
    "start_time": "2022-02-18T06:30:45.568Z"
   },
   {
    "duration": 167,
    "start_time": "2022-02-18T06:30:45.586Z"
   },
   {
    "duration": -165,
    "start_time": "2022-02-18T06:30:45.920Z"
   },
   {
    "duration": -168,
    "start_time": "2022-02-18T06:30:45.924Z"
   },
   {
    "duration": 43,
    "start_time": "2022-02-18T06:31:10.959Z"
   },
   {
    "duration": 645,
    "start_time": "2022-02-18T06:31:18.336Z"
   },
   {
    "duration": 401,
    "start_time": "2022-02-18T06:31:24.535Z"
   },
   {
    "duration": 45,
    "start_time": "2022-02-18T06:31:47.045Z"
   },
   {
    "duration": 7,
    "start_time": "2022-02-18T06:31:54.183Z"
   },
   {
    "duration": 756,
    "start_time": "2022-02-18T06:31:58.840Z"
   },
   {
    "duration": 10,
    "start_time": "2022-02-18T07:07:52.788Z"
   },
   {
    "duration": 43,
    "start_time": "2022-02-18T07:09:01.708Z"
   },
   {
    "duration": 861,
    "start_time": "2022-02-18T07:09:06.299Z"
   },
   {
    "duration": 11,
    "start_time": "2022-02-18T07:10:06.938Z"
   },
   {
    "duration": 42,
    "start_time": "2022-02-18T07:11:47.186Z"
   },
   {
    "duration": 40,
    "start_time": "2022-02-18T07:13:27.577Z"
   },
   {
    "duration": 588,
    "start_time": "2022-02-18T07:13:32.153Z"
   },
   {
    "duration": 8,
    "start_time": "2022-02-18T07:13:41.424Z"
   },
   {
    "duration": 9,
    "start_time": "2022-02-18T07:28:52.068Z"
   },
   {
    "duration": 9,
    "start_time": "2022-02-18T07:42:48.226Z"
   },
   {
    "duration": 268,
    "start_time": "2022-02-18T07:42:52.890Z"
   },
   {
    "duration": 8,
    "start_time": "2022-02-18T07:42:56.034Z"
   },
   {
    "duration": 600,
    "start_time": "2022-02-18T07:43:19.273Z"
   },
   {
    "duration": 578,
    "start_time": "2022-02-18T07:43:30.386Z"
   },
   {
    "duration": 6,
    "start_time": "2022-02-18T07:44:24.344Z"
   },
   {
    "duration": 12,
    "start_time": "2022-02-18T07:44:27.680Z"
   },
   {
    "duration": 9,
    "start_time": "2022-02-18T07:44:32.248Z"
   },
   {
    "duration": 33,
    "start_time": "2022-02-18T07:44:34.182Z"
   },
   {
    "duration": 20,
    "start_time": "2022-02-18T07:44:34.217Z"
   },
   {
    "duration": 16,
    "start_time": "2022-02-18T07:44:34.239Z"
   },
   {
    "duration": 24,
    "start_time": "2022-02-18T07:44:34.257Z"
   },
   {
    "duration": 52,
    "start_time": "2022-02-18T07:44:34.283Z"
   },
   {
    "duration": 6,
    "start_time": "2022-02-18T07:44:34.336Z"
   },
   {
    "duration": 22,
    "start_time": "2022-02-18T07:44:34.344Z"
   },
   {
    "duration": 27,
    "start_time": "2022-02-18T07:44:34.369Z"
   },
   {
    "duration": 36,
    "start_time": "2022-02-18T07:44:34.398Z"
   },
   {
    "duration": 9,
    "start_time": "2022-02-18T07:44:34.436Z"
   },
   {
    "duration": 15,
    "start_time": "2022-02-18T07:44:34.447Z"
   },
   {
    "duration": 27,
    "start_time": "2022-02-18T07:44:34.464Z"
   },
   {
    "duration": 9,
    "start_time": "2022-02-18T07:44:34.493Z"
   },
   {
    "duration": 5,
    "start_time": "2022-02-18T07:44:34.504Z"
   },
   {
    "duration": 9,
    "start_time": "2022-02-18T07:44:34.510Z"
   },
   {
    "duration": 5,
    "start_time": "2022-02-18T07:44:34.520Z"
   },
   {
    "duration": 7,
    "start_time": "2022-02-18T07:44:34.527Z"
   },
   {
    "duration": 8,
    "start_time": "2022-02-18T07:44:34.536Z"
   },
   {
    "duration": 7,
    "start_time": "2022-02-18T07:44:34.546Z"
   },
   {
    "duration": 7,
    "start_time": "2022-02-18T07:44:34.554Z"
   },
   {
    "duration": 8,
    "start_time": "2022-02-18T07:44:34.563Z"
   },
   {
    "duration": 58,
    "start_time": "2022-02-18T07:44:34.573Z"
   },
   {
    "duration": 20,
    "start_time": "2022-02-18T07:44:34.635Z"
   },
   {
    "duration": 13,
    "start_time": "2022-02-18T07:44:34.657Z"
   },
   {
    "duration": 421,
    "start_time": "2022-02-18T07:44:34.672Z"
   },
   {
    "duration": 24,
    "start_time": "2022-02-18T07:44:35.095Z"
   },
   {
    "duration": 15,
    "start_time": "2022-02-18T07:44:35.121Z"
   },
   {
    "duration": 1804,
    "start_time": "2022-02-18T07:44:35.138Z"
   },
   {
    "duration": 20,
    "start_time": "2022-02-18T07:44:36.944Z"
   },
   {
    "duration": 311,
    "start_time": "2022-02-18T07:44:36.965Z"
   },
   {
    "duration": 24,
    "start_time": "2022-02-18T07:44:37.278Z"
   },
   {
    "duration": 731,
    "start_time": "2022-02-18T07:44:37.319Z"
   },
   {
    "duration": 26,
    "start_time": "2022-02-18T07:44:38.052Z"
   },
   {
    "duration": 41,
    "start_time": "2022-02-18T07:44:38.080Z"
   },
   {
    "duration": 543,
    "start_time": "2022-02-18T07:44:38.123Z"
   },
   {
    "duration": 12,
    "start_time": "2022-02-18T07:44:38.668Z"
   },
   {
    "duration": 38,
    "start_time": "2022-02-18T07:44:38.681Z"
   },
   {
    "duration": 17,
    "start_time": "2022-02-18T07:44:38.721Z"
   },
   {
    "duration": 464,
    "start_time": "2022-02-18T07:44:38.740Z"
   },
   {
    "duration": 13,
    "start_time": "2022-02-18T07:44:39.206Z"
   },
   {
    "duration": 467,
    "start_time": "2022-02-18T07:44:39.221Z"
   },
   {
    "duration": 10,
    "start_time": "2022-02-18T07:44:39.690Z"
   },
   {
    "duration": 3930,
    "start_time": "2022-02-18T07:44:39.702Z"
   },
   {
    "duration": 48,
    "start_time": "2022-02-18T07:44:43.634Z"
   },
   {
    "duration": 382,
    "start_time": "2022-02-18T07:44:43.684Z"
   },
   {
    "duration": 51,
    "start_time": "2022-02-18T07:44:44.068Z"
   },
   {
    "duration": 606,
    "start_time": "2022-02-18T07:44:44.121Z"
   },
   {
    "duration": 8,
    "start_time": "2022-02-18T07:44:44.729Z"
   },
   {
    "duration": 383,
    "start_time": "2022-02-18T07:45:16.145Z"
   },
   {
    "duration": 553,
    "start_time": "2022-02-18T07:45:43.913Z"
   },
   {
    "duration": 637,
    "start_time": "2022-02-18T08:09:15.514Z"
   },
   {
    "duration": 949,
    "start_time": "2022-02-18T08:09:22.710Z"
   },
   {
    "duration": 804,
    "start_time": "2022-02-18T08:46:53.355Z"
   },
   {
    "duration": 777,
    "start_time": "2022-02-18T08:50:45.582Z"
   },
   {
    "duration": 47,
    "start_time": "2022-02-18T08:51:25.598Z"
   },
   {
    "duration": 106,
    "start_time": "2022-02-18T09:06:30.083Z"
   },
   {
    "duration": 21,
    "start_time": "2022-02-18T09:06:33.186Z"
   },
   {
    "duration": 216,
    "start_time": "2022-02-18T09:39:33.642Z"
   },
   {
    "duration": 212,
    "start_time": "2022-02-18T09:39:36.937Z"
   },
   {
    "duration": 4,
    "start_time": "2022-02-18T09:39:41.001Z"
   },
   {
    "duration": 3,
    "start_time": "2022-02-18T09:43:38.318Z"
   },
   {
    "duration": 213,
    "start_time": "2022-02-18T09:43:55.573Z"
   },
   {
    "duration": 26,
    "start_time": "2022-02-18T09:44:24.229Z"
   },
   {
    "duration": 30,
    "start_time": "2022-02-18T09:44:35.695Z"
   },
   {
    "duration": 39,
    "start_time": "2022-02-18T09:44:53.533Z"
   },
   {
    "duration": 2468,
    "start_time": "2022-02-18T09:48:08.923Z"
   },
   {
    "duration": 1141,
    "start_time": "2022-02-18T09:49:27.769Z"
   },
   {
    "duration": 970,
    "start_time": "2022-02-18T09:54:12.886Z"
   },
   {
    "duration": 1912,
    "start_time": "2022-02-18T09:54:33.094Z"
   },
   {
    "duration": 1429,
    "start_time": "2022-02-18T09:55:23.293Z"
   },
   {
    "duration": 1123,
    "start_time": "2022-02-18T09:55:52.628Z"
   },
   {
    "duration": 204,
    "start_time": "2022-02-18T09:56:08.324Z"
   },
   {
    "duration": 254,
    "start_time": "2022-02-18T09:56:20.020Z"
   },
   {
    "duration": 4,
    "start_time": "2022-02-18T09:56:22.820Z"
   },
   {
    "duration": 207,
    "start_time": "2022-02-18T09:56:27.612Z"
   },
   {
    "duration": 212,
    "start_time": "2022-02-18T09:56:38.259Z"
   },
   {
    "duration": 308,
    "start_time": "2022-02-18T09:56:40.563Z"
   },
   {
    "duration": 6,
    "start_time": "2022-02-18T09:56:51.115Z"
   },
   {
    "duration": 4,
    "start_time": "2022-02-18T09:56:59.091Z"
   },
   {
    "duration": 279,
    "start_time": "2022-02-18T09:57:21.405Z"
   },
   {
    "duration": 202,
    "start_time": "2022-02-18T09:58:17.618Z"
   },
   {
    "duration": 4,
    "start_time": "2022-02-18T09:58:44.618Z"
   },
   {
    "duration": 203,
    "start_time": "2022-02-18T09:58:53.010Z"
   },
   {
    "duration": 4,
    "start_time": "2022-02-18T09:58:56.826Z"
   },
   {
    "duration": 221,
    "start_time": "2022-02-18T09:59:02.634Z"
   },
   {
    "duration": 215,
    "start_time": "2022-02-18T10:00:52.177Z"
   },
   {
    "duration": 29,
    "start_time": "2022-02-18T10:01:00.432Z"
   },
   {
    "duration": 45,
    "start_time": "2022-02-18T10:01:05.968Z"
   },
   {
    "duration": 1128,
    "start_time": "2022-02-18T10:01:45.024Z"
   },
   {
    "duration": 1185,
    "start_time": "2022-02-18T10:02:50.903Z"
   },
   {
    "duration": 1593,
    "start_time": "2022-02-18T10:03:00.195Z"
   },
   {
    "duration": 1138,
    "start_time": "2022-02-18T10:03:36.687Z"
   },
   {
    "duration": 2317,
    "start_time": "2022-02-18T10:03:52.846Z"
   },
   {
    "duration": 1149,
    "start_time": "2022-02-18T10:04:30.303Z"
   },
   {
    "duration": 72,
    "start_time": "2022-02-18T10:06:22.984Z"
   },
   {
    "duration": 427,
    "start_time": "2022-02-18T10:06:30.344Z"
   },
   {
    "duration": 4,
    "start_time": "2022-02-18T10:07:26.659Z"
   },
   {
    "duration": 4,
    "start_time": "2022-02-18T10:07:36.787Z"
   },
   {
    "duration": 2009,
    "start_time": "2022-02-18T10:08:02.588Z"
   },
   {
    "duration": 2362,
    "start_time": "2022-02-18T10:11:44.624Z"
   },
   {
    "duration": 3501,
    "start_time": "2022-02-18T10:14:19.919Z"
   },
   {
    "duration": 2290,
    "start_time": "2022-02-18T10:17:20.436Z"
   },
   {
    "duration": 2632,
    "start_time": "2022-02-18T10:17:59.932Z"
   },
   {
    "duration": 840,
    "start_time": "2022-02-18T10:22:19.281Z"
   },
   {
    "duration": 67,
    "start_time": "2022-02-18T10:23:49.839Z"
   },
   {
    "duration": 892,
    "start_time": "2022-02-18T10:23:58.934Z"
   },
   {
    "duration": 1104,
    "start_time": "2022-02-18T10:28:04.988Z"
   },
   {
    "duration": 789,
    "start_time": "2022-02-18T10:28:27.587Z"
   },
   {
    "duration": 777,
    "start_time": "2022-02-18T10:28:55.394Z"
   },
   {
    "duration": 1752,
    "start_time": "2022-02-18T10:29:18.474Z"
   },
   {
    "duration": 826,
    "start_time": "2022-02-18T10:49:22.283Z"
   },
   {
    "duration": 1602,
    "start_time": "2022-02-18T10:49:42.619Z"
   },
   {
    "duration": 941,
    "start_time": "2022-02-18T10:49:49.307Z"
   },
   {
    "duration": 825,
    "start_time": "2022-02-18T10:49:58.523Z"
   },
   {
    "duration": 18,
    "start_time": "2022-02-18T10:50:49.017Z"
   },
   {
    "duration": 22,
    "start_time": "2022-02-18T10:50:51.025Z"
   },
   {
    "duration": 787,
    "start_time": "2022-02-18T10:51:08.553Z"
   },
   {
    "duration": 3,
    "start_time": "2022-02-18T10:51:58.488Z"
   },
   {
    "duration": 814,
    "start_time": "2022-02-18T10:52:10.671Z"
   },
   {
    "duration": 808,
    "start_time": "2022-02-18T11:27:53.326Z"
   },
   {
    "duration": 871,
    "start_time": "2022-02-18T12:04:01.860Z"
   },
   {
    "duration": 4,
    "start_time": "2022-02-18T12:47:20.614Z"
   },
   {
    "duration": 1410,
    "start_time": "2022-02-18T12:47:24.530Z"
   },
   {
    "duration": 5,
    "start_time": "2022-02-18T12:47:34.018Z"
   },
   {
    "duration": 1126,
    "start_time": "2022-02-18T12:47:41.163Z"
   },
   {
    "duration": 7,
    "start_time": "2022-02-18T12:51:50.159Z"
   },
   {
    "duration": 1201,
    "start_time": "2022-02-18T12:51:52.423Z"
   },
   {
    "duration": 4,
    "start_time": "2022-02-18T12:52:09.800Z"
   },
   {
    "duration": 1253,
    "start_time": "2022-02-18T12:52:12.743Z"
   },
   {
    "duration": 4,
    "start_time": "2022-02-18T12:52:23.327Z"
   },
   {
    "duration": 439,
    "start_time": "2022-02-18T12:52:25.071Z"
   },
   {
    "duration": 5,
    "start_time": "2022-02-18T12:52:31.559Z"
   },
   {
    "duration": 435,
    "start_time": "2022-02-18T12:52:35.303Z"
   },
   {
    "duration": 7,
    "start_time": "2022-02-18T12:52:55.760Z"
   },
   {
    "duration": 811,
    "start_time": "2022-02-18T12:52:57.582Z"
   },
   {
    "duration": 684,
    "start_time": "2022-02-18T12:54:25.965Z"
   },
   {
    "duration": 691,
    "start_time": "2022-02-18T12:54:32.638Z"
   },
   {
    "duration": 207,
    "start_time": "2022-02-18T12:55:40.422Z"
   },
   {
    "duration": 23,
    "start_time": "2022-02-18T12:55:42.228Z"
   },
   {
    "duration": 235,
    "start_time": "2022-02-18T12:56:27.452Z"
   },
   {
    "duration": 516,
    "start_time": "2022-02-18T12:56:39.140Z"
   },
   {
    "duration": 68,
    "start_time": "2022-02-18T12:56:49.668Z"
   },
   {
    "duration": 35,
    "start_time": "2022-02-18T12:57:30.108Z"
   },
   {
    "duration": 15,
    "start_time": "2022-02-18T12:57:34.524Z"
   },
   {
    "duration": 575,
    "start_time": "2022-02-18T12:57:44.219Z"
   },
   {
    "duration": 29,
    "start_time": "2022-02-18T12:57:50.123Z"
   },
   {
    "duration": 231,
    "start_time": "2022-02-18T12:57:57.091Z"
   },
   {
    "duration": 287,
    "start_time": "2022-02-18T12:58:01.703Z"
   },
   {
    "duration": 10,
    "start_time": "2022-02-18T12:58:27.620Z"
   },
   {
    "duration": 299,
    "start_time": "2022-02-18T12:58:33.587Z"
   },
   {
    "duration": 211,
    "start_time": "2022-02-18T12:58:39.546Z"
   },
   {
    "duration": 249,
    "start_time": "2022-02-18T12:58:42.667Z"
   },
   {
    "duration": 293,
    "start_time": "2022-02-18T12:58:58.778Z"
   },
   {
    "duration": 226,
    "start_time": "2022-02-18T12:59:10.594Z"
   },
   {
    "duration": 15,
    "start_time": "2022-02-18T12:59:12.457Z"
   },
   {
    "duration": 14,
    "start_time": "2022-02-18T12:59:18.370Z"
   },
   {
    "duration": 215,
    "start_time": "2022-02-18T12:59:21.977Z"
   },
   {
    "duration": 72,
    "start_time": "2022-02-18T14:34:11.069Z"
   },
   {
    "duration": 14,
    "start_time": "2022-02-18T14:46:17.303Z"
   },
   {
    "duration": 16,
    "start_time": "2022-02-18T14:46:59.271Z"
   },
   {
    "duration": 14,
    "start_time": "2022-02-18T14:47:07.415Z"
   },
   {
    "duration": 5,
    "start_time": "2022-02-18T14:48:26.551Z"
   },
   {
    "duration": 6,
    "start_time": "2022-02-18T14:49:03.934Z"
   },
   {
    "duration": 9,
    "start_time": "2022-02-18T14:49:07.837Z"
   },
   {
    "duration": 8,
    "start_time": "2022-02-18T14:49:11.894Z"
   },
   {
    "duration": 64,
    "start_time": "2022-02-18T14:49:26.583Z"
   },
   {
    "duration": 69,
    "start_time": "2022-02-18T14:49:28.637Z"
   },
   {
    "duration": 23,
    "start_time": "2022-02-18T14:49:33.957Z"
   },
   {
    "duration": 24,
    "start_time": "2022-02-18T14:49:57.294Z"
   },
   {
    "duration": 8,
    "start_time": "2022-02-18T14:50:02.238Z"
   },
   {
    "duration": 9,
    "start_time": "2022-02-18T14:50:41.461Z"
   },
   {
    "duration": 8,
    "start_time": "2022-02-18T14:50:51.844Z"
   },
   {
    "duration": 14,
    "start_time": "2022-02-18T14:52:01.973Z"
   },
   {
    "duration": 10,
    "start_time": "2022-02-18T14:52:38.244Z"
   },
   {
    "duration": 23,
    "start_time": "2022-02-18T14:53:06.243Z"
   },
   {
    "duration": 8,
    "start_time": "2022-02-18T14:53:15.787Z"
   },
   {
    "duration": 8,
    "start_time": "2022-02-18T14:53:50.523Z"
   },
   {
    "duration": 9,
    "start_time": "2022-02-18T14:55:26.371Z"
   },
   {
    "duration": 11,
    "start_time": "2022-02-18T14:55:39.266Z"
   },
   {
    "duration": 585,
    "start_time": "2022-02-18T14:58:45.423Z"
   },
   {
    "duration": 572,
    "start_time": "2022-02-18T14:58:58.376Z"
   },
   {
    "duration": 411,
    "start_time": "2022-02-18T14:59:11.288Z"
   },
   {
    "duration": 423,
    "start_time": "2022-02-18T14:59:15.687Z"
   },
   {
    "duration": 489,
    "start_time": "2022-02-18T14:59:22.094Z"
   },
   {
    "duration": 710,
    "start_time": "2022-02-18T14:59:30.399Z"
   },
   {
    "duration": 553,
    "start_time": "2022-02-18T14:59:38.742Z"
   },
   {
    "duration": 543,
    "start_time": "2022-02-18T14:59:43.030Z"
   },
   {
    "duration": 541,
    "start_time": "2022-02-18T14:59:52.470Z"
   },
   {
    "duration": 838,
    "start_time": "2022-02-18T14:59:55.934Z"
   },
   {
    "duration": 857,
    "start_time": "2022-02-18T15:00:04.431Z"
   },
   {
    "duration": 623,
    "start_time": "2022-02-18T15:00:10.566Z"
   },
   {
    "duration": 565,
    "start_time": "2022-02-18T15:00:41.662Z"
   },
   {
    "duration": 496,
    "start_time": "2022-02-18T15:00:48.398Z"
   },
   {
    "duration": 480,
    "start_time": "2022-02-18T15:00:50.269Z"
   },
   {
    "duration": 467,
    "start_time": "2022-02-18T15:00:54.526Z"
   },
   {
    "duration": 414,
    "start_time": "2022-02-18T15:00:57.893Z"
   },
   {
    "duration": 421,
    "start_time": "2022-02-18T15:01:02.934Z"
   },
   {
    "duration": 68,
    "start_time": "2022-02-18T15:01:07.566Z"
   },
   {
    "duration": 209,
    "start_time": "2022-02-18T15:01:10.157Z"
   },
   {
    "duration": 406,
    "start_time": "2022-02-18T15:01:19.686Z"
   },
   {
    "duration": 70,
    "start_time": "2022-02-18T15:01:23.405Z"
   },
   {
    "duration": 394,
    "start_time": "2022-02-18T15:01:26.861Z"
   },
   {
    "duration": 412,
    "start_time": "2022-02-18T15:01:32.500Z"
   },
   {
    "duration": 418,
    "start_time": "2022-02-18T15:01:39.813Z"
   },
   {
    "duration": 404,
    "start_time": "2022-02-18T15:01:49.173Z"
   },
   {
    "duration": 225,
    "start_time": "2022-02-18T15:02:58.413Z"
   },
   {
    "duration": 33,
    "start_time": "2022-02-18T15:03:50.620Z"
   },
   {
    "duration": 6,
    "start_time": "2022-02-18T15:03:54.243Z"
   },
   {
    "duration": 8,
    "start_time": "2022-02-18T15:04:36.386Z"
   },
   {
    "duration": 16,
    "start_time": "2022-02-18T15:10:55.361Z"
   },
   {
    "duration": 298,
    "start_time": "2022-02-18T15:11:35.599Z"
   },
   {
    "duration": 16,
    "start_time": "2022-02-18T15:11:40.846Z"
   },
   {
    "duration": 5,
    "start_time": "2022-02-18T15:13:21.573Z"
   },
   {
    "duration": 4,
    "start_time": "2022-02-18T15:13:34.485Z"
   },
   {
    "duration": 10,
    "start_time": "2022-02-18T15:14:28.068Z"
   },
   {
    "duration": 10,
    "start_time": "2022-02-18T15:14:30.532Z"
   },
   {
    "duration": 8,
    "start_time": "2022-02-18T15:14:33.125Z"
   },
   {
    "duration": 9,
    "start_time": "2022-02-18T15:18:12.265Z"
   },
   {
    "duration": 8,
    "start_time": "2022-02-18T15:19:04.001Z"
   },
   {
    "duration": 1087,
    "start_time": "2022-02-28T07:13:44.926Z"
   },
   {
    "duration": 20,
    "start_time": "2022-02-28T07:13:46.014Z"
   },
   {
    "duration": 4,
    "start_time": "2022-02-28T07:13:46.035Z"
   },
   {
    "duration": 12,
    "start_time": "2022-02-28T07:13:46.041Z"
   },
   {
    "duration": 20,
    "start_time": "2022-02-28T07:13:46.054Z"
   },
   {
    "duration": 4,
    "start_time": "2022-02-28T07:13:46.075Z"
   },
   {
    "duration": 15,
    "start_time": "2022-02-28T07:13:46.080Z"
   },
   {
    "duration": 20,
    "start_time": "2022-02-28T07:13:46.097Z"
   },
   {
    "duration": 18,
    "start_time": "2022-02-28T07:13:46.118Z"
   },
   {
    "duration": 12,
    "start_time": "2022-02-28T07:13:46.137Z"
   },
   {
    "duration": 11,
    "start_time": "2022-02-28T07:13:46.150Z"
   },
   {
    "duration": 21,
    "start_time": "2022-02-28T07:13:46.162Z"
   },
   {
    "duration": 15,
    "start_time": "2022-02-28T07:13:46.184Z"
   },
   {
    "duration": 14,
    "start_time": "2022-02-28T07:13:46.201Z"
   },
   {
    "duration": 18,
    "start_time": "2022-02-28T07:13:46.216Z"
   },
   {
    "duration": 13,
    "start_time": "2022-02-28T07:13:46.235Z"
   },
   {
    "duration": 5,
    "start_time": "2022-02-28T07:13:46.250Z"
   },
   {
    "duration": 13,
    "start_time": "2022-02-28T07:13:46.256Z"
   },
   {
    "duration": 8,
    "start_time": "2022-02-28T07:13:46.271Z"
   },
   {
    "duration": 18,
    "start_time": "2022-02-28T07:13:46.280Z"
   },
   {
    "duration": 17,
    "start_time": "2022-02-28T07:13:46.300Z"
   },
   {
    "duration": 48,
    "start_time": "2022-02-28T07:13:46.319Z"
   },
   {
    "duration": 18,
    "start_time": "2022-02-28T07:13:46.370Z"
   },
   {
    "duration": 19,
    "start_time": "2022-02-28T07:13:46.390Z"
   },
   {
    "duration": 272,
    "start_time": "2022-02-28T07:13:46.410Z"
   },
   {
    "duration": 11,
    "start_time": "2022-02-28T07:13:46.684Z"
   },
   {
    "duration": 16,
    "start_time": "2022-02-28T07:13:46.697Z"
   },
   {
    "duration": 1262,
    "start_time": "2022-02-28T07:13:46.715Z"
   },
   {
    "duration": 16,
    "start_time": "2022-02-28T07:13:47.978Z"
   },
   {
    "duration": 142,
    "start_time": "2022-02-28T07:13:48.005Z"
   },
   {
    "duration": 17,
    "start_time": "2022-02-28T07:13:48.149Z"
   },
   {
    "duration": 564,
    "start_time": "2022-02-28T07:13:48.167Z"
   },
   {
    "duration": 20,
    "start_time": "2022-02-28T07:13:48.733Z"
   },
   {
    "duration": 39,
    "start_time": "2022-02-28T07:13:48.755Z"
   },
   {
    "duration": 438,
    "start_time": "2022-02-28T07:13:48.795Z"
   },
   {
    "duration": 10,
    "start_time": "2022-02-28T07:13:49.235Z"
   },
   {
    "duration": 30,
    "start_time": "2022-02-28T07:13:49.246Z"
   },
   {
    "duration": 23,
    "start_time": "2022-02-28T07:13:49.278Z"
   },
   {
    "duration": 399,
    "start_time": "2022-02-28T07:13:49.303Z"
   },
   {
    "duration": 4,
    "start_time": "2022-02-28T07:13:49.704Z"
   },
   {
    "duration": 404,
    "start_time": "2022-02-28T07:13:49.709Z"
   },
   {
    "duration": 11,
    "start_time": "2022-02-28T07:13:50.115Z"
   },
   {
    "duration": 5069,
    "start_time": "2022-02-28T07:13:50.128Z"
   },
   {
    "duration": 65,
    "start_time": "2022-02-28T07:13:55.199Z"
   },
   {
    "duration": 516,
    "start_time": "2022-02-28T07:13:55.266Z"
   },
   {
    "duration": 5,
    "start_time": "2022-02-28T07:13:55.784Z"
   },
   {
    "duration": 1031,
    "start_time": "2022-02-28T07:13:55.791Z"
   },
   {
    "duration": 732,
    "start_time": "2022-02-28T07:13:56.824Z"
   },
   {
    "duration": 690,
    "start_time": "2022-02-28T07:13:57.558Z"
   },
   {
    "duration": 7,
    "start_time": "2022-02-28T07:13:58.249Z"
   },
   {
    "duration": 5,
    "start_time": "2022-02-28T07:13:58.257Z"
   },
   {
    "duration": 5,
    "start_time": "2022-02-28T07:13:58.263Z"
   },
   {
    "duration": 7,
    "start_time": "2022-02-28T07:13:58.269Z"
   },
   {
    "duration": 6,
    "start_time": "2022-02-28T07:13:58.277Z"
   },
   {
    "duration": 525,
    "start_time": "2022-02-28T07:18:17.402Z"
   },
   {
    "duration": 21,
    "start_time": "2022-02-28T07:19:10.369Z"
   },
   {
    "duration": 4,
    "start_time": "2022-02-28T07:27:04.987Z"
   },
   {
    "duration": 734,
    "start_time": "2022-02-28T07:27:10.866Z"
   },
   {
    "duration": 636,
    "start_time": "2022-02-28T07:27:34.042Z"
   },
   {
    "duration": 635,
    "start_time": "2022-02-28T07:27:44.666Z"
   },
   {
    "duration": 4,
    "start_time": "2022-02-28T07:27:49.689Z"
   },
   {
    "duration": 5,
    "start_time": "2022-02-28T07:27:54.793Z"
   },
   {
    "duration": 2029,
    "start_time": "2022-02-28T07:27:56.858Z"
   },
   {
    "duration": 4,
    "start_time": "2022-02-28T07:28:09.242Z"
   },
   {
    "duration": 777,
    "start_time": "2022-02-28T07:28:11.433Z"
   },
   {
    "duration": 4,
    "start_time": "2022-02-28T07:28:21.945Z"
   },
   {
    "duration": 874,
    "start_time": "2022-02-28T07:28:24.033Z"
   },
   {
    "duration": 4,
    "start_time": "2022-02-28T07:28:29.137Z"
   },
   {
    "duration": 538,
    "start_time": "2022-02-28T07:28:32.505Z"
   },
   {
    "duration": 4,
    "start_time": "2022-02-28T07:28:42.193Z"
   },
   {
    "duration": 556,
    "start_time": "2022-02-28T07:28:43.898Z"
   },
   {
    "duration": 4,
    "start_time": "2022-02-28T07:28:51.305Z"
   },
   {
    "duration": 611,
    "start_time": "2022-02-28T07:28:52.673Z"
   },
   {
    "duration": 619,
    "start_time": "2022-02-28T07:28:59.352Z"
   },
   {
    "duration": 623,
    "start_time": "2022-02-28T07:29:09.664Z"
   },
   {
    "duration": 3228,
    "start_time": "2022-02-28T07:30:40.720Z"
   },
   {
    "duration": 3014,
    "start_time": "2022-02-28T07:31:02.256Z"
   },
   {
    "duration": 3044,
    "start_time": "2022-02-28T07:31:08.728Z"
   },
   {
    "duration": 19,
    "start_time": "2022-02-28T07:33:17.069Z"
   },
   {
    "duration": 18,
    "start_time": "2022-02-28T07:33:20.213Z"
   },
   {
    "duration": 18,
    "start_time": "2022-02-28T07:33:31.781Z"
   },
   {
    "duration": 358,
    "start_time": "2022-02-28T07:38:42.467Z"
   },
   {
    "duration": 328,
    "start_time": "2022-02-28T07:38:46.505Z"
   },
   {
    "duration": 323,
    "start_time": "2022-02-28T07:39:01.153Z"
   },
   {
    "duration": 406,
    "start_time": "2022-02-28T07:39:05.651Z"
   },
   {
    "duration": 6,
    "start_time": "2022-02-28T07:53:35.510Z"
   },
   {
    "duration": 9,
    "start_time": "2022-02-28T07:53:39.862Z"
   },
   {
    "duration": 31,
    "start_time": "2022-02-28T07:53:51.774Z"
   },
   {
    "duration": 34,
    "start_time": "2022-02-28T07:54:31.182Z"
   },
   {
    "duration": 52,
    "start_time": "2022-02-28T07:54:47.797Z"
   },
   {
    "duration": 43,
    "start_time": "2022-02-28T07:54:53.973Z"
   },
   {
    "duration": 33,
    "start_time": "2022-02-28T08:01:49.680Z"
   },
   {
    "duration": 32,
    "start_time": "2022-02-28T08:02:06.496Z"
   },
   {
    "duration": 34,
    "start_time": "2022-02-28T08:02:18.967Z"
   },
   {
    "duration": 28,
    "start_time": "2022-02-28T08:03:37.902Z"
   },
   {
    "duration": 27,
    "start_time": "2022-02-28T08:03:45.782Z"
   },
   {
    "duration": 28,
    "start_time": "2022-02-28T08:04:11.310Z"
   },
   {
    "duration": 29,
    "start_time": "2022-02-28T08:04:19.725Z"
   },
   {
    "duration": 28,
    "start_time": "2022-02-28T08:04:23.222Z"
   },
   {
    "duration": 33,
    "start_time": "2022-02-28T08:04:29.781Z"
   },
   {
    "duration": 28,
    "start_time": "2022-02-28T08:04:32.814Z"
   },
   {
    "duration": 5,
    "start_time": "2022-02-28T08:04:38.030Z"
   },
   {
    "duration": 33,
    "start_time": "2022-02-28T08:04:40.782Z"
   },
   {
    "duration": 28,
    "start_time": "2022-02-28T08:04:53.821Z"
   },
   {
    "duration": 312,
    "start_time": "2022-02-28T08:05:22.325Z"
   },
   {
    "duration": 309,
    "start_time": "2022-02-28T08:05:51.757Z"
   },
   {
    "duration": 311,
    "start_time": "2022-02-28T08:06:10.677Z"
   },
   {
    "duration": 308,
    "start_time": "2022-02-28T08:06:23.332Z"
   },
   {
    "duration": 318,
    "start_time": "2022-02-28T08:20:57.545Z"
   },
   {
    "duration": 249,
    "start_time": "2022-02-28T08:21:09.826Z"
   },
   {
    "duration": 236,
    "start_time": "2022-02-28T08:21:27.720Z"
   },
   {
    "duration": 520,
    "start_time": "2022-02-28T08:21:36.361Z"
   },
   {
    "duration": 10,
    "start_time": "2022-02-28T08:21:41.857Z"
   },
   {
    "duration": 600,
    "start_time": "2022-02-28T08:22:16.145Z"
   },
   {
    "duration": 294,
    "start_time": "2022-02-28T08:22:30.920Z"
   },
   {
    "duration": 336,
    "start_time": "2022-02-28T08:27:03.006Z"
   },
   {
    "duration": 521,
    "start_time": "2022-02-28T08:27:06.253Z"
   },
   {
    "duration": 420,
    "start_time": "2022-02-28T08:27:12.829Z"
   },
   {
    "duration": 395,
    "start_time": "2022-02-28T08:27:16.765Z"
   },
   {
    "duration": 423,
    "start_time": "2022-02-28T08:27:21.604Z"
   },
   {
    "duration": 1566,
    "start_time": "2022-06-01T06:09:30.558Z"
   },
   {
    "duration": 29,
    "start_time": "2022-06-01T06:09:32.127Z"
   },
   {
    "duration": 4,
    "start_time": "2022-06-01T06:09:32.157Z"
   },
   {
    "duration": 9,
    "start_time": "2022-06-01T06:09:32.163Z"
   },
   {
    "duration": 27,
    "start_time": "2022-06-01T06:09:32.173Z"
   },
   {
    "duration": 6,
    "start_time": "2022-06-01T06:09:32.202Z"
   },
   {
    "duration": 9,
    "start_time": "2022-06-01T06:09:32.209Z"
   },
   {
    "duration": 22,
    "start_time": "2022-06-01T06:09:32.219Z"
   },
   {
    "duration": 10,
    "start_time": "2022-06-01T06:09:32.252Z"
   },
   {
    "duration": 7,
    "start_time": "2022-06-01T06:09:32.264Z"
   },
   {
    "duration": 10,
    "start_time": "2022-06-01T06:09:32.272Z"
   },
   {
    "duration": 16,
    "start_time": "2022-06-01T06:09:32.283Z"
   },
   {
    "duration": 8,
    "start_time": "2022-06-01T06:09:32.301Z"
   },
   {
    "duration": 8,
    "start_time": "2022-06-01T06:09:32.311Z"
   },
   {
    "duration": 32,
    "start_time": "2022-06-01T06:09:32.321Z"
   },
   {
    "duration": 10,
    "start_time": "2022-06-01T06:09:32.355Z"
   },
   {
    "duration": 18,
    "start_time": "2022-06-01T06:09:32.366Z"
   },
   {
    "duration": 12,
    "start_time": "2022-06-01T06:09:32.386Z"
   },
   {
    "duration": 8,
    "start_time": "2022-06-01T06:09:32.400Z"
   },
   {
    "duration": 7,
    "start_time": "2022-06-01T06:09:32.409Z"
   },
   {
    "duration": 9,
    "start_time": "2022-06-01T06:09:32.417Z"
   },
   {
    "duration": 36,
    "start_time": "2022-06-01T06:09:32.427Z"
   },
   {
    "duration": 24,
    "start_time": "2022-06-01T06:09:32.465Z"
   },
   {
    "duration": 13,
    "start_time": "2022-06-01T06:09:32.492Z"
   },
   {
    "duration": 289,
    "start_time": "2022-06-01T06:09:32.506Z"
   },
   {
    "duration": 15,
    "start_time": "2022-06-01T06:09:32.796Z"
   },
   {
    "duration": 13,
    "start_time": "2022-06-01T06:09:32.813Z"
   },
   {
    "duration": 1196,
    "start_time": "2022-06-01T06:09:32.831Z"
   },
   {
    "duration": 26,
    "start_time": "2022-06-01T06:09:34.029Z"
   },
   {
    "duration": 153,
    "start_time": "2022-06-01T06:09:34.057Z"
   },
   {
    "duration": 23,
    "start_time": "2022-06-01T06:09:34.212Z"
   },
   {
    "duration": 582,
    "start_time": "2022-06-01T06:09:34.237Z"
   },
   {
    "duration": 31,
    "start_time": "2022-06-01T06:09:34.821Z"
   },
   {
    "duration": 35,
    "start_time": "2022-06-01T06:09:34.854Z"
   },
   {
    "duration": 440,
    "start_time": "2022-06-01T06:09:34.891Z"
   },
   {
    "duration": 20,
    "start_time": "2022-06-01T06:09:35.333Z"
   },
   {
    "duration": 21,
    "start_time": "2022-06-01T06:09:35.355Z"
   },
   {
    "duration": 8,
    "start_time": "2022-06-01T06:09:35.378Z"
   },
   {
    "duration": 401,
    "start_time": "2022-06-01T06:09:35.388Z"
   },
   {
    "duration": 5,
    "start_time": "2022-06-01T06:09:35.791Z"
   },
   {
    "duration": 485,
    "start_time": "2022-06-01T06:09:35.797Z"
   },
   {
    "duration": 11,
    "start_time": "2022-06-01T06:09:36.284Z"
   },
   {
    "duration": 3628,
    "start_time": "2022-06-01T06:09:36.297Z"
   },
   {
    "duration": 60,
    "start_time": "2022-06-01T06:09:39.927Z"
   },
   {
    "duration": 269,
    "start_time": "2022-06-01T06:09:39.988Z"
   },
   {
    "duration": 4,
    "start_time": "2022-06-01T06:09:40.259Z"
   },
   {
    "duration": 0,
    "start_time": "2022-06-01T06:09:40.265Z"
   },
   {
    "duration": 0,
    "start_time": "2022-06-01T06:09:40.266Z"
   },
   {
    "duration": 0,
    "start_time": "2022-06-01T06:09:40.268Z"
   },
   {
    "duration": 0,
    "start_time": "2022-06-01T06:09:40.269Z"
   },
   {
    "duration": 0,
    "start_time": "2022-06-01T06:09:40.270Z"
   },
   {
    "duration": 0,
    "start_time": "2022-06-01T06:09:40.272Z"
   },
   {
    "duration": 0,
    "start_time": "2022-06-01T06:09:40.273Z"
   },
   {
    "duration": 0,
    "start_time": "2022-06-01T06:09:40.274Z"
   },
   {
    "duration": 0,
    "start_time": "2022-06-01T06:09:40.276Z"
   },
   {
    "duration": 0,
    "start_time": "2022-06-01T06:09:40.277Z"
   },
   {
    "duration": 11,
    "start_time": "2022-06-01T06:09:45.344Z"
   },
   {
    "duration": 7,
    "start_time": "2022-06-01T06:09:50.568Z"
   },
   {
    "duration": 1292,
    "start_time": "2023-03-07T12:04:44.379Z"
   },
   {
    "duration": 1263,
    "start_time": "2023-03-07T12:06:08.451Z"
   },
   {
    "duration": 1168,
    "start_time": "2023-03-07T12:06:18.718Z"
   },
   {
    "duration": 26,
    "start_time": "2023-03-07T12:06:19.888Z"
   },
   {
    "duration": 4,
    "start_time": "2023-03-07T12:06:19.916Z"
   },
   {
    "duration": 5,
    "start_time": "2023-03-07T12:06:19.921Z"
   },
   {
    "duration": 34,
    "start_time": "2023-03-07T12:06:19.928Z"
   },
   {
    "duration": 4,
    "start_time": "2023-03-07T12:06:19.963Z"
   },
   {
    "duration": 8,
    "start_time": "2023-03-07T12:06:19.969Z"
   },
   {
    "duration": 15,
    "start_time": "2023-03-07T12:06:19.979Z"
   },
   {
    "duration": 10,
    "start_time": "2023-03-07T12:06:19.995Z"
   },
   {
    "duration": 9,
    "start_time": "2023-03-07T12:06:20.006Z"
   },
   {
    "duration": 17,
    "start_time": "2023-03-07T12:06:20.016Z"
   },
   {
    "duration": 35,
    "start_time": "2023-03-07T12:06:20.035Z"
   },
   {
    "duration": 12,
    "start_time": "2023-03-07T12:06:20.071Z"
   },
   {
    "duration": 4,
    "start_time": "2023-03-07T12:06:20.085Z"
   },
   {
    "duration": 5,
    "start_time": "2023-03-07T12:06:20.091Z"
   },
   {
    "duration": 8,
    "start_time": "2023-03-07T12:06:20.097Z"
   },
   {
    "duration": 6,
    "start_time": "2023-03-07T12:06:20.106Z"
   },
   {
    "duration": 6,
    "start_time": "2023-03-07T12:06:20.113Z"
   },
   {
    "duration": 6,
    "start_time": "2023-03-07T12:06:20.121Z"
   },
   {
    "duration": 7,
    "start_time": "2023-03-07T12:06:20.129Z"
   },
   {
    "duration": 19,
    "start_time": "2023-03-07T12:06:20.138Z"
   },
   {
    "duration": 28,
    "start_time": "2023-03-07T12:06:20.159Z"
   },
   {
    "duration": 20,
    "start_time": "2023-03-07T12:06:20.189Z"
   },
   {
    "duration": 8,
    "start_time": "2023-03-07T12:06:20.211Z"
   },
   {
    "duration": 212,
    "start_time": "2023-03-07T12:06:20.220Z"
   },
   {
    "duration": 25,
    "start_time": "2023-03-07T12:06:20.434Z"
   },
   {
    "duration": 19,
    "start_time": "2023-03-07T12:06:20.460Z"
   },
   {
    "duration": 983,
    "start_time": "2023-03-07T12:06:20.480Z"
   },
   {
    "duration": 14,
    "start_time": "2023-03-07T12:06:21.464Z"
   },
   {
    "duration": 216,
    "start_time": "2023-03-07T12:06:21.480Z"
   },
   {
    "duration": 54,
    "start_time": "2023-03-07T12:06:21.698Z"
   },
   {
    "duration": 1024,
    "start_time": "2023-03-07T12:06:21.754Z"
   },
   {
    "duration": 81,
    "start_time": "2023-03-07T12:06:22.780Z"
   },
   {
    "duration": 21,
    "start_time": "2023-03-07T12:06:22.862Z"
   },
   {
    "duration": 587,
    "start_time": "2023-03-07T12:06:22.885Z"
   },
   {
    "duration": 9,
    "start_time": "2023-03-07T12:06:23.473Z"
   },
   {
    "duration": 23,
    "start_time": "2023-03-07T12:06:23.540Z"
   },
   {
    "duration": 7,
    "start_time": "2023-03-07T12:06:23.565Z"
   },
   {
    "duration": 405,
    "start_time": "2023-03-07T12:06:23.573Z"
   },
   {
    "duration": 4,
    "start_time": "2023-03-07T12:06:23.980Z"
   },
   {
    "duration": 407,
    "start_time": "2023-03-07T12:06:24.042Z"
   },
   {
    "duration": 9,
    "start_time": "2023-03-07T12:06:24.451Z"
   },
   {
    "duration": 2138,
    "start_time": "2023-03-07T12:06:24.462Z"
   },
   {
    "duration": 55,
    "start_time": "2023-03-07T12:06:26.602Z"
   },
   {
    "duration": 337,
    "start_time": "2023-03-07T12:06:26.659Z"
   },
   {
    "duration": 72,
    "start_time": "2023-03-07T12:06:26.998Z"
   },
   {
    "duration": 0,
    "start_time": "2023-03-07T12:06:27.072Z"
   },
   {
    "duration": 0,
    "start_time": "2023-03-07T12:06:27.073Z"
   },
   {
    "duration": 0,
    "start_time": "2023-03-07T12:06:27.074Z"
   },
   {
    "duration": 0,
    "start_time": "2023-03-07T12:06:27.075Z"
   },
   {
    "duration": 0,
    "start_time": "2023-03-07T12:06:27.076Z"
   },
   {
    "duration": 0,
    "start_time": "2023-03-07T12:06:27.077Z"
   },
   {
    "duration": 0,
    "start_time": "2023-03-07T12:06:27.078Z"
   },
   {
    "duration": 0,
    "start_time": "2023-03-07T12:06:27.079Z"
   },
   {
    "duration": 0,
    "start_time": "2023-03-07T12:06:27.080Z"
   },
   {
    "duration": 0,
    "start_time": "2023-03-07T12:06:27.081Z"
   },
   {
    "duration": 0,
    "start_time": "2023-03-07T12:06:27.082Z"
   },
   {
    "duration": 5,
    "start_time": "2023-03-07T12:06:30.049Z"
   },
   {
    "duration": 20,
    "start_time": "2023-03-07T12:06:35.537Z"
   },
   {
    "duration": 5,
    "start_time": "2023-03-07T12:06:38.479Z"
   },
   {
    "duration": 7,
    "start_time": "2023-03-07T12:06:41.246Z"
   },
   {
    "duration": 1241,
    "start_time": "2023-03-07T12:06:46.817Z"
   },
   {
    "duration": 29,
    "start_time": "2023-03-07T12:06:48.060Z"
   },
   {
    "duration": 4,
    "start_time": "2023-03-07T12:06:48.091Z"
   },
   {
    "duration": 12,
    "start_time": "2023-03-07T12:06:48.097Z"
   },
   {
    "duration": 45,
    "start_time": "2023-03-07T12:06:48.110Z"
   },
   {
    "duration": 5,
    "start_time": "2023-03-07T12:06:48.159Z"
   },
   {
    "duration": 8,
    "start_time": "2023-03-07T12:06:48.165Z"
   },
   {
    "duration": 18,
    "start_time": "2023-03-07T12:06:48.174Z"
   },
   {
    "duration": 11,
    "start_time": "2023-03-07T12:06:48.193Z"
   },
   {
    "duration": 4,
    "start_time": "2023-03-07T12:06:48.206Z"
   },
   {
    "duration": 39,
    "start_time": "2023-03-07T12:06:48.211Z"
   },
   {
    "duration": 16,
    "start_time": "2023-03-07T12:06:48.252Z"
   },
   {
    "duration": 15,
    "start_time": "2023-03-07T12:06:48.270Z"
   },
   {
    "duration": 3,
    "start_time": "2023-03-07T12:06:48.287Z"
   },
   {
    "duration": 8,
    "start_time": "2023-03-07T12:06:48.292Z"
   },
   {
    "duration": 16,
    "start_time": "2023-03-07T12:06:48.302Z"
   },
   {
    "duration": 9,
    "start_time": "2023-03-07T12:06:48.320Z"
   },
   {
    "duration": 5,
    "start_time": "2023-03-07T12:06:48.331Z"
   },
   {
    "duration": 20,
    "start_time": "2023-03-07T12:06:48.338Z"
   },
   {
    "duration": 10,
    "start_time": "2023-03-07T12:06:48.359Z"
   },
   {
    "duration": 11,
    "start_time": "2023-03-07T12:06:48.370Z"
   },
   {
    "duration": 32,
    "start_time": "2023-03-07T12:06:48.383Z"
   },
   {
    "duration": 34,
    "start_time": "2023-03-07T12:06:48.417Z"
   },
   {
    "duration": 10,
    "start_time": "2023-03-07T12:06:48.453Z"
   },
   {
    "duration": 230,
    "start_time": "2023-03-07T12:06:48.464Z"
   },
   {
    "duration": 15,
    "start_time": "2023-03-07T12:06:48.695Z"
   },
   {
    "duration": 14,
    "start_time": "2023-03-07T12:06:48.712Z"
   },
   {
    "duration": 2028,
    "start_time": "2023-03-07T12:06:48.749Z"
   },
   {
    "duration": 75,
    "start_time": "2023-03-07T12:06:50.779Z"
   },
   {
    "duration": 405,
    "start_time": "2023-03-07T12:06:50.856Z"
   },
   {
    "duration": 22,
    "start_time": "2023-03-07T12:06:51.262Z"
   },
   {
    "duration": 983,
    "start_time": "2023-03-07T12:06:51.285Z"
   },
   {
    "duration": 86,
    "start_time": "2023-03-07T12:06:52.269Z"
   },
   {
    "duration": 24,
    "start_time": "2023-03-07T12:06:52.356Z"
   },
   {
    "duration": 595,
    "start_time": "2023-03-07T12:06:52.382Z"
   },
   {
    "duration": 9,
    "start_time": "2023-03-07T12:06:52.979Z"
   },
   {
    "duration": 18,
    "start_time": "2023-03-07T12:06:52.989Z"
   },
   {
    "duration": 49,
    "start_time": "2023-03-07T12:06:53.008Z"
   },
   {
    "duration": 204,
    "start_time": "2023-03-07T12:06:53.059Z"
   },
   {
    "duration": 8,
    "start_time": "2023-03-07T12:06:53.264Z"
   },
   {
    "duration": 189,
    "start_time": "2023-03-07T12:06:53.274Z"
   },
   {
    "duration": 8,
    "start_time": "2023-03-07T12:06:53.465Z"
   },
   {
    "duration": 1636,
    "start_time": "2023-03-07T12:06:53.475Z"
   },
   {
    "duration": 50,
    "start_time": "2023-03-07T12:06:55.112Z"
   },
   {
    "duration": 308,
    "start_time": "2023-03-07T12:06:55.163Z"
   },
   {
    "duration": 76,
    "start_time": "2023-03-07T12:06:55.488Z"
   },
   {
    "duration": 0,
    "start_time": "2023-03-07T12:06:55.565Z"
   },
   {
    "duration": 0,
    "start_time": "2023-03-07T12:06:55.567Z"
   },
   {
    "duration": 0,
    "start_time": "2023-03-07T12:06:55.568Z"
   },
   {
    "duration": 0,
    "start_time": "2023-03-07T12:06:55.569Z"
   },
   {
    "duration": 0,
    "start_time": "2023-03-07T12:06:55.570Z"
   },
   {
    "duration": 0,
    "start_time": "2023-03-07T12:06:55.571Z"
   },
   {
    "duration": 0,
    "start_time": "2023-03-07T12:06:55.572Z"
   },
   {
    "duration": 0,
    "start_time": "2023-03-07T12:06:55.573Z"
   },
   {
    "duration": 0,
    "start_time": "2023-03-07T12:06:55.574Z"
   },
   {
    "duration": 0,
    "start_time": "2023-03-07T12:06:55.575Z"
   },
   {
    "duration": 0,
    "start_time": "2023-03-07T12:06:55.576Z"
   },
   {
    "duration": 1123,
    "start_time": "2023-03-07T12:09:20.567Z"
   },
   {
    "duration": 25,
    "start_time": "2023-03-07T12:09:21.692Z"
   },
   {
    "duration": 4,
    "start_time": "2023-03-07T12:09:21.719Z"
   },
   {
    "duration": 7,
    "start_time": "2023-03-07T12:09:21.725Z"
   },
   {
    "duration": 36,
    "start_time": "2023-03-07T12:09:21.734Z"
   },
   {
    "duration": 6,
    "start_time": "2023-03-07T12:09:21.771Z"
   },
   {
    "duration": 6,
    "start_time": "2023-03-07T12:09:21.778Z"
   },
   {
    "duration": 15,
    "start_time": "2023-03-07T12:09:21.785Z"
   },
   {
    "duration": 10,
    "start_time": "2023-03-07T12:09:21.801Z"
   },
   {
    "duration": 3,
    "start_time": "2023-03-07T12:09:21.813Z"
   },
   {
    "duration": 27,
    "start_time": "2023-03-07T12:09:21.818Z"
   },
   {
    "duration": 23,
    "start_time": "2023-03-07T12:09:21.846Z"
   },
   {
    "duration": 9,
    "start_time": "2023-03-07T12:09:21.870Z"
   },
   {
    "duration": 4,
    "start_time": "2023-03-07T12:09:21.882Z"
   },
   {
    "duration": 9,
    "start_time": "2023-03-07T12:09:21.888Z"
   },
   {
    "duration": 6,
    "start_time": "2023-03-07T12:09:21.898Z"
   },
   {
    "duration": 5,
    "start_time": "2023-03-07T12:09:21.906Z"
   },
   {
    "duration": 38,
    "start_time": "2023-03-07T12:09:21.912Z"
   },
   {
    "duration": 27,
    "start_time": "2023-03-07T12:09:21.951Z"
   },
   {
    "duration": 9,
    "start_time": "2023-03-07T12:09:21.980Z"
   },
   {
    "duration": 31,
    "start_time": "2023-03-07T12:09:21.991Z"
   },
   {
    "duration": 41,
    "start_time": "2023-03-07T12:09:22.023Z"
   },
   {
    "duration": 21,
    "start_time": "2023-03-07T12:09:22.066Z"
   },
   {
    "duration": 9,
    "start_time": "2023-03-07T12:09:22.088Z"
   },
   {
    "duration": 232,
    "start_time": "2023-03-07T12:09:22.099Z"
   },
   {
    "duration": 35,
    "start_time": "2023-03-07T12:09:22.333Z"
   },
   {
    "duration": 11,
    "start_time": "2023-03-07T12:09:22.370Z"
   },
   {
    "duration": 1168,
    "start_time": "2023-03-07T12:09:22.383Z"
   },
   {
    "duration": 16,
    "start_time": "2023-03-07T12:09:23.561Z"
   },
   {
    "duration": 229,
    "start_time": "2023-03-07T12:09:23.579Z"
   },
   {
    "duration": 21,
    "start_time": "2023-03-07T12:09:23.809Z"
   },
   {
    "duration": 551,
    "start_time": "2023-03-07T12:09:23.831Z"
   },
   {
    "duration": 22,
    "start_time": "2023-03-07T12:09:24.384Z"
   },
   {
    "duration": 38,
    "start_time": "2023-03-07T12:09:24.407Z"
   },
   {
    "duration": 267,
    "start_time": "2023-03-07T12:09:24.446Z"
   },
   {
    "duration": 9,
    "start_time": "2023-03-07T12:09:24.715Z"
   },
   {
    "duration": 30,
    "start_time": "2023-03-07T12:09:24.725Z"
   },
   {
    "duration": 9,
    "start_time": "2023-03-07T12:09:24.756Z"
   },
   {
    "duration": 385,
    "start_time": "2023-03-07T12:09:24.767Z"
   },
   {
    "duration": 6,
    "start_time": "2023-03-07T12:09:25.160Z"
   },
   {
    "duration": 583,
    "start_time": "2023-03-07T12:09:25.176Z"
   },
   {
    "duration": 12,
    "start_time": "2023-03-07T12:09:25.761Z"
   },
   {
    "duration": 2400,
    "start_time": "2023-03-07T12:09:25.775Z"
   },
   {
    "duration": 40,
    "start_time": "2023-03-07T12:09:28.176Z"
   },
   {
    "duration": 355,
    "start_time": "2023-03-07T12:09:28.218Z"
   },
   {
    "duration": 97,
    "start_time": "2023-03-07T12:09:28.575Z"
   },
   {
    "duration": 0,
    "start_time": "2023-03-07T12:09:28.674Z"
   },
   {
    "duration": 0,
    "start_time": "2023-03-07T12:09:28.675Z"
   },
   {
    "duration": 0,
    "start_time": "2023-03-07T12:09:28.676Z"
   },
   {
    "duration": 0,
    "start_time": "2023-03-07T12:09:28.677Z"
   },
   {
    "duration": 0,
    "start_time": "2023-03-07T12:09:28.678Z"
   },
   {
    "duration": 0,
    "start_time": "2023-03-07T12:09:28.679Z"
   },
   {
    "duration": 0,
    "start_time": "2023-03-07T12:09:28.680Z"
   },
   {
    "duration": 0,
    "start_time": "2023-03-07T12:09:28.681Z"
   },
   {
    "duration": 0,
    "start_time": "2023-03-07T12:09:28.682Z"
   },
   {
    "duration": 0,
    "start_time": "2023-03-07T12:09:28.683Z"
   },
   {
    "duration": 0,
    "start_time": "2023-03-07T12:09:28.684Z"
   },
   {
    "duration": 10,
    "start_time": "2023-03-07T12:09:53.545Z"
   },
   {
    "duration": 225,
    "start_time": "2023-03-07T12:09:57.288Z"
   },
   {
    "duration": 9,
    "start_time": "2023-03-07T12:10:09.537Z"
   },
   {
    "duration": 532,
    "start_time": "2023-03-07T12:10:11.879Z"
   },
   {
    "duration": 1173,
    "start_time": "2023-03-07T12:13:57.733Z"
   },
   {
    "duration": 25,
    "start_time": "2023-03-07T12:13:58.907Z"
   },
   {
    "duration": 4,
    "start_time": "2023-03-07T12:13:58.933Z"
   },
   {
    "duration": 31,
    "start_time": "2023-03-07T12:13:58.939Z"
   },
   {
    "duration": 29,
    "start_time": "2023-03-07T12:13:58.972Z"
   },
   {
    "duration": 5,
    "start_time": "2023-03-07T12:13:59.002Z"
   },
   {
    "duration": 6,
    "start_time": "2023-03-07T12:13:59.008Z"
   },
   {
    "duration": 16,
    "start_time": "2023-03-07T12:13:59.016Z"
   },
   {
    "duration": 14,
    "start_time": "2023-03-07T12:13:59.034Z"
   },
   {
    "duration": 22,
    "start_time": "2023-03-07T12:13:59.051Z"
   },
   {
    "duration": 14,
    "start_time": "2023-03-07T12:13:59.074Z"
   },
   {
    "duration": 14,
    "start_time": "2023-03-07T12:13:59.090Z"
   },
   {
    "duration": 9,
    "start_time": "2023-03-07T12:13:59.106Z"
   },
   {
    "duration": 5,
    "start_time": "2023-03-07T12:13:59.116Z"
   },
   {
    "duration": 5,
    "start_time": "2023-03-07T12:13:59.123Z"
   },
   {
    "duration": 5,
    "start_time": "2023-03-07T12:13:59.130Z"
   },
   {
    "duration": 16,
    "start_time": "2023-03-07T12:13:59.136Z"
   },
   {
    "duration": 26,
    "start_time": "2023-03-07T12:13:59.153Z"
   },
   {
    "duration": 6,
    "start_time": "2023-03-07T12:13:59.180Z"
   },
   {
    "duration": 7,
    "start_time": "2023-03-07T12:13:59.187Z"
   },
   {
    "duration": 6,
    "start_time": "2023-03-07T12:13:59.195Z"
   },
   {
    "duration": 31,
    "start_time": "2023-03-07T12:13:59.203Z"
   },
   {
    "duration": 27,
    "start_time": "2023-03-07T12:13:59.236Z"
   },
   {
    "duration": 20,
    "start_time": "2023-03-07T12:13:59.264Z"
   },
   {
    "duration": 207,
    "start_time": "2023-03-07T12:13:59.286Z"
   },
   {
    "duration": 13,
    "start_time": "2023-03-07T12:13:59.495Z"
   },
   {
    "duration": 11,
    "start_time": "2023-03-07T12:13:59.510Z"
   },
   {
    "duration": 1042,
    "start_time": "2023-03-07T12:13:59.524Z"
   },
   {
    "duration": 15,
    "start_time": "2023-03-07T12:14:00.568Z"
   },
   {
    "duration": 231,
    "start_time": "2023-03-07T12:14:00.585Z"
   },
   {
    "duration": 34,
    "start_time": "2023-03-07T12:14:00.817Z"
   },
   {
    "duration": 530,
    "start_time": "2023-03-07T12:14:00.852Z"
   },
   {
    "duration": 21,
    "start_time": "2023-03-07T12:14:01.383Z"
   },
   {
    "duration": 59,
    "start_time": "2023-03-07T12:14:01.406Z"
   },
   {
    "duration": 289,
    "start_time": "2023-03-07T12:14:01.466Z"
   },
   {
    "duration": 11,
    "start_time": "2023-03-07T12:14:01.759Z"
   },
   {
    "duration": 33,
    "start_time": "2023-03-07T12:14:01.772Z"
   },
   {
    "duration": 17,
    "start_time": "2023-03-07T12:14:01.806Z"
   },
   {
    "duration": 232,
    "start_time": "2023-03-07T12:14:01.824Z"
   },
   {
    "duration": 11,
    "start_time": "2023-03-07T12:14:02.059Z"
   },
   {
    "duration": 221,
    "start_time": "2023-03-07T12:14:02.072Z"
   },
   {
    "duration": 8,
    "start_time": "2023-03-07T12:14:02.294Z"
   },
   {
    "duration": 1877,
    "start_time": "2023-03-07T12:14:02.303Z"
   },
   {
    "duration": 61,
    "start_time": "2023-03-07T12:14:04.182Z"
   },
   {
    "duration": 324,
    "start_time": "2023-03-07T12:14:04.245Z"
   },
   {
    "duration": 5,
    "start_time": "2023-03-07T12:14:04.571Z"
   },
   {
    "duration": 225,
    "start_time": "2023-03-07T12:14:04.578Z"
   },
   {
    "duration": 4,
    "start_time": "2023-03-07T12:14:04.805Z"
   },
   {
    "duration": 562,
    "start_time": "2023-03-07T12:14:04.810Z"
   },
   {
    "duration": 555,
    "start_time": "2023-03-07T12:14:05.373Z"
   },
   {
    "duration": 547,
    "start_time": "2023-03-07T12:14:05.930Z"
   },
   {
    "duration": 7,
    "start_time": "2023-03-07T12:14:06.479Z"
   },
   {
    "duration": 7,
    "start_time": "2023-03-07T12:14:06.487Z"
   },
   {
    "duration": 10,
    "start_time": "2023-03-07T12:14:06.495Z"
   },
   {
    "duration": 11,
    "start_time": "2023-03-07T12:14:06.507Z"
   },
   {
    "duration": 33,
    "start_time": "2023-03-07T12:14:06.519Z"
   },
   {
    "duration": 26,
    "start_time": "2023-03-07T12:14:06.554Z"
   }
  ],
  "kernelspec": {
   "display_name": "Python 3 (ipykernel)",
   "language": "python",
   "name": "python3"
  },
  "language_info": {
   "codemirror_mode": {
    "name": "ipython",
    "version": 3
   },
   "file_extension": ".py",
   "mimetype": "text/x-python",
   "name": "python",
   "nbconvert_exporter": "python",
   "pygments_lexer": "ipython3",
   "version": "3.9.5"
  },
  "toc": {
   "base_numbering": 1,
   "nav_menu": {},
   "number_sections": true,
   "sideBar": true,
   "skip_h1_title": true,
   "title_cell": "Table of Contents",
   "title_sidebar": "Contents",
   "toc_cell": false,
   "toc_position": {
    "height": "calc(100% - 180px)",
    "left": "10px",
    "top": "150px",
    "width": "165px"
   },
   "toc_section_display": true,
   "toc_window_display": true
  }
 },
 "nbformat": 4,
 "nbformat_minor": 2
}
