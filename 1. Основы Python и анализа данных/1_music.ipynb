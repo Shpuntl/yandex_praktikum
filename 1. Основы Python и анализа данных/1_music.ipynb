{
 "cells": [
  {
   "cell_type": "markdown",
   "metadata": {
    "id": "E0vqbgi9ay0H"
   },
   "source": [
    "# Яндекс.Музыка"
   ]
  },
  {
   "cell_type": "markdown",
   "metadata": {
    "id": "VUC88oWjTJw2"
   },
   "source": [
    "Сравнение Москвы и Петербурга окружено мифами. Например:\n",
    " * Москва — мегаполис, подчинённый жёсткому ритму рабочей недели;\n",
    " * Петербург — культурная столица, со своими вкусами.\n",
    "\n",
    "На данных Яндекс.Музыки вы сравните поведение пользователей двух столиц.\n",
    "\n",
    "**Цель исследования** — проверьте три гипотезы:\n",
    "1. Активность пользователей зависит от дня недели. Причём в Москве и Петербурге это проявляется по-разному.\n",
    "2. В понедельник утром в Москве преобладают одни жанры, а в Петербурге — другие. Так же и вечером пятницы преобладают разные жанры — в зависимости от города. \n",
    "3. Москва и Петербург предпочитают разные жанры музыки. В Москве чаще слушают поп-музыку, в Петербурге — русский рэп.\n",
    "\n",
    "**Ход исследования**\n",
    "\n",
    "Данные о поведении пользователей вы получите из файла `yandex_music_project.csv`. О качестве данных ничего не известно. Поэтому перед проверкой гипотез понадобится обзор данных. \n",
    "\n",
    "Вы проверите данные на ошибки и оцените их влияние на исследование. Затем, на этапе предобработки вы поищете возможность исправить самые критичные ошибки данных.\n",
    " \n",
    "Таким образом, исследование пройдёт в три этапа:\n",
    " 1. Обзор данных.\n",
    " 2. Предобработка данных.\n",
    " 3. Проверка гипотез.\n",
    "\n"
   ]
  },
  {
   "cell_type": "markdown",
   "metadata": {
    "id": "Ml1hmfXC_Zcs"
   },
   "source": [
    "## Обзор данных\n",
    "\n",
    "Составить первое представление о данных Яндекс.Музыки.\n",
    "\n",
    "\n"
   ]
  },
  {
   "cell_type": "code",
   "execution_count": 1,
   "metadata": {
    "id": "AXN7PHPN_Zcs"
   },
   "outputs": [],
   "source": [
    "#импорт библиотеки pandas\n",
    "import pandas as pd"
   ]
  },
  {
   "cell_type": "code",
   "execution_count": 2,
   "metadata": {
    "id": "fFVu7vqh_Zct"
   },
   "outputs": [],
   "source": [
    "#чтение файла с данными и сохранение в df\n",
    "df = pd.read_csv('/datasets/yandex_music_project.csv')"
   ]
  },
  {
   "cell_type": "code",
   "execution_count": 3,
   "metadata": {
    "id": "oWTVX3gW_Zct"
   },
   "outputs": [
    {
     "data": {
      "text/html": [
       "<div>\n",
       "<style scoped>\n",
       "    .dataframe tbody tr th:only-of-type {\n",
       "        vertical-align: middle;\n",
       "    }\n",
       "\n",
       "    .dataframe tbody tr th {\n",
       "        vertical-align: top;\n",
       "    }\n",
       "\n",
       "    .dataframe thead th {\n",
       "        text-align: right;\n",
       "    }\n",
       "</style>\n",
       "<table border=\"1\" class=\"dataframe\">\n",
       "  <thead>\n",
       "    <tr style=\"text-align: right;\">\n",
       "      <th></th>\n",
       "      <th>userID</th>\n",
       "      <th>Track</th>\n",
       "      <th>artist</th>\n",
       "      <th>genre</th>\n",
       "      <th>City</th>\n",
       "      <th>time</th>\n",
       "      <th>Day</th>\n",
       "    </tr>\n",
       "  </thead>\n",
       "  <tbody>\n",
       "    <tr>\n",
       "      <th>0</th>\n",
       "      <td>FFB692EC</td>\n",
       "      <td>Kamigata To Boots</td>\n",
       "      <td>The Mass Missile</td>\n",
       "      <td>rock</td>\n",
       "      <td>Saint-Petersburg</td>\n",
       "      <td>20:28:33</td>\n",
       "      <td>Wednesday</td>\n",
       "    </tr>\n",
       "    <tr>\n",
       "      <th>1</th>\n",
       "      <td>55204538</td>\n",
       "      <td>Delayed Because of Accident</td>\n",
       "      <td>Andreas Rönnberg</td>\n",
       "      <td>rock</td>\n",
       "      <td>Moscow</td>\n",
       "      <td>14:07:09</td>\n",
       "      <td>Friday</td>\n",
       "    </tr>\n",
       "    <tr>\n",
       "      <th>2</th>\n",
       "      <td>20EC38</td>\n",
       "      <td>Funiculì funiculà</td>\n",
       "      <td>Mario Lanza</td>\n",
       "      <td>pop</td>\n",
       "      <td>Saint-Petersburg</td>\n",
       "      <td>20:58:07</td>\n",
       "      <td>Wednesday</td>\n",
       "    </tr>\n",
       "    <tr>\n",
       "      <th>3</th>\n",
       "      <td>A3DD03C9</td>\n",
       "      <td>Dragons in the Sunset</td>\n",
       "      <td>Fire + Ice</td>\n",
       "      <td>folk</td>\n",
       "      <td>Saint-Petersburg</td>\n",
       "      <td>08:37:09</td>\n",
       "      <td>Monday</td>\n",
       "    </tr>\n",
       "    <tr>\n",
       "      <th>4</th>\n",
       "      <td>E2DC1FAE</td>\n",
       "      <td>Soul People</td>\n",
       "      <td>Space Echo</td>\n",
       "      <td>dance</td>\n",
       "      <td>Moscow</td>\n",
       "      <td>08:34:34</td>\n",
       "      <td>Monday</td>\n",
       "    </tr>\n",
       "    <tr>\n",
       "      <th>5</th>\n",
       "      <td>842029A1</td>\n",
       "      <td>Преданная</td>\n",
       "      <td>IMPERVTOR</td>\n",
       "      <td>rusrap</td>\n",
       "      <td>Saint-Petersburg</td>\n",
       "      <td>13:09:41</td>\n",
       "      <td>Friday</td>\n",
       "    </tr>\n",
       "    <tr>\n",
       "      <th>6</th>\n",
       "      <td>4CB90AA5</td>\n",
       "      <td>True</td>\n",
       "      <td>Roman Messer</td>\n",
       "      <td>dance</td>\n",
       "      <td>Moscow</td>\n",
       "      <td>13:00:07</td>\n",
       "      <td>Wednesday</td>\n",
       "    </tr>\n",
       "    <tr>\n",
       "      <th>7</th>\n",
       "      <td>F03E1C1F</td>\n",
       "      <td>Feeling This Way</td>\n",
       "      <td>Polina Griffith</td>\n",
       "      <td>dance</td>\n",
       "      <td>Moscow</td>\n",
       "      <td>20:47:49</td>\n",
       "      <td>Wednesday</td>\n",
       "    </tr>\n",
       "    <tr>\n",
       "      <th>8</th>\n",
       "      <td>8FA1D3BE</td>\n",
       "      <td>И вновь продолжается бой</td>\n",
       "      <td>NaN</td>\n",
       "      <td>ruspop</td>\n",
       "      <td>Moscow</td>\n",
       "      <td>09:17:40</td>\n",
       "      <td>Friday</td>\n",
       "    </tr>\n",
       "    <tr>\n",
       "      <th>9</th>\n",
       "      <td>E772D5C0</td>\n",
       "      <td>Pessimist</td>\n",
       "      <td>NaN</td>\n",
       "      <td>dance</td>\n",
       "      <td>Saint-Petersburg</td>\n",
       "      <td>21:20:49</td>\n",
       "      <td>Wednesday</td>\n",
       "    </tr>\n",
       "  </tbody>\n",
       "</table>\n",
       "</div>"
      ],
      "text/plain": [
       "     userID                        Track            artist   genre  \\\n",
       "0  FFB692EC            Kamigata To Boots  The Mass Missile    rock   \n",
       "1  55204538  Delayed Because of Accident  Andreas Rönnberg    rock   \n",
       "2    20EC38            Funiculì funiculà       Mario Lanza     pop   \n",
       "3  A3DD03C9        Dragons in the Sunset        Fire + Ice    folk   \n",
       "4  E2DC1FAE                  Soul People        Space Echo   dance   \n",
       "5  842029A1                    Преданная         IMPERVTOR  rusrap   \n",
       "6  4CB90AA5                         True      Roman Messer   dance   \n",
       "7  F03E1C1F             Feeling This Way   Polina Griffith   dance   \n",
       "8  8FA1D3BE     И вновь продолжается бой               NaN  ruspop   \n",
       "9  E772D5C0                    Pessimist               NaN   dance   \n",
       "\n",
       "             City        time        Day  \n",
       "0  Saint-Petersburg  20:28:33  Wednesday  \n",
       "1            Moscow  14:07:09     Friday  \n",
       "2  Saint-Petersburg  20:58:07  Wednesday  \n",
       "3  Saint-Petersburg  08:37:09     Monday  \n",
       "4            Moscow  08:34:34     Monday  \n",
       "5  Saint-Petersburg  13:09:41     Friday  \n",
       "6            Moscow  13:00:07  Wednesday  \n",
       "7            Moscow  20:47:49  Wednesday  \n",
       "8            Moscow  09:17:40     Friday  \n",
       "9  Saint-Petersburg  21:20:49  Wednesday  "
      ]
     },
     "execution_count": 3,
     "metadata": {},
     "output_type": "execute_result"
    }
   ],
   "source": [
    "#получение первых 10 строк таблицы df\n",
    "df.head(10)"
   ]
  },
  {
   "cell_type": "code",
   "execution_count": 4,
   "metadata": {
    "id": "DSf2kIb-_Zct"
   },
   "outputs": [
    {
     "name": "stdout",
     "output_type": "stream",
     "text": [
      "<class 'pandas.core.frame.DataFrame'>\n",
      "RangeIndex: 65079 entries, 0 to 65078\n",
      "Data columns (total 7 columns):\n",
      " #   Column    Non-Null Count  Dtype \n",
      "---  ------    --------------  ----- \n",
      " 0     userID  65079 non-null  object\n",
      " 1   Track     63848 non-null  object\n",
      " 2   artist    57876 non-null  object\n",
      " 3   genre     63881 non-null  object\n",
      " 4     City    65079 non-null  object\n",
      " 5   time      65079 non-null  object\n",
      " 6   Day       65079 non-null  object\n",
      "dtypes: object(7)\n",
      "memory usage: 3.5+ MB\n"
     ]
    }
   ],
   "source": [
    "#получение общей информации о данных в таблице df\n",
    "df.info()"
   ]
  },
  {
   "cell_type": "markdown",
   "metadata": {
    "id": "TaQ2Iwbr_Zct"
   },
   "source": [
    "Итак, в таблице семь столбцов. Тип данных во всех столбцах — `object`.\n",
    "\n",
    "Согласно документации к данным:\n",
    "* `userID` — идентификатор пользователя;\n",
    "* `Track` — название трека;  \n",
    "* `artist` — имя исполнителя;\n",
    "* `genre` — название жанра;\n",
    "* `City` — город пользователя;\n",
    "* `time` — время начала прослушивания;\n",
    "* `Day` — день недели.\n",
    "\n",
    "В названиях колонок видны три нарушения стиля:\n",
    "1. Строчные буквы сочетаются с прописными.\n",
    "2. Встречаются пробелы.\n",
    "3. Встречается не змеиный_регистр.\n",
    "\n",
    "Количество значений в столбцах различается. Значит, в данных есть пропущенные значения.\n"
   ]
  },
  {
   "cell_type": "markdown",
   "metadata": {
    "id": "MCB6-dXG_Zct"
   },
   "source": [
    "**Выводы**\n",
    "\n",
    "В каждой строке таблицы — данные о прослушанном треке. Часть колонок описывает саму композицию: название, исполнителя и жанр. Остальные данные рассказывают о пользователе: из какого он города, когда он слушал музыку. \n",
    "\n",
    "Предварительно можно утверждать, что, данных достаточно для проверки гипотез. Но встречаются пропуски в данных, а в названиях колонок — расхождения с хорошим стилем.\n",
    "\n",
    "Чтобы двигаться дальше, нужно устранить проблемы в данных."
   ]
  },
  {
   "cell_type": "markdown",
   "metadata": {
    "id": "SjYF6Ub9_Zct"
   },
   "source": [
    "## Предобработка данных\n",
    "Исправить стиль заголовков столбцов, обработать пропуски и проверить дубликаты"
   ]
  },
  {
   "cell_type": "markdown",
   "metadata": {
    "id": "dIaKXr29_Zct"
   },
   "source": [
    "### Стиль заголовков\n",
    "Вывод на экран названия столбцов:"
   ]
  },
  {
   "cell_type": "code",
   "execution_count": 5,
   "metadata": {
    "id": "oKOTdF_Q_Zct"
   },
   "outputs": [
    {
     "data": {
      "text/plain": [
       "Index(['  userID', 'Track', 'artist', 'genre', '  City  ', 'time', 'Day'], dtype='object')"
      ]
     },
     "execution_count": 5,
     "metadata": {},
     "output_type": "execute_result"
    }
   ],
   "source": [
    "#перечень названий столбцов таблицы df\n",
    "df.columns"
   ]
  },
  {
   "cell_type": "markdown",
   "metadata": {
    "id": "zj5534cv_Zct"
   },
   "source": [
    "Приведем названия в соответствие с хорошим стилем:\n",
    "* несколько слов в названии запишите в «змеином_регистре»,\n",
    "* все символы сделайте строчными,\n",
    "* устраните пробелы."
   ]
  },
  {
   "cell_type": "code",
   "execution_count": 6,
   "metadata": {
    "id": "ISlFqs5y_Zct"
   },
   "outputs": [],
   "source": [
    "#переименование столбцов\n",
    "df = df.rename(columns={'  userID': 'user_id', 'Track': 'track', '  City  ': 'city', 'Day':'day'})"
   ]
  },
  {
   "cell_type": "markdown",
   "metadata": {
    "id": "1dqbh00J_Zct"
   },
   "source": [
    "Проверка результатов"
   ]
  },
  {
   "cell_type": "code",
   "execution_count": 7,
   "metadata": {
    "id": "d4NOAmTW_Zct"
   },
   "outputs": [
    {
     "name": "stdout",
     "output_type": "stream",
     "text": [
      "Index(['user_id', 'track', 'artist', 'genre', 'city', 'time', 'day'], dtype='object')\n"
     ]
    }
   ],
   "source": [
    "print(df.columns)"
   ]
  },
  {
   "cell_type": "markdown",
   "metadata": {},
   "source": [
    "Столбцы переименовали, теперь с ними удобнее будет работать."
   ]
  },
  {
   "cell_type": "markdown",
   "metadata": {
    "id": "5ISfbcfY_Zct"
   },
   "source": [
    "### Пропуски значений\n",
    "Сначала посчитаем, сколько в таблице пропущенных значений. Для этого достаточно двух методов `pandas`:"
   ]
  },
  {
   "cell_type": "code",
   "execution_count": 8,
   "metadata": {
    "id": "RskX29qr_Zct"
   },
   "outputs": [
    {
     "data": {
      "text/plain": [
       "user_id       0\n",
       "track      1231\n",
       "artist     7203\n",
       "genre      1198\n",
       "city          0\n",
       "time          0\n",
       "day           0\n",
       "dtype: int64"
      ]
     },
     "execution_count": 8,
     "metadata": {},
     "output_type": "execute_result"
    }
   ],
   "source": [
    "#подсчёт пропусков\n",
    "df.isna().sum()"
   ]
  },
  {
   "cell_type": "markdown",
   "metadata": {
    "id": "qubhgnlO_Zct"
   },
   "source": [
    "Не все пропущенные значения влияют на исследование. Так в `track` и `artist` пропуски не важны для нашей работы. Достаточно заменить их явными обозначениями.\n",
    "\n",
    "Но пропуски в `genre` могут помешать сравнению музыкальных вкусов в Москве и Санкт-Петербурге. На практике было бы правильно установить причину пропусков и восстановить данные. Такой возможности нет в учебном проекте. Придётся:\n",
    "* заполнить и эти пропуски явными обозначениями,\n",
    "* оценить, насколько они повредят расчётам. "
   ]
  },
  {
   "cell_type": "markdown",
   "metadata": {
    "id": "fSv2laPA_Zct"
   },
   "source": [
    "Замена пропущенных значений в столбцах `track`, `artist` и `genre` на строку `'unknown'`."
   ]
  },
  {
   "cell_type": "code",
   "execution_count": 9,
   "metadata": {
    "id": "KplB5qWs_Zct"
   },
   "outputs": [],
   "source": [
    "#перебор названий столбцов в цикле и замена пропущенных значений на 'unknown'\n",
    "columns_to_replace = df.columns\n",
    "for column in columns_to_replace:\n",
    "    df[column] = df[column].fillna('unknown')"
   ]
  },
  {
   "cell_type": "markdown",
   "metadata": {
    "id": "Ilsm-MZo_Zct"
   },
   "source": [
    "Необходиом убедиться, что в таблице не осталось пропусков. Для этого ещё раз посчитаю пропущенные значения."
   ]
  },
  {
   "cell_type": "code",
   "execution_count": 10,
   "metadata": {
    "id": "Tq4nYRX4_Zct"
   },
   "outputs": [
    {
     "name": "stdout",
     "output_type": "stream",
     "text": [
      "user_id    0\n",
      "track      0\n",
      "artist     0\n",
      "genre      0\n",
      "city       0\n",
      "time       0\n",
      "day        0\n",
      "dtype: int64\n"
     ]
    }
   ],
   "source": [
    "#подсчёт пропусков\n",
    "print(df.isna().sum())"
   ]
  },
  {
   "cell_type": "markdown",
   "metadata": {},
   "source": [
    "Пропусков нет."
   ]
  },
  {
   "cell_type": "markdown",
   "metadata": {
    "id": "BWKRtBJ3_Zct"
   },
   "source": [
    "### Дубликаты\n",
    "Необходимо посчитать явные дубликаты в таблице:"
   ]
  },
  {
   "cell_type": "code",
   "execution_count": 11,
   "metadata": {
    "id": "36eES_S0_Zct"
   },
   "outputs": [
    {
     "name": "stdout",
     "output_type": "stream",
     "text": [
      "3826\n"
     ]
    }
   ],
   "source": [
    "#подсчёт явных дубликатов\n",
    "print(df.duplicated().sum())"
   ]
  },
  {
   "cell_type": "markdown",
   "metadata": {
    "id": "Ot25h6XR_Zct"
   },
   "source": [
    "Чистка дубликатов:"
   ]
  },
  {
   "cell_type": "code",
   "execution_count": 12,
   "metadata": {
    "id": "exFHq6tt_Zct"
   },
   "outputs": [],
   "source": [
    "#удаление явных дубликатов (с удалением старых индексов и формированием новых)\n",
    "df = df.drop_duplicates().reset_index()"
   ]
  },
  {
   "cell_type": "markdown",
   "metadata": {
    "id": "Im2YwBEG_Zct"
   },
   "source": [
    "Повторный подсчет явных дубликатов в таблице — необходимо убедититься, что полностью от них избавились:"
   ]
  },
  {
   "cell_type": "code",
   "execution_count": 13,
   "metadata": {
    "id": "-8PuNWQ0_Zct"
   },
   "outputs": [
    {
     "name": "stdout",
     "output_type": "stream",
     "text": [
      "0\n"
     ]
    }
   ],
   "source": [
    "#проверка на отсутствие дубликатов\n",
    "print(df.duplicated().sum())"
   ]
  },
  {
   "cell_type": "markdown",
   "metadata": {},
   "source": [
    "Полные дубли устранены"
   ]
  },
  {
   "cell_type": "markdown",
   "metadata": {
    "id": "QlFBsxAr_Zct"
   },
   "source": [
    "Теперь необходимо избавиться от неявных дубликатов в колонке `genre`. Например, название одного и того же жанра может быть записано немного по-разному. Такие ошибки тоже повлияют на результат исследования."
   ]
  },
  {
   "cell_type": "markdown",
   "metadata": {
    "id": "eSjWwsOh_Zct"
   },
   "source": [
    "Необходимо вывести на экран список уникальных названий жанров, отсортированный в алфавитном порядке. Для этого:\n",
    "* извлечь нужный столбец датафрейма, \n",
    "* применить к нему метод сортировки,\n",
    "* для отсортированного столбца вызвать метод, который вернёт уникальные значения из столбца."
   ]
  },
  {
   "cell_type": "code",
   "execution_count": 14,
   "metadata": {
    "id": "JIUcqzZN_Zct"
   },
   "outputs": [
    {
     "name": "stdout",
     "output_type": "stream",
     "text": [
      "['acid' 'acoustic' 'action' 'adult' 'africa' 'afrikaans' 'alternative'\n",
      " 'alternativepunk' 'ambient' 'americana' 'animated' 'anime' 'arabesk'\n",
      " 'arabic' 'arena' 'argentinetango' 'art' 'audiobook' 'author' 'avantgarde'\n",
      " 'axé' 'baile' 'balkan' 'beats' 'bigroom' 'black' 'bluegrass' 'blues'\n",
      " 'bollywood' 'bossa' 'brazilian' 'breakbeat' 'breaks' 'broadway'\n",
      " 'cantautori' 'cantopop' 'canzone' 'caribbean' 'caucasian' 'celtic'\n",
      " 'chamber' 'chanson' 'children' 'chill' 'chinese' 'choral' 'christian'\n",
      " 'christmas' 'classical' 'classicmetal' 'club' 'colombian' 'comedy'\n",
      " 'conjazz' 'contemporary' 'country' 'cuban' 'dance' 'dancehall' 'dancepop'\n",
      " 'dark' 'death' 'deep' 'deutschrock' 'deutschspr' 'dirty' 'disco' 'dnb'\n",
      " 'documentary' 'downbeat' 'downtempo' 'drum' 'dub' 'dubstep' 'eastern'\n",
      " 'easy' 'electronic' 'electropop' 'emo' 'entehno' 'epicmetal' 'estrada'\n",
      " 'ethnic' 'eurofolk' 'european' 'experimental' 'extrememetal' 'fado'\n",
      " 'fairytail' 'film' 'fitness' 'flamenco' 'folk' 'folklore' 'folkmetal'\n",
      " 'folkrock' 'folktronica' 'forró' 'frankreich' 'französisch' 'french'\n",
      " 'funk' 'future' 'gangsta' 'garage' 'german' 'ghazal' 'gitarre' 'glitch'\n",
      " 'gospel' 'gothic' 'grime' 'grunge' 'gypsy' 'handsup' \"hard'n'heavy\"\n",
      " 'hardcore' 'hardstyle' 'hardtechno' 'hip' 'hip-hop' 'hiphop' 'historisch'\n",
      " 'holiday' 'hop' 'horror' 'house' 'hymn' 'idm' 'independent' 'indian'\n",
      " 'indie' 'indipop' 'industrial' 'inspirational' 'instrumental'\n",
      " 'international' 'irish' 'jam' 'japanese' 'jazz' 'jewish' 'jpop' 'jungle'\n",
      " 'k-pop' 'karadeniz' 'karaoke' 'kayokyoku' 'korean' 'laiko' 'latin'\n",
      " 'latino' 'leftfield' 'local' 'lounge' 'loungeelectronic' 'lovers'\n",
      " 'malaysian' 'mandopop' 'marschmusik' 'meditative' 'mediterranean'\n",
      " 'melodic' 'metal' 'metalcore' 'mexican' 'middle' 'minimal'\n",
      " 'miscellaneous' 'modern' 'mood' 'mpb' 'muslim' 'native' 'neoklassik'\n",
      " 'neue' 'new' 'newage' 'newwave' 'nu' 'nujazz' 'numetal' 'oceania' 'old'\n",
      " 'opera' 'orchestral' 'other' 'piano' 'podcasts' 'pop' 'popdance'\n",
      " 'popelectronic' 'popeurodance' 'poprussian' 'post' 'posthardcore'\n",
      " 'postrock' 'power' 'progmetal' 'progressive' 'psychedelic' 'punjabi'\n",
      " 'punk' 'quebecois' 'ragga' 'ram' 'rancheras' 'rap' 'rave' 'reggae'\n",
      " 'reggaeton' 'regional' 'relax' 'religious' 'retro' 'rhythm' 'rnb' 'rnr'\n",
      " 'rock' 'rockabilly' 'rockalternative' 'rockindie' 'rockother' 'romance'\n",
      " 'roots' 'ruspop' 'rusrap' 'rusrock' 'russian' 'salsa' 'samba' 'scenic'\n",
      " 'schlager' 'self' 'sertanejo' 'shanson' 'shoegazing' 'showtunes' 'singer'\n",
      " 'ska' 'skarock' 'slow' 'smooth' 'soft' 'soul' 'soulful' 'sound'\n",
      " 'soundtrack' 'southern' 'specialty' 'speech' 'spiritual' 'sport'\n",
      " 'stonerrock' 'surf' 'swing' 'synthpop' 'synthrock' 'sängerportrait'\n",
      " 'tango' 'tanzorchester' 'taraftar' 'tatar' 'tech' 'techno' 'teen'\n",
      " 'thrash' 'top' 'traditional' 'tradjazz' 'trance' 'tribal' 'trip'\n",
      " 'triphop' 'tropical' 'türk' 'türkçe' 'ukrrock' 'unknown' 'urban' 'uzbek'\n",
      " 'variété' 'vi' 'videogame' 'vocal' 'western' 'world' 'worldbeat' 'ïîï'\n",
      " 'электроника']\n"
     ]
    }
   ],
   "source": [
    "#просмотр уникальных названий жанров\n",
    "print(df['genre'].sort_values().unique())"
   ]
  },
  {
   "cell_type": "markdown",
   "metadata": {
    "id": "qej-Qmuo_Zct"
   },
   "source": [
    "Найдены следующие неявные дубликаты:\n",
    "* *hip*,\n",
    "* *hop*,\n",
    "* *hip-hop*.\n",
    "\n",
    "Также присутствует неявный дубликат:\n",
    "* *электроника*\n",
    "\n",
    "Очистим от них таблицу посредством функции, функция будет содержать 2 параметра: \n",
    "* `wrong_genres` — список дубликатов,\n",
    "* `correct_genre` — строка с правильным значением."
   ]
  },
  {
   "cell_type": "code",
   "execution_count": 15,
   "metadata": {
    "id": "ErNDkmns_Zct"
   },
   "outputs": [],
   "source": [
    "#функция для замены неявных дубликатов\n",
    "def replace_wrong_genres(wrong_genres, correct_genre): \n",
    "    for wrong_genre in wrong_genres:\n",
    "        df['genre'] = df['genre'].replace(wrong_genre, correct_genre)"
   ]
  },
  {
   "cell_type": "code",
   "execution_count": 16,
   "metadata": {
    "id": "YN5i2hpmSo09"
   },
   "outputs": [],
   "source": [
    "#устранение неявных дубликатов\n",
    "duplicates = ['hip', 'hop', 'hip-hop',]\n",
    "correct = 'hiphop'\n",
    "replace_wrong_genres(duplicates, correct)\n",
    "\n",
    "duplicates = ['электроника']\n",
    "correct = 'electronic'\n",
    "replace_wrong_genres(duplicates, correct)"
   ]
  },
  {
   "cell_type": "markdown",
   "metadata": {
    "id": "zQKF16_RG15m"
   },
   "source": [
    "Необходимо проверить, что заменили неправильные названия:\n",
    "\n",
    "*   hip\n",
    "*   hop\n",
    "*   hip-hop\n",
    "*   электроника\n",
    "\n",
    "Вывести отсортированный список уникальных значений столбца `genre`:"
   ]
  },
  {
   "cell_type": "code",
   "execution_count": 17,
   "metadata": {
    "id": "wvixALnFG15m"
   },
   "outputs": [
    {
     "name": "stdout",
     "output_type": "stream",
     "text": [
      "['acid' 'acoustic' 'action' 'adult' 'africa' 'afrikaans' 'alternative'\n",
      " 'alternativepunk' 'ambient' 'americana' 'animated' 'anime' 'arabesk'\n",
      " 'arabic' 'arena' 'argentinetango' 'art' 'audiobook' 'author' 'avantgarde'\n",
      " 'axé' 'baile' 'balkan' 'beats' 'bigroom' 'black' 'bluegrass' 'blues'\n",
      " 'bollywood' 'bossa' 'brazilian' 'breakbeat' 'breaks' 'broadway'\n",
      " 'cantautori' 'cantopop' 'canzone' 'caribbean' 'caucasian' 'celtic'\n",
      " 'chamber' 'chanson' 'children' 'chill' 'chinese' 'choral' 'christian'\n",
      " 'christmas' 'classical' 'classicmetal' 'club' 'colombian' 'comedy'\n",
      " 'conjazz' 'contemporary' 'country' 'cuban' 'dance' 'dancehall' 'dancepop'\n",
      " 'dark' 'death' 'deep' 'deutschrock' 'deutschspr' 'dirty' 'disco' 'dnb'\n",
      " 'documentary' 'downbeat' 'downtempo' 'drum' 'dub' 'dubstep' 'eastern'\n",
      " 'easy' 'electronic' 'electropop' 'emo' 'entehno' 'epicmetal' 'estrada'\n",
      " 'ethnic' 'eurofolk' 'european' 'experimental' 'extrememetal' 'fado'\n",
      " 'fairytail' 'film' 'fitness' 'flamenco' 'folk' 'folklore' 'folkmetal'\n",
      " 'folkrock' 'folktronica' 'forró' 'frankreich' 'französisch' 'french'\n",
      " 'funk' 'future' 'gangsta' 'garage' 'german' 'ghazal' 'gitarre' 'glitch'\n",
      " 'gospel' 'gothic' 'grime' 'grunge' 'gypsy' 'handsup' \"hard'n'heavy\"\n",
      " 'hardcore' 'hardstyle' 'hardtechno' 'hiphop' 'historisch' 'holiday'\n",
      " 'horror' 'house' 'hymn' 'idm' 'independent' 'indian' 'indie' 'indipop'\n",
      " 'industrial' 'inspirational' 'instrumental' 'international' 'irish' 'jam'\n",
      " 'japanese' 'jazz' 'jewish' 'jpop' 'jungle' 'k-pop' 'karadeniz' 'karaoke'\n",
      " 'kayokyoku' 'korean' 'laiko' 'latin' 'latino' 'leftfield' 'local'\n",
      " 'lounge' 'loungeelectronic' 'lovers' 'malaysian' 'mandopop' 'marschmusik'\n",
      " 'meditative' 'mediterranean' 'melodic' 'metal' 'metalcore' 'mexican'\n",
      " 'middle' 'minimal' 'miscellaneous' 'modern' 'mood' 'mpb' 'muslim'\n",
      " 'native' 'neoklassik' 'neue' 'new' 'newage' 'newwave' 'nu' 'nujazz'\n",
      " 'numetal' 'oceania' 'old' 'opera' 'orchestral' 'other' 'piano' 'podcasts'\n",
      " 'pop' 'popdance' 'popelectronic' 'popeurodance' 'poprussian' 'post'\n",
      " 'posthardcore' 'postrock' 'power' 'progmetal' 'progressive' 'psychedelic'\n",
      " 'punjabi' 'punk' 'quebecois' 'ragga' 'ram' 'rancheras' 'rap' 'rave'\n",
      " 'reggae' 'reggaeton' 'regional' 'relax' 'religious' 'retro' 'rhythm'\n",
      " 'rnb' 'rnr' 'rock' 'rockabilly' 'rockalternative' 'rockindie' 'rockother'\n",
      " 'romance' 'roots' 'ruspop' 'rusrap' 'rusrock' 'russian' 'salsa' 'samba'\n",
      " 'scenic' 'schlager' 'self' 'sertanejo' 'shanson' 'shoegazing' 'showtunes'\n",
      " 'singer' 'ska' 'skarock' 'slow' 'smooth' 'soft' 'soul' 'soulful' 'sound'\n",
      " 'soundtrack' 'southern' 'specialty' 'speech' 'spiritual' 'sport'\n",
      " 'stonerrock' 'surf' 'swing' 'synthpop' 'synthrock' 'sängerportrait'\n",
      " 'tango' 'tanzorchester' 'taraftar' 'tatar' 'tech' 'techno' 'teen'\n",
      " 'thrash' 'top' 'traditional' 'tradjazz' 'trance' 'tribal' 'trip'\n",
      " 'triphop' 'tropical' 'türk' 'türkçe' 'ukrrock' 'unknown' 'urban' 'uzbek'\n",
      " 'variété' 'vi' 'videogame' 'vocal' 'western' 'world' 'worldbeat' 'ïîï']\n"
     ]
    }
   ],
   "source": [
    "#проверка на неявные дубликаты\n",
    "print(df['genre'].sort_values().unique())"
   ]
  },
  {
   "cell_type": "markdown",
   "metadata": {
    "id": "jz6a9-7HQUDd"
   },
   "source": [
    "**Выводы**\n",
    "\n",
    "Предобработка обнаружила три проблемы в данных:\n",
    "\n",
    "- нарушения в стиле заголовков,\n",
    "- пропущенные значения,\n",
    "- дубликаты — явные и неявные.\n",
    "\n",
    "Вы исправили заголовки, чтобы упростить работу с таблицей. Без дубликатов исследование станет более точным.\n",
    "\n",
    "Пропущенные значения вы заменили на `'unknown'`. Ещё предстоит увидеть, не повредят ли исследованию пропуски в колонке `genre`.\n",
    "\n",
    "Теперь можно перейти к проверке гипотез. "
   ]
  },
  {
   "cell_type": "markdown",
   "metadata": {
    "id": "WttZHXH0SqKk"
   },
   "source": [
    "## Проверка гипотез"
   ]
  },
  {
   "cell_type": "markdown",
   "metadata": {
    "id": "Im936VVi_Zcu"
   },
   "source": [
    "### Сравнение поведения пользователей двух столиц"
   ]
  },
  {
   "cell_type": "markdown",
   "metadata": {
    "id": "nwt_MuaL_Zcu"
   },
   "source": [
    "Первая гипотеза утверждает, что пользователи по-разному слушают музыку в Москве и Санкт-Петербурге. Проверю это предположение по данным о трёх днях недели — понедельнике, среде и пятнице. Для этого необходимо:\n",
    "\n",
    "* Разделить пользователей Москвы и Санкт-Петербурга\n",
    "* Сравнить, сколько треков послушала каждая группа пользователей в понедельник, среду и пятницу.\n"
   ]
  },
  {
   "cell_type": "markdown",
   "metadata": {
    "id": "8Dw_YMmT_Zcu"
   },
   "source": [
    "Оценка активности пользователей в каждом городе. Группировка данных по городу и подсчет прослушивания в каждой группе."
   ]
  },
  {
   "cell_type": "code",
   "execution_count": 18,
   "metadata": {
    "id": "0_Qs96oh_Zcu"
   },
   "outputs": [
    {
     "data": {
      "text/plain": [
       "city\n",
       "Moscow              42741\n",
       "Saint-Petersburg    18512\n",
       "Name: genre, dtype: int64"
      ]
     },
     "execution_count": 18,
     "metadata": {},
     "output_type": "execute_result"
    }
   ],
   "source": [
    "#подсчёт прослушиваний в каждом городе\n",
    "df.groupby('city')['genre'].count()"
   ]
  },
  {
   "cell_type": "markdown",
   "metadata": {
    "id": "dzli3w8o_Zcu"
   },
   "source": [
    "В Москве прослушиваний больше, чем в Петербурге. Из этого не следует, что московские пользователи чаще слушают музыку. Просто самих пользователей в Москве больше.\n",
    "\n",
    "Теперь сгруппирую данные по дню недели и подсчитайте прослушивания в понедельник, среду и пятницу."
   ]
  },
  {
   "cell_type": "code",
   "execution_count": 19,
   "metadata": {
    "id": "uZMKjiJz_Zcu"
   },
   "outputs": [
    {
     "data": {
      "text/plain": [
       "day\n",
       "Friday       21840\n",
       "Monday       21354\n",
       "Wednesday    18059\n",
       "Name: genre, dtype: int64"
      ]
     },
     "execution_count": 19,
     "metadata": {},
     "output_type": "execute_result"
    }
   ],
   "source": [
    "#подсчёт прослушиваний в каждый из трёх дней\n",
    "df.groupby('day')['genre'].count()"
   ]
  },
  {
   "cell_type": "markdown",
   "metadata": {
    "id": "cC2tNrlL_Zcu"
   },
   "source": [
    "В среднем пользователи из двух городов менее активны по средам. Но картина может измениться, если рассмотреть каждый город в отдельности."
   ]
  },
  {
   "cell_type": "markdown",
   "metadata": {
    "id": "POzs8bGa_Zcu"
   },
   "source": [
    "Теперь необходимо написать функцию, которая объединит два эти расчёта.\n",
    "\n",
    "Создать функцию `number_tracks()`, которая посчитает прослушивания для заданного дня и города. Ей понадобятся два параметра:\n",
    "* день недели,\n",
    "* название города.\n",
    "\n",
    "В функции сохранить в переменную строки исходной таблицы, у которых значение:\n",
    "  * в колонке `day` равно параметру `day`,\n",
    "  * в колонке `city` равно параметру `city`.\n",
    "\n",
    "Для этого применить последовательную фильтрацию с логической индексацией.\n",
    "\n",
    "Затем посчитать значения в столбце `user_id` получившейся таблицы. Результат сохранить в новую переменную. Вернуть эту переменную из функции."
   ]
  },
  {
   "cell_type": "code",
   "execution_count": 20,
   "metadata": {
    "id": "Nz3GdQB1_Zcu"
   },
   "outputs": [],
   "source": [
    "# <создание функции number_tracks()>\n",
    "# объявляется функция с двумя параметрами: day, city.\n",
    "\n",
    "def number_tracks(day, city):\n",
    "    track_list = df[(df['day'] == day) & (df['city'] == city)]\n",
    "    track_list_count = track_list['user_id'].count()\n",
    "    return track_list_count\n",
    "\n",
    "# в переменной track_list сохраняются те строки таблицы df, для которых \n",
    "# значение в столбце 'day' равно параметру day и одновременно значение\n",
    "# в столбце 'city' равно параметру city (используйте последовательную фильтрацию\n",
    "# с помощью логической индексации).\n",
    "    \n",
    "# в переменной track_list_count сохраняется число значений столбца 'user_id',\n",
    "# рассчитанное методом count() для таблицы track_list.\n",
    "    \n",
    "# Функция возвращает число - значение track_list_count.\n",
    "# Функция для подсчёта прослушиваний для конкретного города и дня.\n",
    "# С помощью последовательной фильтрации с логической индексацией она \n",
    "# сначала получит из исходной таблицы строки с нужным днём,\n",
    "# затем из результата отфильтрует строки с нужным городом,\n",
    "# методом count() посчитает количество значений в колонке user_id. \n",
    "# Это количество функция вернёт в качестве результата"
   ]
  },
  {
   "cell_type": "markdown",
   "metadata": {
    "id": "ytf7xFrFJQ2r"
   },
   "source": [
    "Необходимо вызвать `number_tracks()` шесть раз, меняя значение параметров — так, чтобы получить данные для каждого города в каждый из трёх дней."
   ]
  },
  {
   "cell_type": "code",
   "execution_count": 21,
   "metadata": {
    "id": "rJcRATNQ_Zcu"
   },
   "outputs": [
    {
     "data": {
      "text/plain": [
       "15740"
      ]
     },
     "execution_count": 21,
     "metadata": {},
     "output_type": "execute_result"
    }
   ],
   "source": [
    "#количество прослушиваний в Москве по понедельникам\n",
    "number_tracks('Monday', 'Moscow')"
   ]
  },
  {
   "cell_type": "code",
   "execution_count": 22,
   "metadata": {
    "id": "hq_ncZ5T_Zcu"
   },
   "outputs": [
    {
     "data": {
      "text/plain": [
       "5614"
      ]
     },
     "execution_count": 22,
     "metadata": {},
     "output_type": "execute_result"
    }
   ],
   "source": [
    "#количество прослушиваний в Санкт-Петербурге по понедельникам\n",
    "number_tracks('Monday', 'Saint-Petersburg')"
   ]
  },
  {
   "cell_type": "code",
   "execution_count": 23,
   "metadata": {
    "id": "_NTy2VPU_Zcu"
   },
   "outputs": [
    {
     "data": {
      "text/plain": [
       "11056"
      ]
     },
     "execution_count": 23,
     "metadata": {},
     "output_type": "execute_result"
    }
   ],
   "source": [
    "#количество прослушиваний в Москве по средам\n",
    "number_tracks('Wednesday', 'Moscow')"
   ]
  },
  {
   "cell_type": "code",
   "execution_count": 24,
   "metadata": {
    "id": "j2y3TAwo_Zcu"
   },
   "outputs": [
    {
     "data": {
      "text/plain": [
       "7003"
      ]
     },
     "execution_count": 24,
     "metadata": {},
     "output_type": "execute_result"
    }
   ],
   "source": [
    "#количество прослушиваний в Санкт-Петербурге по средам\n",
    "number_tracks('Wednesday', 'Saint-Petersburg')"
   ]
  },
  {
   "cell_type": "code",
   "execution_count": 25,
   "metadata": {
    "id": "vYDw5u_K_Zcu"
   },
   "outputs": [
    {
     "data": {
      "text/plain": [
       "15945"
      ]
     },
     "execution_count": 25,
     "metadata": {},
     "output_type": "execute_result"
    }
   ],
   "source": [
    "#количество прослушиваний в Москве по пятницам\n",
    "number_tracks('Friday', 'Moscow')"
   ]
  },
  {
   "cell_type": "code",
   "execution_count": 26,
   "metadata": {
    "id": "8_yzFtW3_Zcu"
   },
   "outputs": [
    {
     "data": {
      "text/plain": [
       "5895"
      ]
     },
     "execution_count": 26,
     "metadata": {},
     "output_type": "execute_result"
    }
   ],
   "source": [
    "#количество прослушиваний в Санкт-Петербурге по пятницам\n",
    "number_tracks('Friday', 'Saint-Petersburg') "
   ]
  },
  {
   "cell_type": "markdown",
   "metadata": {
    "id": "7QXffbO-_Zcu"
   },
   "source": [
    "Создать c помощью конструктора `pd.DataFrame` таблицу, где\n",
    "* названия колонок — `['city', 'monday', 'wednesday', 'friday']`;\n",
    "* данные — результаты, которые вы получили с помощью `number_tracks`."
   ]
  },
  {
   "cell_type": "code",
   "execution_count": 27,
   "metadata": {
    "id": "APAcLpOr_Zcu"
   },
   "outputs": [
    {
     "data": {
      "text/html": [
       "<div>\n",
       "<style scoped>\n",
       "    .dataframe tbody tr th:only-of-type {\n",
       "        vertical-align: middle;\n",
       "    }\n",
       "\n",
       "    .dataframe tbody tr th {\n",
       "        vertical-align: top;\n",
       "    }\n",
       "\n",
       "    .dataframe thead th {\n",
       "        text-align: right;\n",
       "    }\n",
       "</style>\n",
       "<table border=\"1\" class=\"dataframe\">\n",
       "  <thead>\n",
       "    <tr style=\"text-align: right;\">\n",
       "      <th></th>\n",
       "      <th>city</th>\n",
       "      <th>monday</th>\n",
       "      <th>wednesday</th>\n",
       "      <th>friday</th>\n",
       "    </tr>\n",
       "  </thead>\n",
       "  <tbody>\n",
       "    <tr>\n",
       "      <th>0</th>\n",
       "      <td>Moscow</td>\n",
       "      <td>15740</td>\n",
       "      <td>11056</td>\n",
       "      <td>15945</td>\n",
       "    </tr>\n",
       "    <tr>\n",
       "      <th>1</th>\n",
       "      <td>Saint-Petersburg</td>\n",
       "      <td>5614</td>\n",
       "      <td>7003</td>\n",
       "      <td>5895</td>\n",
       "    </tr>\n",
       "  </tbody>\n",
       "</table>\n",
       "</div>"
      ],
      "text/plain": [
       "               city  monday  wednesday  friday\n",
       "0            Moscow   15740      11056   15945\n",
       "1  Saint-Petersburg    5614       7003    5895"
      ]
     },
     "execution_count": 27,
     "metadata": {},
     "output_type": "execute_result"
    }
   ],
   "source": [
    "data = [['Moscow', 15740, 11056, 15945],\n",
    "       ['Saint-Petersburg', 5614, 7003, 5895]]\n",
    "columns = ['city', 'monday', 'wednesday', 'friday']\n",
    "\n",
    "#таблица с результатами\n",
    "pd.DataFrame(data = data, columns = columns) "
   ]
  },
  {
   "cell_type": "markdown",
   "metadata": {
    "id": "-EgPIHYu_Zcu"
   },
   "source": [
    "**Выводы**\n",
    "\n",
    "Данные показывают разницу поведения пользователей:\n",
    "\n",
    "- В Москве пик прослушиваний приходится на понедельник и пятницу, а в среду заметен спад.\n",
    "- В Петербурге, наоборот, больше слушают музыку по средам. Активность в понедельник и пятницу здесь почти в равной мере уступает среде.\n",
    "\n",
    "Значит, данные говорят в пользу первой гипотезы."
   ]
  },
  {
   "cell_type": "markdown",
   "metadata": {
    "id": "atZAxtq4_Zcu"
   },
   "source": [
    "### Музыка в начале и в конце недели"
   ]
  },
  {
   "cell_type": "markdown",
   "metadata": {
    "id": "eXrQqXFH_Zcu"
   },
   "source": [
    "Согласно второй гипотезе, утром в понедельник в Москве преобладают одни жанры, а в Петербурге — другие. Так же и вечером пятницы преобладают разные жанры — в зависимости от города."
   ]
  },
  {
   "cell_type": "markdown",
   "metadata": {
    "id": "S8UcW6Hw_Zcu"
   },
   "source": [
    "Сохранить таблицы с данными в две переменные:\n",
    "* по Москве — в `moscow_general`;\n",
    "* по Санкт-Петербургу — в `spb_general`."
   ]
  },
  {
   "cell_type": "code",
   "execution_count": 28,
   "metadata": {
    "id": "qeaFfM_P_Zcu"
   },
   "outputs": [],
   "source": [
    "# получение таблицы moscow_general из тех строк таблицы df, \n",
    "# для которых значение в столбце 'city' равно 'Moscow'\n",
    "moscow_general = df[df['city'] == 'Moscow']\n"
   ]
  },
  {
   "cell_type": "code",
   "execution_count": 29,
   "metadata": {
    "id": "ORaVRKto_Zcu"
   },
   "outputs": [],
   "source": [
    "# получение таблицы spb_general из тех строк таблицы df,\n",
    "# для которых значение в столбце 'city' равно 'Saint-Petersburg'\n",
    "spb_general = df[df['city'] == 'Saint-Petersburg']\n"
   ]
  },
  {
   "cell_type": "markdown",
   "metadata": {
    "id": "MEJV-CX2_Zcu"
   },
   "source": [
    "Создать функцию `genre_weekday()` с четырьмя параметрами:\n",
    "* таблица (датафрейм) с данными,\n",
    "* день недели,\n",
    "* начальная временная метка в формате 'hh:mm', \n",
    "* последняя временная метка в формате 'hh:mm'.\n",
    "\n",
    "Функция должна вернуть информацию о топ-10 жанров тех треков, которые прослушивали в указанный день, в промежутке между двумя отметками времени."
   ]
  },
  {
   "cell_type": "code",
   "execution_count": 30,
   "metadata": {
    "id": "laJT9BYl_Zcu"
   },
   "outputs": [],
   "source": [
    "# Объявление функции genre_weekday() с параметрами table, day, time1, time2,\n",
    "# которая возвращает информацию о самых популярных жанрах в указанный день в\n",
    "# заданное время:\n",
    "def genre_weekday(table, day, time1, time2):\n",
    "    genre_df = table[(table['day'] == day) & (table['time'] > time1) & (table['time'] < time2)]\n",
    "    genre_df_count = genre_df.groupby('genre')['genre'].count()\n",
    "    genre_df_sorted = genre_df_count.sort_values(ascending = False)\n",
    "    return genre_df_sorted.head(10)\n",
    "# 1) в переменную genre_df сохраняются те строки переданного датафрейма table, для\n",
    "#    которых одновременно:\n",
    "#    - значение в столбце day равно значению аргумента day\n",
    "#    - значение в столбце time больше значения аргумента time1\n",
    "#    - значение в столбце time меньше значения аргумента time2\n",
    "#    Используйте последовательную фильтрацию с помощью логической индексации.\n",
    "# 2) сгруппировать датафрейм genre_df по столбцу genre, взять один из его\n",
    "#    столбцов и посчитать методом count() количество записей для каждого из\n",
    "#    присутствующих жанров, получившийся Series записать в переменную\n",
    "#    genre_df_count\n",
    "# 3) отсортировать genre_df_count по убыванию встречаемости и сохранить\n",
    "#    в переменную genre_df_sorted\n",
    "# 4) вернуть Series из 10 первых значений genre_df_sorted, это будут топ-10\n",
    "#    популярных жанров (в указанный день, в заданное время)"
   ]
  },
  {
   "cell_type": "markdown",
   "metadata": {
    "id": "la2s2_PF_Zcu"
   },
   "source": [
    "Cравнить результаты функции `genre_weekday()` для Москвы и Санкт-Петербурга в понедельник утром (с 7:00 до 11:00) и в пятницу вечером (с 17:00 до 23:00):"
   ]
  },
  {
   "cell_type": "code",
   "execution_count": 31,
   "metadata": {
    "id": "yz7itPUQ_Zcu"
   },
   "outputs": [
    {
     "data": {
      "text/plain": [
       "genre\n",
       "pop            781\n",
       "dance          549\n",
       "electronic     480\n",
       "rock           474\n",
       "hiphop         286\n",
       "ruspop         186\n",
       "world          181\n",
       "rusrap         175\n",
       "alternative    164\n",
       "unknown        161\n",
       "Name: genre, dtype: int64"
      ]
     },
     "execution_count": 31,
     "metadata": {},
     "output_type": "execute_result"
    }
   ],
   "source": [
    "# вызов функции для утра понедельника в Москве (вместо df — таблица moscow_general)\n",
    "genre_weekday(moscow_general, 'Monday', '07:00', '11:00')\n",
    "# объекты, хранящие время, являются строками и сравниваются как строки\n",
    "# пример вызова: genre_weekday(moscow_general, 'Monday', '07:00', '11:00')"
   ]
  },
  {
   "cell_type": "code",
   "execution_count": 32,
   "metadata": {
    "id": "kwUcHPdy_Zcu"
   },
   "outputs": [
    {
     "data": {
      "text/plain": [
       "genre\n",
       "pop            218\n",
       "dance          182\n",
       "rock           162\n",
       "electronic     147\n",
       "hiphop          80\n",
       "ruspop          64\n",
       "alternative     58\n",
       "rusrap          55\n",
       "jazz            44\n",
       "classical       40\n",
       "Name: genre, dtype: int64"
      ]
     },
     "execution_count": 32,
     "metadata": {},
     "output_type": "execute_result"
    }
   ],
   "source": [
    "#вызов функции для утра понедельника в Петербурге (вместо df — таблица spb_general)\n",
    "genre_weekday(spb_general, 'Monday', '07:00', '11:00') "
   ]
  },
  {
   "cell_type": "code",
   "execution_count": 33,
   "metadata": {
    "id": "EzXVRE1o_Zcu"
   },
   "outputs": [
    {
     "data": {
      "text/plain": [
       "genre\n",
       "pop            713\n",
       "rock           517\n",
       "dance          495\n",
       "electronic     482\n",
       "hiphop         273\n",
       "world          208\n",
       "ruspop         170\n",
       "alternative    163\n",
       "classical      163\n",
       "rusrap         142\n",
       "Name: genre, dtype: int64"
      ]
     },
     "execution_count": 33,
     "metadata": {},
     "output_type": "execute_result"
    }
   ],
   "source": [
    "#вызов функции для вечера пятницы в Москве\n",
    "genre_weekday(moscow_general, 'Friday', '17:00', '23:00') # вызов функции для вечера пятницы в Москве"
   ]
  },
  {
   "cell_type": "code",
   "execution_count": 34,
   "metadata": {
    "id": "JZaEKu5v_Zcu"
   },
   "outputs": [
    {
     "data": {
      "text/plain": [
       "genre\n",
       "pop            256\n",
       "electronic     216\n",
       "rock           216\n",
       "dance          210\n",
       "hiphop          97\n",
       "alternative     63\n",
       "jazz            61\n",
       "classical       60\n",
       "rusrap          59\n",
       "world           54\n",
       "Name: genre, dtype: int64"
      ]
     },
     "execution_count": 34,
     "metadata": {},
     "output_type": "execute_result"
    }
   ],
   "source": [
    "#вызов функции для вечера пятницы в Петербурге\n",
    "genre_weekday(spb_general, 'Friday', '17:00', '23:00') "
   ]
  },
  {
   "cell_type": "markdown",
   "metadata": {
    "id": "wrCe4MNX_Zcu"
   },
   "source": [
    "**Выводы**\n",
    "\n",
    "Если сравнить топ-10 жанров в понедельник утром, можно сделать такие выводы:\n",
    "\n",
    "1. В Москве и Петербурге слушают похожую музыку. Единственное отличие — в московский рейтинг вошёл жанр “world”, а в петербургский — джаз и классика.\n",
    "\n",
    "2. В Москве пропущенных значений оказалось так много, что значение `'unknown'` заняло десятое место среди самых популярных жанров. Значит, пропущенные значения занимают существенную долю в данных и угрожают достоверности исследования.\n",
    "\n",
    "Вечер пятницы не меняет эту картину. Некоторые жанры поднимаются немного выше, другие спускаются, но в целом топ-10 остаётся тем же самым.\n",
    "\n",
    "Таким образом, вторая гипотеза подтвердилась лишь частично:\n",
    "* Пользователи слушают похожую музыку в начале недели и в конце.\n",
    "* Разница между Москвой и Петербургом не слишком выражена. В Москве чаще слушают русскую популярную музыку, в Петербурге — джаз.\n",
    "\n",
    "Однако пропуски в данных ставят под сомнение этот результат. В Москве их так много, что рейтинг топ-10 мог бы выглядеть иначе, если бы не утерянные  данные о жанрах."
   ]
  },
  {
   "cell_type": "markdown",
   "metadata": {
    "id": "JolODAqr_Zcu"
   },
   "source": [
    "### Жанровые предпочтения в Москве и Петербурге\n",
    "\n",
    "Гипотеза: Петербург — столица рэпа, музыку этого жанра там слушают чаще, чем в Москве.  А Москва — город контрастов, в котором, тем не менее, преобладает поп-музыка."
   ]
  },
  {
   "cell_type": "markdown",
   "metadata": {
    "id": "DlegSvaT_Zcu"
   },
   "source": [
    "Сгруппируйте таблицу `moscow_general` по жанру и посчитайте прослушивания треков каждого жанра методом `count()`. Затем отсортируйте результат в порядке убывания и сохраните его в таблице `moscow_genres`."
   ]
  },
  {
   "cell_type": "code",
   "execution_count": 35,
   "metadata": {
    "id": "r19lIPke_Zcu"
   },
   "outputs": [],
   "source": [
    "# одной строкой: группировка таблицы moscow_general по столбцу 'genre',\n",
    "moscow_genres = moscow_general.groupby('genre')['genre'].count().sort_values(ascending = False)\n",
    "# подсчёт числа значений 'genre' в этой группировке методом count(), \n",
    "# сортировка получившегося Series в порядке убывания и сохранение в moscow_genres"
   ]
  },
  {
   "cell_type": "markdown",
   "metadata": {
    "id": "6kMuomxTiIr8"
   },
   "source": [
    "Выведите на экран первые десять строк `moscow_genres`:"
   ]
  },
  {
   "cell_type": "code",
   "execution_count": 36,
   "metadata": {
    "id": "WhCSooF8_Zcv"
   },
   "outputs": [
    {
     "data": {
      "text/plain": [
       "genre\n",
       "pop            5892\n",
       "dance          4435\n",
       "rock           3965\n",
       "electronic     3786\n",
       "hiphop         2096\n",
       "classical      1616\n",
       "world          1432\n",
       "alternative    1379\n",
       "ruspop         1372\n",
       "rusrap         1161\n",
       "Name: genre, dtype: int64"
      ]
     },
     "execution_count": 36,
     "metadata": {},
     "output_type": "execute_result"
    }
   ],
   "source": [
    "#просмотр первых 10 строк moscow_genres\n",
    "moscow_genres.head(10)"
   ]
  },
  {
   "cell_type": "markdown",
   "metadata": {},
   "source": [
    "<div class=\"alert alert-success\">\n",
    "<b>Комментарий ревьюера:</b> ✅ Топ-10 жанров для Москвы получен.\n",
    "</div>"
   ]
  },
  {
   "cell_type": "markdown",
   "metadata": {
    "id": "cnPG2vnN_Zcv"
   },
   "source": [
    "Теперь повторите то же и для Петербурга.\n",
    "\n",
    "Сгруппируйте таблицу `spb_general` по жанру. Посчитайте прослушивания треков каждого жанра. Результат отсортируйте в порядке убывания и сохраните в таблице `spb_genres`:\n"
   ]
  },
  {
   "cell_type": "code",
   "execution_count": 37,
   "metadata": {
    "id": "gluLIpE7_Zcv"
   },
   "outputs": [],
   "source": [
    "spb_genres = spb_general.groupby('genre')['genre'].count().sort_values(ascending = False)\n",
    "# одной строкой: группировка таблицы spb_general по столбцу 'genre', \n",
    "# подсчёт числа значений 'genre' в этой группировке методом count(), \n",
    "# сортировка получившегося Series в порядке убывания и сохранение в spb_genres"
   ]
  },
  {
   "cell_type": "markdown",
   "metadata": {
    "id": "5Doha_ODgyQ8"
   },
   "source": [
    "Выведите на экран первые десять строк `spb_genres`:"
   ]
  },
  {
   "cell_type": "code",
   "execution_count": 38,
   "metadata": {
    "id": "uaGJHjVU_Zcv"
   },
   "outputs": [
    {
     "data": {
      "text/plain": [
       "genre\n",
       "pop            2431\n",
       "dance          1932\n",
       "rock           1879\n",
       "electronic     1737\n",
       "hiphop          960\n",
       "alternative     649\n",
       "classical       646\n",
       "rusrap          564\n",
       "ruspop          538\n",
       "world           515\n",
       "Name: genre, dtype: int64"
      ]
     },
     "execution_count": 38,
     "metadata": {},
     "output_type": "execute_result"
    }
   ],
   "source": [
    "# просмотр первых 10 строк spb_genres\n",
    "spb_genres.head(10)"
   ]
  },
  {
   "cell_type": "markdown",
   "metadata": {
    "id": "RY51YJYu_Zcv"
   },
   "source": [
    "**Выводы**"
   ]
  },
  {
   "cell_type": "markdown",
   "metadata": {
    "id": "nVhnJEm__Zcv"
   },
   "source": [
    "Гипотеза частично подтвердилась:\n",
    "* Поп-музыка — самый популярный жанр в Москве, как и предполагала гипотеза. Более того, в топ-10 жанров встречается близкий жанр — русская популярная музыка.\n",
    "* Вопреки ожиданиям, рэп одинаково популярен в Москве и Петербурге. \n"
   ]
  },
  {
   "cell_type": "markdown",
   "metadata": {
    "id": "ykKQ0N65_Zcv"
   },
   "source": [
    "## Итоги исследования"
   ]
  },
  {
   "cell_type": "markdown",
   "metadata": {
    "id": "tjUwbHb3_Zcv"
   },
   "source": [
    "Вы проверили три гипотезы и установили:\n",
    "\n",
    "1. День недели по-разному влияет на активность пользователей в Москве и Петербурге. \n",
    "\n",
    "Первая гипотеза полностью подтвердилась.\n",
    "\n",
    "2. Музыкальные предпочтения не сильно меняются в течение недели — будь то Москва или Петербург. Небольшие различия заметны в начале недели, по понедельникам:\n",
    "* в Москве слушают музыку жанра “world”,\n",
    "* в Петербурге — джаз и классику.\n",
    "\n",
    "Таким образом, вторая гипотеза подтвердилась лишь отчасти. Этот результат мог оказаться иным, если бы не пропуски в данных.\n",
    "\n",
    "3. Во вкусах пользователей Москвы и Петербурга больше общего чем различий. Вопреки ожиданиям, предпочтения жанров в Петербурге напоминают московские.\n",
    "\n",
    "Третья гипотеза не подтвердилась. Если различия в предпочтениях и существуют, на основной массе пользователей они незаметны.\n",
    "\n",
    "**На практике исследования содержат проверки статистических гипотез.**\n",
    "Из данных одного сервиса не всегда можно сделать вывод о всех жителях города.\n",
    "Проверки статистических гипотез покажут, насколько они достоверны, исходя из имеющихся данных. \n",
    "С методами проверок гипотез вы ещё познакомитесь в следующих темах."
   ]
  }
 ],
 "metadata": {
  "ExecuteTimeLog": [
   {
    "duration": 480,
    "start_time": "2021-12-08T09:59:21.654Z"
   },
   {
    "duration": 1539,
    "start_time": "2021-12-08T10:01:29.453Z"
   },
   {
    "duration": 695,
    "start_time": "2021-12-08T10:01:31.773Z"
   },
   {
    "duration": 735,
    "start_time": "2021-12-08T10:01:52.197Z"
   },
   {
    "duration": 3,
    "start_time": "2021-12-08T10:01:55.908Z"
   },
   {
    "duration": 6,
    "start_time": "2021-12-08T10:02:13.013Z"
   },
   {
    "duration": 811,
    "start_time": "2021-12-08T10:02:57.732Z"
   },
   {
    "duration": 1132,
    "start_time": "2021-12-08T10:03:24.019Z"
   },
   {
    "duration": 641,
    "start_time": "2021-12-08T10:05:40.305Z"
   },
   {
    "duration": 379,
    "start_time": "2021-12-08T10:06:00.802Z"
   },
   {
    "duration": 390,
    "start_time": "2021-12-08T10:06:16.017Z"
   },
   {
    "duration": 183,
    "start_time": "2021-12-08T10:06:25.817Z"
   },
   {
    "duration": 28,
    "start_time": "2021-12-08T10:06:28.937Z"
   },
   {
    "duration": 754,
    "start_time": "2021-12-08T10:07:28.960Z"
   },
   {
    "duration": 35,
    "start_time": "2021-12-08T10:07:37.368Z"
   },
   {
    "duration": 31,
    "start_time": "2021-12-08T10:07:41.608Z"
   },
   {
    "duration": 180,
    "start_time": "2021-12-08T10:13:43.972Z"
   },
   {
    "duration": 5,
    "start_time": "2021-12-08T10:13:55.644Z"
   },
   {
    "duration": 5,
    "start_time": "2021-12-08T10:14:01.595Z"
   },
   {
    "duration": 6,
    "start_time": "2021-12-08T10:14:10.739Z"
   },
   {
    "duration": 5,
    "start_time": "2021-12-08T10:14:13.940Z"
   },
   {
    "duration": 5,
    "start_time": "2021-12-08T10:14:19.260Z"
   },
   {
    "duration": 5,
    "start_time": "2021-12-08T10:14:24.299Z"
   },
   {
    "duration": 236,
    "start_time": "2021-12-08T10:16:08.017Z"
   },
   {
    "duration": 122,
    "start_time": "2021-12-08T10:16:38.106Z"
   },
   {
    "duration": 194,
    "start_time": "2021-12-08T10:16:49.034Z"
   },
   {
    "duration": 377,
    "start_time": "2021-12-08T10:17:32.369Z"
   },
   {
    "duration": 25,
    "start_time": "2021-12-08T10:17:39.657Z"
   },
   {
    "duration": 4,
    "start_time": "2021-12-08T10:17:58.385Z"
   },
   {
    "duration": 41,
    "start_time": "2021-12-08T10:38:00.456Z"
   },
   {
    "duration": 32,
    "start_time": "2021-12-08T10:38:07.857Z"
   },
   {
    "duration": 33,
    "start_time": "2021-12-08T10:38:28.721Z"
   },
   {
    "duration": 395,
    "start_time": "2021-12-08T10:50:44.727Z"
   },
   {
    "duration": 4,
    "start_time": "2021-12-08T10:50:54.952Z"
   },
   {
    "duration": 46,
    "start_time": "2021-12-08T11:16:17.372Z"
   },
   {
    "duration": 32,
    "start_time": "2021-12-08T11:16:33.533Z"
   },
   {
    "duration": 13922,
    "start_time": "2021-12-08T11:16:52.645Z"
   },
   {
    "duration": -172,
    "start_time": "2021-12-08T11:17:06.745Z"
   },
   {
    "duration": 12048,
    "start_time": "2021-12-08T11:17:35.245Z"
   },
   {
    "duration": 40,
    "start_time": "2021-12-08T11:18:01.884Z"
   },
   {
    "duration": 10975,
    "start_time": "2021-12-08T11:18:18.684Z"
   },
   {
    "duration": -171,
    "start_time": "2021-12-08T11:18:29.833Z"
   },
   {
    "duration": 10732,
    "start_time": "2021-12-08T11:18:44.348Z"
   },
   {
    "duration": 53,
    "start_time": "2021-12-08T11:19:27.020Z"
   },
   {
    "duration": 48,
    "start_time": "2021-12-08T11:19:41.051Z"
   },
   {
    "duration": 45,
    "start_time": "2021-12-08T11:21:52.825Z"
   },
   {
    "duration": 30,
    "start_time": "2021-12-08T11:22:02.105Z"
   },
   {
    "duration": 14543,
    "start_time": "2021-12-08T11:22:10.137Z"
   },
   {
    "duration": -576,
    "start_time": "2021-12-08T11:22:25.260Z"
   },
   {
    "duration": 41,
    "start_time": "2021-12-08T11:24:38.251Z"
   },
   {
    "duration": 30,
    "start_time": "2021-12-08T11:24:41.631Z"
   },
   {
    "duration": 5,
    "start_time": "2021-12-08T11:25:53.542Z"
   },
   {
    "duration": 67,
    "start_time": "2021-12-08T11:27:02.534Z"
   },
   {
    "duration": 46,
    "start_time": "2021-12-08T11:27:07.029Z"
   },
   {
    "duration": 31,
    "start_time": "2021-12-08T11:27:08.990Z"
   },
   {
    "duration": 13015,
    "start_time": "2021-12-08T11:27:35.365Z"
   },
   {
    "duration": 11308,
    "start_time": "2021-12-08T11:27:58.261Z"
   },
   {
    "duration": 7,
    "start_time": "2021-12-08T11:28:33.181Z"
   },
   {
    "duration": 10677,
    "start_time": "2021-12-08T11:30:17.771Z"
   },
   {
    "duration": 42,
    "start_time": "2021-12-08T11:30:43.811Z"
   },
   {
    "duration": 30,
    "start_time": "2021-12-08T11:30:54.610Z"
   },
   {
    "duration": 6,
    "start_time": "2021-12-08T11:31:01.076Z"
   },
   {
    "duration": 33,
    "start_time": "2021-12-08T11:34:59.272Z"
   },
   {
    "duration": 28,
    "start_time": "2021-12-08T11:35:52.511Z"
   },
   {
    "duration": 34,
    "start_time": "2021-12-08T11:36:26.374Z"
   },
   {
    "duration": 623,
    "start_time": "2021-12-08T11:37:21.393Z"
   },
   {
    "duration": 738,
    "start_time": "2021-12-08T11:37:31.001Z"
   },
   {
    "duration": 179,
    "start_time": "2021-12-08T11:37:32.921Z"
   },
   {
    "duration": 32,
    "start_time": "2021-12-08T11:37:34.768Z"
   },
   {
    "duration": 32,
    "start_time": "2021-12-08T11:37:40.073Z"
   },
   {
    "duration": 4,
    "start_time": "2021-12-08T11:37:47.841Z"
   },
   {
    "duration": 32,
    "start_time": "2021-12-08T11:37:51.665Z"
   },
   {
    "duration": 4,
    "start_time": "2021-12-08T11:37:54.289Z"
   },
   {
    "duration": 4,
    "start_time": "2021-12-08T11:38:41.872Z"
   },
   {
    "duration": 30,
    "start_time": "2021-12-08T11:38:46.624Z"
   },
   {
    "duration": 31,
    "start_time": "2021-12-08T11:38:53.984Z"
   },
   {
    "duration": 31,
    "start_time": "2021-12-08T11:38:58.680Z"
   },
   {
    "duration": 44,
    "start_time": "2021-12-08T11:39:34.159Z"
   },
   {
    "duration": 31,
    "start_time": "2021-12-08T11:39:46.496Z"
   },
   {
    "duration": 30,
    "start_time": "2021-12-08T11:40:10.239Z"
   },
   {
    "duration": 79,
    "start_time": "2021-12-08T11:48:37.489Z"
   },
   {
    "duration": 89,
    "start_time": "2021-12-08T11:48:43.681Z"
   },
   {
    "duration": 76,
    "start_time": "2021-12-08T11:48:48.233Z"
   },
   {
    "duration": 86,
    "start_time": "2021-12-08T11:48:52.569Z"
   },
   {
    "duration": 99,
    "start_time": "2021-12-08T12:17:27.468Z"
   },
   {
    "duration": 84,
    "start_time": "2021-12-08T12:17:41.364Z"
   },
   {
    "duration": 6,
    "start_time": "2021-12-08T12:48:22.078Z"
   },
   {
    "duration": 7,
    "start_time": "2021-12-08T12:50:28.269Z"
   },
   {
    "duration": 419,
    "start_time": "2021-12-08T12:51:19.626Z"
   },
   {
    "duration": 9,
    "start_time": "2021-12-08T12:51:23.267Z"
   },
   {
    "duration": 133,
    "start_time": "2021-12-08T12:51:32.290Z"
   },
   {
    "duration": 6,
    "start_time": "2021-12-08T12:51:35.115Z"
   },
   {
    "duration": 9,
    "start_time": "2021-12-08T12:51:38.427Z"
   },
   {
    "duration": 4,
    "start_time": "2021-12-08T13:06:56.655Z"
   },
   {
    "duration": 138,
    "start_time": "2021-12-08T13:09:54.596Z"
   },
   {
    "duration": 189,
    "start_time": "2021-12-08T13:10:07.556Z"
   },
   {
    "duration": 133,
    "start_time": "2021-12-08T13:10:47.813Z"
   },
   {
    "duration": 5,
    "start_time": "2021-12-08T13:12:24.978Z"
   },
   {
    "duration": 131,
    "start_time": "2021-12-08T13:12:26.370Z"
   },
   {
    "duration": 16,
    "start_time": "2021-12-08T13:13:03.250Z"
   },
   {
    "duration": 2074,
    "start_time": "2021-12-08T13:13:41.364Z"
   },
   {
    "duration": 9,
    "start_time": "2021-12-08T13:13:53.545Z"
   },
   {
    "duration": 14,
    "start_time": "2021-12-08T13:16:32.839Z"
   },
   {
    "duration": 9,
    "start_time": "2021-12-08T13:16:34.911Z"
   },
   {
    "duration": 600,
    "start_time": "2021-12-08T15:17:39.313Z"
   },
   {
    "duration": 7,
    "start_time": "2021-12-08T15:17:55.072Z"
   },
   {
    "duration": 14,
    "start_time": "2021-12-08T15:18:17.609Z"
   },
   {
    "duration": 8,
    "start_time": "2021-12-08T15:18:20.297Z"
   },
   {
    "duration": 14,
    "start_time": "2021-12-08T15:18:36.545Z"
   },
   {
    "duration": 18,
    "start_time": "2021-12-08T15:20:51.234Z"
   },
   {
    "duration": 5,
    "start_time": "2021-12-08T15:28:30.449Z"
   },
   {
    "duration": 5,
    "start_time": "2021-12-08T15:29:40.775Z"
   },
   {
    "duration": 5,
    "start_time": "2021-12-08T15:31:55.048Z"
   },
   {
    "duration": 6,
    "start_time": "2021-12-08T15:33:44.773Z"
   },
   {
    "duration": 654,
    "start_time": "2021-12-08T15:34:21.853Z"
   },
   {
    "duration": 378,
    "start_time": "2021-12-08T15:34:47.813Z"
   },
   {
    "duration": 1443,
    "start_time": "2021-12-08T15:35:09.821Z"
   },
   {
    "duration": 397,
    "start_time": "2021-12-08T15:36:29.228Z"
   },
   {
    "duration": 671,
    "start_time": "2021-12-08T15:36:35.372Z"
   },
   {
    "duration": 4,
    "start_time": "2021-12-08T15:36:47.636Z"
   },
   {
    "duration": 522,
    "start_time": "2021-12-08T15:37:06.283Z"
   },
   {
    "duration": 409,
    "start_time": "2021-12-08T15:37:17.020Z"
   },
   {
    "duration": 505,
    "start_time": "2021-12-08T15:37:34.827Z"
   },
   {
    "duration": 5,
    "start_time": "2021-12-08T15:37:39.251Z"
   },
   {
    "duration": 658,
    "start_time": "2021-12-08T15:37:41.787Z"
   },
   {
    "duration": 6412,
    "start_time": "2021-12-08T15:38:05.540Z"
   },
   {
    "duration": 5,
    "start_time": "2021-12-08T15:38:39.258Z"
   },
   {
    "duration": 512,
    "start_time": "2021-12-08T15:38:47.530Z"
   },
   {
    "duration": 406,
    "start_time": "2021-12-08T15:40:28.769Z"
   },
   {
    "duration": 382,
    "start_time": "2021-12-08T15:40:35.010Z"
   },
   {
    "duration": 5,
    "start_time": "2021-12-08T15:41:28.049Z"
   },
   {
    "duration": 483,
    "start_time": "2021-12-08T15:41:30.608Z"
   },
   {
    "duration": 6468,
    "start_time": "2021-12-08T15:41:55.153Z"
   },
   {
    "duration": 6,
    "start_time": "2021-12-08T15:42:13.192Z"
   },
   {
    "duration": 431,
    "start_time": "2021-12-08T15:42:21.736Z"
   },
   {
    "duration": 401,
    "start_time": "2021-12-08T15:42:49.695Z"
   },
   {
    "duration": 5,
    "start_time": "2021-12-08T15:43:31.015Z"
   },
   {
    "duration": 692,
    "start_time": "2021-12-08T15:43:33.254Z"
   },
   {
    "duration": -183,
    "start_time": "2021-12-08T15:44:06.913Z"
   },
   {
    "duration": 436,
    "start_time": "2021-12-08T15:44:15.022Z"
   },
   {
    "duration": 11182,
    "start_time": "2021-12-08T15:44:28.078Z"
   },
   {
    "duration": 5,
    "start_time": "2021-12-08T15:44:59.853Z"
   },
   {
    "duration": 12011,
    "start_time": "2021-12-08T15:45:01.830Z"
   },
   {
    "duration": 12162,
    "start_time": "2021-12-08T15:45:39.114Z"
   },
   {
    "duration": 7,
    "start_time": "2021-12-08T15:46:03.356Z"
   },
   {
    "duration": 10305,
    "start_time": "2021-12-08T15:46:09.220Z"
   },
   {
    "duration": 6,
    "start_time": "2021-12-08T15:46:57.349Z"
   },
   {
    "duration": 497,
    "start_time": "2021-12-08T15:47:00.749Z"
   },
   {
    "duration": 384,
    "start_time": "2021-12-08T15:47:13.956Z"
   },
   {
    "duration": 454,
    "start_time": "2021-12-08T15:47:22.903Z"
   },
   {
    "duration": 799,
    "start_time": "2021-12-08T15:47:29.604Z"
   },
   {
    "duration": 429,
    "start_time": "2021-12-08T15:47:48.435Z"
   },
   {
    "duration": 5,
    "start_time": "2021-12-08T15:47:54.539Z"
   },
   {
    "duration": 381,
    "start_time": "2021-12-08T15:47:58.572Z"
   },
   {
    "duration": 398,
    "start_time": "2021-12-08T15:48:01.059Z"
   },
   {
    "duration": 718,
    "start_time": "2021-12-08T15:48:07.900Z"
   },
   {
    "duration": 192,
    "start_time": "2021-12-08T15:48:11.700Z"
   },
   {
    "duration": 31,
    "start_time": "2021-12-08T15:48:14.682Z"
   },
   {
    "duration": 32,
    "start_time": "2021-12-08T15:48:16.884Z"
   },
   {
    "duration": 4,
    "start_time": "2021-12-08T15:48:19.794Z"
   },
   {
    "duration": 31,
    "start_time": "2021-12-08T15:48:21.506Z"
   },
   {
    "duration": 5,
    "start_time": "2021-12-08T15:48:23.363Z"
   },
   {
    "duration": 40,
    "start_time": "2021-12-08T15:48:26.058Z"
   },
   {
    "duration": 43,
    "start_time": "2021-12-08T15:48:28.154Z"
   },
   {
    "duration": 34,
    "start_time": "2021-12-08T15:48:30.019Z"
   },
   {
    "duration": 110,
    "start_time": "2021-12-08T15:48:32.378Z"
   },
   {
    "duration": 135,
    "start_time": "2021-12-08T15:48:34.274Z"
   },
   {
    "duration": 111,
    "start_time": "2021-12-08T15:48:35.746Z"
   },
   {
    "duration": 11,
    "start_time": "2021-12-08T15:48:37.730Z"
   },
   {
    "duration": 4,
    "start_time": "2021-12-08T15:48:41.371Z"
   },
   {
    "duration": 19,
    "start_time": "2021-12-08T15:48:42.866Z"
   },
   {
    "duration": 9,
    "start_time": "2021-12-08T15:48:45.137Z"
   },
   {
    "duration": 15,
    "start_time": "2021-12-08T15:48:48.089Z"
   },
   {
    "duration": 20,
    "start_time": "2021-12-08T15:48:49.994Z"
   },
   {
    "duration": 5,
    "start_time": "2021-12-08T15:48:52.626Z"
   },
   {
    "duration": 6087,
    "start_time": "2021-12-08T15:48:54.826Z"
   },
   {
    "duration": 6,
    "start_time": "2021-12-08T15:49:43.025Z"
   },
   {
    "duration": 12089,
    "start_time": "2021-12-08T15:49:45.514Z"
   },
   {
    "duration": 16,
    "start_time": "2021-12-08T15:52:05.968Z"
   },
   {
    "duration": 4,
    "start_time": "2021-12-08T15:52:13.944Z"
   },
   {
    "duration": 492,
    "start_time": "2021-12-08T15:53:00.513Z"
   },
   {
    "duration": 536,
    "start_time": "2021-12-08T15:53:08.102Z"
   },
   {
    "duration": 394,
    "start_time": "2021-12-08T15:53:19.798Z"
   },
   {
    "duration": 7546,
    "start_time": "2021-12-08T15:56:35.567Z"
   },
   {
    "duration": 5,
    "start_time": "2021-12-08T15:56:54.365Z"
   },
   {
    "duration": 5858,
    "start_time": "2021-12-08T15:56:56.709Z"
   },
   {
    "duration": 441,
    "start_time": "2021-12-08T15:57:27.368Z"
   },
   {
    "duration": 5,
    "start_time": "2021-12-08T15:57:31.888Z"
   },
   {
    "duration": 403,
    "start_time": "2021-12-08T15:57:33.554Z"
   },
   {
    "duration": 858,
    "start_time": "2021-12-08T15:57:40.468Z"
   },
   {
    "duration": 190,
    "start_time": "2021-12-08T15:57:41.329Z"
   },
   {
    "duration": 24,
    "start_time": "2021-12-08T15:57:41.522Z"
   },
   {
    "duration": 41,
    "start_time": "2021-12-08T15:57:41.549Z"
   },
   {
    "duration": 4,
    "start_time": "2021-12-08T15:57:41.593Z"
   },
   {
    "duration": 28,
    "start_time": "2021-12-08T15:57:41.599Z"
   },
   {
    "duration": 29,
    "start_time": "2021-12-08T15:57:41.630Z"
   },
   {
    "duration": 30,
    "start_time": "2021-12-08T15:57:41.663Z"
   },
   {
    "duration": 64,
    "start_time": "2021-12-08T15:57:41.697Z"
   },
   {
    "duration": 30,
    "start_time": "2021-12-08T15:57:41.764Z"
   },
   {
    "duration": 109,
    "start_time": "2021-12-08T15:57:41.797Z"
   },
   {
    "duration": 107,
    "start_time": "2021-12-08T15:57:41.908Z"
   },
   {
    "duration": 101,
    "start_time": "2021-12-08T15:57:42.017Z"
   },
   {
    "duration": 9,
    "start_time": "2021-12-08T15:57:42.120Z"
   },
   {
    "duration": 4,
    "start_time": "2021-12-08T15:57:42.131Z"
   },
   {
    "duration": 14,
    "start_time": "2021-12-08T15:57:42.160Z"
   },
   {
    "duration": 9,
    "start_time": "2021-12-08T15:57:42.177Z"
   },
   {
    "duration": 15,
    "start_time": "2021-12-08T15:57:42.188Z"
   },
   {
    "duration": 14,
    "start_time": "2021-12-08T15:57:42.206Z"
   },
   {
    "duration": 5,
    "start_time": "2021-12-08T15:57:42.260Z"
   },
   {
    "duration": 5738,
    "start_time": "2021-12-08T15:57:42.267Z"
   },
   {
    "duration": -187,
    "start_time": "2021-12-08T15:57:48.196Z"
   },
   {
    "duration": -194,
    "start_time": "2021-12-08T15:57:48.204Z"
   },
   {
    "duration": -196,
    "start_time": "2021-12-08T15:57:48.207Z"
   },
   {
    "duration": -196,
    "start_time": "2021-12-08T15:57:48.209Z"
   },
   {
    "duration": -198,
    "start_time": "2021-12-08T15:57:48.212Z"
   },
   {
    "duration": -201,
    "start_time": "2021-12-08T15:57:48.216Z"
   },
   {
    "duration": -205,
    "start_time": "2021-12-08T15:57:48.222Z"
   },
   {
    "duration": -206,
    "start_time": "2021-12-08T15:57:48.224Z"
   },
   {
    "duration": -206,
    "start_time": "2021-12-08T15:57:48.226Z"
   },
   {
    "duration": -207,
    "start_time": "2021-12-08T15:57:48.228Z"
   },
   {
    "duration": -211,
    "start_time": "2021-12-08T15:57:48.233Z"
   },
   {
    "duration": -215,
    "start_time": "2021-12-08T15:57:48.239Z"
   },
   {
    "duration": -216,
    "start_time": "2021-12-08T15:57:48.241Z"
   },
   {
    "duration": -216,
    "start_time": "2021-12-08T15:57:48.243Z"
   },
   {
    "duration": -216,
    "start_time": "2021-12-08T15:57:48.244Z"
   },
   {
    "duration": -218,
    "start_time": "2021-12-08T15:57:48.248Z"
   },
   {
    "duration": -225,
    "start_time": "2021-12-08T15:57:48.256Z"
   },
   {
    "duration": 5,
    "start_time": "2021-12-08T15:57:59.423Z"
   },
   {
    "duration": 5504,
    "start_time": "2021-12-08T15:58:01.792Z"
   },
   {
    "duration": 5,
    "start_time": "2021-12-08T15:58:27.137Z"
   },
   {
    "duration": 5561,
    "start_time": "2021-12-08T15:58:29.327Z"
   },
   {
    "duration": 5,
    "start_time": "2021-12-08T15:58:44.249Z"
   },
   {
    "duration": 990,
    "start_time": "2021-12-08T15:58:46.401Z"
   },
   {
    "duration": 5,
    "start_time": "2021-12-08T15:58:55.543Z"
   },
   {
    "duration": 5655,
    "start_time": "2021-12-08T15:58:57.455Z"
   },
   {
    "duration": 5,
    "start_time": "2021-12-08T16:02:50.420Z"
   },
   {
    "duration": 5,
    "start_time": "2021-12-08T16:03:02.928Z"
   },
   {
    "duration": 15,
    "start_time": "2021-12-08T16:03:06.357Z"
   },
   {
    "duration": 15,
    "start_time": "2021-12-08T16:03:41.772Z"
   },
   {
    "duration": 15,
    "start_time": "2021-12-08T16:04:28.058Z"
   },
   {
    "duration": 5,
    "start_time": "2021-12-08T16:05:27.354Z"
   },
   {
    "duration": 3221,
    "start_time": "2021-12-08T16:05:29.314Z"
   },
   {
    "duration": 5,
    "start_time": "2021-12-08T16:05:54.250Z"
   },
   {
    "duration": 6,
    "start_time": "2021-12-08T16:06:57.505Z"
   },
   {
    "duration": 10770,
    "start_time": "2021-12-08T16:06:59.217Z"
   },
   {
    "duration": 5,
    "start_time": "2021-12-08T16:07:16.569Z"
   },
   {
    "duration": 8670,
    "start_time": "2021-12-08T16:07:19.280Z"
   },
   {
    "duration": 7770,
    "start_time": "2021-12-08T16:07:47.008Z"
   },
   {
    "duration": 15,
    "start_time": "2021-12-08T16:08:04.928Z"
   },
   {
    "duration": 16,
    "start_time": "2021-12-08T16:08:10.855Z"
   },
   {
    "duration": 5,
    "start_time": "2021-12-08T16:08:39.816Z"
   },
   {
    "duration": 806,
    "start_time": "2021-12-08T16:08:42.768Z"
   },
   {
    "duration": 529,
    "start_time": "2021-12-08T16:09:23.519Z"
   },
   {
    "duration": 796,
    "start_time": "2021-12-08T16:12:47.892Z"
   },
   {
    "duration": 834,
    "start_time": "2021-12-08T16:12:57.798Z"
   },
   {
    "duration": 197,
    "start_time": "2021-12-08T16:12:58.635Z"
   },
   {
    "duration": 31,
    "start_time": "2021-12-08T16:12:58.835Z"
   },
   {
    "duration": 37,
    "start_time": "2021-12-08T16:12:58.869Z"
   },
   {
    "duration": 5,
    "start_time": "2021-12-08T16:12:58.908Z"
   },
   {
    "duration": 62,
    "start_time": "2021-12-08T16:12:58.916Z"
   },
   {
    "duration": 10,
    "start_time": "2021-12-08T16:12:58.981Z"
   },
   {
    "duration": 32,
    "start_time": "2021-12-08T16:12:58.995Z"
   },
   {
    "duration": 73,
    "start_time": "2021-12-08T16:12:59.030Z"
   },
   {
    "duration": 29,
    "start_time": "2021-12-08T16:12:59.106Z"
   },
   {
    "duration": 134,
    "start_time": "2021-12-08T16:12:59.138Z"
   },
   {
    "duration": 162,
    "start_time": "2021-12-08T16:12:59.275Z"
   },
   {
    "duration": 126,
    "start_time": "2021-12-08T16:12:59.440Z"
   },
   {
    "duration": 15,
    "start_time": "2021-12-08T16:12:59.569Z"
   },
   {
    "duration": 6,
    "start_time": "2021-12-08T16:12:59.587Z"
   },
   {
    "duration": 20,
    "start_time": "2021-12-08T16:12:59.596Z"
   },
   {
    "duration": 43,
    "start_time": "2021-12-08T16:12:59.619Z"
   },
   {
    "duration": 20,
    "start_time": "2021-12-08T16:12:59.666Z"
   },
   {
    "duration": 15,
    "start_time": "2021-12-08T16:12:59.689Z"
   },
   {
    "duration": 169,
    "start_time": "2021-12-08T16:12:59.706Z"
   },
   {
    "duration": -200,
    "start_time": "2021-12-08T16:13:00.080Z"
   },
   {
    "duration": -201,
    "start_time": "2021-12-08T16:13:00.083Z"
   },
   {
    "duration": -202,
    "start_time": "2021-12-08T16:13:00.086Z"
   },
   {
    "duration": -203,
    "start_time": "2021-12-08T16:13:00.088Z"
   },
   {
    "duration": -204,
    "start_time": "2021-12-08T16:13:00.090Z"
   },
   {
    "duration": -203,
    "start_time": "2021-12-08T16:13:00.091Z"
   },
   {
    "duration": -204,
    "start_time": "2021-12-08T16:13:00.093Z"
   },
   {
    "duration": -203,
    "start_time": "2021-12-08T16:13:00.094Z"
   },
   {
    "duration": -212,
    "start_time": "2021-12-08T16:13:00.104Z"
   },
   {
    "duration": -215,
    "start_time": "2021-12-08T16:13:00.109Z"
   },
   {
    "duration": -216,
    "start_time": "2021-12-08T16:13:00.111Z"
   },
   {
    "duration": -216,
    "start_time": "2021-12-08T16:13:00.113Z"
   },
   {
    "duration": -217,
    "start_time": "2021-12-08T16:13:00.115Z"
   },
   {
    "duration": -218,
    "start_time": "2021-12-08T16:13:00.117Z"
   },
   {
    "duration": -219,
    "start_time": "2021-12-08T16:13:00.120Z"
   },
   {
    "duration": -222,
    "start_time": "2021-12-08T16:13:00.124Z"
   },
   {
    "duration": -222,
    "start_time": "2021-12-08T16:13:00.126Z"
   },
   {
    "duration": -228,
    "start_time": "2021-12-08T16:13:00.133Z"
   },
   {
    "duration": 474,
    "start_time": "2021-12-08T16:13:05.105Z"
   },
   {
    "duration": 146,
    "start_time": "2021-12-08T16:13:09.873Z"
   },
   {
    "duration": 16,
    "start_time": "2021-12-08T16:13:16.138Z"
   },
   {
    "duration": 168,
    "start_time": "2021-12-08T16:13:36.387Z"
   },
   {
    "duration": 5,
    "start_time": "2021-12-08T16:15:02.997Z"
   },
   {
    "duration": 7644,
    "start_time": "2021-12-08T16:15:04.215Z"
   },
   {
    "duration": 6,
    "start_time": "2021-12-08T16:16:45.817Z"
   },
   {
    "duration": 5902,
    "start_time": "2021-12-08T16:16:48.095Z"
   },
   {
    "duration": 24,
    "start_time": "2021-12-08T16:17:05.161Z"
   },
   {
    "duration": 21,
    "start_time": "2021-12-08T16:17:27.006Z"
   },
   {
    "duration": 21,
    "start_time": "2021-12-08T16:18:07.221Z"
   },
   {
    "duration": 6604,
    "start_time": "2021-12-08T16:18:11.077Z"
   },
   {
    "duration": 10285,
    "start_time": "2021-12-08T16:18:22.941Z"
   },
   {
    "duration": 4,
    "start_time": "2021-12-08T16:18:43.661Z"
   },
   {
    "duration": 6500,
    "start_time": "2021-12-08T16:18:45.348Z"
   },
   {
    "duration": 8657,
    "start_time": "2021-12-08T16:19:29.029Z"
   },
   {
    "duration": 9927,
    "start_time": "2021-12-08T16:21:30.661Z"
   },
   {
    "duration": 7312,
    "start_time": "2021-12-08T16:22:18.554Z"
   },
   {
    "duration": 7526,
    "start_time": "2021-12-08T16:22:34.779Z"
   },
   {
    "duration": 4,
    "start_time": "2021-12-08T17:15:14.492Z"
   },
   {
    "duration": 193,
    "start_time": "2021-12-08T17:15:14.498Z"
   },
   {
    "duration": 15,
    "start_time": "2021-12-08T17:15:14.695Z"
   },
   {
    "duration": 52,
    "start_time": "2021-12-08T17:15:14.712Z"
   },
   {
    "duration": 5,
    "start_time": "2021-12-08T17:15:14.767Z"
   },
   {
    "duration": 24,
    "start_time": "2021-12-08T17:15:14.774Z"
   },
   {
    "duration": 5,
    "start_time": "2021-12-08T17:15:14.800Z"
   },
   {
    "duration": 68,
    "start_time": "2021-12-08T17:15:14.808Z"
   },
   {
    "duration": 44,
    "start_time": "2021-12-08T17:15:14.881Z"
   },
   {
    "duration": 47,
    "start_time": "2021-12-08T17:15:14.928Z"
   },
   {
    "duration": 106,
    "start_time": "2021-12-08T17:15:14.978Z"
   },
   {
    "duration": 100,
    "start_time": "2021-12-08T17:15:15.087Z"
   },
   {
    "duration": 90,
    "start_time": "2021-12-08T17:15:15.189Z"
   },
   {
    "duration": 10,
    "start_time": "2021-12-08T17:15:15.282Z"
   },
   {
    "duration": 4,
    "start_time": "2021-12-08T17:15:15.294Z"
   },
   {
    "duration": 14,
    "start_time": "2021-12-08T17:15:15.301Z"
   },
   {
    "duration": 7,
    "start_time": "2021-12-08T17:15:15.318Z"
   },
   {
    "duration": 14,
    "start_time": "2021-12-08T17:15:15.359Z"
   },
   {
    "duration": 14,
    "start_time": "2021-12-08T17:15:15.375Z"
   },
   {
    "duration": 4,
    "start_time": "2021-12-08T17:15:15.392Z"
   },
   {
    "duration": 63,
    "start_time": "2021-12-08T17:15:15.398Z"
   },
   {
    "duration": 6560,
    "start_time": "2021-12-08T17:15:15.463Z"
   },
   {
    "duration": -40,
    "start_time": "2021-12-08T17:15:22.068Z"
   },
   {
    "duration": -44,
    "start_time": "2021-12-08T17:15:22.073Z"
   },
   {
    "duration": -44,
    "start_time": "2021-12-08T17:15:22.075Z"
   },
   {
    "duration": -47,
    "start_time": "2021-12-08T17:15:22.079Z"
   },
   {
    "duration": -48,
    "start_time": "2021-12-08T17:15:22.082Z"
   },
   {
    "duration": -49,
    "start_time": "2021-12-08T17:15:22.084Z"
   },
   {
    "duration": -50,
    "start_time": "2021-12-08T17:15:22.086Z"
   },
   {
    "duration": -51,
    "start_time": "2021-12-08T17:15:22.089Z"
   },
   {
    "duration": -53,
    "start_time": "2021-12-08T17:15:22.092Z"
   },
   {
    "duration": -54,
    "start_time": "2021-12-08T17:15:22.094Z"
   },
   {
    "duration": -61,
    "start_time": "2021-12-08T17:15:22.103Z"
   },
   {
    "duration": -63,
    "start_time": "2021-12-08T17:15:22.106Z"
   },
   {
    "duration": -64,
    "start_time": "2021-12-08T17:15:22.108Z"
   },
   {
    "duration": -65,
    "start_time": "2021-12-08T17:15:22.110Z"
   },
   {
    "duration": -65,
    "start_time": "2021-12-08T17:15:22.112Z"
   },
   {
    "duration": -66,
    "start_time": "2021-12-08T17:15:22.114Z"
   },
   {
    "duration": 6038,
    "start_time": "2021-12-08T17:15:27.004Z"
   },
   {
    "duration": 129,
    "start_time": "2021-12-08T17:15:39.382Z"
   },
   {
    "duration": 5,
    "start_time": "2021-12-08T17:15:49.610Z"
   },
   {
    "duration": 125,
    "start_time": "2021-12-08T17:15:56.825Z"
   },
   {
    "duration": 5562,
    "start_time": "2021-12-08T17:16:01.190Z"
   },
   {
    "duration": -86,
    "start_time": "2021-12-08T17:16:06.841Z"
   },
   {
    "duration": 5,
    "start_time": "2021-12-08T17:16:37.266Z"
   },
   {
    "duration": 132,
    "start_time": "2021-12-08T17:16:41.272Z"
   },
   {
    "duration": 14,
    "start_time": "2021-12-08T17:16:46.906Z"
   },
   {
    "duration": 3,
    "start_time": "2021-12-08T17:16:53.459Z"
   },
   {
    "duration": 209,
    "start_time": "2021-12-08T17:16:53.465Z"
   },
   {
    "duration": 16,
    "start_time": "2021-12-08T17:16:53.677Z"
   },
   {
    "duration": 35,
    "start_time": "2021-12-08T17:16:53.695Z"
   },
   {
    "duration": 28,
    "start_time": "2021-12-08T17:16:53.732Z"
   },
   {
    "duration": 19,
    "start_time": "2021-12-08T17:16:53.762Z"
   },
   {
    "duration": 5,
    "start_time": "2021-12-08T17:16:53.783Z"
   },
   {
    "duration": 34,
    "start_time": "2021-12-08T17:16:53.791Z"
   },
   {
    "duration": 43,
    "start_time": "2021-12-08T17:16:53.860Z"
   },
   {
    "duration": 53,
    "start_time": "2021-12-08T17:16:53.907Z"
   },
   {
    "duration": 96,
    "start_time": "2021-12-08T17:16:53.963Z"
   },
   {
    "duration": 104,
    "start_time": "2021-12-08T17:16:54.062Z"
   },
   {
    "duration": 79,
    "start_time": "2021-12-08T17:16:54.169Z"
   },
   {
    "duration": 10,
    "start_time": "2021-12-08T17:16:54.260Z"
   },
   {
    "duration": 5,
    "start_time": "2021-12-08T17:16:54.273Z"
   },
   {
    "duration": 17,
    "start_time": "2021-12-08T17:16:54.281Z"
   },
   {
    "duration": 10,
    "start_time": "2021-12-08T17:16:54.301Z"
   },
   {
    "duration": 60,
    "start_time": "2021-12-08T17:16:54.314Z"
   },
   {
    "duration": 14,
    "start_time": "2021-12-08T17:16:54.376Z"
   },
   {
    "duration": 5,
    "start_time": "2021-12-08T17:16:54.392Z"
   },
   {
    "duration": 139,
    "start_time": "2021-12-08T17:16:54.399Z"
   },
   {
    "duration": -17,
    "start_time": "2021-12-08T17:16:54.559Z"
   },
   {
    "duration": -18,
    "start_time": "2021-12-08T17:16:54.561Z"
   },
   {
    "duration": -18,
    "start_time": "2021-12-08T17:16:54.564Z"
   },
   {
    "duration": -23,
    "start_time": "2021-12-08T17:16:54.571Z"
   },
   {
    "duration": -23,
    "start_time": "2021-12-08T17:16:54.573Z"
   },
   {
    "duration": -23,
    "start_time": "2021-12-08T17:16:54.575Z"
   },
   {
    "duration": -23,
    "start_time": "2021-12-08T17:16:54.577Z"
   },
   {
    "duration": -23,
    "start_time": "2021-12-08T17:16:54.579Z"
   },
   {
    "duration": -28,
    "start_time": "2021-12-08T17:16:54.586Z"
   },
   {
    "duration": -28,
    "start_time": "2021-12-08T17:16:54.589Z"
   },
   {
    "duration": -28,
    "start_time": "2021-12-08T17:16:54.591Z"
   },
   {
    "duration": -27,
    "start_time": "2021-12-08T17:16:54.592Z"
   },
   {
    "duration": -28,
    "start_time": "2021-12-08T17:16:54.595Z"
   },
   {
    "duration": -28,
    "start_time": "2021-12-08T17:16:54.597Z"
   },
   {
    "duration": -33,
    "start_time": "2021-12-08T17:16:54.604Z"
   },
   {
    "duration": -33,
    "start_time": "2021-12-08T17:16:54.606Z"
   },
   {
    "duration": -32,
    "start_time": "2021-12-08T17:16:54.608Z"
   },
   {
    "duration": 124,
    "start_time": "2021-12-08T17:17:35.132Z"
   },
   {
    "duration": 4,
    "start_time": "2021-12-08T17:17:40.744Z"
   },
   {
    "duration": 28,
    "start_time": "2021-12-08T17:18:07.554Z"
   },
   {
    "duration": 20,
    "start_time": "2021-12-08T17:18:52.956Z"
   },
   {
    "duration": 21,
    "start_time": "2021-12-08T17:19:29.028Z"
   },
   {
    "duration": 20,
    "start_time": "2021-12-08T17:20:10.682Z"
   },
   {
    "duration": 22,
    "start_time": "2021-12-08T17:20:46.808Z"
   },
   {
    "duration": 19,
    "start_time": "2021-12-08T17:20:49.255Z"
   },
   {
    "duration": 421,
    "start_time": "2021-12-08T17:21:44.570Z"
   },
   {
    "duration": 474,
    "start_time": "2021-12-08T17:22:23.018Z"
   },
   {
    "duration": 427,
    "start_time": "2021-12-08T17:22:54.562Z"
   },
   {
    "duration": 16,
    "start_time": "2021-12-08T17:26:46.165Z"
   },
   {
    "duration": 558,
    "start_time": "2021-12-09T07:43:44.412Z"
   },
   {
    "duration": 122,
    "start_time": "2021-12-09T07:43:44.971Z"
   },
   {
    "duration": 15,
    "start_time": "2021-12-09T07:43:45.095Z"
   },
   {
    "duration": 24,
    "start_time": "2021-12-09T07:43:45.112Z"
   },
   {
    "duration": 5,
    "start_time": "2021-12-09T07:43:45.138Z"
   },
   {
    "duration": 20,
    "start_time": "2021-12-09T07:43:45.144Z"
   },
   {
    "duration": 6,
    "start_time": "2021-12-09T07:43:45.165Z"
   },
   {
    "duration": 33,
    "start_time": "2021-12-09T07:43:45.173Z"
   },
   {
    "duration": 36,
    "start_time": "2021-12-09T07:43:45.208Z"
   },
   {
    "duration": 19,
    "start_time": "2021-12-09T07:43:45.246Z"
   },
   {
    "duration": 59,
    "start_time": "2021-12-09T07:43:45.266Z"
   },
   {
    "duration": 66,
    "start_time": "2021-12-09T07:43:45.327Z"
   },
   {
    "duration": 44,
    "start_time": "2021-12-09T07:43:45.395Z"
   },
   {
    "duration": 5,
    "start_time": "2021-12-09T07:43:45.441Z"
   },
   {
    "duration": 3,
    "start_time": "2021-12-09T07:43:45.448Z"
   },
   {
    "duration": 10,
    "start_time": "2021-12-09T07:43:45.452Z"
   },
   {
    "duration": 26,
    "start_time": "2021-12-09T07:43:45.463Z"
   },
   {
    "duration": 9,
    "start_time": "2021-12-09T07:43:45.490Z"
   },
   {
    "duration": 11,
    "start_time": "2021-12-09T07:43:45.501Z"
   },
   {
    "duration": 6,
    "start_time": "2021-12-09T07:43:45.513Z"
   },
   {
    "duration": 22,
    "start_time": "2021-12-09T07:43:45.520Z"
   },
   {
    "duration": 11,
    "start_time": "2021-12-09T07:43:45.543Z"
   },
   {
    "duration": 36,
    "start_time": "2021-12-09T07:43:45.557Z"
   },
   {
    "duration": 12,
    "start_time": "2021-12-09T07:43:45.595Z"
   },
   {
    "duration": 18,
    "start_time": "2021-12-09T07:43:45.608Z"
   },
   {
    "duration": 22,
    "start_time": "2021-12-09T07:43:45.627Z"
   },
   {
    "duration": 15,
    "start_time": "2021-12-09T07:43:45.650Z"
   },
   {
    "duration": 8,
    "start_time": "2021-12-09T07:43:45.667Z"
   },
   {
    "duration": 28,
    "start_time": "2021-12-09T07:43:45.676Z"
   },
   {
    "duration": 12,
    "start_time": "2021-12-09T07:43:45.705Z"
   },
   {
    "duration": 30,
    "start_time": "2021-12-09T07:43:45.719Z"
   },
   {
    "duration": 7,
    "start_time": "2021-12-09T07:43:45.751Z"
   },
   {
    "duration": 23,
    "start_time": "2021-12-09T07:43:45.759Z"
   },
   {
    "duration": 5,
    "start_time": "2021-12-09T07:43:45.784Z"
   },
   {
    "duration": 15,
    "start_time": "2021-12-09T07:43:45.790Z"
   },
   {
    "duration": 20,
    "start_time": "2021-12-09T07:43:45.806Z"
   },
   {
    "duration": 9,
    "start_time": "2021-12-09T07:43:45.827Z"
   },
   {
    "duration": 22,
    "start_time": "2021-12-09T07:43:45.837Z"
   },
   {
    "duration": 10,
    "start_time": "2021-12-09T07:47:45.091Z"
   },
   {
    "duration": 16,
    "start_time": "2021-12-09T07:47:53.388Z"
   },
   {
    "duration": 14,
    "start_time": "2021-12-09T07:48:37.330Z"
   },
   {
    "duration": 300,
    "start_time": "2021-12-09T07:48:40.770Z"
   },
   {
    "duration": 11,
    "start_time": "2021-12-09T07:48:46.290Z"
   },
   {
    "duration": 40,
    "start_time": "2021-12-09T07:48:51.059Z"
   },
   {
    "duration": 2276,
    "start_time": "2021-12-09T07:49:08.682Z"
   },
   {
    "duration": 45,
    "start_time": "2021-12-09T07:50:15.665Z"
   },
   {
    "duration": 53,
    "start_time": "2021-12-09T07:50:23.402Z"
   },
   {
    "duration": 12,
    "start_time": "2021-12-09T07:57:42.701Z"
   },
   {
    "duration": 11,
    "start_time": "2021-12-09T09:18:11.542Z"
   },
   {
    "duration": 6,
    "start_time": "2021-12-09T09:18:13.767Z"
   },
   {
    "duration": 12,
    "start_time": "2021-12-09T09:18:15.959Z"
   },
   {
    "duration": 5,
    "start_time": "2021-12-09T09:18:17.728Z"
   },
   {
    "duration": 11,
    "start_time": "2021-12-09T09:18:19.352Z"
   },
   {
    "duration": 4,
    "start_time": "2021-12-09T09:19:14.951Z"
   },
   {
    "duration": 75,
    "start_time": "2021-12-09T09:19:18.559Z"
   },
   {
    "duration": 3,
    "start_time": "2021-12-09T09:21:06.221Z"
   },
   {
    "duration": 4,
    "start_time": "2021-12-09T09:22:37.084Z"
   },
   {
    "duration": 480,
    "start_time": "2021-12-09T09:30:04.263Z"
   },
   {
    "duration": 557,
    "start_time": "2021-12-09T09:30:16.695Z"
   },
   {
    "duration": 4,
    "start_time": "2021-12-09T09:30:42.294Z"
   },
   {
    "duration": 615,
    "start_time": "2021-12-09T09:30:44.302Z"
   },
   {
    "duration": 2,
    "start_time": "2021-12-09T09:30:58.787Z"
   },
   {
    "duration": 134,
    "start_time": "2021-12-09T09:30:58.791Z"
   },
   {
    "duration": 8,
    "start_time": "2021-12-09T09:30:58.927Z"
   },
   {
    "duration": 24,
    "start_time": "2021-12-09T09:30:58.937Z"
   },
   {
    "duration": 5,
    "start_time": "2021-12-09T09:30:58.962Z"
   },
   {
    "duration": 29,
    "start_time": "2021-12-09T09:30:58.968Z"
   },
   {
    "duration": 3,
    "start_time": "2021-12-09T09:30:58.999Z"
   },
   {
    "duration": 19,
    "start_time": "2021-12-09T09:30:59.005Z"
   },
   {
    "duration": 29,
    "start_time": "2021-12-09T09:30:59.026Z"
   },
   {
    "duration": 41,
    "start_time": "2021-12-09T09:30:59.056Z"
   },
   {
    "duration": 48,
    "start_time": "2021-12-09T09:30:59.098Z"
   },
   {
    "duration": 67,
    "start_time": "2021-12-09T09:30:59.147Z"
   },
   {
    "duration": 47,
    "start_time": "2021-12-09T09:30:59.216Z"
   },
   {
    "duration": 6,
    "start_time": "2021-12-09T09:30:59.264Z"
   },
   {
    "duration": 17,
    "start_time": "2021-12-09T09:30:59.271Z"
   },
   {
    "duration": 11,
    "start_time": "2021-12-09T09:30:59.289Z"
   },
   {
    "duration": 5,
    "start_time": "2021-12-09T09:30:59.301Z"
   },
   {
    "duration": 9,
    "start_time": "2021-12-09T09:30:59.308Z"
   },
   {
    "duration": 9,
    "start_time": "2021-12-09T09:30:59.318Z"
   },
   {
    "duration": 4,
    "start_time": "2021-12-09T09:30:59.328Z"
   },
   {
    "duration": 18,
    "start_time": "2021-12-09T09:30:59.333Z"
   },
   {
    "duration": 46,
    "start_time": "2021-12-09T09:30:59.353Z"
   },
   {
    "duration": 13,
    "start_time": "2021-12-09T09:30:59.402Z"
   },
   {
    "duration": 13,
    "start_time": "2021-12-09T09:30:59.417Z"
   },
   {
    "duration": 14,
    "start_time": "2021-12-09T09:30:59.432Z"
   },
   {
    "duration": 42,
    "start_time": "2021-12-09T09:30:59.448Z"
   },
   {
    "duration": 8,
    "start_time": "2021-12-09T09:30:59.492Z"
   },
   {
    "duration": 11,
    "start_time": "2021-12-09T09:30:59.502Z"
   },
   {
    "duration": 6,
    "start_time": "2021-12-09T09:30:59.515Z"
   },
   {
    "duration": 5,
    "start_time": "2021-12-09T09:30:59.522Z"
   },
   {
    "duration": 526,
    "start_time": "2021-12-09T09:30:59.529Z"
   },
   {
    "duration": -181,
    "start_time": "2021-12-09T09:31:00.238Z"
   },
   {
    "duration": -183,
    "start_time": "2021-12-09T09:31:00.241Z"
   },
   {
    "duration": -185,
    "start_time": "2021-12-09T09:31:00.244Z"
   },
   {
    "duration": -185,
    "start_time": "2021-12-09T09:31:00.246Z"
   },
   {
    "duration": -187,
    "start_time": "2021-12-09T09:31:00.249Z"
   },
   {
    "duration": -188,
    "start_time": "2021-12-09T09:31:00.252Z"
   },
   {
    "duration": -189,
    "start_time": "2021-12-09T09:31:00.254Z"
   },
   {
    "duration": 4,
    "start_time": "2021-12-09T10:06:50.004Z"
   },
   {
    "duration": 16,
    "start_time": "2021-12-09T10:06:51.755Z"
   },
   {
    "duration": 4,
    "start_time": "2021-12-09T10:07:54.547Z"
   },
   {
    "duration": 17,
    "start_time": "2021-12-09T10:07:59.561Z"
   },
   {
    "duration": 4,
    "start_time": "2021-12-09T10:08:11.322Z"
   },
   {
    "duration": 16,
    "start_time": "2021-12-09T10:08:12.994Z"
   },
   {
    "duration": 3711,
    "start_time": "2021-12-09T10:10:06.761Z"
   },
   {
    "duration": 3,
    "start_time": "2021-12-09T10:10:19.524Z"
   },
   {
    "duration": 154,
    "start_time": "2021-12-09T10:10:19.528Z"
   },
   {
    "duration": 13,
    "start_time": "2021-12-09T10:10:19.684Z"
   },
   {
    "duration": 56,
    "start_time": "2021-12-09T10:10:19.699Z"
   },
   {
    "duration": 7,
    "start_time": "2021-12-09T10:10:19.757Z"
   },
   {
    "duration": 39,
    "start_time": "2021-12-09T10:10:19.766Z"
   },
   {
    "duration": 3,
    "start_time": "2021-12-09T10:10:19.807Z"
   },
   {
    "duration": 42,
    "start_time": "2021-12-09T10:10:19.812Z"
   },
   {
    "duration": 40,
    "start_time": "2021-12-09T10:10:19.856Z"
   },
   {
    "duration": 21,
    "start_time": "2021-12-09T10:10:19.897Z"
   },
   {
    "duration": 71,
    "start_time": "2021-12-09T10:10:19.920Z"
   },
   {
    "duration": 59,
    "start_time": "2021-12-09T10:10:19.993Z"
   },
   {
    "duration": 59,
    "start_time": "2021-12-09T10:10:20.054Z"
   },
   {
    "duration": 7,
    "start_time": "2021-12-09T10:10:20.115Z"
   },
   {
    "duration": 20,
    "start_time": "2021-12-09T10:10:20.124Z"
   },
   {
    "duration": 29,
    "start_time": "2021-12-09T10:10:20.145Z"
   },
   {
    "duration": 19,
    "start_time": "2021-12-09T10:10:20.175Z"
   },
   {
    "duration": 24,
    "start_time": "2021-12-09T10:10:20.196Z"
   },
   {
    "duration": 10,
    "start_time": "2021-12-09T10:10:20.224Z"
   },
   {
    "duration": 9,
    "start_time": "2021-12-09T10:10:20.236Z"
   },
   {
    "duration": 38,
    "start_time": "2021-12-09T10:10:20.246Z"
   },
   {
    "duration": 19,
    "start_time": "2021-12-09T10:10:20.286Z"
   },
   {
    "duration": 26,
    "start_time": "2021-12-09T10:10:20.307Z"
   },
   {
    "duration": 21,
    "start_time": "2021-12-09T10:10:20.335Z"
   },
   {
    "duration": 21,
    "start_time": "2021-12-09T10:10:20.358Z"
   },
   {
    "duration": 21,
    "start_time": "2021-12-09T10:10:20.381Z"
   },
   {
    "duration": 13,
    "start_time": "2021-12-09T10:10:20.403Z"
   },
   {
    "duration": 20,
    "start_time": "2021-12-09T10:10:20.418Z"
   },
   {
    "duration": 5,
    "start_time": "2021-12-09T10:10:20.439Z"
   },
   {
    "duration": 27,
    "start_time": "2021-12-09T10:10:20.446Z"
   },
   {
    "duration": 37,
    "start_time": "2021-12-09T10:10:20.475Z"
   },
   {
    "duration": 3702,
    "start_time": "2021-12-09T10:10:20.514Z"
   },
   {
    "duration": -190,
    "start_time": "2021-12-09T10:10:24.408Z"
   },
   {
    "duration": -193,
    "start_time": "2021-12-09T10:10:24.411Z"
   },
   {
    "duration": -194,
    "start_time": "2021-12-09T10:10:24.413Z"
   },
   {
    "duration": -194,
    "start_time": "2021-12-09T10:10:24.414Z"
   },
   {
    "duration": -195,
    "start_time": "2021-12-09T10:10:24.416Z"
   },
   {
    "duration": -196,
    "start_time": "2021-12-09T10:10:24.418Z"
   },
   {
    "duration": 16,
    "start_time": "2021-12-09T10:11:15.992Z"
   },
   {
    "duration": 4,
    "start_time": "2021-12-09T10:12:14.440Z"
   },
   {
    "duration": 3429,
    "start_time": "2021-12-09T10:12:16.455Z"
   },
   {
    "duration": -195,
    "start_time": "2021-12-09T10:12:20.080Z"
   },
   {
    "duration": 502,
    "start_time": "2021-12-09T10:12:35.271Z"
   },
   {
    "duration": 3158,
    "start_time": "2021-12-09T10:13:50.629Z"
   },
   {
    "duration": 511,
    "start_time": "2021-12-09T10:13:55.407Z"
   },
   {
    "duration": 4,
    "start_time": "2021-12-09T10:15:22.477Z"
   },
   {
    "duration": 460,
    "start_time": "2021-12-09T10:15:24.317Z"
   },
   {
    "duration": 2,
    "start_time": "2021-12-09T10:15:28.329Z"
   },
   {
    "duration": 122,
    "start_time": "2021-12-09T10:15:28.333Z"
   },
   {
    "duration": 9,
    "start_time": "2021-12-09T10:15:28.457Z"
   },
   {
    "duration": 34,
    "start_time": "2021-12-09T10:15:28.468Z"
   },
   {
    "duration": 4,
    "start_time": "2021-12-09T10:15:28.504Z"
   },
   {
    "duration": 15,
    "start_time": "2021-12-09T10:15:28.509Z"
   },
   {
    "duration": 3,
    "start_time": "2021-12-09T10:15:28.525Z"
   },
   {
    "duration": 19,
    "start_time": "2021-12-09T10:15:28.531Z"
   },
   {
    "duration": 49,
    "start_time": "2021-12-09T10:15:28.551Z"
   },
   {
    "duration": 21,
    "start_time": "2021-12-09T10:15:28.602Z"
   },
   {
    "duration": 50,
    "start_time": "2021-12-09T10:15:28.624Z"
   },
   {
    "duration": 56,
    "start_time": "2021-12-09T10:15:28.688Z"
   },
   {
    "duration": 58,
    "start_time": "2021-12-09T10:15:28.745Z"
   },
   {
    "duration": 6,
    "start_time": "2021-12-09T10:15:28.805Z"
   },
   {
    "duration": 5,
    "start_time": "2021-12-09T10:15:28.812Z"
   },
   {
    "duration": 10,
    "start_time": "2021-12-09T10:15:28.818Z"
   },
   {
    "duration": 5,
    "start_time": "2021-12-09T10:15:28.830Z"
   },
   {
    "duration": 8,
    "start_time": "2021-12-09T10:15:28.837Z"
   },
   {
    "duration": 8,
    "start_time": "2021-12-09T10:15:28.847Z"
   },
   {
    "duration": 3,
    "start_time": "2021-12-09T10:15:28.856Z"
   },
   {
    "duration": 41,
    "start_time": "2021-12-09T10:15:28.860Z"
   },
   {
    "duration": 12,
    "start_time": "2021-12-09T10:15:28.902Z"
   },
   {
    "duration": 13,
    "start_time": "2021-12-09T10:15:28.917Z"
   },
   {
    "duration": 11,
    "start_time": "2021-12-09T10:15:28.932Z"
   },
   {
    "duration": 48,
    "start_time": "2021-12-09T10:15:28.944Z"
   },
   {
    "duration": 13,
    "start_time": "2021-12-09T10:15:28.994Z"
   },
   {
    "duration": 7,
    "start_time": "2021-12-09T10:15:29.008Z"
   },
   {
    "duration": 12,
    "start_time": "2021-12-09T10:15:29.016Z"
   },
   {
    "duration": 5,
    "start_time": "2021-12-09T10:15:29.029Z"
   },
   {
    "duration": 8,
    "start_time": "2021-12-09T10:15:29.035Z"
   },
   {
    "duration": 522,
    "start_time": "2021-12-09T10:15:29.044Z"
   },
   {
    "duration": -192,
    "start_time": "2021-12-09T10:15:29.760Z"
   },
   {
    "duration": -192,
    "start_time": "2021-12-09T10:15:29.762Z"
   },
   {
    "duration": -193,
    "start_time": "2021-12-09T10:15:29.764Z"
   },
   {
    "duration": -194,
    "start_time": "2021-12-09T10:15:29.766Z"
   },
   {
    "duration": -195,
    "start_time": "2021-12-09T10:15:29.768Z"
   },
   {
    "duration": -196,
    "start_time": "2021-12-09T10:15:29.770Z"
   },
   {
    "duration": -195,
    "start_time": "2021-12-09T10:15:29.771Z"
   },
   {
    "duration": 3422,
    "start_time": "2021-12-09T10:15:35.205Z"
   },
   {
    "duration": 4,
    "start_time": "2021-12-09T10:16:27.580Z"
   },
   {
    "duration": 593,
    "start_time": "2021-12-09T10:16:29.237Z"
   },
   {
    "duration": 3,
    "start_time": "2021-12-09T10:16:38.312Z"
   },
   {
    "duration": 125,
    "start_time": "2021-12-09T10:16:38.316Z"
   },
   {
    "duration": 9,
    "start_time": "2021-12-09T10:16:38.443Z"
   },
   {
    "duration": 34,
    "start_time": "2021-12-09T10:16:38.453Z"
   },
   {
    "duration": 3,
    "start_time": "2021-12-09T10:16:38.489Z"
   },
   {
    "duration": 23,
    "start_time": "2021-12-09T10:16:38.494Z"
   },
   {
    "duration": 3,
    "start_time": "2021-12-09T10:16:38.519Z"
   },
   {
    "duration": 51,
    "start_time": "2021-12-09T10:16:38.524Z"
   },
   {
    "duration": 36,
    "start_time": "2021-12-09T10:16:38.576Z"
   },
   {
    "duration": 20,
    "start_time": "2021-12-09T10:16:38.614Z"
   },
   {
    "duration": 66,
    "start_time": "2021-12-09T10:16:38.635Z"
   },
   {
    "duration": 59,
    "start_time": "2021-12-09T10:16:38.703Z"
   },
   {
    "duration": 72,
    "start_time": "2021-12-09T10:16:38.763Z"
   },
   {
    "duration": 5,
    "start_time": "2021-12-09T10:16:38.836Z"
   },
   {
    "duration": 5,
    "start_time": "2021-12-09T10:16:38.843Z"
   },
   {
    "duration": 11,
    "start_time": "2021-12-09T10:16:38.849Z"
   },
   {
    "duration": 6,
    "start_time": "2021-12-09T10:16:38.861Z"
   },
   {
    "duration": 24,
    "start_time": "2021-12-09T10:16:38.868Z"
   },
   {
    "duration": 10,
    "start_time": "2021-12-09T10:16:38.894Z"
   },
   {
    "duration": 3,
    "start_time": "2021-12-09T10:16:38.905Z"
   },
   {
    "duration": 17,
    "start_time": "2021-12-09T10:16:38.910Z"
   },
   {
    "duration": 12,
    "start_time": "2021-12-09T10:16:38.928Z"
   },
   {
    "duration": 13,
    "start_time": "2021-12-09T10:16:38.942Z"
   },
   {
    "duration": 40,
    "start_time": "2021-12-09T10:16:38.956Z"
   },
   {
    "duration": 14,
    "start_time": "2021-12-09T10:16:38.998Z"
   },
   {
    "duration": 11,
    "start_time": "2021-12-09T10:16:39.013Z"
   },
   {
    "duration": 6,
    "start_time": "2021-12-09T10:16:39.026Z"
   },
   {
    "duration": 12,
    "start_time": "2021-12-09T10:16:39.034Z"
   },
   {
    "duration": 5,
    "start_time": "2021-12-09T10:16:39.047Z"
   },
   {
    "duration": 36,
    "start_time": "2021-12-09T10:16:39.054Z"
   },
   {
    "duration": 479,
    "start_time": "2021-12-09T10:16:39.091Z"
   },
   {
    "duration": -189,
    "start_time": "2021-12-09T10:16:39.761Z"
   },
   {
    "duration": -190,
    "start_time": "2021-12-09T10:16:39.763Z"
   },
   {
    "duration": -191,
    "start_time": "2021-12-09T10:16:39.765Z"
   },
   {
    "duration": -192,
    "start_time": "2021-12-09T10:16:39.767Z"
   },
   {
    "duration": -199,
    "start_time": "2021-12-09T10:16:39.775Z"
   },
   {
    "duration": -201,
    "start_time": "2021-12-09T10:16:39.778Z"
   },
   {
    "duration": -202,
    "start_time": "2021-12-09T10:16:39.780Z"
   },
   {
    "duration": 513,
    "start_time": "2021-12-09T10:16:45.092Z"
   },
   {
    "duration": 518,
    "start_time": "2021-12-09T10:16:53.720Z"
   },
   {
    "duration": 120,
    "start_time": "2021-12-09T10:16:54.240Z"
   },
   {
    "duration": 15,
    "start_time": "2021-12-09T10:16:54.362Z"
   },
   {
    "duration": 30,
    "start_time": "2021-12-09T10:16:54.378Z"
   },
   {
    "duration": 3,
    "start_time": "2021-12-09T10:16:54.410Z"
   },
   {
    "duration": 20,
    "start_time": "2021-12-09T10:16:54.414Z"
   },
   {
    "duration": 3,
    "start_time": "2021-12-09T10:16:54.436Z"
   },
   {
    "duration": 46,
    "start_time": "2021-12-09T10:16:54.442Z"
   },
   {
    "duration": 29,
    "start_time": "2021-12-09T10:16:54.490Z"
   },
   {
    "duration": 21,
    "start_time": "2021-12-09T10:16:54.521Z"
   },
   {
    "duration": 73,
    "start_time": "2021-12-09T10:16:54.543Z"
   },
   {
    "duration": 69,
    "start_time": "2021-12-09T10:16:54.618Z"
   },
   {
    "duration": 45,
    "start_time": "2021-12-09T10:16:54.689Z"
   },
   {
    "duration": 5,
    "start_time": "2021-12-09T10:16:54.736Z"
   },
   {
    "duration": 2,
    "start_time": "2021-12-09T10:16:54.743Z"
   },
   {
    "duration": 12,
    "start_time": "2021-12-09T10:16:54.747Z"
   },
   {
    "duration": 27,
    "start_time": "2021-12-09T10:16:54.761Z"
   },
   {
    "duration": 12,
    "start_time": "2021-12-09T10:16:54.790Z"
   },
   {
    "duration": 9,
    "start_time": "2021-12-09T10:16:54.804Z"
   },
   {
    "duration": 3,
    "start_time": "2021-12-09T10:16:54.815Z"
   },
   {
    "duration": 19,
    "start_time": "2021-12-09T10:16:54.820Z"
   },
   {
    "duration": 12,
    "start_time": "2021-12-09T10:16:54.841Z"
   },
   {
    "duration": 43,
    "start_time": "2021-12-09T10:16:54.856Z"
   },
   {
    "duration": 12,
    "start_time": "2021-12-09T10:16:54.901Z"
   },
   {
    "duration": 16,
    "start_time": "2021-12-09T10:16:54.915Z"
   },
   {
    "duration": 14,
    "start_time": "2021-12-09T10:16:54.932Z"
   },
   {
    "duration": 7,
    "start_time": "2021-12-09T10:16:54.948Z"
   },
   {
    "duration": 36,
    "start_time": "2021-12-09T10:16:54.956Z"
   },
   {
    "duration": 5,
    "start_time": "2021-12-09T10:16:54.994Z"
   },
   {
    "duration": 15,
    "start_time": "2021-12-09T10:16:55.000Z"
   },
   {
    "duration": 600,
    "start_time": "2021-12-09T10:16:55.016Z"
   },
   {
    "duration": -190,
    "start_time": "2021-12-09T10:16:55.808Z"
   },
   {
    "duration": -192,
    "start_time": "2021-12-09T10:16:55.810Z"
   },
   {
    "duration": -190,
    "start_time": "2021-12-09T10:16:55.812Z"
   },
   {
    "duration": -197,
    "start_time": "2021-12-09T10:16:55.821Z"
   },
   {
    "duration": -199,
    "start_time": "2021-12-09T10:16:55.824Z"
   },
   {
    "duration": -200,
    "start_time": "2021-12-09T10:16:55.826Z"
   },
   {
    "duration": -202,
    "start_time": "2021-12-09T10:16:55.828Z"
   },
   {
    "duration": 457,
    "start_time": "2021-12-09T10:16:59.267Z"
   },
   {
    "duration": 4,
    "start_time": "2021-12-09T10:17:08.796Z"
   },
   {
    "duration": 16,
    "start_time": "2021-12-09T10:17:10.668Z"
   },
   {
    "duration": 4928,
    "start_time": "2021-12-09T10:17:13.091Z"
   },
   {
    "duration": 17,
    "start_time": "2021-12-09T10:17:35.779Z"
   },
   {
    "duration": 3589,
    "start_time": "2021-12-09T10:17:43.876Z"
   },
   {
    "duration": 3483,
    "start_time": "2021-12-09T10:18:14.212Z"
   },
   {
    "duration": 9,
    "start_time": "2021-12-09T10:18:41.706Z"
   },
   {
    "duration": 12,
    "start_time": "2021-12-09T10:18:46.491Z"
   },
   {
    "duration": 17,
    "start_time": "2021-12-09T10:25:32.510Z"
   },
   {
    "duration": 12,
    "start_time": "2021-12-09T10:25:45.149Z"
   },
   {
    "duration": 9,
    "start_time": "2021-12-09T10:36:05.005Z"
   },
   {
    "duration": 25,
    "start_time": "2021-12-09T10:36:10.190Z"
   },
   {
    "duration": 7,
    "start_time": "2021-12-09T10:36:13.630Z"
   },
   {
    "duration": 16,
    "start_time": "2021-12-09T10:37:06.101Z"
   },
   {
    "duration": 8,
    "start_time": "2021-12-09T10:37:18.292Z"
   },
   {
    "duration": 235,
    "start_time": "2021-12-09T10:40:08.698Z"
   },
   {
    "duration": 6,
    "start_time": "2021-12-09T10:40:15.075Z"
   },
   {
    "duration": 5,
    "start_time": "2021-12-09T10:40:16.578Z"
   },
   {
    "duration": 28,
    "start_time": "2021-12-09T10:40:22.491Z"
   },
   {
    "duration": 5,
    "start_time": "2021-12-09T10:40:24.322Z"
   },
   {
    "duration": 6,
    "start_time": "2021-12-09T10:40:30.146Z"
   },
   {
    "duration": 5,
    "start_time": "2021-12-09T10:40:31.954Z"
   },
   {
    "duration": 2,
    "start_time": "2021-12-09T10:54:58.509Z"
   },
   {
    "duration": 127,
    "start_time": "2021-12-09T10:54:58.513Z"
   },
   {
    "duration": 10,
    "start_time": "2021-12-09T10:54:58.641Z"
   },
   {
    "duration": 24,
    "start_time": "2021-12-09T10:54:58.652Z"
   },
   {
    "duration": 10,
    "start_time": "2021-12-09T10:54:58.678Z"
   },
   {
    "duration": 21,
    "start_time": "2021-12-09T10:54:58.689Z"
   },
   {
    "duration": 3,
    "start_time": "2021-12-09T10:54:58.712Z"
   },
   {
    "duration": 20,
    "start_time": "2021-12-09T10:54:58.717Z"
   },
   {
    "duration": 27,
    "start_time": "2021-12-09T10:54:58.739Z"
   },
   {
    "duration": 36,
    "start_time": "2021-12-09T10:54:58.768Z"
   },
   {
    "duration": 48,
    "start_time": "2021-12-09T10:54:58.805Z"
   },
   {
    "duration": 66,
    "start_time": "2021-12-09T10:54:58.855Z"
   },
   {
    "duration": 45,
    "start_time": "2021-12-09T10:54:58.923Z"
   },
   {
    "duration": 18,
    "start_time": "2021-12-09T10:54:58.970Z"
   },
   {
    "duration": 2,
    "start_time": "2021-12-09T10:54:58.990Z"
   },
   {
    "duration": 11,
    "start_time": "2021-12-09T10:54:58.993Z"
   },
   {
    "duration": 5,
    "start_time": "2021-12-09T10:54:59.006Z"
   },
   {
    "duration": 10,
    "start_time": "2021-12-09T10:54:59.012Z"
   },
   {
    "duration": 9,
    "start_time": "2021-12-09T10:54:59.023Z"
   },
   {
    "duration": 2,
    "start_time": "2021-12-09T10:54:59.034Z"
   },
   {
    "duration": 23,
    "start_time": "2021-12-09T10:54:59.038Z"
   },
   {
    "duration": 13,
    "start_time": "2021-12-09T10:54:59.088Z"
   },
   {
    "duration": 24,
    "start_time": "2021-12-09T10:54:59.103Z"
   },
   {
    "duration": 17,
    "start_time": "2021-12-09T10:54:59.129Z"
   },
   {
    "duration": 15,
    "start_time": "2021-12-09T10:54:59.148Z"
   },
   {
    "duration": 25,
    "start_time": "2021-12-09T10:54:59.164Z"
   },
   {
    "duration": 7,
    "start_time": "2021-12-09T10:54:59.192Z"
   },
   {
    "duration": 19,
    "start_time": "2021-12-09T10:54:59.201Z"
   },
   {
    "duration": 12,
    "start_time": "2021-12-09T10:54:59.221Z"
   },
   {
    "duration": 3,
    "start_time": "2021-12-09T10:54:59.234Z"
   },
   {
    "duration": 512,
    "start_time": "2021-12-09T10:54:59.239Z"
   },
   {
    "duration": -205,
    "start_time": "2021-12-09T10:54:59.958Z"
   },
   {
    "duration": -206,
    "start_time": "2021-12-09T10:54:59.960Z"
   },
   {
    "duration": -208,
    "start_time": "2021-12-09T10:54:59.963Z"
   },
   {
    "duration": -209,
    "start_time": "2021-12-09T10:54:59.965Z"
   },
   {
    "duration": -210,
    "start_time": "2021-12-09T10:54:59.967Z"
   },
   {
    "duration": -211,
    "start_time": "2021-12-09T10:54:59.969Z"
   },
   {
    "duration": -212,
    "start_time": "2021-12-09T10:54:59.971Z"
   },
   {
    "duration": 464,
    "start_time": "2021-12-09T10:55:12.487Z"
   },
   {
    "duration": 8,
    "start_time": "2021-12-09T10:55:16.799Z"
   },
   {
    "duration": 12,
    "start_time": "2021-12-09T10:55:18.342Z"
   },
   {
    "duration": 4,
    "start_time": "2021-12-09T10:55:20.103Z"
   },
   {
    "duration": 859,
    "start_time": "2021-12-09T10:55:22.063Z"
   },
   {
    "duration": 3,
    "start_time": "2021-12-09T10:56:03.171Z"
   },
   {
    "duration": 148,
    "start_time": "2021-12-09T10:56:03.176Z"
   },
   {
    "duration": 10,
    "start_time": "2021-12-09T10:56:03.326Z"
   },
   {
    "duration": 24,
    "start_time": "2021-12-09T10:56:03.338Z"
   },
   {
    "duration": 27,
    "start_time": "2021-12-09T10:56:03.364Z"
   },
   {
    "duration": 18,
    "start_time": "2021-12-09T10:56:03.393Z"
   },
   {
    "duration": 3,
    "start_time": "2021-12-09T10:56:03.413Z"
   },
   {
    "duration": 21,
    "start_time": "2021-12-09T10:56:03.418Z"
   },
   {
    "duration": 32,
    "start_time": "2021-12-09T10:56:03.440Z"
   },
   {
    "duration": 20,
    "start_time": "2021-12-09T10:56:03.488Z"
   },
   {
    "duration": 48,
    "start_time": "2021-12-09T10:56:03.509Z"
   },
   {
    "duration": 73,
    "start_time": "2021-12-09T10:56:03.559Z"
   },
   {
    "duration": 45,
    "start_time": "2021-12-09T10:56:03.634Z"
   },
   {
    "duration": 10,
    "start_time": "2021-12-09T10:56:03.680Z"
   },
   {
    "duration": 2,
    "start_time": "2021-12-09T10:56:03.691Z"
   },
   {
    "duration": 10,
    "start_time": "2021-12-09T10:56:03.695Z"
   },
   {
    "duration": 5,
    "start_time": "2021-12-09T10:56:03.706Z"
   },
   {
    "duration": 9,
    "start_time": "2021-12-09T10:56:03.713Z"
   },
   {
    "duration": 9,
    "start_time": "2021-12-09T10:56:03.724Z"
   },
   {
    "duration": 3,
    "start_time": "2021-12-09T10:56:03.734Z"
   },
   {
    "duration": 50,
    "start_time": "2021-12-09T10:56:03.739Z"
   },
   {
    "duration": 16,
    "start_time": "2021-12-09T10:56:03.791Z"
   },
   {
    "duration": 21,
    "start_time": "2021-12-09T10:56:03.808Z"
   },
   {
    "duration": 12,
    "start_time": "2021-12-09T10:56:03.830Z"
   },
   {
    "duration": 13,
    "start_time": "2021-12-09T10:56:03.844Z"
   },
   {
    "duration": 34,
    "start_time": "2021-12-09T10:56:03.858Z"
   },
   {
    "duration": 7,
    "start_time": "2021-12-09T10:56:03.894Z"
   },
   {
    "duration": 11,
    "start_time": "2021-12-09T10:56:03.903Z"
   },
   {
    "duration": 10,
    "start_time": "2021-12-09T10:56:03.915Z"
   },
   {
    "duration": 3,
    "start_time": "2021-12-09T10:56:03.927Z"
   },
   {
    "duration": 468,
    "start_time": "2021-12-09T10:56:03.932Z"
   },
   {
    "duration": -207,
    "start_time": "2021-12-09T10:56:04.608Z"
   },
   {
    "duration": -209,
    "start_time": "2021-12-09T10:56:04.611Z"
   },
   {
    "duration": -210,
    "start_time": "2021-12-09T10:56:04.613Z"
   },
   {
    "duration": -211,
    "start_time": "2021-12-09T10:56:04.615Z"
   },
   {
    "duration": -211,
    "start_time": "2021-12-09T10:56:04.616Z"
   },
   {
    "duration": -213,
    "start_time": "2021-12-09T10:56:04.618Z"
   },
   {
    "duration": -214,
    "start_time": "2021-12-09T10:56:04.620Z"
   },
   {
    "duration": 2,
    "start_time": "2021-12-09T10:56:15.494Z"
   },
   {
    "duration": 129,
    "start_time": "2021-12-09T10:56:17.070Z"
   },
   {
    "duration": 9,
    "start_time": "2021-12-09T10:56:18.624Z"
   },
   {
    "duration": 4,
    "start_time": "2021-12-09T10:56:22.294Z"
   },
   {
    "duration": 6,
    "start_time": "2021-12-09T10:56:25.190Z"
   },
   {
    "duration": 4,
    "start_time": "2021-12-09T10:56:30.158Z"
   },
   {
    "duration": 7446,
    "start_time": "2021-12-09T10:56:31.918Z"
   },
   {
    "duration": 4,
    "start_time": "2021-12-09T10:56:55.898Z"
   },
   {
    "duration": 257,
    "start_time": "2021-12-09T10:56:58.201Z"
   },
   {
    "duration": 567,
    "start_time": "2021-12-09T10:57:01.053Z"
   },
   {
    "duration": 117,
    "start_time": "2021-12-09T10:57:01.622Z"
   },
   {
    "duration": 16,
    "start_time": "2021-12-09T10:57:01.741Z"
   },
   {
    "duration": 30,
    "start_time": "2021-12-09T10:57:01.758Z"
   },
   {
    "duration": 2,
    "start_time": "2021-12-09T10:57:01.790Z"
   },
   {
    "duration": 24,
    "start_time": "2021-12-09T10:57:01.794Z"
   },
   {
    "duration": 4,
    "start_time": "2021-12-09T10:57:01.819Z"
   },
   {
    "duration": 36,
    "start_time": "2021-12-09T10:57:01.826Z"
   },
   {
    "duration": 39,
    "start_time": "2021-12-09T10:57:01.864Z"
   },
   {
    "duration": 18,
    "start_time": "2021-12-09T10:57:01.905Z"
   },
   {
    "duration": 64,
    "start_time": "2021-12-09T10:57:01.925Z"
   },
   {
    "duration": 58,
    "start_time": "2021-12-09T10:57:01.991Z"
   },
   {
    "duration": 54,
    "start_time": "2021-12-09T10:57:02.051Z"
   },
   {
    "duration": 7,
    "start_time": "2021-12-09T10:57:02.107Z"
   },
   {
    "duration": 18,
    "start_time": "2021-12-09T10:57:02.115Z"
   },
   {
    "duration": 19,
    "start_time": "2021-12-09T10:57:02.135Z"
   },
   {
    "duration": 15,
    "start_time": "2021-12-09T10:57:02.156Z"
   },
   {
    "duration": 38,
    "start_time": "2021-12-09T10:57:02.172Z"
   },
   {
    "duration": 11,
    "start_time": "2021-12-09T10:57:02.212Z"
   },
   {
    "duration": 7,
    "start_time": "2021-12-09T10:57:02.225Z"
   },
   {
    "duration": 20,
    "start_time": "2021-12-09T10:57:02.233Z"
   },
   {
    "duration": 13,
    "start_time": "2021-12-09T10:57:02.254Z"
   },
   {
    "duration": 16,
    "start_time": "2021-12-09T10:57:02.271Z"
   },
   {
    "duration": 17,
    "start_time": "2021-12-09T10:57:02.289Z"
   },
   {
    "duration": 15,
    "start_time": "2021-12-09T10:57:02.307Z"
   },
   {
    "duration": 14,
    "start_time": "2021-12-09T10:57:02.324Z"
   },
   {
    "duration": 8,
    "start_time": "2021-12-09T10:57:02.340Z"
   },
   {
    "duration": 10,
    "start_time": "2021-12-09T10:57:02.349Z"
   },
   {
    "duration": 34,
    "start_time": "2021-12-09T10:57:02.361Z"
   },
   {
    "duration": 5,
    "start_time": "2021-12-09T10:57:02.396Z"
   },
   {
    "duration": 481,
    "start_time": "2021-12-09T10:57:02.403Z"
   },
   {
    "duration": -197,
    "start_time": "2021-12-09T10:57:03.083Z"
   },
   {
    "duration": -200,
    "start_time": "2021-12-09T10:57:03.087Z"
   },
   {
    "duration": -201,
    "start_time": "2021-12-09T10:57:03.089Z"
   },
   {
    "duration": -202,
    "start_time": "2021-12-09T10:57:03.091Z"
   },
   {
    "duration": -203,
    "start_time": "2021-12-09T10:57:03.092Z"
   },
   {
    "duration": -210,
    "start_time": "2021-12-09T10:57:03.100Z"
   },
   {
    "duration": -212,
    "start_time": "2021-12-09T10:57:03.103Z"
   },
   {
    "duration": 9,
    "start_time": "2021-12-09T10:57:07.874Z"
   },
   {
    "duration": 8,
    "start_time": "2021-12-09T10:57:10.442Z"
   },
   {
    "duration": 4,
    "start_time": "2021-12-09T10:57:13.377Z"
   },
   {
    "duration": 486,
    "start_time": "2021-12-09T10:57:15.257Z"
   },
   {
    "duration": 7,
    "start_time": "2021-12-09T10:57:27.449Z"
   },
   {
    "duration": 5,
    "start_time": "2021-12-09T10:57:50.640Z"
   },
   {
    "duration": 6,
    "start_time": "2021-12-09T10:57:52.625Z"
   },
   {
    "duration": 5,
    "start_time": "2021-12-09T10:58:04.720Z"
   },
   {
    "duration": 674,
    "start_time": "2021-12-09T10:58:07.480Z"
   },
   {
    "duration": 3,
    "start_time": "2021-12-09T10:58:10.913Z"
   },
   {
    "duration": 2,
    "start_time": "2021-12-09T10:59:37.916Z"
   },
   {
    "duration": 130,
    "start_time": "2021-12-09T10:59:37.920Z"
   },
   {
    "duration": 9,
    "start_time": "2021-12-09T10:59:38.051Z"
   },
   {
    "duration": 27,
    "start_time": "2021-12-09T10:59:38.062Z"
   },
   {
    "duration": 4,
    "start_time": "2021-12-09T10:59:38.091Z"
   },
   {
    "duration": 16,
    "start_time": "2021-12-09T10:59:38.096Z"
   },
   {
    "duration": 2,
    "start_time": "2021-12-09T10:59:38.114Z"
   },
   {
    "duration": 21,
    "start_time": "2021-12-09T10:59:38.118Z"
   },
   {
    "duration": 53,
    "start_time": "2021-12-09T10:59:38.142Z"
   },
   {
    "duration": 21,
    "start_time": "2021-12-09T10:59:38.197Z"
   },
   {
    "duration": 46,
    "start_time": "2021-12-09T10:59:38.220Z"
   },
   {
    "duration": 66,
    "start_time": "2021-12-09T10:59:38.268Z"
   },
   {
    "duration": 55,
    "start_time": "2021-12-09T10:59:38.335Z"
   },
   {
    "duration": 5,
    "start_time": "2021-12-09T10:59:38.392Z"
   },
   {
    "duration": 3,
    "start_time": "2021-12-09T10:59:38.399Z"
   },
   {
    "duration": 10,
    "start_time": "2021-12-09T10:59:38.403Z"
   },
   {
    "duration": 5,
    "start_time": "2021-12-09T10:59:38.415Z"
   },
   {
    "duration": 11,
    "start_time": "2021-12-09T10:59:38.421Z"
   },
   {
    "duration": 9,
    "start_time": "2021-12-09T10:59:38.433Z"
   },
   {
    "duration": 3,
    "start_time": "2021-12-09T10:59:38.443Z"
   },
   {
    "duration": 50,
    "start_time": "2021-12-09T10:59:38.448Z"
   },
   {
    "duration": 12,
    "start_time": "2021-12-09T10:59:38.500Z"
   },
   {
    "duration": 15,
    "start_time": "2021-12-09T10:59:38.513Z"
   },
   {
    "duration": 11,
    "start_time": "2021-12-09T10:59:38.530Z"
   },
   {
    "duration": 12,
    "start_time": "2021-12-09T10:59:38.543Z"
   },
   {
    "duration": 36,
    "start_time": "2021-12-09T10:59:38.557Z"
   },
   {
    "duration": 7,
    "start_time": "2021-12-09T10:59:38.595Z"
   },
   {
    "duration": 14,
    "start_time": "2021-12-09T10:59:38.604Z"
   },
   {
    "duration": 9,
    "start_time": "2021-12-09T10:59:38.620Z"
   },
   {
    "duration": 3,
    "start_time": "2021-12-09T10:59:38.630Z"
   },
   {
    "duration": 583,
    "start_time": "2021-12-09T10:59:38.635Z"
   },
   {
    "duration": -201,
    "start_time": "2021-12-09T10:59:39.421Z"
   },
   {
    "duration": -203,
    "start_time": "2021-12-09T10:59:39.424Z"
   },
   {
    "duration": -205,
    "start_time": "2021-12-09T10:59:39.426Z"
   },
   {
    "duration": -205,
    "start_time": "2021-12-09T10:59:39.427Z"
   },
   {
    "duration": -206,
    "start_time": "2021-12-09T10:59:39.429Z"
   },
   {
    "duration": -208,
    "start_time": "2021-12-09T10:59:39.431Z"
   },
   {
    "duration": -209,
    "start_time": "2021-12-09T10:59:39.433Z"
   },
   {
    "duration": 9,
    "start_time": "2021-12-09T10:59:43.431Z"
   },
   {
    "duration": 8,
    "start_time": "2021-12-09T10:59:45.783Z"
   },
   {
    "duration": 4,
    "start_time": "2021-12-09T10:59:48.247Z"
   },
   {
    "duration": 620,
    "start_time": "2021-12-09T10:59:49.999Z"
   },
   {
    "duration": 2,
    "start_time": "2021-12-09T11:00:42.747Z"
   },
   {
    "duration": 129,
    "start_time": "2021-12-09T11:00:42.751Z"
   },
   {
    "duration": 13,
    "start_time": "2021-12-09T11:00:42.882Z"
   },
   {
    "duration": 25,
    "start_time": "2021-12-09T11:00:42.897Z"
   },
   {
    "duration": 5,
    "start_time": "2021-12-09T11:00:42.924Z"
   },
   {
    "duration": 22,
    "start_time": "2021-12-09T11:00:42.931Z"
   },
   {
    "duration": 3,
    "start_time": "2021-12-09T11:00:42.954Z"
   },
   {
    "duration": 36,
    "start_time": "2021-12-09T11:00:42.959Z"
   },
   {
    "duration": 32,
    "start_time": "2021-12-09T11:00:42.997Z"
   },
   {
    "duration": 23,
    "start_time": "2021-12-09T11:00:43.030Z"
   },
   {
    "duration": 74,
    "start_time": "2021-12-09T11:00:43.054Z"
   },
   {
    "duration": 69,
    "start_time": "2021-12-09T11:00:43.130Z"
   },
   {
    "duration": 51,
    "start_time": "2021-12-09T11:00:43.201Z"
   },
   {
    "duration": 6,
    "start_time": "2021-12-09T11:00:43.253Z"
   },
   {
    "duration": 6,
    "start_time": "2021-12-09T11:00:43.260Z"
   },
   {
    "duration": 25,
    "start_time": "2021-12-09T11:00:43.267Z"
   },
   {
    "duration": 5,
    "start_time": "2021-12-09T11:00:43.294Z"
   },
   {
    "duration": 10,
    "start_time": "2021-12-09T11:00:43.300Z"
   },
   {
    "duration": 9,
    "start_time": "2021-12-09T11:00:43.311Z"
   },
   {
    "duration": 3,
    "start_time": "2021-12-09T11:00:43.322Z"
   },
   {
    "duration": 19,
    "start_time": "2021-12-09T11:00:43.326Z"
   },
   {
    "duration": 41,
    "start_time": "2021-12-09T11:00:43.347Z"
   },
   {
    "duration": 13,
    "start_time": "2021-12-09T11:00:43.391Z"
   },
   {
    "duration": 11,
    "start_time": "2021-12-09T11:00:43.406Z"
   },
   {
    "duration": 13,
    "start_time": "2021-12-09T11:00:43.419Z"
   },
   {
    "duration": 12,
    "start_time": "2021-12-09T11:00:43.434Z"
   },
   {
    "duration": 8,
    "start_time": "2021-12-09T11:00:43.448Z"
   },
   {
    "duration": 12,
    "start_time": "2021-12-09T11:00:43.487Z"
   },
   {
    "duration": 11,
    "start_time": "2021-12-09T11:00:43.501Z"
   },
   {
    "duration": 4,
    "start_time": "2021-12-09T11:00:43.514Z"
   },
   {
    "duration": 621,
    "start_time": "2021-12-09T11:00:43.520Z"
   },
   {
    "duration": -204,
    "start_time": "2021-12-09T11:00:44.348Z"
   },
   {
    "duration": -206,
    "start_time": "2021-12-09T11:00:44.351Z"
   },
   {
    "duration": -207,
    "start_time": "2021-12-09T11:00:44.353Z"
   },
   {
    "duration": -212,
    "start_time": "2021-12-09T11:00:44.360Z"
   },
   {
    "duration": -214,
    "start_time": "2021-12-09T11:00:44.363Z"
   },
   {
    "duration": -216,
    "start_time": "2021-12-09T11:00:44.366Z"
   },
   {
    "duration": -215,
    "start_time": "2021-12-09T11:00:44.367Z"
   },
   {
    "duration": 13,
    "start_time": "2021-12-09T11:00:48.127Z"
   },
   {
    "duration": 8,
    "start_time": "2021-12-09T11:00:49.534Z"
   },
   {
    "duration": 11,
    "start_time": "2021-12-09T11:00:51.622Z"
   },
   {
    "duration": 10,
    "start_time": "2021-12-09T11:00:53.287Z"
   },
   {
    "duration": 4,
    "start_time": "2021-12-09T11:00:54.182Z"
   },
   {
    "duration": 626,
    "start_time": "2021-12-09T11:00:55.014Z"
   },
   {
    "duration": 584,
    "start_time": "2021-12-09T11:00:56.302Z"
   },
   {
    "duration": 459,
    "start_time": "2021-12-09T11:00:57.070Z"
   },
   {
    "duration": 602,
    "start_time": "2021-12-09T11:00:57.806Z"
   },
   {
    "duration": 8,
    "start_time": "2021-12-09T11:01:00.830Z"
   },
   {
    "duration": 5,
    "start_time": "2021-12-09T11:01:01.933Z"
   },
   {
    "duration": 9,
    "start_time": "2021-12-09T11:01:06.286Z"
   },
   {
    "duration": 5,
    "start_time": "2021-12-09T11:01:06.950Z"
   },
   {
    "duration": 451,
    "start_time": "2021-12-09T11:01:14.062Z"
   },
   {
    "duration": 3,
    "start_time": "2021-12-09T11:01:36.558Z"
   },
   {
    "duration": 15,
    "start_time": "2021-12-09T11:01:38.302Z"
   },
   {
    "duration": 911,
    "start_time": "2021-12-10T07:24:24.252Z"
   },
   {
    "duration": 186,
    "start_time": "2021-12-10T07:24:30.413Z"
   },
   {
    "duration": 28,
    "start_time": "2021-12-10T07:24:32.347Z"
   },
   {
    "duration": 34,
    "start_time": "2021-12-10T07:24:38.165Z"
   },
   {
    "duration": 5,
    "start_time": "2021-12-10T07:28:21.226Z"
   },
   {
    "duration": 5,
    "start_time": "2021-12-10T07:28:39.956Z"
   },
   {
    "duration": 27,
    "start_time": "2021-12-10T07:28:41.698Z"
   },
   {
    "duration": 4,
    "start_time": "2021-12-10T07:28:43.456Z"
   },
   {
    "duration": 28,
    "start_time": "2021-12-10T07:28:47.216Z"
   },
   {
    "duration": 39,
    "start_time": "2021-12-10T07:29:24.240Z"
   },
   {
    "duration": 29,
    "start_time": "2021-12-10T07:29:26.760Z"
   },
   {
    "duration": 84,
    "start_time": "2021-12-10T07:29:30.894Z"
   },
   {
    "duration": 97,
    "start_time": "2021-12-10T07:29:32.624Z"
   },
   {
    "duration": 78,
    "start_time": "2021-12-10T07:29:34.592Z"
   },
   {
    "duration": 4,
    "start_time": "2021-12-10T07:31:25.758Z"
   },
   {
    "duration": 18,
    "start_time": "2021-12-10T07:31:49.214Z"
   },
   {
    "duration": 9,
    "start_time": "2021-12-10T07:32:08.446Z"
   },
   {
    "duration": 15,
    "start_time": "2021-12-10T07:33:49.050Z"
   },
   {
    "duration": 13,
    "start_time": "2021-12-10T07:34:04.526Z"
   },
   {
    "duration": 4,
    "start_time": "2021-12-10T07:38:51.033Z"
   },
   {
    "duration": 9,
    "start_time": "2021-12-10T07:38:53.210Z"
   },
   {
    "duration": 9,
    "start_time": "2021-12-10T07:38:58.101Z"
   },
   {
    "duration": 4,
    "start_time": "2021-12-10T07:39:14.305Z"
   },
   {
    "duration": 247,
    "start_time": "2021-12-10T07:39:16.152Z"
   },
   {
    "duration": 16,
    "start_time": "2021-12-10T07:39:17.928Z"
   },
   {
    "duration": 47,
    "start_time": "2021-12-10T07:39:20.186Z"
   },
   {
    "duration": 5,
    "start_time": "2021-12-10T07:39:23.691Z"
   },
   {
    "duration": 18,
    "start_time": "2021-12-10T07:39:25.712Z"
   },
   {
    "duration": 4,
    "start_time": "2021-12-10T07:39:27.558Z"
   },
   {
    "duration": 29,
    "start_time": "2021-12-10T07:39:29.633Z"
   },
   {
    "duration": 46,
    "start_time": "2021-12-10T07:39:32.624Z"
   },
   {
    "duration": 30,
    "start_time": "2021-12-10T07:39:34.328Z"
   },
   {
    "duration": 81,
    "start_time": "2021-12-10T07:39:36.946Z"
   },
   {
    "duration": 101,
    "start_time": "2021-12-10T07:39:39.848Z"
   },
   {
    "duration": 145,
    "start_time": "2021-12-10T07:39:41.802Z"
   },
   {
    "duration": 12,
    "start_time": "2021-12-10T07:39:43.896Z"
   },
   {
    "duration": 45,
    "start_time": "2021-12-10T07:40:37.168Z"
   },
   {
    "duration": 9,
    "start_time": "2021-12-10T07:41:07.176Z"
   },
   {
    "duration": 14,
    "start_time": "2021-12-10T07:41:17.968Z"
   },
   {
    "duration": 14,
    "start_time": "2021-12-10T07:41:20.811Z"
   },
   {
    "duration": 5,
    "start_time": "2021-12-10T07:42:01.964Z"
   },
   {
    "duration": 21,
    "start_time": "2021-12-10T07:42:05.239Z"
   },
   {
    "duration": 20,
    "start_time": "2021-12-10T07:42:05.976Z"
   },
   {
    "duration": 19,
    "start_time": "2021-12-10T07:42:06.576Z"
   },
   {
    "duration": 20,
    "start_time": "2021-12-10T07:42:07.077Z"
   },
   {
    "duration": 22,
    "start_time": "2021-12-10T07:42:07.503Z"
   },
   {
    "duration": 19,
    "start_time": "2021-12-10T07:42:08.478Z"
   },
   {
    "duration": 12,
    "start_time": "2021-12-10T07:42:21.199Z"
   },
   {
    "duration": 15,
    "start_time": "2021-12-10T07:42:48.859Z"
   },
   {
    "duration": 12,
    "start_time": "2021-12-10T07:42:49.805Z"
   },
   {
    "duration": 6,
    "start_time": "2021-12-10T07:43:16.741Z"
   },
   {
    "duration": 1712,
    "start_time": "2021-12-10T07:43:19.030Z"
   },
   {
    "duration": 5,
    "start_time": "2021-12-10T07:43:40.528Z"
   },
   {
    "duration": 1154,
    "start_time": "2021-12-10T07:43:42.992Z"
   },
   {
    "duration": -217,
    "start_time": "2021-12-10T07:43:44.366Z"
   },
   {
    "duration": 11,
    "start_time": "2021-12-10T07:44:29.455Z"
   },
   {
    "duration": 7,
    "start_time": "2021-12-10T07:44:31.909Z"
   },
   {
    "duration": 8,
    "start_time": "2021-12-10T07:44:36.512Z"
   },
   {
    "duration": 6,
    "start_time": "2021-12-10T07:44:39.516Z"
   },
   {
    "duration": 3,
    "start_time": "2021-12-10T07:45:10.371Z"
   },
   {
    "duration": 209,
    "start_time": "2021-12-10T07:45:10.377Z"
   },
   {
    "duration": 16,
    "start_time": "2021-12-10T07:45:10.589Z"
   },
   {
    "duration": 51,
    "start_time": "2021-12-10T07:45:10.608Z"
   },
   {
    "duration": 5,
    "start_time": "2021-12-10T07:45:10.661Z"
   },
   {
    "duration": 22,
    "start_time": "2021-12-10T07:45:10.668Z"
   },
   {
    "duration": 4,
    "start_time": "2021-12-10T07:45:10.694Z"
   },
   {
    "duration": 64,
    "start_time": "2021-12-10T07:45:10.701Z"
   },
   {
    "duration": 42,
    "start_time": "2021-12-10T07:45:10.768Z"
   },
   {
    "duration": 50,
    "start_time": "2021-12-10T07:45:10.812Z"
   },
   {
    "duration": 94,
    "start_time": "2021-12-10T07:45:10.865Z"
   },
   {
    "duration": 107,
    "start_time": "2021-12-10T07:45:10.962Z"
   },
   {
    "duration": 89,
    "start_time": "2021-12-10T07:45:11.072Z"
   },
   {
    "duration": 9,
    "start_time": "2021-12-10T07:45:11.163Z"
   },
   {
    "duration": 5,
    "start_time": "2021-12-10T07:45:11.174Z"
   },
   {
    "duration": 84,
    "start_time": "2021-12-10T07:45:11.182Z"
   },
   {
    "duration": 9,
    "start_time": "2021-12-10T07:45:11.268Z"
   },
   {
    "duration": 13,
    "start_time": "2021-12-10T07:45:11.280Z"
   },
   {
    "duration": 13,
    "start_time": "2021-12-10T07:45:11.298Z"
   },
   {
    "duration": 5,
    "start_time": "2021-12-10T07:45:11.313Z"
   },
   {
    "duration": 21,
    "start_time": "2021-12-10T07:45:11.359Z"
   },
   {
    "duration": 18,
    "start_time": "2021-12-10T07:45:11.382Z"
   },
   {
    "duration": 18,
    "start_time": "2021-12-10T07:45:11.403Z"
   },
   {
    "duration": 46,
    "start_time": "2021-12-10T07:45:11.423Z"
   },
   {
    "duration": 21,
    "start_time": "2021-12-10T07:45:11.471Z"
   },
   {
    "duration": 18,
    "start_time": "2021-12-10T07:45:11.494Z"
   },
   {
    "duration": 46,
    "start_time": "2021-12-10T07:45:11.515Z"
   },
   {
    "duration": 18,
    "start_time": "2021-12-10T07:45:11.564Z"
   },
   {
    "duration": 15,
    "start_time": "2021-12-10T07:45:11.584Z"
   },
   {
    "duration": 5,
    "start_time": "2021-12-10T07:45:11.601Z"
   },
   {
    "duration": 864,
    "start_time": "2021-12-10T07:45:11.608Z"
   },
   {
    "duration": -241,
    "start_time": "2021-12-10T07:45:12.715Z"
   },
   {
    "duration": -249,
    "start_time": "2021-12-10T07:45:12.724Z"
   },
   {
    "duration": -254,
    "start_time": "2021-12-10T07:45:12.731Z"
   },
   {
    "duration": -255,
    "start_time": "2021-12-10T07:45:12.733Z"
   },
   {
    "duration": -256,
    "start_time": "2021-12-10T07:45:12.736Z"
   },
   {
    "duration": -257,
    "start_time": "2021-12-10T07:45:12.738Z"
   },
   {
    "duration": -258,
    "start_time": "2021-12-10T07:45:12.740Z"
   },
   {
    "duration": 793,
    "start_time": "2021-12-10T07:45:37.232Z"
   },
   {
    "duration": 185,
    "start_time": "2021-12-10T07:45:38.028Z"
   },
   {
    "duration": 27,
    "start_time": "2021-12-10T07:45:38.217Z"
   },
   {
    "duration": 45,
    "start_time": "2021-12-10T07:45:38.247Z"
   },
   {
    "duration": 5,
    "start_time": "2021-12-10T07:45:38.296Z"
   },
   {
    "duration": 72,
    "start_time": "2021-12-10T07:45:38.304Z"
   },
   {
    "duration": 5,
    "start_time": "2021-12-10T07:45:38.379Z"
   },
   {
    "duration": 31,
    "start_time": "2021-12-10T07:45:38.390Z"
   },
   {
    "duration": 73,
    "start_time": "2021-12-10T07:45:38.425Z"
   },
   {
    "duration": 29,
    "start_time": "2021-12-10T07:45:38.500Z"
   },
   {
    "duration": 99,
    "start_time": "2021-12-10T07:45:38.533Z"
   },
   {
    "duration": 130,
    "start_time": "2021-12-10T07:45:38.635Z"
   },
   {
    "duration": 94,
    "start_time": "2021-12-10T07:45:38.767Z"
   },
   {
    "duration": 10,
    "start_time": "2021-12-10T07:45:38.864Z"
   },
   {
    "duration": 6,
    "start_time": "2021-12-10T07:45:38.877Z"
   },
   {
    "duration": 84,
    "start_time": "2021-12-10T07:45:38.885Z"
   },
   {
    "duration": 11,
    "start_time": "2021-12-10T07:45:38.972Z"
   },
   {
    "duration": 15,
    "start_time": "2021-12-10T07:45:38.986Z"
   },
   {
    "duration": 14,
    "start_time": "2021-12-10T07:45:39.004Z"
   },
   {
    "duration": 39,
    "start_time": "2021-12-10T07:45:39.021Z"
   },
   {
    "duration": 25,
    "start_time": "2021-12-10T07:45:39.063Z"
   },
   {
    "duration": 19,
    "start_time": "2021-12-10T07:45:39.090Z"
   },
   {
    "duration": 47,
    "start_time": "2021-12-10T07:45:39.114Z"
   },
   {
    "duration": 18,
    "start_time": "2021-12-10T07:45:39.164Z"
   },
   {
    "duration": 22,
    "start_time": "2021-12-10T07:45:39.184Z"
   },
   {
    "duration": 56,
    "start_time": "2021-12-10T07:45:39.209Z"
   },
   {
    "duration": 12,
    "start_time": "2021-12-10T07:45:39.267Z"
   },
   {
    "duration": 18,
    "start_time": "2021-12-10T07:45:39.281Z"
   },
   {
    "duration": 12,
    "start_time": "2021-12-10T07:45:39.301Z"
   },
   {
    "duration": 5,
    "start_time": "2021-12-10T07:45:39.315Z"
   },
   {
    "duration": 963,
    "start_time": "2021-12-10T07:45:39.322Z"
   },
   {
    "duration": -216,
    "start_time": "2021-12-10T07:45:40.503Z"
   },
   {
    "duration": -216,
    "start_time": "2021-12-10T07:45:40.505Z"
   },
   {
    "duration": -217,
    "start_time": "2021-12-10T07:45:40.507Z"
   },
   {
    "duration": -217,
    "start_time": "2021-12-10T07:45:40.509Z"
   },
   {
    "duration": -223,
    "start_time": "2021-12-10T07:45:40.516Z"
   },
   {
    "duration": -226,
    "start_time": "2021-12-10T07:45:40.520Z"
   },
   {
    "duration": -229,
    "start_time": "2021-12-10T07:45:40.525Z"
   },
   {
    "duration": 46,
    "start_time": "2021-12-10T07:46:39.403Z"
   },
   {
    "duration": 8,
    "start_time": "2021-12-10T07:46:41.307Z"
   },
   {
    "duration": 18,
    "start_time": "2021-12-10T07:47:34.802Z"
   },
   {
    "duration": 9,
    "start_time": "2021-12-10T07:47:37.241Z"
   },
   {
    "duration": 14,
    "start_time": "2021-12-10T07:49:06.912Z"
   },
   {
    "duration": 16,
    "start_time": "2021-12-10T07:49:10.764Z"
   },
   {
    "duration": 5,
    "start_time": "2021-12-10T07:49:16.711Z"
   },
   {
    "duration": 24,
    "start_time": "2021-12-10T07:49:18.847Z"
   },
   {
    "duration": 21,
    "start_time": "2021-12-10T07:49:19.574Z"
   },
   {
    "duration": 21,
    "start_time": "2021-12-10T07:49:20.792Z"
   },
   {
    "duration": 20,
    "start_time": "2021-12-10T07:49:21.421Z"
   },
   {
    "duration": 21,
    "start_time": "2021-12-10T07:49:22.040Z"
   },
   {
    "duration": 20,
    "start_time": "2021-12-10T07:49:22.689Z"
   },
   {
    "duration": 15,
    "start_time": "2021-12-10T07:49:25.696Z"
   },
   {
    "duration": 17,
    "start_time": "2021-12-10T07:49:28.993Z"
   },
   {
    "duration": 16,
    "start_time": "2021-12-10T07:49:29.442Z"
   },
   {
    "duration": 6,
    "start_time": "2021-12-10T07:49:31.948Z"
   },
   {
    "duration": 795,
    "start_time": "2021-12-10T07:49:33.512Z"
   },
   {
    "duration": 941,
    "start_time": "2021-12-10T07:49:55.433Z"
   },
   {
    "duration": 7,
    "start_time": "2021-12-10T07:50:34.001Z"
   },
   {
    "duration": 783,
    "start_time": "2021-12-10T07:50:35.589Z"
   },
   {
    "duration": 4,
    "start_time": "2021-12-10T07:50:39.949Z"
   },
   {
    "duration": 230,
    "start_time": "2021-12-10T07:50:39.959Z"
   },
   {
    "duration": 20,
    "start_time": "2021-12-10T07:50:40.192Z"
   },
   {
    "duration": 55,
    "start_time": "2021-12-10T07:50:40.216Z"
   },
   {
    "duration": 5,
    "start_time": "2021-12-10T07:50:40.274Z"
   },
   {
    "duration": 28,
    "start_time": "2021-12-10T07:50:40.281Z"
   },
   {
    "duration": 5,
    "start_time": "2021-12-10T07:50:40.311Z"
   },
   {
    "duration": 60,
    "start_time": "2021-12-10T07:50:40.318Z"
   },
   {
    "duration": 44,
    "start_time": "2021-12-10T07:50:40.380Z"
   },
   {
    "duration": 50,
    "start_time": "2021-12-10T07:50:40.428Z"
   },
   {
    "duration": 95,
    "start_time": "2021-12-10T07:50:40.481Z"
   },
   {
    "duration": 110,
    "start_time": "2021-12-10T07:50:40.578Z"
   },
   {
    "duration": 85,
    "start_time": "2021-12-10T07:50:40.691Z"
   },
   {
    "duration": 8,
    "start_time": "2021-12-10T07:50:40.779Z"
   },
   {
    "duration": 5,
    "start_time": "2021-12-10T07:50:40.789Z"
   },
   {
    "duration": 19,
    "start_time": "2021-12-10T07:50:40.797Z"
   },
   {
    "duration": 8,
    "start_time": "2021-12-10T07:50:40.818Z"
   },
   {
    "duration": 15,
    "start_time": "2021-12-10T07:50:40.860Z"
   },
   {
    "duration": 14,
    "start_time": "2021-12-10T07:50:40.877Z"
   },
   {
    "duration": 4,
    "start_time": "2021-12-10T07:50:40.893Z"
   },
   {
    "duration": 25,
    "start_time": "2021-12-10T07:50:40.899Z"
   },
   {
    "duration": 18,
    "start_time": "2021-12-10T07:50:40.959Z"
   },
   {
    "duration": 21,
    "start_time": "2021-12-10T07:50:40.979Z"
   },
   {
    "duration": 19,
    "start_time": "2021-12-10T07:50:41.003Z"
   },
   {
    "duration": 21,
    "start_time": "2021-12-10T07:50:41.059Z"
   },
   {
    "duration": 18,
    "start_time": "2021-12-10T07:50:41.082Z"
   },
   {
    "duration": 11,
    "start_time": "2021-12-10T07:50:41.103Z"
   },
   {
    "duration": 43,
    "start_time": "2021-12-10T07:50:41.119Z"
   },
   {
    "duration": 16,
    "start_time": "2021-12-10T07:50:41.165Z"
   },
   {
    "duration": 5,
    "start_time": "2021-12-10T07:50:41.184Z"
   },
   {
    "duration": 805,
    "start_time": "2021-12-10T07:50:41.192Z"
   },
   {
    "duration": -222,
    "start_time": "2021-12-10T07:50:42.221Z"
   },
   {
    "duration": -227,
    "start_time": "2021-12-10T07:50:42.228Z"
   },
   {
    "duration": -229,
    "start_time": "2021-12-10T07:50:42.231Z"
   },
   {
    "duration": -230,
    "start_time": "2021-12-10T07:50:42.234Z"
   },
   {
    "duration": -235,
    "start_time": "2021-12-10T07:50:42.240Z"
   },
   {
    "duration": -236,
    "start_time": "2021-12-10T07:50:42.243Z"
   },
   {
    "duration": -237,
    "start_time": "2021-12-10T07:50:42.245Z"
   },
   {
    "duration": 4,
    "start_time": "2021-12-10T07:51:48.868Z"
   },
   {
    "duration": 210,
    "start_time": "2021-12-10T07:51:48.875Z"
   },
   {
    "duration": 16,
    "start_time": "2021-12-10T07:51:49.088Z"
   },
   {
    "duration": 57,
    "start_time": "2021-12-10T07:51:49.107Z"
   },
   {
    "duration": 4,
    "start_time": "2021-12-10T07:51:49.167Z"
   },
   {
    "duration": 20,
    "start_time": "2021-12-10T07:51:49.174Z"
   },
   {
    "duration": 5,
    "start_time": "2021-12-10T07:51:49.197Z"
   },
   {
    "duration": 65,
    "start_time": "2021-12-10T07:51:49.208Z"
   },
   {
    "duration": 48,
    "start_time": "2021-12-10T07:51:49.277Z"
   },
   {
    "duration": 53,
    "start_time": "2021-12-10T07:51:49.328Z"
   },
   {
    "duration": 108,
    "start_time": "2021-12-10T07:51:49.384Z"
   },
   {
    "duration": 110,
    "start_time": "2021-12-10T07:51:49.494Z"
   },
   {
    "duration": 96,
    "start_time": "2021-12-10T07:51:49.606Z"
   },
   {
    "duration": 9,
    "start_time": "2021-12-10T07:51:49.704Z"
   },
   {
    "duration": 6,
    "start_time": "2021-12-10T07:51:49.716Z"
   },
   {
    "duration": 41,
    "start_time": "2021-12-10T07:51:49.724Z"
   },
   {
    "duration": 9,
    "start_time": "2021-12-10T07:51:49.767Z"
   },
   {
    "duration": 17,
    "start_time": "2021-12-10T07:51:49.779Z"
   },
   {
    "duration": 14,
    "start_time": "2021-12-10T07:51:49.799Z"
   },
   {
    "duration": 43,
    "start_time": "2021-12-10T07:51:49.816Z"
   },
   {
    "duration": 25,
    "start_time": "2021-12-10T07:51:49.862Z"
   },
   {
    "duration": 19,
    "start_time": "2021-12-10T07:51:49.890Z"
   },
   {
    "duration": 47,
    "start_time": "2021-12-10T07:51:49.914Z"
   },
   {
    "duration": 18,
    "start_time": "2021-12-10T07:51:49.964Z"
   },
   {
    "duration": 35,
    "start_time": "2021-12-10T07:51:49.985Z"
   },
   {
    "duration": 47,
    "start_time": "2021-12-10T07:51:50.022Z"
   },
   {
    "duration": 16,
    "start_time": "2021-12-10T07:51:50.072Z"
   },
   {
    "duration": 18,
    "start_time": "2021-12-10T07:51:50.091Z"
   },
   {
    "duration": 53,
    "start_time": "2021-12-10T07:51:50.112Z"
   },
   {
    "duration": 6,
    "start_time": "2021-12-10T07:51:50.168Z"
   },
   {
    "duration": 778,
    "start_time": "2021-12-10T07:51:50.177Z"
   },
   {
    "duration": -209,
    "start_time": "2021-12-10T07:51:51.166Z"
   },
   {
    "duration": -211,
    "start_time": "2021-12-10T07:51:51.169Z"
   },
   {
    "duration": -214,
    "start_time": "2021-12-10T07:51:51.174Z"
   },
   {
    "duration": -223,
    "start_time": "2021-12-10T07:51:51.184Z"
   },
   {
    "duration": -228,
    "start_time": "2021-12-10T07:51:51.190Z"
   },
   {
    "duration": -244,
    "start_time": "2021-12-10T07:51:51.208Z"
   },
   {
    "duration": -262,
    "start_time": "2021-12-10T07:51:51.227Z"
   },
   {
    "duration": 16,
    "start_time": "2021-12-10T07:52:45.239Z"
   },
   {
    "duration": 15,
    "start_time": "2021-12-10T07:52:46.641Z"
   },
   {
    "duration": 5,
    "start_time": "2021-12-10T07:52:49.918Z"
   },
   {
    "duration": 1128,
    "start_time": "2021-12-10T07:52:51.463Z"
   },
   {
    "duration": 5,
    "start_time": "2021-12-10T07:53:44.758Z"
   },
   {
    "duration": 1217,
    "start_time": "2021-12-10T07:53:46.150Z"
   },
   {
    "duration": 5,
    "start_time": "2021-12-10T07:54:02.305Z"
   },
   {
    "duration": 6,
    "start_time": "2021-12-10T07:54:35.625Z"
   },
   {
    "duration": 23,
    "start_time": "2021-12-10T07:54:37.901Z"
   },
   {
    "duration": 4,
    "start_time": "2021-12-10T07:55:01.933Z"
   },
   {
    "duration": 241,
    "start_time": "2021-12-10T07:55:01.939Z"
   },
   {
    "duration": 17,
    "start_time": "2021-12-10T07:55:02.183Z"
   },
   {
    "duration": 34,
    "start_time": "2021-12-10T07:55:02.203Z"
   },
   {
    "duration": 4,
    "start_time": "2021-12-10T07:55:02.260Z"
   },
   {
    "duration": 28,
    "start_time": "2021-12-10T07:55:02.267Z"
   },
   {
    "duration": 6,
    "start_time": "2021-12-10T07:55:02.297Z"
   },
   {
    "duration": 70,
    "start_time": "2021-12-10T07:55:02.307Z"
   },
   {
    "duration": 47,
    "start_time": "2021-12-10T07:55:02.380Z"
   },
   {
    "duration": 43,
    "start_time": "2021-12-10T07:55:02.429Z"
   },
   {
    "duration": 104,
    "start_time": "2021-12-10T07:55:02.475Z"
   },
   {
    "duration": 104,
    "start_time": "2021-12-10T07:55:02.581Z"
   },
   {
    "duration": 94,
    "start_time": "2021-12-10T07:55:02.687Z"
   },
   {
    "duration": 9,
    "start_time": "2021-12-10T07:55:02.784Z"
   },
   {
    "duration": 4,
    "start_time": "2021-12-10T07:55:02.795Z"
   },
   {
    "duration": 16,
    "start_time": "2021-12-10T07:55:02.801Z"
   },
   {
    "duration": 40,
    "start_time": "2021-12-10T07:55:02.819Z"
   },
   {
    "duration": 16,
    "start_time": "2021-12-10T07:55:02.862Z"
   },
   {
    "duration": 14,
    "start_time": "2021-12-10T07:55:02.880Z"
   },
   {
    "duration": 5,
    "start_time": "2021-12-10T07:55:02.897Z"
   },
   {
    "duration": 71,
    "start_time": "2021-12-10T07:55:02.905Z"
   },
   {
    "duration": 20,
    "start_time": "2021-12-10T07:55:02.979Z"
   },
   {
    "duration": 21,
    "start_time": "2021-12-10T07:55:03.004Z"
   },
   {
    "duration": 48,
    "start_time": "2021-12-10T07:55:03.028Z"
   },
   {
    "duration": 21,
    "start_time": "2021-12-10T07:55:03.079Z"
   },
   {
    "duration": 19,
    "start_time": "2021-12-10T07:55:03.102Z"
   },
   {
    "duration": 45,
    "start_time": "2021-12-10T07:55:03.123Z"
   },
   {
    "duration": 16,
    "start_time": "2021-12-10T07:55:03.170Z"
   },
   {
    "duration": 15,
    "start_time": "2021-12-10T07:55:03.188Z"
   },
   {
    "duration": 5,
    "start_time": "2021-12-10T07:55:03.205Z"
   },
   {
    "duration": 62,
    "start_time": "2021-12-10T07:55:03.212Z"
   },
   {
    "duration": 17,
    "start_time": "2021-12-10T07:55:03.276Z"
   },
   {
    "duration": 23,
    "start_time": "2021-12-10T07:55:03.296Z"
   },
   {
    "duration": 49,
    "start_time": "2021-12-10T07:55:03.322Z"
   },
   {
    "duration": 14,
    "start_time": "2021-12-10T07:55:03.374Z"
   },
   {
    "duration": 8,
    "start_time": "2021-12-10T07:55:03.390Z"
   },
   {
    "duration": 11,
    "start_time": "2021-12-10T07:55:03.401Z"
   },
   {
    "duration": 47,
    "start_time": "2021-12-10T07:55:03.414Z"
   },
   {
    "duration": 410,
    "start_time": "2021-12-10T07:55:44.612Z"
   },
   {
    "duration": 124,
    "start_time": "2021-12-10T07:55:52.204Z"
   },
   {
    "duration": 141,
    "start_time": "2021-12-10T07:55:56.716Z"
   },
   {
    "duration": 8,
    "start_time": "2021-12-10T07:56:00.062Z"
   },
   {
    "duration": 473,
    "start_time": "2021-12-10T07:56:13.989Z"
   },
   {
    "duration": 581,
    "start_time": "2021-12-10T07:56:46.154Z"
   },
   {
    "duration": 402,
    "start_time": "2021-12-10T07:57:06.787Z"
   },
   {
    "duration": 14,
    "start_time": "2021-12-10T07:57:18.443Z"
   },
   {
    "duration": 408,
    "start_time": "2021-12-10T07:58:36.106Z"
   },
   {
    "duration": 163,
    "start_time": "2021-12-10T07:58:54.738Z"
   },
   {
    "duration": 9,
    "start_time": "2021-12-10T07:59:03.580Z"
   },
   {
    "duration": 60,
    "start_time": "2021-12-10T08:00:08.259Z"
   },
   {
    "duration": 30,
    "start_time": "2021-12-10T08:00:13.353Z"
   },
   {
    "duration": 35,
    "start_time": "2021-12-10T08:00:33.040Z"
   },
   {
    "duration": 14,
    "start_time": "2021-12-10T08:00:40.696Z"
   },
   {
    "duration": 35,
    "start_time": "2021-12-10T08:00:42.577Z"
   },
   {
    "duration": 18,
    "start_time": "2021-12-10T08:00:50.616Z"
   },
   {
    "duration": 34,
    "start_time": "2021-12-10T08:00:53.400Z"
   },
   {
    "duration": 39,
    "start_time": "2021-12-10T08:00:58.165Z"
   },
   {
    "duration": 9,
    "start_time": "2021-12-10T08:01:05.744Z"
   },
   {
    "duration": 4,
    "start_time": "2021-12-10T08:01:11.801Z"
   },
   {
    "duration": 215,
    "start_time": "2021-12-10T08:01:11.808Z"
   },
   {
    "duration": 48,
    "start_time": "2021-12-10T08:01:12.026Z"
   },
   {
    "duration": 37,
    "start_time": "2021-12-10T08:01:12.077Z"
   },
   {
    "duration": 5,
    "start_time": "2021-12-10T08:01:12.117Z"
   },
   {
    "duration": 18,
    "start_time": "2021-12-10T08:01:12.159Z"
   },
   {
    "duration": 5,
    "start_time": "2021-12-10T08:01:12.179Z"
   },
   {
    "duration": 43,
    "start_time": "2021-12-10T08:01:12.190Z"
   },
   {
    "duration": 47,
    "start_time": "2021-12-10T08:01:12.259Z"
   },
   {
    "duration": 32,
    "start_time": "2021-12-10T08:01:12.308Z"
   },
   {
    "duration": 84,
    "start_time": "2021-12-10T08:01:12.358Z"
   },
   {
    "duration": 105,
    "start_time": "2021-12-10T08:01:12.460Z"
   },
   {
    "duration": 92,
    "start_time": "2021-12-10T08:01:12.567Z"
   },
   {
    "duration": 9,
    "start_time": "2021-12-10T08:01:12.661Z"
   },
   {
    "duration": 4,
    "start_time": "2021-12-10T08:01:12.673Z"
   },
   {
    "duration": 19,
    "start_time": "2021-12-10T08:01:12.680Z"
   },
   {
    "duration": 77,
    "start_time": "2021-12-10T08:01:12.702Z"
   },
   {
    "duration": 15,
    "start_time": "2021-12-10T08:01:12.781Z"
   },
   {
    "duration": 14,
    "start_time": "2021-12-10T08:01:12.798Z"
   },
   {
    "duration": 4,
    "start_time": "2021-12-10T08:01:12.815Z"
   },
   {
    "duration": 58,
    "start_time": "2021-12-10T08:01:12.822Z"
   },
   {
    "duration": 20,
    "start_time": "2021-12-10T08:01:12.882Z"
   },
   {
    "duration": 20,
    "start_time": "2021-12-10T08:01:12.908Z"
   },
   {
    "duration": 19,
    "start_time": "2021-12-10T08:01:12.961Z"
   },
   {
    "duration": 23,
    "start_time": "2021-12-10T08:01:12.983Z"
   },
   {
    "duration": 52,
    "start_time": "2021-12-10T08:01:13.009Z"
   },
   {
    "duration": 14,
    "start_time": "2021-12-10T08:01:13.064Z"
   },
   {
    "duration": 25,
    "start_time": "2021-12-10T08:01:13.081Z"
   },
   {
    "duration": 56,
    "start_time": "2021-12-10T08:01:13.108Z"
   },
   {
    "duration": 6,
    "start_time": "2021-12-10T08:01:13.167Z"
   },
   {
    "duration": 32,
    "start_time": "2021-12-10T08:01:13.177Z"
   },
   {
    "duration": 52,
    "start_time": "2021-12-10T08:01:13.212Z"
   },
   {
    "duration": 26,
    "start_time": "2021-12-10T08:01:13.267Z"
   },
   {
    "duration": 18,
    "start_time": "2021-12-10T08:01:13.295Z"
   },
   {
    "duration": 44,
    "start_time": "2021-12-10T08:01:13.315Z"
   },
   {
    "duration": 6,
    "start_time": "2021-12-10T08:01:13.362Z"
   },
   {
    "duration": 14,
    "start_time": "2021-12-10T08:01:13.370Z"
   },
   {
    "duration": 7,
    "start_time": "2021-12-10T08:01:13.386Z"
   },
   {
    "duration": 3,
    "start_time": "2021-12-10T08:05:36.289Z"
   },
   {
    "duration": 188,
    "start_time": "2021-12-10T08:05:36.294Z"
   },
   {
    "duration": 16,
    "start_time": "2021-12-10T08:05:36.485Z"
   },
   {
    "duration": 55,
    "start_time": "2021-12-10T08:05:36.504Z"
   },
   {
    "duration": 5,
    "start_time": "2021-12-10T08:05:36.561Z"
   },
   {
    "duration": 25,
    "start_time": "2021-12-10T08:05:36.568Z"
   },
   {
    "duration": 4,
    "start_time": "2021-12-10T08:05:36.596Z"
   },
   {
    "duration": 67,
    "start_time": "2021-12-10T08:05:36.603Z"
   },
   {
    "duration": 47,
    "start_time": "2021-12-10T08:05:36.672Z"
   },
   {
    "duration": 49,
    "start_time": "2021-12-10T08:05:36.722Z"
   },
   {
    "duration": 100,
    "start_time": "2021-12-10T08:05:36.774Z"
   },
   {
    "duration": 108,
    "start_time": "2021-12-10T08:05:36.876Z"
   },
   {
    "duration": 92,
    "start_time": "2021-12-10T08:05:36.987Z"
   },
   {
    "duration": 9,
    "start_time": "2021-12-10T08:05:37.081Z"
   },
   {
    "duration": 4,
    "start_time": "2021-12-10T08:05:37.093Z"
   },
   {
    "duration": 19,
    "start_time": "2021-12-10T08:05:37.099Z"
   },
   {
    "duration": 40,
    "start_time": "2021-12-10T08:05:37.120Z"
   },
   {
    "duration": 14,
    "start_time": "2021-12-10T08:05:37.162Z"
   },
   {
    "duration": 15,
    "start_time": "2021-12-10T08:05:37.183Z"
   },
   {
    "duration": 5,
    "start_time": "2021-12-10T08:05:37.201Z"
   },
   {
    "duration": 62,
    "start_time": "2021-12-10T08:05:37.209Z"
   },
   {
    "duration": 19,
    "start_time": "2021-12-10T08:05:37.273Z"
   },
   {
    "duration": 19,
    "start_time": "2021-12-10T08:05:37.294Z"
   },
   {
    "duration": 47,
    "start_time": "2021-12-10T08:05:37.316Z"
   },
   {
    "duration": 20,
    "start_time": "2021-12-10T08:05:37.365Z"
   },
   {
    "duration": 17,
    "start_time": "2021-12-10T08:05:37.388Z"
   },
   {
    "duration": 12,
    "start_time": "2021-12-10T08:05:37.408Z"
   },
   {
    "duration": 56,
    "start_time": "2021-12-10T08:05:37.422Z"
   },
   {
    "duration": 17,
    "start_time": "2021-12-10T08:05:37.480Z"
   },
   {
    "duration": 5,
    "start_time": "2021-12-10T08:05:37.500Z"
   },
   {
    "duration": 60,
    "start_time": "2021-12-10T08:05:37.507Z"
   },
   {
    "duration": 18,
    "start_time": "2021-12-10T08:05:37.569Z"
   },
   {
    "duration": 25,
    "start_time": "2021-12-10T08:05:37.590Z"
   },
   {
    "duration": 48,
    "start_time": "2021-12-10T08:05:37.617Z"
   },
   {
    "duration": 10,
    "start_time": "2021-12-10T08:05:37.667Z"
   },
   {
    "duration": 6,
    "start_time": "2021-12-10T08:05:37.680Z"
   },
   {
    "duration": 8,
    "start_time": "2021-12-10T08:05:37.689Z"
   },
   {
    "duration": 6,
    "start_time": "2021-12-10T08:05:37.700Z"
   },
   {
    "duration": 25,
    "start_time": "2021-12-10T08:19:41.270Z"
   },
   {
    "duration": 631,
    "start_time": "2021-12-10T18:34:34.165Z"
   },
   {
    "duration": 133,
    "start_time": "2021-12-10T18:34:34.798Z"
   },
   {
    "duration": 17,
    "start_time": "2021-12-10T18:34:34.934Z"
   },
   {
    "duration": 38,
    "start_time": "2021-12-10T18:34:34.954Z"
   },
   {
    "duration": 3,
    "start_time": "2021-12-10T18:34:34.994Z"
   },
   {
    "duration": 27,
    "start_time": "2021-12-10T18:34:34.999Z"
   },
   {
    "duration": 3,
    "start_time": "2021-12-10T18:34:35.028Z"
   },
   {
    "duration": 23,
    "start_time": "2021-12-10T18:34:35.033Z"
   },
   {
    "duration": 56,
    "start_time": "2021-12-10T18:34:35.059Z"
   },
   {
    "duration": 22,
    "start_time": "2021-12-10T18:34:35.117Z"
   },
   {
    "duration": 81,
    "start_time": "2021-12-10T18:34:35.141Z"
   },
   {
    "duration": 81,
    "start_time": "2021-12-10T18:34:35.224Z"
   },
   {
    "duration": 56,
    "start_time": "2021-12-10T18:34:35.306Z"
   },
   {
    "duration": 28,
    "start_time": "2021-12-10T18:34:35.364Z"
   },
   {
    "duration": 3,
    "start_time": "2021-12-10T18:34:35.394Z"
   },
   {
    "duration": 16,
    "start_time": "2021-12-10T18:34:35.399Z"
   },
   {
    "duration": 5,
    "start_time": "2021-12-10T18:34:35.417Z"
   },
   {
    "duration": 12,
    "start_time": "2021-12-10T18:34:35.423Z"
   },
   {
    "duration": 9,
    "start_time": "2021-12-10T18:34:35.437Z"
   },
   {
    "duration": 3,
    "start_time": "2021-12-10T18:34:35.447Z"
   },
   {
    "duration": 48,
    "start_time": "2021-12-10T18:34:35.452Z"
   },
   {
    "duration": 13,
    "start_time": "2021-12-10T18:34:35.501Z"
   },
   {
    "duration": 15,
    "start_time": "2021-12-10T18:34:35.516Z"
   },
   {
    "duration": 13,
    "start_time": "2021-12-10T18:34:35.533Z"
   },
   {
    "duration": 16,
    "start_time": "2021-12-10T18:34:35.547Z"
   },
   {
    "duration": 39,
    "start_time": "2021-12-10T18:34:35.564Z"
   },
   {
    "duration": 8,
    "start_time": "2021-12-10T18:34:35.606Z"
   },
   {
    "duration": 12,
    "start_time": "2021-12-10T18:34:35.616Z"
   },
   {
    "duration": 9,
    "start_time": "2021-12-10T18:34:35.629Z"
   },
   {
    "duration": 3,
    "start_time": "2021-12-10T18:34:35.640Z"
   },
   {
    "duration": 48,
    "start_time": "2021-12-10T18:34:35.645Z"
   },
   {
    "duration": 12,
    "start_time": "2021-12-10T18:34:35.695Z"
   },
   {
    "duration": 15,
    "start_time": "2021-12-10T18:34:35.709Z"
   },
   {
    "duration": 11,
    "start_time": "2021-12-10T18:34:35.726Z"
   },
   {
    "duration": 8,
    "start_time": "2021-12-10T18:34:35.738Z"
   },
   {
    "duration": 6,
    "start_time": "2021-12-10T18:34:35.747Z"
   },
   {
    "duration": 17,
    "start_time": "2021-12-10T18:34:35.754Z"
   },
   {
    "duration": 5,
    "start_time": "2021-12-10T18:34:35.791Z"
   },
   {
    "duration": 372,
    "start_time": "2021-12-10T21:21:21.573Z"
   },
   {
    "duration": 841,
    "start_time": "2021-12-10T21:21:26.970Z"
   },
   {
    "duration": 183,
    "start_time": "2021-12-10T21:21:27.813Z"
   },
   {
    "duration": 29,
    "start_time": "2021-12-10T21:21:27.999Z"
   },
   {
    "duration": 32,
    "start_time": "2021-12-10T21:21:28.031Z"
   },
   {
    "duration": 5,
    "start_time": "2021-12-10T21:21:28.065Z"
   },
   {
    "duration": 60,
    "start_time": "2021-12-10T21:21:28.072Z"
   },
   {
    "duration": 8,
    "start_time": "2021-12-10T21:21:28.134Z"
   },
   {
    "duration": 32,
    "start_time": "2021-12-10T21:21:28.144Z"
   },
   {
    "duration": 65,
    "start_time": "2021-12-10T21:21:28.179Z"
   },
   {
    "duration": 29,
    "start_time": "2021-12-10T21:21:28.247Z"
   },
   {
    "duration": 106,
    "start_time": "2021-12-10T21:21:28.278Z"
   },
   {
    "duration": 116,
    "start_time": "2021-12-10T21:21:28.387Z"
   },
   {
    "duration": 85,
    "start_time": "2021-12-10T21:21:28.506Z"
   },
   {
    "duration": 22,
    "start_time": "2021-12-10T21:21:28.594Z"
   },
   {
    "duration": 4,
    "start_time": "2021-12-10T21:21:28.619Z"
   },
   {
    "duration": 19,
    "start_time": "2021-12-10T21:21:28.626Z"
   },
   {
    "duration": 16,
    "start_time": "2021-12-10T21:21:28.648Z"
   },
   {
    "duration": 17,
    "start_time": "2021-12-10T21:21:28.666Z"
   },
   {
    "duration": 43,
    "start_time": "2021-12-10T21:21:28.685Z"
   },
   {
    "duration": 4,
    "start_time": "2021-12-10T21:21:28.730Z"
   },
   {
    "duration": 26,
    "start_time": "2021-12-10T21:21:28.737Z"
   },
   {
    "duration": 18,
    "start_time": "2021-12-10T21:21:28.765Z"
   },
   {
    "duration": 20,
    "start_time": "2021-12-10T21:21:28.818Z"
   },
   {
    "duration": 17,
    "start_time": "2021-12-10T21:21:28.840Z"
   },
   {
    "duration": 20,
    "start_time": "2021-12-10T21:21:28.859Z"
   },
   {
    "duration": 47,
    "start_time": "2021-12-10T21:21:28.881Z"
   },
   {
    "duration": 12,
    "start_time": "2021-12-10T21:21:28.932Z"
   },
   {
    "duration": 14,
    "start_time": "2021-12-10T21:21:28.947Z"
   },
   {
    "duration": 11,
    "start_time": "2021-12-10T21:21:28.964Z"
   },
   {
    "duration": 42,
    "start_time": "2021-12-10T21:21:28.978Z"
   },
   {
    "duration": 32,
    "start_time": "2021-12-10T21:21:29.022Z"
   },
   {
    "duration": 18,
    "start_time": "2021-12-10T21:21:29.056Z"
   },
   {
    "duration": 51,
    "start_time": "2021-12-10T21:21:29.076Z"
   },
   {
    "duration": 18,
    "start_time": "2021-12-10T21:21:29.129Z"
   },
   {
    "duration": 11,
    "start_time": "2021-12-10T21:21:29.150Z"
   },
   {
    "duration": 7,
    "start_time": "2021-12-10T21:21:29.164Z"
   },
   {
    "duration": 45,
    "start_time": "2021-12-10T21:21:29.173Z"
   },
   {
    "duration": 7,
    "start_time": "2021-12-10T21:21:29.221Z"
   },
   {
    "duration": 332,
    "start_time": "2021-12-10T21:24:57.293Z"
   },
   {
    "duration": 32,
    "start_time": "2021-12-10T21:27:14.310Z"
   },
   {
    "duration": 92,
    "start_time": "2021-12-10T21:29:36.707Z"
   },
   {
    "duration": 6,
    "start_time": "2021-12-10T21:30:30.675Z"
   },
   {
    "duration": 302,
    "start_time": "2021-12-10T21:31:10.643Z"
   },
   {
    "duration": 8,
    "start_time": "2021-12-10T21:33:28.423Z"
   },
   {
    "duration": 8,
    "start_time": "2021-12-10T21:33:51.235Z"
   },
   {
    "duration": 6,
    "start_time": "2021-12-10T21:34:21.968Z"
   },
   {
    "duration": 53,
    "start_time": "2021-12-10T21:34:44.702Z"
   },
   {
    "duration": 56,
    "start_time": "2021-12-10T21:35:06.918Z"
   },
   {
    "duration": 57,
    "start_time": "2021-12-10T21:35:28.155Z"
   },
   {
    "duration": 3,
    "start_time": "2021-12-10T21:36:19.740Z"
   },
   {
    "duration": 216,
    "start_time": "2021-12-10T21:36:19.747Z"
   },
   {
    "duration": 16,
    "start_time": "2021-12-10T21:36:19.967Z"
   },
   {
    "duration": 58,
    "start_time": "2021-12-10T21:36:19.986Z"
   },
   {
    "duration": 9,
    "start_time": "2021-12-10T21:36:20.047Z"
   },
   {
    "duration": 34,
    "start_time": "2021-12-10T21:36:20.058Z"
   },
   {
    "duration": 4,
    "start_time": "2021-12-10T21:36:20.094Z"
   },
   {
    "duration": 29,
    "start_time": "2021-12-10T21:36:20.117Z"
   },
   {
    "duration": 66,
    "start_time": "2021-12-10T21:36:20.151Z"
   },
   {
    "duration": 30,
    "start_time": "2021-12-10T21:36:20.221Z"
   },
   {
    "duration": 116,
    "start_time": "2021-12-10T21:36:20.253Z"
   },
   {
    "duration": 114,
    "start_time": "2021-12-10T21:36:20.372Z"
   },
   {
    "duration": 94,
    "start_time": "2021-12-10T21:36:20.488Z"
   },
   {
    "duration": 70,
    "start_time": "2021-12-10T21:36:20.585Z"
   },
   {
    "duration": 4,
    "start_time": "2021-12-10T21:36:20.657Z"
   },
   {
    "duration": 19,
    "start_time": "2021-12-10T21:36:20.664Z"
   },
   {
    "duration": 32,
    "start_time": "2021-12-10T21:36:20.686Z"
   },
   {
    "duration": 18,
    "start_time": "2021-12-10T21:36:20.722Z"
   },
   {
    "duration": 19,
    "start_time": "2021-12-10T21:36:20.743Z"
   },
   {
    "duration": 6,
    "start_time": "2021-12-10T21:36:20.765Z"
   },
   {
    "duration": 57,
    "start_time": "2021-12-10T21:36:20.774Z"
   },
   {
    "duration": 18,
    "start_time": "2021-12-10T21:36:20.833Z"
   },
   {
    "duration": 20,
    "start_time": "2021-12-10T21:36:20.853Z"
   },
   {
    "duration": 49,
    "start_time": "2021-12-10T21:36:20.875Z"
   },
   {
    "duration": 21,
    "start_time": "2021-12-10T21:36:20.926Z"
   },
   {
    "duration": 18,
    "start_time": "2021-12-10T21:36:20.950Z"
   },
   {
    "duration": 46,
    "start_time": "2021-12-10T21:36:20.972Z"
   },
   {
    "duration": 20,
    "start_time": "2021-12-10T21:36:21.021Z"
   },
   {
    "duration": 19,
    "start_time": "2021-12-10T21:36:21.043Z"
   },
   {
    "duration": 6,
    "start_time": "2021-12-10T21:36:21.064Z"
   },
   {
    "duration": 59,
    "start_time": "2021-12-10T21:36:21.072Z"
   },
   {
    "duration": 19,
    "start_time": "2021-12-10T21:36:21.134Z"
   },
   {
    "duration": 26,
    "start_time": "2021-12-10T21:36:21.156Z"
   },
   {
    "duration": 19,
    "start_time": "2021-12-10T21:36:21.216Z"
   },
   {
    "duration": 10,
    "start_time": "2021-12-10T21:36:21.237Z"
   },
   {
    "duration": 6,
    "start_time": "2021-12-10T21:36:21.249Z"
   },
   {
    "duration": 15,
    "start_time": "2021-12-10T21:36:21.257Z"
   },
   {
    "duration": 42,
    "start_time": "2021-12-10T21:36:21.274Z"
   },
   {
    "duration": 109,
    "start_time": "2021-12-10T21:37:53.236Z"
   },
   {
    "duration": 55,
    "start_time": "2021-12-10T21:37:59.298Z"
   },
   {
    "duration": 3,
    "start_time": "2021-12-10T21:38:21.301Z"
   },
   {
    "duration": 217,
    "start_time": "2021-12-10T21:38:21.307Z"
   },
   {
    "duration": 15,
    "start_time": "2021-12-10T21:38:21.527Z"
   },
   {
    "duration": 36,
    "start_time": "2021-12-10T21:38:21.545Z"
   },
   {
    "duration": 5,
    "start_time": "2021-12-10T21:38:21.583Z"
   },
   {
    "duration": 21,
    "start_time": "2021-12-10T21:38:21.618Z"
   },
   {
    "duration": 4,
    "start_time": "2021-12-10T21:38:21.641Z"
   },
   {
    "duration": 31,
    "start_time": "2021-12-10T21:38:21.648Z"
   },
   {
    "duration": 71,
    "start_time": "2021-12-10T21:38:21.683Z"
   },
   {
    "duration": 29,
    "start_time": "2021-12-10T21:38:21.757Z"
   },
   {
    "duration": 106,
    "start_time": "2021-12-10T21:38:21.788Z"
   },
   {
    "duration": 113,
    "start_time": "2021-12-10T21:38:21.896Z"
   },
   {
    "duration": 92,
    "start_time": "2021-12-10T21:38:22.012Z"
   },
   {
    "duration": 56,
    "start_time": "2021-12-10T21:38:22.118Z"
   },
   {
    "duration": 4,
    "start_time": "2021-12-10T21:38:22.176Z"
   },
   {
    "duration": 46,
    "start_time": "2021-12-10T21:38:22.182Z"
   },
   {
    "duration": 9,
    "start_time": "2021-12-10T21:38:22.231Z"
   },
   {
    "duration": 17,
    "start_time": "2021-12-10T21:38:22.242Z"
   },
   {
    "duration": 13,
    "start_time": "2021-12-10T21:38:22.261Z"
   },
   {
    "duration": 4,
    "start_time": "2021-12-10T21:38:22.277Z"
   },
   {
    "duration": 50,
    "start_time": "2021-12-10T21:38:22.283Z"
   },
   {
    "duration": 19,
    "start_time": "2021-12-10T21:38:22.335Z"
   },
   {
    "duration": 19,
    "start_time": "2021-12-10T21:38:22.357Z"
   },
   {
    "duration": 55,
    "start_time": "2021-12-10T21:38:22.378Z"
   },
   {
    "duration": 22,
    "start_time": "2021-12-10T21:38:22.435Z"
   },
   {
    "duration": 20,
    "start_time": "2021-12-10T21:38:22.459Z"
   },
   {
    "duration": 13,
    "start_time": "2021-12-10T21:38:22.520Z"
   },
   {
    "duration": 22,
    "start_time": "2021-12-10T21:38:22.535Z"
   },
   {
    "duration": 17,
    "start_time": "2021-12-10T21:38:22.559Z"
   },
   {
    "duration": 5,
    "start_time": "2021-12-10T21:38:22.578Z"
   },
   {
    "duration": 25,
    "start_time": "2021-12-10T21:38:22.618Z"
   },
   {
    "duration": 19,
    "start_time": "2021-12-10T21:38:22.645Z"
   },
   {
    "duration": 52,
    "start_time": "2021-12-10T21:38:22.667Z"
   },
   {
    "duration": 18,
    "start_time": "2021-12-10T21:38:22.722Z"
   },
   {
    "duration": 11,
    "start_time": "2021-12-10T21:38:22.742Z"
   },
   {
    "duration": 6,
    "start_time": "2021-12-10T21:38:22.756Z"
   },
   {
    "duration": 11,
    "start_time": "2021-12-10T21:38:22.764Z"
   },
   {
    "duration": 6,
    "start_time": "2021-12-10T21:38:22.817Z"
   },
   {
    "duration": 57,
    "start_time": "2021-12-10T21:40:17.886Z"
   },
   {
    "duration": 3,
    "start_time": "2021-12-10T21:46:40.986Z"
   },
   {
    "duration": 223,
    "start_time": "2021-12-10T21:46:40.992Z"
   },
   {
    "duration": 16,
    "start_time": "2021-12-10T21:46:41.218Z"
   },
   {
    "duration": 33,
    "start_time": "2021-12-10T21:46:41.237Z"
   },
   {
    "duration": 5,
    "start_time": "2021-12-10T21:46:41.273Z"
   },
   {
    "duration": 27,
    "start_time": "2021-12-10T21:46:41.317Z"
   },
   {
    "duration": 5,
    "start_time": "2021-12-10T21:46:41.347Z"
   },
   {
    "duration": 31,
    "start_time": "2021-12-10T21:46:41.354Z"
   },
   {
    "duration": 45,
    "start_time": "2021-12-10T21:46:41.417Z"
   },
   {
    "duration": 35,
    "start_time": "2021-12-10T21:46:41.465Z"
   },
   {
    "duration": 96,
    "start_time": "2021-12-10T21:46:41.503Z"
   },
   {
    "duration": 125,
    "start_time": "2021-12-10T21:46:41.601Z"
   },
   {
    "duration": 94,
    "start_time": "2021-12-10T21:46:41.729Z"
   },
   {
    "duration": 57,
    "start_time": "2021-12-10T21:46:41.826Z"
   },
   {
    "duration": 4,
    "start_time": "2021-12-10T21:46:41.885Z"
   },
   {
    "duration": 39,
    "start_time": "2021-12-10T21:46:41.891Z"
   },
   {
    "duration": 55,
    "start_time": "2021-12-10T21:46:41.932Z"
   },
   {
    "duration": 34,
    "start_time": "2021-12-10T21:46:41.990Z"
   },
   {
    "duration": 14,
    "start_time": "2021-12-10T21:46:42.027Z"
   },
   {
    "duration": 4,
    "start_time": "2021-12-10T21:46:42.043Z"
   },
   {
    "duration": 37,
    "start_time": "2021-12-10T21:46:42.050Z"
   },
   {
    "duration": 44,
    "start_time": "2021-12-10T21:46:42.089Z"
   },
   {
    "duration": 36,
    "start_time": "2021-12-10T21:46:42.135Z"
   },
   {
    "duration": 24,
    "start_time": "2021-12-10T21:46:42.173Z"
   },
   {
    "duration": 31,
    "start_time": "2021-12-10T21:46:42.200Z"
   },
   {
    "duration": 19,
    "start_time": "2021-12-10T21:46:42.233Z"
   },
   {
    "duration": 12,
    "start_time": "2021-12-10T21:46:42.257Z"
   },
   {
    "duration": 52,
    "start_time": "2021-12-10T21:46:42.271Z"
   },
   {
    "duration": 22,
    "start_time": "2021-12-10T21:46:42.325Z"
   },
   {
    "duration": 5,
    "start_time": "2021-12-10T21:46:42.349Z"
   },
   {
    "duration": 39,
    "start_time": "2021-12-10T21:46:42.356Z"
   },
   {
    "duration": 28,
    "start_time": "2021-12-10T21:46:42.397Z"
   },
   {
    "duration": 26,
    "start_time": "2021-12-10T21:46:42.427Z"
   },
   {
    "duration": 18,
    "start_time": "2021-12-10T21:46:42.455Z"
   },
   {
    "duration": 44,
    "start_time": "2021-12-10T21:46:42.475Z"
   },
   {
    "duration": 7,
    "start_time": "2021-12-10T21:46:42.521Z"
   },
   {
    "duration": 11,
    "start_time": "2021-12-10T21:46:42.530Z"
   },
   {
    "duration": 7,
    "start_time": "2021-12-10T21:46:42.543Z"
   },
   {
    "duration": 798,
    "start_time": "2021-12-11T05:23:54.440Z"
   },
   {
    "duration": 187,
    "start_time": "2021-12-11T05:23:55.241Z"
   },
   {
    "duration": 24,
    "start_time": "2021-12-11T05:23:55.431Z"
   },
   {
    "duration": 32,
    "start_time": "2021-12-11T05:23:55.458Z"
   },
   {
    "duration": 25,
    "start_time": "2021-12-11T05:23:55.493Z"
   },
   {
    "duration": 28,
    "start_time": "2021-12-11T05:23:55.521Z"
   },
   {
    "duration": 6,
    "start_time": "2021-12-11T05:23:55.551Z"
   },
   {
    "duration": 59,
    "start_time": "2021-12-11T05:23:55.561Z"
   },
   {
    "duration": 40,
    "start_time": "2021-12-11T05:23:55.623Z"
   },
   {
    "duration": 28,
    "start_time": "2021-12-11T05:23:55.665Z"
   },
   {
    "duration": 86,
    "start_time": "2021-12-11T05:23:55.718Z"
   },
   {
    "duration": 108,
    "start_time": "2021-12-11T05:23:55.817Z"
   },
   {
    "duration": 89,
    "start_time": "2021-12-11T05:23:55.928Z"
   },
   {
    "duration": 56,
    "start_time": "2021-12-11T05:23:56.019Z"
   },
   {
    "duration": 4,
    "start_time": "2021-12-11T05:23:56.077Z"
   },
   {
    "duration": 39,
    "start_time": "2021-12-11T05:23:56.083Z"
   },
   {
    "duration": 59,
    "start_time": "2021-12-11T05:23:56.124Z"
   },
   {
    "duration": 32,
    "start_time": "2021-12-11T05:23:56.186Z"
   },
   {
    "duration": 13,
    "start_time": "2021-12-11T05:23:56.220Z"
   },
   {
    "duration": 5,
    "start_time": "2021-12-11T05:23:56.236Z"
   },
   {
    "duration": 27,
    "start_time": "2021-12-11T05:23:56.243Z"
   },
   {
    "duration": 47,
    "start_time": "2021-12-11T05:23:56.272Z"
   },
   {
    "duration": 19,
    "start_time": "2021-12-11T05:23:56.324Z"
   },
   {
    "duration": 19,
    "start_time": "2021-12-11T05:23:56.346Z"
   },
   {
    "duration": 55,
    "start_time": "2021-12-11T05:23:56.367Z"
   },
   {
    "duration": 18,
    "start_time": "2021-12-11T05:23:56.424Z"
   },
   {
    "duration": 11,
    "start_time": "2021-12-11T05:23:56.444Z"
   },
   {
    "duration": 15,
    "start_time": "2021-12-11T05:23:56.458Z"
   },
   {
    "duration": 46,
    "start_time": "2021-12-11T05:23:56.476Z"
   },
   {
    "duration": 5,
    "start_time": "2021-12-11T05:23:56.525Z"
   },
   {
    "duration": 30,
    "start_time": "2021-12-11T05:23:56.532Z"
   },
   {
    "duration": 17,
    "start_time": "2021-12-11T05:23:56.564Z"
   },
   {
    "duration": 53,
    "start_time": "2021-12-11T05:23:56.583Z"
   },
   {
    "duration": 17,
    "start_time": "2021-12-11T05:23:56.639Z"
   },
   {
    "duration": 11,
    "start_time": "2021-12-11T05:23:56.658Z"
   },
   {
    "duration": 6,
    "start_time": "2021-12-11T05:23:56.671Z"
   },
   {
    "duration": 7,
    "start_time": "2021-12-11T05:23:56.718Z"
   },
   {
    "duration": 6,
    "start_time": "2021-12-11T05:23:56.728Z"
   },
   {
    "duration": 400,
    "start_time": "2023-03-07T10:53:19.073Z"
   },
   {
    "duration": 3,
    "start_time": "2023-03-07T10:56:40.616Z"
   },
   {
    "duration": 501,
    "start_time": "2023-03-07T10:56:41.262Z"
   },
   {
    "duration": 19,
    "start_time": "2023-03-07T10:56:41.861Z"
   },
   {
    "duration": 37,
    "start_time": "2023-03-07T10:57:02.135Z"
   },
   {
    "duration": 3,
    "start_time": "2023-03-07T11:00:05.684Z"
   },
   {
    "duration": 10,
    "start_time": "2023-03-07T11:01:28.790Z"
   },
   {
    "duration": 4,
    "start_time": "2023-03-07T11:01:55.895Z"
   },
   {
    "duration": 22,
    "start_time": "2023-03-07T11:03:13.692Z"
   },
   {
    "duration": 20,
    "start_time": "2023-03-07T11:03:21.688Z"
   },
   {
    "duration": 33,
    "start_time": "2023-03-07T11:04:39.798Z"
   },
   {
    "duration": 21,
    "start_time": "2023-03-07T11:05:21.155Z"
   },
   {
    "duration": 80,
    "start_time": "2023-03-07T11:06:41.167Z"
   },
   {
    "duration": 83,
    "start_time": "2023-03-07T11:07:42.225Z"
   },
   {
    "duration": 69,
    "start_time": "2023-03-07T11:08:28.693Z"
   },
   {
    "duration": 33,
    "start_time": "2023-03-07T11:10:03.679Z"
   },
   {
    "duration": 3,
    "start_time": "2023-03-07T11:13:58.379Z"
   },
   {
    "duration": 10,
    "start_time": "2023-03-07T11:15:02.946Z"
   },
   {
    "duration": 31,
    "start_time": "2023-03-07T11:15:52.917Z"
   },
   {
    "duration": 10,
    "start_time": "2023-03-07T11:18:05.877Z"
   },
   {
    "duration": 12,
    "start_time": "2023-03-07T11:18:40.544Z"
   },
   {
    "duration": 4,
    "start_time": "2023-03-07T11:21:00.965Z"
   },
   {
    "duration": 15,
    "start_time": "2023-03-07T11:22:10.079Z"
   },
   {
    "duration": 15,
    "start_time": "2023-03-07T11:22:12.853Z"
   },
   {
    "duration": 14,
    "start_time": "2023-03-07T11:22:13.319Z"
   },
   {
    "duration": 14,
    "start_time": "2023-03-07T11:22:13.767Z"
   },
   {
    "duration": 13,
    "start_time": "2023-03-07T11:22:14.393Z"
   },
   {
    "duration": 15,
    "start_time": "2023-03-07T11:22:15.057Z"
   },
   {
    "duration": 13,
    "start_time": "2023-03-07T11:22:15.718Z"
   },
   {
    "duration": 11,
    "start_time": "2023-03-07T11:22:28.076Z"
   },
   {
    "duration": 9,
    "start_time": "2023-03-07T11:22:40.606Z"
   },
   {
    "duration": 4,
    "start_time": "2023-03-07T11:23:24.415Z"
   },
   {
    "duration": 58,
    "start_time": "2023-03-07T11:23:36.589Z"
   },
   {
    "duration": 4,
    "start_time": "2023-03-07T11:23:38.992Z"
   },
   {
    "duration": 7,
    "start_time": "2023-03-07T11:23:40.374Z"
   },
   {
    "duration": 11,
    "start_time": "2023-03-07T11:23:43.395Z"
   },
   {
    "duration": 10,
    "start_time": "2023-03-07T11:23:43.842Z"
   },
   {
    "duration": 15,
    "start_time": "2023-03-07T11:23:45.880Z"
   },
   {
    "duration": 12,
    "start_time": "2023-03-07T11:23:51.401Z"
   },
   {
    "duration": 14,
    "start_time": "2023-03-07T11:24:10.568Z"
   },
   {
    "duration": 7,
    "start_time": "2023-03-07T11:24:45.856Z"
   },
   {
    "duration": 9,
    "start_time": "2023-03-07T11:24:50.022Z"
   },
   {
    "duration": 5,
    "start_time": "2023-03-07T11:24:50.803Z"
   },
   {
    "duration": 6,
    "start_time": "2023-03-07T11:24:54.263Z"
   },
   {
    "duration": 5,
    "start_time": "2023-03-07T11:25:00.484Z"
   },
   {
    "duration": 371,
    "start_time": "2023-03-07T11:25:28.075Z"
   },
   {
    "duration": 163,
    "start_time": "2023-03-07T11:25:28.449Z"
   },
   {
    "duration": 16,
    "start_time": "2023-03-07T11:25:28.614Z"
   },
   {
    "duration": 33,
    "start_time": "2023-03-07T11:25:28.632Z"
   },
   {
    "duration": 3,
    "start_time": "2023-03-07T11:25:28.667Z"
   },
   {
    "duration": 16,
    "start_time": "2023-03-07T11:25:28.672Z"
   },
   {
    "duration": 6,
    "start_time": "2023-03-07T11:25:28.689Z"
   },
   {
    "duration": 24,
    "start_time": "2023-03-07T11:25:28.697Z"
   },
   {
    "duration": 34,
    "start_time": "2023-03-07T11:25:28.741Z"
   },
   {
    "duration": 22,
    "start_time": "2023-03-07T11:25:28.779Z"
   },
   {
    "duration": 81,
    "start_time": "2023-03-07T11:25:28.803Z"
   },
   {
    "duration": 84,
    "start_time": "2023-03-07T11:25:28.886Z"
   },
   {
    "duration": 55,
    "start_time": "2023-03-07T11:25:28.971Z"
   },
   {
    "duration": 49,
    "start_time": "2023-03-07T11:25:29.028Z"
   },
   {
    "duration": 3,
    "start_time": "2023-03-07T11:25:29.079Z"
   },
   {
    "duration": 19,
    "start_time": "2023-03-07T11:25:29.084Z"
   },
   {
    "duration": 46,
    "start_time": "2023-03-07T11:25:29.104Z"
   },
   {
    "duration": 11,
    "start_time": "2023-03-07T11:25:29.151Z"
   },
   {
    "duration": 16,
    "start_time": "2023-03-07T11:25:29.163Z"
   },
   {
    "duration": 7,
    "start_time": "2023-03-07T11:25:29.180Z"
   },
   {
    "duration": 31,
    "start_time": "2023-03-07T11:25:29.188Z"
   },
   {
    "duration": 20,
    "start_time": "2023-03-07T11:25:29.220Z"
   },
   {
    "duration": 30,
    "start_time": "2023-03-07T11:25:29.242Z"
   },
   {
    "duration": 30,
    "start_time": "2023-03-07T11:25:29.274Z"
   },
   {
    "duration": 20,
    "start_time": "2023-03-07T11:25:29.306Z"
   },
   {
    "duration": 28,
    "start_time": "2023-03-07T11:25:29.328Z"
   },
   {
    "duration": 8,
    "start_time": "2023-03-07T11:25:29.357Z"
   },
   {
    "duration": 10,
    "start_time": "2023-03-07T11:25:29.368Z"
   },
   {
    "duration": 8,
    "start_time": "2023-03-07T11:25:29.380Z"
   },
   {
    "duration": 4,
    "start_time": "2023-03-07T11:25:29.389Z"
   },
   {
    "duration": 19,
    "start_time": "2023-03-07T11:25:29.394Z"
   },
   {
    "duration": 32,
    "start_time": "2023-03-07T11:25:29.414Z"
   },
   {
    "duration": 23,
    "start_time": "2023-03-07T11:25:29.448Z"
   },
   {
    "duration": 12,
    "start_time": "2023-03-07T11:25:29.472Z"
   },
   {
    "duration": 8,
    "start_time": "2023-03-07T11:25:29.485Z"
   },
   {
    "duration": 4,
    "start_time": "2023-03-07T11:25:29.494Z"
   },
   {
    "duration": 7,
    "start_time": "2023-03-07T11:25:29.500Z"
   },
   {
    "duration": 9,
    "start_time": "2023-03-07T11:25:29.508Z"
   }
  ],
  "colab": {
   "collapsed_sections": [
    "E0vqbgi9ay0H",
    "VUC88oWjTJw2"
   ],
   "name": "yandex_music_project_2021.2.ipynb",
   "provenance": []
  },
  "kernelspec": {
   "display_name": "Python 3 (ipykernel)",
   "language": "python",
   "name": "python3"
  },
  "language_info": {
   "codemirror_mode": {
    "name": "ipython",
    "version": 3
   },
   "file_extension": ".py",
   "mimetype": "text/x-python",
   "name": "python",
   "nbconvert_exporter": "python",
   "pygments_lexer": "ipython3",
   "version": "3.9.5"
  },
  "toc": {
   "base_numbering": 1,
   "nav_menu": {},
   "number_sections": true,
   "sideBar": true,
   "skip_h1_title": true,
   "title_cell": "Table of Contents",
   "title_sidebar": "Contents",
   "toc_cell": false,
   "toc_position": {
    "height": "calc(100% - 180px)",
    "left": "10px",
    "top": "150px",
    "width": "165px"
   },
   "toc_section_display": true,
   "toc_window_display": true
  }
 },
 "nbformat": 4,
 "nbformat_minor": 1
}
